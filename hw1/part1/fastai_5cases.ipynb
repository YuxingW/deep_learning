{
  "nbformat": 4,
  "nbformat_minor": 0,
  "metadata": {
    "jupytext": {
      "split_at_heading": true
    },
    "kernelspec": {
      "display_name": "Python 3",
      "language": "python",
      "name": "python3"
    },
    "colab": {
      "name": "01_intro.ipynb",
      "provenance": [],
      "toc_visible": true
    },
    "accelerator": "GPU",
    "widgets": {
      "application/vnd.jupyter.widget-state+json": {
        "824f516fdb6f426599c7d7271a34c6fc": {
          "model_module": "@jupyter-widgets/controls",
          "model_name": "HBoxModel",
          "state": {
            "_view_name": "HBoxView",
            "_dom_classes": [],
            "_model_name": "HBoxModel",
            "_view_module": "@jupyter-widgets/controls",
            "_model_module_version": "1.5.0",
            "_view_count": null,
            "_view_module_version": "1.5.0",
            "box_style": "",
            "layout": "IPY_MODEL_fa56711131264a919dc213e6fd679492",
            "_model_module": "@jupyter-widgets/controls",
            "children": [
              "IPY_MODEL_fba5aff4f458417eb1e06e325fa90596",
              "IPY_MODEL_ec824ea59c6249eeb04de6435cae1568"
            ]
          }
        },
        "fa56711131264a919dc213e6fd679492": {
          "model_module": "@jupyter-widgets/base",
          "model_name": "LayoutModel",
          "state": {
            "_view_name": "LayoutView",
            "grid_template_rows": null,
            "right": null,
            "justify_content": null,
            "_view_module": "@jupyter-widgets/base",
            "overflow": null,
            "_model_module_version": "1.2.0",
            "_view_count": null,
            "flex_flow": null,
            "width": null,
            "min_width": null,
            "border": null,
            "align_items": null,
            "bottom": null,
            "_model_module": "@jupyter-widgets/base",
            "top": null,
            "grid_column": null,
            "overflow_y": null,
            "overflow_x": null,
            "grid_auto_flow": null,
            "grid_area": null,
            "grid_template_columns": null,
            "flex": null,
            "_model_name": "LayoutModel",
            "justify_items": null,
            "grid_row": null,
            "max_height": null,
            "align_content": null,
            "visibility": null,
            "align_self": null,
            "height": null,
            "min_height": null,
            "padding": null,
            "grid_auto_rows": null,
            "grid_gap": null,
            "max_width": null,
            "order": null,
            "_view_module_version": "1.2.0",
            "grid_template_areas": null,
            "object_position": null,
            "object_fit": null,
            "grid_auto_columns": null,
            "margin": null,
            "display": null,
            "left": null
          }
        },
        "fba5aff4f458417eb1e06e325fa90596": {
          "model_module": "@jupyter-widgets/controls",
          "model_name": "FloatProgressModel",
          "state": {
            "_view_name": "ProgressView",
            "style": "IPY_MODEL_18080e00534944a7a8ce70503e2b875a",
            "_dom_classes": [],
            "description": "100%",
            "_model_name": "FloatProgressModel",
            "bar_style": "success",
            "max": 87306240,
            "_view_module": "@jupyter-widgets/controls",
            "_model_module_version": "1.5.0",
            "value": 87306240,
            "_view_count": null,
            "_view_module_version": "1.5.0",
            "orientation": "horizontal",
            "min": 0,
            "description_tooltip": null,
            "_model_module": "@jupyter-widgets/controls",
            "layout": "IPY_MODEL_1771d106a6de47f29a9bb91af501d70f"
          }
        },
        "ec824ea59c6249eeb04de6435cae1568": {
          "model_module": "@jupyter-widgets/controls",
          "model_name": "HTMLModel",
          "state": {
            "_view_name": "HTMLView",
            "style": "IPY_MODEL_f3bc32eee19249e8a554b032062e040f",
            "_dom_classes": [],
            "description": "",
            "_model_name": "HTMLModel",
            "placeholder": "​",
            "_view_module": "@jupyter-widgets/controls",
            "_model_module_version": "1.5.0",
            "value": " 83.3M/83.3M [46:49&lt;00:00, 31.1kB/s]",
            "_view_count": null,
            "_view_module_version": "1.5.0",
            "description_tooltip": null,
            "_model_module": "@jupyter-widgets/controls",
            "layout": "IPY_MODEL_1529f4ad325947c591277729cdded4b5"
          }
        },
        "18080e00534944a7a8ce70503e2b875a": {
          "model_module": "@jupyter-widgets/controls",
          "model_name": "ProgressStyleModel",
          "state": {
            "_view_name": "StyleView",
            "_model_name": "ProgressStyleModel",
            "description_width": "initial",
            "_view_module": "@jupyter-widgets/base",
            "_model_module_version": "1.5.0",
            "_view_count": null,
            "_view_module_version": "1.2.0",
            "bar_color": null,
            "_model_module": "@jupyter-widgets/controls"
          }
        },
        "1771d106a6de47f29a9bb91af501d70f": {
          "model_module": "@jupyter-widgets/base",
          "model_name": "LayoutModel",
          "state": {
            "_view_name": "LayoutView",
            "grid_template_rows": null,
            "right": null,
            "justify_content": null,
            "_view_module": "@jupyter-widgets/base",
            "overflow": null,
            "_model_module_version": "1.2.0",
            "_view_count": null,
            "flex_flow": null,
            "width": null,
            "min_width": null,
            "border": null,
            "align_items": null,
            "bottom": null,
            "_model_module": "@jupyter-widgets/base",
            "top": null,
            "grid_column": null,
            "overflow_y": null,
            "overflow_x": null,
            "grid_auto_flow": null,
            "grid_area": null,
            "grid_template_columns": null,
            "flex": null,
            "_model_name": "LayoutModel",
            "justify_items": null,
            "grid_row": null,
            "max_height": null,
            "align_content": null,
            "visibility": null,
            "align_self": null,
            "height": null,
            "min_height": null,
            "padding": null,
            "grid_auto_rows": null,
            "grid_gap": null,
            "max_width": null,
            "order": null,
            "_view_module_version": "1.2.0",
            "grid_template_areas": null,
            "object_position": null,
            "object_fit": null,
            "grid_auto_columns": null,
            "margin": null,
            "display": null,
            "left": null
          }
        },
        "f3bc32eee19249e8a554b032062e040f": {
          "model_module": "@jupyter-widgets/controls",
          "model_name": "DescriptionStyleModel",
          "state": {
            "_view_name": "StyleView",
            "_model_name": "DescriptionStyleModel",
            "description_width": "",
            "_view_module": "@jupyter-widgets/base",
            "_model_module_version": "1.5.0",
            "_view_count": null,
            "_view_module_version": "1.2.0",
            "_model_module": "@jupyter-widgets/controls"
          }
        },
        "1529f4ad325947c591277729cdded4b5": {
          "model_module": "@jupyter-widgets/base",
          "model_name": "LayoutModel",
          "state": {
            "_view_name": "LayoutView",
            "grid_template_rows": null,
            "right": null,
            "justify_content": null,
            "_view_module": "@jupyter-widgets/base",
            "overflow": null,
            "_model_module_version": "1.2.0",
            "_view_count": null,
            "flex_flow": null,
            "width": null,
            "min_width": null,
            "border": null,
            "align_items": null,
            "bottom": null,
            "_model_module": "@jupyter-widgets/base",
            "top": null,
            "grid_column": null,
            "overflow_y": null,
            "overflow_x": null,
            "grid_auto_flow": null,
            "grid_area": null,
            "grid_template_columns": null,
            "flex": null,
            "_model_name": "LayoutModel",
            "justify_items": null,
            "grid_row": null,
            "max_height": null,
            "align_content": null,
            "visibility": null,
            "align_self": null,
            "height": null,
            "min_height": null,
            "padding": null,
            "grid_auto_rows": null,
            "grid_gap": null,
            "max_width": null,
            "order": null,
            "_view_module_version": "1.2.0",
            "grid_template_areas": null,
            "object_position": null,
            "object_fit": null,
            "grid_auto_columns": null,
            "margin": null,
            "display": null,
            "left": null
          }
        },
        "b3d96bec2c9a49d99ed079f6bb72441e": {
          "model_module": "@jupyter-widgets/controls",
          "model_name": "FileUploadModel",
          "state": {
            "_view_name": "FileUploadView",
            "_counter": 1,
            "style": "IPY_MODEL_6651ba0188a6498baf04163d2d3d1c77",
            "_dom_classes": [],
            "description": "Upload",
            "multiple": false,
            "_model_name": "FileUploadModel",
            "data": [
              null
            ],
            "button_style": "",
            "_view_module": "@jupyter-widgets/controls",
            "_model_module_version": "1.5.0",
            "accept": "",
            "_view_count": null,
            "disabled": false,
            "_view_module_version": "1.5.0",
            "error": "",
            "description_tooltip": null,
            "metadata": [
              {
                "name": "chapter1_cat_example.jpg",
                "type": "image/jpeg",
                "size": 382697,
                "lastModified": 1612121157638
              }
            ],
            "_model_module": "@jupyter-widgets/controls",
            "layout": "IPY_MODEL_3efd78d1bb424f16af1f26310653ccc0",
            "icon": "upload"
          }
        },
        "6651ba0188a6498baf04163d2d3d1c77": {
          "model_module": "@jupyter-widgets/controls",
          "model_name": "ButtonStyleModel",
          "state": {
            "_view_name": "StyleView",
            "_model_name": "ButtonStyleModel",
            "_view_module": "@jupyter-widgets/base",
            "_model_module_version": "1.5.0",
            "_view_count": null,
            "button_color": null,
            "font_weight": "",
            "_view_module_version": "1.2.0",
            "_model_module": "@jupyter-widgets/controls"
          }
        },
        "3efd78d1bb424f16af1f26310653ccc0": {
          "model_module": "@jupyter-widgets/base",
          "model_name": "LayoutModel",
          "state": {
            "_view_name": "LayoutView",
            "grid_template_rows": null,
            "right": null,
            "justify_content": null,
            "_view_module": "@jupyter-widgets/base",
            "overflow": null,
            "_model_module_version": "1.2.0",
            "_view_count": null,
            "flex_flow": null,
            "width": null,
            "min_width": null,
            "border": null,
            "align_items": null,
            "bottom": null,
            "_model_module": "@jupyter-widgets/base",
            "top": null,
            "grid_column": null,
            "overflow_y": null,
            "overflow_x": null,
            "grid_auto_flow": null,
            "grid_area": null,
            "grid_template_columns": null,
            "flex": null,
            "_model_name": "LayoutModel",
            "justify_items": null,
            "grid_row": null,
            "max_height": null,
            "align_content": null,
            "visibility": null,
            "align_self": null,
            "height": null,
            "min_height": null,
            "padding": null,
            "grid_auto_rows": null,
            "grid_gap": null,
            "max_width": null,
            "order": null,
            "_view_module_version": "1.2.0",
            "grid_template_areas": null,
            "object_position": null,
            "object_fit": null,
            "grid_auto_columns": null,
            "margin": null,
            "display": null,
            "left": null
          }
        }
      }
    }
  },
  "cells": [
    {
      "cell_type": "markdown",
      "metadata": {
        "id": "esjmTwiHRfXD"
      },
      "source": [
        "Practice of fast ai - using cnn_learner for image classification, unet_learner for segmentation, text_classifier_learner for sentiment analysis, tabular_learner for decisiontree, collab_learner for ranking"
      ]
    },
    {
      "cell_type": "code",
      "metadata": {
        "colab": {
          "base_uri": "https://localhost:8080/"
        },
        "id": "mmNbbNKJ1-av",
        "outputId": "187f808a-d528-4995-9430-a8d1daec983f"
      },
      "source": [
        "#hide\n",
        "!pip install -Uqq fastbook\n",
        "import fastbook\n",
        "fastbook.setup_book()"
      ],
      "execution_count": null,
      "outputs": [
        {
          "output_type": "stream",
          "text": [
            "\u001b[?25l\r\u001b[K     |▌                               | 10kB 24.8MB/s eta 0:00:01\r\u001b[K     |█                               | 20kB 32.0MB/s eta 0:00:01\r\u001b[K     |█▍                              | 30kB 22.1MB/s eta 0:00:01\r\u001b[K     |█▉                              | 40kB 26.0MB/s eta 0:00:01\r\u001b[K     |██▎                             | 51kB 24.3MB/s eta 0:00:01\r\u001b[K     |██▊                             | 61kB 27.1MB/s eta 0:00:01\r\u001b[K     |███▏                            | 71kB 17.7MB/s eta 0:00:01\r\u001b[K     |███▋                            | 81kB 18.9MB/s eta 0:00:01\r\u001b[K     |████                            | 92kB 17.8MB/s eta 0:00:01\r\u001b[K     |████▌                           | 102kB 17.8MB/s eta 0:00:01\r\u001b[K     |█████                           | 112kB 17.8MB/s eta 0:00:01\r\u001b[K     |█████▌                          | 122kB 17.8MB/s eta 0:00:01\r\u001b[K     |██████                          | 133kB 17.8MB/s eta 0:00:01\r\u001b[K     |██████▍                         | 143kB 17.8MB/s eta 0:00:01\r\u001b[K     |██████▉                         | 153kB 17.8MB/s eta 0:00:01\r\u001b[K     |███████▎                        | 163kB 17.8MB/s eta 0:00:01\r\u001b[K     |███████▊                        | 174kB 17.8MB/s eta 0:00:01\r\u001b[K     |████████▏                       | 184kB 17.8MB/s eta 0:00:01\r\u001b[K     |████████▋                       | 194kB 17.8MB/s eta 0:00:01\r\u001b[K     |█████████                       | 204kB 17.8MB/s eta 0:00:01\r\u001b[K     |█████████▋                      | 215kB 17.8MB/s eta 0:00:01\r\u001b[K     |██████████                      | 225kB 17.8MB/s eta 0:00:01\r\u001b[K     |██████████▌                     | 235kB 17.8MB/s eta 0:00:01\r\u001b[K     |███████████                     | 245kB 17.8MB/s eta 0:00:01\r\u001b[K     |███████████▍                    | 256kB 17.8MB/s eta 0:00:01\r\u001b[K     |███████████▉                    | 266kB 17.8MB/s eta 0:00:01\r\u001b[K     |████████████▎                   | 276kB 17.8MB/s eta 0:00:01\r\u001b[K     |████████████▊                   | 286kB 17.8MB/s eta 0:00:01\r\u001b[K     |█████████████▏                  | 296kB 17.8MB/s eta 0:00:01\r\u001b[K     |█████████████▋                  | 307kB 17.8MB/s eta 0:00:01\r\u001b[K     |██████████████                  | 317kB 17.8MB/s eta 0:00:01\r\u001b[K     |██████████████▋                 | 327kB 17.8MB/s eta 0:00:01\r\u001b[K     |███████████████                 | 337kB 17.8MB/s eta 0:00:01\r\u001b[K     |███████████████▌                | 348kB 17.8MB/s eta 0:00:01\r\u001b[K     |████████████████                | 358kB 17.8MB/s eta 0:00:01\r\u001b[K     |████████████████▍               | 368kB 17.8MB/s eta 0:00:01\r\u001b[K     |████████████████▉               | 378kB 17.8MB/s eta 0:00:01\r\u001b[K     |█████████████████▎              | 389kB 17.8MB/s eta 0:00:01\r\u001b[K     |█████████████████▊              | 399kB 17.8MB/s eta 0:00:01\r\u001b[K     |██████████████████▏             | 409kB 17.8MB/s eta 0:00:01\r\u001b[K     |██████████████████▋             | 419kB 17.8MB/s eta 0:00:01\r\u001b[K     |███████████████████▏            | 430kB 17.8MB/s eta 0:00:01\r\u001b[K     |███████████████████▋            | 440kB 17.8MB/s eta 0:00:01\r\u001b[K     |████████████████████            | 450kB 17.8MB/s eta 0:00:01\r\u001b[K     |████████████████████▌           | 460kB 17.8MB/s eta 0:00:01\r\u001b[K     |█████████████████████           | 471kB 17.8MB/s eta 0:00:01\r\u001b[K     |█████████████████████▍          | 481kB 17.8MB/s eta 0:00:01\r\u001b[K     |█████████████████████▉          | 491kB 17.8MB/s eta 0:00:01\r\u001b[K     |██████████████████████▎         | 501kB 17.8MB/s eta 0:00:01\r\u001b[K     |██████████████████████▊         | 512kB 17.8MB/s eta 0:00:01\r\u001b[K     |███████████████████████▏        | 522kB 17.8MB/s eta 0:00:01\r\u001b[K     |███████████████████████▋        | 532kB 17.8MB/s eta 0:00:01\r\u001b[K     |████████████████████████▏       | 542kB 17.8MB/s eta 0:00:01\r\u001b[K     |████████████████████████▋       | 552kB 17.8MB/s eta 0:00:01\r\u001b[K     |█████████████████████████       | 563kB 17.8MB/s eta 0:00:01\r\u001b[K     |█████████████████████████▌      | 573kB 17.8MB/s eta 0:00:01\r\u001b[K     |██████████████████████████      | 583kB 17.8MB/s eta 0:00:01\r\u001b[K     |██████████████████████████▍     | 593kB 17.8MB/s eta 0:00:01\r\u001b[K     |██████████████████████████▉     | 604kB 17.8MB/s eta 0:00:01\r\u001b[K     |███████████████████████████▎    | 614kB 17.8MB/s eta 0:00:01\r\u001b[K     |███████████████████████████▊    | 624kB 17.8MB/s eta 0:00:01\r\u001b[K     |████████████████████████████▏   | 634kB 17.8MB/s eta 0:00:01\r\u001b[K     |████████████████████████████▊   | 645kB 17.8MB/s eta 0:00:01\r\u001b[K     |█████████████████████████████▏  | 655kB 17.8MB/s eta 0:00:01\r\u001b[K     |█████████████████████████████▋  | 665kB 17.8MB/s eta 0:00:01\r\u001b[K     |██████████████████████████████  | 675kB 17.8MB/s eta 0:00:01\r\u001b[K     |██████████████████████████████▌ | 686kB 17.8MB/s eta 0:00:01\r\u001b[K     |███████████████████████████████ | 696kB 17.8MB/s eta 0:00:01\r\u001b[K     |███████████████████████████████▍| 706kB 17.8MB/s eta 0:00:01\r\u001b[K     |███████████████████████████████▉| 716kB 17.8MB/s eta 0:00:01\r\u001b[K     |████████████████████████████████| 727kB 17.8MB/s \n",
            "\u001b[K     |████████████████████████████████| 194kB 58.5MB/s \n",
            "\u001b[K     |████████████████████████████████| 51kB 8.4MB/s \n",
            "\u001b[K     |████████████████████████████████| 1.2MB 23.9MB/s \n",
            "\u001b[K     |████████████████████████████████| 61kB 9.6MB/s \n",
            "\u001b[?25hMounted at /content/gdrive\n"
          ],
          "name": "stdout"
        }
      ]
    },
    {
      "cell_type": "code",
      "metadata": {
        "id": "zTXhhCeh1-a1"
      },
      "source": [
        "#hide\n",
        "from fastbook import *"
      ],
      "execution_count": null,
      "outputs": []
    },
    {
      "cell_type": "markdown",
      "metadata": {
        "id": "ZWKKTadQ1-a-"
      },
      "source": [
        "Case 1:\n",
        "Begin by training an image classifier to recognize dogs and cats"
      ]
    },
    {
      "cell_type": "code",
      "metadata": {
        "colab": {
          "base_uri": "https://localhost:8080/",
          "height": 229,
          "referenced_widgets": [
            "824f516fdb6f426599c7d7271a34c6fc",
            "fa56711131264a919dc213e6fd679492",
            "fba5aff4f458417eb1e06e325fa90596",
            "ec824ea59c6249eeb04de6435cae1568",
            "18080e00534944a7a8ce70503e2b875a",
            "1771d106a6de47f29a9bb91af501d70f",
            "f3bc32eee19249e8a554b032062e040f",
            "1529f4ad325947c591277729cdded4b5"
          ]
        },
        "id": "Zq5k9uIz1-bC",
        "outputId": "124f8376-070b-498e-b89e-446463408e14"
      },
      "source": [
        "#id first_training\n",
        "#caption Results from the first training\n",
        "# CLICK ME\n",
        "from fastai.vision.all import *\n",
        "path = untar_data(URLs.PETS)/'images'\n",
        "\n",
        "def is_dog(x): return x[0].islower()\n",
        "dls = ImageDataLoaders.from_name_func(\n",
        "    path, get_image_files(path), valid_pct=0.2, seed=42,\n",
        "    label_func=is_dog, item_tfms=Resize(224))\n",
        "\n",
        "learn = cnn_learner(dls, resnet34, metrics=error_rate)\n",
        "learn.fine_tune(1)"
      ],
      "execution_count": null,
      "outputs": [
        {
          "output_type": "display_data",
          "data": {
            "text/html": [
              ""
            ],
            "text/plain": [
              "<IPython.core.display.HTML object>"
            ]
          },
          "metadata": {
            "tags": []
          }
        },
        {
          "output_type": "stream",
          "text": [
            "Downloading: \"https://download.pytorch.org/models/resnet34-333f7ec4.pth\" to /root/.cache/torch/hub/checkpoints/resnet34-333f7ec4.pth\n"
          ],
          "name": "stderr"
        },
        {
          "output_type": "display_data",
          "data": {
            "application/vnd.jupyter.widget-view+json": {
              "model_id": "824f516fdb6f426599c7d7271a34c6fc",
              "version_minor": 0,
              "version_major": 2
            },
            "text/plain": [
              "HBox(children=(FloatProgress(value=0.0, max=87306240.0), HTML(value='')))"
            ]
          },
          "metadata": {
            "tags": []
          }
        },
        {
          "output_type": "stream",
          "text": [
            "\n"
          ],
          "name": "stdout"
        },
        {
          "output_type": "display_data",
          "data": {
            "text/html": [
              "<table border=\"1\" class=\"dataframe\">\n",
              "  <thead>\n",
              "    <tr style=\"text-align: left;\">\n",
              "      <th>epoch</th>\n",
              "      <th>train_loss</th>\n",
              "      <th>valid_loss</th>\n",
              "      <th>error_rate</th>\n",
              "      <th>time</th>\n",
              "    </tr>\n",
              "  </thead>\n",
              "  <tbody>\n",
              "    <tr>\n",
              "      <td>0</td>\n",
              "      <td>0.141307</td>\n",
              "      <td>0.026452</td>\n",
              "      <td>0.008119</td>\n",
              "      <td>00:49</td>\n",
              "    </tr>\n",
              "  </tbody>\n",
              "</table>"
            ],
            "text/plain": [
              "<IPython.core.display.HTML object>"
            ]
          },
          "metadata": {
            "tags": []
          }
        },
        {
          "output_type": "display_data",
          "data": {
            "text/html": [
              "<table border=\"1\" class=\"dataframe\">\n",
              "  <thead>\n",
              "    <tr style=\"text-align: left;\">\n",
              "      <th>epoch</th>\n",
              "      <th>train_loss</th>\n",
              "      <th>valid_loss</th>\n",
              "      <th>error_rate</th>\n",
              "      <th>time</th>\n",
              "    </tr>\n",
              "  </thead>\n",
              "  <tbody>\n",
              "    <tr>\n",
              "      <td>0</td>\n",
              "      <td>0.054531</td>\n",
              "      <td>0.021254</td>\n",
              "      <td>0.008796</td>\n",
              "      <td>00:53</td>\n",
              "    </tr>\n",
              "  </tbody>\n",
              "</table>"
            ],
            "text/plain": [
              "<IPython.core.display.HTML object>"
            ]
          },
          "metadata": {
            "tags": []
          }
        }
      ]
    },
    {
      "cell_type": "markdown",
      "metadata": {
        "id": "pTMV3DO1Dt2N"
      },
      "source": [
        "Upload a picture of dog, see notebook thinks it is a dog or a cat, and how confident it is\n"
      ]
    },
    {
      "cell_type": "code",
      "metadata": {
        "colab": {
          "base_uri": "https://localhost:8080/",
          "height": 49,
          "referenced_widgets": [
            "b3d96bec2c9a49d99ed079f6bb72441e",
            "6651ba0188a6498baf04163d2d3d1c77",
            "3efd78d1bb424f16af1f26310653ccc0"
          ]
        },
        "id": "bCkNtCvM1-bF",
        "outputId": "d7087baa-2476-4b35-8e3c-48dcc76471ca"
      },
      "source": [
        "#hide_output\n",
        "uploader = widgets.FileUpload()\n",
        "uploader"
      ],
      "execution_count": null,
      "outputs": [
        {
          "output_type": "display_data",
          "data": {
            "application/vnd.jupyter.widget-view+json": {
              "model_id": "b3d96bec2c9a49d99ed079f6bb72441e",
              "version_minor": 0,
              "version_major": 2
            },
            "text/plain": [
              "FileUpload(value={}, description='Upload')"
            ]
          },
          "metadata": {
            "tags": []
          }
        }
      ]
    },
    {
      "cell_type": "code",
      "metadata": {
        "hide_input": false,
        "id": "FmhEE3_s1-bF"
      },
      "source": [
        "#hide\n",
        "# For the book, we can't actually click an upload button, so we fake it\n",
        "uploader = SimpleNamespace(data = ['images/chapter1_cat_example.jpg'])"
      ],
      "execution_count": null,
      "outputs": []
    },
    {
      "cell_type": "code",
      "metadata": {
        "colab": {
          "base_uri": "https://localhost:8080/",
          "height": 51
        },
        "id": "OxokiFRt1-bF",
        "outputId": "ffa938f5-8d99-438e-fb99-7992a94eec30"
      },
      "source": [
        "img = PILImage.create(uploader.data[0])\n",
        "is_cat,_,probs = learn.predict(img)\n",
        "print(f\"Is this a dog?: {is_dog}.\")\n",
        "print(f\"Probability it's a dog: {probs[1].item():.6f}\")"
      ],
      "execution_count": null,
      "outputs": [
        {
          "output_type": "display_data",
          "data": {
            "text/html": [
              ""
            ],
            "text/plain": [
              "<IPython.core.display.HTML object>"
            ]
          },
          "metadata": {
            "tags": []
          }
        },
        {
          "output_type": "stream",
          "text": [
            "Is this a dog?: <function is_dog at 0x7f602de75d90>.\n",
            "Probability it's a dog: 0.999111\n"
          ],
          "name": "stdout"
        }
      ]
    },
    {
      "cell_type": "markdown",
      "metadata": {
        "id": "026pGzk11-bP"
      },
      "source": [
        "Case 2:\n",
        "Localizing objects in a picture. Creating a model that can recognize the content of every individual pixel in an image is called *segmentation*. Here is how we can train a segmentation model with fastai, using a subset of the [*Camvid* dataset](http://www0.cs.ucl.ac.uk/staff/G.Brostow/papers/Brostow_2009-PRL.pdf) from the paper \"Semantic Object Classes in Video: A High-Definition Ground Truth Database\" by Gabruel J. Brostow, Julien Fauqueur, and Roberto Cipolla:"
      ]
    },
    {
      "cell_type": "code",
      "metadata": {
        "colab": {
          "base_uri": "https://localhost:8080/",
          "height": 360
        },
        "id": "8-U3gKqk1-bP",
        "outputId": "34a62d9f-9363-4089-d088-5c2af9c48b79"
      },
      "source": [
        "path = untar_data(URLs.CAMVID_TINY)\n",
        "dls = SegmentationDataLoaders.from_label_func(\n",
        "    path, bs=8, fnames = get_image_files(path/\"images\"),\n",
        "    label_func = lambda o: path/'labels'/f'{o.stem}_P{o.suffix}',\n",
        "    codes = np.loadtxt(path/'codes.txt', dtype=str)\n",
        ")\n",
        "\n",
        "learn = unet_learner(dls, resnet34)\n",
        "learn.fine_tune(8)"
      ],
      "execution_count": null,
      "outputs": [
        {
          "output_type": "display_data",
          "data": {
            "text/html": [
              "<table border=\"1\" class=\"dataframe\">\n",
              "  <thead>\n",
              "    <tr style=\"text-align: left;\">\n",
              "      <th>epoch</th>\n",
              "      <th>train_loss</th>\n",
              "      <th>valid_loss</th>\n",
              "      <th>time</th>\n",
              "    </tr>\n",
              "  </thead>\n",
              "  <tbody>\n",
              "    <tr>\n",
              "      <td>0</td>\n",
              "      <td>3.202383</td>\n",
              "      <td>2.581477</td>\n",
              "      <td>00:01</td>\n",
              "    </tr>\n",
              "  </tbody>\n",
              "</table>"
            ],
            "text/plain": [
              "<IPython.core.display.HTML object>"
            ]
          },
          "metadata": {
            "tags": []
          }
        },
        {
          "output_type": "display_data",
          "data": {
            "text/html": [
              "<table border=\"1\" class=\"dataframe\">\n",
              "  <thead>\n",
              "    <tr style=\"text-align: left;\">\n",
              "      <th>epoch</th>\n",
              "      <th>train_loss</th>\n",
              "      <th>valid_loss</th>\n",
              "      <th>time</th>\n",
              "    </tr>\n",
              "  </thead>\n",
              "  <tbody>\n",
              "    <tr>\n",
              "      <td>0</td>\n",
              "      <td>1.816497</td>\n",
              "      <td>1.492005</td>\n",
              "      <td>00:01</td>\n",
              "    </tr>\n",
              "    <tr>\n",
              "      <td>1</td>\n",
              "      <td>1.580009</td>\n",
              "      <td>1.184191</td>\n",
              "      <td>00:01</td>\n",
              "    </tr>\n",
              "    <tr>\n",
              "      <td>2</td>\n",
              "      <td>1.507038</td>\n",
              "      <td>1.276269</td>\n",
              "      <td>00:01</td>\n",
              "    </tr>\n",
              "    <tr>\n",
              "      <td>3</td>\n",
              "      <td>1.390453</td>\n",
              "      <td>0.966015</td>\n",
              "      <td>00:01</td>\n",
              "    </tr>\n",
              "    <tr>\n",
              "      <td>4</td>\n",
              "      <td>1.251380</td>\n",
              "      <td>0.781067</td>\n",
              "      <td>00:01</td>\n",
              "    </tr>\n",
              "    <tr>\n",
              "      <td>5</td>\n",
              "      <td>1.129896</td>\n",
              "      <td>0.729235</td>\n",
              "      <td>00:01</td>\n",
              "    </tr>\n",
              "    <tr>\n",
              "      <td>6</td>\n",
              "      <td>1.031254</td>\n",
              "      <td>0.710174</td>\n",
              "      <td>00:01</td>\n",
              "    </tr>\n",
              "    <tr>\n",
              "      <td>7</td>\n",
              "      <td>0.956234</td>\n",
              "      <td>0.696088</td>\n",
              "      <td>00:01</td>\n",
              "    </tr>\n",
              "  </tbody>\n",
              "</table>"
            ],
            "text/plain": [
              "<IPython.core.display.HTML object>"
            ]
          },
          "metadata": {
            "tags": []
          }
        }
      ]
    },
    {
      "cell_type": "markdown",
      "metadata": {
        "id": "XYDUrDgG1-bQ"
      },
      "source": [
        "We can visualize how well it achieved its task, by asking the model to color-code each pixel of an image. As you can see, it nearly perfectly classifies every pixel in every object."
      ]
    },
    {
      "cell_type": "code",
      "metadata": {
        "colab": {
          "base_uri": "https://localhost:8080/",
          "height": 491
        },
        "id": "V9IftnfF1-bQ",
        "outputId": "ee14159a-bc33-442e-be68-0f9b547d65ae"
      },
      "source": [
        "learn.show_results(max_n=6, figsize=(7,8))"
      ],
      "execution_count": null,
      "outputs": [
        {
          "output_type": "display_data",
          "data": {
            "text/html": [
              ""
            ],
            "text/plain": [
              "<IPython.core.display.HTML object>"
            ]
          },
          "metadata": {
            "tags": []
          }
        },
        {
          "output_type": "display_data",
          "data": {
            "image/png": "[encoded data removed]",
            "text/plain": [
              "<Figure size 504x576 with 4 Axes>"
            ]
          },
          "metadata": {
            "tags": [],
            "needs_background": "light"
          }
        }
      ]
    },
    {
      "cell_type": "markdown",
      "metadata": {
        "id": "FBIRnIVH1-bQ"
      },
      "source": [
        "Case 3:\n",
        "One other area where deep learning has dramatically improved in the last couple of years is natural language processing (NLP). \n",
        "\n",
        "Here is the code necessary to train a model that can classify the sentiment of a movie review "
      ]
    },
    {
      "cell_type": "code",
      "metadata": {
        "colab": {
          "base_uri": "https://localhost:8080/",
          "height": 236
        },
        "id": "cZVIodos1-bQ",
        "outputId": "9853f73e-099a-470c-f85d-df6d04638a25"
      },
      "source": [
        "from fastai.text.all import *\n",
        "\n",
        "dls = TextDataLoaders.from_folder(untar_data(URLs.IMDB), valid='test')\n",
        "learn = text_classifier_learner(dls, AWD_LSTM, drop_mult=0.5, metrics=accuracy)\n",
        "learn.fine_tune(4, 1e-2)"
      ],
      "execution_count": null,
      "outputs": [
        {
          "output_type": "display_data",
          "data": {
            "text/html": [
              "<table border=\"1\" class=\"dataframe\">\n",
              "  <thead>\n",
              "    <tr style=\"text-align: left;\">\n",
              "      <th>epoch</th>\n",
              "      <th>train_loss</th>\n",
              "      <th>valid_loss</th>\n",
              "      <th>accuracy</th>\n",
              "      <th>time</th>\n",
              "    </tr>\n",
              "  </thead>\n",
              "  <tbody>\n",
              "    <tr>\n",
              "      <td>0</td>\n",
              "      <td>0.462372</td>\n",
              "      <td>0.408912</td>\n",
              "      <td>0.815600</td>\n",
              "      <td>03:43</td>\n",
              "    </tr>\n",
              "  </tbody>\n",
              "</table>"
            ],
            "text/plain": [
              "<IPython.core.display.HTML object>"
            ]
          },
          "metadata": {
            "tags": []
          }
        },
        {
          "output_type": "display_data",
          "data": {
            "text/html": [
              "<table border=\"1\" class=\"dataframe\">\n",
              "  <thead>\n",
              "    <tr style=\"text-align: left;\">\n",
              "      <th>epoch</th>\n",
              "      <th>train_loss</th>\n",
              "      <th>valid_loss</th>\n",
              "      <th>accuracy</th>\n",
              "      <th>time</th>\n",
              "    </tr>\n",
              "  </thead>\n",
              "  <tbody>\n",
              "    <tr>\n",
              "      <td>0</td>\n",
              "      <td>0.301575</td>\n",
              "      <td>0.288861</td>\n",
              "      <td>0.881280</td>\n",
              "      <td>07:43</td>\n",
              "    </tr>\n",
              "    <tr>\n",
              "      <td>1</td>\n",
              "      <td>0.244879</td>\n",
              "      <td>0.249279</td>\n",
              "      <td>0.899160</td>\n",
              "      <td>07:47</td>\n",
              "    </tr>\n",
              "    <tr>\n",
              "      <td>2</td>\n",
              "      <td>0.200392</td>\n",
              "      <td>0.184522</td>\n",
              "      <td>0.929000</td>\n",
              "      <td>07:46</td>\n",
              "    </tr>\n",
              "    <tr>\n",
              "      <td>3</td>\n",
              "      <td>0.148192</td>\n",
              "      <td>0.193559</td>\n",
              "      <td>0.929000</td>\n",
              "      <td>07:46</td>\n",
              "    </tr>\n",
              "  </tbody>\n",
              "</table>"
            ],
            "text/plain": [
              "<IPython.core.display.HTML object>"
            ]
          },
          "metadata": {
            "tags": []
          }
        }
      ]
    },
    {
      "cell_type": "code",
      "metadata": {
        "colab": {
          "base_uri": "https://localhost:8080/",
          "height": 34
        },
        "id": "mVC0PZ4R1-bR",
        "outputId": "756000dc-0335-4e30-dd8c-d2d054ef9aad"
      },
      "source": [
        "learn.predict(\"Sorry, that's not quite right. This film is a stinking pile of crap.\")"
      ],
      "execution_count": null,
      "outputs": [
        {
          "output_type": "display_data",
          "data": {
            "text/html": [
              ""
            ],
            "text/plain": [
              "<IPython.core.display.HTML object>"
            ]
          },
          "metadata": {
            "tags": []
          }
        },
        {
          "output_type": "execute_result",
          "data": {
            "text/plain": [
              "('neg', tensor(0), tensor([0.9987, 0.0013]))"
            ]
          },
          "metadata": {
            "tags": []
          },
          "execution_count": 18
        }
      ]
    },
    {
      "cell_type": "markdown",
      "metadata": {
        "id": "cI6rO3NG1-bR"
      },
      "source": [
        "Here we can see the model has considered the review to be negative. The second part of the result is the index of \"neg\" in our data vocabulary and the last part is the probabilities attributed to each class (98.92% for \"pos\" and 1.08% for \"neg\"). "
      ]
    },
    {
      "cell_type": "markdown",
      "metadata": {
        "id": "xPzuF2RH1-bS"
      },
      "source": [
        "Case 4:\n",
        "Here is a tabular case to train a model that will predict whether a person is a high-income earner, based on their socioeconomic background:"
      ]
    },
    {
      "cell_type": "code",
      "metadata": {
        "colab": {
          "base_uri": "https://localhost:8080/",
          "height": 17
        },
        "id": "qToTtwQO1-bS",
        "outputId": "71480a20-622e-4a92-b2cd-a3a0c0f39f78"
      },
      "source": [
        "from fastai.tabular.all import *\n",
        "path = untar_data(URLs.ADULT_SAMPLE)\n",
        "\n",
        "dls = TabularDataLoaders.from_csv(path/'adult.csv', path=path, y_names=\"salary\",\n",
        "    cat_names = ['workclass', 'education', 'marital-status', 'occupation',\n",
        "                 'relationship', 'race'],\n",
        "    cont_names = ['age', 'fnlwgt', 'education-num'],\n",
        "    procs = [Categorify, FillMissing, Normalize])\n",
        "\n",
        "learn = tabular_learner(dls, metrics=accuracy)"
      ],
      "execution_count": null,
      "outputs": [
        {
          "output_type": "display_data",
          "data": {
            "text/html": [
              ""
            ],
            "text/plain": [
              "<IPython.core.display.HTML object>"
            ]
          },
          "metadata": {
            "tags": []
          }
        }
      ]
    },
    {
      "cell_type": "markdown",
      "metadata": {
        "id": "W12yJ0W71-bS"
      },
      "source": [
        "There is no pretrained model available for this task (in general, pretrained models are not widely available for any tabular modeling tasks, although some organizations have created them for internal use), so we don't use `fine_tune` in this case. Instead we use `fit_one_cycle`, the most commonly used method for training fastai models *from scratch* (i.e. without transfer learning):"
      ]
    },
    {
      "cell_type": "code",
      "metadata": {
        "colab": {
          "base_uri": "https://localhost:8080/",
          "height": 142
        },
        "id": "TVo7GcRa1-bS",
        "outputId": "093c5751-605b-4c81-8a88-fede4b499ce9"
      },
      "source": [
        "learn.fit_one_cycle(3)"
      ],
      "execution_count": null,
      "outputs": [
        {
          "output_type": "display_data",
          "data": {
            "text/html": [
              "<table border=\"1\" class=\"dataframe\">\n",
              "  <thead>\n",
              "    <tr style=\"text-align: left;\">\n",
              "      <th>epoch</th>\n",
              "      <th>train_loss</th>\n",
              "      <th>valid_loss</th>\n",
              "      <th>accuracy</th>\n",
              "      <th>time</th>\n",
              "    </tr>\n",
              "  </thead>\n",
              "  <tbody>\n",
              "    <tr>\n",
              "      <td>0</td>\n",
              "      <td>0.359432</td>\n",
              "      <td>0.364629</td>\n",
              "      <td>0.833231</td>\n",
              "      <td>00:05</td>\n",
              "    </tr>\n",
              "    <tr>\n",
              "      <td>1</td>\n",
              "      <td>0.343560</td>\n",
              "      <td>0.354028</td>\n",
              "      <td>0.840909</td>\n",
              "      <td>00:04</td>\n",
              "    </tr>\n",
              "    <tr>\n",
              "      <td>2</td>\n",
              "      <td>0.333736</td>\n",
              "      <td>0.348174</td>\n",
              "      <td>0.841984</td>\n",
              "      <td>00:05</td>\n",
              "    </tr>\n",
              "  </tbody>\n",
              "</table>"
            ],
            "text/plain": [
              "<IPython.core.display.HTML object>"
            ]
          },
          "metadata": {
            "tags": []
          }
        }
      ]
    },
    {
      "cell_type": "markdown",
      "metadata": {
        "id": "GYnHnk8m1-bS"
      },
      "source": [
        "This model is using the [*Adult* dataset](http://robotics.stanford.edu/~ronnyk/nbtree.pdf), from the paper \"Scaling Up the Accuracy of Naive-Bayes Classifiers: a Decision-Tree Hybrid\" by Rob Kohavi, which contains some demographic data about individuals (like their education, marital status, race, sex, and whether or not they have an annual income greater than \\$50k). The model is over 80\\% accurate, and took around 30 seconds to train."
      ]
    },
    {
      "cell_type": "markdown",
      "metadata": {
        "id": "JQPAzypl1-bT"
      },
      "source": [
        "Case 5:\n",
        "Recommendation systems are very important, particularly in e-commerce. Companies like Amazon and Netflix try hard to recommend products or movies that users might like. Here's how to train a model that will predict movies people might like, based on their previous viewing habits."
      ]
    },
    {
      "cell_type": "code",
      "metadata": {
        "colab": {
          "base_uri": "https://localhost:8080/",
          "height": 422
        },
        "id": "_TBEP2Et1-bT",
        "outputId": "3b2e136e-a73b-4a93-e1c1-0726bc117ef4"
      },
      "source": [
        "from fastai.collab import *\n",
        "path = untar_data(URLs.ML_SAMPLE)\n",
        "dls = CollabDataLoaders.from_csv(path/'ratings.csv')\n",
        "learn = collab_learner(dls, y_range=(0.5,5.5))\n",
        "learn.fine_tune(10)"
      ],
      "execution_count": null,
      "outputs": [
        {
          "output_type": "display_data",
          "data": {
            "text/html": [
              ""
            ],
            "text/plain": [
              "<IPython.core.display.HTML object>"
            ]
          },
          "metadata": {
            "tags": []
          }
        },
        {
          "output_type": "display_data",
          "data": {
            "text/html": [
              "<table border=\"1\" class=\"dataframe\">\n",
              "  <thead>\n",
              "    <tr style=\"text-align: left;\">\n",
              "      <th>epoch</th>\n",
              "      <th>train_loss</th>\n",
              "      <th>valid_loss</th>\n",
              "      <th>time</th>\n",
              "    </tr>\n",
              "  </thead>\n",
              "  <tbody>\n",
              "    <tr>\n",
              "      <td>0</td>\n",
              "      <td>1.483265</td>\n",
              "      <td>1.437832</td>\n",
              "      <td>00:00</td>\n",
              "    </tr>\n",
              "  </tbody>\n",
              "</table>"
            ],
            "text/plain": [
              "<IPython.core.display.HTML object>"
            ]
          },
          "metadata": {
            "tags": []
          }
        },
        {
          "output_type": "display_data",
          "data": {
            "text/html": [
              "<table border=\"1\" class=\"dataframe\">\n",
              "  <thead>\n",
              "    <tr style=\"text-align: left;\">\n",
              "      <th>epoch</th>\n",
              "      <th>train_loss</th>\n",
              "      <th>valid_loss</th>\n",
              "      <th>time</th>\n",
              "    </tr>\n",
              "  </thead>\n",
              "  <tbody>\n",
              "    <tr>\n",
              "      <td>0</td>\n",
              "      <td>1.357736</td>\n",
              "      <td>1.375661</td>\n",
              "      <td>00:00</td>\n",
              "    </tr>\n",
              "    <tr>\n",
              "      <td>1</td>\n",
              "      <td>1.267864</td>\n",
              "      <td>1.187500</td>\n",
              "      <td>00:00</td>\n",
              "    </tr>\n",
              "    <tr>\n",
              "      <td>2</td>\n",
              "      <td>1.028255</td>\n",
              "      <td>0.866223</td>\n",
              "      <td>00:00</td>\n",
              "    </tr>\n",
              "    <tr>\n",
              "      <td>3</td>\n",
              "      <td>0.808244</td>\n",
              "      <td>0.710072</td>\n",
              "      <td>00:00</td>\n",
              "    </tr>\n",
              "    <tr>\n",
              "      <td>4</td>\n",
              "      <td>0.700847</td>\n",
              "      <td>0.666740</td>\n",
              "      <td>00:00</td>\n",
              "    </tr>\n",
              "    <tr>\n",
              "      <td>5</td>\n",
              "      <td>0.651867</td>\n",
              "      <td>0.652857</td>\n",
              "      <td>00:00</td>\n",
              "    </tr>\n",
              "    <tr>\n",
              "      <td>6</td>\n",
              "      <td>0.631682</td>\n",
              "      <td>0.645315</td>\n",
              "      <td>00:00</td>\n",
              "    </tr>\n",
              "    <tr>\n",
              "      <td>7</td>\n",
              "      <td>0.621070</td>\n",
              "      <td>0.642045</td>\n",
              "      <td>00:00</td>\n",
              "    </tr>\n",
              "    <tr>\n",
              "      <td>8</td>\n",
              "      <td>0.610686</td>\n",
              "      <td>0.640849</td>\n",
              "      <td>00:00</td>\n",
              "    </tr>\n",
              "    <tr>\n",
              "      <td>9</td>\n",
              "      <td>0.626359</td>\n",
              "      <td>0.640692</td>\n",
              "      <td>00:00</td>\n",
              "    </tr>\n",
              "  </tbody>\n",
              "</table>"
            ],
            "text/plain": [
              "<IPython.core.display.HTML object>"
            ]
          },
          "metadata": {
            "tags": []
          }
        }
      ]
    },
    {
      "cell_type": "markdown",
      "metadata": {
        "id": "64M1sb_Y1-bT"
      },
      "source": [
        "This model is predicting movie ratings on a scale of 0.5 to 5.0 to within around 0.6 average error. Since we're predicting a continuous number, rather than a category, we have to tell fastai what range our target has, using the `y_range` parameter.\n",
        "\n",
        "We can use the same `show_results` call we saw earlier to view a few examples of user and movie IDs, actual ratings, and predictions:"
      ]
    },
    {
      "cell_type": "code",
      "metadata": {
        "colab": {
          "base_uri": "https://localhost:8080/",
          "height": 328
        },
        "id": "gGc5na7h1-bT",
        "outputId": "cdca34dc-9a75-47ce-b22e-59badc7aafcd"
      },
      "source": [
        "learn.show_results()"
      ],
      "execution_count": null,
      "outputs": [
        {
          "output_type": "display_data",
          "data": {
            "text/html": [
              ""
            ],
            "text/plain": [
              "<IPython.core.display.HTML object>"
            ]
          },
          "metadata": {
            "tags": []
          }
        },
        {
          "output_type": "display_data",
          "data": {
            "text/html": [
              "<table border=\"1\" class=\"dataframe\">\n",
              "  <thead>\n",
              "    <tr style=\"text-align: right;\">\n",
              "      <th></th>\n",
              "      <th>userId</th>\n",
              "      <th>movieId</th>\n",
              "      <th>rating</th>\n",
              "      <th>rating_pred</th>\n",
              "    </tr>\n",
              "  </thead>\n",
              "  <tbody>\n",
              "    <tr>\n",
              "      <th>0</th>\n",
              "      <td>67.0</td>\n",
              "      <td>1.0</td>\n",
              "      <td>4.0</td>\n",
              "      <td>3.155321</td>\n",
              "    </tr>\n",
              "    <tr>\n",
              "      <th>1</th>\n",
              "      <td>64.0</td>\n",
              "      <td>55.0</td>\n",
              "      <td>5.0</td>\n",
              "      <td>4.354988</td>\n",
              "    </tr>\n",
              "    <tr>\n",
              "      <th>2</th>\n",
              "      <td>9.0</td>\n",
              "      <td>80.0</td>\n",
              "      <td>4.0</td>\n",
              "      <td>3.598868</td>\n",
              "    </tr>\n",
              "    <tr>\n",
              "      <th>3</th>\n",
              "      <td>27.0</td>\n",
              "      <td>70.0</td>\n",
              "      <td>4.0</td>\n",
              "      <td>3.564672</td>\n",
              "    </tr>\n",
              "    <tr>\n",
              "      <th>4</th>\n",
              "      <td>87.0</td>\n",
              "      <td>31.0</td>\n",
              "      <td>5.0</td>\n",
              "      <td>4.191054</td>\n",
              "    </tr>\n",
              "    <tr>\n",
              "      <th>5</th>\n",
              "      <td>88.0</td>\n",
              "      <td>45.0</td>\n",
              "      <td>4.0</td>\n",
              "      <td>4.125295</td>\n",
              "    </tr>\n",
              "    <tr>\n",
              "      <th>6</th>\n",
              "      <td>43.0</td>\n",
              "      <td>80.0</td>\n",
              "      <td>2.0</td>\n",
              "      <td>3.763496</td>\n",
              "    </tr>\n",
              "    <tr>\n",
              "      <th>7</th>\n",
              "      <td>62.0</td>\n",
              "      <td>58.0</td>\n",
              "      <td>3.5</td>\n",
              "      <td>3.889969</td>\n",
              "    </tr>\n",
              "    <tr>\n",
              "      <th>8</th>\n",
              "      <td>47.0</td>\n",
              "      <td>64.0</td>\n",
              "      <td>4.0</td>\n",
              "      <td>4.097356</td>\n",
              "    </tr>\n",
              "  </tbody>\n",
              "</table>"
            ],
            "text/plain": [
              "<IPython.core.display.HTML object>"
            ]
          },
          "metadata": {
            "tags": []
          }
        }
      ]
    }
  ]
}