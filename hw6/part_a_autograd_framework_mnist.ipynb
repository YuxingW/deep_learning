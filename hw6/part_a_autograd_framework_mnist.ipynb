{
  "nbformat": 4,
  "nbformat_minor": 0,
  "metadata": {
    "colab": {
      "name": "Copy of part_a_autograd_framework_mnist.ipynb",
      "provenance": [],
      "collapsed_sections": [],
      "toc_visible": true,
      "include_colab_link": true
    },
    "kernelspec": {
      "name": "python3",
      "display_name": "Python 3"
    },
    "language_info": {
      "name": "python"
    },
    "accelerator": "GPU"
  },
  "cells": [
    {
      "cell_type": "markdown",
      "metadata": {
        "id": "view-in-github",
        "colab_type": "text"
      },
      "source": [
        "<a href=\"https://colab.research.google.com/github/YuxingW/deep_learning/blob/main/hw6/part_a_autograd_framework_mnist.ipynb\" target=\"_parent\"><img src=\"https://colab.research.google.com/assets/colab-badge.svg\" alt=\"Open In Colab\"/></a>"
      ]
    },
    {
      "cell_type": "markdown",
      "metadata": {
        "id": "rMlBibw0CbyV"
      },
      "source": [
        "##Define tensor class with operations"
      ]
    },
    {
      "cell_type": "code",
      "metadata": {
        "id": "_Z_2XsXFCbJr"
      },
      "source": [
        "import numpy as np\n",
        "\n",
        "class Tensor (object):\n",
        "    \n",
        "    def __init__(self,data,\n",
        "                 autograd=False,\n",
        "                 creators=None,\n",
        "                 creation_op=None,\n",
        "                 id=None):\n",
        "        \n",
        "        self.data = np.array(data)\n",
        "        self.autograd = autograd\n",
        "        self.grad = None\n",
        "        if(id is None):\n",
        "            self.id = np.random.randint(0,100000)\n",
        "        else:\n",
        "            self.id = id\n",
        "        \n",
        "        self.creators = creators\n",
        "        self.creation_op = creation_op\n",
        "        self.children = {}\n",
        "        \n",
        "        if(creators is not None):\n",
        "            for c in creators:\n",
        "                if(self.id not in c.children):\n",
        "                    c.children[self.id] = 1\n",
        "                else:\n",
        "                    c.children[self.id] += 1\n",
        "\n",
        "    def all_children_grads_accounted_for(self):\n",
        "        for id,cnt in self.children.items():\n",
        "            if(cnt != 0):\n",
        "                return False\n",
        "        return True \n",
        "        \n",
        "    def backward(self,grad=None, grad_origin=None):\n",
        "        if(self.autograd):\n",
        " \n",
        "            if(grad is None):\n",
        "                grad = Tensor(np.ones_like(self.data))\n",
        "\n",
        "            if(grad_origin is not None):\n",
        "                if(self.children[grad_origin.id] == 0):\n",
        "                    raise Exception(\"cannot backprop more than once\")\n",
        "                else:\n",
        "                    self.children[grad_origin.id] -= 1\n",
        "\n",
        "            if(self.grad is None):\n",
        "                self.grad = grad\n",
        "            else:\n",
        "                self.grad += grad\n",
        "            \n",
        "            # grads must not have grads of their own\n",
        "            assert grad.autograd == False\n",
        "            \n",
        "            # only continue backpropping if there's something to\n",
        "            # backprop into and if all gradients (from children)\n",
        "            # are accounted for override waiting for children if\n",
        "            # \"backprop\" was called on this variable directly\n",
        "            if(self.creators is not None and \n",
        "               (self.all_children_grads_accounted_for() or \n",
        "                grad_origin is None)):\n",
        "\n",
        "                if(self.creation_op == \"add\"):\n",
        "                    self.creators[0].backward(self.grad, self)\n",
        "                    self.creators[1].backward(self.grad, self)\n",
        "                    \n",
        "                if(self.creation_op == \"sub\"):\n",
        "                    self.creators[0].backward(Tensor(self.grad.data), self)\n",
        "                    self.creators[1].backward(Tensor(self.grad.__neg__().data), self)\n",
        "\n",
        "                if(self.creation_op == \"mul\"):\n",
        "                    new = self.grad * self.creators[1]\n",
        "                    self.creators[0].backward(new , self)\n",
        "                    new = self.grad * self.creators[0]\n",
        "                    self.creators[1].backward(new, self)                    \n",
        "                    \n",
        "                if(self.creation_op == \"mm\"):\n",
        "                    c0 = self.creators[0]\n",
        "                    c1 = self.creators[1]\n",
        "                    new = self.grad.mm(c1.transpose())\n",
        "                    c0.backward(new)\n",
        "                    new = self.grad.transpose().mm(c0).transpose()\n",
        "                    c1.backward(new)\n",
        "                    \n",
        "                if(self.creation_op == \"transpose\"):\n",
        "                    self.creators[0].backward(self.grad.transpose())\n",
        "\n",
        "                if(\"sum\" in self.creation_op):\n",
        "                    dim = int(self.creation_op.split(\"_\")[1])\n",
        "                    self.creators[0].backward(self.grad.expand(dim,\n",
        "                                                               self.creators[0].data.shape[dim]))\n",
        "\n",
        "                if(\"expand\" in self.creation_op):\n",
        "                    dim = int(self.creation_op.split(\"_\")[1])\n",
        "                    self.creators[0].backward(self.grad.sum(dim))\n",
        "                    \n",
        "                if(self.creation_op == \"neg\"):\n",
        "                    self.creators[0].backward(self.grad.__neg__())\n",
        "                    \n",
        "                if(self.creation_op == \"sigmoid\"):\n",
        "                    ones = Tensor(np.ones_like(self.grad.data))\n",
        "                    self.creators[0].backward(self.grad * (self * (ones - self)))\n",
        "                \n",
        "                if(self.creation_op == \"tanh\"):\n",
        "                    ones = Tensor(np.ones_like(self.grad.data))\n",
        "                    self.creators[0].backward(self.grad * (ones - (self * self)))\n",
        "                \n",
        "                if(self.creation_op == \"index_select\"):\n",
        "                    new_grad = np.zeros_like(self.creators[0].data)\n",
        "                    indices_ = self.index_select_indices.data.flatten()\n",
        "                    grad_ = grad.data.reshape(len(indices_), -1)\n",
        "                    for i in range(len(indices_)):\n",
        "                        new_grad[indices_[i]] += grad_[i]\n",
        "                    self.creators[0].backward(Tensor(new_grad))\n",
        "                    \n",
        "                if(self.creation_op == \"cross_entropy\"):\n",
        "                    dx = self.softmax_output - self.target_dist\n",
        "                    self.creators[0].backward(Tensor(dx))\n",
        "                    \n",
        "    def __add__(self, other):\n",
        "        if(self.autograd and other.autograd):\n",
        "            return Tensor(self.data + other.data,\n",
        "                          autograd=True,\n",
        "                          creators=[self,other],\n",
        "                          creation_op=\"add\")\n",
        "        return Tensor(self.data + other.data)\n",
        "\n",
        "    def __neg__(self):\n",
        "        if(self.autograd):\n",
        "            return Tensor(self.data * -1,\n",
        "                          autograd=True,\n",
        "                          creators=[self],\n",
        "                          creation_op=\"neg\")\n",
        "        return Tensor(self.data * -1)\n",
        "    \n",
        "    def __sub__(self, other):\n",
        "        if(self.autograd and other.autograd):\n",
        "            return Tensor(self.data - other.data,\n",
        "                          autograd=True,\n",
        "                          creators=[self,other],\n",
        "                          creation_op=\"sub\")\n",
        "        return Tensor(self.data - other.data)\n",
        "    \n",
        "    def __mul__(self, other):\n",
        "        if(self.autograd and other.autograd):\n",
        "            return Tensor(self.data * other.data,\n",
        "                          autograd=True,\n",
        "                          creators=[self,other],\n",
        "                          creation_op=\"mul\")\n",
        "        return Tensor(self.data * other.data)    \n",
        "\n",
        "    def sum(self, dim):\n",
        "        if(self.autograd):\n",
        "            return Tensor(self.data.sum(dim),\n",
        "                          autograd=True,\n",
        "                          creators=[self],\n",
        "                          creation_op=\"sum_\"+str(dim))\n",
        "        return Tensor(self.data.sum(dim))\n",
        "    \n",
        "    def expand(self, dim,copies):\n",
        "\n",
        "        trans_cmd = list(range(0,len(self.data.shape)))\n",
        "        trans_cmd.insert(dim,len(self.data.shape))\n",
        "        new_data = self.data.repeat(copies).reshape(list(self.data.shape) + [copies]).transpose(trans_cmd)\n",
        "        \n",
        "        if(self.autograd):\n",
        "            return Tensor(new_data,\n",
        "                          autograd=True,\n",
        "                          creators=[self],\n",
        "                          creation_op=\"expand_\"+str(dim))\n",
        "        return Tensor(new_data)\n",
        "    \n",
        "    def transpose(self):\n",
        "        if(self.autograd):\n",
        "            return Tensor(self.data.transpose(),\n",
        "                          autograd=True,\n",
        "                          creators=[self],\n",
        "                          creation_op=\"transpose\")\n",
        "        \n",
        "        return Tensor(self.data.transpose())\n",
        "    \n",
        "    def mm(self, x):\n",
        "        if(self.autograd):\n",
        "            return Tensor(self.data.dot(x.data),\n",
        "                          autograd=True,\n",
        "                          creators=[self,x],\n",
        "                          creation_op=\"mm\")\n",
        "        return Tensor(self.data.dot(x.data))\n",
        "    \n",
        "    def sigmoid(self):\n",
        "        if(self.autograd):\n",
        "            return Tensor(1 / (1 + np.exp(-self.data)),\n",
        "                          autograd=True,\n",
        "                          creators=[self],\n",
        "                          creation_op=\"sigmoid\")\n",
        "        return Tensor(1 / (1 + np.exp(-self.data)))\n",
        "\n",
        "    def tanh(self):\n",
        "        if(self.autograd):\n",
        "            return Tensor(np.tanh(self.data),\n",
        "                          autograd=True,\n",
        "                          creators=[self],\n",
        "                          creation_op=\"tanh\")\n",
        "        return Tensor(np.tanh(self.data))\n",
        "    \n",
        "    def index_select(self, indices):\n",
        "\n",
        "        if(self.autograd):\n",
        "            new = Tensor(self.data[indices.data],\n",
        "                         autograd=True,\n",
        "                         creators=[self],\n",
        "                         creation_op=\"index_select\")\n",
        "            new.index_select_indices = indices\n",
        "            return new\n",
        "        return Tensor(self.data[indices.data])\n",
        "    \n",
        "    def cross_entropy(self, target_indices):\n",
        "\n",
        "        temp = np.exp(self.data)\n",
        "        softmax_output = temp / np.sum(temp,\n",
        "                                       axis=len(self.data.shape)-1,\n",
        "                                       keepdims=True)\n",
        "        \n",
        "        t = target_indices.data.flatten()\n",
        "        p = softmax_output.reshape(len(t),-1)\n",
        "        target_dist = np.eye(p.shape[1])[t]\n",
        "        loss = -(np.log(p) * (target_dist)).sum(1).mean()\n",
        "    \n",
        "        if(self.autograd):\n",
        "            out = Tensor(loss,\n",
        "                         autograd=True,\n",
        "                         creators=[self],\n",
        "                         creation_op=\"cross_entropy\")\n",
        "            out.softmax_output = softmax_output\n",
        "            out.target_dist = target_dist\n",
        "            return out\n",
        "\n",
        "        return Tensor(loss)\n",
        "        \n",
        "    \n",
        "    def __repr__(self):\n",
        "        return str(self.data.__repr__())\n",
        "    \n",
        "    def __str__(self):\n",
        "        return str(self.data.__str__())  "
      ],
      "execution_count": 1,
      "outputs": []
    },
    {
      "cell_type": "markdown",
      "metadata": {
        "id": "NX_9vGXEDw5g"
      },
      "source": [
        "##Define Layer class"
      ]
    },
    {
      "cell_type": "code",
      "metadata": {
        "id": "VvlFzI3qDS7g"
      },
      "source": [
        "class Layer(object):\n",
        "    \n",
        "    def __init__(self):\n",
        "        self.parameters = list()\n",
        "        \n",
        "    def get_parameters(self):\n",
        "        return self.parameters\n"
      ],
      "execution_count": 2,
      "outputs": []
    },
    {
      "cell_type": "markdown",
      "metadata": {
        "id": "YiUpmEC6Dxlh"
      },
      "source": [
        "##Define Models"
      ]
    },
    {
      "cell_type": "markdown",
      "metadata": {
        "id": "R8k3UpI8ouAa"
      },
      "source": [
        "### Linear"
      ]
    },
    {
      "cell_type": "code",
      "metadata": {
        "id": "Sfkc-wmQDLK3"
      },
      "source": [
        "class Linear(Layer):\n",
        "\n",
        "    def __init__(self, n_inputs, n_outputs):\n",
        "        super().__init__()\n",
        "        W = np.random.randn(n_inputs, n_outputs) * np.sqrt(2.0/(n_inputs))\n",
        "        self.weight = Tensor(W, autograd=True)\n",
        "        self.bias = Tensor(np.zeros(n_outputs), autograd=True)\n",
        "        \n",
        "        self.parameters.append(self.weight)\n",
        "        self.parameters.append(self.bias)\n",
        "\n",
        "    def forward(self, input):\n",
        "        return input.mm(self.weight)+self.bias.expand(0,len(input.data))"
      ],
      "execution_count": 3,
      "outputs": []
    },
    {
      "cell_type": "markdown",
      "metadata": {
        "id": "w-gedp_5DyTx"
      },
      "source": [
        "### Tanh"
      ]
    },
    {
      "cell_type": "code",
      "metadata": {
        "id": "mG7vj7cpCjVK"
      },
      "source": [
        "class Tanh(Layer):\n",
        "    def __init__(self):\n",
        "        super().__init__()\n",
        "    \n",
        "    def forward(self, input):\n",
        "        return input.tanh()"
      ],
      "execution_count": 4,
      "outputs": []
    },
    {
      "cell_type": "markdown",
      "metadata": {
        "id": "mGoxX8ksDy-7"
      },
      "source": [
        "### Sigmoid"
      ]
    },
    {
      "cell_type": "code",
      "metadata": {
        "id": "FlLndd66Ch4c"
      },
      "source": [
        "class Sigmoid(Layer):\n",
        "    def __init__(self):\n",
        "        super().__init__()\n",
        "    \n",
        "    def forward(self, input):\n",
        "        return input.sigmoid()"
      ],
      "execution_count": 5,
      "outputs": []
    },
    {
      "cell_type": "markdown",
      "metadata": {
        "id": "UEpRvZ0LEVyv"
      },
      "source": [
        "###Sequential"
      ]
    },
    {
      "cell_type": "code",
      "metadata": {
        "id": "Do6NmtgVEVDD"
      },
      "source": [
        "class Sequential(Layer):\n",
        "    \n",
        "    def __init__(self, layers=list()):\n",
        "        super().__init__()\n",
        "        \n",
        "        self.layers = layers\n",
        "    \n",
        "    def add(self, layer):\n",
        "        self.layers.append(layer)\n",
        "        \n",
        "    def forward(self, input):\n",
        "        for layer in self.layers:\n",
        "            input = layer.forward(input)\n",
        "        return input\n",
        "    \n",
        "    def get_parameters(self):\n",
        "        params = list()\n",
        "        for l in self.layers:\n",
        "            params += l.get_parameters()\n",
        "        return params"
      ],
      "execution_count": 6,
      "outputs": []
    },
    {
      "cell_type": "markdown",
      "metadata": {
        "id": "NWI_eehvD0Gu"
      },
      "source": [
        "###Embedding"
      ]
    },
    {
      "cell_type": "code",
      "metadata": {
        "id": "P9hxliP7EgnO"
      },
      "source": [
        "class Embedding(Layer):\n",
        "    \n",
        "    def __init__(self, vocab_size, dim):\n",
        "        super().__init__()\n",
        "        \n",
        "        self.vocab_size = vocab_size\n",
        "        self.dim = dim\n",
        "        \n",
        "        # this random initialiation style is just a convention from word2vec\n",
        "        self.weight = Tensor((np.random.rand(vocab_size, dim) - 0.5) / dim, autograd=True)\n",
        "        \n",
        "        self.parameters.append(self.weight)\n",
        "    \n",
        "    def forward(self, input):\n",
        "        return self.weight.index_select(input)"
      ],
      "execution_count": 7,
      "outputs": []
    },
    {
      "cell_type": "markdown",
      "metadata": {
        "id": "r5ij_G5IEsZX"
      },
      "source": [
        "## Define functions"
      ]
    },
    {
      "cell_type": "markdown",
      "metadata": {
        "id": "TRBhCxohpTDZ"
      },
      "source": [
        "###Cross entropy loss"
      ]
    },
    {
      "cell_type": "code",
      "metadata": {
        "id": "-Aohzz8CEsja"
      },
      "source": [
        "class CrossEntropyLoss(object):\n",
        "    \n",
        "    def __init__(self):\n",
        "        super().__init__()\n",
        "    \n",
        "    def forward(self, input, target):\n",
        "        return input.cross_entropy(target)"
      ],
      "execution_count": 8,
      "outputs": []
    },
    {
      "cell_type": "markdown",
      "metadata": {
        "id": "4nwg3HkxtU_C"
      },
      "source": [
        "###MSE loss"
      ]
    },
    {
      "cell_type": "code",
      "metadata": {
        "id": "oGOC9YBmkzMw"
      },
      "source": [
        "class MSELoss(Layer):\n",
        "    \n",
        "    def __init__(self):\n",
        "        super().__init__()\n",
        "    \n",
        "    def forward(self, pred, target):\n",
        "        return ((pred - target)*(pred - target)).sum(0)"
      ],
      "execution_count": 9,
      "outputs": []
    },
    {
      "cell_type": "markdown",
      "metadata": {
        "id": "1NiNrAarEjtg"
      },
      "source": [
        "### SGD"
      ]
    },
    {
      "cell_type": "code",
      "metadata": {
        "id": "eSfbPvPCEy7D"
      },
      "source": [
        "class SGD(object):\n",
        "    \n",
        "    def __init__(self, parameters, alpha=0.1):\n",
        "        self.parameters = parameters\n",
        "        self.alpha = alpha\n",
        "    \n",
        "    def zero(self):\n",
        "        for p in self.parameters:\n",
        "            p.grad.data *= 0\n",
        "        \n",
        "    def step(self, zero=True):\n",
        "        \n",
        "        for p in self.parameters:\n",
        "            \n",
        "            p.data -= p.grad.data * self.alpha\n",
        "            \n",
        "            if(zero):\n",
        "                p.grad.data *= 0"
      ],
      "execution_count": 10,
      "outputs": []
    },
    {
      "cell_type": "markdown",
      "metadata": {
        "id": "boFBkxpEE1dr"
      },
      "source": [
        "##Train on numpy array"
      ]
    },
    {
      "cell_type": "code",
      "metadata": {
        "id": "HhQ0rliJD0Qs",
        "colab": {
          "base_uri": "https://localhost:8080/"
        },
        "outputId": "dabf0000-2196-4162-ca7d-c7fe75fc1080"
      },
      "source": [
        "import numpy\n",
        "np.random.seed(0)\n",
        "\n",
        "# data indices\n",
        "data = Tensor(np.array([1,2,1,2]), autograd=True)\n",
        "\n",
        "# target indices\n",
        "target = Tensor(np.array([0,1,0,1]), autograd=True)\n",
        "\n",
        "model = Sequential([Embedding(3,3), Tanh(), Linear(3,4)])\n",
        "criterion = CrossEntropyLoss()\n",
        "\n",
        "optim = SGD(parameters=model.get_parameters(), alpha=0.1)\n",
        "\n",
        "for i in range(50):\n",
        "    \n",
        "    # Predict\n",
        "    pred = model.forward(data)\n",
        "    \n",
        "    # Compare\n",
        "    loss = criterion.forward(pred, target)\n",
        "    \n",
        "    # Learn\n",
        "    loss.backward(Tensor(np.ones_like(loss.data)))\n",
        "    optim.step()\n",
        "    print(loss)"
      ],
      "execution_count": 11,
      "outputs": [
        {
          "output_type": "stream",
          "text": [
            "1.3885032434928422\n",
            "0.9558181509266036\n",
            "0.6823083585795604\n",
            "0.509525996749312\n",
            "0.39574491472895856\n",
            "0.31752527285348275\n",
            "0.2617222861964216\n",
            "0.22061283923954234\n",
            "0.18946427334830074\n",
            "0.16527389263866668\n",
            "0.14607758194860357\n",
            "0.13055430369172646\n",
            "0.11779245238861638\n",
            "0.10714794475139533\n",
            "0.09815578667620338\n",
            "0.09047361136036355\n",
            "0.08384479311174867\n",
            "0.07807382413825212\n",
            "0.07300954249350346\n",
            "0.06853349135086163\n",
            "0.06455169775092835\n",
            "0.06098877190251766\n",
            "0.05778360828147246\n",
            "0.05488621006819306\n",
            "0.05225531311046938\n",
            "0.04985658683228821\n",
            "0.047661256853373045\n",
            "0.04564503956757056\n",
            "0.043787310088343745\n",
            "0.04207044660552249\n",
            "0.04047930941110246\n",
            "0.03900082367754176\n",
            "0.03762364286198987\n",
            "0.036337875274909955\n",
            "0.03513486051249118\n",
            "0.03400698553729988\n",
            "0.0329475324994023\n",
            "0.03195055213110316\n",
            "0.03101075787224923\n",
            "0.030123436897299384\n",
            "0.029284374998048646\n",
            "0.028489792884011104\n",
            "0.027736291938019915\n",
            "0.027020807838804745\n",
            "0.026340570758479093\n",
            "0.02569307107861492\n",
            "0.025076029757239847\n",
            "0.02448737263082388\n",
            "0.02392520805798734\n",
            "0.023387807411259547\n"
          ],
          "name": "stdout"
        }
      ]
    },
    {
      "cell_type": "code",
      "metadata": {
        "id": "sYHhbBEZgLsU",
        "colab": {
          "base_uri": "https://localhost:8080/"
        },
        "outputId": "d8fbe6fb-a268-497e-fe64-b274510d1ebb"
      },
      "source": [
        "np.array([[0,0],[0,1],[1,0],[1,1]]).shape"
      ],
      "execution_count": 12,
      "outputs": [
        {
          "output_type": "execute_result",
          "data": {
            "text/plain": [
              "(4, 2)"
            ]
          },
          "metadata": {
            "tags": []
          },
          "execution_count": 12
        }
      ]
    },
    {
      "cell_type": "code",
      "metadata": {
        "id": "ynvHjaFigPzT",
        "colab": {
          "base_uri": "https://localhost:8080/"
        },
        "outputId": "9dc678fe-ae59-41af-8e38-bd8bb7a5365c"
      },
      "source": [
        "np.array([0,1,0,1]).shape"
      ],
      "execution_count": 13,
      "outputs": [
        {
          "output_type": "execute_result",
          "data": {
            "text/plain": [
              "(4,)"
            ]
          },
          "metadata": {
            "tags": []
          },
          "execution_count": 13
        }
      ]
    },
    {
      "cell_type": "markdown",
      "metadata": {
        "id": "8k7l9jUzJCqf"
      },
      "source": [
        "##Load Mnist dataset"
      ]
    },
    {
      "cell_type": "code",
      "metadata": {
        "id": "lrXmyQ-OJCzA"
      },
      "source": [
        "import sys, numpy as np\n",
        "from keras.datasets import mnist\n",
        "import matplotlib.pyplot as plt\n",
        "\n",
        "(x_train, y_train), (x_test, y_test) = mnist.load_data()"
      ],
      "execution_count": 14,
      "outputs": []
    },
    {
      "cell_type": "code",
      "metadata": {
        "id": "H2oS568fe5ct",
        "colab": {
          "base_uri": "https://localhost:8080/"
        },
        "outputId": "e4d6fc84-62df-4182-d89e-bb33eae8dbcb"
      },
      "source": [
        "x_train.shape"
      ],
      "execution_count": 15,
      "outputs": [
        {
          "output_type": "execute_result",
          "data": {
            "text/plain": [
              "(60000, 28, 28)"
            ]
          },
          "metadata": {
            "tags": []
          },
          "execution_count": 15
        }
      ]
    },
    {
      "cell_type": "markdown",
      "metadata": {
        "id": "BAiGcMaapuJD"
      },
      "source": [
        "###One hot encoding"
      ]
    },
    {
      "cell_type": "code",
      "metadata": {
        "colab": {
          "base_uri": "https://localhost:8080/"
        },
        "id": "ewqGJBUJJGsf",
        "outputId": "ba35c6ab-c900-4830-8b51-19520025a268"
      },
      "source": [
        "def convert_labels(labels):\n",
        "  one_hot_labels = np.zeros((len(labels),10))\n",
        "  for i,l in enumerate(labels):\n",
        "      one_hot_labels[i][l] = 1\n",
        "  return one_hot_labels\n",
        "\n",
        "images, labels = (x_train[0:1000].reshape(1000,28*28)/255, y_train[0:1000])\n",
        "labels = convert_labels(labels)\n",
        "\n",
        "test_images, test_labels = x_test.reshape(len(x_test),28*28)/255, y_test\n",
        "test_labels = convert_labels(test_labels)\n",
        "\n",
        "print(f'images: {images.shape}, labels: {labels.shape}, test_images: {test_images.shape}, test_labels: {test_labels.shape}')"
      ],
      "execution_count": 16,
      "outputs": [
        {
          "output_type": "stream",
          "text": [
            "images: (1000, 784), labels: (1000, 10), test_images: (10000, 784), test_labels: (10000, 10)\n"
          ],
          "name": "stdout"
        }
      ]
    },
    {
      "cell_type": "markdown",
      "metadata": {
        "id": "Nt7DNwfmKQvh"
      },
      "source": [
        "###Covert to tensors"
      ]
    },
    {
      "cell_type": "code",
      "metadata": {
        "id": "39iXA4-9KQON"
      },
      "source": [
        "# data indices\n",
        "data = Tensor(images, autograd=True)\n",
        "\n",
        "# target indices\n",
        "target = Tensor(labels, autograd=True)\n"
      ],
      "execution_count": 17,
      "outputs": []
    },
    {
      "cell_type": "markdown",
      "metadata": {
        "id": "tYSFfAD_tmDU"
      },
      "source": [
        "##Tain on mnist data"
      ]
    },
    {
      "cell_type": "code",
      "metadata": {
        "colab": {
          "base_uri": "https://localhost:8080/"
        },
        "id": "ODDUAmsgkmWl",
        "outputId": "08780eb6-0772-438d-f2b5-339e690f7ed1"
      },
      "source": [
        "model = Sequential([Linear(784,256), Tanh(), Linear(256,10), Sigmoid()])\n",
        "criterion = MSELoss()\n",
        "\n",
        "optim = SGD(parameters=model.get_parameters(), alpha=1)\n",
        "\n",
        "for i in range(100):\n",
        "    \n",
        "    # Predict\n",
        "    pred = model.forward(data)\n",
        "    \n",
        "    # Compare\n",
        "    loss = criterion.forward(pred, target)\n",
        "    \n",
        "    # Learn\n",
        "    loss.backward(Tensor(np.ones_like(loss.data)))\n",
        "    optim.step()\n",
        "    print(loss)"
      ],
      "execution_count": 18,
      "outputs": [
        {
          "output_type": "stream",
          "text": [
            "[230.82864025 303.68608122 200.55598272 273.54599251 314.70963961\n",
            " 396.49344089 422.219306   158.89649454 292.7716835  319.76508086]\n",
            "[892.99965768 759.1417681  705.09054034 799.40160975 896.97489234\n",
            " 823.36809217 862.54358248 780.76385238 785.4922506  792.9593587 ]\n",
            "[288.09744062 116.67853822  99.          92.00000004 393.06179972\n",
            "  96.99859047 208.65904503 447.72252375  88.         132.99898843]\n",
            "[ 97.         116.          99.          93.         117.29056326\n",
            "  92.          94.         117.          87.         100.        ]\n"
          ],
          "name": "stdout"
        },
        {
          "output_type": "stream",
          "text": [
            "/usr/local/lib/python3.7/dist-packages/ipykernel_launcher.py:193: RuntimeWarning: overflow encountered in exp\n"
          ],
          "name": "stderr"
        },
        {
          "output_type": "stream",
          "text": [
            "[ 97. 116.  99.  93. 105.  92.  94. 117.  87. 100.]\n",
            "[ 97. 116.  99.  93. 105.  92.  94. 117.  87. 100.]\n",
            "[ 97. 116.  99.  93. 105.  92.  94. 117.  87. 100.]\n",
            "[ 97. 116.  99.  93. 105.  92.  94. 117.  87. 100.]\n",
            "[ 97. 116.  99.  93. 105.  92.  94. 117.  87. 100.]\n",
            "[ 97. 116.  99.  93. 105.  92.  94. 117.  87. 100.]\n",
            "[ 97. 116.  99.  93. 105.  92.  94. 117.  87. 100.]\n",
            "[ 97. 116.  99.  93. 105.  92.  94. 117.  87. 100.]\n",
            "[ 97. 116.  99.  93. 105.  92.  94. 117.  87. 100.]\n",
            "[ 97. 116.  99.  93. 105.  92.  94. 117.  87. 100.]\n",
            "[ 97. 116.  99.  93. 105.  92.  94. 117.  87. 100.]\n",
            "[ 97. 116.  99.  93. 105.  92.  94. 117.  87. 100.]\n",
            "[ 97. 116.  99.  93. 105.  92.  94. 117.  87. 100.]\n",
            "[ 97. 116.  99.  93. 105.  92.  94. 117.  87. 100.]\n",
            "[ 97. 116.  99.  93. 105.  92.  94. 117.  87. 100.]\n",
            "[ 97. 116.  99.  93. 105.  92.  94. 117.  87. 100.]\n",
            "[ 97. 116.  99.  93. 105.  92.  94. 117.  87. 100.]\n",
            "[ 97. 116.  99.  93. 105.  92.  94. 117.  87. 100.]\n",
            "[ 97. 116.  99.  93. 105.  92.  94. 117.  87. 100.]\n",
            "[ 97. 116.  99.  93. 105.  92.  94. 117.  87. 100.]\n",
            "[ 97. 116.  99.  93. 105.  92.  94. 117.  87. 100.]\n",
            "[ 97. 116.  99.  93. 105.  92.  94. 117.  87. 100.]\n",
            "[ 97. 116.  99.  93. 105.  92.  94. 117.  87. 100.]\n",
            "[ 97. 116.  99.  93. 105.  92.  94. 117.  87. 100.]\n",
            "[ 97. 116.  99.  93. 105.  92.  94. 117.  87. 100.]\n",
            "[ 97. 116.  99.  93. 105.  92.  94. 117.  87. 100.]\n",
            "[ 97. 116.  99.  93. 105.  92.  94. 117.  87. 100.]\n",
            "[ 97. 116.  99.  93. 105.  92.  94. 117.  87. 100.]\n",
            "[ 97. 116.  99.  93. 105.  92.  94. 117.  87. 100.]\n",
            "[ 97. 116.  99.  93. 105.  92.  94. 117.  87. 100.]\n",
            "[ 97. 116.  99.  93. 105.  92.  94. 117.  87. 100.]\n",
            "[ 97. 116.  99.  93. 105.  92.  94. 117.  87. 100.]\n",
            "[ 97. 116.  99.  93. 105.  92.  94. 117.  87. 100.]\n",
            "[ 97. 116.  99.  93. 105.  92.  94. 117.  87. 100.]\n",
            "[ 97. 116.  99.  93. 105.  92.  94. 117.  87. 100.]\n",
            "[ 97. 116.  99.  93. 105.  92.  94. 117.  87. 100.]\n",
            "[ 97. 116.  99.  93. 105.  92.  94. 117.  87. 100.]\n",
            "[ 97. 116.  99.  93. 105.  92.  94. 117.  87. 100.]\n",
            "[ 97. 116.  99.  93. 105.  92.  94. 117.  87. 100.]\n",
            "[ 97. 116.  99.  93. 105.  92.  94. 117.  87. 100.]\n",
            "[ 97. 116.  99.  93. 105.  92.  94. 117.  87. 100.]\n",
            "[ 97. 116.  99.  93. 105.  92.  94. 117.  87. 100.]\n",
            "[ 97. 116.  99.  93. 105.  92.  94. 117.  87. 100.]\n",
            "[ 97. 116.  99.  93. 105.  92.  94. 117.  87. 100.]\n",
            "[ 97. 116.  99.  93. 105.  92.  94. 117.  87. 100.]\n",
            "[ 97. 116.  99.  93. 105.  92.  94. 117.  87. 100.]\n",
            "[ 97. 116.  99.  93. 105.  92.  94. 117.  87. 100.]\n",
            "[ 97. 116.  99.  93. 105.  92.  94. 117.  87. 100.]\n",
            "[ 97. 116.  99.  93. 105.  92.  94. 117.  87. 100.]\n",
            "[ 97. 116.  99.  93. 105.  92.  94. 117.  87. 100.]\n",
            "[ 97. 116.  99.  93. 105.  92.  94. 117.  87. 100.]\n",
            "[ 97. 116.  99.  93. 105.  92.  94. 117.  87. 100.]\n",
            "[ 97. 116.  99.  93. 105.  92.  94. 117.  87. 100.]\n",
            "[ 97. 116.  99.  93. 105.  92.  94. 117.  87. 100.]\n",
            "[ 97. 116.  99.  93. 105.  92.  94. 117.  87. 100.]\n",
            "[ 97. 116.  99.  93. 105.  92.  94. 117.  87. 100.]\n",
            "[ 97. 116.  99.  93. 105.  92.  94. 117.  87. 100.]\n",
            "[ 97. 116.  99.  93. 105.  92.  94. 117.  87. 100.]\n",
            "[ 97. 116.  99.  93. 105.  92.  94. 117.  87. 100.]\n",
            "[ 97. 116.  99.  93. 105.  92.  94. 117.  87. 100.]\n",
            "[ 97. 116.  99.  93. 105.  92.  94. 117.  87. 100.]\n",
            "[ 97. 116.  99.  93. 105.  92.  94. 117.  87. 100.]\n",
            "[ 97. 116.  99.  93. 105.  92.  94. 117.  87. 100.]\n",
            "[ 97. 116.  99.  93. 105.  92.  94. 117.  87. 100.]\n",
            "[ 97. 116.  99.  93. 105.  92.  94. 117.  87. 100.]\n",
            "[ 97. 116.  99.  93. 105.  92.  94. 117.  87. 100.]\n",
            "[ 97. 116.  99.  93. 105.  92.  94. 117.  87. 100.]\n",
            "[ 97. 116.  99.  93. 105.  92.  94. 117.  87. 100.]\n",
            "[ 97. 116.  99.  93. 105.  92.  94. 117.  87. 100.]\n",
            "[ 97. 116.  99.  93. 105.  92.  94. 117.  87. 100.]\n",
            "[ 97. 116.  99.  93. 105.  92.  94. 117.  87. 100.]\n",
            "[ 97. 116.  99.  93. 105.  92.  94. 117.  87. 100.]\n",
            "[ 97. 116.  99.  93. 105.  92.  94. 117.  87. 100.]\n",
            "[ 97. 116.  99.  93. 105.  92.  94. 117.  87. 100.]\n",
            "[ 97. 116.  99.  93. 105.  92.  94. 117.  87. 100.]\n",
            "[ 97. 116.  99.  93. 105.  92.  94. 117.  87. 100.]\n",
            "[ 97. 116.  99.  93. 105.  92.  94. 117.  87. 100.]\n",
            "[ 97. 116.  99.  93. 105.  92.  94. 117.  87. 100.]\n",
            "[ 97. 116.  99.  93. 105.  92.  94. 117.  87. 100.]\n",
            "[ 97. 116.  99.  93. 105.  92.  94. 117.  87. 100.]\n",
            "[ 97. 116.  99.  93. 105.  92.  94. 117.  87. 100.]\n",
            "[ 97. 116.  99.  93. 105.  92.  94. 117.  87. 100.]\n",
            "[ 97. 116.  99.  93. 105.  92.  94. 117.  87. 100.]\n",
            "[ 97. 116.  99.  93. 105.  92.  94. 117.  87. 100.]\n",
            "[ 97. 116.  99.  93. 105.  92.  94. 117.  87. 100.]\n",
            "[ 97. 116.  99.  93. 105.  92.  94. 117.  87. 100.]\n",
            "[ 97. 116.  99.  93. 105.  92.  94. 117.  87. 100.]\n",
            "[ 97. 116.  99.  93. 105.  92.  94. 117.  87. 100.]\n",
            "[ 97. 116.  99.  93. 105.  92.  94. 117.  87. 100.]\n",
            "[ 97. 116.  99.  93. 105.  92.  94. 117.  87. 100.]\n",
            "[ 97. 116.  99.  93. 105.  92.  94. 117.  87. 100.]\n",
            "[ 97. 116.  99.  93. 105.  92.  94. 117.  87. 100.]\n",
            "[ 97. 116.  99.  93. 105.  92.  94. 117.  87. 100.]\n",
            "[ 97. 116.  99.  93. 105.  92.  94. 117.  87. 100.]\n",
            "[ 97. 116.  99.  93. 105.  92.  94. 117.  87. 100.]\n",
            "[ 97. 116.  99.  93. 105.  92.  94. 117.  87. 100.]\n"
          ],
          "name": "stdout"
        }
      ]
    }
  ]
}