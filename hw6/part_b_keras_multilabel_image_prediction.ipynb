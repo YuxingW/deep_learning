{
  "nbformat": 4,
  "nbformat_minor": 0,
  "metadata": {
    "colab": {
      "name": "Copy of image_classification_from_scratch",
      "provenance": [],
      "collapsed_sections": [],
      "toc_visible": true,
      "include_colab_link": true
    },
    "kernelspec": {
      "display_name": "Python 3",
      "language": "python",
      "name": "python3"
    },
    "language_info": {
      "codemirror_mode": {
        "name": "ipython",
        "version": 3
      },
      "file_extension": ".py",
      "mimetype": "text/x-python",
      "name": "python",
      "nbconvert_exporter": "python",
      "pygments_lexer": "ipython3",
      "version": "3.7.0"
    }
  },
  "cells": [
    {
      "cell_type": "markdown",
      "metadata": {
        "id": "view-in-github",
        "colab_type": "text"
      },
      "source": [
        "<a href=\"https://colab.research.google.com/github/YuxingW/deep_learning/blob/main/hw6/part_b_keras_multilabel_image_prediction.ipynb\" target=\"_parent\"><img src=\"https://colab.research.google.com/assets/colab-badge.svg\" alt=\"Open In Colab\"/></a>"
      ]
    },
    {
      "cell_type": "markdown",
      "metadata": {
        "id": "kdwsNs5AAqKz"
      },
      "source": [
        "# Multilabel Image classification from scratch\n"
      ]
    },
    {
      "cell_type": "markdown",
      "metadata": {
        "id": "VLmwRh9CAqK2"
      },
      "source": [
        "## Introduction\n",
        "\n",
        "This the dataset has 5 categies of images: \"desert\", \"mountains\", \"sea\", \"sunset\", \"trees\".\n"
      ]
    },
    {
      "cell_type": "markdown",
      "metadata": {
        "id": "MIXCd6rCAqK3"
      },
      "source": [
        "## Load the data\n",
        "\n",
        "### Raw data download\n",
        "\n",
        "First, let's download the ZIP archive of the raw data: <br />\n",
        "The zip file is also shared in google drive: https://drive.google.com/file/d/11RV5Inkb2b6TAS1re36CsLS9qMVyOkRB/view?usp=sharing\n"
      ]
    },
    {
      "cell_type": "code",
      "metadata": {
        "id": "oE8qbn2lAqK3"
      },
      "source": [
        "import tensorflow as tf\n",
        "from tensorflow import keras\n",
        "from tensorflow.keras import layers\n"
      ],
      "execution_count": null,
      "outputs": []
    },
    {
      "cell_type": "code",
      "metadata": {
        "colab": {
          "base_uri": "https://localhost:8080/"
        },
        "id": "5r6GcoyICmJ6",
        "outputId": "e45cd4d7-e302-461c-aba0-d68d6e2893ce"
      },
      "source": [
        "from google.colab import drive\n",
        "drive.mount('/content/drive')"
      ],
      "execution_count": null,
      "outputs": [
        {
          "output_type": "stream",
          "text": [
            "Drive already mounted at /content/drive; to attempt to forcibly remount, call drive.mount(\"/content/drive\", force_remount=True).\n"
          ],
          "name": "stdout"
        }
      ]
    },
    {
      "cell_type": "code",
      "metadata": {
        "id": "QQsCKPl6AqK3",
        "colab": {
          "base_uri": "https://localhost:8080/"
        },
        "outputId": "83d12c67-82f6-410a-a5fe-ab71b407da87"
      },
      "source": [
        "! ls drive/MyDrive/*.zip"
      ],
      "execution_count": null,
      "outputs": [
        {
          "output_type": "stream",
          "text": [
            "drive/MyDrive/miml_dataset.zip\n"
          ],
          "name": "stdout"
        }
      ]
    },
    {
      "cell_type": "code",
      "metadata": {
        "id": "0UXSqqySAqK3",
        "colab": {
          "base_uri": "https://localhost:8080/"
        },
        "outputId": "ac195251-8d57-4de3-d178-604e6dd9d0b1"
      },
      "source": [
        "!unzip -q drive/MyDrive/miml_dataset.zip\n",
        "!ls\n"
      ],
      "execution_count": null,
      "outputs": [
        {
          "output_type": "stream",
          "text": [
            "replace miml_dataset/images/1.jpg? [y]es, [n]o, [A]ll, [N]one, [r]ename: n\n",
            "replace miml_dataset/images/10.jpg? [y]es, [n]o, [A]ll, [N]one, [r]ename: A\n",
            " a.zip\t miml_dataset\t    sample_data\n",
            " drive\t miml_dataset.zip  'view?usp=sharing'\n"
          ],
          "name": "stdout"
        }
      ]
    },
    {
      "cell_type": "markdown",
      "metadata": {
        "id": "8x4tfXLnAqK3"
      },
      "source": [
        "Now we have a `miml_dataset` folder which contain one subfolder `images`, which contains image files for each category.\n"
      ]
    },
    {
      "cell_type": "code",
      "metadata": {
        "id": "2_FxOM9dAqK3",
        "colab": {
          "base_uri": "https://localhost:8080/"
        },
        "outputId": "071f4652-4a06-4bac-d81d-8a9eba68cf9c"
      },
      "source": [
        "!ls miml_dataset/\n"
      ],
      "execution_count": null,
      "outputs": [
        {
          "output_type": "stream",
          "text": [
            "images\tmiml_labels_1.csv  miml_labels_2.csv\n"
          ],
          "name": "stdout"
        }
      ]
    },
    {
      "cell_type": "code",
      "metadata": {
        "id": "hZHPifo1HIIV"
      },
      "source": [
        "from keras.models import Sequential\n",
        "from keras_preprocessing.image import ImageDataGenerator\n",
        "from keras.layers import Dense, Activation, Flatten, Dropout, BatchNormalization\n",
        "from keras.layers import Conv2D, MaxPooling2D\n",
        "from keras import regularizers, optimizers\n",
        "import pandas as pd\n",
        "import numpy as np"
      ],
      "execution_count": null,
      "outputs": []
    },
    {
      "cell_type": "markdown",
      "metadata": {
        "id": "V9sCcF4VAqK4"
      },
      "source": [
        "##Standardizing the data\n",
        "Also split the data to 3 parts, training validation and test."
      ]
    },
    {
      "cell_type": "code",
      "metadata": {
        "colab": {
          "base_uri": "https://localhost:8080/"
        },
        "id": "b8WNf6-jG91-",
        "outputId": "e7c757a2-b315-4f52-becc-b79925e93efe"
      },
      "source": [
        "df=pd.read_csv(\"./miml_dataset/miml_labels_1.csv\")\n",
        "columns=[\"desert\", \"mountains\", \"sea\", \"sunset\", \"trees\"]\n",
        "datagen=ImageDataGenerator(rescale=1./255.)\n",
        "test_datagen=ImageDataGenerator(rescale=1./255.)\n",
        "train_generator=datagen.flow_from_dataframe(\n",
        "    dataframe=df[:1800],\n",
        "    directory=\"./miml_dataset/images\",\n",
        "    x_col=\"Filenames\",\n",
        "    y_col=columns,\n",
        "    batch_size=32,\n",
        "    seed=42,\n",
        "    shuffle=True,\n",
        "    class_mode=\"raw\",\n",
        "    target_size=(100,100))\n",
        "valid_generator=test_datagen.flow_from_dataframe(\n",
        "    dataframe=df[1800:1900],\n",
        "    directory=\"./miml_dataset/images\",\n",
        "    x_col=\"Filenames\",\n",
        "    y_col=columns,\n",
        "    batch_size=32,\n",
        "    seed=42,\n",
        "    shuffle=True,\n",
        "    class_mode=\"raw\",\n",
        "    target_size=(100,100))\n",
        "test_generator=test_datagen.flow_from_dataframe(\n",
        "    dataframe=df[1900:],\n",
        "    directory=\"./miml_dataset/images\",\n",
        "    x_col=\"Filenames\",\n",
        "    batch_size=1,\n",
        "    seed=42,\n",
        "    shuffle=False,\n",
        "    class_mode=None,\n",
        "    target_size=(100,100))\n"
      ],
      "execution_count": null,
      "outputs": [
        {
          "output_type": "stream",
          "text": [
            "Found 1800 validated image filenames.\n",
            "Found 100 validated image filenames.\n",
            "Found 100 validated image filenames.\n"
          ],
          "name": "stdout"
        }
      ]
    },
    {
      "cell_type": "markdown",
      "metadata": {
        "id": "cp22GPfbTi-3"
      },
      "source": [
        "## Build a model\n",
        "\n",
        "We'll build a small version of the Xception network. We haven't particularly tried to\n",
        "optimize the architecture; if you want to do a systematic search for the best model\n",
        " configuration, consider using\n",
        "[Keras Tuner](https://github.com/keras-team/keras-tuner).\n",
        "\n",
        "Note that:\n",
        "\n",
        "- We start the model with the `Conv2D` layer with padding.\n",
        "- We include `Dropout` layers before the Conv2D layer and the final classification layer.\n",
        "- We have the 5 outputs in Dense layer for multilabel prediction.\n"
      ]
    },
    {
      "cell_type": "code",
      "metadata": {
        "id": "CqW62BOAHodh"
      },
      "source": [
        "model = Sequential()\n",
        "model.add(Conv2D(32, (3, 3), padding='same',\n",
        "                 input_shape=(100,100,3)))\n",
        "model.add(Activation('relu'))\n",
        "model.add(Conv2D(32, (3, 3)))\n",
        "model.add(Activation('relu'))\n",
        "model.add(MaxPooling2D(pool_size=(2, 2)))\n",
        "model.add(Dropout(0.25))\n",
        "model.add(Conv2D(64, (3, 3), padding='same'))\n",
        "model.add(Activation('relu'))\n",
        "model.add(Conv2D(64, (3, 3)))\n",
        "model.add(Activation('relu'))\n",
        "model.add(MaxPooling2D(pool_size=(2, 2)))\n",
        "model.add(Dropout(0.25))\n",
        "model.add(Flatten())\n",
        "model.add(Dense(512))\n",
        "model.add(Activation('relu'))\n",
        "model.add(Dropout(0.5))\n",
        "model.add(Dense(5, activation='sigmoid'))\n",
        "model.compile(optimizers.RMSprop(lr=0.0001, decay=1e-6),loss=\"binary_crossentropy\",metrics=[\"accuracy\"])"
      ],
      "execution_count": null,
      "outputs": []
    },
    {
      "cell_type": "markdown",
      "metadata": {
        "id": "nWALm9xNAqK6"
      },
      "source": [
        "## Train the model\n"
      ]
    },
    {
      "cell_type": "code",
      "metadata": {
        "colab": {
          "base_uri": "https://localhost:8080/"
        },
        "id": "z4peQajSIH55",
        "outputId": "6c761b24-4e2a-44d5-92bc-045364628c35"
      },
      "source": [
        "STEP_SIZE_TRAIN=train_generator.n//train_generator.batch_size\n",
        "STEP_SIZE_VALID=valid_generator.n//valid_generator.batch_size\n",
        "STEP_SIZE_TEST=test_generator.n//test_generator.batch_size\n",
        "model.fit_generator(generator=train_generator,\n",
        "                    steps_per_epoch=STEP_SIZE_TRAIN,\n",
        "                    validation_data=valid_generator,\n",
        "                    validation_steps=STEP_SIZE_VALID,\n",
        "                    epochs=10\n",
        ")"
      ],
      "execution_count": null,
      "outputs": [
        {
          "output_type": "stream",
          "text": [
            "/usr/local/lib/python3.7/dist-packages/tensorflow/python/keras/engine/training.py:1844: UserWarning: `Model.fit_generator` is deprecated and will be removed in a future version. Please use `Model.fit`, which supports generators.\n",
            "  warnings.warn('`Model.fit_generator` is deprecated and '\n"
          ],
          "name": "stderr"
        },
        {
          "output_type": "stream",
          "text": [
            "Epoch 1/10\n",
            "56/56 [==============================] - 83s 1s/step - loss: 0.5676 - accuracy: 0.3424 - val_loss: 0.4497 - val_accuracy: 0.5833\n",
            "Epoch 2/10\n",
            "56/56 [==============================] - 82s 1s/step - loss: 0.4440 - accuracy: 0.5274 - val_loss: 0.3649 - val_accuracy: 0.6458\n",
            "Epoch 3/10\n",
            "56/56 [==============================] - 81s 1s/step - loss: 0.4046 - accuracy: 0.5761 - val_loss: 0.3995 - val_accuracy: 0.6458\n",
            "Epoch 4/10\n",
            "56/56 [==============================] - 81s 1s/step - loss: 0.3832 - accuracy: 0.6027 - val_loss: 0.2890 - val_accuracy: 0.7188\n",
            "Epoch 5/10\n",
            "56/56 [==============================] - 81s 1s/step - loss: 0.3617 - accuracy: 0.6169 - val_loss: 0.2971 - val_accuracy: 0.7083\n",
            "Epoch 6/10\n",
            "56/56 [==============================] - 81s 1s/step - loss: 0.3495 - accuracy: 0.6271 - val_loss: 0.2922 - val_accuracy: 0.7083\n",
            "Epoch 7/10\n",
            "56/56 [==============================] - 81s 1s/step - loss: 0.3420 - accuracy: 0.6402 - val_loss: 0.2803 - val_accuracy: 0.7083\n",
            "Epoch 8/10\n",
            "56/56 [==============================] - 81s 1s/step - loss: 0.3327 - accuracy: 0.6445 - val_loss: 0.3118 - val_accuracy: 0.6667\n",
            "Epoch 9/10\n",
            "56/56 [==============================] - 82s 1s/step - loss: 0.3206 - accuracy: 0.6622 - val_loss: 0.2483 - val_accuracy: 0.7188\n",
            "Epoch 10/10\n",
            "56/56 [==============================] - 81s 1s/step - loss: 0.3092 - accuracy: 0.6631 - val_loss: 0.2761 - val_accuracy: 0.6979\n"
          ],
          "name": "stdout"
        },
        {
          "output_type": "execute_result",
          "data": {
            "text/plain": [
              "<tensorflow.python.keras.callbacks.History at 0x7f11b3c90e10>"
            ]
          },
          "metadata": {
            "tags": []
          },
          "execution_count": 46
        }
      ]
    },
    {
      "cell_type": "markdown",
      "metadata": {
        "id": "FhuDE3KvAqK6"
      },
      "source": [
        "## Run inference on test data\n",
        "\n",
        "Note we need to reset the test_generator before whenever we call the predict_generator.\n"
      ]
    },
    {
      "cell_type": "code",
      "metadata": {
        "colab": {
          "base_uri": "https://localhost:8080/"
        },
        "id": "8oTzAe06LmFM",
        "outputId": "3f577abb-41ea-4fb7-d785-8ea4248b1116"
      },
      "source": [
        "test_generator.reset()\n",
        "pred=model.predict_generator(test_generator,\n",
        "steps=STEP_SIZE_TEST,\n",
        "verbose=1)"
      ],
      "execution_count": null,
      "outputs": [
        {
          "output_type": "stream",
          "text": [
            "  4/100 [>.............................] - ETA: 1s "
          ],
          "name": "stdout"
        },
        {
          "output_type": "stream",
          "text": [
            "/usr/local/lib/python3.7/dist-packages/tensorflow/python/keras/engine/training.py:1905: UserWarning: `Model.predict_generator` is deprecated and will be removed in a future version. Please use `Model.predict`, which supports generators.\n",
            "  warnings.warn('`Model.predict_generator` is deprecated and '\n"
          ],
          "name": "stderr"
        },
        {
          "output_type": "stream",
          "text": [
            "100/100 [==============================] - 2s 20ms/step\n"
          ],
          "name": "stdout"
        }
      ]
    },
    {
      "cell_type": "code",
      "metadata": {
        "id": "6gho4f6CLvZ6"
      },
      "source": [
        "pred_bool = (pred >0.5)"
      ],
      "execution_count": null,
      "outputs": []
    },
    {
      "cell_type": "code",
      "metadata": {
        "colab": {
          "base_uri": "https://localhost:8080/",
          "height": 204
        },
        "id": "zHeODs5kL0Nm",
        "outputId": "c860e687-2495-4632-c6b8-909d4ac5c19f"
      },
      "source": [
        "predictions = pred_bool.astype(int)\n",
        "columns=[\"desert\", \"mountains\", \"sea\", \"sunset\", \"trees\"]\n",
        "#columns should be the same order of y_col\n",
        "results=pd.DataFrame(predictions, columns=columns)\n",
        "results[\"Filenames\"]=test_generator.filenames\n",
        "ordered_cols=[\"Filenames\"]+columns\n",
        "results=results[ordered_cols]#To get the same column order\n",
        "results.head()"
      ],
      "execution_count": null,
      "outputs": [
        {
          "output_type": "execute_result",
          "data": {
            "text/html": [
              "<div>\n",
              "<style scoped>\n",
              "    .dataframe tbody tr th:only-of-type {\n",
              "        vertical-align: middle;\n",
              "    }\n",
              "\n",
              "    .dataframe tbody tr th {\n",
              "        vertical-align: top;\n",
              "    }\n",
              "\n",
              "    .dataframe thead th {\n",
              "        text-align: right;\n",
              "    }\n",
              "</style>\n",
              "<table border=\"1\" class=\"dataframe\">\n",
              "  <thead>\n",
              "    <tr style=\"text-align: right;\">\n",
              "      <th></th>\n",
              "      <th>Filenames</th>\n",
              "      <th>desert</th>\n",
              "      <th>mountains</th>\n",
              "      <th>sea</th>\n",
              "      <th>sunset</th>\n",
              "      <th>trees</th>\n",
              "    </tr>\n",
              "  </thead>\n",
              "  <tbody>\n",
              "    <tr>\n",
              "      <th>0</th>\n",
              "      <td>1901.jpg</td>\n",
              "      <td>0</td>\n",
              "      <td>0</td>\n",
              "      <td>1</td>\n",
              "      <td>0</td>\n",
              "      <td>0</td>\n",
              "    </tr>\n",
              "    <tr>\n",
              "      <th>1</th>\n",
              "      <td>1902.jpg</td>\n",
              "      <td>0</td>\n",
              "      <td>0</td>\n",
              "      <td>1</td>\n",
              "      <td>0</td>\n",
              "      <td>0</td>\n",
              "    </tr>\n",
              "    <tr>\n",
              "      <th>2</th>\n",
              "      <td>1903.jpg</td>\n",
              "      <td>0</td>\n",
              "      <td>0</td>\n",
              "      <td>0</td>\n",
              "      <td>0</td>\n",
              "      <td>1</td>\n",
              "    </tr>\n",
              "    <tr>\n",
              "      <th>3</th>\n",
              "      <td>1904.jpg</td>\n",
              "      <td>0</td>\n",
              "      <td>0</td>\n",
              "      <td>1</td>\n",
              "      <td>0</td>\n",
              "      <td>0</td>\n",
              "    </tr>\n",
              "    <tr>\n",
              "      <th>4</th>\n",
              "      <td>1905.jpg</td>\n",
              "      <td>0</td>\n",
              "      <td>0</td>\n",
              "      <td>0</td>\n",
              "      <td>0</td>\n",
              "      <td>1</td>\n",
              "    </tr>\n",
              "  </tbody>\n",
              "</table>\n",
              "</div>"
            ],
            "text/plain": [
              "  Filenames  desert  mountains  sea  sunset  trees\n",
              "0  1901.jpg       0          0    1       0      0\n",
              "1  1902.jpg       0          0    1       0      0\n",
              "2  1903.jpg       0          0    0       0      1\n",
              "3  1904.jpg       0          0    1       0      0\n",
              "4  1905.jpg       0          0    0       0      1"
            ]
          },
          "metadata": {
            "tags": []
          },
          "execution_count": 49
        }
      ]
    },
    {
      "cell_type": "markdown",
      "metadata": {
        "id": "GmSzvEA9AqK6"
      },
      "source": [
        "We get to ~70% validation accuracy after training for 56 epochs on the full dataset.\n"
      ]
    }
  ]
}