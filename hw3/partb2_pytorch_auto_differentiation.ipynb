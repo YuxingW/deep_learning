{
  "nbformat": 4,
  "nbformat_minor": 0,
  "metadata": {
    "kernelspec": {
      "display_name": "Python 3",
      "language": "python",
      "name": "python3"
    },
    "language_info": {
      "codemirror_mode": {
        "name": "ipython",
        "version": 3
      },
      "file_extension": ".py",
      "mimetype": "text/x-python",
      "name": "python",
      "nbconvert_exporter": "python",
      "pygments_lexer": "ipython3",
      "version": "3.7.6"
    },
    "colab": {
      "name": "Copy of 3_optimizers.ipynb",
      "provenance": [],
      "toc_visible": true,
      "include_colab_link": true
    }
  },
  "cells": [
    {
      "cell_type": "markdown",
      "metadata": {
        "id": "view-in-github",
        "colab_type": "text"
      },
      "source": [
        "<a href=\"https://colab.research.google.com/github/YuxingW/deep_learning/blob/main/hw3/partb2_pytorch_auto_differentiation.ipynb\" target=\"_parent\"><img src=\"https://colab.research.google.com/assets/colab-badge.svg\" alt=\"Open In Colab\"/></a>"
      ]
    },
    {
      "cell_type": "markdown",
      "metadata": {
        "id": "lfGBUSKOB7tQ"
      },
      "source": [
        "###Pytorch tensor datastructure without auto differentiation"
      ]
    },
    {
      "cell_type": "code",
      "metadata": {
        "id": "oopzZzHTAFCf"
      },
      "source": [
        "%matplotlib inline\n",
        "import numpy as np\n",
        "import torch\n",
        "torch.set_printoptions(edgeitems=2, linewidth=75)"
      ],
      "execution_count": 1,
      "outputs": []
    },
    {
      "cell_type": "markdown",
      "metadata": {
        "id": "1ldHuSCzBTMe"
      },
      "source": [
        "#### 3d-2d non-linear data generation"
      ]
    },
    {
      "cell_type": "markdown",
      "metadata": {
        "id": "rY3XMZEeKWDu"
      },
      "source": [
        "If x is numpy array this line will apply requires_grad to torch tensor:\n",
        "torch.tensor(x, requires_grad=True)\n"
      ]
    },
    {
      "cell_type": "code",
      "metadata": {
        "id": "kcqNPJbkAFCl",
        "colab": {
          "base_uri": "https://localhost:8080/"
        },
        "outputId": "b90fd32d-a4ac-4ca0-de33-15e028bf79d5"
      },
      "source": [
        "n = 200\n",
        "d = 3\n",
        "\n",
        "x = np.random.uniform(-1, 1, (n, d))\n",
        "\n",
        "weights_true = np.array([[3, 1, -1],[2, 0, -2],]).T\n",
        "bias_true = np.array([0.5, 0.1])\n",
        "\n",
        "y = (x ** 2) @ weights_true + x @ weights_true + bias_true\n",
        "x = torch.tensor(x, requires_grad=True)\n",
        "y = torch.tensor(y, requires_grad=True)\n",
        "\n",
        "print(f'x: {x.shape}, weights: {weights_true.shape}, bias: {bias_true.shape}, y: {y.shape}')"
      ],
      "execution_count": 2,
      "outputs": [
        {
          "output_type": "stream",
          "text": [
            "x: torch.Size([200, 3]), weights: (3, 2), bias: (2,), y: torch.Size([200, 2])\n"
          ],
          "name": "stdout"
        }
      ]
    },
    {
      "cell_type": "markdown",
      "metadata": {
        "id": "tOkUITXRCfrd"
      },
      "source": [
        "#### Define model and loss"
      ]
    },
    {
      "cell_type": "code",
      "metadata": {
        "id": "l7JkRGRQAFCl"
      },
      "source": [
        "def model(x, weights, bias):\n",
        "    return torch.mm(x ** 2, weights) + torch.mm(x, weights) + bias"
      ],
      "execution_count": 3,
      "outputs": []
    },
    {
      "cell_type": "code",
      "metadata": {
        "id": "aTQOZX9XAFCm"
      },
      "source": [
        "def loss_fn(y_pred, y_true):\n",
        "    squared_diffs = (y_pred - y_true)**2\n",
        "    return squared_diffs.mean()"
      ],
      "execution_count": 4,
      "outputs": []
    },
    {
      "cell_type": "markdown",
      "metadata": {
        "id": "7P9pzsAzCmEV"
      },
      "source": [
        "####Initialize weights and bias for model"
      ]
    },
    {
      "cell_type": "code",
      "metadata": {
        "id": "012lpfH_AneJ"
      },
      "source": [
        "bias = np.array([0.1, 0.1])\n",
        "bias = torch.tensor(bias, requires_grad=True)\n",
        "\n",
        "weights = np.array([[1.0, 1.0, 1.0],[1.0, 1.0, 1.0],]).T\n",
        "weights = torch.tensor(weights, requires_grad=True)"
      ],
      "execution_count": 5,
      "outputs": []
    },
    {
      "cell_type": "code",
      "metadata": {
        "id": "NL5Nc_arAFCm"
      },
      "source": [
        "import torch.optim as optim"
      ],
      "execution_count": 6,
      "outputs": []
    },
    {
      "cell_type": "markdown",
      "metadata": {
        "id": "3vKgIKrjC3C9"
      },
      "source": [
        "####Initialize learning rate and optimizer"
      ]
    },
    {
      "cell_type": "code",
      "metadata": {
        "id": "mv17vLc5AFCn"
      },
      "source": [
        "learning_rate = 1e-5\n",
        "optimizer = optim.SGD([weights, bias,], lr=learning_rate)"
      ],
      "execution_count": 7,
      "outputs": []
    },
    {
      "cell_type": "markdown",
      "metadata": {
        "id": "2wHx_9pQDFLw"
      },
      "source": [
        "####Do one step training"
      ]
    },
    {
      "cell_type": "code",
      "metadata": {
        "id": "9XsWCJqQAFCn",
        "colab": {
          "base_uri": "https://localhost:8080/"
        },
        "outputId": "c314202d-d9d2-4f9f-f55d-01554af7d019"
      },
      "source": [
        "y_pred = model(x, weights, bias)\n",
        "loss = loss_fn(y_pred, y)\n",
        "loss.backward()\n",
        "\n",
        "optimizer.step()\n",
        "\n",
        "y_pred.shape"
      ],
      "execution_count": 8,
      "outputs": [
        {
          "output_type": "execute_result",
          "data": {
            "text/plain": [
              "torch.Size([200, 2])"
            ]
          },
          "metadata": {
            "tags": []
          },
          "execution_count": 8
        }
      ]
    },
    {
      "cell_type": "markdown",
      "metadata": {
        "id": "xs65_NCADNtU"
      },
      "source": [
        "####Do training loop with 5000 eporches"
      ]
    },
    {
      "cell_type": "code",
      "metadata": {
        "id": "luDjZGYfAFCo"
      },
      "source": [
        "def training_loop(n_epochs, optimizer, weights, bias, x, y):\n",
        "    for epoch in range(1, n_epochs + 1):\n",
        "        y_pred = model(x, weights, bias) \n",
        "        loss = loss_fn(y_pred, y)\n",
        "        \n",
        "        optimizer.zero_grad()\n",
        "        loss.backward()\n",
        "        optimizer.step()\n",
        "\n",
        "        if epoch % 40000 == 0:\n",
        "            print('Epoch %d, Loss %f' % (epoch, float(loss)))\n",
        "            \n",
        "    return y_pred"
      ],
      "execution_count": 9,
      "outputs": []
    },
    {
      "cell_type": "code",
      "metadata": {
        "id": "k8j0fSAQAFCo",
        "colab": {
          "base_uri": "https://localhost:8080/"
        },
        "outputId": "5d7396fe-df7c-44ad-cfc7-add6b441f0d8"
      },
      "source": [
        "y_pred = training_loop(\n",
        "    n_epochs = 400000, \n",
        "    optimizer = optimizer,\n",
        "    weights = weights,\n",
        "    bias = bias,\n",
        "    x = x,\n",
        "    y = y)"
      ],
      "execution_count": 10,
      "outputs": [
        {
          "output_type": "stream",
          "text": [
            "Epoch 40000, Loss 2.923079\n",
            "Epoch 80000, Loss 1.999078\n",
            "Epoch 120000, Loss 1.401102\n",
            "Epoch 160000, Loss 0.995080\n",
            "Epoch 200000, Loss 0.712019\n",
            "Epoch 240000, Loss 0.511876\n",
            "Epoch 280000, Loss 0.369259\n",
            "Epoch 320000, Loss 0.267157\n",
            "Epoch 360000, Loss 0.193825\n",
            "Epoch 400000, Loss 0.141017\n"
          ],
          "name": "stdout"
        }
      ]
    },
    {
      "cell_type": "markdown",
      "metadata": {
        "id": "UohuHC-bEqru"
      },
      "source": [
        "####Plot y_true y_pred using TSNE"
      ]
    },
    {
      "cell_type": "code",
      "metadata": {
        "id": "aoyLKlH1Es5d"
      },
      "source": [
        "import matplotlib.pyplot as plt\n",
        "from sklearn.manifold import TSNE\n",
        "\n",
        "def plot_comparison(y_true, y_pred):\n",
        "  #tsne = TSNE(n_components=2, perplexity=50, learning_rate=100, random_state=120)\n",
        "  tsne = TSNE(n_components=2, random_state=0)\n",
        "  yt_2d = tsne.fit_transform(y_true)\n",
        "  yp_2d = tsne.fit_transform(y_pred)\n",
        "\n",
        "  plt.figure(figsize=(6, 5))\n",
        "  plt.scatter(yt_2d[:, 0], yt_2d[:, 1], c='b', label='y_true')\n",
        "  plt.scatter(yp_2d[:, 1], yp_2d[:, 1], c='y', label='y_pred')\n",
        "  plt.legend()\n",
        "  plt.title('TSNE Y_True Y_Pred Comparison')\n",
        "  plt.xlabel('t_SNE1')\n",
        "  plt.xlabel('t_SNE2')\n",
        "  plt.show()\n",
        "\n",
        "def plot_distribution(x, y_true, y_pred):\n",
        "  tsne = TSNE(n_components=1, random_state=0)\n",
        "  x_2d = tsne.fit_transform(x)\n",
        "  yt_2d = tsne.fit_transform(y_true)\n",
        "  yp_2d = tsne.fit_transform(y_pred)\n",
        "\n",
        "  plt.figure(figsize=(6, 5))\n",
        "  plt.scatter(x_2d[:, 0], yt_2d[:, 0], c='b', label='y_true')\n",
        "  plt.scatter(x_2d[:, 0], yp_2d[:, 0], c='y', label='y_pred')\n",
        "  plt.legend()\n",
        "  plt.title('TSNE Y_True Y_Pred Distribution with X')\n",
        "  plt.show()"
      ],
      "execution_count": 11,
      "outputs": []
    },
    {
      "cell_type": "code",
      "metadata": {
        "colab": {
          "base_uri": "https://localhost:8080/",
          "height": 336
        },
        "id": "qIz7MyvOExSl",
        "outputId": "f77686cf-9c13-44b0-f369-5b71ddb19613"
      },
      "source": [
        "plot_distribution(x.detach().numpy(), y.detach().numpy(), y_pred.detach().numpy())"
      ],
      "execution_count": 12,
      "outputs": [
        {
          "output_type": "display_data",
          "data": {
            "image/png": "[encoded data removed]",
            "text/plain": [
              "<Figure size 432x360 with 1 Axes>"
            ]
          },
          "metadata": {
            "tags": [],
            "needs_background": "light"
          }
        }
      ]
    },
    {
      "cell_type": "code",
      "metadata": {
        "id": "nlAoN0XWMM02",
        "outputId": "9ec9edd9-2d0c-4fbb-b212-07a520d3d705",
        "colab": {
          "base_uri": "https://localhost:8080/"
        }
      },
      "source": [
        "y_pred.shape"
      ],
      "execution_count": 13,
      "outputs": [
        {
          "output_type": "execute_result",
          "data": {
            "text/plain": [
              "torch.Size([200, 2])"
            ]
          },
          "metadata": {
            "tags": []
          },
          "execution_count": 13
        }
      ]
    },
    {
      "cell_type": "code",
      "metadata": {
        "colab": {
          "base_uri": "https://localhost:8080/",
          "height": 351
        },
        "id": "5Gd-UeNiE4Ra",
        "outputId": "cd38cfdd-05cf-4799-ddc3-7bcdec3171c3"
      },
      "source": [
        "plot_comparison(y.detach().numpy(), y_pred.detach().numpy())"
      ],
      "execution_count": 14,
      "outputs": [
        {
          "output_type": "display_data",
          "data": {
            "image/png": "[encoded data removed]",
            "text/plain": [
              "<Figure size 432x360 with 1 Axes>"
            ]
          },
          "metadata": {
            "tags": [],
            "needs_background": "light"
          }
        }
      ]
    },
    {
      "cell_type": "markdown",
      "metadata": {
        "id": "7LDsnOtmFB5n"
      },
      "source": [
        "Because there is no auto differentiation, loss function is not converging, so y_pred is not getting close to y_true."
      ]
    }
  ]
}