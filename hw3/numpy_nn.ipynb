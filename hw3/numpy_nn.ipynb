{
  "nbformat": 4,
  "nbformat_minor": 0,
  "metadata": {
    "colab": {
      "name": "numpy_nn_2.ipynb",
      "provenance": [],
      "toc_visible": true
    },
    "kernelspec": {
      "name": "python3",
      "display_name": "Python 3.9.0 64-bit",
      "metadata": {
        "interpreter": {
          "hash": "ac2eaa0ea0ebeafcc7822e65e46aa9d4f966f30b695406963e145ea4a91cd4fc"
        }
      }
    }
  },
  "cells": [
    {
      "cell_type": "code",
      "metadata": {
        "id": "bja7Nwp-p6uc"
      },
      "source": [
        "import numpy as np"
      ],
      "execution_count": 1,
      "outputs": []
    },
    {
      "cell_type": "markdown",
      "metadata": {
        "id": "bcYNkPmvymUP"
      },
      "source": [
        "###Three dimention data"
      ]
    },
    {
      "cell_type": "markdown",
      "metadata": {
        "id": "SB0gwdPdBk5H"
      },
      "source": [
        "####MSE function"
      ]
    },
    {
      "cell_type": "code",
      "metadata": {
        "id": "rLE2kWrwBohl"
      },
      "source": [
        "class MSE:\n",
        "  def __call__(self, y_pred, y_true):\n",
        "    self.y_pred = y_pred\n",
        "    self.y_true = y_true\n",
        "    return ((y_pred - y_true) ** 2).mean()\n",
        "\n",
        "  def backward(self):\n",
        "    n = self.y_true.shape[0]\n",
        "    self.gradient = 2. * (self.y_pred - self.y_true) / n\n",
        "    #print('MSE backward', self.y_pred.shape, self.y_true.shape, self.gradient.shape)\n",
        "    return self.gradient"
      ],
      "execution_count": 2,
      "outputs": []
    },
    {
      "cell_type": "markdown",
      "metadata": {
        "id": "lLk9IANHpw-P"
      },
      "source": [
        "#### Fit fuction"
      ]
    },
    {
      "cell_type": "code",
      "metadata": {
        "id": "eQaMOSGPpxFx"
      },
      "source": [
        "from typing import Callable\n",
        "\n",
        "def fit(x: np.ndarray, y: np.ndarray, model: Callable, loss: Callable, lr: float, num_epochs: int):\n",
        "  for epoch in range(num_epochs):\n",
        "    y_pred = model(x)\n",
        "    loss_value = loss(y_pred, y)\n",
        "    if epoch % 20 == 0:\n",
        "      print(f'Epoch {epoch}, loss {loss_value}')\n",
        "    gradient_from_loss = loss.backward()\n",
        "    model.backward(gradient_from_loss)\n",
        "    model.update(lr)"
      ],
      "execution_count": 3,
      "outputs": []
    },
    {
      "cell_type": "markdown",
      "metadata": {
        "id": "r2DS-bnPoxUB"
      },
      "source": [
        "#### Plot tsne function"
      ]
    },
    {
      "cell_type": "code",
      "metadata": {
        "id": "_rb7hnNNoxce"
      },
      "source": [
        "import matplotlib.pyplot as plt\n",
        "from sklearn.manifold import TSNE\n",
        "\n",
        "def plot_comparison(y_true, y_pred):\n",
        "  #tsne = TSNE(n_components=2, perplexity=50, learning_rate=100, random_state=120)\n",
        "  tsne = TSNE(n_components=2, random_state=0)\n",
        "  x_2d = tsne.fit_transform(x)\n",
        "  yt_2d = tsne.fit_transform(y_true)\n",
        "  yp_2d = tsne.fit_transform(y_pred)\n",
        "\n",
        "  plt.figure(figsize=(6, 5))\n",
        "  plt.scatter(yt_2d[:, 0], yt_2d[:, 1], c='b', label='y_true')\n",
        "  plt.scatter(yp_2d[:, 1], yp_2d[:, 1], c='y', label='y_pred')\n",
        "  plt.legend()\n",
        "  plt.title('TSNE Y_True Y_Pred Comparison')\n",
        "  plt.xlabel('t_SNE1')\n",
        "  plt.xlabel('t_SNE2')\n",
        "  plt.show()\n",
        "\n",
        "def plot_distribution(x, y_true, y_pred):\n",
        "  tsne = TSNE(n_components=1, random_state=0)\n",
        "  x_2d = tsne.fit_transform(x)\n",
        "  yt_2d = tsne.fit_transform(y_true)\n",
        "  yp_2d = tsne.fit_transform(y_pred)\n",
        "\n",
        "  plt.figure(figsize=(6, 5))\n",
        "  plt.scatter(x_2d[:, 0], yt_2d[:, 0], c='b', label='y_true')\n",
        "  plt.scatter(x_2d[:, 0], yp_2d[:, 0], c='y', label='y_pred')\n",
        "  plt.legend()\n",
        "  plt.title('TSNE Y_True Y_Pred Distribution with X')\n",
        "  plt.show()"
      ],
      "execution_count": 65,
      "outputs": []
    },
    {
      "cell_type": "markdown",
      "metadata": {
        "id": "1dnkJttUoQNm"
      },
      "source": [
        "####Linear model"
      ]
    },
    {
      "cell_type": "code",
      "metadata": {
        "id": "IVA2iu1koQkO"
      },
      "source": [
        "class Linear:\n",
        "  def __init__(self, input_dim: int, num_hidden: int = 1):\n",
        "    self.weights = np.random.randn(input_dim, num_hidden) * np.sqrt(2. / input_dim)\n",
        "    self.bias = np.zeros(num_hidden)\n",
        "  \n",
        "  def __call__(self, x):\n",
        "    self.x = x\n",
        "    output = x @ self.weights + self.bias\n",
        "    return output\n",
        "\n",
        "  def backward(self, gradient):\n",
        "    self.weights_gradient = self.x.T @ gradient\n",
        "    self.bias_gradient = gradient.sum(axis=0)\n",
        "    self.x_gradient = gradient @ self.weights.T\n",
        "    return self.x_gradient\n",
        "\n",
        "  def update(self, lr):\n",
        "    self.weights = self.weights - lr * self.weights_gradient\n",
        "    self.bias = self.bias - lr * self.bias_gradient"
      ],
      "execution_count": 6,
      "outputs": []
    },
    {
      "cell_type": "markdown",
      "metadata": {
        "id": "b_Q3msi8501n"
      },
      "source": [
        "#### Non-Linear model generation\n"
      ]
    },
    {
      "cell_type": "markdown",
      "metadata": {
        "id": "ZEABFne4oqZe"
      },
      "source": [
        "3 layers neural network using relu nonlinearity"
      ]
    },
    {
      "cell_type": "code",
      "metadata": {
        "id": "N_kfAg4u5rrg"
      },
      "source": [
        "class Relu:\n",
        "    def __call__(self, input_):\n",
        "        self.input_ = input_\n",
        "        self.output = np.clip(self.input_, 0, None)\n",
        "        return self.output\n",
        "    \n",
        "    def backward(self, output_gradient):\n",
        "      # import pdb; pdb.set_trace()  # By the way, this is how you can debug\n",
        "      self.input_gradient = (self.input_ > 0) * output_gradient\n",
        "      return self.input_gradient\n",
        "\n",
        "class Model:\n",
        "  def __init__(self, input_dim, num_hidden, ouput_dim):\n",
        "    self.linear1 = Linear(input_dim, num_hidden)\n",
        "    self.relu1 = Relu()\n",
        "    self.relu2 = Relu()\n",
        "    self.linear2 = Linear(num_hidden, ouput_dim)\n",
        "  \n",
        "  def __call__(self, x):\n",
        "    l1 = self.linear1(x)\n",
        "    r1 = self.relu1(l1)\n",
        "    r2 = self.relu2(r1)\n",
        "    l2 = self.linear2(r2)\n",
        "    return l2\n",
        "  \n",
        "  def backward(self, output_gradient):\n",
        "    linear2_gradient = self.linear2.backward(output_gradient)\n",
        "    relu2_gradient = self.relu2.backward(linear2_gradient)\n",
        "    relu1_gradient = self.relu1.backward(relu2_gradient)\n",
        "    linear1_gradient = self.linear1.backward(relu1_gradient)\n",
        "    # print('Model backward', linear2_gradient.shape, relu_gradient.shape, linear1_gradient.shape)\n",
        "    # import pdb; pdb.set_trace()\n",
        "    return linear1_gradient\n",
        "\n",
        "  def update(self, lr):\n",
        "    self.linear2.update(lr)\n",
        "    self.linear1.update(lr)"
      ],
      "execution_count": 7,
      "outputs": []
    },
    {
      "cell_type": "markdown",
      "metadata": {
        "id": "Nom5WmLlv23I"
      },
      "source": [
        "####Three dimention non-linear input generation"
      ]
    },
    {
      "cell_type": "code",
      "metadata": {
        "colab": {
          "base_uri": "https://localhost:8080/"
        },
        "id": "lk7wuooGv1KC",
        "outputId": "21bf4138-c65e-403b-d30b-e2ca0962a402"
      },
      "source": [
        "n = 200\n",
        "d = 3\n",
        "x = np.random.uniform(-1, 1, (n, d))\n",
        "\n",
        "weights_true = np.array([[3, 1, -1],[2, 0, -2],]).T\n",
        "bias_true = np.array([0.5, 0.1])\n",
        "\n",
        "y_true = (x ** 2) @ weights_true + x @ weights_true + bias_true\n",
        "print(f'x: {x.shape}, weights: {weights_true.shape}, bias: {bias_true.shape}, y: {y_true.shape}')\n",
        "\n",
        "#plot_3d(x, y_true[:, 0])"
      ],
      "execution_count": 8,
      "outputs": [
        {
          "output_type": "stream",
          "text": [
            "x: (200, 3), weights: (3, 2), bias: (2,), y: (200, 2)\n"
          ],
          "name": "stdout"
        }
      ]
    },
    {
      "cell_type": "markdown",
      "metadata": {
        "id": "fAjQw-_1x4cI"
      },
      "source": [
        "####Initialize nonlinear and loss for three dimention data\n",
        "\n",
        "3-d input and 2-d output with 2 hidden layers, 10 neurons for hidden layers"
      ]
    },
    {
      "cell_type": "code",
      "metadata": {
        "colab": {
          "base_uri": "https://localhost:8080/"
        },
        "id": "y-TBs0O2x4cS",
        "outputId": "d545bc05-6324-4e42-fee1-db1f812de7f9"
      },
      "source": [
        "loss = MSE()\n",
        "nonlinear = Model(3, 10, 2)\n",
        "y_pred = nonlinear(x)\n",
        "print(x.shape, weights_true.shape, y_true.shape, y_pred.shape)\n",
        "print(loss(y_pred, y_true))\n",
        "#fig = plot_3d(x, y_true[:, 0], y_pred[:, 0])"
      ],
      "execution_count": 9,
      "outputs": [
        {
          "output_type": "stream",
          "text": [
            "(200, 3) (3, 2) (200, 2) (200, 2)\n",
            "5.175583021098763\n"
          ],
          "name": "stdout"
        }
      ]
    },
    {
      "cell_type": "markdown",
      "metadata": {
        "id": "57nZEGSHwt-Q"
      },
      "source": [
        "####Train three dimention data"
      ]
    },
    {
      "cell_type": "code",
      "metadata": {
        "id": "GRkPypmiwtY1",
        "colab": {
          "base_uri": "https://localhost:8080/"
        },
        "outputId": "fcbea838-e089-414e-e025-eb9e94e7100d"
      },
      "source": [
        "fit(x, y_true, model=nonlinear, loss=loss, lr=0.1, num_epochs=200)\n",
        "\n",
        "y_pred = nonlinear(x)"
      ],
      "execution_count": 39,
      "outputs": [
        {
          "output_type": "stream",
          "text": [
            "Epoch 0, loss 0.05073068171921222\n",
            "Epoch 20, loss 0.04924128566461168\n",
            "Epoch 40, loss 0.047931477659995704\n",
            "Epoch 60, loss 0.04683014767879264\n",
            "Epoch 80, loss 0.04599152291934947\n",
            "Epoch 100, loss 0.04525333914446505\n",
            "Epoch 120, loss 0.04452878561891396\n",
            "Epoch 140, loss 0.043760813768320105\n",
            "Epoch 160, loss 0.043033454874354844\n",
            "Epoch 180, loss 0.04235526258056737\n"
          ],
          "name": "stdout"
        }
      ]
    },
    {
      "cell_type": "markdown",
      "metadata": {
        "id": "CrdJqjOHl1UG"
      },
      "source": [
        "####Plot the output and the real data using tsne"
      ]
    },
    {
      "cell_type": "code",
      "metadata": {
        "id": "-RZIf2dIJ6-l",
        "outputId": "e8bbf85e-d0f2-49de-fc9c-1a7da337d688",
        "colab": {
          "base_uri": "https://localhost:8080/",
          "height": 335
        }
      },
      "source": [
        "plot_distribution(x, y_true, y_pred)"
      ],
      "execution_count": 60,
      "outputs": [
        {
          "output_type": "display_data",
          "data": {
            "image/png": "[encoded data removed]",
            "text/plain": [
              "<Figure size 432x360 with 1 Axes>"
            ]
          },
          "metadata": {
            "tags": [],
            "needs_background": "light"
          }
        }
      ]
    },
    {
      "cell_type": "code",
      "metadata": {
        "id": "KGRi5HCiMTHh",
        "outputId": "0e400590-9ef7-41f9-c3a8-f1bcef445407",
        "colab": {
          "base_uri": "https://localhost:8080/",
          "height": 351
        }
      },
      "source": [
        "plot_comparison(y_true, y_pred)"
      ],
      "execution_count": 66,
      "outputs": [
        {
          "output_type": "display_data",
          "data": {
            "image/png": "[encoded data removed]",
            "text/plain": [
              "<Figure size 432x360 with 1 Axes>"
            ]
          },
          "metadata": {
            "tags": [],
            "needs_background": "light"
          }
        }
      ]
    }
  ]
}