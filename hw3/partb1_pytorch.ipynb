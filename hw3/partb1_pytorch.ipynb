{
  "nbformat": 4,
  "nbformat_minor": 0,
  "metadata": {
    "kernelspec": {
      "display_name": "Python 3",
      "language": "python",
      "name": "python3"
    },
    "language_info": {
      "codemirror_mode": {
        "name": "ipython",
        "version": 3
      },
      "file_extension": ".py",
      "mimetype": "text/x-python",
      "name": "python",
      "nbconvert_exporter": "python",
      "pygments_lexer": "ipython3",
      "version": "3.7.6"
    },
    "colab": {
      "name": "Copy of 3_optimizers.ipynb",
      "provenance": [],
      "toc_visible": true,
      "include_colab_link": true
    }
  },
  "cells": [
    {
      "cell_type": "markdown",
      "metadata": {
        "id": "view-in-github",
        "colab_type": "text"
      },
      "source": [
        "<a href=\"https://colab.research.google.com/github/YuxingW/deep_learning/blob/main/hw3/partb1_pytorch.ipynb\" target=\"_parent\"><img src=\"https://colab.research.google.com/assets/colab-badge.svg\" alt=\"Open In Colab\"/></a>"
      ]
    },
    {
      "cell_type": "markdown",
      "metadata": {
        "id": "lfGBUSKOB7tQ"
      },
      "source": [
        "###Pytorch tensor datastructure without auto differentiation"
      ]
    },
    {
      "cell_type": "code",
      "metadata": {
        "id": "oopzZzHTAFCf"
      },
      "source": [
        "%matplotlib inline\n",
        "import numpy as np\n",
        "import torch\n",
        "torch.set_printoptions(edgeitems=2, linewidth=75)"
      ],
      "execution_count": 123,
      "outputs": []
    },
    {
      "cell_type": "markdown",
      "metadata": {
        "id": "1ldHuSCzBTMe"
      },
      "source": [
        "#### 3d-2d non-linear data generation"
      ]
    },
    {
      "cell_type": "code",
      "metadata": {
        "id": "kcqNPJbkAFCl",
        "outputId": "359b077c-ea3e-478f-c41f-a0fa354c80b4",
        "colab": {
          "base_uri": "https://localhost:8080/"
        }
      },
      "source": [
        "n_samples = 200\n",
        "d1 = 3\n",
        "d2 = 2\n",
        "x = torch.FloatTensor(n_samples, d1).uniform_(-1,1)\n",
        "\n",
        "weights_true = torch.FloatTensor([[5, 1, 4],[2, 1, 2]]).T\n",
        "bias_true = torch.tensor([0.25, 0.1])\n",
        "\n",
        "y = torch.mm(x ** 2, weights_true) + torch.mm(x, weights_true) + bias_true\n",
        "\n",
        "print(f'x: {x.shape}, weights: {weights_true.shape}, bias: {bias_true.shape}, y: {y.shape}')"
      ],
      "execution_count": 124,
      "outputs": [
        {
          "output_type": "stream",
          "text": [
            "x: torch.Size([200, 3]), weights: torch.Size([3, 2]), bias: torch.Size([2]), y: torch.Size([200, 2])\n"
          ],
          "name": "stdout"
        }
      ]
    },
    {
      "cell_type": "markdown",
      "metadata": {
        "id": "tOkUITXRCfrd"
      },
      "source": [
        "#### Define model and loss"
      ]
    },
    {
      "cell_type": "code",
      "metadata": {
        "id": "l7JkRGRQAFCl"
      },
      "source": [
        "def model(x, weights, bias):\n",
        "    return torch.mm(x, weights) + bias"
      ],
      "execution_count": 125,
      "outputs": []
    },
    {
      "cell_type": "code",
      "metadata": {
        "id": "aTQOZX9XAFCm"
      },
      "source": [
        "def loss_fn(y_pred, y_true):\n",
        "    squared_diffs = (y_pred - y_true)**2\n",
        "    return squared_diffs.mean()"
      ],
      "execution_count": 126,
      "outputs": []
    },
    {
      "cell_type": "markdown",
      "metadata": {
        "id": "7P9pzsAzCmEV"
      },
      "source": [
        "####Initialize weights and bias for model"
      ]
    },
    {
      "cell_type": "code",
      "metadata": {
        "id": "012lpfH_AneJ"
      },
      "source": [
        "weights = torch.FloatTensor([[2, 1, 1],[1, 2, 1]]).T\n",
        "bias = torch.tensor([0.1, 0.1])"
      ],
      "execution_count": 127,
      "outputs": []
    },
    {
      "cell_type": "code",
      "metadata": {
        "id": "NL5Nc_arAFCm"
      },
      "source": [
        "import torch.optim as optim"
      ],
      "execution_count": 128,
      "outputs": []
    },
    {
      "cell_type": "markdown",
      "metadata": {
        "id": "3vKgIKrjC3C9"
      },
      "source": [
        "####Initialize learning rate and optimizer"
      ]
    },
    {
      "cell_type": "code",
      "metadata": {
        "id": "mv17vLc5AFCn"
      },
      "source": [
        "#params = torch.tensor([1.0, 1.0, 1.0, 0.0], requires_grad=False)\n",
        "learning_rate = 1e-5\n",
        "optimizer = optim.SGD([weights, bias,], lr=learning_rate)"
      ],
      "execution_count": 129,
      "outputs": []
    },
    {
      "cell_type": "markdown",
      "metadata": {
        "id": "2wHx_9pQDFLw"
      },
      "source": [
        "####Do one step training"
      ]
    },
    {
      "cell_type": "code",
      "metadata": {
        "id": "9XsWCJqQAFCn",
        "colab": {
          "base_uri": "https://localhost:8080/"
        },
        "outputId": "7eb2b399-ffbd-4857-9905-a401e07744f4"
      },
      "source": [
        "y_pred = model(x, weights, bias)\n",
        "loss = loss_fn(y_pred, y)\n",
        "#loss.backward()\n",
        "\n",
        "optimizer.step()\n",
        "\n",
        "y_pred.shape"
      ],
      "execution_count": 130,
      "outputs": [
        {
          "output_type": "execute_result",
          "data": {
            "text/plain": [
              "torch.Size([200, 2])"
            ]
          },
          "metadata": {
            "tags": []
          },
          "execution_count": 130
        }
      ]
    },
    {
      "cell_type": "markdown",
      "metadata": {
        "id": "xs65_NCADNtU"
      },
      "source": [
        "####Do training loop with 5000 eporches"
      ]
    },
    {
      "cell_type": "code",
      "metadata": {
        "id": "luDjZGYfAFCo"
      },
      "source": [
        "def training_loop(n_epochs, optimizer, weights, bias, x, y):\n",
        "    for epoch in range(1, n_epochs + 1):\n",
        "        y_pred = model(x, weights, bias) \n",
        "        loss = loss_fn(y_pred, y)\n",
        "        \n",
        "        optimizer.zero_grad()\n",
        "        #loss.backward()\n",
        "        optimizer.step()\n",
        "\n",
        "        if epoch % 500 == 0:\n",
        "            print('Epoch %d, Loss %f' % (epoch, float(loss)))\n",
        "            \n",
        "    return params"
      ],
      "execution_count": 131,
      "outputs": []
    },
    {
      "cell_type": "code",
      "metadata": {
        "id": "k8j0fSAQAFCo",
        "colab": {
          "base_uri": "https://localhost:8080/"
        },
        "outputId": "e13832e4-3447-49d5-c482-e42caa54cb5b"
      },
      "source": [
        "#params = torch.tensor([1.0, 0.0], requires_grad=False)\n",
        "\n",
        "learning_rate = 1e-2\n",
        "optimizer = optim.SGD([params], lr=learning_rate) # <1>\n",
        "\n",
        "training_loop(\n",
        "    n_epochs = 5000, \n",
        "    optimizer = optimizer,\n",
        "    weights = weights,\n",
        "    bias = bias,\n",
        "    x = x,\n",
        "    y = y)"
      ],
      "execution_count": 132,
      "outputs": [
        {
          "output_type": "stream",
          "text": [
            "Epoch 500, Loss 13.422301\n",
            "Epoch 1000, Loss 13.422301\n",
            "Epoch 1500, Loss 13.422301\n",
            "Epoch 2000, Loss 13.422301\n",
            "Epoch 2500, Loss 13.422301\n",
            "Epoch 3000, Loss 13.422301\n",
            "Epoch 3500, Loss 13.422301\n",
            "Epoch 4000, Loss 13.422301\n",
            "Epoch 4500, Loss 13.422301\n",
            "Epoch 5000, Loss 13.422301\n"
          ],
          "name": "stdout"
        },
        {
          "output_type": "execute_result",
          "data": {
            "text/plain": [
              "tensor([1., 1., 1., 0.])"
            ]
          },
          "metadata": {
            "tags": []
          },
          "execution_count": 132
        }
      ]
    }
  ]
}