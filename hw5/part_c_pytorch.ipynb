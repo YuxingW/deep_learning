{
  "nbformat": 4,
  "nbformat_minor": 0,
  "metadata": {
    "colab": {
      "name": "Copy of NYC_Taxi_PyTorch",
      "provenance": [],
      "collapsed_sections": [],
      "toc_visible": true,
      "include_colab_link": true
    },
    "kernelspec": {
      "name": "python3",
      "display_name": "Python 3"
    },
    "accelerator": "GPU",
    "widgets": {
      "application/vnd.jupyter.widget-state+json": {
        "04cefbeb33d444baa9951df87dca067d": {
          "model_module": "@jupyter-widgets/controls",
          "model_name": "HBoxModel",
          "state": {
            "_view_name": "HBoxView",
            "_dom_classes": [],
            "_model_name": "HBoxModel",
            "_view_module": "@jupyter-widgets/controls",
            "_model_module_version": "1.5.0",
            "_view_count": null,
            "_view_module_version": "1.5.0",
            "box_style": "",
            "layout": "IPY_MODEL_96a7b926427141f6946792511f4dcb74",
            "_model_module": "@jupyter-widgets/controls",
            "children": [
              "IPY_MODEL_347c1f219c4b4c418f3ea93e29ffbee1",
              "IPY_MODEL_119a54643608496c9b519e3f9157590a"
            ]
          }
        },
        "96a7b926427141f6946792511f4dcb74": {
          "model_module": "@jupyter-widgets/base",
          "model_name": "LayoutModel",
          "state": {
            "_view_name": "LayoutView",
            "grid_template_rows": null,
            "right": null,
            "justify_content": null,
            "_view_module": "@jupyter-widgets/base",
            "overflow": null,
            "_model_module_version": "1.2.0",
            "_view_count": null,
            "flex_flow": null,
            "width": null,
            "min_width": null,
            "border": null,
            "align_items": null,
            "bottom": null,
            "_model_module": "@jupyter-widgets/base",
            "top": null,
            "grid_column": null,
            "overflow_y": null,
            "overflow_x": null,
            "grid_auto_flow": null,
            "grid_area": null,
            "grid_template_columns": null,
            "flex": null,
            "_model_name": "LayoutModel",
            "justify_items": null,
            "grid_row": null,
            "max_height": null,
            "align_content": null,
            "visibility": null,
            "align_self": null,
            "height": null,
            "min_height": null,
            "padding": null,
            "grid_auto_rows": null,
            "grid_gap": null,
            "max_width": null,
            "order": null,
            "_view_module_version": "1.2.0",
            "grid_template_areas": null,
            "object_position": null,
            "object_fit": null,
            "grid_auto_columns": null,
            "margin": null,
            "display": null,
            "left": null
          }
        },
        "347c1f219c4b4c418f3ea93e29ffbee1": {
          "model_module": "@jupyter-widgets/controls",
          "model_name": "FloatProgressModel",
          "state": {
            "_view_name": "ProgressView",
            "style": "IPY_MODEL_c21bfabd7ff64ab69e36cfab8ce8f812",
            "_dom_classes": [],
            "description": "100%",
            "_model_name": "FloatProgressModel",
            "bar_style": "success",
            "max": 20,
            "_view_module": "@jupyter-widgets/controls",
            "_model_module_version": "1.5.0",
            "value": 20,
            "_view_count": null,
            "_view_module_version": "1.5.0",
            "orientation": "horizontal",
            "min": 0,
            "description_tooltip": null,
            "_model_module": "@jupyter-widgets/controls",
            "layout": "IPY_MODEL_8a1bcb7871824e1e99b4afeeabfd6b9d"
          }
        },
        "119a54643608496c9b519e3f9157590a": {
          "model_module": "@jupyter-widgets/controls",
          "model_name": "HTMLModel",
          "state": {
            "_view_name": "HTMLView",
            "style": "IPY_MODEL_8e5c5bf9ab72420eb8fdd5e000723c6a",
            "_dom_classes": [],
            "description": "",
            "_model_name": "HTMLModel",
            "placeholder": "​",
            "_view_module": "@jupyter-widgets/controls",
            "_model_module_version": "1.5.0",
            "value": " 20/20 [01:50&lt;00:00,  5.50s/it]",
            "_view_count": null,
            "_view_module_version": "1.5.0",
            "description_tooltip": null,
            "_model_module": "@jupyter-widgets/controls",
            "layout": "IPY_MODEL_dca69256bd424e7b9bbafb30d1d10e18"
          }
        },
        "c21bfabd7ff64ab69e36cfab8ce8f812": {
          "model_module": "@jupyter-widgets/controls",
          "model_name": "ProgressStyleModel",
          "state": {
            "_view_name": "StyleView",
            "_model_name": "ProgressStyleModel",
            "description_width": "initial",
            "_view_module": "@jupyter-widgets/base",
            "_model_module_version": "1.5.0",
            "_view_count": null,
            "_view_module_version": "1.2.0",
            "bar_color": null,
            "_model_module": "@jupyter-widgets/controls"
          }
        },
        "8a1bcb7871824e1e99b4afeeabfd6b9d": {
          "model_module": "@jupyter-widgets/base",
          "model_name": "LayoutModel",
          "state": {
            "_view_name": "LayoutView",
            "grid_template_rows": null,
            "right": null,
            "justify_content": null,
            "_view_module": "@jupyter-widgets/base",
            "overflow": null,
            "_model_module_version": "1.2.0",
            "_view_count": null,
            "flex_flow": null,
            "width": null,
            "min_width": null,
            "border": null,
            "align_items": null,
            "bottom": null,
            "_model_module": "@jupyter-widgets/base",
            "top": null,
            "grid_column": null,
            "overflow_y": null,
            "overflow_x": null,
            "grid_auto_flow": null,
            "grid_area": null,
            "grid_template_columns": null,
            "flex": null,
            "_model_name": "LayoutModel",
            "justify_items": null,
            "grid_row": null,
            "max_height": null,
            "align_content": null,
            "visibility": null,
            "align_self": null,
            "height": null,
            "min_height": null,
            "padding": null,
            "grid_auto_rows": null,
            "grid_gap": null,
            "max_width": null,
            "order": null,
            "_view_module_version": "1.2.0",
            "grid_template_areas": null,
            "object_position": null,
            "object_fit": null,
            "grid_auto_columns": null,
            "margin": null,
            "display": null,
            "left": null
          }
        },
        "8e5c5bf9ab72420eb8fdd5e000723c6a": {
          "model_module": "@jupyter-widgets/controls",
          "model_name": "DescriptionStyleModel",
          "state": {
            "_view_name": "StyleView",
            "_model_name": "DescriptionStyleModel",
            "description_width": "",
            "_view_module": "@jupyter-widgets/base",
            "_model_module_version": "1.5.0",
            "_view_count": null,
            "_view_module_version": "1.2.0",
            "_model_module": "@jupyter-widgets/controls"
          }
        },
        "dca69256bd424e7b9bbafb30d1d10e18": {
          "model_module": "@jupyter-widgets/base",
          "model_name": "LayoutModel",
          "state": {
            "_view_name": "LayoutView",
            "grid_template_rows": null,
            "right": null,
            "justify_content": null,
            "_view_module": "@jupyter-widgets/base",
            "overflow": null,
            "_model_module_version": "1.2.0",
            "_view_count": null,
            "flex_flow": null,
            "width": null,
            "min_width": null,
            "border": null,
            "align_items": null,
            "bottom": null,
            "_model_module": "@jupyter-widgets/base",
            "top": null,
            "grid_column": null,
            "overflow_y": null,
            "overflow_x": null,
            "grid_auto_flow": null,
            "grid_area": null,
            "grid_template_columns": null,
            "flex": null,
            "_model_name": "LayoutModel",
            "justify_items": null,
            "grid_row": null,
            "max_height": null,
            "align_content": null,
            "visibility": null,
            "align_self": null,
            "height": null,
            "min_height": null,
            "padding": null,
            "grid_auto_rows": null,
            "grid_gap": null,
            "max_width": null,
            "order": null,
            "_view_module_version": "1.2.0",
            "grid_template_areas": null,
            "object_position": null,
            "object_fit": null,
            "grid_auto_columns": null,
            "margin": null,
            "display": null,
            "left": null
          }
        },
        "bd73166dc8e14533a04dfb56a16f67bb": {
          "model_module": "@jupyter-widgets/controls",
          "model_name": "HBoxModel",
          "state": {
            "_view_name": "HBoxView",
            "_dom_classes": [],
            "_model_name": "HBoxModel",
            "_view_module": "@jupyter-widgets/controls",
            "_model_module_version": "1.5.0",
            "_view_count": null,
            "_view_module_version": "1.5.0",
            "box_style": "",
            "layout": "IPY_MODEL_6395907bf20045c78dc763fd00489a15",
            "_model_module": "@jupyter-widgets/controls",
            "children": [
              "IPY_MODEL_eecdba07e35744db9931d9050bd6c292",
              "IPY_MODEL_a68ca039c83441cfad96855234f55c73"
            ]
          }
        },
        "6395907bf20045c78dc763fd00489a15": {
          "model_module": "@jupyter-widgets/base",
          "model_name": "LayoutModel",
          "state": {
            "_view_name": "LayoutView",
            "grid_template_rows": null,
            "right": null,
            "justify_content": null,
            "_view_module": "@jupyter-widgets/base",
            "overflow": null,
            "_model_module_version": "1.2.0",
            "_view_count": null,
            "flex_flow": null,
            "width": null,
            "min_width": null,
            "border": null,
            "align_items": null,
            "bottom": null,
            "_model_module": "@jupyter-widgets/base",
            "top": null,
            "grid_column": null,
            "overflow_y": null,
            "overflow_x": null,
            "grid_auto_flow": null,
            "grid_area": null,
            "grid_template_columns": null,
            "flex": null,
            "_model_name": "LayoutModel",
            "justify_items": null,
            "grid_row": null,
            "max_height": null,
            "align_content": null,
            "visibility": null,
            "align_self": null,
            "height": null,
            "min_height": null,
            "padding": null,
            "grid_auto_rows": null,
            "grid_gap": null,
            "max_width": null,
            "order": null,
            "_view_module_version": "1.2.0",
            "grid_template_areas": null,
            "object_position": null,
            "object_fit": null,
            "grid_auto_columns": null,
            "margin": null,
            "display": null,
            "left": null
          }
        },
        "eecdba07e35744db9931d9050bd6c292": {
          "model_module": "@jupyter-widgets/controls",
          "model_name": "FloatProgressModel",
          "state": {
            "_view_name": "ProgressView",
            "style": "IPY_MODEL_d7002ac2702449c7949fd11a3b554ad1",
            "_dom_classes": [],
            "description": "Epoch 0: 100%",
            "_model_name": "FloatProgressModel",
            "bar_style": "",
            "max": 563,
            "_view_module": "@jupyter-widgets/controls",
            "_model_module_version": "1.5.0",
            "value": 563,
            "_view_count": null,
            "_view_module_version": "1.5.0",
            "orientation": "horizontal",
            "min": 0,
            "description_tooltip": null,
            "_model_module": "@jupyter-widgets/controls",
            "layout": "IPY_MODEL_a3b09d5776f84f56a1f8d0d34d1a1cb3"
          }
        },
        "a68ca039c83441cfad96855234f55c73": {
          "model_module": "@jupyter-widgets/controls",
          "model_name": "HTMLModel",
          "state": {
            "_view_name": "HTMLView",
            "style": "IPY_MODEL_522bf10775cc42a09b4e2f96ec8a2c13",
            "_dom_classes": [],
            "description": "",
            "_model_name": "HTMLModel",
            "placeholder": "​",
            "_view_module": "@jupyter-widgets/controls",
            "_model_module_version": "1.5.0",
            "value": " 563/563 [00:04&lt;00:00, 125.15it/s, loss=0.116]",
            "_view_count": null,
            "_view_module_version": "1.5.0",
            "description_tooltip": null,
            "_model_module": "@jupyter-widgets/controls",
            "layout": "IPY_MODEL_5e7edf09794247c0abe058daa9945101"
          }
        },
        "d7002ac2702449c7949fd11a3b554ad1": {
          "model_module": "@jupyter-widgets/controls",
          "model_name": "ProgressStyleModel",
          "state": {
            "_view_name": "StyleView",
            "_model_name": "ProgressStyleModel",
            "description_width": "initial",
            "_view_module": "@jupyter-widgets/base",
            "_model_module_version": "1.5.0",
            "_view_count": null,
            "_view_module_version": "1.2.0",
            "bar_color": null,
            "_model_module": "@jupyter-widgets/controls"
          }
        },
        "a3b09d5776f84f56a1f8d0d34d1a1cb3": {
          "model_module": "@jupyter-widgets/base",
          "model_name": "LayoutModel",
          "state": {
            "_view_name": "LayoutView",
            "grid_template_rows": null,
            "right": null,
            "justify_content": null,
            "_view_module": "@jupyter-widgets/base",
            "overflow": null,
            "_model_module_version": "1.2.0",
            "_view_count": null,
            "flex_flow": null,
            "width": null,
            "min_width": null,
            "border": null,
            "align_items": null,
            "bottom": null,
            "_model_module": "@jupyter-widgets/base",
            "top": null,
            "grid_column": null,
            "overflow_y": null,
            "overflow_x": null,
            "grid_auto_flow": null,
            "grid_area": null,
            "grid_template_columns": null,
            "flex": null,
            "_model_name": "LayoutModel",
            "justify_items": null,
            "grid_row": null,
            "max_height": null,
            "align_content": null,
            "visibility": null,
            "align_self": null,
            "height": null,
            "min_height": null,
            "padding": null,
            "grid_auto_rows": null,
            "grid_gap": null,
            "max_width": null,
            "order": null,
            "_view_module_version": "1.2.0",
            "grid_template_areas": null,
            "object_position": null,
            "object_fit": null,
            "grid_auto_columns": null,
            "margin": null,
            "display": null,
            "left": null
          }
        },
        "522bf10775cc42a09b4e2f96ec8a2c13": {
          "model_module": "@jupyter-widgets/controls",
          "model_name": "DescriptionStyleModel",
          "state": {
            "_view_name": "StyleView",
            "_model_name": "DescriptionStyleModel",
            "description_width": "",
            "_view_module": "@jupyter-widgets/base",
            "_model_module_version": "1.5.0",
            "_view_count": null,
            "_view_module_version": "1.2.0",
            "_model_module": "@jupyter-widgets/controls"
          }
        },
        "5e7edf09794247c0abe058daa9945101": {
          "model_module": "@jupyter-widgets/base",
          "model_name": "LayoutModel",
          "state": {
            "_view_name": "LayoutView",
            "grid_template_rows": null,
            "right": null,
            "justify_content": null,
            "_view_module": "@jupyter-widgets/base",
            "overflow": null,
            "_model_module_version": "1.2.0",
            "_view_count": null,
            "flex_flow": null,
            "width": null,
            "min_width": null,
            "border": null,
            "align_items": null,
            "bottom": null,
            "_model_module": "@jupyter-widgets/base",
            "top": null,
            "grid_column": null,
            "overflow_y": null,
            "overflow_x": null,
            "grid_auto_flow": null,
            "grid_area": null,
            "grid_template_columns": null,
            "flex": null,
            "_model_name": "LayoutModel",
            "justify_items": null,
            "grid_row": null,
            "max_height": null,
            "align_content": null,
            "visibility": null,
            "align_self": null,
            "height": null,
            "min_height": null,
            "padding": null,
            "grid_auto_rows": null,
            "grid_gap": null,
            "max_width": null,
            "order": null,
            "_view_module_version": "1.2.0",
            "grid_template_areas": null,
            "object_position": null,
            "object_fit": null,
            "grid_auto_columns": null,
            "margin": null,
            "display": null,
            "left": null
          }
        },
        "b0629bd802cf4b0db353c361c675278e": {
          "model_module": "@jupyter-widgets/controls",
          "model_name": "HBoxModel",
          "state": {
            "_view_name": "HBoxView",
            "_dom_classes": [],
            "_model_name": "HBoxModel",
            "_view_module": "@jupyter-widgets/controls",
            "_model_module_version": "1.5.0",
            "_view_count": null,
            "_view_module_version": "1.5.0",
            "box_style": "",
            "layout": "IPY_MODEL_8af26f598c694301ac10cac42e8294a6",
            "_model_module": "@jupyter-widgets/controls",
            "children": [
              "IPY_MODEL_8bf1ee9c435247fba3752206f940e521",
              "IPY_MODEL_3c0277a393014ed2b6e5b2325eea4e33"
            ]
          }
        },
        "8af26f598c694301ac10cac42e8294a6": {
          "model_module": "@jupyter-widgets/base",
          "model_name": "LayoutModel",
          "state": {
            "_view_name": "LayoutView",
            "grid_template_rows": null,
            "right": null,
            "justify_content": null,
            "_view_module": "@jupyter-widgets/base",
            "overflow": null,
            "_model_module_version": "1.2.0",
            "_view_count": null,
            "flex_flow": null,
            "width": null,
            "min_width": null,
            "border": null,
            "align_items": null,
            "bottom": null,
            "_model_module": "@jupyter-widgets/base",
            "top": null,
            "grid_column": null,
            "overflow_y": null,
            "overflow_x": null,
            "grid_auto_flow": null,
            "grid_area": null,
            "grid_template_columns": null,
            "flex": null,
            "_model_name": "LayoutModel",
            "justify_items": null,
            "grid_row": null,
            "max_height": null,
            "align_content": null,
            "visibility": null,
            "align_self": null,
            "height": null,
            "min_height": null,
            "padding": null,
            "grid_auto_rows": null,
            "grid_gap": null,
            "max_width": null,
            "order": null,
            "_view_module_version": "1.2.0",
            "grid_template_areas": null,
            "object_position": null,
            "object_fit": null,
            "grid_auto_columns": null,
            "margin": null,
            "display": null,
            "left": null
          }
        },
        "8bf1ee9c435247fba3752206f940e521": {
          "model_module": "@jupyter-widgets/controls",
          "model_name": "FloatProgressModel",
          "state": {
            "_view_name": "ProgressView",
            "style": "IPY_MODEL_3271836a1dc543e1bd308e5ecfb52338",
            "_dom_classes": [],
            "description": "100%",
            "_model_name": "FloatProgressModel",
            "bar_style": "",
            "max": 141,
            "_view_module": "@jupyter-widgets/controls",
            "_model_module_version": "1.5.0",
            "value": 141,
            "_view_count": null,
            "_view_module_version": "1.5.0",
            "orientation": "horizontal",
            "min": 0,
            "description_tooltip": null,
            "_model_module": "@jupyter-widgets/controls",
            "layout": "IPY_MODEL_2ce2d596d32940e19f4993694684518a"
          }
        },
        "3c0277a393014ed2b6e5b2325eea4e33": {
          "model_module": "@jupyter-widgets/controls",
          "model_name": "HTMLModel",
          "state": {
            "_view_name": "HTMLView",
            "style": "IPY_MODEL_a8585746d4494fd9a719ed3bd5fed46e",
            "_dom_classes": [],
            "description": "",
            "_model_name": "HTMLModel",
            "placeholder": "​",
            "_view_module": "@jupyter-widgets/controls",
            "_model_module_version": "1.5.0",
            "value": " 141/141 [00:00&lt;00:00, 299.12it/s]",
            "_view_count": null,
            "_view_module_version": "1.5.0",
            "description_tooltip": null,
            "_model_module": "@jupyter-widgets/controls",
            "layout": "IPY_MODEL_a08e83816d1640768bd5be4e61694d72"
          }
        },
        "3271836a1dc543e1bd308e5ecfb52338": {
          "model_module": "@jupyter-widgets/controls",
          "model_name": "ProgressStyleModel",
          "state": {
            "_view_name": "StyleView",
            "_model_name": "ProgressStyleModel",
            "description_width": "initial",
            "_view_module": "@jupyter-widgets/base",
            "_model_module_version": "1.5.0",
            "_view_count": null,
            "_view_module_version": "1.2.0",
            "bar_color": null,
            "_model_module": "@jupyter-widgets/controls"
          }
        },
        "2ce2d596d32940e19f4993694684518a": {
          "model_module": "@jupyter-widgets/base",
          "model_name": "LayoutModel",
          "state": {
            "_view_name": "LayoutView",
            "grid_template_rows": null,
            "right": null,
            "justify_content": null,
            "_view_module": "@jupyter-widgets/base",
            "overflow": null,
            "_model_module_version": "1.2.0",
            "_view_count": null,
            "flex_flow": null,
            "width": null,
            "min_width": null,
            "border": null,
            "align_items": null,
            "bottom": null,
            "_model_module": "@jupyter-widgets/base",
            "top": null,
            "grid_column": null,
            "overflow_y": null,
            "overflow_x": null,
            "grid_auto_flow": null,
            "grid_area": null,
            "grid_template_columns": null,
            "flex": null,
            "_model_name": "LayoutModel",
            "justify_items": null,
            "grid_row": null,
            "max_height": null,
            "align_content": null,
            "visibility": null,
            "align_self": null,
            "height": null,
            "min_height": null,
            "padding": null,
            "grid_auto_rows": null,
            "grid_gap": null,
            "max_width": null,
            "order": null,
            "_view_module_version": "1.2.0",
            "grid_template_areas": null,
            "object_position": null,
            "object_fit": null,
            "grid_auto_columns": null,
            "margin": null,
            "display": null,
            "left": null
          }
        },
        "a8585746d4494fd9a719ed3bd5fed46e": {
          "model_module": "@jupyter-widgets/controls",
          "model_name": "DescriptionStyleModel",
          "state": {
            "_view_name": "StyleView",
            "_model_name": "DescriptionStyleModel",
            "description_width": "",
            "_view_module": "@jupyter-widgets/base",
            "_model_module_version": "1.5.0",
            "_view_count": null,
            "_view_module_version": "1.2.0",
            "_model_module": "@jupyter-widgets/controls"
          }
        },
        "a08e83816d1640768bd5be4e61694d72": {
          "model_module": "@jupyter-widgets/base",
          "model_name": "LayoutModel",
          "state": {
            "_view_name": "LayoutView",
            "grid_template_rows": null,
            "right": null,
            "justify_content": null,
            "_view_module": "@jupyter-widgets/base",
            "overflow": null,
            "_model_module_version": "1.2.0",
            "_view_count": null,
            "flex_flow": null,
            "width": null,
            "min_width": null,
            "border": null,
            "align_items": null,
            "bottom": null,
            "_model_module": "@jupyter-widgets/base",
            "top": null,
            "grid_column": null,
            "overflow_y": null,
            "overflow_x": null,
            "grid_auto_flow": null,
            "grid_area": null,
            "grid_template_columns": null,
            "flex": null,
            "_model_name": "LayoutModel",
            "justify_items": null,
            "grid_row": null,
            "max_height": null,
            "align_content": null,
            "visibility": null,
            "align_self": null,
            "height": null,
            "min_height": null,
            "padding": null,
            "grid_auto_rows": null,
            "grid_gap": null,
            "max_width": null,
            "order": null,
            "_view_module_version": "1.2.0",
            "grid_template_areas": null,
            "object_position": null,
            "object_fit": null,
            "grid_auto_columns": null,
            "margin": null,
            "display": null,
            "left": null
          }
        },
        "bc9d3b6af36347fd905111d450f140f9": {
          "model_module": "@jupyter-widgets/controls",
          "model_name": "HBoxModel",
          "state": {
            "_view_name": "HBoxView",
            "_dom_classes": [],
            "_model_name": "HBoxModel",
            "_view_module": "@jupyter-widgets/controls",
            "_model_module_version": "1.5.0",
            "_view_count": null,
            "_view_module_version": "1.5.0",
            "box_style": "",
            "layout": "IPY_MODEL_f72dfb84f3f6436fb1b39deb21365cb6",
            "_model_module": "@jupyter-widgets/controls",
            "children": [
              "IPY_MODEL_55270fb9f03e454989d3c121e1b6f528",
              "IPY_MODEL_d8f49b6c63fc41f3aeebf867fc1b10ff"
            ]
          }
        },
        "f72dfb84f3f6436fb1b39deb21365cb6": {
          "model_module": "@jupyter-widgets/base",
          "model_name": "LayoutModel",
          "state": {
            "_view_name": "LayoutView",
            "grid_template_rows": null,
            "right": null,
            "justify_content": null,
            "_view_module": "@jupyter-widgets/base",
            "overflow": null,
            "_model_module_version": "1.2.0",
            "_view_count": null,
            "flex_flow": null,
            "width": null,
            "min_width": null,
            "border": null,
            "align_items": null,
            "bottom": null,
            "_model_module": "@jupyter-widgets/base",
            "top": null,
            "grid_column": null,
            "overflow_y": null,
            "overflow_x": null,
            "grid_auto_flow": null,
            "grid_area": null,
            "grid_template_columns": null,
            "flex": null,
            "_model_name": "LayoutModel",
            "justify_items": null,
            "grid_row": null,
            "max_height": null,
            "align_content": null,
            "visibility": null,
            "align_self": null,
            "height": null,
            "min_height": null,
            "padding": null,
            "grid_auto_rows": null,
            "grid_gap": null,
            "max_width": null,
            "order": null,
            "_view_module_version": "1.2.0",
            "grid_template_areas": null,
            "object_position": null,
            "object_fit": null,
            "grid_auto_columns": null,
            "margin": null,
            "display": null,
            "left": null
          }
        },
        "55270fb9f03e454989d3c121e1b6f528": {
          "model_module": "@jupyter-widgets/controls",
          "model_name": "FloatProgressModel",
          "state": {
            "_view_name": "ProgressView",
            "style": "IPY_MODEL_55ae75b41aee453892b02fd08db4c1d5",
            "_dom_classes": [],
            "description": "Epoch 1: 100%",
            "_model_name": "FloatProgressModel",
            "bar_style": "",
            "max": 563,
            "_view_module": "@jupyter-widgets/controls",
            "_model_module_version": "1.5.0",
            "value": 563,
            "_view_count": null,
            "_view_module_version": "1.5.0",
            "orientation": "horizontal",
            "min": 0,
            "description_tooltip": null,
            "_model_module": "@jupyter-widgets/controls",
            "layout": "IPY_MODEL_b20ceb707497499f8b761b829b57185b"
          }
        },
        "d8f49b6c63fc41f3aeebf867fc1b10ff": {
          "model_module": "@jupyter-widgets/controls",
          "model_name": "HTMLModel",
          "state": {
            "_view_name": "HTMLView",
            "style": "IPY_MODEL_e44528c52d8840cca93264618ed60539",
            "_dom_classes": [],
            "description": "",
            "_model_name": "HTMLModel",
            "placeholder": "​",
            "_view_module": "@jupyter-widgets/controls",
            "_model_module_version": "1.5.0",
            "value": " 563/563 [00:04&lt;00:00, 124.17it/s, loss=0.0821]",
            "_view_count": null,
            "_view_module_version": "1.5.0",
            "description_tooltip": null,
            "_model_module": "@jupyter-widgets/controls",
            "layout": "IPY_MODEL_f25d2ba2661d4f298b9e3c10d8552596"
          }
        },
        "55ae75b41aee453892b02fd08db4c1d5": {
          "model_module": "@jupyter-widgets/controls",
          "model_name": "ProgressStyleModel",
          "state": {
            "_view_name": "StyleView",
            "_model_name": "ProgressStyleModel",
            "description_width": "initial",
            "_view_module": "@jupyter-widgets/base",
            "_model_module_version": "1.5.0",
            "_view_count": null,
            "_view_module_version": "1.2.0",
            "bar_color": null,
            "_model_module": "@jupyter-widgets/controls"
          }
        },
        "b20ceb707497499f8b761b829b57185b": {
          "model_module": "@jupyter-widgets/base",
          "model_name": "LayoutModel",
          "state": {
            "_view_name": "LayoutView",
            "grid_template_rows": null,
            "right": null,
            "justify_content": null,
            "_view_module": "@jupyter-widgets/base",
            "overflow": null,
            "_model_module_version": "1.2.0",
            "_view_count": null,
            "flex_flow": null,
            "width": null,
            "min_width": null,
            "border": null,
            "align_items": null,
            "bottom": null,
            "_model_module": "@jupyter-widgets/base",
            "top": null,
            "grid_column": null,
            "overflow_y": null,
            "overflow_x": null,
            "grid_auto_flow": null,
            "grid_area": null,
            "grid_template_columns": null,
            "flex": null,
            "_model_name": "LayoutModel",
            "justify_items": null,
            "grid_row": null,
            "max_height": null,
            "align_content": null,
            "visibility": null,
            "align_self": null,
            "height": null,
            "min_height": null,
            "padding": null,
            "grid_auto_rows": null,
            "grid_gap": null,
            "max_width": null,
            "order": null,
            "_view_module_version": "1.2.0",
            "grid_template_areas": null,
            "object_position": null,
            "object_fit": null,
            "grid_auto_columns": null,
            "margin": null,
            "display": null,
            "left": null
          }
        },
        "e44528c52d8840cca93264618ed60539": {
          "model_module": "@jupyter-widgets/controls",
          "model_name": "DescriptionStyleModel",
          "state": {
            "_view_name": "StyleView",
            "_model_name": "DescriptionStyleModel",
            "description_width": "",
            "_view_module": "@jupyter-widgets/base",
            "_model_module_version": "1.5.0",
            "_view_count": null,
            "_view_module_version": "1.2.0",
            "_model_module": "@jupyter-widgets/controls"
          }
        },
        "f25d2ba2661d4f298b9e3c10d8552596": {
          "model_module": "@jupyter-widgets/base",
          "model_name": "LayoutModel",
          "state": {
            "_view_name": "LayoutView",
            "grid_template_rows": null,
            "right": null,
            "justify_content": null,
            "_view_module": "@jupyter-widgets/base",
            "overflow": null,
            "_model_module_version": "1.2.0",
            "_view_count": null,
            "flex_flow": null,
            "width": null,
            "min_width": null,
            "border": null,
            "align_items": null,
            "bottom": null,
            "_model_module": "@jupyter-widgets/base",
            "top": null,
            "grid_column": null,
            "overflow_y": null,
            "overflow_x": null,
            "grid_auto_flow": null,
            "grid_area": null,
            "grid_template_columns": null,
            "flex": null,
            "_model_name": "LayoutModel",
            "justify_items": null,
            "grid_row": null,
            "max_height": null,
            "align_content": null,
            "visibility": null,
            "align_self": null,
            "height": null,
            "min_height": null,
            "padding": null,
            "grid_auto_rows": null,
            "grid_gap": null,
            "max_width": null,
            "order": null,
            "_view_module_version": "1.2.0",
            "grid_template_areas": null,
            "object_position": null,
            "object_fit": null,
            "grid_auto_columns": null,
            "margin": null,
            "display": null,
            "left": null
          }
        },
        "172428f5366d4de2af76ce92fceaaf06": {
          "model_module": "@jupyter-widgets/controls",
          "model_name": "HBoxModel",
          "state": {
            "_view_name": "HBoxView",
            "_dom_classes": [],
            "_model_name": "HBoxModel",
            "_view_module": "@jupyter-widgets/controls",
            "_model_module_version": "1.5.0",
            "_view_count": null,
            "_view_module_version": "1.5.0",
            "box_style": "",
            "layout": "IPY_MODEL_f303d4631f894bf489886b1c1a9c86e8",
            "_model_module": "@jupyter-widgets/controls",
            "children": [
              "IPY_MODEL_31a6e90b6bf14b98b9cd2a4a2d59a8cf",
              "IPY_MODEL_10f4d56873c04d4c89f9f4dae05c70ae"
            ]
          }
        },
        "f303d4631f894bf489886b1c1a9c86e8": {
          "model_module": "@jupyter-widgets/base",
          "model_name": "LayoutModel",
          "state": {
            "_view_name": "LayoutView",
            "grid_template_rows": null,
            "right": null,
            "justify_content": null,
            "_view_module": "@jupyter-widgets/base",
            "overflow": null,
            "_model_module_version": "1.2.0",
            "_view_count": null,
            "flex_flow": null,
            "width": null,
            "min_width": null,
            "border": null,
            "align_items": null,
            "bottom": null,
            "_model_module": "@jupyter-widgets/base",
            "top": null,
            "grid_column": null,
            "overflow_y": null,
            "overflow_x": null,
            "grid_auto_flow": null,
            "grid_area": null,
            "grid_template_columns": null,
            "flex": null,
            "_model_name": "LayoutModel",
            "justify_items": null,
            "grid_row": null,
            "max_height": null,
            "align_content": null,
            "visibility": null,
            "align_self": null,
            "height": null,
            "min_height": null,
            "padding": null,
            "grid_auto_rows": null,
            "grid_gap": null,
            "max_width": null,
            "order": null,
            "_view_module_version": "1.2.0",
            "grid_template_areas": null,
            "object_position": null,
            "object_fit": null,
            "grid_auto_columns": null,
            "margin": null,
            "display": null,
            "left": null
          }
        },
        "31a6e90b6bf14b98b9cd2a4a2d59a8cf": {
          "model_module": "@jupyter-widgets/controls",
          "model_name": "FloatProgressModel",
          "state": {
            "_view_name": "ProgressView",
            "style": "IPY_MODEL_9717099e9a294b21829027202e1f3c73",
            "_dom_classes": [],
            "description": "100%",
            "_model_name": "FloatProgressModel",
            "bar_style": "",
            "max": 141,
            "_view_module": "@jupyter-widgets/controls",
            "_model_module_version": "1.5.0",
            "value": 141,
            "_view_count": null,
            "_view_module_version": "1.5.0",
            "orientation": "horizontal",
            "min": 0,
            "description_tooltip": null,
            "_model_module": "@jupyter-widgets/controls",
            "layout": "IPY_MODEL_dba24e46ebe646ca97e67310757955ce"
          }
        },
        "10f4d56873c04d4c89f9f4dae05c70ae": {
          "model_module": "@jupyter-widgets/controls",
          "model_name": "HTMLModel",
          "state": {
            "_view_name": "HTMLView",
            "style": "IPY_MODEL_15c14ea191bd412bba807cf8376233e0",
            "_dom_classes": [],
            "description": "",
            "_model_name": "HTMLModel",
            "placeholder": "​",
            "_view_module": "@jupyter-widgets/controls",
            "_model_module_version": "1.5.0",
            "value": " 141/141 [00:00&lt;00:00, 305.79it/s]",
            "_view_count": null,
            "_view_module_version": "1.5.0",
            "description_tooltip": null,
            "_model_module": "@jupyter-widgets/controls",
            "layout": "IPY_MODEL_8374c4d0a3a649fcb301d00e2a901e38"
          }
        },
        "9717099e9a294b21829027202e1f3c73": {
          "model_module": "@jupyter-widgets/controls",
          "model_name": "ProgressStyleModel",
          "state": {
            "_view_name": "StyleView",
            "_model_name": "ProgressStyleModel",
            "description_width": "initial",
            "_view_module": "@jupyter-widgets/base",
            "_model_module_version": "1.5.0",
            "_view_count": null,
            "_view_module_version": "1.2.0",
            "bar_color": null,
            "_model_module": "@jupyter-widgets/controls"
          }
        },
        "dba24e46ebe646ca97e67310757955ce": {
          "model_module": "@jupyter-widgets/base",
          "model_name": "LayoutModel",
          "state": {
            "_view_name": "LayoutView",
            "grid_template_rows": null,
            "right": null,
            "justify_content": null,
            "_view_module": "@jupyter-widgets/base",
            "overflow": null,
            "_model_module_version": "1.2.0",
            "_view_count": null,
            "flex_flow": null,
            "width": null,
            "min_width": null,
            "border": null,
            "align_items": null,
            "bottom": null,
            "_model_module": "@jupyter-widgets/base",
            "top": null,
            "grid_column": null,
            "overflow_y": null,
            "overflow_x": null,
            "grid_auto_flow": null,
            "grid_area": null,
            "grid_template_columns": null,
            "flex": null,
            "_model_name": "LayoutModel",
            "justify_items": null,
            "grid_row": null,
            "max_height": null,
            "align_content": null,
            "visibility": null,
            "align_self": null,
            "height": null,
            "min_height": null,
            "padding": null,
            "grid_auto_rows": null,
            "grid_gap": null,
            "max_width": null,
            "order": null,
            "_view_module_version": "1.2.0",
            "grid_template_areas": null,
            "object_position": null,
            "object_fit": null,
            "grid_auto_columns": null,
            "margin": null,
            "display": null,
            "left": null
          }
        },
        "15c14ea191bd412bba807cf8376233e0": {
          "model_module": "@jupyter-widgets/controls",
          "model_name": "DescriptionStyleModel",
          "state": {
            "_view_name": "StyleView",
            "_model_name": "DescriptionStyleModel",
            "description_width": "",
            "_view_module": "@jupyter-widgets/base",
            "_model_module_version": "1.5.0",
            "_view_count": null,
            "_view_module_version": "1.2.0",
            "_model_module": "@jupyter-widgets/controls"
          }
        },
        "8374c4d0a3a649fcb301d00e2a901e38": {
          "model_module": "@jupyter-widgets/base",
          "model_name": "LayoutModel",
          "state": {
            "_view_name": "LayoutView",
            "grid_template_rows": null,
            "right": null,
            "justify_content": null,
            "_view_module": "@jupyter-widgets/base",
            "overflow": null,
            "_model_module_version": "1.2.0",
            "_view_count": null,
            "flex_flow": null,
            "width": null,
            "min_width": null,
            "border": null,
            "align_items": null,
            "bottom": null,
            "_model_module": "@jupyter-widgets/base",
            "top": null,
            "grid_column": null,
            "overflow_y": null,
            "overflow_x": null,
            "grid_auto_flow": null,
            "grid_area": null,
            "grid_template_columns": null,
            "flex": null,
            "_model_name": "LayoutModel",
            "justify_items": null,
            "grid_row": null,
            "max_height": null,
            "align_content": null,
            "visibility": null,
            "align_self": null,
            "height": null,
            "min_height": null,
            "padding": null,
            "grid_auto_rows": null,
            "grid_gap": null,
            "max_width": null,
            "order": null,
            "_view_module_version": "1.2.0",
            "grid_template_areas": null,
            "object_position": null,
            "object_fit": null,
            "grid_auto_columns": null,
            "margin": null,
            "display": null,
            "left": null
          }
        },
        "2ff5289db001468d9aed5b879b281b08": {
          "model_module": "@jupyter-widgets/controls",
          "model_name": "HBoxModel",
          "state": {
            "_view_name": "HBoxView",
            "_dom_classes": [],
            "_model_name": "HBoxModel",
            "_view_module": "@jupyter-widgets/controls",
            "_model_module_version": "1.5.0",
            "_view_count": null,
            "_view_module_version": "1.5.0",
            "box_style": "",
            "layout": "IPY_MODEL_e4484e87ad41454f85e2de117d6ce8f5",
            "_model_module": "@jupyter-widgets/controls",
            "children": [
              "IPY_MODEL_e958949f99d948deb6e5deaf28e5631d",
              "IPY_MODEL_cce103dde78544618134a8c0f908c378"
            ]
          }
        },
        "e4484e87ad41454f85e2de117d6ce8f5": {
          "model_module": "@jupyter-widgets/base",
          "model_name": "LayoutModel",
          "state": {
            "_view_name": "LayoutView",
            "grid_template_rows": null,
            "right": null,
            "justify_content": null,
            "_view_module": "@jupyter-widgets/base",
            "overflow": null,
            "_model_module_version": "1.2.0",
            "_view_count": null,
            "flex_flow": null,
            "width": null,
            "min_width": null,
            "border": null,
            "align_items": null,
            "bottom": null,
            "_model_module": "@jupyter-widgets/base",
            "top": null,
            "grid_column": null,
            "overflow_y": null,
            "overflow_x": null,
            "grid_auto_flow": null,
            "grid_area": null,
            "grid_template_columns": null,
            "flex": null,
            "_model_name": "LayoutModel",
            "justify_items": null,
            "grid_row": null,
            "max_height": null,
            "align_content": null,
            "visibility": null,
            "align_self": null,
            "height": null,
            "min_height": null,
            "padding": null,
            "grid_auto_rows": null,
            "grid_gap": null,
            "max_width": null,
            "order": null,
            "_view_module_version": "1.2.0",
            "grid_template_areas": null,
            "object_position": null,
            "object_fit": null,
            "grid_auto_columns": null,
            "margin": null,
            "display": null,
            "left": null
          }
        },
        "e958949f99d948deb6e5deaf28e5631d": {
          "model_module": "@jupyter-widgets/controls",
          "model_name": "FloatProgressModel",
          "state": {
            "_view_name": "ProgressView",
            "style": "IPY_MODEL_44f9a5b9c0e34437af60d13a9fffd279",
            "_dom_classes": [],
            "description": "Epoch 2: 100%",
            "_model_name": "FloatProgressModel",
            "bar_style": "",
            "max": 563,
            "_view_module": "@jupyter-widgets/controls",
            "_model_module_version": "1.5.0",
            "value": 563,
            "_view_count": null,
            "_view_module_version": "1.5.0",
            "orientation": "horizontal",
            "min": 0,
            "description_tooltip": null,
            "_model_module": "@jupyter-widgets/controls",
            "layout": "IPY_MODEL_85e39373aafb4b3da09cf5c889ac26ec"
          }
        },
        "cce103dde78544618134a8c0f908c378": {
          "model_module": "@jupyter-widgets/controls",
          "model_name": "HTMLModel",
          "state": {
            "_view_name": "HTMLView",
            "style": "IPY_MODEL_828bc93728d94214ba7887c656577f64",
            "_dom_classes": [],
            "description": "",
            "_model_name": "HTMLModel",
            "placeholder": "​",
            "_view_module": "@jupyter-widgets/controls",
            "_model_module_version": "1.5.0",
            "value": " 563/563 [00:04&lt;00:00, 121.26it/s, loss=0.137]",
            "_view_count": null,
            "_view_module_version": "1.5.0",
            "description_tooltip": null,
            "_model_module": "@jupyter-widgets/controls",
            "layout": "IPY_MODEL_569b310a64a049f79b59617aed8a8e70"
          }
        },
        "44f9a5b9c0e34437af60d13a9fffd279": {
          "model_module": "@jupyter-widgets/controls",
          "model_name": "ProgressStyleModel",
          "state": {
            "_view_name": "StyleView",
            "_model_name": "ProgressStyleModel",
            "description_width": "initial",
            "_view_module": "@jupyter-widgets/base",
            "_model_module_version": "1.5.0",
            "_view_count": null,
            "_view_module_version": "1.2.0",
            "bar_color": null,
            "_model_module": "@jupyter-widgets/controls"
          }
        },
        "85e39373aafb4b3da09cf5c889ac26ec": {
          "model_module": "@jupyter-widgets/base",
          "model_name": "LayoutModel",
          "state": {
            "_view_name": "LayoutView",
            "grid_template_rows": null,
            "right": null,
            "justify_content": null,
            "_view_module": "@jupyter-widgets/base",
            "overflow": null,
            "_model_module_version": "1.2.0",
            "_view_count": null,
            "flex_flow": null,
            "width": null,
            "min_width": null,
            "border": null,
            "align_items": null,
            "bottom": null,
            "_model_module": "@jupyter-widgets/base",
            "top": null,
            "grid_column": null,
            "overflow_y": null,
            "overflow_x": null,
            "grid_auto_flow": null,
            "grid_area": null,
            "grid_template_columns": null,
            "flex": null,
            "_model_name": "LayoutModel",
            "justify_items": null,
            "grid_row": null,
            "max_height": null,
            "align_content": null,
            "visibility": null,
            "align_self": null,
            "height": null,
            "min_height": null,
            "padding": null,
            "grid_auto_rows": null,
            "grid_gap": null,
            "max_width": null,
            "order": null,
            "_view_module_version": "1.2.0",
            "grid_template_areas": null,
            "object_position": null,
            "object_fit": null,
            "grid_auto_columns": null,
            "margin": null,
            "display": null,
            "left": null
          }
        },
        "828bc93728d94214ba7887c656577f64": {
          "model_module": "@jupyter-widgets/controls",
          "model_name": "DescriptionStyleModel",
          "state": {
            "_view_name": "StyleView",
            "_model_name": "DescriptionStyleModel",
            "description_width": "",
            "_view_module": "@jupyter-widgets/base",
            "_model_module_version": "1.5.0",
            "_view_count": null,
            "_view_module_version": "1.2.0",
            "_model_module": "@jupyter-widgets/controls"
          }
        },
        "569b310a64a049f79b59617aed8a8e70": {
          "model_module": "@jupyter-widgets/base",
          "model_name": "LayoutModel",
          "state": {
            "_view_name": "LayoutView",
            "grid_template_rows": null,
            "right": null,
            "justify_content": null,
            "_view_module": "@jupyter-widgets/base",
            "overflow": null,
            "_model_module_version": "1.2.0",
            "_view_count": null,
            "flex_flow": null,
            "width": null,
            "min_width": null,
            "border": null,
            "align_items": null,
            "bottom": null,
            "_model_module": "@jupyter-widgets/base",
            "top": null,
            "grid_column": null,
            "overflow_y": null,
            "overflow_x": null,
            "grid_auto_flow": null,
            "grid_area": null,
            "grid_template_columns": null,
            "flex": null,
            "_model_name": "LayoutModel",
            "justify_items": null,
            "grid_row": null,
            "max_height": null,
            "align_content": null,
            "visibility": null,
            "align_self": null,
            "height": null,
            "min_height": null,
            "padding": null,
            "grid_auto_rows": null,
            "grid_gap": null,
            "max_width": null,
            "order": null,
            "_view_module_version": "1.2.0",
            "grid_template_areas": null,
            "object_position": null,
            "object_fit": null,
            "grid_auto_columns": null,
            "margin": null,
            "display": null,
            "left": null
          }
        },
        "d16806b103b04ef2b5e6d0707f710214": {
          "model_module": "@jupyter-widgets/controls",
          "model_name": "HBoxModel",
          "state": {
            "_view_name": "HBoxView",
            "_dom_classes": [],
            "_model_name": "HBoxModel",
            "_view_module": "@jupyter-widgets/controls",
            "_model_module_version": "1.5.0",
            "_view_count": null,
            "_view_module_version": "1.5.0",
            "box_style": "",
            "layout": "IPY_MODEL_ab6923a0d6d745c4b8202ac0ffc466f0",
            "_model_module": "@jupyter-widgets/controls",
            "children": [
              "IPY_MODEL_3173bbcf11364491a468bff80e3c4878",
              "IPY_MODEL_2375f69e8035451c90de6f34c32110ce"
            ]
          }
        },
        "ab6923a0d6d745c4b8202ac0ffc466f0": {
          "model_module": "@jupyter-widgets/base",
          "model_name": "LayoutModel",
          "state": {
            "_view_name": "LayoutView",
            "grid_template_rows": null,
            "right": null,
            "justify_content": null,
            "_view_module": "@jupyter-widgets/base",
            "overflow": null,
            "_model_module_version": "1.2.0",
            "_view_count": null,
            "flex_flow": null,
            "width": null,
            "min_width": null,
            "border": null,
            "align_items": null,
            "bottom": null,
            "_model_module": "@jupyter-widgets/base",
            "top": null,
            "grid_column": null,
            "overflow_y": null,
            "overflow_x": null,
            "grid_auto_flow": null,
            "grid_area": null,
            "grid_template_columns": null,
            "flex": null,
            "_model_name": "LayoutModel",
            "justify_items": null,
            "grid_row": null,
            "max_height": null,
            "align_content": null,
            "visibility": null,
            "align_self": null,
            "height": null,
            "min_height": null,
            "padding": null,
            "grid_auto_rows": null,
            "grid_gap": null,
            "max_width": null,
            "order": null,
            "_view_module_version": "1.2.0",
            "grid_template_areas": null,
            "object_position": null,
            "object_fit": null,
            "grid_auto_columns": null,
            "margin": null,
            "display": null,
            "left": null
          }
        },
        "3173bbcf11364491a468bff80e3c4878": {
          "model_module": "@jupyter-widgets/controls",
          "model_name": "FloatProgressModel",
          "state": {
            "_view_name": "ProgressView",
            "style": "IPY_MODEL_97c11716c57f47e48b4554ada20cd1dd",
            "_dom_classes": [],
            "description": "100%",
            "_model_name": "FloatProgressModel",
            "bar_style": "",
            "max": 141,
            "_view_module": "@jupyter-widgets/controls",
            "_model_module_version": "1.5.0",
            "value": 141,
            "_view_count": null,
            "_view_module_version": "1.5.0",
            "orientation": "horizontal",
            "min": 0,
            "description_tooltip": null,
            "_model_module": "@jupyter-widgets/controls",
            "layout": "IPY_MODEL_b1381bbb53e946969d1873191281113e"
          }
        },
        "2375f69e8035451c90de6f34c32110ce": {
          "model_module": "@jupyter-widgets/controls",
          "model_name": "HTMLModel",
          "state": {
            "_view_name": "HTMLView",
            "style": "IPY_MODEL_4158776e7e0d4f3883b60946a51b53b3",
            "_dom_classes": [],
            "description": "",
            "_model_name": "HTMLModel",
            "placeholder": "​",
            "_view_module": "@jupyter-widgets/controls",
            "_model_module_version": "1.5.0",
            "value": " 141/141 [00:00&lt;00:00, 283.79it/s]",
            "_view_count": null,
            "_view_module_version": "1.5.0",
            "description_tooltip": null,
            "_model_module": "@jupyter-widgets/controls",
            "layout": "IPY_MODEL_0835f0ccd67943c0bc00f19cf4150b59"
          }
        },
        "97c11716c57f47e48b4554ada20cd1dd": {
          "model_module": "@jupyter-widgets/controls",
          "model_name": "ProgressStyleModel",
          "state": {
            "_view_name": "StyleView",
            "_model_name": "ProgressStyleModel",
            "description_width": "initial",
            "_view_module": "@jupyter-widgets/base",
            "_model_module_version": "1.5.0",
            "_view_count": null,
            "_view_module_version": "1.2.0",
            "bar_color": null,
            "_model_module": "@jupyter-widgets/controls"
          }
        },
        "b1381bbb53e946969d1873191281113e": {
          "model_module": "@jupyter-widgets/base",
          "model_name": "LayoutModel",
          "state": {
            "_view_name": "LayoutView",
            "grid_template_rows": null,
            "right": null,
            "justify_content": null,
            "_view_module": "@jupyter-widgets/base",
            "overflow": null,
            "_model_module_version": "1.2.0",
            "_view_count": null,
            "flex_flow": null,
            "width": null,
            "min_width": null,
            "border": null,
            "align_items": null,
            "bottom": null,
            "_model_module": "@jupyter-widgets/base",
            "top": null,
            "grid_column": null,
            "overflow_y": null,
            "overflow_x": null,
            "grid_auto_flow": null,
            "grid_area": null,
            "grid_template_columns": null,
            "flex": null,
            "_model_name": "LayoutModel",
            "justify_items": null,
            "grid_row": null,
            "max_height": null,
            "align_content": null,
            "visibility": null,
            "align_self": null,
            "height": null,
            "min_height": null,
            "padding": null,
            "grid_auto_rows": null,
            "grid_gap": null,
            "max_width": null,
            "order": null,
            "_view_module_version": "1.2.0",
            "grid_template_areas": null,
            "object_position": null,
            "object_fit": null,
            "grid_auto_columns": null,
            "margin": null,
            "display": null,
            "left": null
          }
        },
        "4158776e7e0d4f3883b60946a51b53b3": {
          "model_module": "@jupyter-widgets/controls",
          "model_name": "DescriptionStyleModel",
          "state": {
            "_view_name": "StyleView",
            "_model_name": "DescriptionStyleModel",
            "description_width": "",
            "_view_module": "@jupyter-widgets/base",
            "_model_module_version": "1.5.0",
            "_view_count": null,
            "_view_module_version": "1.2.0",
            "_model_module": "@jupyter-widgets/controls"
          }
        },
        "0835f0ccd67943c0bc00f19cf4150b59": {
          "model_module": "@jupyter-widgets/base",
          "model_name": "LayoutModel",
          "state": {
            "_view_name": "LayoutView",
            "grid_template_rows": null,
            "right": null,
            "justify_content": null,
            "_view_module": "@jupyter-widgets/base",
            "overflow": null,
            "_model_module_version": "1.2.0",
            "_view_count": null,
            "flex_flow": null,
            "width": null,
            "min_width": null,
            "border": null,
            "align_items": null,
            "bottom": null,
            "_model_module": "@jupyter-widgets/base",
            "top": null,
            "grid_column": null,
            "overflow_y": null,
            "overflow_x": null,
            "grid_auto_flow": null,
            "grid_area": null,
            "grid_template_columns": null,
            "flex": null,
            "_model_name": "LayoutModel",
            "justify_items": null,
            "grid_row": null,
            "max_height": null,
            "align_content": null,
            "visibility": null,
            "align_self": null,
            "height": null,
            "min_height": null,
            "padding": null,
            "grid_auto_rows": null,
            "grid_gap": null,
            "max_width": null,
            "order": null,
            "_view_module_version": "1.2.0",
            "grid_template_areas": null,
            "object_position": null,
            "object_fit": null,
            "grid_auto_columns": null,
            "margin": null,
            "display": null,
            "left": null
          }
        },
        "3ce3b26568a44b838a266ddfa1adcad9": {
          "model_module": "@jupyter-widgets/controls",
          "model_name": "HBoxModel",
          "state": {
            "_view_name": "HBoxView",
            "_dom_classes": [],
            "_model_name": "HBoxModel",
            "_view_module": "@jupyter-widgets/controls",
            "_model_module_version": "1.5.0",
            "_view_count": null,
            "_view_module_version": "1.5.0",
            "box_style": "",
            "layout": "IPY_MODEL_807b58ccb7654fb6a178da55a749bdf4",
            "_model_module": "@jupyter-widgets/controls",
            "children": [
              "IPY_MODEL_cd8fd31053604fd490caba17da16d875",
              "IPY_MODEL_575ce2d2ae874c87bb96d4cf0e265c23"
            ]
          }
        },
        "807b58ccb7654fb6a178da55a749bdf4": {
          "model_module": "@jupyter-widgets/base",
          "model_name": "LayoutModel",
          "state": {
            "_view_name": "LayoutView",
            "grid_template_rows": null,
            "right": null,
            "justify_content": null,
            "_view_module": "@jupyter-widgets/base",
            "overflow": null,
            "_model_module_version": "1.2.0",
            "_view_count": null,
            "flex_flow": null,
            "width": null,
            "min_width": null,
            "border": null,
            "align_items": null,
            "bottom": null,
            "_model_module": "@jupyter-widgets/base",
            "top": null,
            "grid_column": null,
            "overflow_y": null,
            "overflow_x": null,
            "grid_auto_flow": null,
            "grid_area": null,
            "grid_template_columns": null,
            "flex": null,
            "_model_name": "LayoutModel",
            "justify_items": null,
            "grid_row": null,
            "max_height": null,
            "align_content": null,
            "visibility": null,
            "align_self": null,
            "height": null,
            "min_height": null,
            "padding": null,
            "grid_auto_rows": null,
            "grid_gap": null,
            "max_width": null,
            "order": null,
            "_view_module_version": "1.2.0",
            "grid_template_areas": null,
            "object_position": null,
            "object_fit": null,
            "grid_auto_columns": null,
            "margin": null,
            "display": null,
            "left": null
          }
        },
        "cd8fd31053604fd490caba17da16d875": {
          "model_module": "@jupyter-widgets/controls",
          "model_name": "FloatProgressModel",
          "state": {
            "_view_name": "ProgressView",
            "style": "IPY_MODEL_ead2abdb3a42407099d39dbf7288a473",
            "_dom_classes": [],
            "description": "Epoch 3: 100%",
            "_model_name": "FloatProgressModel",
            "bar_style": "",
            "max": 563,
            "_view_module": "@jupyter-widgets/controls",
            "_model_module_version": "1.5.0",
            "value": 563,
            "_view_count": null,
            "_view_module_version": "1.5.0",
            "orientation": "horizontal",
            "min": 0,
            "description_tooltip": null,
            "_model_module": "@jupyter-widgets/controls",
            "layout": "IPY_MODEL_815c3a5831684387b9d7674c6b95d3c2"
          }
        },
        "575ce2d2ae874c87bb96d4cf0e265c23": {
          "model_module": "@jupyter-widgets/controls",
          "model_name": "HTMLModel",
          "state": {
            "_view_name": "HTMLView",
            "style": "IPY_MODEL_3b98764971a04f108a3263e78c84f999",
            "_dom_classes": [],
            "description": "",
            "_model_name": "HTMLModel",
            "placeholder": "​",
            "_view_module": "@jupyter-widgets/controls",
            "_model_module_version": "1.5.0",
            "value": " 563/563 [00:04&lt;00:00, 123.98it/s, loss=0.0501]",
            "_view_count": null,
            "_view_module_version": "1.5.0",
            "description_tooltip": null,
            "_model_module": "@jupyter-widgets/controls",
            "layout": "IPY_MODEL_ab48edf127a74d0a997fd010478f71cc"
          }
        },
        "ead2abdb3a42407099d39dbf7288a473": {
          "model_module": "@jupyter-widgets/controls",
          "model_name": "ProgressStyleModel",
          "state": {
            "_view_name": "StyleView",
            "_model_name": "ProgressStyleModel",
            "description_width": "initial",
            "_view_module": "@jupyter-widgets/base",
            "_model_module_version": "1.5.0",
            "_view_count": null,
            "_view_module_version": "1.2.0",
            "bar_color": null,
            "_model_module": "@jupyter-widgets/controls"
          }
        },
        "815c3a5831684387b9d7674c6b95d3c2": {
          "model_module": "@jupyter-widgets/base",
          "model_name": "LayoutModel",
          "state": {
            "_view_name": "LayoutView",
            "grid_template_rows": null,
            "right": null,
            "justify_content": null,
            "_view_module": "@jupyter-widgets/base",
            "overflow": null,
            "_model_module_version": "1.2.0",
            "_view_count": null,
            "flex_flow": null,
            "width": null,
            "min_width": null,
            "border": null,
            "align_items": null,
            "bottom": null,
            "_model_module": "@jupyter-widgets/base",
            "top": null,
            "grid_column": null,
            "overflow_y": null,
            "overflow_x": null,
            "grid_auto_flow": null,
            "grid_area": null,
            "grid_template_columns": null,
            "flex": null,
            "_model_name": "LayoutModel",
            "justify_items": null,
            "grid_row": null,
            "max_height": null,
            "align_content": null,
            "visibility": null,
            "align_self": null,
            "height": null,
            "min_height": null,
            "padding": null,
            "grid_auto_rows": null,
            "grid_gap": null,
            "max_width": null,
            "order": null,
            "_view_module_version": "1.2.0",
            "grid_template_areas": null,
            "object_position": null,
            "object_fit": null,
            "grid_auto_columns": null,
            "margin": null,
            "display": null,
            "left": null
          }
        },
        "3b98764971a04f108a3263e78c84f999": {
          "model_module": "@jupyter-widgets/controls",
          "model_name": "DescriptionStyleModel",
          "state": {
            "_view_name": "StyleView",
            "_model_name": "DescriptionStyleModel",
            "description_width": "",
            "_view_module": "@jupyter-widgets/base",
            "_model_module_version": "1.5.0",
            "_view_count": null,
            "_view_module_version": "1.2.0",
            "_model_module": "@jupyter-widgets/controls"
          }
        },
        "ab48edf127a74d0a997fd010478f71cc": {
          "model_module": "@jupyter-widgets/base",
          "model_name": "LayoutModel",
          "state": {
            "_view_name": "LayoutView",
            "grid_template_rows": null,
            "right": null,
            "justify_content": null,
            "_view_module": "@jupyter-widgets/base",
            "overflow": null,
            "_model_module_version": "1.2.0",
            "_view_count": null,
            "flex_flow": null,
            "width": null,
            "min_width": null,
            "border": null,
            "align_items": null,
            "bottom": null,
            "_model_module": "@jupyter-widgets/base",
            "top": null,
            "grid_column": null,
            "overflow_y": null,
            "overflow_x": null,
            "grid_auto_flow": null,
            "grid_area": null,
            "grid_template_columns": null,
            "flex": null,
            "_model_name": "LayoutModel",
            "justify_items": null,
            "grid_row": null,
            "max_height": null,
            "align_content": null,
            "visibility": null,
            "align_self": null,
            "height": null,
            "min_height": null,
            "padding": null,
            "grid_auto_rows": null,
            "grid_gap": null,
            "max_width": null,
            "order": null,
            "_view_module_version": "1.2.0",
            "grid_template_areas": null,
            "object_position": null,
            "object_fit": null,
            "grid_auto_columns": null,
            "margin": null,
            "display": null,
            "left": null
          }
        },
        "b478a2165a514e5787b24523df44dc4c": {
          "model_module": "@jupyter-widgets/controls",
          "model_name": "HBoxModel",
          "state": {
            "_view_name": "HBoxView",
            "_dom_classes": [],
            "_model_name": "HBoxModel",
            "_view_module": "@jupyter-widgets/controls",
            "_model_module_version": "1.5.0",
            "_view_count": null,
            "_view_module_version": "1.5.0",
            "box_style": "",
            "layout": "IPY_MODEL_09b108b7578847afb7bf744a5794a6f1",
            "_model_module": "@jupyter-widgets/controls",
            "children": [
              "IPY_MODEL_328c2fd3af7147c6acee5ab2a67bf04e",
              "IPY_MODEL_2283628f4b8f45f7a91c9170a852cca5"
            ]
          }
        },
        "09b108b7578847afb7bf744a5794a6f1": {
          "model_module": "@jupyter-widgets/base",
          "model_name": "LayoutModel",
          "state": {
            "_view_name": "LayoutView",
            "grid_template_rows": null,
            "right": null,
            "justify_content": null,
            "_view_module": "@jupyter-widgets/base",
            "overflow": null,
            "_model_module_version": "1.2.0",
            "_view_count": null,
            "flex_flow": null,
            "width": null,
            "min_width": null,
            "border": null,
            "align_items": null,
            "bottom": null,
            "_model_module": "@jupyter-widgets/base",
            "top": null,
            "grid_column": null,
            "overflow_y": null,
            "overflow_x": null,
            "grid_auto_flow": null,
            "grid_area": null,
            "grid_template_columns": null,
            "flex": null,
            "_model_name": "LayoutModel",
            "justify_items": null,
            "grid_row": null,
            "max_height": null,
            "align_content": null,
            "visibility": null,
            "align_self": null,
            "height": null,
            "min_height": null,
            "padding": null,
            "grid_auto_rows": null,
            "grid_gap": null,
            "max_width": null,
            "order": null,
            "_view_module_version": "1.2.0",
            "grid_template_areas": null,
            "object_position": null,
            "object_fit": null,
            "grid_auto_columns": null,
            "margin": null,
            "display": null,
            "left": null
          }
        },
        "328c2fd3af7147c6acee5ab2a67bf04e": {
          "model_module": "@jupyter-widgets/controls",
          "model_name": "FloatProgressModel",
          "state": {
            "_view_name": "ProgressView",
            "style": "IPY_MODEL_90225465c2fc4a36b4742b1870985082",
            "_dom_classes": [],
            "description": "100%",
            "_model_name": "FloatProgressModel",
            "bar_style": "",
            "max": 141,
            "_view_module": "@jupyter-widgets/controls",
            "_model_module_version": "1.5.0",
            "value": 141,
            "_view_count": null,
            "_view_module_version": "1.5.0",
            "orientation": "horizontal",
            "min": 0,
            "description_tooltip": null,
            "_model_module": "@jupyter-widgets/controls",
            "layout": "IPY_MODEL_c3b116da293b4f9b8dca0425aedaab76"
          }
        },
        "2283628f4b8f45f7a91c9170a852cca5": {
          "model_module": "@jupyter-widgets/controls",
          "model_name": "HTMLModel",
          "state": {
            "_view_name": "HTMLView",
            "style": "IPY_MODEL_e0cd6db222bf41c8bc2ce49c7eba67da",
            "_dom_classes": [],
            "description": "",
            "_model_name": "HTMLModel",
            "placeholder": "​",
            "_view_module": "@jupyter-widgets/controls",
            "_model_module_version": "1.5.0",
            "value": " 141/141 [00:00&lt;00:00, 297.69it/s]",
            "_view_count": null,
            "_view_module_version": "1.5.0",
            "description_tooltip": null,
            "_model_module": "@jupyter-widgets/controls",
            "layout": "IPY_MODEL_679f2bedb9de4268ab8bddf3fb9d3ee5"
          }
        },
        "90225465c2fc4a36b4742b1870985082": {
          "model_module": "@jupyter-widgets/controls",
          "model_name": "ProgressStyleModel",
          "state": {
            "_view_name": "StyleView",
            "_model_name": "ProgressStyleModel",
            "description_width": "initial",
            "_view_module": "@jupyter-widgets/base",
            "_model_module_version": "1.5.0",
            "_view_count": null,
            "_view_module_version": "1.2.0",
            "bar_color": null,
            "_model_module": "@jupyter-widgets/controls"
          }
        },
        "c3b116da293b4f9b8dca0425aedaab76": {
          "model_module": "@jupyter-widgets/base",
          "model_name": "LayoutModel",
          "state": {
            "_view_name": "LayoutView",
            "grid_template_rows": null,
            "right": null,
            "justify_content": null,
            "_view_module": "@jupyter-widgets/base",
            "overflow": null,
            "_model_module_version": "1.2.0",
            "_view_count": null,
            "flex_flow": null,
            "width": null,
            "min_width": null,
            "border": null,
            "align_items": null,
            "bottom": null,
            "_model_module": "@jupyter-widgets/base",
            "top": null,
            "grid_column": null,
            "overflow_y": null,
            "overflow_x": null,
            "grid_auto_flow": null,
            "grid_area": null,
            "grid_template_columns": null,
            "flex": null,
            "_model_name": "LayoutModel",
            "justify_items": null,
            "grid_row": null,
            "max_height": null,
            "align_content": null,
            "visibility": null,
            "align_self": null,
            "height": null,
            "min_height": null,
            "padding": null,
            "grid_auto_rows": null,
            "grid_gap": null,
            "max_width": null,
            "order": null,
            "_view_module_version": "1.2.0",
            "grid_template_areas": null,
            "object_position": null,
            "object_fit": null,
            "grid_auto_columns": null,
            "margin": null,
            "display": null,
            "left": null
          }
        },
        "e0cd6db222bf41c8bc2ce49c7eba67da": {
          "model_module": "@jupyter-widgets/controls",
          "model_name": "DescriptionStyleModel",
          "state": {
            "_view_name": "StyleView",
            "_model_name": "DescriptionStyleModel",
            "description_width": "",
            "_view_module": "@jupyter-widgets/base",
            "_model_module_version": "1.5.0",
            "_view_count": null,
            "_view_module_version": "1.2.0",
            "_model_module": "@jupyter-widgets/controls"
          }
        },
        "679f2bedb9de4268ab8bddf3fb9d3ee5": {
          "model_module": "@jupyter-widgets/base",
          "model_name": "LayoutModel",
          "state": {
            "_view_name": "LayoutView",
            "grid_template_rows": null,
            "right": null,
            "justify_content": null,
            "_view_module": "@jupyter-widgets/base",
            "overflow": null,
            "_model_module_version": "1.2.0",
            "_view_count": null,
            "flex_flow": null,
            "width": null,
            "min_width": null,
            "border": null,
            "align_items": null,
            "bottom": null,
            "_model_module": "@jupyter-widgets/base",
            "top": null,
            "grid_column": null,
            "overflow_y": null,
            "overflow_x": null,
            "grid_auto_flow": null,
            "grid_area": null,
            "grid_template_columns": null,
            "flex": null,
            "_model_name": "LayoutModel",
            "justify_items": null,
            "grid_row": null,
            "max_height": null,
            "align_content": null,
            "visibility": null,
            "align_self": null,
            "height": null,
            "min_height": null,
            "padding": null,
            "grid_auto_rows": null,
            "grid_gap": null,
            "max_width": null,
            "order": null,
            "_view_module_version": "1.2.0",
            "grid_template_areas": null,
            "object_position": null,
            "object_fit": null,
            "grid_auto_columns": null,
            "margin": null,
            "display": null,
            "left": null
          }
        },
        "fce29faf834c4894a33f74241d31ac07": {
          "model_module": "@jupyter-widgets/controls",
          "model_name": "HBoxModel",
          "state": {
            "_view_name": "HBoxView",
            "_dom_classes": [],
            "_model_name": "HBoxModel",
            "_view_module": "@jupyter-widgets/controls",
            "_model_module_version": "1.5.0",
            "_view_count": null,
            "_view_module_version": "1.5.0",
            "box_style": "",
            "layout": "IPY_MODEL_8e314589e3714582a02120fef3eb49b7",
            "_model_module": "@jupyter-widgets/controls",
            "children": [
              "IPY_MODEL_9eec39ab4ace4ce6bd9f7c28948fe6b4",
              "IPY_MODEL_af63ae5cad6b47349a89b2d69e626c36"
            ]
          }
        },
        "8e314589e3714582a02120fef3eb49b7": {
          "model_module": "@jupyter-widgets/base",
          "model_name": "LayoutModel",
          "state": {
            "_view_name": "LayoutView",
            "grid_template_rows": null,
            "right": null,
            "justify_content": null,
            "_view_module": "@jupyter-widgets/base",
            "overflow": null,
            "_model_module_version": "1.2.0",
            "_view_count": null,
            "flex_flow": null,
            "width": null,
            "min_width": null,
            "border": null,
            "align_items": null,
            "bottom": null,
            "_model_module": "@jupyter-widgets/base",
            "top": null,
            "grid_column": null,
            "overflow_y": null,
            "overflow_x": null,
            "grid_auto_flow": null,
            "grid_area": null,
            "grid_template_columns": null,
            "flex": null,
            "_model_name": "LayoutModel",
            "justify_items": null,
            "grid_row": null,
            "max_height": null,
            "align_content": null,
            "visibility": null,
            "align_self": null,
            "height": null,
            "min_height": null,
            "padding": null,
            "grid_auto_rows": null,
            "grid_gap": null,
            "max_width": null,
            "order": null,
            "_view_module_version": "1.2.0",
            "grid_template_areas": null,
            "object_position": null,
            "object_fit": null,
            "grid_auto_columns": null,
            "margin": null,
            "display": null,
            "left": null
          }
        },
        "9eec39ab4ace4ce6bd9f7c28948fe6b4": {
          "model_module": "@jupyter-widgets/controls",
          "model_name": "FloatProgressModel",
          "state": {
            "_view_name": "ProgressView",
            "style": "IPY_MODEL_3376ceb66f9c470daf68a8cd2593fbd5",
            "_dom_classes": [],
            "description": "Epoch 4: 100%",
            "_model_name": "FloatProgressModel",
            "bar_style": "",
            "max": 563,
            "_view_module": "@jupyter-widgets/controls",
            "_model_module_version": "1.5.0",
            "value": 563,
            "_view_count": null,
            "_view_module_version": "1.5.0",
            "orientation": "horizontal",
            "min": 0,
            "description_tooltip": null,
            "_model_module": "@jupyter-widgets/controls",
            "layout": "IPY_MODEL_fbd79cb1d714426592e3ec2fdde587e0"
          }
        },
        "af63ae5cad6b47349a89b2d69e626c36": {
          "model_module": "@jupyter-widgets/controls",
          "model_name": "HTMLModel",
          "state": {
            "_view_name": "HTMLView",
            "style": "IPY_MODEL_051db7f2b9e04b61b2d2816fd96fcb6e",
            "_dom_classes": [],
            "description": "",
            "_model_name": "HTMLModel",
            "placeholder": "​",
            "_view_module": "@jupyter-widgets/controls",
            "_model_module_version": "1.5.0",
            "value": " 563/563 [00:04&lt;00:00, 118.72it/s, loss=0.067]",
            "_view_count": null,
            "_view_module_version": "1.5.0",
            "description_tooltip": null,
            "_model_module": "@jupyter-widgets/controls",
            "layout": "IPY_MODEL_8511456bc04d43a4bf689c8bca5b7c56"
          }
        },
        "3376ceb66f9c470daf68a8cd2593fbd5": {
          "model_module": "@jupyter-widgets/controls",
          "model_name": "ProgressStyleModel",
          "state": {
            "_view_name": "StyleView",
            "_model_name": "ProgressStyleModel",
            "description_width": "initial",
            "_view_module": "@jupyter-widgets/base",
            "_model_module_version": "1.5.0",
            "_view_count": null,
            "_view_module_version": "1.2.0",
            "bar_color": null,
            "_model_module": "@jupyter-widgets/controls"
          }
        },
        "fbd79cb1d714426592e3ec2fdde587e0": {
          "model_module": "@jupyter-widgets/base",
          "model_name": "LayoutModel",
          "state": {
            "_view_name": "LayoutView",
            "grid_template_rows": null,
            "right": null,
            "justify_content": null,
            "_view_module": "@jupyter-widgets/base",
            "overflow": null,
            "_model_module_version": "1.2.0",
            "_view_count": null,
            "flex_flow": null,
            "width": null,
            "min_width": null,
            "border": null,
            "align_items": null,
            "bottom": null,
            "_model_module": "@jupyter-widgets/base",
            "top": null,
            "grid_column": null,
            "overflow_y": null,
            "overflow_x": null,
            "grid_auto_flow": null,
            "grid_area": null,
            "grid_template_columns": null,
            "flex": null,
            "_model_name": "LayoutModel",
            "justify_items": null,
            "grid_row": null,
            "max_height": null,
            "align_content": null,
            "visibility": null,
            "align_self": null,
            "height": null,
            "min_height": null,
            "padding": null,
            "grid_auto_rows": null,
            "grid_gap": null,
            "max_width": null,
            "order": null,
            "_view_module_version": "1.2.0",
            "grid_template_areas": null,
            "object_position": null,
            "object_fit": null,
            "grid_auto_columns": null,
            "margin": null,
            "display": null,
            "left": null
          }
        },
        "051db7f2b9e04b61b2d2816fd96fcb6e": {
          "model_module": "@jupyter-widgets/controls",
          "model_name": "DescriptionStyleModel",
          "state": {
            "_view_name": "StyleView",
            "_model_name": "DescriptionStyleModel",
            "description_width": "",
            "_view_module": "@jupyter-widgets/base",
            "_model_module_version": "1.5.0",
            "_view_count": null,
            "_view_module_version": "1.2.0",
            "_model_module": "@jupyter-widgets/controls"
          }
        },
        "8511456bc04d43a4bf689c8bca5b7c56": {
          "model_module": "@jupyter-widgets/base",
          "model_name": "LayoutModel",
          "state": {
            "_view_name": "LayoutView",
            "grid_template_rows": null,
            "right": null,
            "justify_content": null,
            "_view_module": "@jupyter-widgets/base",
            "overflow": null,
            "_model_module_version": "1.2.0",
            "_view_count": null,
            "flex_flow": null,
            "width": null,
            "min_width": null,
            "border": null,
            "align_items": null,
            "bottom": null,
            "_model_module": "@jupyter-widgets/base",
            "top": null,
            "grid_column": null,
            "overflow_y": null,
            "overflow_x": null,
            "grid_auto_flow": null,
            "grid_area": null,
            "grid_template_columns": null,
            "flex": null,
            "_model_name": "LayoutModel",
            "justify_items": null,
            "grid_row": null,
            "max_height": null,
            "align_content": null,
            "visibility": null,
            "align_self": null,
            "height": null,
            "min_height": null,
            "padding": null,
            "grid_auto_rows": null,
            "grid_gap": null,
            "max_width": null,
            "order": null,
            "_view_module_version": "1.2.0",
            "grid_template_areas": null,
            "object_position": null,
            "object_fit": null,
            "grid_auto_columns": null,
            "margin": null,
            "display": null,
            "left": null
          }
        },
        "4bba5924f2f24f2f80871f39b969388c": {
          "model_module": "@jupyter-widgets/controls",
          "model_name": "HBoxModel",
          "state": {
            "_view_name": "HBoxView",
            "_dom_classes": [],
            "_model_name": "HBoxModel",
            "_view_module": "@jupyter-widgets/controls",
            "_model_module_version": "1.5.0",
            "_view_count": null,
            "_view_module_version": "1.5.0",
            "box_style": "",
            "layout": "IPY_MODEL_c800615d9f344dd8ae67ef03a630c000",
            "_model_module": "@jupyter-widgets/controls",
            "children": [
              "IPY_MODEL_503442fc7aee4590847b8d1c75f5673a",
              "IPY_MODEL_1f2848aa487a40dc8dee75a5fbd9b90c"
            ]
          }
        },
        "c800615d9f344dd8ae67ef03a630c000": {
          "model_module": "@jupyter-widgets/base",
          "model_name": "LayoutModel",
          "state": {
            "_view_name": "LayoutView",
            "grid_template_rows": null,
            "right": null,
            "justify_content": null,
            "_view_module": "@jupyter-widgets/base",
            "overflow": null,
            "_model_module_version": "1.2.0",
            "_view_count": null,
            "flex_flow": null,
            "width": null,
            "min_width": null,
            "border": null,
            "align_items": null,
            "bottom": null,
            "_model_module": "@jupyter-widgets/base",
            "top": null,
            "grid_column": null,
            "overflow_y": null,
            "overflow_x": null,
            "grid_auto_flow": null,
            "grid_area": null,
            "grid_template_columns": null,
            "flex": null,
            "_model_name": "LayoutModel",
            "justify_items": null,
            "grid_row": null,
            "max_height": null,
            "align_content": null,
            "visibility": null,
            "align_self": null,
            "height": null,
            "min_height": null,
            "padding": null,
            "grid_auto_rows": null,
            "grid_gap": null,
            "max_width": null,
            "order": null,
            "_view_module_version": "1.2.0",
            "grid_template_areas": null,
            "object_position": null,
            "object_fit": null,
            "grid_auto_columns": null,
            "margin": null,
            "display": null,
            "left": null
          }
        },
        "503442fc7aee4590847b8d1c75f5673a": {
          "model_module": "@jupyter-widgets/controls",
          "model_name": "FloatProgressModel",
          "state": {
            "_view_name": "ProgressView",
            "style": "IPY_MODEL_6d2966b00e4f42ca9d1657d109161a63",
            "_dom_classes": [],
            "description": "100%",
            "_model_name": "FloatProgressModel",
            "bar_style": "",
            "max": 141,
            "_view_module": "@jupyter-widgets/controls",
            "_model_module_version": "1.5.0",
            "value": 141,
            "_view_count": null,
            "_view_module_version": "1.5.0",
            "orientation": "horizontal",
            "min": 0,
            "description_tooltip": null,
            "_model_module": "@jupyter-widgets/controls",
            "layout": "IPY_MODEL_c4ce230881d44279a20a643620f5b43d"
          }
        },
        "1f2848aa487a40dc8dee75a5fbd9b90c": {
          "model_module": "@jupyter-widgets/controls",
          "model_name": "HTMLModel",
          "state": {
            "_view_name": "HTMLView",
            "style": "IPY_MODEL_7120abbbd3d942e883073d095574e768",
            "_dom_classes": [],
            "description": "",
            "_model_name": "HTMLModel",
            "placeholder": "​",
            "_view_module": "@jupyter-widgets/controls",
            "_model_module_version": "1.5.0",
            "value": " 141/141 [00:00&lt;00:00, 257.63it/s]",
            "_view_count": null,
            "_view_module_version": "1.5.0",
            "description_tooltip": null,
            "_model_module": "@jupyter-widgets/controls",
            "layout": "IPY_MODEL_25f7c856420c4457b1c52daeec2d3fb2"
          }
        },
        "6d2966b00e4f42ca9d1657d109161a63": {
          "model_module": "@jupyter-widgets/controls",
          "model_name": "ProgressStyleModel",
          "state": {
            "_view_name": "StyleView",
            "_model_name": "ProgressStyleModel",
            "description_width": "initial",
            "_view_module": "@jupyter-widgets/base",
            "_model_module_version": "1.5.0",
            "_view_count": null,
            "_view_module_version": "1.2.0",
            "bar_color": null,
            "_model_module": "@jupyter-widgets/controls"
          }
        },
        "c4ce230881d44279a20a643620f5b43d": {
          "model_module": "@jupyter-widgets/base",
          "model_name": "LayoutModel",
          "state": {
            "_view_name": "LayoutView",
            "grid_template_rows": null,
            "right": null,
            "justify_content": null,
            "_view_module": "@jupyter-widgets/base",
            "overflow": null,
            "_model_module_version": "1.2.0",
            "_view_count": null,
            "flex_flow": null,
            "width": null,
            "min_width": null,
            "border": null,
            "align_items": null,
            "bottom": null,
            "_model_module": "@jupyter-widgets/base",
            "top": null,
            "grid_column": null,
            "overflow_y": null,
            "overflow_x": null,
            "grid_auto_flow": null,
            "grid_area": null,
            "grid_template_columns": null,
            "flex": null,
            "_model_name": "LayoutModel",
            "justify_items": null,
            "grid_row": null,
            "max_height": null,
            "align_content": null,
            "visibility": null,
            "align_self": null,
            "height": null,
            "min_height": null,
            "padding": null,
            "grid_auto_rows": null,
            "grid_gap": null,
            "max_width": null,
            "order": null,
            "_view_module_version": "1.2.0",
            "grid_template_areas": null,
            "object_position": null,
            "object_fit": null,
            "grid_auto_columns": null,
            "margin": null,
            "display": null,
            "left": null
          }
        },
        "7120abbbd3d942e883073d095574e768": {
          "model_module": "@jupyter-widgets/controls",
          "model_name": "DescriptionStyleModel",
          "state": {
            "_view_name": "StyleView",
            "_model_name": "DescriptionStyleModel",
            "description_width": "",
            "_view_module": "@jupyter-widgets/base",
            "_model_module_version": "1.5.0",
            "_view_count": null,
            "_view_module_version": "1.2.0",
            "_model_module": "@jupyter-widgets/controls"
          }
        },
        "25f7c856420c4457b1c52daeec2d3fb2": {
          "model_module": "@jupyter-widgets/base",
          "model_name": "LayoutModel",
          "state": {
            "_view_name": "LayoutView",
            "grid_template_rows": null,
            "right": null,
            "justify_content": null,
            "_view_module": "@jupyter-widgets/base",
            "overflow": null,
            "_model_module_version": "1.2.0",
            "_view_count": null,
            "flex_flow": null,
            "width": null,
            "min_width": null,
            "border": null,
            "align_items": null,
            "bottom": null,
            "_model_module": "@jupyter-widgets/base",
            "top": null,
            "grid_column": null,
            "overflow_y": null,
            "overflow_x": null,
            "grid_auto_flow": null,
            "grid_area": null,
            "grid_template_columns": null,
            "flex": null,
            "_model_name": "LayoutModel",
            "justify_items": null,
            "grid_row": null,
            "max_height": null,
            "align_content": null,
            "visibility": null,
            "align_self": null,
            "height": null,
            "min_height": null,
            "padding": null,
            "grid_auto_rows": null,
            "grid_gap": null,
            "max_width": null,
            "order": null,
            "_view_module_version": "1.2.0",
            "grid_template_areas": null,
            "object_position": null,
            "object_fit": null,
            "grid_auto_columns": null,
            "margin": null,
            "display": null,
            "left": null
          }
        },
        "53ec5e0e22c0421fb73137b6d736f97b": {
          "model_module": "@jupyter-widgets/controls",
          "model_name": "HBoxModel",
          "state": {
            "_view_name": "HBoxView",
            "_dom_classes": [],
            "_model_name": "HBoxModel",
            "_view_module": "@jupyter-widgets/controls",
            "_model_module_version": "1.5.0",
            "_view_count": null,
            "_view_module_version": "1.5.0",
            "box_style": "",
            "layout": "IPY_MODEL_fd504e1a9276425baa6b24890f765faf",
            "_model_module": "@jupyter-widgets/controls",
            "children": [
              "IPY_MODEL_16ba253aeb5c4fd7a5df05fec7a219ca",
              "IPY_MODEL_56dd14317250493d893ce6411073b840"
            ]
          }
        },
        "fd504e1a9276425baa6b24890f765faf": {
          "model_module": "@jupyter-widgets/base",
          "model_name": "LayoutModel",
          "state": {
            "_view_name": "LayoutView",
            "grid_template_rows": null,
            "right": null,
            "justify_content": null,
            "_view_module": "@jupyter-widgets/base",
            "overflow": null,
            "_model_module_version": "1.2.0",
            "_view_count": null,
            "flex_flow": null,
            "width": null,
            "min_width": null,
            "border": null,
            "align_items": null,
            "bottom": null,
            "_model_module": "@jupyter-widgets/base",
            "top": null,
            "grid_column": null,
            "overflow_y": null,
            "overflow_x": null,
            "grid_auto_flow": null,
            "grid_area": null,
            "grid_template_columns": null,
            "flex": null,
            "_model_name": "LayoutModel",
            "justify_items": null,
            "grid_row": null,
            "max_height": null,
            "align_content": null,
            "visibility": null,
            "align_self": null,
            "height": null,
            "min_height": null,
            "padding": null,
            "grid_auto_rows": null,
            "grid_gap": null,
            "max_width": null,
            "order": null,
            "_view_module_version": "1.2.0",
            "grid_template_areas": null,
            "object_position": null,
            "object_fit": null,
            "grid_auto_columns": null,
            "margin": null,
            "display": null,
            "left": null
          }
        },
        "16ba253aeb5c4fd7a5df05fec7a219ca": {
          "model_module": "@jupyter-widgets/controls",
          "model_name": "FloatProgressModel",
          "state": {
            "_view_name": "ProgressView",
            "style": "IPY_MODEL_bfbc665a2037471faf9650cc9bff1aaa",
            "_dom_classes": [],
            "description": "Epoch 5: 100%",
            "_model_name": "FloatProgressModel",
            "bar_style": "",
            "max": 563,
            "_view_module": "@jupyter-widgets/controls",
            "_model_module_version": "1.5.0",
            "value": 563,
            "_view_count": null,
            "_view_module_version": "1.5.0",
            "orientation": "horizontal",
            "min": 0,
            "description_tooltip": null,
            "_model_module": "@jupyter-widgets/controls",
            "layout": "IPY_MODEL_be3b715814294a028fda8c8b65db8f3c"
          }
        },
        "56dd14317250493d893ce6411073b840": {
          "model_module": "@jupyter-widgets/controls",
          "model_name": "HTMLModel",
          "state": {
            "_view_name": "HTMLView",
            "style": "IPY_MODEL_8ab04661ed844d319313e36c5700f229",
            "_dom_classes": [],
            "description": "",
            "_model_name": "HTMLModel",
            "placeholder": "​",
            "_view_module": "@jupyter-widgets/controls",
            "_model_module_version": "1.5.0",
            "value": " 563/563 [00:04&lt;00:00, 117.26it/s, loss=0.0874]",
            "_view_count": null,
            "_view_module_version": "1.5.0",
            "description_tooltip": null,
            "_model_module": "@jupyter-widgets/controls",
            "layout": "IPY_MODEL_35fe1424e0ba4e2ca530fb9e3bd40c7d"
          }
        },
        "bfbc665a2037471faf9650cc9bff1aaa": {
          "model_module": "@jupyter-widgets/controls",
          "model_name": "ProgressStyleModel",
          "state": {
            "_view_name": "StyleView",
            "_model_name": "ProgressStyleModel",
            "description_width": "initial",
            "_view_module": "@jupyter-widgets/base",
            "_model_module_version": "1.5.0",
            "_view_count": null,
            "_view_module_version": "1.2.0",
            "bar_color": null,
            "_model_module": "@jupyter-widgets/controls"
          }
        },
        "be3b715814294a028fda8c8b65db8f3c": {
          "model_module": "@jupyter-widgets/base",
          "model_name": "LayoutModel",
          "state": {
            "_view_name": "LayoutView",
            "grid_template_rows": null,
            "right": null,
            "justify_content": null,
            "_view_module": "@jupyter-widgets/base",
            "overflow": null,
            "_model_module_version": "1.2.0",
            "_view_count": null,
            "flex_flow": null,
            "width": null,
            "min_width": null,
            "border": null,
            "align_items": null,
            "bottom": null,
            "_model_module": "@jupyter-widgets/base",
            "top": null,
            "grid_column": null,
            "overflow_y": null,
            "overflow_x": null,
            "grid_auto_flow": null,
            "grid_area": null,
            "grid_template_columns": null,
            "flex": null,
            "_model_name": "LayoutModel",
            "justify_items": null,
            "grid_row": null,
            "max_height": null,
            "align_content": null,
            "visibility": null,
            "align_self": null,
            "height": null,
            "min_height": null,
            "padding": null,
            "grid_auto_rows": null,
            "grid_gap": null,
            "max_width": null,
            "order": null,
            "_view_module_version": "1.2.0",
            "grid_template_areas": null,
            "object_position": null,
            "object_fit": null,
            "grid_auto_columns": null,
            "margin": null,
            "display": null,
            "left": null
          }
        },
        "8ab04661ed844d319313e36c5700f229": {
          "model_module": "@jupyter-widgets/controls",
          "model_name": "DescriptionStyleModel",
          "state": {
            "_view_name": "StyleView",
            "_model_name": "DescriptionStyleModel",
            "description_width": "",
            "_view_module": "@jupyter-widgets/base",
            "_model_module_version": "1.5.0",
            "_view_count": null,
            "_view_module_version": "1.2.0",
            "_model_module": "@jupyter-widgets/controls"
          }
        },
        "35fe1424e0ba4e2ca530fb9e3bd40c7d": {
          "model_module": "@jupyter-widgets/base",
          "model_name": "LayoutModel",
          "state": {
            "_view_name": "LayoutView",
            "grid_template_rows": null,
            "right": null,
            "justify_content": null,
            "_view_module": "@jupyter-widgets/base",
            "overflow": null,
            "_model_module_version": "1.2.0",
            "_view_count": null,
            "flex_flow": null,
            "width": null,
            "min_width": null,
            "border": null,
            "align_items": null,
            "bottom": null,
            "_model_module": "@jupyter-widgets/base",
            "top": null,
            "grid_column": null,
            "overflow_y": null,
            "overflow_x": null,
            "grid_auto_flow": null,
            "grid_area": null,
            "grid_template_columns": null,
            "flex": null,
            "_model_name": "LayoutModel",
            "justify_items": null,
            "grid_row": null,
            "max_height": null,
            "align_content": null,
            "visibility": null,
            "align_self": null,
            "height": null,
            "min_height": null,
            "padding": null,
            "grid_auto_rows": null,
            "grid_gap": null,
            "max_width": null,
            "order": null,
            "_view_module_version": "1.2.0",
            "grid_template_areas": null,
            "object_position": null,
            "object_fit": null,
            "grid_auto_columns": null,
            "margin": null,
            "display": null,
            "left": null
          }
        },
        "38f5b40c9efd47a58d7ee61c5110a87e": {
          "model_module": "@jupyter-widgets/controls",
          "model_name": "HBoxModel",
          "state": {
            "_view_name": "HBoxView",
            "_dom_classes": [],
            "_model_name": "HBoxModel",
            "_view_module": "@jupyter-widgets/controls",
            "_model_module_version": "1.5.0",
            "_view_count": null,
            "_view_module_version": "1.5.0",
            "box_style": "",
            "layout": "IPY_MODEL_fac3244fbd244a26a9874002ef5f9b44",
            "_model_module": "@jupyter-widgets/controls",
            "children": [
              "IPY_MODEL_6ebbb77969eb4c93afd002630e630910",
              "IPY_MODEL_3fcd0aa36dff412996e231126cf8dfef"
            ]
          }
        },
        "fac3244fbd244a26a9874002ef5f9b44": {
          "model_module": "@jupyter-widgets/base",
          "model_name": "LayoutModel",
          "state": {
            "_view_name": "LayoutView",
            "grid_template_rows": null,
            "right": null,
            "justify_content": null,
            "_view_module": "@jupyter-widgets/base",
            "overflow": null,
            "_model_module_version": "1.2.0",
            "_view_count": null,
            "flex_flow": null,
            "width": null,
            "min_width": null,
            "border": null,
            "align_items": null,
            "bottom": null,
            "_model_module": "@jupyter-widgets/base",
            "top": null,
            "grid_column": null,
            "overflow_y": null,
            "overflow_x": null,
            "grid_auto_flow": null,
            "grid_area": null,
            "grid_template_columns": null,
            "flex": null,
            "_model_name": "LayoutModel",
            "justify_items": null,
            "grid_row": null,
            "max_height": null,
            "align_content": null,
            "visibility": null,
            "align_self": null,
            "height": null,
            "min_height": null,
            "padding": null,
            "grid_auto_rows": null,
            "grid_gap": null,
            "max_width": null,
            "order": null,
            "_view_module_version": "1.2.0",
            "grid_template_areas": null,
            "object_position": null,
            "object_fit": null,
            "grid_auto_columns": null,
            "margin": null,
            "display": null,
            "left": null
          }
        },
        "6ebbb77969eb4c93afd002630e630910": {
          "model_module": "@jupyter-widgets/controls",
          "model_name": "FloatProgressModel",
          "state": {
            "_view_name": "ProgressView",
            "style": "IPY_MODEL_72145e9ae28e4bb1acf249cf4bff4ae0",
            "_dom_classes": [],
            "description": "100%",
            "_model_name": "FloatProgressModel",
            "bar_style": "",
            "max": 141,
            "_view_module": "@jupyter-widgets/controls",
            "_model_module_version": "1.5.0",
            "value": 141,
            "_view_count": null,
            "_view_module_version": "1.5.0",
            "orientation": "horizontal",
            "min": 0,
            "description_tooltip": null,
            "_model_module": "@jupyter-widgets/controls",
            "layout": "IPY_MODEL_d93b08e9387a4e57adeacfb172edc006"
          }
        },
        "3fcd0aa36dff412996e231126cf8dfef": {
          "model_module": "@jupyter-widgets/controls",
          "model_name": "HTMLModel",
          "state": {
            "_view_name": "HTMLView",
            "style": "IPY_MODEL_a2d585fe4be1424495d2eb7b9fe43268",
            "_dom_classes": [],
            "description": "",
            "_model_name": "HTMLModel",
            "placeholder": "​",
            "_view_module": "@jupyter-widgets/controls",
            "_model_module_version": "1.5.0",
            "value": " 141/141 [00:00&lt;00:00, 316.28it/s]",
            "_view_count": null,
            "_view_module_version": "1.5.0",
            "description_tooltip": null,
            "_model_module": "@jupyter-widgets/controls",
            "layout": "IPY_MODEL_f290bee9c79f41aaaa46139e13d907f9"
          }
        },
        "72145e9ae28e4bb1acf249cf4bff4ae0": {
          "model_module": "@jupyter-widgets/controls",
          "model_name": "ProgressStyleModel",
          "state": {
            "_view_name": "StyleView",
            "_model_name": "ProgressStyleModel",
            "description_width": "initial",
            "_view_module": "@jupyter-widgets/base",
            "_model_module_version": "1.5.0",
            "_view_count": null,
            "_view_module_version": "1.2.0",
            "bar_color": null,
            "_model_module": "@jupyter-widgets/controls"
          }
        },
        "d93b08e9387a4e57adeacfb172edc006": {
          "model_module": "@jupyter-widgets/base",
          "model_name": "LayoutModel",
          "state": {
            "_view_name": "LayoutView",
            "grid_template_rows": null,
            "right": null,
            "justify_content": null,
            "_view_module": "@jupyter-widgets/base",
            "overflow": null,
            "_model_module_version": "1.2.0",
            "_view_count": null,
            "flex_flow": null,
            "width": null,
            "min_width": null,
            "border": null,
            "align_items": null,
            "bottom": null,
            "_model_module": "@jupyter-widgets/base",
            "top": null,
            "grid_column": null,
            "overflow_y": null,
            "overflow_x": null,
            "grid_auto_flow": null,
            "grid_area": null,
            "grid_template_columns": null,
            "flex": null,
            "_model_name": "LayoutModel",
            "justify_items": null,
            "grid_row": null,
            "max_height": null,
            "align_content": null,
            "visibility": null,
            "align_self": null,
            "height": null,
            "min_height": null,
            "padding": null,
            "grid_auto_rows": null,
            "grid_gap": null,
            "max_width": null,
            "order": null,
            "_view_module_version": "1.2.0",
            "grid_template_areas": null,
            "object_position": null,
            "object_fit": null,
            "grid_auto_columns": null,
            "margin": null,
            "display": null,
            "left": null
          }
        },
        "a2d585fe4be1424495d2eb7b9fe43268": {
          "model_module": "@jupyter-widgets/controls",
          "model_name": "DescriptionStyleModel",
          "state": {
            "_view_name": "StyleView",
            "_model_name": "DescriptionStyleModel",
            "description_width": "",
            "_view_module": "@jupyter-widgets/base",
            "_model_module_version": "1.5.0",
            "_view_count": null,
            "_view_module_version": "1.2.0",
            "_model_module": "@jupyter-widgets/controls"
          }
        },
        "f290bee9c79f41aaaa46139e13d907f9": {
          "model_module": "@jupyter-widgets/base",
          "model_name": "LayoutModel",
          "state": {
            "_view_name": "LayoutView",
            "grid_template_rows": null,
            "right": null,
            "justify_content": null,
            "_view_module": "@jupyter-widgets/base",
            "overflow": null,
            "_model_module_version": "1.2.0",
            "_view_count": null,
            "flex_flow": null,
            "width": null,
            "min_width": null,
            "border": null,
            "align_items": null,
            "bottom": null,
            "_model_module": "@jupyter-widgets/base",
            "top": null,
            "grid_column": null,
            "overflow_y": null,
            "overflow_x": null,
            "grid_auto_flow": null,
            "grid_area": null,
            "grid_template_columns": null,
            "flex": null,
            "_model_name": "LayoutModel",
            "justify_items": null,
            "grid_row": null,
            "max_height": null,
            "align_content": null,
            "visibility": null,
            "align_self": null,
            "height": null,
            "min_height": null,
            "padding": null,
            "grid_auto_rows": null,
            "grid_gap": null,
            "max_width": null,
            "order": null,
            "_view_module_version": "1.2.0",
            "grid_template_areas": null,
            "object_position": null,
            "object_fit": null,
            "grid_auto_columns": null,
            "margin": null,
            "display": null,
            "left": null
          }
        },
        "a6605b38c5c749128edc055f5425b4ad": {
          "model_module": "@jupyter-widgets/controls",
          "model_name": "HBoxModel",
          "state": {
            "_view_name": "HBoxView",
            "_dom_classes": [],
            "_model_name": "HBoxModel",
            "_view_module": "@jupyter-widgets/controls",
            "_model_module_version": "1.5.0",
            "_view_count": null,
            "_view_module_version": "1.5.0",
            "box_style": "",
            "layout": "IPY_MODEL_40420b01b06a4dcc8e430ed00742c9ee",
            "_model_module": "@jupyter-widgets/controls",
            "children": [
              "IPY_MODEL_c7625bb40c2a4bf6a683eae6415ab616",
              "IPY_MODEL_3feec443a4f04834abdc9042f7e39fd3"
            ]
          }
        },
        "40420b01b06a4dcc8e430ed00742c9ee": {
          "model_module": "@jupyter-widgets/base",
          "model_name": "LayoutModel",
          "state": {
            "_view_name": "LayoutView",
            "grid_template_rows": null,
            "right": null,
            "justify_content": null,
            "_view_module": "@jupyter-widgets/base",
            "overflow": null,
            "_model_module_version": "1.2.0",
            "_view_count": null,
            "flex_flow": null,
            "width": null,
            "min_width": null,
            "border": null,
            "align_items": null,
            "bottom": null,
            "_model_module": "@jupyter-widgets/base",
            "top": null,
            "grid_column": null,
            "overflow_y": null,
            "overflow_x": null,
            "grid_auto_flow": null,
            "grid_area": null,
            "grid_template_columns": null,
            "flex": null,
            "_model_name": "LayoutModel",
            "justify_items": null,
            "grid_row": null,
            "max_height": null,
            "align_content": null,
            "visibility": null,
            "align_self": null,
            "height": null,
            "min_height": null,
            "padding": null,
            "grid_auto_rows": null,
            "grid_gap": null,
            "max_width": null,
            "order": null,
            "_view_module_version": "1.2.0",
            "grid_template_areas": null,
            "object_position": null,
            "object_fit": null,
            "grid_auto_columns": null,
            "margin": null,
            "display": null,
            "left": null
          }
        },
        "c7625bb40c2a4bf6a683eae6415ab616": {
          "model_module": "@jupyter-widgets/controls",
          "model_name": "FloatProgressModel",
          "state": {
            "_view_name": "ProgressView",
            "style": "IPY_MODEL_af07a035c1e04abf94c942c70f7bb89a",
            "_dom_classes": [],
            "description": "Epoch 6: 100%",
            "_model_name": "FloatProgressModel",
            "bar_style": "",
            "max": 563,
            "_view_module": "@jupyter-widgets/controls",
            "_model_module_version": "1.5.0",
            "value": 563,
            "_view_count": null,
            "_view_module_version": "1.5.0",
            "orientation": "horizontal",
            "min": 0,
            "description_tooltip": null,
            "_model_module": "@jupyter-widgets/controls",
            "layout": "IPY_MODEL_b936ba4d3202471b8bd9618788d32e29"
          }
        },
        "3feec443a4f04834abdc9042f7e39fd3": {
          "model_module": "@jupyter-widgets/controls",
          "model_name": "HTMLModel",
          "state": {
            "_view_name": "HTMLView",
            "style": "IPY_MODEL_178eb5f3c43947709d14d0384cbacd7a",
            "_dom_classes": [],
            "description": "",
            "_model_name": "HTMLModel",
            "placeholder": "​",
            "_view_module": "@jupyter-widgets/controls",
            "_model_module_version": "1.5.0",
            "value": " 563/563 [00:05&lt;00:00, 115.98it/s, loss=0.0572]",
            "_view_count": null,
            "_view_module_version": "1.5.0",
            "description_tooltip": null,
            "_model_module": "@jupyter-widgets/controls",
            "layout": "IPY_MODEL_ab2287c1b9834fea8e0d4fea964bdd15"
          }
        },
        "af07a035c1e04abf94c942c70f7bb89a": {
          "model_module": "@jupyter-widgets/controls",
          "model_name": "ProgressStyleModel",
          "state": {
            "_view_name": "StyleView",
            "_model_name": "ProgressStyleModel",
            "description_width": "initial",
            "_view_module": "@jupyter-widgets/base",
            "_model_module_version": "1.5.0",
            "_view_count": null,
            "_view_module_version": "1.2.0",
            "bar_color": null,
            "_model_module": "@jupyter-widgets/controls"
          }
        },
        "b936ba4d3202471b8bd9618788d32e29": {
          "model_module": "@jupyter-widgets/base",
          "model_name": "LayoutModel",
          "state": {
            "_view_name": "LayoutView",
            "grid_template_rows": null,
            "right": null,
            "justify_content": null,
            "_view_module": "@jupyter-widgets/base",
            "overflow": null,
            "_model_module_version": "1.2.0",
            "_view_count": null,
            "flex_flow": null,
            "width": null,
            "min_width": null,
            "border": null,
            "align_items": null,
            "bottom": null,
            "_model_module": "@jupyter-widgets/base",
            "top": null,
            "grid_column": null,
            "overflow_y": null,
            "overflow_x": null,
            "grid_auto_flow": null,
            "grid_area": null,
            "grid_template_columns": null,
            "flex": null,
            "_model_name": "LayoutModel",
            "justify_items": null,
            "grid_row": null,
            "max_height": null,
            "align_content": null,
            "visibility": null,
            "align_self": null,
            "height": null,
            "min_height": null,
            "padding": null,
            "grid_auto_rows": null,
            "grid_gap": null,
            "max_width": null,
            "order": null,
            "_view_module_version": "1.2.0",
            "grid_template_areas": null,
            "object_position": null,
            "object_fit": null,
            "grid_auto_columns": null,
            "margin": null,
            "display": null,
            "left": null
          }
        },
        "178eb5f3c43947709d14d0384cbacd7a": {
          "model_module": "@jupyter-widgets/controls",
          "model_name": "DescriptionStyleModel",
          "state": {
            "_view_name": "StyleView",
            "_model_name": "DescriptionStyleModel",
            "description_width": "",
            "_view_module": "@jupyter-widgets/base",
            "_model_module_version": "1.5.0",
            "_view_count": null,
            "_view_module_version": "1.2.0",
            "_model_module": "@jupyter-widgets/controls"
          }
        },
        "ab2287c1b9834fea8e0d4fea964bdd15": {
          "model_module": "@jupyter-widgets/base",
          "model_name": "LayoutModel",
          "state": {
            "_view_name": "LayoutView",
            "grid_template_rows": null,
            "right": null,
            "justify_content": null,
            "_view_module": "@jupyter-widgets/base",
            "overflow": null,
            "_model_module_version": "1.2.0",
            "_view_count": null,
            "flex_flow": null,
            "width": null,
            "min_width": null,
            "border": null,
            "align_items": null,
            "bottom": null,
            "_model_module": "@jupyter-widgets/base",
            "top": null,
            "grid_column": null,
            "overflow_y": null,
            "overflow_x": null,
            "grid_auto_flow": null,
            "grid_area": null,
            "grid_template_columns": null,
            "flex": null,
            "_model_name": "LayoutModel",
            "justify_items": null,
            "grid_row": null,
            "max_height": null,
            "align_content": null,
            "visibility": null,
            "align_self": null,
            "height": null,
            "min_height": null,
            "padding": null,
            "grid_auto_rows": null,
            "grid_gap": null,
            "max_width": null,
            "order": null,
            "_view_module_version": "1.2.0",
            "grid_template_areas": null,
            "object_position": null,
            "object_fit": null,
            "grid_auto_columns": null,
            "margin": null,
            "display": null,
            "left": null
          }
        },
        "292f25f23a914c7ba12371060746757e": {
          "model_module": "@jupyter-widgets/controls",
          "model_name": "HBoxModel",
          "state": {
            "_view_name": "HBoxView",
            "_dom_classes": [],
            "_model_name": "HBoxModel",
            "_view_module": "@jupyter-widgets/controls",
            "_model_module_version": "1.5.0",
            "_view_count": null,
            "_view_module_version": "1.5.0",
            "box_style": "",
            "layout": "IPY_MODEL_70d05b53c4ef447d9363a307bb8ea742",
            "_model_module": "@jupyter-widgets/controls",
            "children": [
              "IPY_MODEL_1f3beca9b8ed4204814327cd131c8ce6",
              "IPY_MODEL_2f96981d029e4daf9237c4786de8b76e"
            ]
          }
        },
        "70d05b53c4ef447d9363a307bb8ea742": {
          "model_module": "@jupyter-widgets/base",
          "model_name": "LayoutModel",
          "state": {
            "_view_name": "LayoutView",
            "grid_template_rows": null,
            "right": null,
            "justify_content": null,
            "_view_module": "@jupyter-widgets/base",
            "overflow": null,
            "_model_module_version": "1.2.0",
            "_view_count": null,
            "flex_flow": null,
            "width": null,
            "min_width": null,
            "border": null,
            "align_items": null,
            "bottom": null,
            "_model_module": "@jupyter-widgets/base",
            "top": null,
            "grid_column": null,
            "overflow_y": null,
            "overflow_x": null,
            "grid_auto_flow": null,
            "grid_area": null,
            "grid_template_columns": null,
            "flex": null,
            "_model_name": "LayoutModel",
            "justify_items": null,
            "grid_row": null,
            "max_height": null,
            "align_content": null,
            "visibility": null,
            "align_self": null,
            "height": null,
            "min_height": null,
            "padding": null,
            "grid_auto_rows": null,
            "grid_gap": null,
            "max_width": null,
            "order": null,
            "_view_module_version": "1.2.0",
            "grid_template_areas": null,
            "object_position": null,
            "object_fit": null,
            "grid_auto_columns": null,
            "margin": null,
            "display": null,
            "left": null
          }
        },
        "1f3beca9b8ed4204814327cd131c8ce6": {
          "model_module": "@jupyter-widgets/controls",
          "model_name": "FloatProgressModel",
          "state": {
            "_view_name": "ProgressView",
            "style": "IPY_MODEL_9a6357fcd39b44fca85cfcc107a92d95",
            "_dom_classes": [],
            "description": "100%",
            "_model_name": "FloatProgressModel",
            "bar_style": "",
            "max": 141,
            "_view_module": "@jupyter-widgets/controls",
            "_model_module_version": "1.5.0",
            "value": 141,
            "_view_count": null,
            "_view_module_version": "1.5.0",
            "orientation": "horizontal",
            "min": 0,
            "description_tooltip": null,
            "_model_module": "@jupyter-widgets/controls",
            "layout": "IPY_MODEL_83a4c8ccf5824baa8ff9e8293a9f8291"
          }
        },
        "2f96981d029e4daf9237c4786de8b76e": {
          "model_module": "@jupyter-widgets/controls",
          "model_name": "HTMLModel",
          "state": {
            "_view_name": "HTMLView",
            "style": "IPY_MODEL_7da1da4c61114db7aa2474489ced2724",
            "_dom_classes": [],
            "description": "",
            "_model_name": "HTMLModel",
            "placeholder": "​",
            "_view_module": "@jupyter-widgets/controls",
            "_model_module_version": "1.5.0",
            "value": " 141/141 [00:00&lt;00:00, 291.24it/s]",
            "_view_count": null,
            "_view_module_version": "1.5.0",
            "description_tooltip": null,
            "_model_module": "@jupyter-widgets/controls",
            "layout": "IPY_MODEL_cb7c7727bbf948d5b1f1cce54b90aa52"
          }
        },
        "9a6357fcd39b44fca85cfcc107a92d95": {
          "model_module": "@jupyter-widgets/controls",
          "model_name": "ProgressStyleModel",
          "state": {
            "_view_name": "StyleView",
            "_model_name": "ProgressStyleModel",
            "description_width": "initial",
            "_view_module": "@jupyter-widgets/base",
            "_model_module_version": "1.5.0",
            "_view_count": null,
            "_view_module_version": "1.2.0",
            "bar_color": null,
            "_model_module": "@jupyter-widgets/controls"
          }
        },
        "83a4c8ccf5824baa8ff9e8293a9f8291": {
          "model_module": "@jupyter-widgets/base",
          "model_name": "LayoutModel",
          "state": {
            "_view_name": "LayoutView",
            "grid_template_rows": null,
            "right": null,
            "justify_content": null,
            "_view_module": "@jupyter-widgets/base",
            "overflow": null,
            "_model_module_version": "1.2.0",
            "_view_count": null,
            "flex_flow": null,
            "width": null,
            "min_width": null,
            "border": null,
            "align_items": null,
            "bottom": null,
            "_model_module": "@jupyter-widgets/base",
            "top": null,
            "grid_column": null,
            "overflow_y": null,
            "overflow_x": null,
            "grid_auto_flow": null,
            "grid_area": null,
            "grid_template_columns": null,
            "flex": null,
            "_model_name": "LayoutModel",
            "justify_items": null,
            "grid_row": null,
            "max_height": null,
            "align_content": null,
            "visibility": null,
            "align_self": null,
            "height": null,
            "min_height": null,
            "padding": null,
            "grid_auto_rows": null,
            "grid_gap": null,
            "max_width": null,
            "order": null,
            "_view_module_version": "1.2.0",
            "grid_template_areas": null,
            "object_position": null,
            "object_fit": null,
            "grid_auto_columns": null,
            "margin": null,
            "display": null,
            "left": null
          }
        },
        "7da1da4c61114db7aa2474489ced2724": {
          "model_module": "@jupyter-widgets/controls",
          "model_name": "DescriptionStyleModel",
          "state": {
            "_view_name": "StyleView",
            "_model_name": "DescriptionStyleModel",
            "description_width": "",
            "_view_module": "@jupyter-widgets/base",
            "_model_module_version": "1.5.0",
            "_view_count": null,
            "_view_module_version": "1.2.0",
            "_model_module": "@jupyter-widgets/controls"
          }
        },
        "cb7c7727bbf948d5b1f1cce54b90aa52": {
          "model_module": "@jupyter-widgets/base",
          "model_name": "LayoutModel",
          "state": {
            "_view_name": "LayoutView",
            "grid_template_rows": null,
            "right": null,
            "justify_content": null,
            "_view_module": "@jupyter-widgets/base",
            "overflow": null,
            "_model_module_version": "1.2.0",
            "_view_count": null,
            "flex_flow": null,
            "width": null,
            "min_width": null,
            "border": null,
            "align_items": null,
            "bottom": null,
            "_model_module": "@jupyter-widgets/base",
            "top": null,
            "grid_column": null,
            "overflow_y": null,
            "overflow_x": null,
            "grid_auto_flow": null,
            "grid_area": null,
            "grid_template_columns": null,
            "flex": null,
            "_model_name": "LayoutModel",
            "justify_items": null,
            "grid_row": null,
            "max_height": null,
            "align_content": null,
            "visibility": null,
            "align_self": null,
            "height": null,
            "min_height": null,
            "padding": null,
            "grid_auto_rows": null,
            "grid_gap": null,
            "max_width": null,
            "order": null,
            "_view_module_version": "1.2.0",
            "grid_template_areas": null,
            "object_position": null,
            "object_fit": null,
            "grid_auto_columns": null,
            "margin": null,
            "display": null,
            "left": null
          }
        },
        "899bbc5298d64419bacc149722464787": {
          "model_module": "@jupyter-widgets/controls",
          "model_name": "HBoxModel",
          "state": {
            "_view_name": "HBoxView",
            "_dom_classes": [],
            "_model_name": "HBoxModel",
            "_view_module": "@jupyter-widgets/controls",
            "_model_module_version": "1.5.0",
            "_view_count": null,
            "_view_module_version": "1.5.0",
            "box_style": "",
            "layout": "IPY_MODEL_ba65582559da4cb8b86b38aadc891d5e",
            "_model_module": "@jupyter-widgets/controls",
            "children": [
              "IPY_MODEL_5de7e6afd14a4277902e44c0307b047c",
              "IPY_MODEL_412ece64e8d4428e9245a934c8b81fdc"
            ]
          }
        },
        "ba65582559da4cb8b86b38aadc891d5e": {
          "model_module": "@jupyter-widgets/base",
          "model_name": "LayoutModel",
          "state": {
            "_view_name": "LayoutView",
            "grid_template_rows": null,
            "right": null,
            "justify_content": null,
            "_view_module": "@jupyter-widgets/base",
            "overflow": null,
            "_model_module_version": "1.2.0",
            "_view_count": null,
            "flex_flow": null,
            "width": null,
            "min_width": null,
            "border": null,
            "align_items": null,
            "bottom": null,
            "_model_module": "@jupyter-widgets/base",
            "top": null,
            "grid_column": null,
            "overflow_y": null,
            "overflow_x": null,
            "grid_auto_flow": null,
            "grid_area": null,
            "grid_template_columns": null,
            "flex": null,
            "_model_name": "LayoutModel",
            "justify_items": null,
            "grid_row": null,
            "max_height": null,
            "align_content": null,
            "visibility": null,
            "align_self": null,
            "height": null,
            "min_height": null,
            "padding": null,
            "grid_auto_rows": null,
            "grid_gap": null,
            "max_width": null,
            "order": null,
            "_view_module_version": "1.2.0",
            "grid_template_areas": null,
            "object_position": null,
            "object_fit": null,
            "grid_auto_columns": null,
            "margin": null,
            "display": null,
            "left": null
          }
        },
        "5de7e6afd14a4277902e44c0307b047c": {
          "model_module": "@jupyter-widgets/controls",
          "model_name": "FloatProgressModel",
          "state": {
            "_view_name": "ProgressView",
            "style": "IPY_MODEL_78c06233b2c34e70839f447e2db7aece",
            "_dom_classes": [],
            "description": "Epoch 7: 100%",
            "_model_name": "FloatProgressModel",
            "bar_style": "",
            "max": 563,
            "_view_module": "@jupyter-widgets/controls",
            "_model_module_version": "1.5.0",
            "value": 563,
            "_view_count": null,
            "_view_module_version": "1.5.0",
            "orientation": "horizontal",
            "min": 0,
            "description_tooltip": null,
            "_model_module": "@jupyter-widgets/controls",
            "layout": "IPY_MODEL_9a6f45a85ee6425f89ab848ebf5c421e"
          }
        },
        "412ece64e8d4428e9245a934c8b81fdc": {
          "model_module": "@jupyter-widgets/controls",
          "model_name": "HTMLModel",
          "state": {
            "_view_name": "HTMLView",
            "style": "IPY_MODEL_b3c12ffb2a9f4c8cb157fb5b20b28f18",
            "_dom_classes": [],
            "description": "",
            "_model_name": "HTMLModel",
            "placeholder": "​",
            "_view_module": "@jupyter-widgets/controls",
            "_model_module_version": "1.5.0",
            "value": " 563/563 [00:05&lt;00:00, 110.25it/s, loss=0.112]",
            "_view_count": null,
            "_view_module_version": "1.5.0",
            "description_tooltip": null,
            "_model_module": "@jupyter-widgets/controls",
            "layout": "IPY_MODEL_c2dc14eddcc2485f8677d7c6d882bff9"
          }
        },
        "78c06233b2c34e70839f447e2db7aece": {
          "model_module": "@jupyter-widgets/controls",
          "model_name": "ProgressStyleModel",
          "state": {
            "_view_name": "StyleView",
            "_model_name": "ProgressStyleModel",
            "description_width": "initial",
            "_view_module": "@jupyter-widgets/base",
            "_model_module_version": "1.5.0",
            "_view_count": null,
            "_view_module_version": "1.2.0",
            "bar_color": null,
            "_model_module": "@jupyter-widgets/controls"
          }
        },
        "9a6f45a85ee6425f89ab848ebf5c421e": {
          "model_module": "@jupyter-widgets/base",
          "model_name": "LayoutModel",
          "state": {
            "_view_name": "LayoutView",
            "grid_template_rows": null,
            "right": null,
            "justify_content": null,
            "_view_module": "@jupyter-widgets/base",
            "overflow": null,
            "_model_module_version": "1.2.0",
            "_view_count": null,
            "flex_flow": null,
            "width": null,
            "min_width": null,
            "border": null,
            "align_items": null,
            "bottom": null,
            "_model_module": "@jupyter-widgets/base",
            "top": null,
            "grid_column": null,
            "overflow_y": null,
            "overflow_x": null,
            "grid_auto_flow": null,
            "grid_area": null,
            "grid_template_columns": null,
            "flex": null,
            "_model_name": "LayoutModel",
            "justify_items": null,
            "grid_row": null,
            "max_height": null,
            "align_content": null,
            "visibility": null,
            "align_self": null,
            "height": null,
            "min_height": null,
            "padding": null,
            "grid_auto_rows": null,
            "grid_gap": null,
            "max_width": null,
            "order": null,
            "_view_module_version": "1.2.0",
            "grid_template_areas": null,
            "object_position": null,
            "object_fit": null,
            "grid_auto_columns": null,
            "margin": null,
            "display": null,
            "left": null
          }
        },
        "b3c12ffb2a9f4c8cb157fb5b20b28f18": {
          "model_module": "@jupyter-widgets/controls",
          "model_name": "DescriptionStyleModel",
          "state": {
            "_view_name": "StyleView",
            "_model_name": "DescriptionStyleModel",
            "description_width": "",
            "_view_module": "@jupyter-widgets/base",
            "_model_module_version": "1.5.0",
            "_view_count": null,
            "_view_module_version": "1.2.0",
            "_model_module": "@jupyter-widgets/controls"
          }
        },
        "c2dc14eddcc2485f8677d7c6d882bff9": {
          "model_module": "@jupyter-widgets/base",
          "model_name": "LayoutModel",
          "state": {
            "_view_name": "LayoutView",
            "grid_template_rows": null,
            "right": null,
            "justify_content": null,
            "_view_module": "@jupyter-widgets/base",
            "overflow": null,
            "_model_module_version": "1.2.0",
            "_view_count": null,
            "flex_flow": null,
            "width": null,
            "min_width": null,
            "border": null,
            "align_items": null,
            "bottom": null,
            "_model_module": "@jupyter-widgets/base",
            "top": null,
            "grid_column": null,
            "overflow_y": null,
            "overflow_x": null,
            "grid_auto_flow": null,
            "grid_area": null,
            "grid_template_columns": null,
            "flex": null,
            "_model_name": "LayoutModel",
            "justify_items": null,
            "grid_row": null,
            "max_height": null,
            "align_content": null,
            "visibility": null,
            "align_self": null,
            "height": null,
            "min_height": null,
            "padding": null,
            "grid_auto_rows": null,
            "grid_gap": null,
            "max_width": null,
            "order": null,
            "_view_module_version": "1.2.0",
            "grid_template_areas": null,
            "object_position": null,
            "object_fit": null,
            "grid_auto_columns": null,
            "margin": null,
            "display": null,
            "left": null
          }
        },
        "9aeec0faaf894200b7567ba0b6a305d2": {
          "model_module": "@jupyter-widgets/controls",
          "model_name": "HBoxModel",
          "state": {
            "_view_name": "HBoxView",
            "_dom_classes": [],
            "_model_name": "HBoxModel",
            "_view_module": "@jupyter-widgets/controls",
            "_model_module_version": "1.5.0",
            "_view_count": null,
            "_view_module_version": "1.5.0",
            "box_style": "",
            "layout": "IPY_MODEL_01c8a7f55a75408c8785200a0f3ed44a",
            "_model_module": "@jupyter-widgets/controls",
            "children": [
              "IPY_MODEL_e28bd076b6224c5dbed4e3e96084c44d",
              "IPY_MODEL_495b7ecd17d44b3d8313f856ae85c7b1"
            ]
          }
        },
        "01c8a7f55a75408c8785200a0f3ed44a": {
          "model_module": "@jupyter-widgets/base",
          "model_name": "LayoutModel",
          "state": {
            "_view_name": "LayoutView",
            "grid_template_rows": null,
            "right": null,
            "justify_content": null,
            "_view_module": "@jupyter-widgets/base",
            "overflow": null,
            "_model_module_version": "1.2.0",
            "_view_count": null,
            "flex_flow": null,
            "width": null,
            "min_width": null,
            "border": null,
            "align_items": null,
            "bottom": null,
            "_model_module": "@jupyter-widgets/base",
            "top": null,
            "grid_column": null,
            "overflow_y": null,
            "overflow_x": null,
            "grid_auto_flow": null,
            "grid_area": null,
            "grid_template_columns": null,
            "flex": null,
            "_model_name": "LayoutModel",
            "justify_items": null,
            "grid_row": null,
            "max_height": null,
            "align_content": null,
            "visibility": null,
            "align_self": null,
            "height": null,
            "min_height": null,
            "padding": null,
            "grid_auto_rows": null,
            "grid_gap": null,
            "max_width": null,
            "order": null,
            "_view_module_version": "1.2.0",
            "grid_template_areas": null,
            "object_position": null,
            "object_fit": null,
            "grid_auto_columns": null,
            "margin": null,
            "display": null,
            "left": null
          }
        },
        "e28bd076b6224c5dbed4e3e96084c44d": {
          "model_module": "@jupyter-widgets/controls",
          "model_name": "FloatProgressModel",
          "state": {
            "_view_name": "ProgressView",
            "style": "IPY_MODEL_1a908a0e732446cb8c50686d663e07fe",
            "_dom_classes": [],
            "description": "100%",
            "_model_name": "FloatProgressModel",
            "bar_style": "",
            "max": 141,
            "_view_module": "@jupyter-widgets/controls",
            "_model_module_version": "1.5.0",
            "value": 141,
            "_view_count": null,
            "_view_module_version": "1.5.0",
            "orientation": "horizontal",
            "min": 0,
            "description_tooltip": null,
            "_model_module": "@jupyter-widgets/controls",
            "layout": "IPY_MODEL_9a1eba96b2534b04ac77f47da9ab10e9"
          }
        },
        "495b7ecd17d44b3d8313f856ae85c7b1": {
          "model_module": "@jupyter-widgets/controls",
          "model_name": "HTMLModel",
          "state": {
            "_view_name": "HTMLView",
            "style": "IPY_MODEL_3edefd5ed0784411a9233762a44deada",
            "_dom_classes": [],
            "description": "",
            "_model_name": "HTMLModel",
            "placeholder": "​",
            "_view_module": "@jupyter-widgets/controls",
            "_model_module_version": "1.5.0",
            "value": " 141/141 [00:00&lt;00:00, 302.17it/s]",
            "_view_count": null,
            "_view_module_version": "1.5.0",
            "description_tooltip": null,
            "_model_module": "@jupyter-widgets/controls",
            "layout": "IPY_MODEL_61c4e268a0a34f9f8833cf70d3cf67c8"
          }
        },
        "1a908a0e732446cb8c50686d663e07fe": {
          "model_module": "@jupyter-widgets/controls",
          "model_name": "ProgressStyleModel",
          "state": {
            "_view_name": "StyleView",
            "_model_name": "ProgressStyleModel",
            "description_width": "initial",
            "_view_module": "@jupyter-widgets/base",
            "_model_module_version": "1.5.0",
            "_view_count": null,
            "_view_module_version": "1.2.0",
            "bar_color": null,
            "_model_module": "@jupyter-widgets/controls"
          }
        },
        "9a1eba96b2534b04ac77f47da9ab10e9": {
          "model_module": "@jupyter-widgets/base",
          "model_name": "LayoutModel",
          "state": {
            "_view_name": "LayoutView",
            "grid_template_rows": null,
            "right": null,
            "justify_content": null,
            "_view_module": "@jupyter-widgets/base",
            "overflow": null,
            "_model_module_version": "1.2.0",
            "_view_count": null,
            "flex_flow": null,
            "width": null,
            "min_width": null,
            "border": null,
            "align_items": null,
            "bottom": null,
            "_model_module": "@jupyter-widgets/base",
            "top": null,
            "grid_column": null,
            "overflow_y": null,
            "overflow_x": null,
            "grid_auto_flow": null,
            "grid_area": null,
            "grid_template_columns": null,
            "flex": null,
            "_model_name": "LayoutModel",
            "justify_items": null,
            "grid_row": null,
            "max_height": null,
            "align_content": null,
            "visibility": null,
            "align_self": null,
            "height": null,
            "min_height": null,
            "padding": null,
            "grid_auto_rows": null,
            "grid_gap": null,
            "max_width": null,
            "order": null,
            "_view_module_version": "1.2.0",
            "grid_template_areas": null,
            "object_position": null,
            "object_fit": null,
            "grid_auto_columns": null,
            "margin": null,
            "display": null,
            "left": null
          }
        },
        "3edefd5ed0784411a9233762a44deada": {
          "model_module": "@jupyter-widgets/controls",
          "model_name": "DescriptionStyleModel",
          "state": {
            "_view_name": "StyleView",
            "_model_name": "DescriptionStyleModel",
            "description_width": "",
            "_view_module": "@jupyter-widgets/base",
            "_model_module_version": "1.5.0",
            "_view_count": null,
            "_view_module_version": "1.2.0",
            "_model_module": "@jupyter-widgets/controls"
          }
        },
        "61c4e268a0a34f9f8833cf70d3cf67c8": {
          "model_module": "@jupyter-widgets/base",
          "model_name": "LayoutModel",
          "state": {
            "_view_name": "LayoutView",
            "grid_template_rows": null,
            "right": null,
            "justify_content": null,
            "_view_module": "@jupyter-widgets/base",
            "overflow": null,
            "_model_module_version": "1.2.0",
            "_view_count": null,
            "flex_flow": null,
            "width": null,
            "min_width": null,
            "border": null,
            "align_items": null,
            "bottom": null,
            "_model_module": "@jupyter-widgets/base",
            "top": null,
            "grid_column": null,
            "overflow_y": null,
            "overflow_x": null,
            "grid_auto_flow": null,
            "grid_area": null,
            "grid_template_columns": null,
            "flex": null,
            "_model_name": "LayoutModel",
            "justify_items": null,
            "grid_row": null,
            "max_height": null,
            "align_content": null,
            "visibility": null,
            "align_self": null,
            "height": null,
            "min_height": null,
            "padding": null,
            "grid_auto_rows": null,
            "grid_gap": null,
            "max_width": null,
            "order": null,
            "_view_module_version": "1.2.0",
            "grid_template_areas": null,
            "object_position": null,
            "object_fit": null,
            "grid_auto_columns": null,
            "margin": null,
            "display": null,
            "left": null
          }
        },
        "dab2470e24bc4b3db2c2c834daeb57a6": {
          "model_module": "@jupyter-widgets/controls",
          "model_name": "HBoxModel",
          "state": {
            "_view_name": "HBoxView",
            "_dom_classes": [],
            "_model_name": "HBoxModel",
            "_view_module": "@jupyter-widgets/controls",
            "_model_module_version": "1.5.0",
            "_view_count": null,
            "_view_module_version": "1.5.0",
            "box_style": "",
            "layout": "IPY_MODEL_ff5614d69f5d4284ad50f4ecdd3f336a",
            "_model_module": "@jupyter-widgets/controls",
            "children": [
              "IPY_MODEL_c7c4f30ac3b14bdba602987705f68cc9",
              "IPY_MODEL_5b4df19ce54f4fff943323d2cf43a32f"
            ]
          }
        },
        "ff5614d69f5d4284ad50f4ecdd3f336a": {
          "model_module": "@jupyter-widgets/base",
          "model_name": "LayoutModel",
          "state": {
            "_view_name": "LayoutView",
            "grid_template_rows": null,
            "right": null,
            "justify_content": null,
            "_view_module": "@jupyter-widgets/base",
            "overflow": null,
            "_model_module_version": "1.2.0",
            "_view_count": null,
            "flex_flow": null,
            "width": null,
            "min_width": null,
            "border": null,
            "align_items": null,
            "bottom": null,
            "_model_module": "@jupyter-widgets/base",
            "top": null,
            "grid_column": null,
            "overflow_y": null,
            "overflow_x": null,
            "grid_auto_flow": null,
            "grid_area": null,
            "grid_template_columns": null,
            "flex": null,
            "_model_name": "LayoutModel",
            "justify_items": null,
            "grid_row": null,
            "max_height": null,
            "align_content": null,
            "visibility": null,
            "align_self": null,
            "height": null,
            "min_height": null,
            "padding": null,
            "grid_auto_rows": null,
            "grid_gap": null,
            "max_width": null,
            "order": null,
            "_view_module_version": "1.2.0",
            "grid_template_areas": null,
            "object_position": null,
            "object_fit": null,
            "grid_auto_columns": null,
            "margin": null,
            "display": null,
            "left": null
          }
        },
        "c7c4f30ac3b14bdba602987705f68cc9": {
          "model_module": "@jupyter-widgets/controls",
          "model_name": "FloatProgressModel",
          "state": {
            "_view_name": "ProgressView",
            "style": "IPY_MODEL_4ab923efb2b04edfb9a508f3de0c40d7",
            "_dom_classes": [],
            "description": "Epoch 8: 100%",
            "_model_name": "FloatProgressModel",
            "bar_style": "",
            "max": 563,
            "_view_module": "@jupyter-widgets/controls",
            "_model_module_version": "1.5.0",
            "value": 563,
            "_view_count": null,
            "_view_module_version": "1.5.0",
            "orientation": "horizontal",
            "min": 0,
            "description_tooltip": null,
            "_model_module": "@jupyter-widgets/controls",
            "layout": "IPY_MODEL_6668ee8a4a0a4deba6273e0c1ddac13b"
          }
        },
        "5b4df19ce54f4fff943323d2cf43a32f": {
          "model_module": "@jupyter-widgets/controls",
          "model_name": "HTMLModel",
          "state": {
            "_view_name": "HTMLView",
            "style": "IPY_MODEL_557823ed0fa84a4d9abb42decd18f564",
            "_dom_classes": [],
            "description": "",
            "_model_name": "HTMLModel",
            "placeholder": "​",
            "_view_module": "@jupyter-widgets/controls",
            "_model_module_version": "1.5.0",
            "value": " 563/563 [00:04&lt;00:00, 113.70it/s, loss=0.0814]",
            "_view_count": null,
            "_view_module_version": "1.5.0",
            "description_tooltip": null,
            "_model_module": "@jupyter-widgets/controls",
            "layout": "IPY_MODEL_53a276b59d0c4b66a5fb33a2089ce9de"
          }
        },
        "4ab923efb2b04edfb9a508f3de0c40d7": {
          "model_module": "@jupyter-widgets/controls",
          "model_name": "ProgressStyleModel",
          "state": {
            "_view_name": "StyleView",
            "_model_name": "ProgressStyleModel",
            "description_width": "initial",
            "_view_module": "@jupyter-widgets/base",
            "_model_module_version": "1.5.0",
            "_view_count": null,
            "_view_module_version": "1.2.0",
            "bar_color": null,
            "_model_module": "@jupyter-widgets/controls"
          }
        },
        "6668ee8a4a0a4deba6273e0c1ddac13b": {
          "model_module": "@jupyter-widgets/base",
          "model_name": "LayoutModel",
          "state": {
            "_view_name": "LayoutView",
            "grid_template_rows": null,
            "right": null,
            "justify_content": null,
            "_view_module": "@jupyter-widgets/base",
            "overflow": null,
            "_model_module_version": "1.2.0",
            "_view_count": null,
            "flex_flow": null,
            "width": null,
            "min_width": null,
            "border": null,
            "align_items": null,
            "bottom": null,
            "_model_module": "@jupyter-widgets/base",
            "top": null,
            "grid_column": null,
            "overflow_y": null,
            "overflow_x": null,
            "grid_auto_flow": null,
            "grid_area": null,
            "grid_template_columns": null,
            "flex": null,
            "_model_name": "LayoutModel",
            "justify_items": null,
            "grid_row": null,
            "max_height": null,
            "align_content": null,
            "visibility": null,
            "align_self": null,
            "height": null,
            "min_height": null,
            "padding": null,
            "grid_auto_rows": null,
            "grid_gap": null,
            "max_width": null,
            "order": null,
            "_view_module_version": "1.2.0",
            "grid_template_areas": null,
            "object_position": null,
            "object_fit": null,
            "grid_auto_columns": null,
            "margin": null,
            "display": null,
            "left": null
          }
        },
        "557823ed0fa84a4d9abb42decd18f564": {
          "model_module": "@jupyter-widgets/controls",
          "model_name": "DescriptionStyleModel",
          "state": {
            "_view_name": "StyleView",
            "_model_name": "DescriptionStyleModel",
            "description_width": "",
            "_view_module": "@jupyter-widgets/base",
            "_model_module_version": "1.5.0",
            "_view_count": null,
            "_view_module_version": "1.2.0",
            "_model_module": "@jupyter-widgets/controls"
          }
        },
        "53a276b59d0c4b66a5fb33a2089ce9de": {
          "model_module": "@jupyter-widgets/base",
          "model_name": "LayoutModel",
          "state": {
            "_view_name": "LayoutView",
            "grid_template_rows": null,
            "right": null,
            "justify_content": null,
            "_view_module": "@jupyter-widgets/base",
            "overflow": null,
            "_model_module_version": "1.2.0",
            "_view_count": null,
            "flex_flow": null,
            "width": null,
            "min_width": null,
            "border": null,
            "align_items": null,
            "bottom": null,
            "_model_module": "@jupyter-widgets/base",
            "top": null,
            "grid_column": null,
            "overflow_y": null,
            "overflow_x": null,
            "grid_auto_flow": null,
            "grid_area": null,
            "grid_template_columns": null,
            "flex": null,
            "_model_name": "LayoutModel",
            "justify_items": null,
            "grid_row": null,
            "max_height": null,
            "align_content": null,
            "visibility": null,
            "align_self": null,
            "height": null,
            "min_height": null,
            "padding": null,
            "grid_auto_rows": null,
            "grid_gap": null,
            "max_width": null,
            "order": null,
            "_view_module_version": "1.2.0",
            "grid_template_areas": null,
            "object_position": null,
            "object_fit": null,
            "grid_auto_columns": null,
            "margin": null,
            "display": null,
            "left": null
          }
        },
        "304d89b95f0f46c09a29f9f37eb057cd": {
          "model_module": "@jupyter-widgets/controls",
          "model_name": "HBoxModel",
          "state": {
            "_view_name": "HBoxView",
            "_dom_classes": [],
            "_model_name": "HBoxModel",
            "_view_module": "@jupyter-widgets/controls",
            "_model_module_version": "1.5.0",
            "_view_count": null,
            "_view_module_version": "1.5.0",
            "box_style": "",
            "layout": "IPY_MODEL_f3f8ea884dd648a0b9f9ff67a27a3227",
            "_model_module": "@jupyter-widgets/controls",
            "children": [
              "IPY_MODEL_7219f615445741ffbeecb7457bba699f",
              "IPY_MODEL_fb2404b1f8f24d34bf28c1842a69c90a"
            ]
          }
        },
        "f3f8ea884dd648a0b9f9ff67a27a3227": {
          "model_module": "@jupyter-widgets/base",
          "model_name": "LayoutModel",
          "state": {
            "_view_name": "LayoutView",
            "grid_template_rows": null,
            "right": null,
            "justify_content": null,
            "_view_module": "@jupyter-widgets/base",
            "overflow": null,
            "_model_module_version": "1.2.0",
            "_view_count": null,
            "flex_flow": null,
            "width": null,
            "min_width": null,
            "border": null,
            "align_items": null,
            "bottom": null,
            "_model_module": "@jupyter-widgets/base",
            "top": null,
            "grid_column": null,
            "overflow_y": null,
            "overflow_x": null,
            "grid_auto_flow": null,
            "grid_area": null,
            "grid_template_columns": null,
            "flex": null,
            "_model_name": "LayoutModel",
            "justify_items": null,
            "grid_row": null,
            "max_height": null,
            "align_content": null,
            "visibility": null,
            "align_self": null,
            "height": null,
            "min_height": null,
            "padding": null,
            "grid_auto_rows": null,
            "grid_gap": null,
            "max_width": null,
            "order": null,
            "_view_module_version": "1.2.0",
            "grid_template_areas": null,
            "object_position": null,
            "object_fit": null,
            "grid_auto_columns": null,
            "margin": null,
            "display": null,
            "left": null
          }
        },
        "7219f615445741ffbeecb7457bba699f": {
          "model_module": "@jupyter-widgets/controls",
          "model_name": "FloatProgressModel",
          "state": {
            "_view_name": "ProgressView",
            "style": "IPY_MODEL_b7e0ce980a884eb486970389681465fd",
            "_dom_classes": [],
            "description": "100%",
            "_model_name": "FloatProgressModel",
            "bar_style": "",
            "max": 141,
            "_view_module": "@jupyter-widgets/controls",
            "_model_module_version": "1.5.0",
            "value": 141,
            "_view_count": null,
            "_view_module_version": "1.5.0",
            "orientation": "horizontal",
            "min": 0,
            "description_tooltip": null,
            "_model_module": "@jupyter-widgets/controls",
            "layout": "IPY_MODEL_7bce5cd7095b4edd9df36beb548dd2a1"
          }
        },
        "fb2404b1f8f24d34bf28c1842a69c90a": {
          "model_module": "@jupyter-widgets/controls",
          "model_name": "HTMLModel",
          "state": {
            "_view_name": "HTMLView",
            "style": "IPY_MODEL_b430c486edbf49e0aca6191c28b2ba3a",
            "_dom_classes": [],
            "description": "",
            "_model_name": "HTMLModel",
            "placeholder": "​",
            "_view_module": "@jupyter-widgets/controls",
            "_model_module_version": "1.5.0",
            "value": " 141/141 [00:00&lt;00:00, 281.01it/s]",
            "_view_count": null,
            "_view_module_version": "1.5.0",
            "description_tooltip": null,
            "_model_module": "@jupyter-widgets/controls",
            "layout": "IPY_MODEL_25853851f8204cf7b19188f84d44d47d"
          }
        },
        "b7e0ce980a884eb486970389681465fd": {
          "model_module": "@jupyter-widgets/controls",
          "model_name": "ProgressStyleModel",
          "state": {
            "_view_name": "StyleView",
            "_model_name": "ProgressStyleModel",
            "description_width": "initial",
            "_view_module": "@jupyter-widgets/base",
            "_model_module_version": "1.5.0",
            "_view_count": null,
            "_view_module_version": "1.2.0",
            "bar_color": null,
            "_model_module": "@jupyter-widgets/controls"
          }
        },
        "7bce5cd7095b4edd9df36beb548dd2a1": {
          "model_module": "@jupyter-widgets/base",
          "model_name": "LayoutModel",
          "state": {
            "_view_name": "LayoutView",
            "grid_template_rows": null,
            "right": null,
            "justify_content": null,
            "_view_module": "@jupyter-widgets/base",
            "overflow": null,
            "_model_module_version": "1.2.0",
            "_view_count": null,
            "flex_flow": null,
            "width": null,
            "min_width": null,
            "border": null,
            "align_items": null,
            "bottom": null,
            "_model_module": "@jupyter-widgets/base",
            "top": null,
            "grid_column": null,
            "overflow_y": null,
            "overflow_x": null,
            "grid_auto_flow": null,
            "grid_area": null,
            "grid_template_columns": null,
            "flex": null,
            "_model_name": "LayoutModel",
            "justify_items": null,
            "grid_row": null,
            "max_height": null,
            "align_content": null,
            "visibility": null,
            "align_self": null,
            "height": null,
            "min_height": null,
            "padding": null,
            "grid_auto_rows": null,
            "grid_gap": null,
            "max_width": null,
            "order": null,
            "_view_module_version": "1.2.0",
            "grid_template_areas": null,
            "object_position": null,
            "object_fit": null,
            "grid_auto_columns": null,
            "margin": null,
            "display": null,
            "left": null
          }
        },
        "b430c486edbf49e0aca6191c28b2ba3a": {
          "model_module": "@jupyter-widgets/controls",
          "model_name": "DescriptionStyleModel",
          "state": {
            "_view_name": "StyleView",
            "_model_name": "DescriptionStyleModel",
            "description_width": "",
            "_view_module": "@jupyter-widgets/base",
            "_model_module_version": "1.5.0",
            "_view_count": null,
            "_view_module_version": "1.2.0",
            "_model_module": "@jupyter-widgets/controls"
          }
        },
        "25853851f8204cf7b19188f84d44d47d": {
          "model_module": "@jupyter-widgets/base",
          "model_name": "LayoutModel",
          "state": {
            "_view_name": "LayoutView",
            "grid_template_rows": null,
            "right": null,
            "justify_content": null,
            "_view_module": "@jupyter-widgets/base",
            "overflow": null,
            "_model_module_version": "1.2.0",
            "_view_count": null,
            "flex_flow": null,
            "width": null,
            "min_width": null,
            "border": null,
            "align_items": null,
            "bottom": null,
            "_model_module": "@jupyter-widgets/base",
            "top": null,
            "grid_column": null,
            "overflow_y": null,
            "overflow_x": null,
            "grid_auto_flow": null,
            "grid_area": null,
            "grid_template_columns": null,
            "flex": null,
            "_model_name": "LayoutModel",
            "justify_items": null,
            "grid_row": null,
            "max_height": null,
            "align_content": null,
            "visibility": null,
            "align_self": null,
            "height": null,
            "min_height": null,
            "padding": null,
            "grid_auto_rows": null,
            "grid_gap": null,
            "max_width": null,
            "order": null,
            "_view_module_version": "1.2.0",
            "grid_template_areas": null,
            "object_position": null,
            "object_fit": null,
            "grid_auto_columns": null,
            "margin": null,
            "display": null,
            "left": null
          }
        },
        "2ebd7699b5014023a8bc699a6e9922b4": {
          "model_module": "@jupyter-widgets/controls",
          "model_name": "HBoxModel",
          "state": {
            "_view_name": "HBoxView",
            "_dom_classes": [],
            "_model_name": "HBoxModel",
            "_view_module": "@jupyter-widgets/controls",
            "_model_module_version": "1.5.0",
            "_view_count": null,
            "_view_module_version": "1.5.0",
            "box_style": "",
            "layout": "IPY_MODEL_c2ad68b384074c27a7fce28bfd64b734",
            "_model_module": "@jupyter-widgets/controls",
            "children": [
              "IPY_MODEL_a1540d2fe217432db0c26002a29e9f8c",
              "IPY_MODEL_ea9c83f6e4ee407ea332d4d3005732a7"
            ]
          }
        },
        "c2ad68b384074c27a7fce28bfd64b734": {
          "model_module": "@jupyter-widgets/base",
          "model_name": "LayoutModel",
          "state": {
            "_view_name": "LayoutView",
            "grid_template_rows": null,
            "right": null,
            "justify_content": null,
            "_view_module": "@jupyter-widgets/base",
            "overflow": null,
            "_model_module_version": "1.2.0",
            "_view_count": null,
            "flex_flow": null,
            "width": null,
            "min_width": null,
            "border": null,
            "align_items": null,
            "bottom": null,
            "_model_module": "@jupyter-widgets/base",
            "top": null,
            "grid_column": null,
            "overflow_y": null,
            "overflow_x": null,
            "grid_auto_flow": null,
            "grid_area": null,
            "grid_template_columns": null,
            "flex": null,
            "_model_name": "LayoutModel",
            "justify_items": null,
            "grid_row": null,
            "max_height": null,
            "align_content": null,
            "visibility": null,
            "align_self": null,
            "height": null,
            "min_height": null,
            "padding": null,
            "grid_auto_rows": null,
            "grid_gap": null,
            "max_width": null,
            "order": null,
            "_view_module_version": "1.2.0",
            "grid_template_areas": null,
            "object_position": null,
            "object_fit": null,
            "grid_auto_columns": null,
            "margin": null,
            "display": null,
            "left": null
          }
        },
        "a1540d2fe217432db0c26002a29e9f8c": {
          "model_module": "@jupyter-widgets/controls",
          "model_name": "FloatProgressModel",
          "state": {
            "_view_name": "ProgressView",
            "style": "IPY_MODEL_00d310b82cfc4c778d05630682944c56",
            "_dom_classes": [],
            "description": "Epoch 9: 100%",
            "_model_name": "FloatProgressModel",
            "bar_style": "",
            "max": 563,
            "_view_module": "@jupyter-widgets/controls",
            "_model_module_version": "1.5.0",
            "value": 563,
            "_view_count": null,
            "_view_module_version": "1.5.0",
            "orientation": "horizontal",
            "min": 0,
            "description_tooltip": null,
            "_model_module": "@jupyter-widgets/controls",
            "layout": "IPY_MODEL_3d4128620ad945938ea7657fc5d276a5"
          }
        },
        "ea9c83f6e4ee407ea332d4d3005732a7": {
          "model_module": "@jupyter-widgets/controls",
          "model_name": "HTMLModel",
          "state": {
            "_view_name": "HTMLView",
            "style": "IPY_MODEL_caa08444577a4ae9b5a5c10e3f26d190",
            "_dom_classes": [],
            "description": "",
            "_model_name": "HTMLModel",
            "placeholder": "​",
            "_view_module": "@jupyter-widgets/controls",
            "_model_module_version": "1.5.0",
            "value": " 563/563 [00:05&lt;00:00, 111.70it/s, loss=0.0645]",
            "_view_count": null,
            "_view_module_version": "1.5.0",
            "description_tooltip": null,
            "_model_module": "@jupyter-widgets/controls",
            "layout": "IPY_MODEL_11d4ce177566438aad1f3a9c4848b397"
          }
        },
        "00d310b82cfc4c778d05630682944c56": {
          "model_module": "@jupyter-widgets/controls",
          "model_name": "ProgressStyleModel",
          "state": {
            "_view_name": "StyleView",
            "_model_name": "ProgressStyleModel",
            "description_width": "initial",
            "_view_module": "@jupyter-widgets/base",
            "_model_module_version": "1.5.0",
            "_view_count": null,
            "_view_module_version": "1.2.0",
            "bar_color": null,
            "_model_module": "@jupyter-widgets/controls"
          }
        },
        "3d4128620ad945938ea7657fc5d276a5": {
          "model_module": "@jupyter-widgets/base",
          "model_name": "LayoutModel",
          "state": {
            "_view_name": "LayoutView",
            "grid_template_rows": null,
            "right": null,
            "justify_content": null,
            "_view_module": "@jupyter-widgets/base",
            "overflow": null,
            "_model_module_version": "1.2.0",
            "_view_count": null,
            "flex_flow": null,
            "width": null,
            "min_width": null,
            "border": null,
            "align_items": null,
            "bottom": null,
            "_model_module": "@jupyter-widgets/base",
            "top": null,
            "grid_column": null,
            "overflow_y": null,
            "overflow_x": null,
            "grid_auto_flow": null,
            "grid_area": null,
            "grid_template_columns": null,
            "flex": null,
            "_model_name": "LayoutModel",
            "justify_items": null,
            "grid_row": null,
            "max_height": null,
            "align_content": null,
            "visibility": null,
            "align_self": null,
            "height": null,
            "min_height": null,
            "padding": null,
            "grid_auto_rows": null,
            "grid_gap": null,
            "max_width": null,
            "order": null,
            "_view_module_version": "1.2.0",
            "grid_template_areas": null,
            "object_position": null,
            "object_fit": null,
            "grid_auto_columns": null,
            "margin": null,
            "display": null,
            "left": null
          }
        },
        "caa08444577a4ae9b5a5c10e3f26d190": {
          "model_module": "@jupyter-widgets/controls",
          "model_name": "DescriptionStyleModel",
          "state": {
            "_view_name": "StyleView",
            "_model_name": "DescriptionStyleModel",
            "description_width": "",
            "_view_module": "@jupyter-widgets/base",
            "_model_module_version": "1.5.0",
            "_view_count": null,
            "_view_module_version": "1.2.0",
            "_model_module": "@jupyter-widgets/controls"
          }
        },
        "11d4ce177566438aad1f3a9c4848b397": {
          "model_module": "@jupyter-widgets/base",
          "model_name": "LayoutModel",
          "state": {
            "_view_name": "LayoutView",
            "grid_template_rows": null,
            "right": null,
            "justify_content": null,
            "_view_module": "@jupyter-widgets/base",
            "overflow": null,
            "_model_module_version": "1.2.0",
            "_view_count": null,
            "flex_flow": null,
            "width": null,
            "min_width": null,
            "border": null,
            "align_items": null,
            "bottom": null,
            "_model_module": "@jupyter-widgets/base",
            "top": null,
            "grid_column": null,
            "overflow_y": null,
            "overflow_x": null,
            "grid_auto_flow": null,
            "grid_area": null,
            "grid_template_columns": null,
            "flex": null,
            "_model_name": "LayoutModel",
            "justify_items": null,
            "grid_row": null,
            "max_height": null,
            "align_content": null,
            "visibility": null,
            "align_self": null,
            "height": null,
            "min_height": null,
            "padding": null,
            "grid_auto_rows": null,
            "grid_gap": null,
            "max_width": null,
            "order": null,
            "_view_module_version": "1.2.0",
            "grid_template_areas": null,
            "object_position": null,
            "object_fit": null,
            "grid_auto_columns": null,
            "margin": null,
            "display": null,
            "left": null
          }
        },
        "fc8f4676fa904dd5b8df337dee4c6218": {
          "model_module": "@jupyter-widgets/controls",
          "model_name": "HBoxModel",
          "state": {
            "_view_name": "HBoxView",
            "_dom_classes": [],
            "_model_name": "HBoxModel",
            "_view_module": "@jupyter-widgets/controls",
            "_model_module_version": "1.5.0",
            "_view_count": null,
            "_view_module_version": "1.5.0",
            "box_style": "",
            "layout": "IPY_MODEL_0f85f0c01921411081a25d2d0c6f8817",
            "_model_module": "@jupyter-widgets/controls",
            "children": [
              "IPY_MODEL_c1d2be58d8214c7b858ef78608117c99",
              "IPY_MODEL_8d93000dad724a578eb041e292daeeaf"
            ]
          }
        },
        "0f85f0c01921411081a25d2d0c6f8817": {
          "model_module": "@jupyter-widgets/base",
          "model_name": "LayoutModel",
          "state": {
            "_view_name": "LayoutView",
            "grid_template_rows": null,
            "right": null,
            "justify_content": null,
            "_view_module": "@jupyter-widgets/base",
            "overflow": null,
            "_model_module_version": "1.2.0",
            "_view_count": null,
            "flex_flow": null,
            "width": null,
            "min_width": null,
            "border": null,
            "align_items": null,
            "bottom": null,
            "_model_module": "@jupyter-widgets/base",
            "top": null,
            "grid_column": null,
            "overflow_y": null,
            "overflow_x": null,
            "grid_auto_flow": null,
            "grid_area": null,
            "grid_template_columns": null,
            "flex": null,
            "_model_name": "LayoutModel",
            "justify_items": null,
            "grid_row": null,
            "max_height": null,
            "align_content": null,
            "visibility": null,
            "align_self": null,
            "height": null,
            "min_height": null,
            "padding": null,
            "grid_auto_rows": null,
            "grid_gap": null,
            "max_width": null,
            "order": null,
            "_view_module_version": "1.2.0",
            "grid_template_areas": null,
            "object_position": null,
            "object_fit": null,
            "grid_auto_columns": null,
            "margin": null,
            "display": null,
            "left": null
          }
        },
        "c1d2be58d8214c7b858ef78608117c99": {
          "model_module": "@jupyter-widgets/controls",
          "model_name": "FloatProgressModel",
          "state": {
            "_view_name": "ProgressView",
            "style": "IPY_MODEL_4c5cc7a5741f404c8866089478eb86e0",
            "_dom_classes": [],
            "description": "100%",
            "_model_name": "FloatProgressModel",
            "bar_style": "",
            "max": 141,
            "_view_module": "@jupyter-widgets/controls",
            "_model_module_version": "1.5.0",
            "value": 141,
            "_view_count": null,
            "_view_module_version": "1.5.0",
            "orientation": "horizontal",
            "min": 0,
            "description_tooltip": null,
            "_model_module": "@jupyter-widgets/controls",
            "layout": "IPY_MODEL_5f1c08eb4c0a4a3781d577ccb1a5b999"
          }
        },
        "8d93000dad724a578eb041e292daeeaf": {
          "model_module": "@jupyter-widgets/controls",
          "model_name": "HTMLModel",
          "state": {
            "_view_name": "HTMLView",
            "style": "IPY_MODEL_f52784168b2647f2bb4dbfd198d89626",
            "_dom_classes": [],
            "description": "",
            "_model_name": "HTMLModel",
            "placeholder": "​",
            "_view_module": "@jupyter-widgets/controls",
            "_model_module_version": "1.5.0",
            "value": " 141/141 [00:00&lt;00:00, 274.75it/s]",
            "_view_count": null,
            "_view_module_version": "1.5.0",
            "description_tooltip": null,
            "_model_module": "@jupyter-widgets/controls",
            "layout": "IPY_MODEL_16a71afbd30543a594f27bbf4a2679ed"
          }
        },
        "4c5cc7a5741f404c8866089478eb86e0": {
          "model_module": "@jupyter-widgets/controls",
          "model_name": "ProgressStyleModel",
          "state": {
            "_view_name": "StyleView",
            "_model_name": "ProgressStyleModel",
            "description_width": "initial",
            "_view_module": "@jupyter-widgets/base",
            "_model_module_version": "1.5.0",
            "_view_count": null,
            "_view_module_version": "1.2.0",
            "bar_color": null,
            "_model_module": "@jupyter-widgets/controls"
          }
        },
        "5f1c08eb4c0a4a3781d577ccb1a5b999": {
          "model_module": "@jupyter-widgets/base",
          "model_name": "LayoutModel",
          "state": {
            "_view_name": "LayoutView",
            "grid_template_rows": null,
            "right": null,
            "justify_content": null,
            "_view_module": "@jupyter-widgets/base",
            "overflow": null,
            "_model_module_version": "1.2.0",
            "_view_count": null,
            "flex_flow": null,
            "width": null,
            "min_width": null,
            "border": null,
            "align_items": null,
            "bottom": null,
            "_model_module": "@jupyter-widgets/base",
            "top": null,
            "grid_column": null,
            "overflow_y": null,
            "overflow_x": null,
            "grid_auto_flow": null,
            "grid_area": null,
            "grid_template_columns": null,
            "flex": null,
            "_model_name": "LayoutModel",
            "justify_items": null,
            "grid_row": null,
            "max_height": null,
            "align_content": null,
            "visibility": null,
            "align_self": null,
            "height": null,
            "min_height": null,
            "padding": null,
            "grid_auto_rows": null,
            "grid_gap": null,
            "max_width": null,
            "order": null,
            "_view_module_version": "1.2.0",
            "grid_template_areas": null,
            "object_position": null,
            "object_fit": null,
            "grid_auto_columns": null,
            "margin": null,
            "display": null,
            "left": null
          }
        },
        "f52784168b2647f2bb4dbfd198d89626": {
          "model_module": "@jupyter-widgets/controls",
          "model_name": "DescriptionStyleModel",
          "state": {
            "_view_name": "StyleView",
            "_model_name": "DescriptionStyleModel",
            "description_width": "",
            "_view_module": "@jupyter-widgets/base",
            "_model_module_version": "1.5.0",
            "_view_count": null,
            "_view_module_version": "1.2.0",
            "_model_module": "@jupyter-widgets/controls"
          }
        },
        "16a71afbd30543a594f27bbf4a2679ed": {
          "model_module": "@jupyter-widgets/base",
          "model_name": "LayoutModel",
          "state": {
            "_view_name": "LayoutView",
            "grid_template_rows": null,
            "right": null,
            "justify_content": null,
            "_view_module": "@jupyter-widgets/base",
            "overflow": null,
            "_model_module_version": "1.2.0",
            "_view_count": null,
            "flex_flow": null,
            "width": null,
            "min_width": null,
            "border": null,
            "align_items": null,
            "bottom": null,
            "_model_module": "@jupyter-widgets/base",
            "top": null,
            "grid_column": null,
            "overflow_y": null,
            "overflow_x": null,
            "grid_auto_flow": null,
            "grid_area": null,
            "grid_template_columns": null,
            "flex": null,
            "_model_name": "LayoutModel",
            "justify_items": null,
            "grid_row": null,
            "max_height": null,
            "align_content": null,
            "visibility": null,
            "align_self": null,
            "height": null,
            "min_height": null,
            "padding": null,
            "grid_auto_rows": null,
            "grid_gap": null,
            "max_width": null,
            "order": null,
            "_view_module_version": "1.2.0",
            "grid_template_areas": null,
            "object_position": null,
            "object_fit": null,
            "grid_auto_columns": null,
            "margin": null,
            "display": null,
            "left": null
          }
        },
        "181cc8cb17ed4344af23ca7b2a52f29b": {
          "model_module": "@jupyter-widgets/controls",
          "model_name": "HBoxModel",
          "state": {
            "_view_name": "HBoxView",
            "_dom_classes": [],
            "_model_name": "HBoxModel",
            "_view_module": "@jupyter-widgets/controls",
            "_model_module_version": "1.5.0",
            "_view_count": null,
            "_view_module_version": "1.5.0",
            "box_style": "",
            "layout": "IPY_MODEL_02ad717b67d549d19eba31f35d08440e",
            "_model_module": "@jupyter-widgets/controls",
            "children": [
              "IPY_MODEL_d25cdd7904984e048f31e4ac631a9364",
              "IPY_MODEL_df733a1f3364463da52ecfb87d5b8fa4"
            ]
          }
        },
        "02ad717b67d549d19eba31f35d08440e": {
          "model_module": "@jupyter-widgets/base",
          "model_name": "LayoutModel",
          "state": {
            "_view_name": "LayoutView",
            "grid_template_rows": null,
            "right": null,
            "justify_content": null,
            "_view_module": "@jupyter-widgets/base",
            "overflow": null,
            "_model_module_version": "1.2.0",
            "_view_count": null,
            "flex_flow": null,
            "width": null,
            "min_width": null,
            "border": null,
            "align_items": null,
            "bottom": null,
            "_model_module": "@jupyter-widgets/base",
            "top": null,
            "grid_column": null,
            "overflow_y": null,
            "overflow_x": null,
            "grid_auto_flow": null,
            "grid_area": null,
            "grid_template_columns": null,
            "flex": null,
            "_model_name": "LayoutModel",
            "justify_items": null,
            "grid_row": null,
            "max_height": null,
            "align_content": null,
            "visibility": null,
            "align_self": null,
            "height": null,
            "min_height": null,
            "padding": null,
            "grid_auto_rows": null,
            "grid_gap": null,
            "max_width": null,
            "order": null,
            "_view_module_version": "1.2.0",
            "grid_template_areas": null,
            "object_position": null,
            "object_fit": null,
            "grid_auto_columns": null,
            "margin": null,
            "display": null,
            "left": null
          }
        },
        "d25cdd7904984e048f31e4ac631a9364": {
          "model_module": "@jupyter-widgets/controls",
          "model_name": "FloatProgressModel",
          "state": {
            "_view_name": "ProgressView",
            "style": "IPY_MODEL_ff743b3699d444e5a4f50dcc6b4e9f2b",
            "_dom_classes": [],
            "description": "Epoch 10: 100%",
            "_model_name": "FloatProgressModel",
            "bar_style": "",
            "max": 563,
            "_view_module": "@jupyter-widgets/controls",
            "_model_module_version": "1.5.0",
            "value": 563,
            "_view_count": null,
            "_view_module_version": "1.5.0",
            "orientation": "horizontal",
            "min": 0,
            "description_tooltip": null,
            "_model_module": "@jupyter-widgets/controls",
            "layout": "IPY_MODEL_d3be2c9932764f268f17d71391f41914"
          }
        },
        "df733a1f3364463da52ecfb87d5b8fa4": {
          "model_module": "@jupyter-widgets/controls",
          "model_name": "HTMLModel",
          "state": {
            "_view_name": "HTMLView",
            "style": "IPY_MODEL_fb2af1013fea4df58b50e3f64f8e5a05",
            "_dom_classes": [],
            "description": "",
            "_model_name": "HTMLModel",
            "placeholder": "​",
            "_view_module": "@jupyter-widgets/controls",
            "_model_module_version": "1.5.0",
            "value": " 563/563 [00:05&lt;00:00, 109.85it/s, loss=0.135]",
            "_view_count": null,
            "_view_module_version": "1.5.0",
            "description_tooltip": null,
            "_model_module": "@jupyter-widgets/controls",
            "layout": "IPY_MODEL_5f6221f2dd314ecd9f92531552955079"
          }
        },
        "ff743b3699d444e5a4f50dcc6b4e9f2b": {
          "model_module": "@jupyter-widgets/controls",
          "model_name": "ProgressStyleModel",
          "state": {
            "_view_name": "StyleView",
            "_model_name": "ProgressStyleModel",
            "description_width": "initial",
            "_view_module": "@jupyter-widgets/base",
            "_model_module_version": "1.5.0",
            "_view_count": null,
            "_view_module_version": "1.2.0",
            "bar_color": null,
            "_model_module": "@jupyter-widgets/controls"
          }
        },
        "d3be2c9932764f268f17d71391f41914": {
          "model_module": "@jupyter-widgets/base",
          "model_name": "LayoutModel",
          "state": {
            "_view_name": "LayoutView",
            "grid_template_rows": null,
            "right": null,
            "justify_content": null,
            "_view_module": "@jupyter-widgets/base",
            "overflow": null,
            "_model_module_version": "1.2.0",
            "_view_count": null,
            "flex_flow": null,
            "width": null,
            "min_width": null,
            "border": null,
            "align_items": null,
            "bottom": null,
            "_model_module": "@jupyter-widgets/base",
            "top": null,
            "grid_column": null,
            "overflow_y": null,
            "overflow_x": null,
            "grid_auto_flow": null,
            "grid_area": null,
            "grid_template_columns": null,
            "flex": null,
            "_model_name": "LayoutModel",
            "justify_items": null,
            "grid_row": null,
            "max_height": null,
            "align_content": null,
            "visibility": null,
            "align_self": null,
            "height": null,
            "min_height": null,
            "padding": null,
            "grid_auto_rows": null,
            "grid_gap": null,
            "max_width": null,
            "order": null,
            "_view_module_version": "1.2.0",
            "grid_template_areas": null,
            "object_position": null,
            "object_fit": null,
            "grid_auto_columns": null,
            "margin": null,
            "display": null,
            "left": null
          }
        },
        "fb2af1013fea4df58b50e3f64f8e5a05": {
          "model_module": "@jupyter-widgets/controls",
          "model_name": "DescriptionStyleModel",
          "state": {
            "_view_name": "StyleView",
            "_model_name": "DescriptionStyleModel",
            "description_width": "",
            "_view_module": "@jupyter-widgets/base",
            "_model_module_version": "1.5.0",
            "_view_count": null,
            "_view_module_version": "1.2.0",
            "_model_module": "@jupyter-widgets/controls"
          }
        },
        "5f6221f2dd314ecd9f92531552955079": {
          "model_module": "@jupyter-widgets/base",
          "model_name": "LayoutModel",
          "state": {
            "_view_name": "LayoutView",
            "grid_template_rows": null,
            "right": null,
            "justify_content": null,
            "_view_module": "@jupyter-widgets/base",
            "overflow": null,
            "_model_module_version": "1.2.0",
            "_view_count": null,
            "flex_flow": null,
            "width": null,
            "min_width": null,
            "border": null,
            "align_items": null,
            "bottom": null,
            "_model_module": "@jupyter-widgets/base",
            "top": null,
            "grid_column": null,
            "overflow_y": null,
            "overflow_x": null,
            "grid_auto_flow": null,
            "grid_area": null,
            "grid_template_columns": null,
            "flex": null,
            "_model_name": "LayoutModel",
            "justify_items": null,
            "grid_row": null,
            "max_height": null,
            "align_content": null,
            "visibility": null,
            "align_self": null,
            "height": null,
            "min_height": null,
            "padding": null,
            "grid_auto_rows": null,
            "grid_gap": null,
            "max_width": null,
            "order": null,
            "_view_module_version": "1.2.0",
            "grid_template_areas": null,
            "object_position": null,
            "object_fit": null,
            "grid_auto_columns": null,
            "margin": null,
            "display": null,
            "left": null
          }
        },
        "746b5c9336b1487cb36cafe59f00731d": {
          "model_module": "@jupyter-widgets/controls",
          "model_name": "HBoxModel",
          "state": {
            "_view_name": "HBoxView",
            "_dom_classes": [],
            "_model_name": "HBoxModel",
            "_view_module": "@jupyter-widgets/controls",
            "_model_module_version": "1.5.0",
            "_view_count": null,
            "_view_module_version": "1.5.0",
            "box_style": "",
            "layout": "IPY_MODEL_55ba47c17f43405b814e7857513957bc",
            "_model_module": "@jupyter-widgets/controls",
            "children": [
              "IPY_MODEL_726d0a92d0bc4639aa35784798262e8b",
              "IPY_MODEL_05a69f49c77046e99050f5c22db06102"
            ]
          }
        },
        "55ba47c17f43405b814e7857513957bc": {
          "model_module": "@jupyter-widgets/base",
          "model_name": "LayoutModel",
          "state": {
            "_view_name": "LayoutView",
            "grid_template_rows": null,
            "right": null,
            "justify_content": null,
            "_view_module": "@jupyter-widgets/base",
            "overflow": null,
            "_model_module_version": "1.2.0",
            "_view_count": null,
            "flex_flow": null,
            "width": null,
            "min_width": null,
            "border": null,
            "align_items": null,
            "bottom": null,
            "_model_module": "@jupyter-widgets/base",
            "top": null,
            "grid_column": null,
            "overflow_y": null,
            "overflow_x": null,
            "grid_auto_flow": null,
            "grid_area": null,
            "grid_template_columns": null,
            "flex": null,
            "_model_name": "LayoutModel",
            "justify_items": null,
            "grid_row": null,
            "max_height": null,
            "align_content": null,
            "visibility": null,
            "align_self": null,
            "height": null,
            "min_height": null,
            "padding": null,
            "grid_auto_rows": null,
            "grid_gap": null,
            "max_width": null,
            "order": null,
            "_view_module_version": "1.2.0",
            "grid_template_areas": null,
            "object_position": null,
            "object_fit": null,
            "grid_auto_columns": null,
            "margin": null,
            "display": null,
            "left": null
          }
        },
        "726d0a92d0bc4639aa35784798262e8b": {
          "model_module": "@jupyter-widgets/controls",
          "model_name": "FloatProgressModel",
          "state": {
            "_view_name": "ProgressView",
            "style": "IPY_MODEL_c8ad6ea24fa94abcae0653a79bb5f4c5",
            "_dom_classes": [],
            "description": "100%",
            "_model_name": "FloatProgressModel",
            "bar_style": "",
            "max": 141,
            "_view_module": "@jupyter-widgets/controls",
            "_model_module_version": "1.5.0",
            "value": 141,
            "_view_count": null,
            "_view_module_version": "1.5.0",
            "orientation": "horizontal",
            "min": 0,
            "description_tooltip": null,
            "_model_module": "@jupyter-widgets/controls",
            "layout": "IPY_MODEL_4f937f722f284011b876a9dbb6a5702e"
          }
        },
        "05a69f49c77046e99050f5c22db06102": {
          "model_module": "@jupyter-widgets/controls",
          "model_name": "HTMLModel",
          "state": {
            "_view_name": "HTMLView",
            "style": "IPY_MODEL_fa539b6b23064fbf88b0c798a8430a2e",
            "_dom_classes": [],
            "description": "",
            "_model_name": "HTMLModel",
            "placeholder": "​",
            "_view_module": "@jupyter-widgets/controls",
            "_model_module_version": "1.5.0",
            "value": " 141/141 [00:00&lt;00:00, 283.89it/s]",
            "_view_count": null,
            "_view_module_version": "1.5.0",
            "description_tooltip": null,
            "_model_module": "@jupyter-widgets/controls",
            "layout": "IPY_MODEL_a0e2e053b9dc406abff7191232dead48"
          }
        },
        "c8ad6ea24fa94abcae0653a79bb5f4c5": {
          "model_module": "@jupyter-widgets/controls",
          "model_name": "ProgressStyleModel",
          "state": {
            "_view_name": "StyleView",
            "_model_name": "ProgressStyleModel",
            "description_width": "initial",
            "_view_module": "@jupyter-widgets/base",
            "_model_module_version": "1.5.0",
            "_view_count": null,
            "_view_module_version": "1.2.0",
            "bar_color": null,
            "_model_module": "@jupyter-widgets/controls"
          }
        },
        "4f937f722f284011b876a9dbb6a5702e": {
          "model_module": "@jupyter-widgets/base",
          "model_name": "LayoutModel",
          "state": {
            "_view_name": "LayoutView",
            "grid_template_rows": null,
            "right": null,
            "justify_content": null,
            "_view_module": "@jupyter-widgets/base",
            "overflow": null,
            "_model_module_version": "1.2.0",
            "_view_count": null,
            "flex_flow": null,
            "width": null,
            "min_width": null,
            "border": null,
            "align_items": null,
            "bottom": null,
            "_model_module": "@jupyter-widgets/base",
            "top": null,
            "grid_column": null,
            "overflow_y": null,
            "overflow_x": null,
            "grid_auto_flow": null,
            "grid_area": null,
            "grid_template_columns": null,
            "flex": null,
            "_model_name": "LayoutModel",
            "justify_items": null,
            "grid_row": null,
            "max_height": null,
            "align_content": null,
            "visibility": null,
            "align_self": null,
            "height": null,
            "min_height": null,
            "padding": null,
            "grid_auto_rows": null,
            "grid_gap": null,
            "max_width": null,
            "order": null,
            "_view_module_version": "1.2.0",
            "grid_template_areas": null,
            "object_position": null,
            "object_fit": null,
            "grid_auto_columns": null,
            "margin": null,
            "display": null,
            "left": null
          }
        },
        "fa539b6b23064fbf88b0c798a8430a2e": {
          "model_module": "@jupyter-widgets/controls",
          "model_name": "DescriptionStyleModel",
          "state": {
            "_view_name": "StyleView",
            "_model_name": "DescriptionStyleModel",
            "description_width": "",
            "_view_module": "@jupyter-widgets/base",
            "_model_module_version": "1.5.0",
            "_view_count": null,
            "_view_module_version": "1.2.0",
            "_model_module": "@jupyter-widgets/controls"
          }
        },
        "a0e2e053b9dc406abff7191232dead48": {
          "model_module": "@jupyter-widgets/base",
          "model_name": "LayoutModel",
          "state": {
            "_view_name": "LayoutView",
            "grid_template_rows": null,
            "right": null,
            "justify_content": null,
            "_view_module": "@jupyter-widgets/base",
            "overflow": null,
            "_model_module_version": "1.2.0",
            "_view_count": null,
            "flex_flow": null,
            "width": null,
            "min_width": null,
            "border": null,
            "align_items": null,
            "bottom": null,
            "_model_module": "@jupyter-widgets/base",
            "top": null,
            "grid_column": null,
            "overflow_y": null,
            "overflow_x": null,
            "grid_auto_flow": null,
            "grid_area": null,
            "grid_template_columns": null,
            "flex": null,
            "_model_name": "LayoutModel",
            "justify_items": null,
            "grid_row": null,
            "max_height": null,
            "align_content": null,
            "visibility": null,
            "align_self": null,
            "height": null,
            "min_height": null,
            "padding": null,
            "grid_auto_rows": null,
            "grid_gap": null,
            "max_width": null,
            "order": null,
            "_view_module_version": "1.2.0",
            "grid_template_areas": null,
            "object_position": null,
            "object_fit": null,
            "grid_auto_columns": null,
            "margin": null,
            "display": null,
            "left": null
          }
        },
        "24f3dc9c00bd4480bb677ca646173975": {
          "model_module": "@jupyter-widgets/controls",
          "model_name": "HBoxModel",
          "state": {
            "_view_name": "HBoxView",
            "_dom_classes": [],
            "_model_name": "HBoxModel",
            "_view_module": "@jupyter-widgets/controls",
            "_model_module_version": "1.5.0",
            "_view_count": null,
            "_view_module_version": "1.5.0",
            "box_style": "",
            "layout": "IPY_MODEL_1bbee37f93184d96996a80c5b91d22e3",
            "_model_module": "@jupyter-widgets/controls",
            "children": [
              "IPY_MODEL_944d1961317e48b2afb6a8b462a8167f",
              "IPY_MODEL_ce20443b85034b02a5f67daf07cab047"
            ]
          }
        },
        "1bbee37f93184d96996a80c5b91d22e3": {
          "model_module": "@jupyter-widgets/base",
          "model_name": "LayoutModel",
          "state": {
            "_view_name": "LayoutView",
            "grid_template_rows": null,
            "right": null,
            "justify_content": null,
            "_view_module": "@jupyter-widgets/base",
            "overflow": null,
            "_model_module_version": "1.2.0",
            "_view_count": null,
            "flex_flow": null,
            "width": null,
            "min_width": null,
            "border": null,
            "align_items": null,
            "bottom": null,
            "_model_module": "@jupyter-widgets/base",
            "top": null,
            "grid_column": null,
            "overflow_y": null,
            "overflow_x": null,
            "grid_auto_flow": null,
            "grid_area": null,
            "grid_template_columns": null,
            "flex": null,
            "_model_name": "LayoutModel",
            "justify_items": null,
            "grid_row": null,
            "max_height": null,
            "align_content": null,
            "visibility": null,
            "align_self": null,
            "height": null,
            "min_height": null,
            "padding": null,
            "grid_auto_rows": null,
            "grid_gap": null,
            "max_width": null,
            "order": null,
            "_view_module_version": "1.2.0",
            "grid_template_areas": null,
            "object_position": null,
            "object_fit": null,
            "grid_auto_columns": null,
            "margin": null,
            "display": null,
            "left": null
          }
        },
        "944d1961317e48b2afb6a8b462a8167f": {
          "model_module": "@jupyter-widgets/controls",
          "model_name": "FloatProgressModel",
          "state": {
            "_view_name": "ProgressView",
            "style": "IPY_MODEL_ae0f5d792cca4c709293141498210f7d",
            "_dom_classes": [],
            "description": "Epoch 11: 100%",
            "_model_name": "FloatProgressModel",
            "bar_style": "",
            "max": 563,
            "_view_module": "@jupyter-widgets/controls",
            "_model_module_version": "1.5.0",
            "value": 563,
            "_view_count": null,
            "_view_module_version": "1.5.0",
            "orientation": "horizontal",
            "min": 0,
            "description_tooltip": null,
            "_model_module": "@jupyter-widgets/controls",
            "layout": "IPY_MODEL_c20589e9d7de49869c79d080331f0ead"
          }
        },
        "ce20443b85034b02a5f67daf07cab047": {
          "model_module": "@jupyter-widgets/controls",
          "model_name": "HTMLModel",
          "state": {
            "_view_name": "HTMLView",
            "style": "IPY_MODEL_b8c2100002e646809e41b66e2b4d82b5",
            "_dom_classes": [],
            "description": "",
            "_model_name": "HTMLModel",
            "placeholder": "​",
            "_view_module": "@jupyter-widgets/controls",
            "_model_module_version": "1.5.0",
            "value": " 563/563 [00:05&lt;00:00, 111.98it/s, loss=0.0909]",
            "_view_count": null,
            "_view_module_version": "1.5.0",
            "description_tooltip": null,
            "_model_module": "@jupyter-widgets/controls",
            "layout": "IPY_MODEL_9ec9a401c2334dacb65a0060b9fd9b31"
          }
        },
        "ae0f5d792cca4c709293141498210f7d": {
          "model_module": "@jupyter-widgets/controls",
          "model_name": "ProgressStyleModel",
          "state": {
            "_view_name": "StyleView",
            "_model_name": "ProgressStyleModel",
            "description_width": "initial",
            "_view_module": "@jupyter-widgets/base",
            "_model_module_version": "1.5.0",
            "_view_count": null,
            "_view_module_version": "1.2.0",
            "bar_color": null,
            "_model_module": "@jupyter-widgets/controls"
          }
        },
        "c20589e9d7de49869c79d080331f0ead": {
          "model_module": "@jupyter-widgets/base",
          "model_name": "LayoutModel",
          "state": {
            "_view_name": "LayoutView",
            "grid_template_rows": null,
            "right": null,
            "justify_content": null,
            "_view_module": "@jupyter-widgets/base",
            "overflow": null,
            "_model_module_version": "1.2.0",
            "_view_count": null,
            "flex_flow": null,
            "width": null,
            "min_width": null,
            "border": null,
            "align_items": null,
            "bottom": null,
            "_model_module": "@jupyter-widgets/base",
            "top": null,
            "grid_column": null,
            "overflow_y": null,
            "overflow_x": null,
            "grid_auto_flow": null,
            "grid_area": null,
            "grid_template_columns": null,
            "flex": null,
            "_model_name": "LayoutModel",
            "justify_items": null,
            "grid_row": null,
            "max_height": null,
            "align_content": null,
            "visibility": null,
            "align_self": null,
            "height": null,
            "min_height": null,
            "padding": null,
            "grid_auto_rows": null,
            "grid_gap": null,
            "max_width": null,
            "order": null,
            "_view_module_version": "1.2.0",
            "grid_template_areas": null,
            "object_position": null,
            "object_fit": null,
            "grid_auto_columns": null,
            "margin": null,
            "display": null,
            "left": null
          }
        },
        "b8c2100002e646809e41b66e2b4d82b5": {
          "model_module": "@jupyter-widgets/controls",
          "model_name": "DescriptionStyleModel",
          "state": {
            "_view_name": "StyleView",
            "_model_name": "DescriptionStyleModel",
            "description_width": "",
            "_view_module": "@jupyter-widgets/base",
            "_model_module_version": "1.5.0",
            "_view_count": null,
            "_view_module_version": "1.2.0",
            "_model_module": "@jupyter-widgets/controls"
          }
        },
        "9ec9a401c2334dacb65a0060b9fd9b31": {
          "model_module": "@jupyter-widgets/base",
          "model_name": "LayoutModel",
          "state": {
            "_view_name": "LayoutView",
            "grid_template_rows": null,
            "right": null,
            "justify_content": null,
            "_view_module": "@jupyter-widgets/base",
            "overflow": null,
            "_model_module_version": "1.2.0",
            "_view_count": null,
            "flex_flow": null,
            "width": null,
            "min_width": null,
            "border": null,
            "align_items": null,
            "bottom": null,
            "_model_module": "@jupyter-widgets/base",
            "top": null,
            "grid_column": null,
            "overflow_y": null,
            "overflow_x": null,
            "grid_auto_flow": null,
            "grid_area": null,
            "grid_template_columns": null,
            "flex": null,
            "_model_name": "LayoutModel",
            "justify_items": null,
            "grid_row": null,
            "max_height": null,
            "align_content": null,
            "visibility": null,
            "align_self": null,
            "height": null,
            "min_height": null,
            "padding": null,
            "grid_auto_rows": null,
            "grid_gap": null,
            "max_width": null,
            "order": null,
            "_view_module_version": "1.2.0",
            "grid_template_areas": null,
            "object_position": null,
            "object_fit": null,
            "grid_auto_columns": null,
            "margin": null,
            "display": null,
            "left": null
          }
        },
        "e1bc95fcf1964698af832e88e1ec2274": {
          "model_module": "@jupyter-widgets/controls",
          "model_name": "HBoxModel",
          "state": {
            "_view_name": "HBoxView",
            "_dom_classes": [],
            "_model_name": "HBoxModel",
            "_view_module": "@jupyter-widgets/controls",
            "_model_module_version": "1.5.0",
            "_view_count": null,
            "_view_module_version": "1.5.0",
            "box_style": "",
            "layout": "IPY_MODEL_220db66a6063450fa060a841575aae4b",
            "_model_module": "@jupyter-widgets/controls",
            "children": [
              "IPY_MODEL_bd711b86cf2048a1bb5f2067c2ac0b6b",
              "IPY_MODEL_7f92deb01c4447b299baa2741e039f18"
            ]
          }
        },
        "220db66a6063450fa060a841575aae4b": {
          "model_module": "@jupyter-widgets/base",
          "model_name": "LayoutModel",
          "state": {
            "_view_name": "LayoutView",
            "grid_template_rows": null,
            "right": null,
            "justify_content": null,
            "_view_module": "@jupyter-widgets/base",
            "overflow": null,
            "_model_module_version": "1.2.0",
            "_view_count": null,
            "flex_flow": null,
            "width": null,
            "min_width": null,
            "border": null,
            "align_items": null,
            "bottom": null,
            "_model_module": "@jupyter-widgets/base",
            "top": null,
            "grid_column": null,
            "overflow_y": null,
            "overflow_x": null,
            "grid_auto_flow": null,
            "grid_area": null,
            "grid_template_columns": null,
            "flex": null,
            "_model_name": "LayoutModel",
            "justify_items": null,
            "grid_row": null,
            "max_height": null,
            "align_content": null,
            "visibility": null,
            "align_self": null,
            "height": null,
            "min_height": null,
            "padding": null,
            "grid_auto_rows": null,
            "grid_gap": null,
            "max_width": null,
            "order": null,
            "_view_module_version": "1.2.0",
            "grid_template_areas": null,
            "object_position": null,
            "object_fit": null,
            "grid_auto_columns": null,
            "margin": null,
            "display": null,
            "left": null
          }
        },
        "bd711b86cf2048a1bb5f2067c2ac0b6b": {
          "model_module": "@jupyter-widgets/controls",
          "model_name": "FloatProgressModel",
          "state": {
            "_view_name": "ProgressView",
            "style": "IPY_MODEL_864f48507f604ce2a54e9cdfbd07087f",
            "_dom_classes": [],
            "description": "100%",
            "_model_name": "FloatProgressModel",
            "bar_style": "",
            "max": 141,
            "_view_module": "@jupyter-widgets/controls",
            "_model_module_version": "1.5.0",
            "value": 141,
            "_view_count": null,
            "_view_module_version": "1.5.0",
            "orientation": "horizontal",
            "min": 0,
            "description_tooltip": null,
            "_model_module": "@jupyter-widgets/controls",
            "layout": "IPY_MODEL_c95be1ac13c84af7bba662da95c3cd25"
          }
        },
        "7f92deb01c4447b299baa2741e039f18": {
          "model_module": "@jupyter-widgets/controls",
          "model_name": "HTMLModel",
          "state": {
            "_view_name": "HTMLView",
            "style": "IPY_MODEL_dd13a00dc14d4096899c0f68cf5fc827",
            "_dom_classes": [],
            "description": "",
            "_model_name": "HTMLModel",
            "placeholder": "​",
            "_view_module": "@jupyter-widgets/controls",
            "_model_module_version": "1.5.0",
            "value": " 141/141 [00:00&lt;00:00, 287.31it/s]",
            "_view_count": null,
            "_view_module_version": "1.5.0",
            "description_tooltip": null,
            "_model_module": "@jupyter-widgets/controls",
            "layout": "IPY_MODEL_c4122ee852cd4f9bbf7ed53eea6481f6"
          }
        },
        "864f48507f604ce2a54e9cdfbd07087f": {
          "model_module": "@jupyter-widgets/controls",
          "model_name": "ProgressStyleModel",
          "state": {
            "_view_name": "StyleView",
            "_model_name": "ProgressStyleModel",
            "description_width": "initial",
            "_view_module": "@jupyter-widgets/base",
            "_model_module_version": "1.5.0",
            "_view_count": null,
            "_view_module_version": "1.2.0",
            "bar_color": null,
            "_model_module": "@jupyter-widgets/controls"
          }
        },
        "c95be1ac13c84af7bba662da95c3cd25": {
          "model_module": "@jupyter-widgets/base",
          "model_name": "LayoutModel",
          "state": {
            "_view_name": "LayoutView",
            "grid_template_rows": null,
            "right": null,
            "justify_content": null,
            "_view_module": "@jupyter-widgets/base",
            "overflow": null,
            "_model_module_version": "1.2.0",
            "_view_count": null,
            "flex_flow": null,
            "width": null,
            "min_width": null,
            "border": null,
            "align_items": null,
            "bottom": null,
            "_model_module": "@jupyter-widgets/base",
            "top": null,
            "grid_column": null,
            "overflow_y": null,
            "overflow_x": null,
            "grid_auto_flow": null,
            "grid_area": null,
            "grid_template_columns": null,
            "flex": null,
            "_model_name": "LayoutModel",
            "justify_items": null,
            "grid_row": null,
            "max_height": null,
            "align_content": null,
            "visibility": null,
            "align_self": null,
            "height": null,
            "min_height": null,
            "padding": null,
            "grid_auto_rows": null,
            "grid_gap": null,
            "max_width": null,
            "order": null,
            "_view_module_version": "1.2.0",
            "grid_template_areas": null,
            "object_position": null,
            "object_fit": null,
            "grid_auto_columns": null,
            "margin": null,
            "display": null,
            "left": null
          }
        },
        "dd13a00dc14d4096899c0f68cf5fc827": {
          "model_module": "@jupyter-widgets/controls",
          "model_name": "DescriptionStyleModel",
          "state": {
            "_view_name": "StyleView",
            "_model_name": "DescriptionStyleModel",
            "description_width": "",
            "_view_module": "@jupyter-widgets/base",
            "_model_module_version": "1.5.0",
            "_view_count": null,
            "_view_module_version": "1.2.0",
            "_model_module": "@jupyter-widgets/controls"
          }
        },
        "c4122ee852cd4f9bbf7ed53eea6481f6": {
          "model_module": "@jupyter-widgets/base",
          "model_name": "LayoutModel",
          "state": {
            "_view_name": "LayoutView",
            "grid_template_rows": null,
            "right": null,
            "justify_content": null,
            "_view_module": "@jupyter-widgets/base",
            "overflow": null,
            "_model_module_version": "1.2.0",
            "_view_count": null,
            "flex_flow": null,
            "width": null,
            "min_width": null,
            "border": null,
            "align_items": null,
            "bottom": null,
            "_model_module": "@jupyter-widgets/base",
            "top": null,
            "grid_column": null,
            "overflow_y": null,
            "overflow_x": null,
            "grid_auto_flow": null,
            "grid_area": null,
            "grid_template_columns": null,
            "flex": null,
            "_model_name": "LayoutModel",
            "justify_items": null,
            "grid_row": null,
            "max_height": null,
            "align_content": null,
            "visibility": null,
            "align_self": null,
            "height": null,
            "min_height": null,
            "padding": null,
            "grid_auto_rows": null,
            "grid_gap": null,
            "max_width": null,
            "order": null,
            "_view_module_version": "1.2.0",
            "grid_template_areas": null,
            "object_position": null,
            "object_fit": null,
            "grid_auto_columns": null,
            "margin": null,
            "display": null,
            "left": null
          }
        },
        "578b2e0e9e39432e87f473af6e02cfac": {
          "model_module": "@jupyter-widgets/controls",
          "model_name": "HBoxModel",
          "state": {
            "_view_name": "HBoxView",
            "_dom_classes": [],
            "_model_name": "HBoxModel",
            "_view_module": "@jupyter-widgets/controls",
            "_model_module_version": "1.5.0",
            "_view_count": null,
            "_view_module_version": "1.5.0",
            "box_style": "",
            "layout": "IPY_MODEL_49f98f4071a14560a2b6b94eccc17d1a",
            "_model_module": "@jupyter-widgets/controls",
            "children": [
              "IPY_MODEL_71de9ecfc8764943805ef207d7713667",
              "IPY_MODEL_6cf45987a0b24fd79b46a5a5a013b0ae"
            ]
          }
        },
        "49f98f4071a14560a2b6b94eccc17d1a": {
          "model_module": "@jupyter-widgets/base",
          "model_name": "LayoutModel",
          "state": {
            "_view_name": "LayoutView",
            "grid_template_rows": null,
            "right": null,
            "justify_content": null,
            "_view_module": "@jupyter-widgets/base",
            "overflow": null,
            "_model_module_version": "1.2.0",
            "_view_count": null,
            "flex_flow": null,
            "width": null,
            "min_width": null,
            "border": null,
            "align_items": null,
            "bottom": null,
            "_model_module": "@jupyter-widgets/base",
            "top": null,
            "grid_column": null,
            "overflow_y": null,
            "overflow_x": null,
            "grid_auto_flow": null,
            "grid_area": null,
            "grid_template_columns": null,
            "flex": null,
            "_model_name": "LayoutModel",
            "justify_items": null,
            "grid_row": null,
            "max_height": null,
            "align_content": null,
            "visibility": null,
            "align_self": null,
            "height": null,
            "min_height": null,
            "padding": null,
            "grid_auto_rows": null,
            "grid_gap": null,
            "max_width": null,
            "order": null,
            "_view_module_version": "1.2.0",
            "grid_template_areas": null,
            "object_position": null,
            "object_fit": null,
            "grid_auto_columns": null,
            "margin": null,
            "display": null,
            "left": null
          }
        },
        "71de9ecfc8764943805ef207d7713667": {
          "model_module": "@jupyter-widgets/controls",
          "model_name": "FloatProgressModel",
          "state": {
            "_view_name": "ProgressView",
            "style": "IPY_MODEL_848968f6ad1f43d8b94aad1d643a24b9",
            "_dom_classes": [],
            "description": "Epoch 12: 100%",
            "_model_name": "FloatProgressModel",
            "bar_style": "",
            "max": 563,
            "_view_module": "@jupyter-widgets/controls",
            "_model_module_version": "1.5.0",
            "value": 563,
            "_view_count": null,
            "_view_module_version": "1.5.0",
            "orientation": "horizontal",
            "min": 0,
            "description_tooltip": null,
            "_model_module": "@jupyter-widgets/controls",
            "layout": "IPY_MODEL_63be65519c2e4a92919f5a827b7e2b64"
          }
        },
        "6cf45987a0b24fd79b46a5a5a013b0ae": {
          "model_module": "@jupyter-widgets/controls",
          "model_name": "HTMLModel",
          "state": {
            "_view_name": "HTMLView",
            "style": "IPY_MODEL_5b740e6b029544c080a501d8b2bc9610",
            "_dom_classes": [],
            "description": "",
            "_model_name": "HTMLModel",
            "placeholder": "​",
            "_view_module": "@jupyter-widgets/controls",
            "_model_module_version": "1.5.0",
            "value": " 563/563 [00:05&lt;00:00, 108.05it/s, loss=0.119]",
            "_view_count": null,
            "_view_module_version": "1.5.0",
            "description_tooltip": null,
            "_model_module": "@jupyter-widgets/controls",
            "layout": "IPY_MODEL_1c9c78a737934e5bb8ab5b2f6d9e685f"
          }
        },
        "848968f6ad1f43d8b94aad1d643a24b9": {
          "model_module": "@jupyter-widgets/controls",
          "model_name": "ProgressStyleModel",
          "state": {
            "_view_name": "StyleView",
            "_model_name": "ProgressStyleModel",
            "description_width": "initial",
            "_view_module": "@jupyter-widgets/base",
            "_model_module_version": "1.5.0",
            "_view_count": null,
            "_view_module_version": "1.2.0",
            "bar_color": null,
            "_model_module": "@jupyter-widgets/controls"
          }
        },
        "63be65519c2e4a92919f5a827b7e2b64": {
          "model_module": "@jupyter-widgets/base",
          "model_name": "LayoutModel",
          "state": {
            "_view_name": "LayoutView",
            "grid_template_rows": null,
            "right": null,
            "justify_content": null,
            "_view_module": "@jupyter-widgets/base",
            "overflow": null,
            "_model_module_version": "1.2.0",
            "_view_count": null,
            "flex_flow": null,
            "width": null,
            "min_width": null,
            "border": null,
            "align_items": null,
            "bottom": null,
            "_model_module": "@jupyter-widgets/base",
            "top": null,
            "grid_column": null,
            "overflow_y": null,
            "overflow_x": null,
            "grid_auto_flow": null,
            "grid_area": null,
            "grid_template_columns": null,
            "flex": null,
            "_model_name": "LayoutModel",
            "justify_items": null,
            "grid_row": null,
            "max_height": null,
            "align_content": null,
            "visibility": null,
            "align_self": null,
            "height": null,
            "min_height": null,
            "padding": null,
            "grid_auto_rows": null,
            "grid_gap": null,
            "max_width": null,
            "order": null,
            "_view_module_version": "1.2.0",
            "grid_template_areas": null,
            "object_position": null,
            "object_fit": null,
            "grid_auto_columns": null,
            "margin": null,
            "display": null,
            "left": null
          }
        },
        "5b740e6b029544c080a501d8b2bc9610": {
          "model_module": "@jupyter-widgets/controls",
          "model_name": "DescriptionStyleModel",
          "state": {
            "_view_name": "StyleView",
            "_model_name": "DescriptionStyleModel",
            "description_width": "",
            "_view_module": "@jupyter-widgets/base",
            "_model_module_version": "1.5.0",
            "_view_count": null,
            "_view_module_version": "1.2.0",
            "_model_module": "@jupyter-widgets/controls"
          }
        },
        "1c9c78a737934e5bb8ab5b2f6d9e685f": {
          "model_module": "@jupyter-widgets/base",
          "model_name": "LayoutModel",
          "state": {
            "_view_name": "LayoutView",
            "grid_template_rows": null,
            "right": null,
            "justify_content": null,
            "_view_module": "@jupyter-widgets/base",
            "overflow": null,
            "_model_module_version": "1.2.0",
            "_view_count": null,
            "flex_flow": null,
            "width": null,
            "min_width": null,
            "border": null,
            "align_items": null,
            "bottom": null,
            "_model_module": "@jupyter-widgets/base",
            "top": null,
            "grid_column": null,
            "overflow_y": null,
            "overflow_x": null,
            "grid_auto_flow": null,
            "grid_area": null,
            "grid_template_columns": null,
            "flex": null,
            "_model_name": "LayoutModel",
            "justify_items": null,
            "grid_row": null,
            "max_height": null,
            "align_content": null,
            "visibility": null,
            "align_self": null,
            "height": null,
            "min_height": null,
            "padding": null,
            "grid_auto_rows": null,
            "grid_gap": null,
            "max_width": null,
            "order": null,
            "_view_module_version": "1.2.0",
            "grid_template_areas": null,
            "object_position": null,
            "object_fit": null,
            "grid_auto_columns": null,
            "margin": null,
            "display": null,
            "left": null
          }
        },
        "f19af1883aff45ae99d1feef34b3f731": {
          "model_module": "@jupyter-widgets/controls",
          "model_name": "HBoxModel",
          "state": {
            "_view_name": "HBoxView",
            "_dom_classes": [],
            "_model_name": "HBoxModel",
            "_view_module": "@jupyter-widgets/controls",
            "_model_module_version": "1.5.0",
            "_view_count": null,
            "_view_module_version": "1.5.0",
            "box_style": "",
            "layout": "IPY_MODEL_5c23b4fcb79541d2bf3b6d046d9594f2",
            "_model_module": "@jupyter-widgets/controls",
            "children": [
              "IPY_MODEL_ed8d49f342e842d495f83a14b04eb72f",
              "IPY_MODEL_5100535150e6414a816fb89f1f1b228d"
            ]
          }
        },
        "5c23b4fcb79541d2bf3b6d046d9594f2": {
          "model_module": "@jupyter-widgets/base",
          "model_name": "LayoutModel",
          "state": {
            "_view_name": "LayoutView",
            "grid_template_rows": null,
            "right": null,
            "justify_content": null,
            "_view_module": "@jupyter-widgets/base",
            "overflow": null,
            "_model_module_version": "1.2.0",
            "_view_count": null,
            "flex_flow": null,
            "width": null,
            "min_width": null,
            "border": null,
            "align_items": null,
            "bottom": null,
            "_model_module": "@jupyter-widgets/base",
            "top": null,
            "grid_column": null,
            "overflow_y": null,
            "overflow_x": null,
            "grid_auto_flow": null,
            "grid_area": null,
            "grid_template_columns": null,
            "flex": null,
            "_model_name": "LayoutModel",
            "justify_items": null,
            "grid_row": null,
            "max_height": null,
            "align_content": null,
            "visibility": null,
            "align_self": null,
            "height": null,
            "min_height": null,
            "padding": null,
            "grid_auto_rows": null,
            "grid_gap": null,
            "max_width": null,
            "order": null,
            "_view_module_version": "1.2.0",
            "grid_template_areas": null,
            "object_position": null,
            "object_fit": null,
            "grid_auto_columns": null,
            "margin": null,
            "display": null,
            "left": null
          }
        },
        "ed8d49f342e842d495f83a14b04eb72f": {
          "model_module": "@jupyter-widgets/controls",
          "model_name": "FloatProgressModel",
          "state": {
            "_view_name": "ProgressView",
            "style": "IPY_MODEL_e32d3e0474a74f17b0b696d5420b0f93",
            "_dom_classes": [],
            "description": "100%",
            "_model_name": "FloatProgressModel",
            "bar_style": "",
            "max": 141,
            "_view_module": "@jupyter-widgets/controls",
            "_model_module_version": "1.5.0",
            "value": 141,
            "_view_count": null,
            "_view_module_version": "1.5.0",
            "orientation": "horizontal",
            "min": 0,
            "description_tooltip": null,
            "_model_module": "@jupyter-widgets/controls",
            "layout": "IPY_MODEL_2e92fd814dd2452abb3d92549b68e8ab"
          }
        },
        "5100535150e6414a816fb89f1f1b228d": {
          "model_module": "@jupyter-widgets/controls",
          "model_name": "HTMLModel",
          "state": {
            "_view_name": "HTMLView",
            "style": "IPY_MODEL_13c3a8c9872049718291a37c4d751fd8",
            "_dom_classes": [],
            "description": "",
            "_model_name": "HTMLModel",
            "placeholder": "​",
            "_view_module": "@jupyter-widgets/controls",
            "_model_module_version": "1.5.0",
            "value": " 141/141 [00:00&lt;00:00, 310.51it/s]",
            "_view_count": null,
            "_view_module_version": "1.5.0",
            "description_tooltip": null,
            "_model_module": "@jupyter-widgets/controls",
            "layout": "IPY_MODEL_248ebec9375942c0a5a06f37a3c5c478"
          }
        },
        "e32d3e0474a74f17b0b696d5420b0f93": {
          "model_module": "@jupyter-widgets/controls",
          "model_name": "ProgressStyleModel",
          "state": {
            "_view_name": "StyleView",
            "_model_name": "ProgressStyleModel",
            "description_width": "initial",
            "_view_module": "@jupyter-widgets/base",
            "_model_module_version": "1.5.0",
            "_view_count": null,
            "_view_module_version": "1.2.0",
            "bar_color": null,
            "_model_module": "@jupyter-widgets/controls"
          }
        },
        "2e92fd814dd2452abb3d92549b68e8ab": {
          "model_module": "@jupyter-widgets/base",
          "model_name": "LayoutModel",
          "state": {
            "_view_name": "LayoutView",
            "grid_template_rows": null,
            "right": null,
            "justify_content": null,
            "_view_module": "@jupyter-widgets/base",
            "overflow": null,
            "_model_module_version": "1.2.0",
            "_view_count": null,
            "flex_flow": null,
            "width": null,
            "min_width": null,
            "border": null,
            "align_items": null,
            "bottom": null,
            "_model_module": "@jupyter-widgets/base",
            "top": null,
            "grid_column": null,
            "overflow_y": null,
            "overflow_x": null,
            "grid_auto_flow": null,
            "grid_area": null,
            "grid_template_columns": null,
            "flex": null,
            "_model_name": "LayoutModel",
            "justify_items": null,
            "grid_row": null,
            "max_height": null,
            "align_content": null,
            "visibility": null,
            "align_self": null,
            "height": null,
            "min_height": null,
            "padding": null,
            "grid_auto_rows": null,
            "grid_gap": null,
            "max_width": null,
            "order": null,
            "_view_module_version": "1.2.0",
            "grid_template_areas": null,
            "object_position": null,
            "object_fit": null,
            "grid_auto_columns": null,
            "margin": null,
            "display": null,
            "left": null
          }
        },
        "13c3a8c9872049718291a37c4d751fd8": {
          "model_module": "@jupyter-widgets/controls",
          "model_name": "DescriptionStyleModel",
          "state": {
            "_view_name": "StyleView",
            "_model_name": "DescriptionStyleModel",
            "description_width": "",
            "_view_module": "@jupyter-widgets/base",
            "_model_module_version": "1.5.0",
            "_view_count": null,
            "_view_module_version": "1.2.0",
            "_model_module": "@jupyter-widgets/controls"
          }
        },
        "248ebec9375942c0a5a06f37a3c5c478": {
          "model_module": "@jupyter-widgets/base",
          "model_name": "LayoutModel",
          "state": {
            "_view_name": "LayoutView",
            "grid_template_rows": null,
            "right": null,
            "justify_content": null,
            "_view_module": "@jupyter-widgets/base",
            "overflow": null,
            "_model_module_version": "1.2.0",
            "_view_count": null,
            "flex_flow": null,
            "width": null,
            "min_width": null,
            "border": null,
            "align_items": null,
            "bottom": null,
            "_model_module": "@jupyter-widgets/base",
            "top": null,
            "grid_column": null,
            "overflow_y": null,
            "overflow_x": null,
            "grid_auto_flow": null,
            "grid_area": null,
            "grid_template_columns": null,
            "flex": null,
            "_model_name": "LayoutModel",
            "justify_items": null,
            "grid_row": null,
            "max_height": null,
            "align_content": null,
            "visibility": null,
            "align_self": null,
            "height": null,
            "min_height": null,
            "padding": null,
            "grid_auto_rows": null,
            "grid_gap": null,
            "max_width": null,
            "order": null,
            "_view_module_version": "1.2.0",
            "grid_template_areas": null,
            "object_position": null,
            "object_fit": null,
            "grid_auto_columns": null,
            "margin": null,
            "display": null,
            "left": null
          }
        },
        "5f1f44b1bb9843d3878bbc65a8aba3b7": {
          "model_module": "@jupyter-widgets/controls",
          "model_name": "HBoxModel",
          "state": {
            "_view_name": "HBoxView",
            "_dom_classes": [],
            "_model_name": "HBoxModel",
            "_view_module": "@jupyter-widgets/controls",
            "_model_module_version": "1.5.0",
            "_view_count": null,
            "_view_module_version": "1.5.0",
            "box_style": "",
            "layout": "IPY_MODEL_6606757ba4524b5d9b4a0dec78629797",
            "_model_module": "@jupyter-widgets/controls",
            "children": [
              "IPY_MODEL_253aac7799dc42c38384eeabb62a0904",
              "IPY_MODEL_40fe4056bbb34c20b9a20510c29a0813"
            ]
          }
        },
        "6606757ba4524b5d9b4a0dec78629797": {
          "model_module": "@jupyter-widgets/base",
          "model_name": "LayoutModel",
          "state": {
            "_view_name": "LayoutView",
            "grid_template_rows": null,
            "right": null,
            "justify_content": null,
            "_view_module": "@jupyter-widgets/base",
            "overflow": null,
            "_model_module_version": "1.2.0",
            "_view_count": null,
            "flex_flow": null,
            "width": null,
            "min_width": null,
            "border": null,
            "align_items": null,
            "bottom": null,
            "_model_module": "@jupyter-widgets/base",
            "top": null,
            "grid_column": null,
            "overflow_y": null,
            "overflow_x": null,
            "grid_auto_flow": null,
            "grid_area": null,
            "grid_template_columns": null,
            "flex": null,
            "_model_name": "LayoutModel",
            "justify_items": null,
            "grid_row": null,
            "max_height": null,
            "align_content": null,
            "visibility": null,
            "align_self": null,
            "height": null,
            "min_height": null,
            "padding": null,
            "grid_auto_rows": null,
            "grid_gap": null,
            "max_width": null,
            "order": null,
            "_view_module_version": "1.2.0",
            "grid_template_areas": null,
            "object_position": null,
            "object_fit": null,
            "grid_auto_columns": null,
            "margin": null,
            "display": null,
            "left": null
          }
        },
        "253aac7799dc42c38384eeabb62a0904": {
          "model_module": "@jupyter-widgets/controls",
          "model_name": "FloatProgressModel",
          "state": {
            "_view_name": "ProgressView",
            "style": "IPY_MODEL_3f6ddde323f44b55835fb213d5b7619c",
            "_dom_classes": [],
            "description": "Epoch 13: 100%",
            "_model_name": "FloatProgressModel",
            "bar_style": "",
            "max": 563,
            "_view_module": "@jupyter-widgets/controls",
            "_model_module_version": "1.5.0",
            "value": 563,
            "_view_count": null,
            "_view_module_version": "1.5.0",
            "orientation": "horizontal",
            "min": 0,
            "description_tooltip": null,
            "_model_module": "@jupyter-widgets/controls",
            "layout": "IPY_MODEL_d46558f9539541bab9461171a412b49f"
          }
        },
        "40fe4056bbb34c20b9a20510c29a0813": {
          "model_module": "@jupyter-widgets/controls",
          "model_name": "HTMLModel",
          "state": {
            "_view_name": "HTMLView",
            "style": "IPY_MODEL_55925b37735346a58e9ed0d8776c88e7",
            "_dom_classes": [],
            "description": "",
            "_model_name": "HTMLModel",
            "placeholder": "​",
            "_view_module": "@jupyter-widgets/controls",
            "_model_module_version": "1.5.0",
            "value": " 563/563 [00:05&lt;00:00, 112.14it/s, loss=0.129]",
            "_view_count": null,
            "_view_module_version": "1.5.0",
            "description_tooltip": null,
            "_model_module": "@jupyter-widgets/controls",
            "layout": "IPY_MODEL_63cc21fffa934ef5bfa7fd0f241260e9"
          }
        },
        "3f6ddde323f44b55835fb213d5b7619c": {
          "model_module": "@jupyter-widgets/controls",
          "model_name": "ProgressStyleModel",
          "state": {
            "_view_name": "StyleView",
            "_model_name": "ProgressStyleModel",
            "description_width": "initial",
            "_view_module": "@jupyter-widgets/base",
            "_model_module_version": "1.5.0",
            "_view_count": null,
            "_view_module_version": "1.2.0",
            "bar_color": null,
            "_model_module": "@jupyter-widgets/controls"
          }
        },
        "d46558f9539541bab9461171a412b49f": {
          "model_module": "@jupyter-widgets/base",
          "model_name": "LayoutModel",
          "state": {
            "_view_name": "LayoutView",
            "grid_template_rows": null,
            "right": null,
            "justify_content": null,
            "_view_module": "@jupyter-widgets/base",
            "overflow": null,
            "_model_module_version": "1.2.0",
            "_view_count": null,
            "flex_flow": null,
            "width": null,
            "min_width": null,
            "border": null,
            "align_items": null,
            "bottom": null,
            "_model_module": "@jupyter-widgets/base",
            "top": null,
            "grid_column": null,
            "overflow_y": null,
            "overflow_x": null,
            "grid_auto_flow": null,
            "grid_area": null,
            "grid_template_columns": null,
            "flex": null,
            "_model_name": "LayoutModel",
            "justify_items": null,
            "grid_row": null,
            "max_height": null,
            "align_content": null,
            "visibility": null,
            "align_self": null,
            "height": null,
            "min_height": null,
            "padding": null,
            "grid_auto_rows": null,
            "grid_gap": null,
            "max_width": null,
            "order": null,
            "_view_module_version": "1.2.0",
            "grid_template_areas": null,
            "object_position": null,
            "object_fit": null,
            "grid_auto_columns": null,
            "margin": null,
            "display": null,
            "left": null
          }
        },
        "55925b37735346a58e9ed0d8776c88e7": {
          "model_module": "@jupyter-widgets/controls",
          "model_name": "DescriptionStyleModel",
          "state": {
            "_view_name": "StyleView",
            "_model_name": "DescriptionStyleModel",
            "description_width": "",
            "_view_module": "@jupyter-widgets/base",
            "_model_module_version": "1.5.0",
            "_view_count": null,
            "_view_module_version": "1.2.0",
            "_model_module": "@jupyter-widgets/controls"
          }
        },
        "63cc21fffa934ef5bfa7fd0f241260e9": {
          "model_module": "@jupyter-widgets/base",
          "model_name": "LayoutModel",
          "state": {
            "_view_name": "LayoutView",
            "grid_template_rows": null,
            "right": null,
            "justify_content": null,
            "_view_module": "@jupyter-widgets/base",
            "overflow": null,
            "_model_module_version": "1.2.0",
            "_view_count": null,
            "flex_flow": null,
            "width": null,
            "min_width": null,
            "border": null,
            "align_items": null,
            "bottom": null,
            "_model_module": "@jupyter-widgets/base",
            "top": null,
            "grid_column": null,
            "overflow_y": null,
            "overflow_x": null,
            "grid_auto_flow": null,
            "grid_area": null,
            "grid_template_columns": null,
            "flex": null,
            "_model_name": "LayoutModel",
            "justify_items": null,
            "grid_row": null,
            "max_height": null,
            "align_content": null,
            "visibility": null,
            "align_self": null,
            "height": null,
            "min_height": null,
            "padding": null,
            "grid_auto_rows": null,
            "grid_gap": null,
            "max_width": null,
            "order": null,
            "_view_module_version": "1.2.0",
            "grid_template_areas": null,
            "object_position": null,
            "object_fit": null,
            "grid_auto_columns": null,
            "margin": null,
            "display": null,
            "left": null
          }
        },
        "7299b7acabcd4f7e943a26bccf779464": {
          "model_module": "@jupyter-widgets/controls",
          "model_name": "HBoxModel",
          "state": {
            "_view_name": "HBoxView",
            "_dom_classes": [],
            "_model_name": "HBoxModel",
            "_view_module": "@jupyter-widgets/controls",
            "_model_module_version": "1.5.0",
            "_view_count": null,
            "_view_module_version": "1.5.0",
            "box_style": "",
            "layout": "IPY_MODEL_0e09978358464ffba14fa9a686cffff4",
            "_model_module": "@jupyter-widgets/controls",
            "children": [
              "IPY_MODEL_26387a4b3be74efb803c658c209271fc",
              "IPY_MODEL_a147dbb32bb4447c94e033fe6a6a2def"
            ]
          }
        },
        "0e09978358464ffba14fa9a686cffff4": {
          "model_module": "@jupyter-widgets/base",
          "model_name": "LayoutModel",
          "state": {
            "_view_name": "LayoutView",
            "grid_template_rows": null,
            "right": null,
            "justify_content": null,
            "_view_module": "@jupyter-widgets/base",
            "overflow": null,
            "_model_module_version": "1.2.0",
            "_view_count": null,
            "flex_flow": null,
            "width": null,
            "min_width": null,
            "border": null,
            "align_items": null,
            "bottom": null,
            "_model_module": "@jupyter-widgets/base",
            "top": null,
            "grid_column": null,
            "overflow_y": null,
            "overflow_x": null,
            "grid_auto_flow": null,
            "grid_area": null,
            "grid_template_columns": null,
            "flex": null,
            "_model_name": "LayoutModel",
            "justify_items": null,
            "grid_row": null,
            "max_height": null,
            "align_content": null,
            "visibility": null,
            "align_self": null,
            "height": null,
            "min_height": null,
            "padding": null,
            "grid_auto_rows": null,
            "grid_gap": null,
            "max_width": null,
            "order": null,
            "_view_module_version": "1.2.0",
            "grid_template_areas": null,
            "object_position": null,
            "object_fit": null,
            "grid_auto_columns": null,
            "margin": null,
            "display": null,
            "left": null
          }
        },
        "26387a4b3be74efb803c658c209271fc": {
          "model_module": "@jupyter-widgets/controls",
          "model_name": "FloatProgressModel",
          "state": {
            "_view_name": "ProgressView",
            "style": "IPY_MODEL_3de4252794714e6eb85467f86ebf9629",
            "_dom_classes": [],
            "description": "100%",
            "_model_name": "FloatProgressModel",
            "bar_style": "",
            "max": 141,
            "_view_module": "@jupyter-widgets/controls",
            "_model_module_version": "1.5.0",
            "value": 141,
            "_view_count": null,
            "_view_module_version": "1.5.0",
            "orientation": "horizontal",
            "min": 0,
            "description_tooltip": null,
            "_model_module": "@jupyter-widgets/controls",
            "layout": "IPY_MODEL_3fe5968f4de4416982c92f7a6c96aed0"
          }
        },
        "a147dbb32bb4447c94e033fe6a6a2def": {
          "model_module": "@jupyter-widgets/controls",
          "model_name": "HTMLModel",
          "state": {
            "_view_name": "HTMLView",
            "style": "IPY_MODEL_96bdec732e1b410da129418d26978a4b",
            "_dom_classes": [],
            "description": "",
            "_model_name": "HTMLModel",
            "placeholder": "​",
            "_view_module": "@jupyter-widgets/controls",
            "_model_module_version": "1.5.0",
            "value": " 141/141 [00:00&lt;00:00, 270.08it/s]",
            "_view_count": null,
            "_view_module_version": "1.5.0",
            "description_tooltip": null,
            "_model_module": "@jupyter-widgets/controls",
            "layout": "IPY_MODEL_bfcc2a5a81594abdb8e8cff7a663a64c"
          }
        },
        "3de4252794714e6eb85467f86ebf9629": {
          "model_module": "@jupyter-widgets/controls",
          "model_name": "ProgressStyleModel",
          "state": {
            "_view_name": "StyleView",
            "_model_name": "ProgressStyleModel",
            "description_width": "initial",
            "_view_module": "@jupyter-widgets/base",
            "_model_module_version": "1.5.0",
            "_view_count": null,
            "_view_module_version": "1.2.0",
            "bar_color": null,
            "_model_module": "@jupyter-widgets/controls"
          }
        },
        "3fe5968f4de4416982c92f7a6c96aed0": {
          "model_module": "@jupyter-widgets/base",
          "model_name": "LayoutModel",
          "state": {
            "_view_name": "LayoutView",
            "grid_template_rows": null,
            "right": null,
            "justify_content": null,
            "_view_module": "@jupyter-widgets/base",
            "overflow": null,
            "_model_module_version": "1.2.0",
            "_view_count": null,
            "flex_flow": null,
            "width": null,
            "min_width": null,
            "border": null,
            "align_items": null,
            "bottom": null,
            "_model_module": "@jupyter-widgets/base",
            "top": null,
            "grid_column": null,
            "overflow_y": null,
            "overflow_x": null,
            "grid_auto_flow": null,
            "grid_area": null,
            "grid_template_columns": null,
            "flex": null,
            "_model_name": "LayoutModel",
            "justify_items": null,
            "grid_row": null,
            "max_height": null,
            "align_content": null,
            "visibility": null,
            "align_self": null,
            "height": null,
            "min_height": null,
            "padding": null,
            "grid_auto_rows": null,
            "grid_gap": null,
            "max_width": null,
            "order": null,
            "_view_module_version": "1.2.0",
            "grid_template_areas": null,
            "object_position": null,
            "object_fit": null,
            "grid_auto_columns": null,
            "margin": null,
            "display": null,
            "left": null
          }
        },
        "96bdec732e1b410da129418d26978a4b": {
          "model_module": "@jupyter-widgets/controls",
          "model_name": "DescriptionStyleModel",
          "state": {
            "_view_name": "StyleView",
            "_model_name": "DescriptionStyleModel",
            "description_width": "",
            "_view_module": "@jupyter-widgets/base",
            "_model_module_version": "1.5.0",
            "_view_count": null,
            "_view_module_version": "1.2.0",
            "_model_module": "@jupyter-widgets/controls"
          }
        },
        "bfcc2a5a81594abdb8e8cff7a663a64c": {
          "model_module": "@jupyter-widgets/base",
          "model_name": "LayoutModel",
          "state": {
            "_view_name": "LayoutView",
            "grid_template_rows": null,
            "right": null,
            "justify_content": null,
            "_view_module": "@jupyter-widgets/base",
            "overflow": null,
            "_model_module_version": "1.2.0",
            "_view_count": null,
            "flex_flow": null,
            "width": null,
            "min_width": null,
            "border": null,
            "align_items": null,
            "bottom": null,
            "_model_module": "@jupyter-widgets/base",
            "top": null,
            "grid_column": null,
            "overflow_y": null,
            "overflow_x": null,
            "grid_auto_flow": null,
            "grid_area": null,
            "grid_template_columns": null,
            "flex": null,
            "_model_name": "LayoutModel",
            "justify_items": null,
            "grid_row": null,
            "max_height": null,
            "align_content": null,
            "visibility": null,
            "align_self": null,
            "height": null,
            "min_height": null,
            "padding": null,
            "grid_auto_rows": null,
            "grid_gap": null,
            "max_width": null,
            "order": null,
            "_view_module_version": "1.2.0",
            "grid_template_areas": null,
            "object_position": null,
            "object_fit": null,
            "grid_auto_columns": null,
            "margin": null,
            "display": null,
            "left": null
          }
        },
        "332d2f8d4c87483ea25ea19610500ade": {
          "model_module": "@jupyter-widgets/controls",
          "model_name": "HBoxModel",
          "state": {
            "_view_name": "HBoxView",
            "_dom_classes": [],
            "_model_name": "HBoxModel",
            "_view_module": "@jupyter-widgets/controls",
            "_model_module_version": "1.5.0",
            "_view_count": null,
            "_view_module_version": "1.5.0",
            "box_style": "",
            "layout": "IPY_MODEL_32fd955b56a54fc6aa8880df238b09f2",
            "_model_module": "@jupyter-widgets/controls",
            "children": [
              "IPY_MODEL_0194d9924ba64b9090225306ee017197",
              "IPY_MODEL_598ad41721dd411cb6bec5c8a7523ccd"
            ]
          }
        },
        "32fd955b56a54fc6aa8880df238b09f2": {
          "model_module": "@jupyter-widgets/base",
          "model_name": "LayoutModel",
          "state": {
            "_view_name": "LayoutView",
            "grid_template_rows": null,
            "right": null,
            "justify_content": null,
            "_view_module": "@jupyter-widgets/base",
            "overflow": null,
            "_model_module_version": "1.2.0",
            "_view_count": null,
            "flex_flow": null,
            "width": null,
            "min_width": null,
            "border": null,
            "align_items": null,
            "bottom": null,
            "_model_module": "@jupyter-widgets/base",
            "top": null,
            "grid_column": null,
            "overflow_y": null,
            "overflow_x": null,
            "grid_auto_flow": null,
            "grid_area": null,
            "grid_template_columns": null,
            "flex": null,
            "_model_name": "LayoutModel",
            "justify_items": null,
            "grid_row": null,
            "max_height": null,
            "align_content": null,
            "visibility": null,
            "align_self": null,
            "height": null,
            "min_height": null,
            "padding": null,
            "grid_auto_rows": null,
            "grid_gap": null,
            "max_width": null,
            "order": null,
            "_view_module_version": "1.2.0",
            "grid_template_areas": null,
            "object_position": null,
            "object_fit": null,
            "grid_auto_columns": null,
            "margin": null,
            "display": null,
            "left": null
          }
        },
        "0194d9924ba64b9090225306ee017197": {
          "model_module": "@jupyter-widgets/controls",
          "model_name": "FloatProgressModel",
          "state": {
            "_view_name": "ProgressView",
            "style": "IPY_MODEL_98dcf27155f44121b9c96640d5bc31c9",
            "_dom_classes": [],
            "description": "Epoch 14: 100%",
            "_model_name": "FloatProgressModel",
            "bar_style": "",
            "max": 563,
            "_view_module": "@jupyter-widgets/controls",
            "_model_module_version": "1.5.0",
            "value": 563,
            "_view_count": null,
            "_view_module_version": "1.5.0",
            "orientation": "horizontal",
            "min": 0,
            "description_tooltip": null,
            "_model_module": "@jupyter-widgets/controls",
            "layout": "IPY_MODEL_48164af1b68b4b24b3d376d8ee37873e"
          }
        },
        "598ad41721dd411cb6bec5c8a7523ccd": {
          "model_module": "@jupyter-widgets/controls",
          "model_name": "HTMLModel",
          "state": {
            "_view_name": "HTMLView",
            "style": "IPY_MODEL_f3c9d406bc0747f694334adca03a6acb",
            "_dom_classes": [],
            "description": "",
            "_model_name": "HTMLModel",
            "placeholder": "​",
            "_view_module": "@jupyter-widgets/controls",
            "_model_module_version": "1.5.0",
            "value": " 563/563 [00:05&lt;00:00, 112.06it/s, loss=0.147]",
            "_view_count": null,
            "_view_module_version": "1.5.0",
            "description_tooltip": null,
            "_model_module": "@jupyter-widgets/controls",
            "layout": "IPY_MODEL_d8fa39cb5f8845848aab5bff30d74730"
          }
        },
        "98dcf27155f44121b9c96640d5bc31c9": {
          "model_module": "@jupyter-widgets/controls",
          "model_name": "ProgressStyleModel",
          "state": {
            "_view_name": "StyleView",
            "_model_name": "ProgressStyleModel",
            "description_width": "initial",
            "_view_module": "@jupyter-widgets/base",
            "_model_module_version": "1.5.0",
            "_view_count": null,
            "_view_module_version": "1.2.0",
            "bar_color": null,
            "_model_module": "@jupyter-widgets/controls"
          }
        },
        "48164af1b68b4b24b3d376d8ee37873e": {
          "model_module": "@jupyter-widgets/base",
          "model_name": "LayoutModel",
          "state": {
            "_view_name": "LayoutView",
            "grid_template_rows": null,
            "right": null,
            "justify_content": null,
            "_view_module": "@jupyter-widgets/base",
            "overflow": null,
            "_model_module_version": "1.2.0",
            "_view_count": null,
            "flex_flow": null,
            "width": null,
            "min_width": null,
            "border": null,
            "align_items": null,
            "bottom": null,
            "_model_module": "@jupyter-widgets/base",
            "top": null,
            "grid_column": null,
            "overflow_y": null,
            "overflow_x": null,
            "grid_auto_flow": null,
            "grid_area": null,
            "grid_template_columns": null,
            "flex": null,
            "_model_name": "LayoutModel",
            "justify_items": null,
            "grid_row": null,
            "max_height": null,
            "align_content": null,
            "visibility": null,
            "align_self": null,
            "height": null,
            "min_height": null,
            "padding": null,
            "grid_auto_rows": null,
            "grid_gap": null,
            "max_width": null,
            "order": null,
            "_view_module_version": "1.2.0",
            "grid_template_areas": null,
            "object_position": null,
            "object_fit": null,
            "grid_auto_columns": null,
            "margin": null,
            "display": null,
            "left": null
          }
        },
        "f3c9d406bc0747f694334adca03a6acb": {
          "model_module": "@jupyter-widgets/controls",
          "model_name": "DescriptionStyleModel",
          "state": {
            "_view_name": "StyleView",
            "_model_name": "DescriptionStyleModel",
            "description_width": "",
            "_view_module": "@jupyter-widgets/base",
            "_model_module_version": "1.5.0",
            "_view_count": null,
            "_view_module_version": "1.2.0",
            "_model_module": "@jupyter-widgets/controls"
          }
        },
        "d8fa39cb5f8845848aab5bff30d74730": {
          "model_module": "@jupyter-widgets/base",
          "model_name": "LayoutModel",
          "state": {
            "_view_name": "LayoutView",
            "grid_template_rows": null,
            "right": null,
            "justify_content": null,
            "_view_module": "@jupyter-widgets/base",
            "overflow": null,
            "_model_module_version": "1.2.0",
            "_view_count": null,
            "flex_flow": null,
            "width": null,
            "min_width": null,
            "border": null,
            "align_items": null,
            "bottom": null,
            "_model_module": "@jupyter-widgets/base",
            "top": null,
            "grid_column": null,
            "overflow_y": null,
            "overflow_x": null,
            "grid_auto_flow": null,
            "grid_area": null,
            "grid_template_columns": null,
            "flex": null,
            "_model_name": "LayoutModel",
            "justify_items": null,
            "grid_row": null,
            "max_height": null,
            "align_content": null,
            "visibility": null,
            "align_self": null,
            "height": null,
            "min_height": null,
            "padding": null,
            "grid_auto_rows": null,
            "grid_gap": null,
            "max_width": null,
            "order": null,
            "_view_module_version": "1.2.0",
            "grid_template_areas": null,
            "object_position": null,
            "object_fit": null,
            "grid_auto_columns": null,
            "margin": null,
            "display": null,
            "left": null
          }
        },
        "22220b857b7a4e3597a35677fda8ed98": {
          "model_module": "@jupyter-widgets/controls",
          "model_name": "HBoxModel",
          "state": {
            "_view_name": "HBoxView",
            "_dom_classes": [],
            "_model_name": "HBoxModel",
            "_view_module": "@jupyter-widgets/controls",
            "_model_module_version": "1.5.0",
            "_view_count": null,
            "_view_module_version": "1.5.0",
            "box_style": "",
            "layout": "IPY_MODEL_9abd3e45e62b40e285355afc6284a93a",
            "_model_module": "@jupyter-widgets/controls",
            "children": [
              "IPY_MODEL_7a5f5653d26a4e7f89b0dbcdb738de2e",
              "IPY_MODEL_76698e30410f4241867b6dfe50653160"
            ]
          }
        },
        "9abd3e45e62b40e285355afc6284a93a": {
          "model_module": "@jupyter-widgets/base",
          "model_name": "LayoutModel",
          "state": {
            "_view_name": "LayoutView",
            "grid_template_rows": null,
            "right": null,
            "justify_content": null,
            "_view_module": "@jupyter-widgets/base",
            "overflow": null,
            "_model_module_version": "1.2.0",
            "_view_count": null,
            "flex_flow": null,
            "width": null,
            "min_width": null,
            "border": null,
            "align_items": null,
            "bottom": null,
            "_model_module": "@jupyter-widgets/base",
            "top": null,
            "grid_column": null,
            "overflow_y": null,
            "overflow_x": null,
            "grid_auto_flow": null,
            "grid_area": null,
            "grid_template_columns": null,
            "flex": null,
            "_model_name": "LayoutModel",
            "justify_items": null,
            "grid_row": null,
            "max_height": null,
            "align_content": null,
            "visibility": null,
            "align_self": null,
            "height": null,
            "min_height": null,
            "padding": null,
            "grid_auto_rows": null,
            "grid_gap": null,
            "max_width": null,
            "order": null,
            "_view_module_version": "1.2.0",
            "grid_template_areas": null,
            "object_position": null,
            "object_fit": null,
            "grid_auto_columns": null,
            "margin": null,
            "display": null,
            "left": null
          }
        },
        "7a5f5653d26a4e7f89b0dbcdb738de2e": {
          "model_module": "@jupyter-widgets/controls",
          "model_name": "FloatProgressModel",
          "state": {
            "_view_name": "ProgressView",
            "style": "IPY_MODEL_92a668aa76844962bd3866f3ced198fe",
            "_dom_classes": [],
            "description": "100%",
            "_model_name": "FloatProgressModel",
            "bar_style": "",
            "max": 141,
            "_view_module": "@jupyter-widgets/controls",
            "_model_module_version": "1.5.0",
            "value": 141,
            "_view_count": null,
            "_view_module_version": "1.5.0",
            "orientation": "horizontal",
            "min": 0,
            "description_tooltip": null,
            "_model_module": "@jupyter-widgets/controls",
            "layout": "IPY_MODEL_da5eac21a68947519355adfcb001b1df"
          }
        },
        "76698e30410f4241867b6dfe50653160": {
          "model_module": "@jupyter-widgets/controls",
          "model_name": "HTMLModel",
          "state": {
            "_view_name": "HTMLView",
            "style": "IPY_MODEL_b2fd1f1a022a4cbe8d10a61de6033eca",
            "_dom_classes": [],
            "description": "",
            "_model_name": "HTMLModel",
            "placeholder": "​",
            "_view_module": "@jupyter-widgets/controls",
            "_model_module_version": "1.5.0",
            "value": " 141/141 [00:00&lt;00:00, 269.64it/s]",
            "_view_count": null,
            "_view_module_version": "1.5.0",
            "description_tooltip": null,
            "_model_module": "@jupyter-widgets/controls",
            "layout": "IPY_MODEL_7f59343b911a44608d353e0a686199de"
          }
        },
        "92a668aa76844962bd3866f3ced198fe": {
          "model_module": "@jupyter-widgets/controls",
          "model_name": "ProgressStyleModel",
          "state": {
            "_view_name": "StyleView",
            "_model_name": "ProgressStyleModel",
            "description_width": "initial",
            "_view_module": "@jupyter-widgets/base",
            "_model_module_version": "1.5.0",
            "_view_count": null,
            "_view_module_version": "1.2.0",
            "bar_color": null,
            "_model_module": "@jupyter-widgets/controls"
          }
        },
        "da5eac21a68947519355adfcb001b1df": {
          "model_module": "@jupyter-widgets/base",
          "model_name": "LayoutModel",
          "state": {
            "_view_name": "LayoutView",
            "grid_template_rows": null,
            "right": null,
            "justify_content": null,
            "_view_module": "@jupyter-widgets/base",
            "overflow": null,
            "_model_module_version": "1.2.0",
            "_view_count": null,
            "flex_flow": null,
            "width": null,
            "min_width": null,
            "border": null,
            "align_items": null,
            "bottom": null,
            "_model_module": "@jupyter-widgets/base",
            "top": null,
            "grid_column": null,
            "overflow_y": null,
            "overflow_x": null,
            "grid_auto_flow": null,
            "grid_area": null,
            "grid_template_columns": null,
            "flex": null,
            "_model_name": "LayoutModel",
            "justify_items": null,
            "grid_row": null,
            "max_height": null,
            "align_content": null,
            "visibility": null,
            "align_self": null,
            "height": null,
            "min_height": null,
            "padding": null,
            "grid_auto_rows": null,
            "grid_gap": null,
            "max_width": null,
            "order": null,
            "_view_module_version": "1.2.0",
            "grid_template_areas": null,
            "object_position": null,
            "object_fit": null,
            "grid_auto_columns": null,
            "margin": null,
            "display": null,
            "left": null
          }
        },
        "b2fd1f1a022a4cbe8d10a61de6033eca": {
          "model_module": "@jupyter-widgets/controls",
          "model_name": "DescriptionStyleModel",
          "state": {
            "_view_name": "StyleView",
            "_model_name": "DescriptionStyleModel",
            "description_width": "",
            "_view_module": "@jupyter-widgets/base",
            "_model_module_version": "1.5.0",
            "_view_count": null,
            "_view_module_version": "1.2.0",
            "_model_module": "@jupyter-widgets/controls"
          }
        },
        "7f59343b911a44608d353e0a686199de": {
          "model_module": "@jupyter-widgets/base",
          "model_name": "LayoutModel",
          "state": {
            "_view_name": "LayoutView",
            "grid_template_rows": null,
            "right": null,
            "justify_content": null,
            "_view_module": "@jupyter-widgets/base",
            "overflow": null,
            "_model_module_version": "1.2.0",
            "_view_count": null,
            "flex_flow": null,
            "width": null,
            "min_width": null,
            "border": null,
            "align_items": null,
            "bottom": null,
            "_model_module": "@jupyter-widgets/base",
            "top": null,
            "grid_column": null,
            "overflow_y": null,
            "overflow_x": null,
            "grid_auto_flow": null,
            "grid_area": null,
            "grid_template_columns": null,
            "flex": null,
            "_model_name": "LayoutModel",
            "justify_items": null,
            "grid_row": null,
            "max_height": null,
            "align_content": null,
            "visibility": null,
            "align_self": null,
            "height": null,
            "min_height": null,
            "padding": null,
            "grid_auto_rows": null,
            "grid_gap": null,
            "max_width": null,
            "order": null,
            "_view_module_version": "1.2.0",
            "grid_template_areas": null,
            "object_position": null,
            "object_fit": null,
            "grid_auto_columns": null,
            "margin": null,
            "display": null,
            "left": null
          }
        },
        "164ea1ec0e024d0a890c1b35ef5d5bdd": {
          "model_module": "@jupyter-widgets/controls",
          "model_name": "HBoxModel",
          "state": {
            "_view_name": "HBoxView",
            "_dom_classes": [],
            "_model_name": "HBoxModel",
            "_view_module": "@jupyter-widgets/controls",
            "_model_module_version": "1.5.0",
            "_view_count": null,
            "_view_module_version": "1.5.0",
            "box_style": "",
            "layout": "IPY_MODEL_cbac2d033586498c97aa09233eea22eb",
            "_model_module": "@jupyter-widgets/controls",
            "children": [
              "IPY_MODEL_c9843bcff05842369c0fb9c52403d69f",
              "IPY_MODEL_f17c62e61ab44f43a8f9dcfc76439103"
            ]
          }
        },
        "cbac2d033586498c97aa09233eea22eb": {
          "model_module": "@jupyter-widgets/base",
          "model_name": "LayoutModel",
          "state": {
            "_view_name": "LayoutView",
            "grid_template_rows": null,
            "right": null,
            "justify_content": null,
            "_view_module": "@jupyter-widgets/base",
            "overflow": null,
            "_model_module_version": "1.2.0",
            "_view_count": null,
            "flex_flow": null,
            "width": null,
            "min_width": null,
            "border": null,
            "align_items": null,
            "bottom": null,
            "_model_module": "@jupyter-widgets/base",
            "top": null,
            "grid_column": null,
            "overflow_y": null,
            "overflow_x": null,
            "grid_auto_flow": null,
            "grid_area": null,
            "grid_template_columns": null,
            "flex": null,
            "_model_name": "LayoutModel",
            "justify_items": null,
            "grid_row": null,
            "max_height": null,
            "align_content": null,
            "visibility": null,
            "align_self": null,
            "height": null,
            "min_height": null,
            "padding": null,
            "grid_auto_rows": null,
            "grid_gap": null,
            "max_width": null,
            "order": null,
            "_view_module_version": "1.2.0",
            "grid_template_areas": null,
            "object_position": null,
            "object_fit": null,
            "grid_auto_columns": null,
            "margin": null,
            "display": null,
            "left": null
          }
        },
        "c9843bcff05842369c0fb9c52403d69f": {
          "model_module": "@jupyter-widgets/controls",
          "model_name": "FloatProgressModel",
          "state": {
            "_view_name": "ProgressView",
            "style": "IPY_MODEL_264c6e2beff149b1b1d64c887303c6f2",
            "_dom_classes": [],
            "description": "Epoch 15: 100%",
            "_model_name": "FloatProgressModel",
            "bar_style": "",
            "max": 563,
            "_view_module": "@jupyter-widgets/controls",
            "_model_module_version": "1.5.0",
            "value": 563,
            "_view_count": null,
            "_view_module_version": "1.5.0",
            "orientation": "horizontal",
            "min": 0,
            "description_tooltip": null,
            "_model_module": "@jupyter-widgets/controls",
            "layout": "IPY_MODEL_a8d9daaf9ca2461cb33eb99169d0f73a"
          }
        },
        "f17c62e61ab44f43a8f9dcfc76439103": {
          "model_module": "@jupyter-widgets/controls",
          "model_name": "HTMLModel",
          "state": {
            "_view_name": "HTMLView",
            "style": "IPY_MODEL_4c5d465a42544e91afa5729f01725c05",
            "_dom_classes": [],
            "description": "",
            "_model_name": "HTMLModel",
            "placeholder": "​",
            "_view_module": "@jupyter-widgets/controls",
            "_model_module_version": "1.5.0",
            "value": " 563/563 [00:05&lt;00:00, 108.05it/s, loss=0.0441]",
            "_view_count": null,
            "_view_module_version": "1.5.0",
            "description_tooltip": null,
            "_model_module": "@jupyter-widgets/controls",
            "layout": "IPY_MODEL_dac967a6709342eeb9bf7654dd0bcce4"
          }
        },
        "264c6e2beff149b1b1d64c887303c6f2": {
          "model_module": "@jupyter-widgets/controls",
          "model_name": "ProgressStyleModel",
          "state": {
            "_view_name": "StyleView",
            "_model_name": "ProgressStyleModel",
            "description_width": "initial",
            "_view_module": "@jupyter-widgets/base",
            "_model_module_version": "1.5.0",
            "_view_count": null,
            "_view_module_version": "1.2.0",
            "bar_color": null,
            "_model_module": "@jupyter-widgets/controls"
          }
        },
        "a8d9daaf9ca2461cb33eb99169d0f73a": {
          "model_module": "@jupyter-widgets/base",
          "model_name": "LayoutModel",
          "state": {
            "_view_name": "LayoutView",
            "grid_template_rows": null,
            "right": null,
            "justify_content": null,
            "_view_module": "@jupyter-widgets/base",
            "overflow": null,
            "_model_module_version": "1.2.0",
            "_view_count": null,
            "flex_flow": null,
            "width": null,
            "min_width": null,
            "border": null,
            "align_items": null,
            "bottom": null,
            "_model_module": "@jupyter-widgets/base",
            "top": null,
            "grid_column": null,
            "overflow_y": null,
            "overflow_x": null,
            "grid_auto_flow": null,
            "grid_area": null,
            "grid_template_columns": null,
            "flex": null,
            "_model_name": "LayoutModel",
            "justify_items": null,
            "grid_row": null,
            "max_height": null,
            "align_content": null,
            "visibility": null,
            "align_self": null,
            "height": null,
            "min_height": null,
            "padding": null,
            "grid_auto_rows": null,
            "grid_gap": null,
            "max_width": null,
            "order": null,
            "_view_module_version": "1.2.0",
            "grid_template_areas": null,
            "object_position": null,
            "object_fit": null,
            "grid_auto_columns": null,
            "margin": null,
            "display": null,
            "left": null
          }
        },
        "4c5d465a42544e91afa5729f01725c05": {
          "model_module": "@jupyter-widgets/controls",
          "model_name": "DescriptionStyleModel",
          "state": {
            "_view_name": "StyleView",
            "_model_name": "DescriptionStyleModel",
            "description_width": "",
            "_view_module": "@jupyter-widgets/base",
            "_model_module_version": "1.5.0",
            "_view_count": null,
            "_view_module_version": "1.2.0",
            "_model_module": "@jupyter-widgets/controls"
          }
        },
        "dac967a6709342eeb9bf7654dd0bcce4": {
          "model_module": "@jupyter-widgets/base",
          "model_name": "LayoutModel",
          "state": {
            "_view_name": "LayoutView",
            "grid_template_rows": null,
            "right": null,
            "justify_content": null,
            "_view_module": "@jupyter-widgets/base",
            "overflow": null,
            "_model_module_version": "1.2.0",
            "_view_count": null,
            "flex_flow": null,
            "width": null,
            "min_width": null,
            "border": null,
            "align_items": null,
            "bottom": null,
            "_model_module": "@jupyter-widgets/base",
            "top": null,
            "grid_column": null,
            "overflow_y": null,
            "overflow_x": null,
            "grid_auto_flow": null,
            "grid_area": null,
            "grid_template_columns": null,
            "flex": null,
            "_model_name": "LayoutModel",
            "justify_items": null,
            "grid_row": null,
            "max_height": null,
            "align_content": null,
            "visibility": null,
            "align_self": null,
            "height": null,
            "min_height": null,
            "padding": null,
            "grid_auto_rows": null,
            "grid_gap": null,
            "max_width": null,
            "order": null,
            "_view_module_version": "1.2.0",
            "grid_template_areas": null,
            "object_position": null,
            "object_fit": null,
            "grid_auto_columns": null,
            "margin": null,
            "display": null,
            "left": null
          }
        },
        "e2688c03d2de4ff6ab8c1f732f475981": {
          "model_module": "@jupyter-widgets/controls",
          "model_name": "HBoxModel",
          "state": {
            "_view_name": "HBoxView",
            "_dom_classes": [],
            "_model_name": "HBoxModel",
            "_view_module": "@jupyter-widgets/controls",
            "_model_module_version": "1.5.0",
            "_view_count": null,
            "_view_module_version": "1.5.0",
            "box_style": "",
            "layout": "IPY_MODEL_9d162e2559e04aa2b04ad6dd34d5c51c",
            "_model_module": "@jupyter-widgets/controls",
            "children": [
              "IPY_MODEL_1831bafdf2fb4f3da58a58995ad75769",
              "IPY_MODEL_ed2aee171ef94ec096d0fddabb09bd65"
            ]
          }
        },
        "9d162e2559e04aa2b04ad6dd34d5c51c": {
          "model_module": "@jupyter-widgets/base",
          "model_name": "LayoutModel",
          "state": {
            "_view_name": "LayoutView",
            "grid_template_rows": null,
            "right": null,
            "justify_content": null,
            "_view_module": "@jupyter-widgets/base",
            "overflow": null,
            "_model_module_version": "1.2.0",
            "_view_count": null,
            "flex_flow": null,
            "width": null,
            "min_width": null,
            "border": null,
            "align_items": null,
            "bottom": null,
            "_model_module": "@jupyter-widgets/base",
            "top": null,
            "grid_column": null,
            "overflow_y": null,
            "overflow_x": null,
            "grid_auto_flow": null,
            "grid_area": null,
            "grid_template_columns": null,
            "flex": null,
            "_model_name": "LayoutModel",
            "justify_items": null,
            "grid_row": null,
            "max_height": null,
            "align_content": null,
            "visibility": null,
            "align_self": null,
            "height": null,
            "min_height": null,
            "padding": null,
            "grid_auto_rows": null,
            "grid_gap": null,
            "max_width": null,
            "order": null,
            "_view_module_version": "1.2.0",
            "grid_template_areas": null,
            "object_position": null,
            "object_fit": null,
            "grid_auto_columns": null,
            "margin": null,
            "display": null,
            "left": null
          }
        },
        "1831bafdf2fb4f3da58a58995ad75769": {
          "model_module": "@jupyter-widgets/controls",
          "model_name": "FloatProgressModel",
          "state": {
            "_view_name": "ProgressView",
            "style": "IPY_MODEL_f9dbda7f30f84a50a715034fa645895a",
            "_dom_classes": [],
            "description": "100%",
            "_model_name": "FloatProgressModel",
            "bar_style": "",
            "max": 141,
            "_view_module": "@jupyter-widgets/controls",
            "_model_module_version": "1.5.0",
            "value": 141,
            "_view_count": null,
            "_view_module_version": "1.5.0",
            "orientation": "horizontal",
            "min": 0,
            "description_tooltip": null,
            "_model_module": "@jupyter-widgets/controls",
            "layout": "IPY_MODEL_8995b4245fc744ef9cf1fd99e88ddcb8"
          }
        },
        "ed2aee171ef94ec096d0fddabb09bd65": {
          "model_module": "@jupyter-widgets/controls",
          "model_name": "HTMLModel",
          "state": {
            "_view_name": "HTMLView",
            "style": "IPY_MODEL_bbda615ac97a44ed8c9e68a72e42ee46",
            "_dom_classes": [],
            "description": "",
            "_model_name": "HTMLModel",
            "placeholder": "​",
            "_view_module": "@jupyter-widgets/controls",
            "_model_module_version": "1.5.0",
            "value": " 141/141 [00:00&lt;00:00, 278.68it/s]",
            "_view_count": null,
            "_view_module_version": "1.5.0",
            "description_tooltip": null,
            "_model_module": "@jupyter-widgets/controls",
            "layout": "IPY_MODEL_150b45b5d0384c88a21bd79454b0503f"
          }
        },
        "f9dbda7f30f84a50a715034fa645895a": {
          "model_module": "@jupyter-widgets/controls",
          "model_name": "ProgressStyleModel",
          "state": {
            "_view_name": "StyleView",
            "_model_name": "ProgressStyleModel",
            "description_width": "initial",
            "_view_module": "@jupyter-widgets/base",
            "_model_module_version": "1.5.0",
            "_view_count": null,
            "_view_module_version": "1.2.0",
            "bar_color": null,
            "_model_module": "@jupyter-widgets/controls"
          }
        },
        "8995b4245fc744ef9cf1fd99e88ddcb8": {
          "model_module": "@jupyter-widgets/base",
          "model_name": "LayoutModel",
          "state": {
            "_view_name": "LayoutView",
            "grid_template_rows": null,
            "right": null,
            "justify_content": null,
            "_view_module": "@jupyter-widgets/base",
            "overflow": null,
            "_model_module_version": "1.2.0",
            "_view_count": null,
            "flex_flow": null,
            "width": null,
            "min_width": null,
            "border": null,
            "align_items": null,
            "bottom": null,
            "_model_module": "@jupyter-widgets/base",
            "top": null,
            "grid_column": null,
            "overflow_y": null,
            "overflow_x": null,
            "grid_auto_flow": null,
            "grid_area": null,
            "grid_template_columns": null,
            "flex": null,
            "_model_name": "LayoutModel",
            "justify_items": null,
            "grid_row": null,
            "max_height": null,
            "align_content": null,
            "visibility": null,
            "align_self": null,
            "height": null,
            "min_height": null,
            "padding": null,
            "grid_auto_rows": null,
            "grid_gap": null,
            "max_width": null,
            "order": null,
            "_view_module_version": "1.2.0",
            "grid_template_areas": null,
            "object_position": null,
            "object_fit": null,
            "grid_auto_columns": null,
            "margin": null,
            "display": null,
            "left": null
          }
        },
        "bbda615ac97a44ed8c9e68a72e42ee46": {
          "model_module": "@jupyter-widgets/controls",
          "model_name": "DescriptionStyleModel",
          "state": {
            "_view_name": "StyleView",
            "_model_name": "DescriptionStyleModel",
            "description_width": "",
            "_view_module": "@jupyter-widgets/base",
            "_model_module_version": "1.5.0",
            "_view_count": null,
            "_view_module_version": "1.2.0",
            "_model_module": "@jupyter-widgets/controls"
          }
        },
        "150b45b5d0384c88a21bd79454b0503f": {
          "model_module": "@jupyter-widgets/base",
          "model_name": "LayoutModel",
          "state": {
            "_view_name": "LayoutView",
            "grid_template_rows": null,
            "right": null,
            "justify_content": null,
            "_view_module": "@jupyter-widgets/base",
            "overflow": null,
            "_model_module_version": "1.2.0",
            "_view_count": null,
            "flex_flow": null,
            "width": null,
            "min_width": null,
            "border": null,
            "align_items": null,
            "bottom": null,
            "_model_module": "@jupyter-widgets/base",
            "top": null,
            "grid_column": null,
            "overflow_y": null,
            "overflow_x": null,
            "grid_auto_flow": null,
            "grid_area": null,
            "grid_template_columns": null,
            "flex": null,
            "_model_name": "LayoutModel",
            "justify_items": null,
            "grid_row": null,
            "max_height": null,
            "align_content": null,
            "visibility": null,
            "align_self": null,
            "height": null,
            "min_height": null,
            "padding": null,
            "grid_auto_rows": null,
            "grid_gap": null,
            "max_width": null,
            "order": null,
            "_view_module_version": "1.2.0",
            "grid_template_areas": null,
            "object_position": null,
            "object_fit": null,
            "grid_auto_columns": null,
            "margin": null,
            "display": null,
            "left": null
          }
        },
        "8ab3549b6c714c9bb5786620d907d54f": {
          "model_module": "@jupyter-widgets/controls",
          "model_name": "HBoxModel",
          "state": {
            "_view_name": "HBoxView",
            "_dom_classes": [],
            "_model_name": "HBoxModel",
            "_view_module": "@jupyter-widgets/controls",
            "_model_module_version": "1.5.0",
            "_view_count": null,
            "_view_module_version": "1.5.0",
            "box_style": "",
            "layout": "IPY_MODEL_88cdf742e4ef426ebdc935dd5bac0540",
            "_model_module": "@jupyter-widgets/controls",
            "children": [
              "IPY_MODEL_6d84b642c70b41e68cba4df4d4322f95",
              "IPY_MODEL_4916169aa7484446b575ebcd3c519b8c"
            ]
          }
        },
        "88cdf742e4ef426ebdc935dd5bac0540": {
          "model_module": "@jupyter-widgets/base",
          "model_name": "LayoutModel",
          "state": {
            "_view_name": "LayoutView",
            "grid_template_rows": null,
            "right": null,
            "justify_content": null,
            "_view_module": "@jupyter-widgets/base",
            "overflow": null,
            "_model_module_version": "1.2.0",
            "_view_count": null,
            "flex_flow": null,
            "width": null,
            "min_width": null,
            "border": null,
            "align_items": null,
            "bottom": null,
            "_model_module": "@jupyter-widgets/base",
            "top": null,
            "grid_column": null,
            "overflow_y": null,
            "overflow_x": null,
            "grid_auto_flow": null,
            "grid_area": null,
            "grid_template_columns": null,
            "flex": null,
            "_model_name": "LayoutModel",
            "justify_items": null,
            "grid_row": null,
            "max_height": null,
            "align_content": null,
            "visibility": null,
            "align_self": null,
            "height": null,
            "min_height": null,
            "padding": null,
            "grid_auto_rows": null,
            "grid_gap": null,
            "max_width": null,
            "order": null,
            "_view_module_version": "1.2.0",
            "grid_template_areas": null,
            "object_position": null,
            "object_fit": null,
            "grid_auto_columns": null,
            "margin": null,
            "display": null,
            "left": null
          }
        },
        "6d84b642c70b41e68cba4df4d4322f95": {
          "model_module": "@jupyter-widgets/controls",
          "model_name": "FloatProgressModel",
          "state": {
            "_view_name": "ProgressView",
            "style": "IPY_MODEL_ad49f79d21ce468781cda08fbcc13f01",
            "_dom_classes": [],
            "description": "Epoch 16: 100%",
            "_model_name": "FloatProgressModel",
            "bar_style": "",
            "max": 563,
            "_view_module": "@jupyter-widgets/controls",
            "_model_module_version": "1.5.0",
            "value": 563,
            "_view_count": null,
            "_view_module_version": "1.5.0",
            "orientation": "horizontal",
            "min": 0,
            "description_tooltip": null,
            "_model_module": "@jupyter-widgets/controls",
            "layout": "IPY_MODEL_f8e1e31157db4311a9647b002b06f1fc"
          }
        },
        "4916169aa7484446b575ebcd3c519b8c": {
          "model_module": "@jupyter-widgets/controls",
          "model_name": "HTMLModel",
          "state": {
            "_view_name": "HTMLView",
            "style": "IPY_MODEL_493dd1e1f5fc49e08804430dfa126a27",
            "_dom_classes": [],
            "description": "",
            "_model_name": "HTMLModel",
            "placeholder": "​",
            "_view_module": "@jupyter-widgets/controls",
            "_model_module_version": "1.5.0",
            "value": " 563/563 [00:05&lt;00:00, 107.13it/s, loss=0.104]",
            "_view_count": null,
            "_view_module_version": "1.5.0",
            "description_tooltip": null,
            "_model_module": "@jupyter-widgets/controls",
            "layout": "IPY_MODEL_076217b5bf1b4da68bcaf78c9b85e967"
          }
        },
        "ad49f79d21ce468781cda08fbcc13f01": {
          "model_module": "@jupyter-widgets/controls",
          "model_name": "ProgressStyleModel",
          "state": {
            "_view_name": "StyleView",
            "_model_name": "ProgressStyleModel",
            "description_width": "initial",
            "_view_module": "@jupyter-widgets/base",
            "_model_module_version": "1.5.0",
            "_view_count": null,
            "_view_module_version": "1.2.0",
            "bar_color": null,
            "_model_module": "@jupyter-widgets/controls"
          }
        },
        "f8e1e31157db4311a9647b002b06f1fc": {
          "model_module": "@jupyter-widgets/base",
          "model_name": "LayoutModel",
          "state": {
            "_view_name": "LayoutView",
            "grid_template_rows": null,
            "right": null,
            "justify_content": null,
            "_view_module": "@jupyter-widgets/base",
            "overflow": null,
            "_model_module_version": "1.2.0",
            "_view_count": null,
            "flex_flow": null,
            "width": null,
            "min_width": null,
            "border": null,
            "align_items": null,
            "bottom": null,
            "_model_module": "@jupyter-widgets/base",
            "top": null,
            "grid_column": null,
            "overflow_y": null,
            "overflow_x": null,
            "grid_auto_flow": null,
            "grid_area": null,
            "grid_template_columns": null,
            "flex": null,
            "_model_name": "LayoutModel",
            "justify_items": null,
            "grid_row": null,
            "max_height": null,
            "align_content": null,
            "visibility": null,
            "align_self": null,
            "height": null,
            "min_height": null,
            "padding": null,
            "grid_auto_rows": null,
            "grid_gap": null,
            "max_width": null,
            "order": null,
            "_view_module_version": "1.2.0",
            "grid_template_areas": null,
            "object_position": null,
            "object_fit": null,
            "grid_auto_columns": null,
            "margin": null,
            "display": null,
            "left": null
          }
        },
        "493dd1e1f5fc49e08804430dfa126a27": {
          "model_module": "@jupyter-widgets/controls",
          "model_name": "DescriptionStyleModel",
          "state": {
            "_view_name": "StyleView",
            "_model_name": "DescriptionStyleModel",
            "description_width": "",
            "_view_module": "@jupyter-widgets/base",
            "_model_module_version": "1.5.0",
            "_view_count": null,
            "_view_module_version": "1.2.0",
            "_model_module": "@jupyter-widgets/controls"
          }
        },
        "076217b5bf1b4da68bcaf78c9b85e967": {
          "model_module": "@jupyter-widgets/base",
          "model_name": "LayoutModel",
          "state": {
            "_view_name": "LayoutView",
            "grid_template_rows": null,
            "right": null,
            "justify_content": null,
            "_view_module": "@jupyter-widgets/base",
            "overflow": null,
            "_model_module_version": "1.2.0",
            "_view_count": null,
            "flex_flow": null,
            "width": null,
            "min_width": null,
            "border": null,
            "align_items": null,
            "bottom": null,
            "_model_module": "@jupyter-widgets/base",
            "top": null,
            "grid_column": null,
            "overflow_y": null,
            "overflow_x": null,
            "grid_auto_flow": null,
            "grid_area": null,
            "grid_template_columns": null,
            "flex": null,
            "_model_name": "LayoutModel",
            "justify_items": null,
            "grid_row": null,
            "max_height": null,
            "align_content": null,
            "visibility": null,
            "align_self": null,
            "height": null,
            "min_height": null,
            "padding": null,
            "grid_auto_rows": null,
            "grid_gap": null,
            "max_width": null,
            "order": null,
            "_view_module_version": "1.2.0",
            "grid_template_areas": null,
            "object_position": null,
            "object_fit": null,
            "grid_auto_columns": null,
            "margin": null,
            "display": null,
            "left": null
          }
        },
        "45a3461f1ca142fea438ab0a33ce05bc": {
          "model_module": "@jupyter-widgets/controls",
          "model_name": "HBoxModel",
          "state": {
            "_view_name": "HBoxView",
            "_dom_classes": [],
            "_model_name": "HBoxModel",
            "_view_module": "@jupyter-widgets/controls",
            "_model_module_version": "1.5.0",
            "_view_count": null,
            "_view_module_version": "1.5.0",
            "box_style": "",
            "layout": "IPY_MODEL_87b7e4948e8c473d91c00be007b34b79",
            "_model_module": "@jupyter-widgets/controls",
            "children": [
              "IPY_MODEL_2f7bb0f733ab4a719debcfce73516ee5",
              "IPY_MODEL_017cbd1cc01d46579726088518a7e16c"
            ]
          }
        },
        "87b7e4948e8c473d91c00be007b34b79": {
          "model_module": "@jupyter-widgets/base",
          "model_name": "LayoutModel",
          "state": {
            "_view_name": "LayoutView",
            "grid_template_rows": null,
            "right": null,
            "justify_content": null,
            "_view_module": "@jupyter-widgets/base",
            "overflow": null,
            "_model_module_version": "1.2.0",
            "_view_count": null,
            "flex_flow": null,
            "width": null,
            "min_width": null,
            "border": null,
            "align_items": null,
            "bottom": null,
            "_model_module": "@jupyter-widgets/base",
            "top": null,
            "grid_column": null,
            "overflow_y": null,
            "overflow_x": null,
            "grid_auto_flow": null,
            "grid_area": null,
            "grid_template_columns": null,
            "flex": null,
            "_model_name": "LayoutModel",
            "justify_items": null,
            "grid_row": null,
            "max_height": null,
            "align_content": null,
            "visibility": null,
            "align_self": null,
            "height": null,
            "min_height": null,
            "padding": null,
            "grid_auto_rows": null,
            "grid_gap": null,
            "max_width": null,
            "order": null,
            "_view_module_version": "1.2.0",
            "grid_template_areas": null,
            "object_position": null,
            "object_fit": null,
            "grid_auto_columns": null,
            "margin": null,
            "display": null,
            "left": null
          }
        },
        "2f7bb0f733ab4a719debcfce73516ee5": {
          "model_module": "@jupyter-widgets/controls",
          "model_name": "FloatProgressModel",
          "state": {
            "_view_name": "ProgressView",
            "style": "IPY_MODEL_ccbe43a316474614ab697a538267035b",
            "_dom_classes": [],
            "description": "100%",
            "_model_name": "FloatProgressModel",
            "bar_style": "",
            "max": 141,
            "_view_module": "@jupyter-widgets/controls",
            "_model_module_version": "1.5.0",
            "value": 141,
            "_view_count": null,
            "_view_module_version": "1.5.0",
            "orientation": "horizontal",
            "min": 0,
            "description_tooltip": null,
            "_model_module": "@jupyter-widgets/controls",
            "layout": "IPY_MODEL_c3ba3d6bf3974677a75a8fae96011881"
          }
        },
        "017cbd1cc01d46579726088518a7e16c": {
          "model_module": "@jupyter-widgets/controls",
          "model_name": "HTMLModel",
          "state": {
            "_view_name": "HTMLView",
            "style": "IPY_MODEL_23eedfc73eb34f7b9d3494a9b101856e",
            "_dom_classes": [],
            "description": "",
            "_model_name": "HTMLModel",
            "placeholder": "​",
            "_view_module": "@jupyter-widgets/controls",
            "_model_module_version": "1.5.0",
            "value": " 141/141 [00:00&lt;00:00, 287.10it/s]",
            "_view_count": null,
            "_view_module_version": "1.5.0",
            "description_tooltip": null,
            "_model_module": "@jupyter-widgets/controls",
            "layout": "IPY_MODEL_9d778490ccad4e1899c886ad9be00a84"
          }
        },
        "ccbe43a316474614ab697a538267035b": {
          "model_module": "@jupyter-widgets/controls",
          "model_name": "ProgressStyleModel",
          "state": {
            "_view_name": "StyleView",
            "_model_name": "ProgressStyleModel",
            "description_width": "initial",
            "_view_module": "@jupyter-widgets/base",
            "_model_module_version": "1.5.0",
            "_view_count": null,
            "_view_module_version": "1.2.0",
            "bar_color": null,
            "_model_module": "@jupyter-widgets/controls"
          }
        },
        "c3ba3d6bf3974677a75a8fae96011881": {
          "model_module": "@jupyter-widgets/base",
          "model_name": "LayoutModel",
          "state": {
            "_view_name": "LayoutView",
            "grid_template_rows": null,
            "right": null,
            "justify_content": null,
            "_view_module": "@jupyter-widgets/base",
            "overflow": null,
            "_model_module_version": "1.2.0",
            "_view_count": null,
            "flex_flow": null,
            "width": null,
            "min_width": null,
            "border": null,
            "align_items": null,
            "bottom": null,
            "_model_module": "@jupyter-widgets/base",
            "top": null,
            "grid_column": null,
            "overflow_y": null,
            "overflow_x": null,
            "grid_auto_flow": null,
            "grid_area": null,
            "grid_template_columns": null,
            "flex": null,
            "_model_name": "LayoutModel",
            "justify_items": null,
            "grid_row": null,
            "max_height": null,
            "align_content": null,
            "visibility": null,
            "align_self": null,
            "height": null,
            "min_height": null,
            "padding": null,
            "grid_auto_rows": null,
            "grid_gap": null,
            "max_width": null,
            "order": null,
            "_view_module_version": "1.2.0",
            "grid_template_areas": null,
            "object_position": null,
            "object_fit": null,
            "grid_auto_columns": null,
            "margin": null,
            "display": null,
            "left": null
          }
        },
        "23eedfc73eb34f7b9d3494a9b101856e": {
          "model_module": "@jupyter-widgets/controls",
          "model_name": "DescriptionStyleModel",
          "state": {
            "_view_name": "StyleView",
            "_model_name": "DescriptionStyleModel",
            "description_width": "",
            "_view_module": "@jupyter-widgets/base",
            "_model_module_version": "1.5.0",
            "_view_count": null,
            "_view_module_version": "1.2.0",
            "_model_module": "@jupyter-widgets/controls"
          }
        },
        "9d778490ccad4e1899c886ad9be00a84": {
          "model_module": "@jupyter-widgets/base",
          "model_name": "LayoutModel",
          "state": {
            "_view_name": "LayoutView",
            "grid_template_rows": null,
            "right": null,
            "justify_content": null,
            "_view_module": "@jupyter-widgets/base",
            "overflow": null,
            "_model_module_version": "1.2.0",
            "_view_count": null,
            "flex_flow": null,
            "width": null,
            "min_width": null,
            "border": null,
            "align_items": null,
            "bottom": null,
            "_model_module": "@jupyter-widgets/base",
            "top": null,
            "grid_column": null,
            "overflow_y": null,
            "overflow_x": null,
            "grid_auto_flow": null,
            "grid_area": null,
            "grid_template_columns": null,
            "flex": null,
            "_model_name": "LayoutModel",
            "justify_items": null,
            "grid_row": null,
            "max_height": null,
            "align_content": null,
            "visibility": null,
            "align_self": null,
            "height": null,
            "min_height": null,
            "padding": null,
            "grid_auto_rows": null,
            "grid_gap": null,
            "max_width": null,
            "order": null,
            "_view_module_version": "1.2.0",
            "grid_template_areas": null,
            "object_position": null,
            "object_fit": null,
            "grid_auto_columns": null,
            "margin": null,
            "display": null,
            "left": null
          }
        },
        "f471fca5d4b542ad918588c5ba72a17b": {
          "model_module": "@jupyter-widgets/controls",
          "model_name": "HBoxModel",
          "state": {
            "_view_name": "HBoxView",
            "_dom_classes": [],
            "_model_name": "HBoxModel",
            "_view_module": "@jupyter-widgets/controls",
            "_model_module_version": "1.5.0",
            "_view_count": null,
            "_view_module_version": "1.5.0",
            "box_style": "",
            "layout": "IPY_MODEL_92e6c190830e474f9903672501d113d7",
            "_model_module": "@jupyter-widgets/controls",
            "children": [
              "IPY_MODEL_3bd162befac84875b7845c64b78ba1bd",
              "IPY_MODEL_0316a4cd8bc84a718c8625870294f30a"
            ]
          }
        },
        "92e6c190830e474f9903672501d113d7": {
          "model_module": "@jupyter-widgets/base",
          "model_name": "LayoutModel",
          "state": {
            "_view_name": "LayoutView",
            "grid_template_rows": null,
            "right": null,
            "justify_content": null,
            "_view_module": "@jupyter-widgets/base",
            "overflow": null,
            "_model_module_version": "1.2.0",
            "_view_count": null,
            "flex_flow": null,
            "width": null,
            "min_width": null,
            "border": null,
            "align_items": null,
            "bottom": null,
            "_model_module": "@jupyter-widgets/base",
            "top": null,
            "grid_column": null,
            "overflow_y": null,
            "overflow_x": null,
            "grid_auto_flow": null,
            "grid_area": null,
            "grid_template_columns": null,
            "flex": null,
            "_model_name": "LayoutModel",
            "justify_items": null,
            "grid_row": null,
            "max_height": null,
            "align_content": null,
            "visibility": null,
            "align_self": null,
            "height": null,
            "min_height": null,
            "padding": null,
            "grid_auto_rows": null,
            "grid_gap": null,
            "max_width": null,
            "order": null,
            "_view_module_version": "1.2.0",
            "grid_template_areas": null,
            "object_position": null,
            "object_fit": null,
            "grid_auto_columns": null,
            "margin": null,
            "display": null,
            "left": null
          }
        },
        "3bd162befac84875b7845c64b78ba1bd": {
          "model_module": "@jupyter-widgets/controls",
          "model_name": "FloatProgressModel",
          "state": {
            "_view_name": "ProgressView",
            "style": "IPY_MODEL_5b2ba2e9bd0d4ee49e7301afad071272",
            "_dom_classes": [],
            "description": "Epoch 17: 100%",
            "_model_name": "FloatProgressModel",
            "bar_style": "",
            "max": 563,
            "_view_module": "@jupyter-widgets/controls",
            "_model_module_version": "1.5.0",
            "value": 563,
            "_view_count": null,
            "_view_module_version": "1.5.0",
            "orientation": "horizontal",
            "min": 0,
            "description_tooltip": null,
            "_model_module": "@jupyter-widgets/controls",
            "layout": "IPY_MODEL_d99d89c087d647e5b48c2876385398ac"
          }
        },
        "0316a4cd8bc84a718c8625870294f30a": {
          "model_module": "@jupyter-widgets/controls",
          "model_name": "HTMLModel",
          "state": {
            "_view_name": "HTMLView",
            "style": "IPY_MODEL_3cc38fd2352647a28611f507b4c39b5d",
            "_dom_classes": [],
            "description": "",
            "_model_name": "HTMLModel",
            "placeholder": "​",
            "_view_module": "@jupyter-widgets/controls",
            "_model_module_version": "1.5.0",
            "value": " 563/563 [00:05&lt;00:00, 107.51it/s, loss=0.0801]",
            "_view_count": null,
            "_view_module_version": "1.5.0",
            "description_tooltip": null,
            "_model_module": "@jupyter-widgets/controls",
            "layout": "IPY_MODEL_cf53db4698fb488a950382cab91c9b9e"
          }
        },
        "5b2ba2e9bd0d4ee49e7301afad071272": {
          "model_module": "@jupyter-widgets/controls",
          "model_name": "ProgressStyleModel",
          "state": {
            "_view_name": "StyleView",
            "_model_name": "ProgressStyleModel",
            "description_width": "initial",
            "_view_module": "@jupyter-widgets/base",
            "_model_module_version": "1.5.0",
            "_view_count": null,
            "_view_module_version": "1.2.0",
            "bar_color": null,
            "_model_module": "@jupyter-widgets/controls"
          }
        },
        "d99d89c087d647e5b48c2876385398ac": {
          "model_module": "@jupyter-widgets/base",
          "model_name": "LayoutModel",
          "state": {
            "_view_name": "LayoutView",
            "grid_template_rows": null,
            "right": null,
            "justify_content": null,
            "_view_module": "@jupyter-widgets/base",
            "overflow": null,
            "_model_module_version": "1.2.0",
            "_view_count": null,
            "flex_flow": null,
            "width": null,
            "min_width": null,
            "border": null,
            "align_items": null,
            "bottom": null,
            "_model_module": "@jupyter-widgets/base",
            "top": null,
            "grid_column": null,
            "overflow_y": null,
            "overflow_x": null,
            "grid_auto_flow": null,
            "grid_area": null,
            "grid_template_columns": null,
            "flex": null,
            "_model_name": "LayoutModel",
            "justify_items": null,
            "grid_row": null,
            "max_height": null,
            "align_content": null,
            "visibility": null,
            "align_self": null,
            "height": null,
            "min_height": null,
            "padding": null,
            "grid_auto_rows": null,
            "grid_gap": null,
            "max_width": null,
            "order": null,
            "_view_module_version": "1.2.0",
            "grid_template_areas": null,
            "object_position": null,
            "object_fit": null,
            "grid_auto_columns": null,
            "margin": null,
            "display": null,
            "left": null
          }
        },
        "3cc38fd2352647a28611f507b4c39b5d": {
          "model_module": "@jupyter-widgets/controls",
          "model_name": "DescriptionStyleModel",
          "state": {
            "_view_name": "StyleView",
            "_model_name": "DescriptionStyleModel",
            "description_width": "",
            "_view_module": "@jupyter-widgets/base",
            "_model_module_version": "1.5.0",
            "_view_count": null,
            "_view_module_version": "1.2.0",
            "_model_module": "@jupyter-widgets/controls"
          }
        },
        "cf53db4698fb488a950382cab91c9b9e": {
          "model_module": "@jupyter-widgets/base",
          "model_name": "LayoutModel",
          "state": {
            "_view_name": "LayoutView",
            "grid_template_rows": null,
            "right": null,
            "justify_content": null,
            "_view_module": "@jupyter-widgets/base",
            "overflow": null,
            "_model_module_version": "1.2.0",
            "_view_count": null,
            "flex_flow": null,
            "width": null,
            "min_width": null,
            "border": null,
            "align_items": null,
            "bottom": null,
            "_model_module": "@jupyter-widgets/base",
            "top": null,
            "grid_column": null,
            "overflow_y": null,
            "overflow_x": null,
            "grid_auto_flow": null,
            "grid_area": null,
            "grid_template_columns": null,
            "flex": null,
            "_model_name": "LayoutModel",
            "justify_items": null,
            "grid_row": null,
            "max_height": null,
            "align_content": null,
            "visibility": null,
            "align_self": null,
            "height": null,
            "min_height": null,
            "padding": null,
            "grid_auto_rows": null,
            "grid_gap": null,
            "max_width": null,
            "order": null,
            "_view_module_version": "1.2.0",
            "grid_template_areas": null,
            "object_position": null,
            "object_fit": null,
            "grid_auto_columns": null,
            "margin": null,
            "display": null,
            "left": null
          }
        },
        "f24871e0f83443468805eb06c87f7a04": {
          "model_module": "@jupyter-widgets/controls",
          "model_name": "HBoxModel",
          "state": {
            "_view_name": "HBoxView",
            "_dom_classes": [],
            "_model_name": "HBoxModel",
            "_view_module": "@jupyter-widgets/controls",
            "_model_module_version": "1.5.0",
            "_view_count": null,
            "_view_module_version": "1.5.0",
            "box_style": "",
            "layout": "IPY_MODEL_1a834e4afcf54aa8b2fd33f487af116b",
            "_model_module": "@jupyter-widgets/controls",
            "children": [
              "IPY_MODEL_26a2f22aa9984ed19754963754c1f5e9",
              "IPY_MODEL_dd577ab19a91441f849cd992cb434e23"
            ]
          }
        },
        "1a834e4afcf54aa8b2fd33f487af116b": {
          "model_module": "@jupyter-widgets/base",
          "model_name": "LayoutModel",
          "state": {
            "_view_name": "LayoutView",
            "grid_template_rows": null,
            "right": null,
            "justify_content": null,
            "_view_module": "@jupyter-widgets/base",
            "overflow": null,
            "_model_module_version": "1.2.0",
            "_view_count": null,
            "flex_flow": null,
            "width": null,
            "min_width": null,
            "border": null,
            "align_items": null,
            "bottom": null,
            "_model_module": "@jupyter-widgets/base",
            "top": null,
            "grid_column": null,
            "overflow_y": null,
            "overflow_x": null,
            "grid_auto_flow": null,
            "grid_area": null,
            "grid_template_columns": null,
            "flex": null,
            "_model_name": "LayoutModel",
            "justify_items": null,
            "grid_row": null,
            "max_height": null,
            "align_content": null,
            "visibility": null,
            "align_self": null,
            "height": null,
            "min_height": null,
            "padding": null,
            "grid_auto_rows": null,
            "grid_gap": null,
            "max_width": null,
            "order": null,
            "_view_module_version": "1.2.0",
            "grid_template_areas": null,
            "object_position": null,
            "object_fit": null,
            "grid_auto_columns": null,
            "margin": null,
            "display": null,
            "left": null
          }
        },
        "26a2f22aa9984ed19754963754c1f5e9": {
          "model_module": "@jupyter-widgets/controls",
          "model_name": "FloatProgressModel",
          "state": {
            "_view_name": "ProgressView",
            "style": "IPY_MODEL_4a16a473bd4d4aaea992a6517590e6fa",
            "_dom_classes": [],
            "description": "100%",
            "_model_name": "FloatProgressModel",
            "bar_style": "",
            "max": 141,
            "_view_module": "@jupyter-widgets/controls",
            "_model_module_version": "1.5.0",
            "value": 141,
            "_view_count": null,
            "_view_module_version": "1.5.0",
            "orientation": "horizontal",
            "min": 0,
            "description_tooltip": null,
            "_model_module": "@jupyter-widgets/controls",
            "layout": "IPY_MODEL_3e51ee5721d8496f896b86c7d7e9e9ab"
          }
        },
        "dd577ab19a91441f849cd992cb434e23": {
          "model_module": "@jupyter-widgets/controls",
          "model_name": "HTMLModel",
          "state": {
            "_view_name": "HTMLView",
            "style": "IPY_MODEL_c0b00af4468343e88fe72d36a6101774",
            "_dom_classes": [],
            "description": "",
            "_model_name": "HTMLModel",
            "placeholder": "​",
            "_view_module": "@jupyter-widgets/controls",
            "_model_module_version": "1.5.0",
            "value": " 141/141 [00:00&lt;00:00, 295.04it/s]",
            "_view_count": null,
            "_view_module_version": "1.5.0",
            "description_tooltip": null,
            "_model_module": "@jupyter-widgets/controls",
            "layout": "IPY_MODEL_0e5d0ada9de54313967f447ef36d4595"
          }
        },
        "4a16a473bd4d4aaea992a6517590e6fa": {
          "model_module": "@jupyter-widgets/controls",
          "model_name": "ProgressStyleModel",
          "state": {
            "_view_name": "StyleView",
            "_model_name": "ProgressStyleModel",
            "description_width": "initial",
            "_view_module": "@jupyter-widgets/base",
            "_model_module_version": "1.5.0",
            "_view_count": null,
            "_view_module_version": "1.2.0",
            "bar_color": null,
            "_model_module": "@jupyter-widgets/controls"
          }
        },
        "3e51ee5721d8496f896b86c7d7e9e9ab": {
          "model_module": "@jupyter-widgets/base",
          "model_name": "LayoutModel",
          "state": {
            "_view_name": "LayoutView",
            "grid_template_rows": null,
            "right": null,
            "justify_content": null,
            "_view_module": "@jupyter-widgets/base",
            "overflow": null,
            "_model_module_version": "1.2.0",
            "_view_count": null,
            "flex_flow": null,
            "width": null,
            "min_width": null,
            "border": null,
            "align_items": null,
            "bottom": null,
            "_model_module": "@jupyter-widgets/base",
            "top": null,
            "grid_column": null,
            "overflow_y": null,
            "overflow_x": null,
            "grid_auto_flow": null,
            "grid_area": null,
            "grid_template_columns": null,
            "flex": null,
            "_model_name": "LayoutModel",
            "justify_items": null,
            "grid_row": null,
            "max_height": null,
            "align_content": null,
            "visibility": null,
            "align_self": null,
            "height": null,
            "min_height": null,
            "padding": null,
            "grid_auto_rows": null,
            "grid_gap": null,
            "max_width": null,
            "order": null,
            "_view_module_version": "1.2.0",
            "grid_template_areas": null,
            "object_position": null,
            "object_fit": null,
            "grid_auto_columns": null,
            "margin": null,
            "display": null,
            "left": null
          }
        },
        "c0b00af4468343e88fe72d36a6101774": {
          "model_module": "@jupyter-widgets/controls",
          "model_name": "DescriptionStyleModel",
          "state": {
            "_view_name": "StyleView",
            "_model_name": "DescriptionStyleModel",
            "description_width": "",
            "_view_module": "@jupyter-widgets/base",
            "_model_module_version": "1.5.0",
            "_view_count": null,
            "_view_module_version": "1.2.0",
            "_model_module": "@jupyter-widgets/controls"
          }
        },
        "0e5d0ada9de54313967f447ef36d4595": {
          "model_module": "@jupyter-widgets/base",
          "model_name": "LayoutModel",
          "state": {
            "_view_name": "LayoutView",
            "grid_template_rows": null,
            "right": null,
            "justify_content": null,
            "_view_module": "@jupyter-widgets/base",
            "overflow": null,
            "_model_module_version": "1.2.0",
            "_view_count": null,
            "flex_flow": null,
            "width": null,
            "min_width": null,
            "border": null,
            "align_items": null,
            "bottom": null,
            "_model_module": "@jupyter-widgets/base",
            "top": null,
            "grid_column": null,
            "overflow_y": null,
            "overflow_x": null,
            "grid_auto_flow": null,
            "grid_area": null,
            "grid_template_columns": null,
            "flex": null,
            "_model_name": "LayoutModel",
            "justify_items": null,
            "grid_row": null,
            "max_height": null,
            "align_content": null,
            "visibility": null,
            "align_self": null,
            "height": null,
            "min_height": null,
            "padding": null,
            "grid_auto_rows": null,
            "grid_gap": null,
            "max_width": null,
            "order": null,
            "_view_module_version": "1.2.0",
            "grid_template_areas": null,
            "object_position": null,
            "object_fit": null,
            "grid_auto_columns": null,
            "margin": null,
            "display": null,
            "left": null
          }
        },
        "9ecfdd2f579447c1b1f37a7120939a42": {
          "model_module": "@jupyter-widgets/controls",
          "model_name": "HBoxModel",
          "state": {
            "_view_name": "HBoxView",
            "_dom_classes": [],
            "_model_name": "HBoxModel",
            "_view_module": "@jupyter-widgets/controls",
            "_model_module_version": "1.5.0",
            "_view_count": null,
            "_view_module_version": "1.5.0",
            "box_style": "",
            "layout": "IPY_MODEL_57173659f72d44a1937eab184996ce04",
            "_model_module": "@jupyter-widgets/controls",
            "children": [
              "IPY_MODEL_e183021839b044eb864a48e5d9f4299e",
              "IPY_MODEL_433e8f773ff74a589b6edccb0d2c114e"
            ]
          }
        },
        "57173659f72d44a1937eab184996ce04": {
          "model_module": "@jupyter-widgets/base",
          "model_name": "LayoutModel",
          "state": {
            "_view_name": "LayoutView",
            "grid_template_rows": null,
            "right": null,
            "justify_content": null,
            "_view_module": "@jupyter-widgets/base",
            "overflow": null,
            "_model_module_version": "1.2.0",
            "_view_count": null,
            "flex_flow": null,
            "width": null,
            "min_width": null,
            "border": null,
            "align_items": null,
            "bottom": null,
            "_model_module": "@jupyter-widgets/base",
            "top": null,
            "grid_column": null,
            "overflow_y": null,
            "overflow_x": null,
            "grid_auto_flow": null,
            "grid_area": null,
            "grid_template_columns": null,
            "flex": null,
            "_model_name": "LayoutModel",
            "justify_items": null,
            "grid_row": null,
            "max_height": null,
            "align_content": null,
            "visibility": null,
            "align_self": null,
            "height": null,
            "min_height": null,
            "padding": null,
            "grid_auto_rows": null,
            "grid_gap": null,
            "max_width": null,
            "order": null,
            "_view_module_version": "1.2.0",
            "grid_template_areas": null,
            "object_position": null,
            "object_fit": null,
            "grid_auto_columns": null,
            "margin": null,
            "display": null,
            "left": null
          }
        },
        "e183021839b044eb864a48e5d9f4299e": {
          "model_module": "@jupyter-widgets/controls",
          "model_name": "FloatProgressModel",
          "state": {
            "_view_name": "ProgressView",
            "style": "IPY_MODEL_9ee7c1b4ac414be8860a29565a759cb7",
            "_dom_classes": [],
            "description": "Epoch 18: 100%",
            "_model_name": "FloatProgressModel",
            "bar_style": "",
            "max": 563,
            "_view_module": "@jupyter-widgets/controls",
            "_model_module_version": "1.5.0",
            "value": 563,
            "_view_count": null,
            "_view_module_version": "1.5.0",
            "orientation": "horizontal",
            "min": 0,
            "description_tooltip": null,
            "_model_module": "@jupyter-widgets/controls",
            "layout": "IPY_MODEL_b113be9f9f3547d3a28c9e712af7cd07"
          }
        },
        "433e8f773ff74a589b6edccb0d2c114e": {
          "model_module": "@jupyter-widgets/controls",
          "model_name": "HTMLModel",
          "state": {
            "_view_name": "HTMLView",
            "style": "IPY_MODEL_96fd747098b9415496605bb690cfe350",
            "_dom_classes": [],
            "description": "",
            "_model_name": "HTMLModel",
            "placeholder": "​",
            "_view_module": "@jupyter-widgets/controls",
            "_model_module_version": "1.5.0",
            "value": " 563/563 [00:05&lt;00:00, 109.18it/s, loss=0.0951]",
            "_view_count": null,
            "_view_module_version": "1.5.0",
            "description_tooltip": null,
            "_model_module": "@jupyter-widgets/controls",
            "layout": "IPY_MODEL_00c33eca25bd46b28a733aed0b9f8c91"
          }
        },
        "9ee7c1b4ac414be8860a29565a759cb7": {
          "model_module": "@jupyter-widgets/controls",
          "model_name": "ProgressStyleModel",
          "state": {
            "_view_name": "StyleView",
            "_model_name": "ProgressStyleModel",
            "description_width": "initial",
            "_view_module": "@jupyter-widgets/base",
            "_model_module_version": "1.5.0",
            "_view_count": null,
            "_view_module_version": "1.2.0",
            "bar_color": null,
            "_model_module": "@jupyter-widgets/controls"
          }
        },
        "b113be9f9f3547d3a28c9e712af7cd07": {
          "model_module": "@jupyter-widgets/base",
          "model_name": "LayoutModel",
          "state": {
            "_view_name": "LayoutView",
            "grid_template_rows": null,
            "right": null,
            "justify_content": null,
            "_view_module": "@jupyter-widgets/base",
            "overflow": null,
            "_model_module_version": "1.2.0",
            "_view_count": null,
            "flex_flow": null,
            "width": null,
            "min_width": null,
            "border": null,
            "align_items": null,
            "bottom": null,
            "_model_module": "@jupyter-widgets/base",
            "top": null,
            "grid_column": null,
            "overflow_y": null,
            "overflow_x": null,
            "grid_auto_flow": null,
            "grid_area": null,
            "grid_template_columns": null,
            "flex": null,
            "_model_name": "LayoutModel",
            "justify_items": null,
            "grid_row": null,
            "max_height": null,
            "align_content": null,
            "visibility": null,
            "align_self": null,
            "height": null,
            "min_height": null,
            "padding": null,
            "grid_auto_rows": null,
            "grid_gap": null,
            "max_width": null,
            "order": null,
            "_view_module_version": "1.2.0",
            "grid_template_areas": null,
            "object_position": null,
            "object_fit": null,
            "grid_auto_columns": null,
            "margin": null,
            "display": null,
            "left": null
          }
        },
        "96fd747098b9415496605bb690cfe350": {
          "model_module": "@jupyter-widgets/controls",
          "model_name": "DescriptionStyleModel",
          "state": {
            "_view_name": "StyleView",
            "_model_name": "DescriptionStyleModel",
            "description_width": "",
            "_view_module": "@jupyter-widgets/base",
            "_model_module_version": "1.5.0",
            "_view_count": null,
            "_view_module_version": "1.2.0",
            "_model_module": "@jupyter-widgets/controls"
          }
        },
        "00c33eca25bd46b28a733aed0b9f8c91": {
          "model_module": "@jupyter-widgets/base",
          "model_name": "LayoutModel",
          "state": {
            "_view_name": "LayoutView",
            "grid_template_rows": null,
            "right": null,
            "justify_content": null,
            "_view_module": "@jupyter-widgets/base",
            "overflow": null,
            "_model_module_version": "1.2.0",
            "_view_count": null,
            "flex_flow": null,
            "width": null,
            "min_width": null,
            "border": null,
            "align_items": null,
            "bottom": null,
            "_model_module": "@jupyter-widgets/base",
            "top": null,
            "grid_column": null,
            "overflow_y": null,
            "overflow_x": null,
            "grid_auto_flow": null,
            "grid_area": null,
            "grid_template_columns": null,
            "flex": null,
            "_model_name": "LayoutModel",
            "justify_items": null,
            "grid_row": null,
            "max_height": null,
            "align_content": null,
            "visibility": null,
            "align_self": null,
            "height": null,
            "min_height": null,
            "padding": null,
            "grid_auto_rows": null,
            "grid_gap": null,
            "max_width": null,
            "order": null,
            "_view_module_version": "1.2.0",
            "grid_template_areas": null,
            "object_position": null,
            "object_fit": null,
            "grid_auto_columns": null,
            "margin": null,
            "display": null,
            "left": null
          }
        },
        "b588f5cfe8374031a6a556e0adfd719b": {
          "model_module": "@jupyter-widgets/controls",
          "model_name": "HBoxModel",
          "state": {
            "_view_name": "HBoxView",
            "_dom_classes": [],
            "_model_name": "HBoxModel",
            "_view_module": "@jupyter-widgets/controls",
            "_model_module_version": "1.5.0",
            "_view_count": null,
            "_view_module_version": "1.5.0",
            "box_style": "",
            "layout": "IPY_MODEL_760f76ebb3f14db59686587046f3a5c8",
            "_model_module": "@jupyter-widgets/controls",
            "children": [
              "IPY_MODEL_8b3f815d35924d9face175ab546fc26a",
              "IPY_MODEL_1f9b7e79d3e249db9367dea37f9a1975"
            ]
          }
        },
        "760f76ebb3f14db59686587046f3a5c8": {
          "model_module": "@jupyter-widgets/base",
          "model_name": "LayoutModel",
          "state": {
            "_view_name": "LayoutView",
            "grid_template_rows": null,
            "right": null,
            "justify_content": null,
            "_view_module": "@jupyter-widgets/base",
            "overflow": null,
            "_model_module_version": "1.2.0",
            "_view_count": null,
            "flex_flow": null,
            "width": null,
            "min_width": null,
            "border": null,
            "align_items": null,
            "bottom": null,
            "_model_module": "@jupyter-widgets/base",
            "top": null,
            "grid_column": null,
            "overflow_y": null,
            "overflow_x": null,
            "grid_auto_flow": null,
            "grid_area": null,
            "grid_template_columns": null,
            "flex": null,
            "_model_name": "LayoutModel",
            "justify_items": null,
            "grid_row": null,
            "max_height": null,
            "align_content": null,
            "visibility": null,
            "align_self": null,
            "height": null,
            "min_height": null,
            "padding": null,
            "grid_auto_rows": null,
            "grid_gap": null,
            "max_width": null,
            "order": null,
            "_view_module_version": "1.2.0",
            "grid_template_areas": null,
            "object_position": null,
            "object_fit": null,
            "grid_auto_columns": null,
            "margin": null,
            "display": null,
            "left": null
          }
        },
        "8b3f815d35924d9face175ab546fc26a": {
          "model_module": "@jupyter-widgets/controls",
          "model_name": "FloatProgressModel",
          "state": {
            "_view_name": "ProgressView",
            "style": "IPY_MODEL_86e3ec0216a6474699a2aadda3041b50",
            "_dom_classes": [],
            "description": "100%",
            "_model_name": "FloatProgressModel",
            "bar_style": "",
            "max": 141,
            "_view_module": "@jupyter-widgets/controls",
            "_model_module_version": "1.5.0",
            "value": 141,
            "_view_count": null,
            "_view_module_version": "1.5.0",
            "orientation": "horizontal",
            "min": 0,
            "description_tooltip": null,
            "_model_module": "@jupyter-widgets/controls",
            "layout": "IPY_MODEL_557cc69554694fc38c3e5e18bf25d68c"
          }
        },
        "1f9b7e79d3e249db9367dea37f9a1975": {
          "model_module": "@jupyter-widgets/controls",
          "model_name": "HTMLModel",
          "state": {
            "_view_name": "HTMLView",
            "style": "IPY_MODEL_283b0d3b128547ffb353a99f023cebe7",
            "_dom_classes": [],
            "description": "",
            "_model_name": "HTMLModel",
            "placeholder": "​",
            "_view_module": "@jupyter-widgets/controls",
            "_model_module_version": "1.5.0",
            "value": " 141/141 [00:00&lt;00:00, 274.32it/s]",
            "_view_count": null,
            "_view_module_version": "1.5.0",
            "description_tooltip": null,
            "_model_module": "@jupyter-widgets/controls",
            "layout": "IPY_MODEL_718d159ecc6f4b6385417b2a50e7ffd5"
          }
        },
        "86e3ec0216a6474699a2aadda3041b50": {
          "model_module": "@jupyter-widgets/controls",
          "model_name": "ProgressStyleModel",
          "state": {
            "_view_name": "StyleView",
            "_model_name": "ProgressStyleModel",
            "description_width": "initial",
            "_view_module": "@jupyter-widgets/base",
            "_model_module_version": "1.5.0",
            "_view_count": null,
            "_view_module_version": "1.2.0",
            "bar_color": null,
            "_model_module": "@jupyter-widgets/controls"
          }
        },
        "557cc69554694fc38c3e5e18bf25d68c": {
          "model_module": "@jupyter-widgets/base",
          "model_name": "LayoutModel",
          "state": {
            "_view_name": "LayoutView",
            "grid_template_rows": null,
            "right": null,
            "justify_content": null,
            "_view_module": "@jupyter-widgets/base",
            "overflow": null,
            "_model_module_version": "1.2.0",
            "_view_count": null,
            "flex_flow": null,
            "width": null,
            "min_width": null,
            "border": null,
            "align_items": null,
            "bottom": null,
            "_model_module": "@jupyter-widgets/base",
            "top": null,
            "grid_column": null,
            "overflow_y": null,
            "overflow_x": null,
            "grid_auto_flow": null,
            "grid_area": null,
            "grid_template_columns": null,
            "flex": null,
            "_model_name": "LayoutModel",
            "justify_items": null,
            "grid_row": null,
            "max_height": null,
            "align_content": null,
            "visibility": null,
            "align_self": null,
            "height": null,
            "min_height": null,
            "padding": null,
            "grid_auto_rows": null,
            "grid_gap": null,
            "max_width": null,
            "order": null,
            "_view_module_version": "1.2.0",
            "grid_template_areas": null,
            "object_position": null,
            "object_fit": null,
            "grid_auto_columns": null,
            "margin": null,
            "display": null,
            "left": null
          }
        },
        "283b0d3b128547ffb353a99f023cebe7": {
          "model_module": "@jupyter-widgets/controls",
          "model_name": "DescriptionStyleModel",
          "state": {
            "_view_name": "StyleView",
            "_model_name": "DescriptionStyleModel",
            "description_width": "",
            "_view_module": "@jupyter-widgets/base",
            "_model_module_version": "1.5.0",
            "_view_count": null,
            "_view_module_version": "1.2.0",
            "_model_module": "@jupyter-widgets/controls"
          }
        },
        "718d159ecc6f4b6385417b2a50e7ffd5": {
          "model_module": "@jupyter-widgets/base",
          "model_name": "LayoutModel",
          "state": {
            "_view_name": "LayoutView",
            "grid_template_rows": null,
            "right": null,
            "justify_content": null,
            "_view_module": "@jupyter-widgets/base",
            "overflow": null,
            "_model_module_version": "1.2.0",
            "_view_count": null,
            "flex_flow": null,
            "width": null,
            "min_width": null,
            "border": null,
            "align_items": null,
            "bottom": null,
            "_model_module": "@jupyter-widgets/base",
            "top": null,
            "grid_column": null,
            "overflow_y": null,
            "overflow_x": null,
            "grid_auto_flow": null,
            "grid_area": null,
            "grid_template_columns": null,
            "flex": null,
            "_model_name": "LayoutModel",
            "justify_items": null,
            "grid_row": null,
            "max_height": null,
            "align_content": null,
            "visibility": null,
            "align_self": null,
            "height": null,
            "min_height": null,
            "padding": null,
            "grid_auto_rows": null,
            "grid_gap": null,
            "max_width": null,
            "order": null,
            "_view_module_version": "1.2.0",
            "grid_template_areas": null,
            "object_position": null,
            "object_fit": null,
            "grid_auto_columns": null,
            "margin": null,
            "display": null,
            "left": null
          }
        },
        "5369e6aa7cef41bda1def03a0bb4cf64": {
          "model_module": "@jupyter-widgets/controls",
          "model_name": "HBoxModel",
          "state": {
            "_view_name": "HBoxView",
            "_dom_classes": [],
            "_model_name": "HBoxModel",
            "_view_module": "@jupyter-widgets/controls",
            "_model_module_version": "1.5.0",
            "_view_count": null,
            "_view_module_version": "1.5.0",
            "box_style": "",
            "layout": "IPY_MODEL_a7c712b0259242b8bf0d1e42765aaf7f",
            "_model_module": "@jupyter-widgets/controls",
            "children": [
              "IPY_MODEL_3bd0336fd46c4589b4c5b8cde11f9350",
              "IPY_MODEL_e3dbb3f750b44e96ad6cdb4c56bc8e83"
            ]
          }
        },
        "a7c712b0259242b8bf0d1e42765aaf7f": {
          "model_module": "@jupyter-widgets/base",
          "model_name": "LayoutModel",
          "state": {
            "_view_name": "LayoutView",
            "grid_template_rows": null,
            "right": null,
            "justify_content": null,
            "_view_module": "@jupyter-widgets/base",
            "overflow": null,
            "_model_module_version": "1.2.0",
            "_view_count": null,
            "flex_flow": null,
            "width": null,
            "min_width": null,
            "border": null,
            "align_items": null,
            "bottom": null,
            "_model_module": "@jupyter-widgets/base",
            "top": null,
            "grid_column": null,
            "overflow_y": null,
            "overflow_x": null,
            "grid_auto_flow": null,
            "grid_area": null,
            "grid_template_columns": null,
            "flex": null,
            "_model_name": "LayoutModel",
            "justify_items": null,
            "grid_row": null,
            "max_height": null,
            "align_content": null,
            "visibility": null,
            "align_self": null,
            "height": null,
            "min_height": null,
            "padding": null,
            "grid_auto_rows": null,
            "grid_gap": null,
            "max_width": null,
            "order": null,
            "_view_module_version": "1.2.0",
            "grid_template_areas": null,
            "object_position": null,
            "object_fit": null,
            "grid_auto_columns": null,
            "margin": null,
            "display": null,
            "left": null
          }
        },
        "3bd0336fd46c4589b4c5b8cde11f9350": {
          "model_module": "@jupyter-widgets/controls",
          "model_name": "FloatProgressModel",
          "state": {
            "_view_name": "ProgressView",
            "style": "IPY_MODEL_789e16193e5343e6a4defc684817c3cb",
            "_dom_classes": [],
            "description": "Epoch 19: 100%",
            "_model_name": "FloatProgressModel",
            "bar_style": "",
            "max": 563,
            "_view_module": "@jupyter-widgets/controls",
            "_model_module_version": "1.5.0",
            "value": 563,
            "_view_count": null,
            "_view_module_version": "1.5.0",
            "orientation": "horizontal",
            "min": 0,
            "description_tooltip": null,
            "_model_module": "@jupyter-widgets/controls",
            "layout": "IPY_MODEL_99c2307ef9a047049711944eafe9ecae"
          }
        },
        "e3dbb3f750b44e96ad6cdb4c56bc8e83": {
          "model_module": "@jupyter-widgets/controls",
          "model_name": "HTMLModel",
          "state": {
            "_view_name": "HTMLView",
            "style": "IPY_MODEL_9e244c09139b46539e88f54faa8a07ab",
            "_dom_classes": [],
            "description": "",
            "_model_name": "HTMLModel",
            "placeholder": "​",
            "_view_module": "@jupyter-widgets/controls",
            "_model_module_version": "1.5.0",
            "value": " 563/563 [00:05&lt;00:00, 101.86it/s, loss=0.3]",
            "_view_count": null,
            "_view_module_version": "1.5.0",
            "description_tooltip": null,
            "_model_module": "@jupyter-widgets/controls",
            "layout": "IPY_MODEL_7ccb177c977e4657ba62d869303e321f"
          }
        },
        "789e16193e5343e6a4defc684817c3cb": {
          "model_module": "@jupyter-widgets/controls",
          "model_name": "ProgressStyleModel",
          "state": {
            "_view_name": "StyleView",
            "_model_name": "ProgressStyleModel",
            "description_width": "initial",
            "_view_module": "@jupyter-widgets/base",
            "_model_module_version": "1.5.0",
            "_view_count": null,
            "_view_module_version": "1.2.0",
            "bar_color": null,
            "_model_module": "@jupyter-widgets/controls"
          }
        },
        "99c2307ef9a047049711944eafe9ecae": {
          "model_module": "@jupyter-widgets/base",
          "model_name": "LayoutModel",
          "state": {
            "_view_name": "LayoutView",
            "grid_template_rows": null,
            "right": null,
            "justify_content": null,
            "_view_module": "@jupyter-widgets/base",
            "overflow": null,
            "_model_module_version": "1.2.0",
            "_view_count": null,
            "flex_flow": null,
            "width": null,
            "min_width": null,
            "border": null,
            "align_items": null,
            "bottom": null,
            "_model_module": "@jupyter-widgets/base",
            "top": null,
            "grid_column": null,
            "overflow_y": null,
            "overflow_x": null,
            "grid_auto_flow": null,
            "grid_area": null,
            "grid_template_columns": null,
            "flex": null,
            "_model_name": "LayoutModel",
            "justify_items": null,
            "grid_row": null,
            "max_height": null,
            "align_content": null,
            "visibility": null,
            "align_self": null,
            "height": null,
            "min_height": null,
            "padding": null,
            "grid_auto_rows": null,
            "grid_gap": null,
            "max_width": null,
            "order": null,
            "_view_module_version": "1.2.0",
            "grid_template_areas": null,
            "object_position": null,
            "object_fit": null,
            "grid_auto_columns": null,
            "margin": null,
            "display": null,
            "left": null
          }
        },
        "9e244c09139b46539e88f54faa8a07ab": {
          "model_module": "@jupyter-widgets/controls",
          "model_name": "DescriptionStyleModel",
          "state": {
            "_view_name": "StyleView",
            "_model_name": "DescriptionStyleModel",
            "description_width": "",
            "_view_module": "@jupyter-widgets/base",
            "_model_module_version": "1.5.0",
            "_view_count": null,
            "_view_module_version": "1.2.0",
            "_model_module": "@jupyter-widgets/controls"
          }
        },
        "7ccb177c977e4657ba62d869303e321f": {
          "model_module": "@jupyter-widgets/base",
          "model_name": "LayoutModel",
          "state": {
            "_view_name": "LayoutView",
            "grid_template_rows": null,
            "right": null,
            "justify_content": null,
            "_view_module": "@jupyter-widgets/base",
            "overflow": null,
            "_model_module_version": "1.2.0",
            "_view_count": null,
            "flex_flow": null,
            "width": null,
            "min_width": null,
            "border": null,
            "align_items": null,
            "bottom": null,
            "_model_module": "@jupyter-widgets/base",
            "top": null,
            "grid_column": null,
            "overflow_y": null,
            "overflow_x": null,
            "grid_auto_flow": null,
            "grid_area": null,
            "grid_template_columns": null,
            "flex": null,
            "_model_name": "LayoutModel",
            "justify_items": null,
            "grid_row": null,
            "max_height": null,
            "align_content": null,
            "visibility": null,
            "align_self": null,
            "height": null,
            "min_height": null,
            "padding": null,
            "grid_auto_rows": null,
            "grid_gap": null,
            "max_width": null,
            "order": null,
            "_view_module_version": "1.2.0",
            "grid_template_areas": null,
            "object_position": null,
            "object_fit": null,
            "grid_auto_columns": null,
            "margin": null,
            "display": null,
            "left": null
          }
        },
        "3f1ee922df274e7ea084481585901c87": {
          "model_module": "@jupyter-widgets/controls",
          "model_name": "HBoxModel",
          "state": {
            "_view_name": "HBoxView",
            "_dom_classes": [],
            "_model_name": "HBoxModel",
            "_view_module": "@jupyter-widgets/controls",
            "_model_module_version": "1.5.0",
            "_view_count": null,
            "_view_module_version": "1.5.0",
            "box_style": "",
            "layout": "IPY_MODEL_fa19e24a3e6e446c85d38874a78f91d7",
            "_model_module": "@jupyter-widgets/controls",
            "children": [
              "IPY_MODEL_410f1dcd7b994ace86ea4a9e4bb9babf",
              "IPY_MODEL_ab5fa36dd64a4e1a8647660de5f43554"
            ]
          }
        },
        "fa19e24a3e6e446c85d38874a78f91d7": {
          "model_module": "@jupyter-widgets/base",
          "model_name": "LayoutModel",
          "state": {
            "_view_name": "LayoutView",
            "grid_template_rows": null,
            "right": null,
            "justify_content": null,
            "_view_module": "@jupyter-widgets/base",
            "overflow": null,
            "_model_module_version": "1.2.0",
            "_view_count": null,
            "flex_flow": null,
            "width": null,
            "min_width": null,
            "border": null,
            "align_items": null,
            "bottom": null,
            "_model_module": "@jupyter-widgets/base",
            "top": null,
            "grid_column": null,
            "overflow_y": null,
            "overflow_x": null,
            "grid_auto_flow": null,
            "grid_area": null,
            "grid_template_columns": null,
            "flex": null,
            "_model_name": "LayoutModel",
            "justify_items": null,
            "grid_row": null,
            "max_height": null,
            "align_content": null,
            "visibility": null,
            "align_self": null,
            "height": null,
            "min_height": null,
            "padding": null,
            "grid_auto_rows": null,
            "grid_gap": null,
            "max_width": null,
            "order": null,
            "_view_module_version": "1.2.0",
            "grid_template_areas": null,
            "object_position": null,
            "object_fit": null,
            "grid_auto_columns": null,
            "margin": null,
            "display": null,
            "left": null
          }
        },
        "410f1dcd7b994ace86ea4a9e4bb9babf": {
          "model_module": "@jupyter-widgets/controls",
          "model_name": "FloatProgressModel",
          "state": {
            "_view_name": "ProgressView",
            "style": "IPY_MODEL_524fd2c653e94fa2b4b3f74af4510a1e",
            "_dom_classes": [],
            "description": "100%",
            "_model_name": "FloatProgressModel",
            "bar_style": "",
            "max": 141,
            "_view_module": "@jupyter-widgets/controls",
            "_model_module_version": "1.5.0",
            "value": 141,
            "_view_count": null,
            "_view_module_version": "1.5.0",
            "orientation": "horizontal",
            "min": 0,
            "description_tooltip": null,
            "_model_module": "@jupyter-widgets/controls",
            "layout": "IPY_MODEL_dcbb8070e21247a389ba7985aa5a51fe"
          }
        },
        "ab5fa36dd64a4e1a8647660de5f43554": {
          "model_module": "@jupyter-widgets/controls",
          "model_name": "HTMLModel",
          "state": {
            "_view_name": "HTMLView",
            "style": "IPY_MODEL_cd82580ce82847e7b79b157c357a81f6",
            "_dom_classes": [],
            "description": "",
            "_model_name": "HTMLModel",
            "placeholder": "​",
            "_view_module": "@jupyter-widgets/controls",
            "_model_module_version": "1.5.0",
            "value": " 141/141 [00:00&lt;00:00, 248.67it/s]",
            "_view_count": null,
            "_view_module_version": "1.5.0",
            "description_tooltip": null,
            "_model_module": "@jupyter-widgets/controls",
            "layout": "IPY_MODEL_1d4c794419a74efdaee51f1add291dff"
          }
        },
        "524fd2c653e94fa2b4b3f74af4510a1e": {
          "model_module": "@jupyter-widgets/controls",
          "model_name": "ProgressStyleModel",
          "state": {
            "_view_name": "StyleView",
            "_model_name": "ProgressStyleModel",
            "description_width": "initial",
            "_view_module": "@jupyter-widgets/base",
            "_model_module_version": "1.5.0",
            "_view_count": null,
            "_view_module_version": "1.2.0",
            "bar_color": null,
            "_model_module": "@jupyter-widgets/controls"
          }
        },
        "dcbb8070e21247a389ba7985aa5a51fe": {
          "model_module": "@jupyter-widgets/base",
          "model_name": "LayoutModel",
          "state": {
            "_view_name": "LayoutView",
            "grid_template_rows": null,
            "right": null,
            "justify_content": null,
            "_view_module": "@jupyter-widgets/base",
            "overflow": null,
            "_model_module_version": "1.2.0",
            "_view_count": null,
            "flex_flow": null,
            "width": null,
            "min_width": null,
            "border": null,
            "align_items": null,
            "bottom": null,
            "_model_module": "@jupyter-widgets/base",
            "top": null,
            "grid_column": null,
            "overflow_y": null,
            "overflow_x": null,
            "grid_auto_flow": null,
            "grid_area": null,
            "grid_template_columns": null,
            "flex": null,
            "_model_name": "LayoutModel",
            "justify_items": null,
            "grid_row": null,
            "max_height": null,
            "align_content": null,
            "visibility": null,
            "align_self": null,
            "height": null,
            "min_height": null,
            "padding": null,
            "grid_auto_rows": null,
            "grid_gap": null,
            "max_width": null,
            "order": null,
            "_view_module_version": "1.2.0",
            "grid_template_areas": null,
            "object_position": null,
            "object_fit": null,
            "grid_auto_columns": null,
            "margin": null,
            "display": null,
            "left": null
          }
        },
        "cd82580ce82847e7b79b157c357a81f6": {
          "model_module": "@jupyter-widgets/controls",
          "model_name": "DescriptionStyleModel",
          "state": {
            "_view_name": "StyleView",
            "_model_name": "DescriptionStyleModel",
            "description_width": "",
            "_view_module": "@jupyter-widgets/base",
            "_model_module_version": "1.5.0",
            "_view_count": null,
            "_view_module_version": "1.2.0",
            "_model_module": "@jupyter-widgets/controls"
          }
        },
        "1d4c794419a74efdaee51f1add291dff": {
          "model_module": "@jupyter-widgets/base",
          "model_name": "LayoutModel",
          "state": {
            "_view_name": "LayoutView",
            "grid_template_rows": null,
            "right": null,
            "justify_content": null,
            "_view_module": "@jupyter-widgets/base",
            "overflow": null,
            "_model_module_version": "1.2.0",
            "_view_count": null,
            "flex_flow": null,
            "width": null,
            "min_width": null,
            "border": null,
            "align_items": null,
            "bottom": null,
            "_model_module": "@jupyter-widgets/base",
            "top": null,
            "grid_column": null,
            "overflow_y": null,
            "overflow_x": null,
            "grid_auto_flow": null,
            "grid_area": null,
            "grid_template_columns": null,
            "flex": null,
            "_model_name": "LayoutModel",
            "justify_items": null,
            "grid_row": null,
            "max_height": null,
            "align_content": null,
            "visibility": null,
            "align_self": null,
            "height": null,
            "min_height": null,
            "padding": null,
            "grid_auto_rows": null,
            "grid_gap": null,
            "max_width": null,
            "order": null,
            "_view_module_version": "1.2.0",
            "grid_template_areas": null,
            "object_position": null,
            "object_fit": null,
            "grid_auto_columns": null,
            "margin": null,
            "display": null,
            "left": null
          }
        }
      }
    }
  },
  "cells": [
    {
      "cell_type": "markdown",
      "metadata": {
        "id": "view-in-github",
        "colab_type": "text"
      },
      "source": [
        "<a href=\"https://colab.research.google.com/github/YuxingW/deep_learning/blob/main/hw5/part_c_pytorch.ipynb\" target=\"_parent\"><img src=\"https://colab.research.google.com/assets/colab-badge.svg\" alt=\"Open In Colab\"/></a>"
      ]
    },
    {
      "cell_type": "markdown",
      "metadata": {
        "id": "PNBTeQsT1Rn4"
      },
      "source": [
        "#Predict NYC taxi fares using pytorch"
      ]
    },
    {
      "cell_type": "markdown",
      "metadata": {
        "id": "uh2Y1u6JkBVG"
      },
      "source": [
        "## Import libraries\n"
      ]
    },
    {
      "cell_type": "code",
      "metadata": {
        "id": "3256OFoIjIrM"
      },
      "source": [
        "## import libraries\n",
        "\n",
        "#PyTorch \n",
        "\n",
        "import torch\n",
        "import torch.nn as nn\n",
        "from torch.utils.data import Dataset, DataLoader\n",
        "import torch.optim as torch_optim\n",
        "from torchvision import models\n",
        "from torch.nn import init\n",
        "import torch.optim as optim\n",
        "from torch.autograd import Variable\n",
        "import torch.nn.functional as F\n",
        "from torch.utils import data\n",
        "from torch.optim import lr_scheduler\n",
        "\n",
        "#sklearn\n",
        "from sklearn.model_selection import train_test_split\n",
        "from sklearn.preprocessing import LabelEncoder\n",
        "from sklearn.metrics import mean_squared_error\n",
        "from sklearn import preprocessing\n",
        "\n",
        "\n",
        "#other\n",
        "from IPython.core.debugger import set_trace\n",
        "import pandas as pd\n",
        "import numpy as np\n",
        "from collections import Counter\n",
        "from datetime import datetime\n",
        "import math \n",
        "from google.colab import files\n",
        "import io\n",
        "import datetime as dt\n",
        "import re\n",
        "import pandas_profiling\n",
        "import pandas_profiling as pp\n",
        "from math import sqrt\n",
        "\n",
        "#graphs\n",
        "import seaborn as sns\n",
        "import matplotlib.pyplot as plt\n",
        "import matplotlib.ticker as ticker\n",
        "import matplotlib.dates as mdates\n",
        "import matplotlib.cbook as cbook\n",
        "import pylab as plt\n",
        "import matplotlib.dates as dates\n",
        "import seaborn as sns\n",
        "import pylab\n",
        "import matplotlib\n",
        "import matplotlib.dates\n",
        "from IPython.display import display\n",
        "import plotly.graph_objects as go\n",
        "\n",
        "\n",
        "%matplotlib inline"
      ],
      "execution_count": 1,
      "outputs": []
    },
    {
      "cell_type": "code",
      "metadata": {
        "id": "jENRWz7YBP8v",
        "colab": {
          "base_uri": "https://localhost:8080/"
        },
        "outputId": "d013980b-c2d8-45b5-a350-f709d97eb0c4"
      },
      "source": [
        "# load tqdm\n",
        "from tqdm import tqdm, tqdm_notebook, tnrange\n",
        "\n",
        "device = torch.device(\"cuda:0\" if torch.cuda.is_available() else \"cpu\")\n",
        "device"
      ],
      "execution_count": 2,
      "outputs": [
        {
          "output_type": "execute_result",
          "data": {
            "text/plain": [
              "device(type='cuda', index=0)"
            ]
          },
          "metadata": {
            "tags": []
          },
          "execution_count": 2
        }
      ]
    },
    {
      "cell_type": "code",
      "metadata": {
        "colab": {
          "base_uri": "https://localhost:8080/",
          "height": 281
        },
        "id": "9w2zahxUZzFs",
        "outputId": "31fefd0e-f957-4c89-b726-47cc2f6dd0fa"
      },
      "source": [
        "import requests\n",
        "from io import BytesIO\n",
        "\n",
        "url = 'https://docs.google.com/spreadsheets/d/e/2PACX-1vSdR1c5jpsE5Kp2DzQoIm7H2XywINfGNMnTL7nP92mu_GBHgu2T0mPxnu5O0YVfSpAbAu1NGNrm0auq/pub?output=csv'\n",
        "r = requests.get(url)\n",
        "csv_data = r.content\n",
        "df = pd.read_csv(BytesIO(csv_data))\n",
        "df.head()"
      ],
      "execution_count": 3,
      "outputs": [
        {
          "output_type": "execute_result",
          "data": {
            "text/html": [
              "<div>\n",
              "<style scoped>\n",
              "    .dataframe tbody tr th:only-of-type {\n",
              "        vertical-align: middle;\n",
              "    }\n",
              "\n",
              "    .dataframe tbody tr th {\n",
              "        vertical-align: top;\n",
              "    }\n",
              "\n",
              "    .dataframe thead th {\n",
              "        text-align: right;\n",
              "    }\n",
              "</style>\n",
              "<table border=\"1\" class=\"dataframe\">\n",
              "  <thead>\n",
              "    <tr style=\"text-align: right;\">\n",
              "      <th></th>\n",
              "      <th>key</th>\n",
              "      <th>fare_amount</th>\n",
              "      <th>pickup_datetime</th>\n",
              "      <th>pickup_longitude</th>\n",
              "      <th>pickup_latitude</th>\n",
              "      <th>dropoff_longitude</th>\n",
              "      <th>dropoff_latitude</th>\n",
              "      <th>passenger_count</th>\n",
              "    </tr>\n",
              "  </thead>\n",
              "  <tbody>\n",
              "    <tr>\n",
              "      <th>0</th>\n",
              "      <td>2009-06-15 17:26:21</td>\n",
              "      <td>4.5</td>\n",
              "      <td>2009-06-15 17:26:21 UTC</td>\n",
              "      <td>-73.844311</td>\n",
              "      <td>40.721319</td>\n",
              "      <td>-73.841610</td>\n",
              "      <td>40.712278</td>\n",
              "      <td>1</td>\n",
              "    </tr>\n",
              "    <tr>\n",
              "      <th>1</th>\n",
              "      <td>2010-01-05 16:52:16</td>\n",
              "      <td>16.9</td>\n",
              "      <td>2010-01-05 16:52:16 UTC</td>\n",
              "      <td>-74.016048</td>\n",
              "      <td>40.711303</td>\n",
              "      <td>-73.979268</td>\n",
              "      <td>40.782004</td>\n",
              "      <td>1</td>\n",
              "    </tr>\n",
              "    <tr>\n",
              "      <th>2</th>\n",
              "      <td>2011-08-18 0:35:00</td>\n",
              "      <td>5.7</td>\n",
              "      <td>2011-08-18 00:35:00 UTC</td>\n",
              "      <td>-73.982738</td>\n",
              "      <td>40.761270</td>\n",
              "      <td>-73.991242</td>\n",
              "      <td>40.750562</td>\n",
              "      <td>2</td>\n",
              "    </tr>\n",
              "    <tr>\n",
              "      <th>3</th>\n",
              "      <td>2012-04-21 4:30:42</td>\n",
              "      <td>7.7</td>\n",
              "      <td>2012-04-21 04:30:42 UTC</td>\n",
              "      <td>-73.987130</td>\n",
              "      <td>40.733143</td>\n",
              "      <td>-73.991567</td>\n",
              "      <td>40.758092</td>\n",
              "      <td>1</td>\n",
              "    </tr>\n",
              "    <tr>\n",
              "      <th>4</th>\n",
              "      <td>2010-03-09 7:51:00</td>\n",
              "      <td>5.3</td>\n",
              "      <td>2010-03-09 07:51:00 UTC</td>\n",
              "      <td>-73.968095</td>\n",
              "      <td>40.768008</td>\n",
              "      <td>-73.956655</td>\n",
              "      <td>40.783762</td>\n",
              "      <td>1</td>\n",
              "    </tr>\n",
              "  </tbody>\n",
              "</table>\n",
              "</div>"
            ],
            "text/plain": [
              "                   key  fare_amount  ... dropoff_latitude  passenger_count\n",
              "0  2009-06-15 17:26:21          4.5  ...        40.712278                1\n",
              "1  2010-01-05 16:52:16         16.9  ...        40.782004                1\n",
              "2   2011-08-18 0:35:00          5.7  ...        40.750562                2\n",
              "3   2012-04-21 4:30:42          7.7  ...        40.758092                1\n",
              "4   2010-03-09 7:51:00          5.3  ...        40.783762                1\n",
              "\n",
              "[5 rows x 8 columns]"
            ]
          },
          "metadata": {
            "tags": []
          },
          "execution_count": 3
        }
      ]
    },
    {
      "cell_type": "markdown",
      "metadata": {
        "id": "QSAiBGfNkbhb"
      },
      "source": [
        "# Data preprocessing and transformation"
      ]
    },
    {
      "cell_type": "markdown",
      "metadata": {
        "id": "lbRO0s7mmtOz"
      },
      "source": [
        "##Calculate the distance traveled"
      ]
    },
    {
      "cell_type": "markdown",
      "metadata": {
        "id": "0PVX-6qokEWI"
      },
      "source": [
        "**Distance Function**\n",
        "\n"
      ]
    },
    {
      "cell_type": "code",
      "metadata": {
        "id": "uJoaYsqKjjTu"
      },
      "source": [
        "def haversine_distance(df, lat1, long1, lat2, long2):\n",
        "    \"\"\"\n",
        "    Calculates the haversine distance between 2 sets of GPS coordinates in df\n",
        "    \"\"\"\n",
        "    r = 6371  # average radius of Earth in kilometers\n",
        "       \n",
        "    phi1 = np.radians(df[lat1])\n",
        "    phi2 = np.radians(df[lat2])\n",
        "    \n",
        "    delta_phi = np.radians(df[lat2]-df[lat1])\n",
        "    delta_lambda = np.radians(df[long2]-df[long1])\n",
        "     \n",
        "    a = np.sin(delta_phi/2)**2 + np.cos(phi1) * np.cos(phi2) * np.sin(delta_lambda/2)**2\n",
        "    c = 2 * np.arctan2(np.sqrt(a), np.sqrt(1-a))\n",
        "    d = (r * c) # in kilometers\n",
        "\n",
        "    return d"
      ],
      "execution_count": 4,
      "outputs": []
    },
    {
      "cell_type": "code",
      "metadata": {
        "id": "U6prpp5lmivr"
      },
      "source": [
        "df['dist_km'] = haversine_distance(df,'pickup_latitude', 'pickup_longitude', 'dropoff_latitude', 'dropoff_longitude')"
      ],
      "execution_count": 5,
      "outputs": []
    },
    {
      "cell_type": "markdown",
      "metadata": {
        "id": "mxYVYQ3lm2dI"
      },
      "source": [
        "##Add a datetime column and derive useful statistics"
      ]
    },
    {
      "cell_type": "code",
      "metadata": {
        "id": "HLmdLkipktOK"
      },
      "source": [
        "df['EDTdate'] = pd.to_datetime(df['pickup_datetime'].str[:19]) - pd.Timedelta(hours=4)\n",
        "df['Hour'] = df['EDTdate'].dt.hour\n",
        "df['AMorPM'] = np.where(df['Hour']<12,'am','pm')\n",
        "df['Weekday'] = df['EDTdate'].dt.strftime(\"%a\")"
      ],
      "execution_count": 6,
      "outputs": []
    },
    {
      "cell_type": "code",
      "metadata": {
        "id": "mN0xUIP0nH-K"
      },
      "source": [
        "cat_cols = ['Hour', 'AMorPM', 'Weekday']\n",
        "cont_cols = ['pickup_latitude', 'pickup_longitude', 'dropoff_latitude', 'dropoff_longitude', 'passenger_count', 'dist_km']\n"
      ],
      "execution_count": 7,
      "outputs": []
    },
    {
      "cell_type": "code",
      "metadata": {
        "id": "G91bMyUroUMw",
        "colab": {
          "base_uri": "https://localhost:8080/",
          "height": 384
        },
        "outputId": "1382c42f-291e-40d9-93e1-7762902a4e48"
      },
      "source": [
        "#make the cat categories as \"category\" and label encoder it.\n",
        "for col in df.columns:\n",
        "  if col in cat_cols:\n",
        "    df[col] = LabelEncoder().fit_transform(df[col])\n",
        "    df[col]= df[col].astype('category')\n",
        "\n",
        "df.head()"
      ],
      "execution_count": 8,
      "outputs": [
        {
          "output_type": "execute_result",
          "data": {
            "text/html": [
              "<div>\n",
              "<style scoped>\n",
              "    .dataframe tbody tr th:only-of-type {\n",
              "        vertical-align: middle;\n",
              "    }\n",
              "\n",
              "    .dataframe tbody tr th {\n",
              "        vertical-align: top;\n",
              "    }\n",
              "\n",
              "    .dataframe thead th {\n",
              "        text-align: right;\n",
              "    }\n",
              "</style>\n",
              "<table border=\"1\" class=\"dataframe\">\n",
              "  <thead>\n",
              "    <tr style=\"text-align: right;\">\n",
              "      <th></th>\n",
              "      <th>key</th>\n",
              "      <th>fare_amount</th>\n",
              "      <th>pickup_datetime</th>\n",
              "      <th>pickup_longitude</th>\n",
              "      <th>pickup_latitude</th>\n",
              "      <th>dropoff_longitude</th>\n",
              "      <th>dropoff_latitude</th>\n",
              "      <th>passenger_count</th>\n",
              "      <th>dist_km</th>\n",
              "      <th>EDTdate</th>\n",
              "      <th>Hour</th>\n",
              "      <th>AMorPM</th>\n",
              "      <th>Weekday</th>\n",
              "    </tr>\n",
              "  </thead>\n",
              "  <tbody>\n",
              "    <tr>\n",
              "      <th>0</th>\n",
              "      <td>2009-06-15 17:26:21</td>\n",
              "      <td>4.5</td>\n",
              "      <td>2009-06-15 17:26:21 UTC</td>\n",
              "      <td>-73.844311</td>\n",
              "      <td>40.721319</td>\n",
              "      <td>-73.841610</td>\n",
              "      <td>40.712278</td>\n",
              "      <td>1</td>\n",
              "      <td>1.030764</td>\n",
              "      <td>2009-06-15 13:26:21</td>\n",
              "      <td>13</td>\n",
              "      <td>1</td>\n",
              "      <td>1</td>\n",
              "    </tr>\n",
              "    <tr>\n",
              "      <th>1</th>\n",
              "      <td>2010-01-05 16:52:16</td>\n",
              "      <td>16.9</td>\n",
              "      <td>2010-01-05 16:52:16 UTC</td>\n",
              "      <td>-74.016048</td>\n",
              "      <td>40.711303</td>\n",
              "      <td>-73.979268</td>\n",
              "      <td>40.782004</td>\n",
              "      <td>1</td>\n",
              "      <td>8.450134</td>\n",
              "      <td>2010-01-05 12:52:16</td>\n",
              "      <td>12</td>\n",
              "      <td>1</td>\n",
              "      <td>5</td>\n",
              "    </tr>\n",
              "    <tr>\n",
              "      <th>2</th>\n",
              "      <td>2011-08-18 0:35:00</td>\n",
              "      <td>5.7</td>\n",
              "      <td>2011-08-18 00:35:00 UTC</td>\n",
              "      <td>-73.982738</td>\n",
              "      <td>40.761270</td>\n",
              "      <td>-73.991242</td>\n",
              "      <td>40.750562</td>\n",
              "      <td>2</td>\n",
              "      <td>1.389525</td>\n",
              "      <td>2011-08-17 20:35:00</td>\n",
              "      <td>20</td>\n",
              "      <td>1</td>\n",
              "      <td>6</td>\n",
              "    </tr>\n",
              "    <tr>\n",
              "      <th>3</th>\n",
              "      <td>2012-04-21 4:30:42</td>\n",
              "      <td>7.7</td>\n",
              "      <td>2012-04-21 04:30:42 UTC</td>\n",
              "      <td>-73.987130</td>\n",
              "      <td>40.733143</td>\n",
              "      <td>-73.991567</td>\n",
              "      <td>40.758092</td>\n",
              "      <td>1</td>\n",
              "      <td>2.799270</td>\n",
              "      <td>2012-04-21 00:30:42</td>\n",
              "      <td>0</td>\n",
              "      <td>0</td>\n",
              "      <td>2</td>\n",
              "    </tr>\n",
              "    <tr>\n",
              "      <th>4</th>\n",
              "      <td>2010-03-09 7:51:00</td>\n",
              "      <td>5.3</td>\n",
              "      <td>2010-03-09 07:51:00 UTC</td>\n",
              "      <td>-73.968095</td>\n",
              "      <td>40.768008</td>\n",
              "      <td>-73.956655</td>\n",
              "      <td>40.783762</td>\n",
              "      <td>1</td>\n",
              "      <td>1.999157</td>\n",
              "      <td>2010-03-09 03:51:00</td>\n",
              "      <td>3</td>\n",
              "      <td>0</td>\n",
              "      <td>5</td>\n",
              "    </tr>\n",
              "  </tbody>\n",
              "</table>\n",
              "</div>"
            ],
            "text/plain": [
              "                   key  fare_amount  ... AMorPM  Weekday\n",
              "0  2009-06-15 17:26:21          4.5  ...      1        1\n",
              "1  2010-01-05 16:52:16         16.9  ...      1        5\n",
              "2   2011-08-18 0:35:00          5.7  ...      1        6\n",
              "3   2012-04-21 4:30:42          7.7  ...      0        2\n",
              "4   2010-03-09 7:51:00          5.3  ...      0        5\n",
              "\n",
              "[5 rows x 13 columns]"
            ]
          },
          "metadata": {
            "tags": []
          },
          "execution_count": 8
        }
      ]
    },
    {
      "cell_type": "code",
      "metadata": {
        "colab": {
          "base_uri": "https://localhost:8080/"
        },
        "id": "BBmIeIYThlbz",
        "outputId": "2ad441ee-3349-4043-8527-bca9c62877fa"
      },
      "source": [
        "# delete the fares that are less than 0\n",
        "df = df.loc[df.fare_amount > 0]\n",
        "df.fare_amount.min()"
      ],
      "execution_count": 9,
      "outputs": [
        {
          "output_type": "execute_result",
          "data": {
            "text/plain": [
              "0.01"
            ]
          },
          "metadata": {
            "tags": []
          },
          "execution_count": 9
        }
      ]
    },
    {
      "cell_type": "code",
      "metadata": {
        "id": "AoSYRIUD1Dbc"
      },
      "source": [
        "# keep only the cols for the model\n",
        "df = df[['Hour', 'AMorPM', 'Weekday','pickup_latitude', 'pickup_longitude', 'dropoff_latitude', 'dropoff_longitude', 'passenger_count', 'dist_km', 'fare_amount']]"
      ],
      "execution_count": 10,
      "outputs": []
    },
    {
      "cell_type": "code",
      "metadata": {
        "id": "WDuMjwYqxrZr"
      },
      "source": [
        "#Normalizing \n",
        "\n",
        "from pandas.api.types import is_numeric_dtype\n",
        "\n",
        "#\"Compute the means and stds of `self.cont_names` columns to normalize them.\"\n",
        "def Normalize(df):\n",
        "  means,stds = {},{}\n",
        "  cont_names = ['pickup_latitude', 'pickup_longitude', 'dropoff_latitude', 'dropoff_longitude', 'passenger_count', 'dist_km']\n",
        "  for n in cont_names:\n",
        "    assert is_numeric_dtype(df[n]), (f\"\"\"Cannot normalize '{n}' column as it isn't numerical. Are you sure it doesn't belong in the categorical set of columns?\"\"\")\n",
        "    means[n],stds[n] = df[n].mean(),df[n].std()\n",
        "    df[n] = (df[n]-means[n]) / (1e-7 + stds[n])\n",
        "\n",
        "\n",
        "Normalize(df)"
      ],
      "execution_count": 11,
      "outputs": []
    },
    {
      "cell_type": "code",
      "metadata": {
        "id": "6pyrDASAqcxM"
      },
      "source": [
        "df_train = df[:90000]\n",
        "df_test = df[90000:]"
      ],
      "execution_count": 12,
      "outputs": []
    },
    {
      "cell_type": "markdown",
      "metadata": {
        "id": "KFNfBofHn2OV"
      },
      "source": [
        "# Prepare the model"
      ]
    },
    {
      "cell_type": "markdown",
      "metadata": {
        "id": "G-0h_LjXn8ha"
      },
      "source": [
        "## define Categorical and continuous columns"
      ]
    },
    {
      "cell_type": "code",
      "metadata": {
        "id": "TtN1pnhIox7K",
        "colab": {
          "base_uri": "https://localhost:8080/",
          "height": 197
        },
        "outputId": "2465ecc7-a5c9-4027-a4d4-5c6351eeb0bb"
      },
      "source": [
        "df.head()"
      ],
      "execution_count": 13,
      "outputs": [
        {
          "output_type": "execute_result",
          "data": {
            "text/html": [
              "<div>\n",
              "<style scoped>\n",
              "    .dataframe tbody tr th:only-of-type {\n",
              "        vertical-align: middle;\n",
              "    }\n",
              "\n",
              "    .dataframe tbody tr th {\n",
              "        vertical-align: top;\n",
              "    }\n",
              "\n",
              "    .dataframe thead th {\n",
              "        text-align: right;\n",
              "    }\n",
              "</style>\n",
              "<table border=\"1\" class=\"dataframe\">\n",
              "  <thead>\n",
              "    <tr style=\"text-align: right;\">\n",
              "      <th></th>\n",
              "      <th>Hour</th>\n",
              "      <th>AMorPM</th>\n",
              "      <th>Weekday</th>\n",
              "      <th>pickup_latitude</th>\n",
              "      <th>pickup_longitude</th>\n",
              "      <th>dropoff_latitude</th>\n",
              "      <th>dropoff_longitude</th>\n",
              "      <th>passenger_count</th>\n",
              "      <th>dist_km</th>\n",
              "      <th>fare_amount</th>\n",
              "    </tr>\n",
              "  </thead>\n",
              "  <tbody>\n",
              "    <tr>\n",
              "      <th>0</th>\n",
              "      <td>13</td>\n",
              "      <td>1</td>\n",
              "      <td>1</td>\n",
              "      <td>0.129607</td>\n",
              "      <td>-0.126215</td>\n",
              "      <td>0.127633</td>\n",
              "      <td>-0.128954</td>\n",
              "      <td>-0.518257</td>\n",
              "      <td>-0.049129</td>\n",
              "      <td>4.5</td>\n",
              "    </tr>\n",
              "    <tr>\n",
              "      <th>1</th>\n",
              "      <td>12</td>\n",
              "      <td>1</td>\n",
              "      <td>5</td>\n",
              "      <td>0.127999</td>\n",
              "      <td>-0.142273</td>\n",
              "      <td>0.138857</td>\n",
              "      <td>-0.142103</td>\n",
              "      <td>-0.518257</td>\n",
              "      <td>-0.028273</td>\n",
              "      <td>16.9</td>\n",
              "    </tr>\n",
              "    <tr>\n",
              "      <th>2</th>\n",
              "      <td>20</td>\n",
              "      <td>1</td>\n",
              "      <td>6</td>\n",
              "      <td>0.136024</td>\n",
              "      <td>-0.139158</td>\n",
              "      <td>0.133796</td>\n",
              "      <td>-0.143246</td>\n",
              "      <td>0.250913</td>\n",
              "      <td>-0.048120</td>\n",
              "      <td>5.7</td>\n",
              "    </tr>\n",
              "    <tr>\n",
              "      <th>3</th>\n",
              "      <td>0</td>\n",
              "      <td>0</td>\n",
              "      <td>2</td>\n",
              "      <td>0.131506</td>\n",
              "      <td>-0.139569</td>\n",
              "      <td>0.135008</td>\n",
              "      <td>-0.143277</td>\n",
              "      <td>-0.518257</td>\n",
              "      <td>-0.044158</td>\n",
              "      <td>7.7</td>\n",
              "    </tr>\n",
              "    <tr>\n",
              "      <th>4</th>\n",
              "      <td>3</td>\n",
              "      <td>0</td>\n",
              "      <td>5</td>\n",
              "      <td>0.137106</td>\n",
              "      <td>-0.137789</td>\n",
              "      <td>0.139140</td>\n",
              "      <td>-0.139943</td>\n",
              "      <td>-0.518257</td>\n",
              "      <td>-0.046407</td>\n",
              "      <td>5.3</td>\n",
              "    </tr>\n",
              "  </tbody>\n",
              "</table>\n",
              "</div>"
            ],
            "text/plain": [
              "  Hour AMorPM Weekday  ...  passenger_count   dist_km  fare_amount\n",
              "0   13      1       1  ...        -0.518257 -0.049129          4.5\n",
              "1   12      1       5  ...        -0.518257 -0.028273         16.9\n",
              "2   20      1       6  ...         0.250913 -0.048120          5.7\n",
              "3    0      0       2  ...        -0.518257 -0.044158          7.7\n",
              "4    3      0       5  ...        -0.518257 -0.046407          5.3\n",
              "\n",
              "[5 rows x 10 columns]"
            ]
          },
          "metadata": {
            "tags": []
          },
          "execution_count": 13
        }
      ]
    },
    {
      "cell_type": "code",
      "metadata": {
        "id": "ZwW1Ubgeo5ea",
        "colab": {
          "base_uri": "https://localhost:8080/"
        },
        "outputId": "7f11b2a3-b9eb-445f-f3b1-a57488476b30"
      },
      "source": [
        "df.info()"
      ],
      "execution_count": 14,
      "outputs": [
        {
          "output_type": "stream",
          "text": [
            "<class 'pandas.core.frame.DataFrame'>\n",
            "Int64Index: 99987 entries, 0 to 99998\n",
            "Data columns (total 10 columns):\n",
            " #   Column             Non-Null Count  Dtype   \n",
            "---  ------             --------------  -----   \n",
            " 0   Hour               99987 non-null  category\n",
            " 1   AMorPM             99987 non-null  category\n",
            " 2   Weekday            99987 non-null  category\n",
            " 3   pickup_latitude    99987 non-null  float64 \n",
            " 4   pickup_longitude   99987 non-null  float64 \n",
            " 5   dropoff_latitude   99987 non-null  float64 \n",
            " 6   dropoff_longitude  99987 non-null  float64 \n",
            " 7   passenger_count    99987 non-null  float64 \n",
            " 8   dist_km            99987 non-null  float64 \n",
            " 9   fare_amount        99987 non-null  float64 \n",
            "dtypes: category(3), float64(7)\n",
            "memory usage: 6.4 MB\n"
          ],
          "name": "stdout"
        }
      ]
    },
    {
      "cell_type": "markdown",
      "metadata": {
        "id": "QsebxQMFrLkr"
      },
      "source": [
        "##Take the relevent columns for the Model and Split to train and test"
      ]
    },
    {
      "cell_type": "code",
      "metadata": {
        "id": "DMk-Q1RC0-aL",
        "colab": {
          "base_uri": "https://localhost:8080/"
        },
        "outputId": "e78a0742-9d65-4c01-9fe5-a3972aa14925"
      },
      "source": [
        "df.columns"
      ],
      "execution_count": 15,
      "outputs": [
        {
          "output_type": "execute_result",
          "data": {
            "text/plain": [
              "Index(['Hour', 'AMorPM', 'Weekday', 'pickup_latitude', 'pickup_longitude',\n",
              "       'dropoff_latitude', 'dropoff_longitude', 'passenger_count', 'dist_km',\n",
              "       'fare_amount'],\n",
              "      dtype='object')"
            ]
          },
          "metadata": {
            "tags": []
          },
          "execution_count": 15
        }
      ]
    },
    {
      "cell_type": "code",
      "metadata": {
        "colab": {
          "base_uri": "https://localhost:8080/"
        },
        "id": "GMyDMKJrb4yJ",
        "outputId": "a92d6949-c87f-44b0-cdf5-dc35a89b3e61"
      },
      "source": [
        "df_train.columns"
      ],
      "execution_count": 16,
      "outputs": [
        {
          "output_type": "execute_result",
          "data": {
            "text/plain": [
              "Index(['Hour', 'AMorPM', 'Weekday', 'pickup_latitude', 'pickup_longitude',\n",
              "       'dropoff_latitude', 'dropoff_longitude', 'passenger_count', 'dist_km',\n",
              "       'fare_amount'],\n",
              "      dtype='object')"
            ]
          },
          "metadata": {
            "tags": []
          },
          "execution_count": 16
        }
      ]
    },
    {
      "cell_type": "code",
      "metadata": {
        "id": "vgjHk0wzrb_L"
      },
      "source": [
        "X = df_train.drop(columns=['fare_amount'])\n",
        "Y = np.log(df_train.fare_amount)\n",
        "\n",
        "test_X = df_test"
      ],
      "execution_count": 17,
      "outputs": []
    },
    {
      "cell_type": "code",
      "metadata": {
        "id": "5cmS2F6crnFq",
        "colab": {
          "base_uri": "https://localhost:8080/",
          "height": 197
        },
        "outputId": "92c2dd87-ddd7-4bc7-ca0a-661737e4aac2"
      },
      "source": [
        "df_train.head()"
      ],
      "execution_count": 18,
      "outputs": [
        {
          "output_type": "execute_result",
          "data": {
            "text/html": [
              "<div>\n",
              "<style scoped>\n",
              "    .dataframe tbody tr th:only-of-type {\n",
              "        vertical-align: middle;\n",
              "    }\n",
              "\n",
              "    .dataframe tbody tr th {\n",
              "        vertical-align: top;\n",
              "    }\n",
              "\n",
              "    .dataframe thead th {\n",
              "        text-align: right;\n",
              "    }\n",
              "</style>\n",
              "<table border=\"1\" class=\"dataframe\">\n",
              "  <thead>\n",
              "    <tr style=\"text-align: right;\">\n",
              "      <th></th>\n",
              "      <th>Hour</th>\n",
              "      <th>AMorPM</th>\n",
              "      <th>Weekday</th>\n",
              "      <th>pickup_latitude</th>\n",
              "      <th>pickup_longitude</th>\n",
              "      <th>dropoff_latitude</th>\n",
              "      <th>dropoff_longitude</th>\n",
              "      <th>passenger_count</th>\n",
              "      <th>dist_km</th>\n",
              "      <th>fare_amount</th>\n",
              "    </tr>\n",
              "  </thead>\n",
              "  <tbody>\n",
              "    <tr>\n",
              "      <th>0</th>\n",
              "      <td>13</td>\n",
              "      <td>1</td>\n",
              "      <td>1</td>\n",
              "      <td>0.129607</td>\n",
              "      <td>-0.126215</td>\n",
              "      <td>0.127633</td>\n",
              "      <td>-0.128954</td>\n",
              "      <td>-0.518257</td>\n",
              "      <td>-0.049129</td>\n",
              "      <td>4.5</td>\n",
              "    </tr>\n",
              "    <tr>\n",
              "      <th>1</th>\n",
              "      <td>12</td>\n",
              "      <td>1</td>\n",
              "      <td>5</td>\n",
              "      <td>0.127999</td>\n",
              "      <td>-0.142273</td>\n",
              "      <td>0.138857</td>\n",
              "      <td>-0.142103</td>\n",
              "      <td>-0.518257</td>\n",
              "      <td>-0.028273</td>\n",
              "      <td>16.9</td>\n",
              "    </tr>\n",
              "    <tr>\n",
              "      <th>2</th>\n",
              "      <td>20</td>\n",
              "      <td>1</td>\n",
              "      <td>6</td>\n",
              "      <td>0.136024</td>\n",
              "      <td>-0.139158</td>\n",
              "      <td>0.133796</td>\n",
              "      <td>-0.143246</td>\n",
              "      <td>0.250913</td>\n",
              "      <td>-0.048120</td>\n",
              "      <td>5.7</td>\n",
              "    </tr>\n",
              "    <tr>\n",
              "      <th>3</th>\n",
              "      <td>0</td>\n",
              "      <td>0</td>\n",
              "      <td>2</td>\n",
              "      <td>0.131506</td>\n",
              "      <td>-0.139569</td>\n",
              "      <td>0.135008</td>\n",
              "      <td>-0.143277</td>\n",
              "      <td>-0.518257</td>\n",
              "      <td>-0.044158</td>\n",
              "      <td>7.7</td>\n",
              "    </tr>\n",
              "    <tr>\n",
              "      <th>4</th>\n",
              "      <td>3</td>\n",
              "      <td>0</td>\n",
              "      <td>5</td>\n",
              "      <td>0.137106</td>\n",
              "      <td>-0.137789</td>\n",
              "      <td>0.139140</td>\n",
              "      <td>-0.139943</td>\n",
              "      <td>-0.518257</td>\n",
              "      <td>-0.046407</td>\n",
              "      <td>5.3</td>\n",
              "    </tr>\n",
              "  </tbody>\n",
              "</table>\n",
              "</div>"
            ],
            "text/plain": [
              "  Hour AMorPM Weekday  ...  passenger_count   dist_km  fare_amount\n",
              "0   13      1       1  ...        -0.518257 -0.049129          4.5\n",
              "1   12      1       5  ...        -0.518257 -0.028273         16.9\n",
              "2   20      1       6  ...         0.250913 -0.048120          5.7\n",
              "3    0      0       2  ...        -0.518257 -0.044158          7.7\n",
              "4    3      0       5  ...        -0.518257 -0.046407          5.3\n",
              "\n",
              "[5 rows x 10 columns]"
            ]
          },
          "metadata": {
            "tags": []
          },
          "execution_count": 18
        }
      ]
    },
    {
      "cell_type": "code",
      "metadata": {
        "id": "4urVKk9NxDCx",
        "colab": {
          "base_uri": "https://localhost:8080/"
        },
        "outputId": "a21e21f4-5303-4839-99dd-56db1c09e33e"
      },
      "source": [
        "Y.shape"
      ],
      "execution_count": 19,
      "outputs": [
        {
          "output_type": "execute_result",
          "data": {
            "text/plain": [
              "(90000,)"
            ]
          },
          "metadata": {
            "tags": []
          },
          "execution_count": 19
        }
      ]
    },
    {
      "cell_type": "code",
      "metadata": {
        "id": "7vV8_9do4-Oo",
        "colab": {
          "base_uri": "https://localhost:8080/"
        },
        "outputId": "b0c25ac8-a8e2-4877-bfbd-f314ae5daf99"
      },
      "source": [
        "X.info()"
      ],
      "execution_count": 20,
      "outputs": [
        {
          "output_type": "stream",
          "text": [
            "<class 'pandas.core.frame.DataFrame'>\n",
            "Int64Index: 90000 entries, 0 to 90010\n",
            "Data columns (total 9 columns):\n",
            " #   Column             Non-Null Count  Dtype   \n",
            "---  ------             --------------  -----   \n",
            " 0   Hour               90000 non-null  category\n",
            " 1   AMorPM             90000 non-null  category\n",
            " 2   Weekday            90000 non-null  category\n",
            " 3   pickup_latitude    90000 non-null  float64 \n",
            " 4   pickup_longitude   90000 non-null  float64 \n",
            " 5   dropoff_latitude   90000 non-null  float64 \n",
            " 6   dropoff_longitude  90000 non-null  float64 \n",
            " 7   passenger_count    90000 non-null  float64 \n",
            " 8   dist_km            90000 non-null  float64 \n",
            "dtypes: category(3), float64(6)\n",
            "memory usage: 5.1 MB\n"
          ],
          "name": "stdout"
        }
      ]
    },
    {
      "cell_type": "markdown",
      "metadata": {
        "id": "fTHaK8PusKx9"
      },
      "source": [
        "**train-valid split**"
      ]
    },
    {
      "cell_type": "code",
      "metadata": {
        "id": "_RdHsihKtYLK",
        "colab": {
          "base_uri": "https://localhost:8080/",
          "height": 197
        },
        "outputId": "6843283a-49e3-4e35-c122-b46955fcc231"
      },
      "source": [
        "X_train, X_val, y_train, y_val = train_test_split(X, Y, test_size=0.20, random_state=42,shuffle=True ) \n",
        "X_train.head()"
      ],
      "execution_count": 21,
      "outputs": [
        {
          "output_type": "execute_result",
          "data": {
            "text/html": [
              "<div>\n",
              "<style scoped>\n",
              "    .dataframe tbody tr th:only-of-type {\n",
              "        vertical-align: middle;\n",
              "    }\n",
              "\n",
              "    .dataframe tbody tr th {\n",
              "        vertical-align: top;\n",
              "    }\n",
              "\n",
              "    .dataframe thead th {\n",
              "        text-align: right;\n",
              "    }\n",
              "</style>\n",
              "<table border=\"1\" class=\"dataframe\">\n",
              "  <thead>\n",
              "    <tr style=\"text-align: right;\">\n",
              "      <th></th>\n",
              "      <th>Hour</th>\n",
              "      <th>AMorPM</th>\n",
              "      <th>Weekday</th>\n",
              "      <th>pickup_latitude</th>\n",
              "      <th>pickup_longitude</th>\n",
              "      <th>dropoff_latitude</th>\n",
              "      <th>dropoff_longitude</th>\n",
              "      <th>passenger_count</th>\n",
              "      <th>dist_km</th>\n",
              "    </tr>\n",
              "  </thead>\n",
              "  <tbody>\n",
              "    <tr>\n",
              "      <th>51013</th>\n",
              "      <td>13</td>\n",
              "      <td>1</td>\n",
              "      <td>5</td>\n",
              "      <td>0.137835</td>\n",
              "      <td>-0.135782</td>\n",
              "      <td>0.136943</td>\n",
              "      <td>-0.140388</td>\n",
              "      <td>-0.518257</td>\n",
              "      <td>-0.048468</td>\n",
              "    </tr>\n",
              "    <tr>\n",
              "      <th>11456</th>\n",
              "      <td>23</td>\n",
              "      <td>1</td>\n",
              "      <td>6</td>\n",
              "      <td>0.135027</td>\n",
              "      <td>-0.140099</td>\n",
              "      <td>0.137124</td>\n",
              "      <td>-0.135060</td>\n",
              "      <td>-0.518257</td>\n",
              "      <td>-0.030755</td>\n",
              "    </tr>\n",
              "    <tr>\n",
              "      <th>9693</th>\n",
              "      <td>3</td>\n",
              "      <td>0</td>\n",
              "      <td>4</td>\n",
              "      <td>0.142997</td>\n",
              "      <td>-0.134898</td>\n",
              "      <td>0.138698</td>\n",
              "      <td>-0.139930</td>\n",
              "      <td>-0.518257</td>\n",
              "      <td>-0.043326</td>\n",
              "    </tr>\n",
              "    <tr>\n",
              "      <th>52001</th>\n",
              "      <td>9</td>\n",
              "      <td>0</td>\n",
              "      <td>6</td>\n",
              "      <td>0.131347</td>\n",
              "      <td>-0.141163</td>\n",
              "      <td>0.132937</td>\n",
              "      <td>-0.143908</td>\n",
              "      <td>2.558423</td>\n",
              "      <td>-0.047698</td>\n",
              "    </tr>\n",
              "    <tr>\n",
              "      <th>23535</th>\n",
              "      <td>19</td>\n",
              "      <td>1</td>\n",
              "      <td>5</td>\n",
              "      <td>0.132095</td>\n",
              "      <td>-0.141385</td>\n",
              "      <td>0.127312</td>\n",
              "      <td>-0.144980</td>\n",
              "      <td>-0.518257</td>\n",
              "      <td>-0.043708</td>\n",
              "    </tr>\n",
              "  </tbody>\n",
              "</table>\n",
              "</div>"
            ],
            "text/plain": [
              "      Hour AMorPM Weekday  ...  dropoff_longitude  passenger_count   dist_km\n",
              "51013   13      1       5  ...          -0.140388        -0.518257 -0.048468\n",
              "11456   23      1       6  ...          -0.135060        -0.518257 -0.030755\n",
              "9693     3      0       4  ...          -0.139930        -0.518257 -0.043326\n",
              "52001    9      0       6  ...          -0.143908         2.558423 -0.047698\n",
              "23535   19      1       5  ...          -0.144980        -0.518257 -0.043708\n",
              "\n",
              "[5 rows x 9 columns]"
            ]
          },
          "metadata": {
            "tags": []
          },
          "execution_count": 21
        }
      ]
    },
    {
      "cell_type": "markdown",
      "metadata": {
        "id": "_oCxNy_X3Mp9"
      },
      "source": [
        "## Embeddings"
      ]
    },
    {
      "cell_type": "code",
      "metadata": {
        "id": "vCvmV8v1wMPs",
        "colab": {
          "base_uri": "https://localhost:8080/"
        },
        "outputId": "0ba5ff7e-8c10-442e-ea38-f86f4263b3eb"
      },
      "source": [
        "cat_szs = [len(df[col].cat.categories) for col in cat_cols]\n",
        "emb_szs = [(size, min(50, (size+1)//2)) for size in cat_szs]\n",
        "emb_szs"
      ],
      "execution_count": 22,
      "outputs": [
        {
          "output_type": "execute_result",
          "data": {
            "text/plain": [
              "[(24, 12), (2, 1), (7, 4)]"
            ]
          },
          "metadata": {
            "tags": []
          },
          "execution_count": 22
        }
      ]
    },
    {
      "cell_type": "code",
      "metadata": {
        "id": "i_4YuUvx46la",
        "colab": {
          "base_uri": "https://localhost:8080/"
        },
        "outputId": "eb1cf976-c307-438c-d18e-4750dfefa347"
      },
      "source": [
        "type(emb_szs)"
      ],
      "execution_count": 23,
      "outputs": [
        {
          "output_type": "execute_result",
          "data": {
            "text/plain": [
              "list"
            ]
          },
          "metadata": {
            "tags": []
          },
          "execution_count": 23
        }
      ]
    },
    {
      "cell_type": "code",
      "metadata": {
        "id": "xB0WRovpW2Ui",
        "colab": {
          "base_uri": "https://localhost:8080/"
        },
        "outputId": "c519ea96-0024-4fb1-ef87-5c7dc8105da0"
      },
      "source": [
        "X_train.shape\n"
      ],
      "execution_count": 24,
      "outputs": [
        {
          "output_type": "execute_result",
          "data": {
            "text/plain": [
              "(72000, 9)"
            ]
          },
          "metadata": {
            "tags": []
          },
          "execution_count": 24
        }
      ]
    },
    {
      "cell_type": "code",
      "metadata": {
        "id": "AL4mUwLxW5Xa",
        "colab": {
          "base_uri": "https://localhost:8080/"
        },
        "outputId": "95b6dd30-3748-4d72-b759-6cef9e0fa034"
      },
      "source": [
        "X_val.shape"
      ],
      "execution_count": 25,
      "outputs": [
        {
          "output_type": "execute_result",
          "data": {
            "text/plain": [
              "(18000, 9)"
            ]
          },
          "metadata": {
            "tags": []
          },
          "execution_count": 25
        }
      ]
    },
    {
      "cell_type": "code",
      "metadata": {
        "id": "I-N__07EXSo2",
        "colab": {
          "base_uri": "https://localhost:8080/"
        },
        "outputId": "fb9cec16-1dbd-4896-fd52-b21faf8387bb"
      },
      "source": [
        "y_train.shape"
      ],
      "execution_count": 26,
      "outputs": [
        {
          "output_type": "execute_result",
          "data": {
            "text/plain": [
              "(72000,)"
            ]
          },
          "metadata": {
            "tags": []
          },
          "execution_count": 26
        }
      ]
    },
    {
      "cell_type": "code",
      "metadata": {
        "id": "7Hvf57M-XVw4",
        "colab": {
          "base_uri": "https://localhost:8080/"
        },
        "outputId": "ba78d51c-1048-46cf-8555-1592c8146c63"
      },
      "source": [
        "y_val.shape"
      ],
      "execution_count": 27,
      "outputs": [
        {
          "output_type": "execute_result",
          "data": {
            "text/plain": [
              "(18000,)"
            ]
          },
          "metadata": {
            "tags": []
          },
          "execution_count": 27
        }
      ]
    },
    {
      "cell_type": "markdown",
      "metadata": {
        "id": "DPSMOoA_5cRV"
      },
      "source": [
        "#Model"
      ]
    },
    {
      "cell_type": "markdown",
      "metadata": {
        "id": "PUt8V_eR56DU"
      },
      "source": [
        "##Pytorch data set datasets and dataloaders"
      ]
    },
    {
      "cell_type": "code",
      "metadata": {
        "id": "q2uUbOcllJdF"
      },
      "source": [
        "class RegressionColumnarDataset(data.Dataset):\n",
        "    def __init__(self, df, cats, y):\n",
        "        \n",
        "        \n",
        "        self.dfcats = df[cats] #type: pandas.core.frame.DataFrame\n",
        "        self.dfconts = df.drop(cats, axis=1) #type: pandas.core.frame.DataFrame\n",
        "        \n",
        "        \n",
        "        self.cats = np.stack([c.values for n, c in self.dfcats.items()], axis=1).astype(np.int64) #tpye: numpy.ndarray\n",
        "        self.conts = np.stack([c.values for n, c in self.dfconts.items()], axis=1).astype(np.float32) #tpye: numpy.ndarray\n",
        "        self.y = y.values.astype(np.float32)\n",
        "        \n",
        "        \n",
        "    def __len__(self): return len(self.y)\n",
        "\n",
        "    def __getitem__(self, idx):\n",
        "        \n",
        "        return [self.cats[idx], self.conts[idx], self.y[idx]]\n",
        "        \n",
        "        "
      ],
      "execution_count": 28,
      "outputs": []
    },
    {
      "cell_type": "code",
      "metadata": {
        "id": "kJ2KTRgolJA7"
      },
      "source": [
        "trainds = RegressionColumnarDataset(X_train, cat_cols, y_train) #type: __main__.RegressionColumnarDataset\n",
        "valds = RegressionColumnarDataset(X_val, cat_cols, y_val) #type: __main__.RegressionColumnarDataset"
      ],
      "execution_count": 29,
      "outputs": []
    },
    {
      "cell_type": "code",
      "metadata": {
        "id": "4iJaFR-24gFf"
      },
      "source": [
        "params = {'batch_size': 128,\n",
        "          'shuffle': True}\n",
        "\n",
        "\n",
        "traindl = DataLoader(trainds, **params) #type: torch.utils.data.dataloader.DataLoader\n",
        "valdl = DataLoader(valds, **params) #type: torch.utils.data.dataloader.DataLoader"
      ],
      "execution_count": 30,
      "outputs": []
    },
    {
      "cell_type": "markdown",
      "metadata": {
        "id": "HXMjyAMC-hNo"
      },
      "source": [
        "##Tabular Model"
      ]
    },
    {
      "cell_type": "code",
      "metadata": {
        "id": "dynnFczJ8UhL"
      },
      "source": [
        "# help functions\n",
        "\n",
        "from collections.abc import Iterable\n",
        "\n",
        "\n",
        "def bn_drop_lin(n_in:int, n_out:int, bn:bool=True, p:float=0., actn=None):\n",
        "    \"Sequence of batchnorm (if `bn`), dropout (with `p`) and linear (`n_in`,`n_out`) layers followed by `actn`.\"\n",
        "    layers = [nn.BatchNorm1d(n_in)] if bn else []\n",
        "    if p != 0: layers.append(nn.Dropout(p))\n",
        "    layers.append(nn.Linear(n_in, n_out))\n",
        "    if actn is not None: layers.append(actn)\n",
        "    return layers\n",
        "\n",
        "def ifnone(a,b):\n",
        "    \"`a` if `a` is not None, otherwise `b`.\"\n",
        "    return b if a is None else a\n",
        "\n",
        "def listify(p, q):\n",
        "    \"Make `p` listy and the same length as `q`.\"\n",
        "    if p is None: p=[]\n",
        "    elif isinstance(p, str):          p = [p]\n",
        "    elif not isinstance(p, Iterable): p = [p]\n",
        "    #Rank 0 tensors in PyTorch are Iterable but don't have a length.\n",
        "    else:\n",
        "        try: a = len(p)\n",
        "        except: p = [p]\n",
        "    n = q if type(q)==int else len(p) if q is None else len(q)\n",
        "    if len(p)==1: p = p * n\n",
        "    assert len(p)==n, f'List len mismatch ({len(p)} vs {n})'\n",
        "    return list(p)\n",
        "\n",
        "              \n",
        "\n",
        "class TabularModel(nn.Module):\n",
        "    \"Basic model for tabular data.\"\n",
        "    def __init__(self, emb_szs, n_cont:int, out_sz:int, layers, ps=None,\n",
        "                 emb_drop:float=0., y_range=None, use_bn:bool=True, bn_final:bool=False):\n",
        "        super().__init__()\n",
        "        ps = ifnone(ps, [0]*len(layers))\n",
        "        ps = listify(ps, layers)\n",
        "        self.embeds = nn.ModuleList([nn.Embedding(ni, nf) for ni,nf in emb_szs]) #type: torch.nn.modules.container.ModuleList\n",
        "        self.emb_drop = nn.Dropout(emb_drop) #type: torch.nn.modules.dropout.Dropout\n",
        "        self.bn_cont = nn.BatchNorm1d(n_cont) #type torch.nn.modules.batchnorm.BatchNorm1d\n",
        "        n_emb = sum(e.embedding_dim for e in self.embeds) # n_emb = 17 , type: int\n",
        "        self.n_emb,self.n_cont,self.y_range = n_emb,n_cont,y_range\n",
        "        sizes = [n_emb + n_cont] + layers + [out_sz] #typeL list, len: 4\n",
        "        actns = [nn.ReLU(inplace=True) for _ in range(len(sizes)-2)] + [None] #type: list, len: 3.  the last in None because we finish with linear\n",
        "        layers = []\n",
        "        for i,(n_in,n_out,dp,act) in enumerate(zip(sizes[:-1],sizes[1:],[0.]+ps,actns)):\n",
        "            layers += bn_drop_lin(n_in, n_out, bn=use_bn and i!=0, p=dp, actn=act)\n",
        "        if bn_final: layers.append(nn.BatchNorm1d(sizes[-1]))\n",
        "        self.layers = nn.Sequential(*layers) #type: torch.nn.modules.container.Sequential\n",
        "        \n",
        "\n",
        "\n",
        "\n",
        "    def forward(self, x_cat, x_cont):\n",
        "        if self.n_emb != 0:\n",
        "            x = [e(x_cat[:,i]) for i,e in enumerate(self.embeds)] #take the embedding list and grab an embedding and pass in our single row of data.        \n",
        "            x = torch.cat(x, 1) # concatenate it on dim 1 ## remeber that the len is the batch size\n",
        "            x = self.emb_drop(x) # pass it through a dropout layer\n",
        "        if self.n_cont != 0:\n",
        "            x_cont = self.bn_cont(x_cont) # batchnorm1d\n",
        "            x = torch.cat([x, x_cont], 1) if self.n_emb != 0 else x_cont # combine the categircal and continous variables on dim 1\n",
        "        x = self.layers(x)\n",
        "        if self.y_range is not None:\n",
        "            x = (self.y_range[1]-self.y_range[0]) * torch.sigmoid(x) + self.y_range[0] # deal with y_range\n",
        "        return x.squeeze()\n",
        "    "
      ],
      "execution_count": 31,
      "outputs": []
    },
    {
      "cell_type": "code",
      "metadata": {
        "id": "voS5fTPF-mFb",
        "colab": {
          "base_uri": "https://localhost:8080/"
        },
        "outputId": "21e1a259-6736-4fe4-947c-a02f2107a752"
      },
      "source": [
        "torch.manual_seed(33)"
      ],
      "execution_count": 32,
      "outputs": [
        {
          "output_type": "execute_result",
          "data": {
            "text/plain": [
              "<torch._C.Generator at 0x7f3da81b89f0>"
            ]
          },
          "metadata": {
            "tags": []
          },
          "execution_count": 32
        }
      ]
    },
    {
      "cell_type": "code",
      "metadata": {
        "id": "Qdy8Vq-eRPvh",
        "colab": {
          "base_uri": "https://localhost:8080/"
        },
        "outputId": "481a5df8-94a8-4714-d32e-d6916b25091e"
      },
      "source": [
        "y_range = (0, y_train.max()*1.2)\n",
        "y_range"
      ],
      "execution_count": 33,
      "outputs": [
        {
          "output_type": "execute_result",
          "data": {
            "text/plain": [
              "(0, 6.357980839857643)"
            ]
          },
          "metadata": {
            "tags": []
          },
          "execution_count": 33
        }
      ]
    },
    {
      "cell_type": "code",
      "metadata": {
        "id": "UxDTmxl6_N_8",
        "colab": {
          "base_uri": "https://localhost:8080/"
        },
        "outputId": "94bbaa78-3881-42f1-bc47-1b3a1e3ef795"
      },
      "source": [
        "model = TabularModel(emb_szs = emb_szs,n_cont = len(cont_cols),out_sz = 1,layers = [1000,500,250],ps= [0.001,0.01,0.01],emb_drop=0.04, y_range=y_range).to(device)\n",
        "model"
      ],
      "execution_count": 34,
      "outputs": [
        {
          "output_type": "execute_result",
          "data": {
            "text/plain": [
              "TabularModel(\n",
              "  (embeds): ModuleList(\n",
              "    (0): Embedding(24, 12)\n",
              "    (1): Embedding(2, 1)\n",
              "    (2): Embedding(7, 4)\n",
              "  )\n",
              "  (emb_drop): Dropout(p=0.04, inplace=False)\n",
              "  (bn_cont): BatchNorm1d(6, eps=1e-05, momentum=0.1, affine=True, track_running_stats=True)\n",
              "  (layers): Sequential(\n",
              "    (0): Linear(in_features=23, out_features=1000, bias=True)\n",
              "    (1): ReLU(inplace=True)\n",
              "    (2): BatchNorm1d(1000, eps=1e-05, momentum=0.1, affine=True, track_running_stats=True)\n",
              "    (3): Dropout(p=0.001, inplace=False)\n",
              "    (4): Linear(in_features=1000, out_features=500, bias=True)\n",
              "    (5): ReLU(inplace=True)\n",
              "    (6): BatchNorm1d(500, eps=1e-05, momentum=0.1, affine=True, track_running_stats=True)\n",
              "    (7): Dropout(p=0.01, inplace=False)\n",
              "    (8): Linear(in_features=500, out_features=250, bias=True)\n",
              "    (9): ReLU(inplace=True)\n",
              "    (10): BatchNorm1d(250, eps=1e-05, momentum=0.1, affine=True, track_running_stats=True)\n",
              "    (11): Dropout(p=0.01, inplace=False)\n",
              "    (12): Linear(in_features=250, out_features=1, bias=True)\n",
              "  )\n",
              ")"
            ]
          },
          "metadata": {
            "tags": []
          },
          "execution_count": 34
        }
      ]
    },
    {
      "cell_type": "markdown",
      "metadata": {
        "id": "mCqq3sfY_mku"
      },
      "source": [
        "## optimizer"
      ]
    },
    {
      "cell_type": "code",
      "metadata": {
        "id": "sOkFdhVN4Z6_"
      },
      "source": [
        "from collections import defaultdict\n",
        "opt = torch.optim.Adam(model.parameters(), lr=1e-2) # can add: weight_decay=\n",
        "#lr_cosine = lr_scheduler.CosineAnnealingLR(opt,T_max = 350) #1000 ## if you want to add lr_cosine\n",
        "\n",
        "\n",
        "\n",
        "lr = defaultdict(list)\n",
        "tloss = defaultdict(list)\n",
        "vloss = defaultdict(list)"
      ],
      "execution_count": 35,
      "outputs": []
    },
    {
      "cell_type": "markdown",
      "metadata": {
        "id": "dgSawsRpCd40"
      },
      "source": [
        "##Train and Fit"
      ]
    },
    {
      "cell_type": "code",
      "metadata": {
        "id": "IQ4sEx4NsAjO"
      },
      "source": [
        "def inv_y(y): return np.exp(y)\n",
        "\n",
        "def rmse(targ, y_pred):\n",
        "    return np.sqrt(mean_squared_error(inv_y(y_pred), inv_y(targ))) #.detach().numpy()\n",
        "    \n",
        "\n",
        "def rmse(targ, y_pred):\n",
        "   return np.sqrt(mean_squared_error(y_pred, targ)) #.detach().numpy()\n",
        "\n",
        "\n",
        "#def fit(model, train_dl, val_dl, loss_fn, opt, scheduler, epochs=3): ## if you want to add schedular\n",
        "def fit(model, train_dl, val_dl, loss_fn, opt, epochs=3):\n",
        "    num_batch = len(train_dl)\n",
        "    for epoch in tnrange(epochs):      \n",
        "        y_true_train = list()\n",
        "        y_pred_train = list()\n",
        "        total_loss_train = 0          \n",
        "        \n",
        "        t = tqdm_notebook(iter(train_dl), leave=False, total=num_batch)\n",
        "        for cat, cont, y in t:\n",
        "            cat = cat.cuda()\n",
        "            cont = cont.cuda()\n",
        "            y = y.cuda()\n",
        "            \n",
        "            t.set_description(f'Epoch {epoch}')\n",
        "            \n",
        "            opt.zero_grad() #find where the grads are zero\n",
        "            pred = model(cat, cont)\n",
        "            loss = loss_fn(pred, y)\n",
        "            \n",
        "            loss.backward() # do backprop\n",
        "            lr[epoch].append(opt.param_groups[0]['lr'])\n",
        "            tloss[epoch].append(loss.item())\n",
        "            opt.step()\n",
        "            #scheduler.step()\n",
        "            \n",
        "            \n",
        "            t.set_postfix(loss=loss.item())\n",
        "            \n",
        "            y_true_train += list(y.cpu().data.numpy())\n",
        "            y_pred_train += list(pred.cpu().data.numpy())\n",
        "            total_loss_train += loss.item()\n",
        "            \n",
        "        train_acc = rmse(y_true_train, y_pred_train)\n",
        "        train_loss = total_loss_train/len(train_dl) # len train_dl = 704. the calc is number of train examples (89991) / batch size (128)\n",
        "        \n",
        "        if val_dl:\n",
        "            y_true_val = list()\n",
        "            y_pred_val = list()\n",
        "            total_loss_val = 0\n",
        "            for cat, cont, y in tqdm_notebook(val_dl, leave=False):\n",
        "                cat = cat.cuda()\n",
        "                cont = cont.cuda()\n",
        "                y = y.cuda()\n",
        "                pred = model(cat, cont)\n",
        "                loss = loss_fn(pred, y)\n",
        "                \n",
        "                y_true_val += list(y.cpu().data.numpy())\n",
        "                y_pred_val += list(pred.cpu().data.numpy())\n",
        "                total_loss_val += loss.item()\n",
        "                vloss[epoch].append(loss.item())\n",
        "            valacc = rmse(y_true_val, y_pred_val)\n",
        "            valloss = total_loss_val/len(valdl)\n",
        "            print(f'Epoch {epoch}: train_loss: {train_loss:.4f} train_rmse: {train_acc:.4f} | val_loss: {valloss:.4f} val_rmse: {valacc:.4f}')\n",
        "        else:\n",
        "            print(f'Epoch {epoch}: train_loss: {train_loss:.4f} train_rmse: {train_acc:.4f}')\n",
        "    \n",
        "    return lr, tloss, vloss"
      ],
      "execution_count": 36,
      "outputs": []
    },
    {
      "cell_type": "markdown",
      "metadata": {
        "id": "CUORRsg-CWKp"
      },
      "source": [
        "## Train the model"
      ]
    },
    {
      "cell_type": "code",
      "metadata": {
        "id": "wAD4aful_uFX",
        "colab": {
          "base_uri": "https://localhost:8080/",
          "height": 1000,
          "referenced_widgets": [
            "04cefbeb33d444baa9951df87dca067d",
            "96a7b926427141f6946792511f4dcb74",
            "347c1f219c4b4c418f3ea93e29ffbee1",
            "119a54643608496c9b519e3f9157590a",
            "c21bfabd7ff64ab69e36cfab8ce8f812",
            "8a1bcb7871824e1e99b4afeeabfd6b9d",
            "8e5c5bf9ab72420eb8fdd5e000723c6a",
            "dca69256bd424e7b9bbafb30d1d10e18",
            "bd73166dc8e14533a04dfb56a16f67bb",
            "6395907bf20045c78dc763fd00489a15",
            "eecdba07e35744db9931d9050bd6c292",
            "a68ca039c83441cfad96855234f55c73",
            "d7002ac2702449c7949fd11a3b554ad1",
            "a3b09d5776f84f56a1f8d0d34d1a1cb3",
            "522bf10775cc42a09b4e2f96ec8a2c13",
            "5e7edf09794247c0abe058daa9945101",
            "b0629bd802cf4b0db353c361c675278e",
            "8af26f598c694301ac10cac42e8294a6",
            "8bf1ee9c435247fba3752206f940e521",
            "3c0277a393014ed2b6e5b2325eea4e33",
            "3271836a1dc543e1bd308e5ecfb52338",
            "2ce2d596d32940e19f4993694684518a",
            "a8585746d4494fd9a719ed3bd5fed46e",
            "a08e83816d1640768bd5be4e61694d72",
            "bc9d3b6af36347fd905111d450f140f9",
            "f72dfb84f3f6436fb1b39deb21365cb6",
            "55270fb9f03e454989d3c121e1b6f528",
            "d8f49b6c63fc41f3aeebf867fc1b10ff",
            "55ae75b41aee453892b02fd08db4c1d5",
            "b20ceb707497499f8b761b829b57185b",
            "e44528c52d8840cca93264618ed60539",
            "f25d2ba2661d4f298b9e3c10d8552596",
            "172428f5366d4de2af76ce92fceaaf06",
            "f303d4631f894bf489886b1c1a9c86e8",
            "31a6e90b6bf14b98b9cd2a4a2d59a8cf",
            "10f4d56873c04d4c89f9f4dae05c70ae",
            "9717099e9a294b21829027202e1f3c73",
            "dba24e46ebe646ca97e67310757955ce",
            "15c14ea191bd412bba807cf8376233e0",
            "8374c4d0a3a649fcb301d00e2a901e38",
            "2ff5289db001468d9aed5b879b281b08",
            "e4484e87ad41454f85e2de117d6ce8f5",
            "e958949f99d948deb6e5deaf28e5631d",
            "cce103dde78544618134a8c0f908c378",
            "44f9a5b9c0e34437af60d13a9fffd279",
            "85e39373aafb4b3da09cf5c889ac26ec",
            "828bc93728d94214ba7887c656577f64",
            "569b310a64a049f79b59617aed8a8e70",
            "d16806b103b04ef2b5e6d0707f710214",
            "ab6923a0d6d745c4b8202ac0ffc466f0",
            "3173bbcf11364491a468bff80e3c4878",
            "2375f69e8035451c90de6f34c32110ce",
            "97c11716c57f47e48b4554ada20cd1dd",
            "b1381bbb53e946969d1873191281113e",
            "4158776e7e0d4f3883b60946a51b53b3",
            "0835f0ccd67943c0bc00f19cf4150b59",
            "3ce3b26568a44b838a266ddfa1adcad9",
            "807b58ccb7654fb6a178da55a749bdf4",
            "cd8fd31053604fd490caba17da16d875",
            "575ce2d2ae874c87bb96d4cf0e265c23",
            "ead2abdb3a42407099d39dbf7288a473",
            "815c3a5831684387b9d7674c6b95d3c2",
            "3b98764971a04f108a3263e78c84f999",
            "ab48edf127a74d0a997fd010478f71cc",
            "b478a2165a514e5787b24523df44dc4c",
            "09b108b7578847afb7bf744a5794a6f1",
            "328c2fd3af7147c6acee5ab2a67bf04e",
            "2283628f4b8f45f7a91c9170a852cca5",
            "90225465c2fc4a36b4742b1870985082",
            "c3b116da293b4f9b8dca0425aedaab76",
            "e0cd6db222bf41c8bc2ce49c7eba67da",
            "679f2bedb9de4268ab8bddf3fb9d3ee5",
            "fce29faf834c4894a33f74241d31ac07",
            "8e314589e3714582a02120fef3eb49b7",
            "9eec39ab4ace4ce6bd9f7c28948fe6b4",
            "af63ae5cad6b47349a89b2d69e626c36",
            "3376ceb66f9c470daf68a8cd2593fbd5",
            "fbd79cb1d714426592e3ec2fdde587e0",
            "051db7f2b9e04b61b2d2816fd96fcb6e",
            "8511456bc04d43a4bf689c8bca5b7c56",
            "4bba5924f2f24f2f80871f39b969388c",
            "c800615d9f344dd8ae67ef03a630c000",
            "503442fc7aee4590847b8d1c75f5673a",
            "1f2848aa487a40dc8dee75a5fbd9b90c",
            "6d2966b00e4f42ca9d1657d109161a63",
            "c4ce230881d44279a20a643620f5b43d",
            "7120abbbd3d942e883073d095574e768",
            "25f7c856420c4457b1c52daeec2d3fb2",
            "53ec5e0e22c0421fb73137b6d736f97b",
            "fd504e1a9276425baa6b24890f765faf",
            "16ba253aeb5c4fd7a5df05fec7a219ca",
            "56dd14317250493d893ce6411073b840",
            "bfbc665a2037471faf9650cc9bff1aaa",
            "be3b715814294a028fda8c8b65db8f3c",
            "8ab04661ed844d319313e36c5700f229",
            "35fe1424e0ba4e2ca530fb9e3bd40c7d",
            "38f5b40c9efd47a58d7ee61c5110a87e",
            "fac3244fbd244a26a9874002ef5f9b44",
            "6ebbb77969eb4c93afd002630e630910",
            "3fcd0aa36dff412996e231126cf8dfef",
            "72145e9ae28e4bb1acf249cf4bff4ae0",
            "d93b08e9387a4e57adeacfb172edc006",
            "a2d585fe4be1424495d2eb7b9fe43268",
            "f290bee9c79f41aaaa46139e13d907f9",
            "a6605b38c5c749128edc055f5425b4ad",
            "40420b01b06a4dcc8e430ed00742c9ee",
            "c7625bb40c2a4bf6a683eae6415ab616",
            "3feec443a4f04834abdc9042f7e39fd3",
            "af07a035c1e04abf94c942c70f7bb89a",
            "b936ba4d3202471b8bd9618788d32e29",
            "178eb5f3c43947709d14d0384cbacd7a",
            "ab2287c1b9834fea8e0d4fea964bdd15",
            "292f25f23a914c7ba12371060746757e",
            "70d05b53c4ef447d9363a307bb8ea742",
            "1f3beca9b8ed4204814327cd131c8ce6",
            "2f96981d029e4daf9237c4786de8b76e",
            "9a6357fcd39b44fca85cfcc107a92d95",
            "83a4c8ccf5824baa8ff9e8293a9f8291",
            "7da1da4c61114db7aa2474489ced2724",
            "cb7c7727bbf948d5b1f1cce54b90aa52",
            "899bbc5298d64419bacc149722464787",
            "ba65582559da4cb8b86b38aadc891d5e",
            "5de7e6afd14a4277902e44c0307b047c",
            "412ece64e8d4428e9245a934c8b81fdc",
            "78c06233b2c34e70839f447e2db7aece",
            "9a6f45a85ee6425f89ab848ebf5c421e",
            "b3c12ffb2a9f4c8cb157fb5b20b28f18",
            "c2dc14eddcc2485f8677d7c6d882bff9",
            "9aeec0faaf894200b7567ba0b6a305d2",
            "01c8a7f55a75408c8785200a0f3ed44a",
            "e28bd076b6224c5dbed4e3e96084c44d",
            "495b7ecd17d44b3d8313f856ae85c7b1",
            "1a908a0e732446cb8c50686d663e07fe",
            "9a1eba96b2534b04ac77f47da9ab10e9",
            "3edefd5ed0784411a9233762a44deada",
            "61c4e268a0a34f9f8833cf70d3cf67c8",
            "dab2470e24bc4b3db2c2c834daeb57a6",
            "ff5614d69f5d4284ad50f4ecdd3f336a",
            "c7c4f30ac3b14bdba602987705f68cc9",
            "5b4df19ce54f4fff943323d2cf43a32f",
            "4ab923efb2b04edfb9a508f3de0c40d7",
            "6668ee8a4a0a4deba6273e0c1ddac13b",
            "557823ed0fa84a4d9abb42decd18f564",
            "53a276b59d0c4b66a5fb33a2089ce9de",
            "304d89b95f0f46c09a29f9f37eb057cd",
            "f3f8ea884dd648a0b9f9ff67a27a3227",
            "7219f615445741ffbeecb7457bba699f",
            "fb2404b1f8f24d34bf28c1842a69c90a",
            "b7e0ce980a884eb486970389681465fd",
            "7bce5cd7095b4edd9df36beb548dd2a1",
            "b430c486edbf49e0aca6191c28b2ba3a",
            "25853851f8204cf7b19188f84d44d47d",
            "2ebd7699b5014023a8bc699a6e9922b4",
            "c2ad68b384074c27a7fce28bfd64b734",
            "a1540d2fe217432db0c26002a29e9f8c",
            "ea9c83f6e4ee407ea332d4d3005732a7",
            "00d310b82cfc4c778d05630682944c56",
            "3d4128620ad945938ea7657fc5d276a5",
            "caa08444577a4ae9b5a5c10e3f26d190",
            "11d4ce177566438aad1f3a9c4848b397",
            "fc8f4676fa904dd5b8df337dee4c6218",
            "0f85f0c01921411081a25d2d0c6f8817",
            "c1d2be58d8214c7b858ef78608117c99",
            "8d93000dad724a578eb041e292daeeaf",
            "4c5cc7a5741f404c8866089478eb86e0",
            "5f1c08eb4c0a4a3781d577ccb1a5b999",
            "f52784168b2647f2bb4dbfd198d89626",
            "16a71afbd30543a594f27bbf4a2679ed",
            "181cc8cb17ed4344af23ca7b2a52f29b",
            "02ad717b67d549d19eba31f35d08440e",
            "d25cdd7904984e048f31e4ac631a9364",
            "df733a1f3364463da52ecfb87d5b8fa4",
            "ff743b3699d444e5a4f50dcc6b4e9f2b",
            "d3be2c9932764f268f17d71391f41914",
            "fb2af1013fea4df58b50e3f64f8e5a05",
            "5f6221f2dd314ecd9f92531552955079",
            "746b5c9336b1487cb36cafe59f00731d",
            "55ba47c17f43405b814e7857513957bc",
            "726d0a92d0bc4639aa35784798262e8b",
            "05a69f49c77046e99050f5c22db06102",
            "c8ad6ea24fa94abcae0653a79bb5f4c5",
            "4f937f722f284011b876a9dbb6a5702e",
            "fa539b6b23064fbf88b0c798a8430a2e",
            "a0e2e053b9dc406abff7191232dead48",
            "24f3dc9c00bd4480bb677ca646173975",
            "1bbee37f93184d96996a80c5b91d22e3",
            "944d1961317e48b2afb6a8b462a8167f",
            "ce20443b85034b02a5f67daf07cab047",
            "ae0f5d792cca4c709293141498210f7d",
            "c20589e9d7de49869c79d080331f0ead",
            "b8c2100002e646809e41b66e2b4d82b5",
            "9ec9a401c2334dacb65a0060b9fd9b31",
            "e1bc95fcf1964698af832e88e1ec2274",
            "220db66a6063450fa060a841575aae4b",
            "bd711b86cf2048a1bb5f2067c2ac0b6b",
            "7f92deb01c4447b299baa2741e039f18",
            "864f48507f604ce2a54e9cdfbd07087f",
            "c95be1ac13c84af7bba662da95c3cd25",
            "dd13a00dc14d4096899c0f68cf5fc827",
            "c4122ee852cd4f9bbf7ed53eea6481f6",
            "578b2e0e9e39432e87f473af6e02cfac",
            "49f98f4071a14560a2b6b94eccc17d1a",
            "71de9ecfc8764943805ef207d7713667",
            "6cf45987a0b24fd79b46a5a5a013b0ae",
            "848968f6ad1f43d8b94aad1d643a24b9",
            "63be65519c2e4a92919f5a827b7e2b64",
            "5b740e6b029544c080a501d8b2bc9610",
            "1c9c78a737934e5bb8ab5b2f6d9e685f",
            "f19af1883aff45ae99d1feef34b3f731",
            "5c23b4fcb79541d2bf3b6d046d9594f2",
            "ed8d49f342e842d495f83a14b04eb72f",
            "5100535150e6414a816fb89f1f1b228d",
            "e32d3e0474a74f17b0b696d5420b0f93",
            "2e92fd814dd2452abb3d92549b68e8ab",
            "13c3a8c9872049718291a37c4d751fd8",
            "248ebec9375942c0a5a06f37a3c5c478",
            "5f1f44b1bb9843d3878bbc65a8aba3b7",
            "6606757ba4524b5d9b4a0dec78629797",
            "253aac7799dc42c38384eeabb62a0904",
            "40fe4056bbb34c20b9a20510c29a0813",
            "3f6ddde323f44b55835fb213d5b7619c",
            "d46558f9539541bab9461171a412b49f",
            "55925b37735346a58e9ed0d8776c88e7",
            "63cc21fffa934ef5bfa7fd0f241260e9",
            "7299b7acabcd4f7e943a26bccf779464",
            "0e09978358464ffba14fa9a686cffff4",
            "26387a4b3be74efb803c658c209271fc",
            "a147dbb32bb4447c94e033fe6a6a2def",
            "3de4252794714e6eb85467f86ebf9629",
            "3fe5968f4de4416982c92f7a6c96aed0",
            "96bdec732e1b410da129418d26978a4b",
            "bfcc2a5a81594abdb8e8cff7a663a64c",
            "332d2f8d4c87483ea25ea19610500ade",
            "32fd955b56a54fc6aa8880df238b09f2",
            "0194d9924ba64b9090225306ee017197",
            "598ad41721dd411cb6bec5c8a7523ccd",
            "98dcf27155f44121b9c96640d5bc31c9",
            "48164af1b68b4b24b3d376d8ee37873e",
            "f3c9d406bc0747f694334adca03a6acb",
            "d8fa39cb5f8845848aab5bff30d74730",
            "22220b857b7a4e3597a35677fda8ed98",
            "9abd3e45e62b40e285355afc6284a93a",
            "7a5f5653d26a4e7f89b0dbcdb738de2e",
            "76698e30410f4241867b6dfe50653160",
            "92a668aa76844962bd3866f3ced198fe",
            "da5eac21a68947519355adfcb001b1df",
            "b2fd1f1a022a4cbe8d10a61de6033eca",
            "7f59343b911a44608d353e0a686199de",
            "164ea1ec0e024d0a890c1b35ef5d5bdd",
            "cbac2d033586498c97aa09233eea22eb",
            "c9843bcff05842369c0fb9c52403d69f",
            "f17c62e61ab44f43a8f9dcfc76439103",
            "264c6e2beff149b1b1d64c887303c6f2",
            "a8d9daaf9ca2461cb33eb99169d0f73a",
            "4c5d465a42544e91afa5729f01725c05",
            "dac967a6709342eeb9bf7654dd0bcce4",
            "e2688c03d2de4ff6ab8c1f732f475981",
            "9d162e2559e04aa2b04ad6dd34d5c51c",
            "1831bafdf2fb4f3da58a58995ad75769",
            "ed2aee171ef94ec096d0fddabb09bd65",
            "f9dbda7f30f84a50a715034fa645895a",
            "8995b4245fc744ef9cf1fd99e88ddcb8",
            "bbda615ac97a44ed8c9e68a72e42ee46",
            "150b45b5d0384c88a21bd79454b0503f",
            "8ab3549b6c714c9bb5786620d907d54f",
            "88cdf742e4ef426ebdc935dd5bac0540",
            "6d84b642c70b41e68cba4df4d4322f95",
            "4916169aa7484446b575ebcd3c519b8c",
            "ad49f79d21ce468781cda08fbcc13f01",
            "f8e1e31157db4311a9647b002b06f1fc",
            "493dd1e1f5fc49e08804430dfa126a27",
            "076217b5bf1b4da68bcaf78c9b85e967",
            "45a3461f1ca142fea438ab0a33ce05bc",
            "87b7e4948e8c473d91c00be007b34b79",
            "2f7bb0f733ab4a719debcfce73516ee5",
            "017cbd1cc01d46579726088518a7e16c",
            "ccbe43a316474614ab697a538267035b",
            "c3ba3d6bf3974677a75a8fae96011881",
            "23eedfc73eb34f7b9d3494a9b101856e",
            "9d778490ccad4e1899c886ad9be00a84",
            "f471fca5d4b542ad918588c5ba72a17b",
            "92e6c190830e474f9903672501d113d7",
            "3bd162befac84875b7845c64b78ba1bd",
            "0316a4cd8bc84a718c8625870294f30a",
            "5b2ba2e9bd0d4ee49e7301afad071272",
            "d99d89c087d647e5b48c2876385398ac",
            "3cc38fd2352647a28611f507b4c39b5d",
            "cf53db4698fb488a950382cab91c9b9e",
            "f24871e0f83443468805eb06c87f7a04",
            "1a834e4afcf54aa8b2fd33f487af116b",
            "26a2f22aa9984ed19754963754c1f5e9",
            "dd577ab19a91441f849cd992cb434e23",
            "4a16a473bd4d4aaea992a6517590e6fa",
            "3e51ee5721d8496f896b86c7d7e9e9ab",
            "c0b00af4468343e88fe72d36a6101774",
            "0e5d0ada9de54313967f447ef36d4595",
            "9ecfdd2f579447c1b1f37a7120939a42",
            "57173659f72d44a1937eab184996ce04",
            "e183021839b044eb864a48e5d9f4299e",
            "433e8f773ff74a589b6edccb0d2c114e",
            "9ee7c1b4ac414be8860a29565a759cb7",
            "b113be9f9f3547d3a28c9e712af7cd07",
            "96fd747098b9415496605bb690cfe350",
            "00c33eca25bd46b28a733aed0b9f8c91",
            "b588f5cfe8374031a6a556e0adfd719b",
            "760f76ebb3f14db59686587046f3a5c8",
            "8b3f815d35924d9face175ab546fc26a",
            "1f9b7e79d3e249db9367dea37f9a1975",
            "86e3ec0216a6474699a2aadda3041b50",
            "557cc69554694fc38c3e5e18bf25d68c",
            "283b0d3b128547ffb353a99f023cebe7",
            "718d159ecc6f4b6385417b2a50e7ffd5",
            "5369e6aa7cef41bda1def03a0bb4cf64",
            "a7c712b0259242b8bf0d1e42765aaf7f",
            "3bd0336fd46c4589b4c5b8cde11f9350",
            "e3dbb3f750b44e96ad6cdb4c56bc8e83",
            "789e16193e5343e6a4defc684817c3cb",
            "99c2307ef9a047049711944eafe9ecae",
            "9e244c09139b46539e88f54faa8a07ab",
            "7ccb177c977e4657ba62d869303e321f",
            "3f1ee922df274e7ea084481585901c87",
            "fa19e24a3e6e446c85d38874a78f91d7",
            "410f1dcd7b994ace86ea4a9e4bb9babf",
            "ab5fa36dd64a4e1a8647660de5f43554",
            "524fd2c653e94fa2b4b3f74af4510a1e",
            "dcbb8070e21247a389ba7985aa5a51fe",
            "cd82580ce82847e7b79b157c357a81f6",
            "1d4c794419a74efdaee51f1add291dff"
          ]
        },
        "outputId": "8a9f9f7b-e3cb-445f-bd58-86b2174c5882"
      },
      "source": [
        "lr, tloss, vloss = fit(model=model, train_dl=traindl, val_dl=valdl, loss_fn=nn.MSELoss(), opt=opt,  epochs=20)"
      ],
      "execution_count": 37,
      "outputs": [
        {
          "output_type": "stream",
          "text": [
            "/usr/local/lib/python3.7/dist-packages/ipykernel_launcher.py:14: TqdmDeprecationWarning:\n",
            "\n",
            "Please use `tqdm.notebook.trange` instead of `tqdm.tnrange`\n",
            "\n"
          ],
          "name": "stderr"
        },
        {
          "output_type": "display_data",
          "data": {
            "application/vnd.jupyter.widget-view+json": {
              "model_id": "04cefbeb33d444baa9951df87dca067d",
              "version_minor": 0,
              "version_major": 2
            },
            "text/plain": [
              "HBox(children=(FloatProgress(value=0.0, max=20.0), HTML(value='')))"
            ]
          },
          "metadata": {
            "tags": []
          }
        },
        {
          "output_type": "stream",
          "text": [
            "/usr/local/lib/python3.7/dist-packages/ipykernel_launcher.py:19: TqdmDeprecationWarning:\n",
            "\n",
            "This function will be removed in tqdm==5.0.0\n",
            "Please use `tqdm.notebook.tqdm` instead of `tqdm.tqdm_notebook`\n",
            "\n"
          ],
          "name": "stderr"
        },
        {
          "output_type": "display_data",
          "data": {
            "application/vnd.jupyter.widget-view+json": {
              "model_id": "bd73166dc8e14533a04dfb56a16f67bb",
              "version_minor": 0,
              "version_major": 2
            },
            "text/plain": [
              "HBox(children=(FloatProgress(value=0.0, max=563.0), HTML(value='')))"
            ]
          },
          "metadata": {
            "tags": []
          }
        },
        {
          "output_type": "stream",
          "text": [
            "/usr/local/lib/python3.7/dist-packages/ipykernel_launcher.py:51: TqdmDeprecationWarning:\n",
            "\n",
            "This function will be removed in tqdm==5.0.0\n",
            "Please use `tqdm.notebook.tqdm` instead of `tqdm.tqdm_notebook`\n",
            "\n"
          ],
          "name": "stderr"
        },
        {
          "output_type": "display_data",
          "data": {
            "application/vnd.jupyter.widget-view+json": {
              "model_id": "b0629bd802cf4b0db353c361c675278e",
              "version_minor": 0,
              "version_major": 2
            },
            "text/plain": [
              "HBox(children=(FloatProgress(value=0.0, max=141.0), HTML(value='')))"
            ]
          },
          "metadata": {
            "tags": []
          }
        },
        {
          "output_type": "stream",
          "text": [
            "Epoch 0: train_loss: 0.2802 train_rmse: 0.5295 | val_loss: 0.1786 val_rmse: 0.4225\n"
          ],
          "name": "stdout"
        },
        {
          "output_type": "stream",
          "text": [
            "/usr/local/lib/python3.7/dist-packages/ipykernel_launcher.py:19: TqdmDeprecationWarning:\n",
            "\n",
            "This function will be removed in tqdm==5.0.0\n",
            "Please use `tqdm.notebook.tqdm` instead of `tqdm.tqdm_notebook`\n",
            "\n"
          ],
          "name": "stderr"
        },
        {
          "output_type": "display_data",
          "data": {
            "application/vnd.jupyter.widget-view+json": {
              "model_id": "bc9d3b6af36347fd905111d450f140f9",
              "version_minor": 0,
              "version_major": 2
            },
            "text/plain": [
              "HBox(children=(FloatProgress(value=0.0, max=563.0), HTML(value='')))"
            ]
          },
          "metadata": {
            "tags": []
          }
        },
        {
          "output_type": "stream",
          "text": [
            "/usr/local/lib/python3.7/dist-packages/ipykernel_launcher.py:51: TqdmDeprecationWarning:\n",
            "\n",
            "This function will be removed in tqdm==5.0.0\n",
            "Please use `tqdm.notebook.tqdm` instead of `tqdm.tqdm_notebook`\n",
            "\n"
          ],
          "name": "stderr"
        },
        {
          "output_type": "display_data",
          "data": {
            "application/vnd.jupyter.widget-view+json": {
              "model_id": "172428f5366d4de2af76ce92fceaaf06",
              "version_minor": 0,
              "version_major": 2
            },
            "text/plain": [
              "HBox(children=(FloatProgress(value=0.0, max=141.0), HTML(value='')))"
            ]
          },
          "metadata": {
            "tags": []
          }
        },
        {
          "output_type": "stream",
          "text": [
            "Epoch 1: train_loss: 0.1730 train_rmse: 0.4160 | val_loss: 0.1631 val_rmse: 0.4041\n"
          ],
          "name": "stdout"
        },
        {
          "output_type": "stream",
          "text": [
            "/usr/local/lib/python3.7/dist-packages/ipykernel_launcher.py:19: TqdmDeprecationWarning:\n",
            "\n",
            "This function will be removed in tqdm==5.0.0\n",
            "Please use `tqdm.notebook.tqdm` instead of `tqdm.tqdm_notebook`\n",
            "\n"
          ],
          "name": "stderr"
        },
        {
          "output_type": "display_data",
          "data": {
            "application/vnd.jupyter.widget-view+json": {
              "model_id": "2ff5289db001468d9aed5b879b281b08",
              "version_minor": 0,
              "version_major": 2
            },
            "text/plain": [
              "HBox(children=(FloatProgress(value=0.0, max=563.0), HTML(value='')))"
            ]
          },
          "metadata": {
            "tags": []
          }
        },
        {
          "output_type": "stream",
          "text": [
            "/usr/local/lib/python3.7/dist-packages/ipykernel_launcher.py:51: TqdmDeprecationWarning:\n",
            "\n",
            "This function will be removed in tqdm==5.0.0\n",
            "Please use `tqdm.notebook.tqdm` instead of `tqdm.tqdm_notebook`\n",
            "\n"
          ],
          "name": "stderr"
        },
        {
          "output_type": "display_data",
          "data": {
            "application/vnd.jupyter.widget-view+json": {
              "model_id": "d16806b103b04ef2b5e6d0707f710214",
              "version_minor": 0,
              "version_major": 2
            },
            "text/plain": [
              "HBox(children=(FloatProgress(value=0.0, max=141.0), HTML(value='')))"
            ]
          },
          "metadata": {
            "tags": []
          }
        },
        {
          "output_type": "stream",
          "text": [
            "Epoch 2: train_loss: 0.1532 train_rmse: 0.3914 | val_loss: 0.1325 val_rmse: 0.3642\n"
          ],
          "name": "stdout"
        },
        {
          "output_type": "stream",
          "text": [
            "/usr/local/lib/python3.7/dist-packages/ipykernel_launcher.py:19: TqdmDeprecationWarning:\n",
            "\n",
            "This function will be removed in tqdm==5.0.0\n",
            "Please use `tqdm.notebook.tqdm` instead of `tqdm.tqdm_notebook`\n",
            "\n"
          ],
          "name": "stderr"
        },
        {
          "output_type": "display_data",
          "data": {
            "application/vnd.jupyter.widget-view+json": {
              "model_id": "3ce3b26568a44b838a266ddfa1adcad9",
              "version_minor": 0,
              "version_major": 2
            },
            "text/plain": [
              "HBox(children=(FloatProgress(value=0.0, max=563.0), HTML(value='')))"
            ]
          },
          "metadata": {
            "tags": []
          }
        },
        {
          "output_type": "stream",
          "text": [
            "/usr/local/lib/python3.7/dist-packages/ipykernel_launcher.py:51: TqdmDeprecationWarning:\n",
            "\n",
            "This function will be removed in tqdm==5.0.0\n",
            "Please use `tqdm.notebook.tqdm` instead of `tqdm.tqdm_notebook`\n",
            "\n"
          ],
          "name": "stderr"
        },
        {
          "output_type": "display_data",
          "data": {
            "application/vnd.jupyter.widget-view+json": {
              "model_id": "b478a2165a514e5787b24523df44dc4c",
              "version_minor": 0,
              "version_major": 2
            },
            "text/plain": [
              "HBox(children=(FloatProgress(value=0.0, max=141.0), HTML(value='')))"
            ]
          },
          "metadata": {
            "tags": []
          }
        },
        {
          "output_type": "stream",
          "text": [
            "Epoch 3: train_loss: 0.1225 train_rmse: 0.3500 | val_loss: 0.1081 val_rmse: 0.3286\n"
          ],
          "name": "stdout"
        },
        {
          "output_type": "stream",
          "text": [
            "/usr/local/lib/python3.7/dist-packages/ipykernel_launcher.py:19: TqdmDeprecationWarning:\n",
            "\n",
            "This function will be removed in tqdm==5.0.0\n",
            "Please use `tqdm.notebook.tqdm` instead of `tqdm.tqdm_notebook`\n",
            "\n"
          ],
          "name": "stderr"
        },
        {
          "output_type": "display_data",
          "data": {
            "application/vnd.jupyter.widget-view+json": {
              "model_id": "fce29faf834c4894a33f74241d31ac07",
              "version_minor": 0,
              "version_major": 2
            },
            "text/plain": [
              "HBox(children=(FloatProgress(value=0.0, max=563.0), HTML(value='')))"
            ]
          },
          "metadata": {
            "tags": []
          }
        },
        {
          "output_type": "stream",
          "text": [
            "/usr/local/lib/python3.7/dist-packages/ipykernel_launcher.py:51: TqdmDeprecationWarning:\n",
            "\n",
            "This function will be removed in tqdm==5.0.0\n",
            "Please use `tqdm.notebook.tqdm` instead of `tqdm.tqdm_notebook`\n",
            "\n"
          ],
          "name": "stderr"
        },
        {
          "output_type": "display_data",
          "data": {
            "application/vnd.jupyter.widget-view+json": {
              "model_id": "4bba5924f2f24f2f80871f39b969388c",
              "version_minor": 0,
              "version_major": 2
            },
            "text/plain": [
              "HBox(children=(FloatProgress(value=0.0, max=141.0), HTML(value='')))"
            ]
          },
          "metadata": {
            "tags": []
          }
        },
        {
          "output_type": "stream",
          "text": [
            "Epoch 4: train_loss: 0.1096 train_rmse: 0.3311 | val_loss: 0.1074 val_rmse: 0.3276\n"
          ],
          "name": "stdout"
        },
        {
          "output_type": "stream",
          "text": [
            "/usr/local/lib/python3.7/dist-packages/ipykernel_launcher.py:19: TqdmDeprecationWarning:\n",
            "\n",
            "This function will be removed in tqdm==5.0.0\n",
            "Please use `tqdm.notebook.tqdm` instead of `tqdm.tqdm_notebook`\n",
            "\n"
          ],
          "name": "stderr"
        },
        {
          "output_type": "display_data",
          "data": {
            "application/vnd.jupyter.widget-view+json": {
              "model_id": "53ec5e0e22c0421fb73137b6d736f97b",
              "version_minor": 0,
              "version_major": 2
            },
            "text/plain": [
              "HBox(children=(FloatProgress(value=0.0, max=563.0), HTML(value='')))"
            ]
          },
          "metadata": {
            "tags": []
          }
        },
        {
          "output_type": "stream",
          "text": [
            "/usr/local/lib/python3.7/dist-packages/ipykernel_launcher.py:51: TqdmDeprecationWarning:\n",
            "\n",
            "This function will be removed in tqdm==5.0.0\n",
            "Please use `tqdm.notebook.tqdm` instead of `tqdm.tqdm_notebook`\n",
            "\n"
          ],
          "name": "stderr"
        },
        {
          "output_type": "display_data",
          "data": {
            "application/vnd.jupyter.widget-view+json": {
              "model_id": "38f5b40c9efd47a58d7ee61c5110a87e",
              "version_minor": 0,
              "version_major": 2
            },
            "text/plain": [
              "HBox(children=(FloatProgress(value=0.0, max=141.0), HTML(value='')))"
            ]
          },
          "metadata": {
            "tags": []
          }
        },
        {
          "output_type": "stream",
          "text": [
            "Epoch 5: train_loss: 0.1079 train_rmse: 0.3285 | val_loss: 0.1058 val_rmse: 0.3253\n"
          ],
          "name": "stdout"
        },
        {
          "output_type": "stream",
          "text": [
            "/usr/local/lib/python3.7/dist-packages/ipykernel_launcher.py:19: TqdmDeprecationWarning:\n",
            "\n",
            "This function will be removed in tqdm==5.0.0\n",
            "Please use `tqdm.notebook.tqdm` instead of `tqdm.tqdm_notebook`\n",
            "\n"
          ],
          "name": "stderr"
        },
        {
          "output_type": "display_data",
          "data": {
            "application/vnd.jupyter.widget-view+json": {
              "model_id": "a6605b38c5c749128edc055f5425b4ad",
              "version_minor": 0,
              "version_major": 2
            },
            "text/plain": [
              "HBox(children=(FloatProgress(value=0.0, max=563.0), HTML(value='')))"
            ]
          },
          "metadata": {
            "tags": []
          }
        },
        {
          "output_type": "stream",
          "text": [
            "/usr/local/lib/python3.7/dist-packages/ipykernel_launcher.py:51: TqdmDeprecationWarning:\n",
            "\n",
            "This function will be removed in tqdm==5.0.0\n",
            "Please use `tqdm.notebook.tqdm` instead of `tqdm.tqdm_notebook`\n",
            "\n"
          ],
          "name": "stderr"
        },
        {
          "output_type": "display_data",
          "data": {
            "application/vnd.jupyter.widget-view+json": {
              "model_id": "292f25f23a914c7ba12371060746757e",
              "version_minor": 0,
              "version_major": 2
            },
            "text/plain": [
              "HBox(children=(FloatProgress(value=0.0, max=141.0), HTML(value='')))"
            ]
          },
          "metadata": {
            "tags": []
          }
        },
        {
          "output_type": "stream",
          "text": [
            "Epoch 6: train_loss: 0.1062 train_rmse: 0.3260 | val_loss: 0.1019 val_rmse: 0.3194\n"
          ],
          "name": "stdout"
        },
        {
          "output_type": "stream",
          "text": [
            "/usr/local/lib/python3.7/dist-packages/ipykernel_launcher.py:19: TqdmDeprecationWarning:\n",
            "\n",
            "This function will be removed in tqdm==5.0.0\n",
            "Please use `tqdm.notebook.tqdm` instead of `tqdm.tqdm_notebook`\n",
            "\n"
          ],
          "name": "stderr"
        },
        {
          "output_type": "display_data",
          "data": {
            "application/vnd.jupyter.widget-view+json": {
              "model_id": "899bbc5298d64419bacc149722464787",
              "version_minor": 0,
              "version_major": 2
            },
            "text/plain": [
              "HBox(children=(FloatProgress(value=0.0, max=563.0), HTML(value='')))"
            ]
          },
          "metadata": {
            "tags": []
          }
        },
        {
          "output_type": "stream",
          "text": [
            "/usr/local/lib/python3.7/dist-packages/ipykernel_launcher.py:51: TqdmDeprecationWarning:\n",
            "\n",
            "This function will be removed in tqdm==5.0.0\n",
            "Please use `tqdm.notebook.tqdm` instead of `tqdm.tqdm_notebook`\n",
            "\n"
          ],
          "name": "stderr"
        },
        {
          "output_type": "display_data",
          "data": {
            "application/vnd.jupyter.widget-view+json": {
              "model_id": "9aeec0faaf894200b7567ba0b6a305d2",
              "version_minor": 0,
              "version_major": 2
            },
            "text/plain": [
              "HBox(children=(FloatProgress(value=0.0, max=141.0), HTML(value='')))"
            ]
          },
          "metadata": {
            "tags": []
          }
        },
        {
          "output_type": "stream",
          "text": [
            "Epoch 7: train_loss: 0.1068 train_rmse: 0.3268 | val_loss: 0.1061 val_rmse: 0.3259\n"
          ],
          "name": "stdout"
        },
        {
          "output_type": "stream",
          "text": [
            "/usr/local/lib/python3.7/dist-packages/ipykernel_launcher.py:19: TqdmDeprecationWarning:\n",
            "\n",
            "This function will be removed in tqdm==5.0.0\n",
            "Please use `tqdm.notebook.tqdm` instead of `tqdm.tqdm_notebook`\n",
            "\n"
          ],
          "name": "stderr"
        },
        {
          "output_type": "display_data",
          "data": {
            "application/vnd.jupyter.widget-view+json": {
              "model_id": "dab2470e24bc4b3db2c2c834daeb57a6",
              "version_minor": 0,
              "version_major": 2
            },
            "text/plain": [
              "HBox(children=(FloatProgress(value=0.0, max=563.0), HTML(value='')))"
            ]
          },
          "metadata": {
            "tags": []
          }
        },
        {
          "output_type": "stream",
          "text": [
            "/usr/local/lib/python3.7/dist-packages/ipykernel_launcher.py:51: TqdmDeprecationWarning:\n",
            "\n",
            "This function will be removed in tqdm==5.0.0\n",
            "Please use `tqdm.notebook.tqdm` instead of `tqdm.tqdm_notebook`\n",
            "\n"
          ],
          "name": "stderr"
        },
        {
          "output_type": "display_data",
          "data": {
            "application/vnd.jupyter.widget-view+json": {
              "model_id": "304d89b95f0f46c09a29f9f37eb057cd",
              "version_minor": 0,
              "version_major": 2
            },
            "text/plain": [
              "HBox(children=(FloatProgress(value=0.0, max=141.0), HTML(value='')))"
            ]
          },
          "metadata": {
            "tags": []
          }
        },
        {
          "output_type": "stream",
          "text": [
            "Epoch 8: train_loss: 0.1062 train_rmse: 0.3258 | val_loss: 0.1019 val_rmse: 0.3194\n"
          ],
          "name": "stdout"
        },
        {
          "output_type": "stream",
          "text": [
            "/usr/local/lib/python3.7/dist-packages/ipykernel_launcher.py:19: TqdmDeprecationWarning:\n",
            "\n",
            "This function will be removed in tqdm==5.0.0\n",
            "Please use `tqdm.notebook.tqdm` instead of `tqdm.tqdm_notebook`\n",
            "\n"
          ],
          "name": "stderr"
        },
        {
          "output_type": "display_data",
          "data": {
            "application/vnd.jupyter.widget-view+json": {
              "model_id": "2ebd7699b5014023a8bc699a6e9922b4",
              "version_minor": 0,
              "version_major": 2
            },
            "text/plain": [
              "HBox(children=(FloatProgress(value=0.0, max=563.0), HTML(value='')))"
            ]
          },
          "metadata": {
            "tags": []
          }
        },
        {
          "output_type": "stream",
          "text": [
            "/usr/local/lib/python3.7/dist-packages/ipykernel_launcher.py:51: TqdmDeprecationWarning:\n",
            "\n",
            "This function will be removed in tqdm==5.0.0\n",
            "Please use `tqdm.notebook.tqdm` instead of `tqdm.tqdm_notebook`\n",
            "\n"
          ],
          "name": "stderr"
        },
        {
          "output_type": "display_data",
          "data": {
            "application/vnd.jupyter.widget-view+json": {
              "model_id": "fc8f4676fa904dd5b8df337dee4c6218",
              "version_minor": 0,
              "version_major": 2
            },
            "text/plain": [
              "HBox(children=(FloatProgress(value=0.0, max=141.0), HTML(value='')))"
            ]
          },
          "metadata": {
            "tags": []
          }
        },
        {
          "output_type": "stream",
          "text": [
            "Epoch 9: train_loss: 0.1054 train_rmse: 0.3247 | val_loss: 0.1030 val_rmse: 0.3209\n"
          ],
          "name": "stdout"
        },
        {
          "output_type": "stream",
          "text": [
            "/usr/local/lib/python3.7/dist-packages/ipykernel_launcher.py:19: TqdmDeprecationWarning:\n",
            "\n",
            "This function will be removed in tqdm==5.0.0\n",
            "Please use `tqdm.notebook.tqdm` instead of `tqdm.tqdm_notebook`\n",
            "\n"
          ],
          "name": "stderr"
        },
        {
          "output_type": "display_data",
          "data": {
            "application/vnd.jupyter.widget-view+json": {
              "model_id": "181cc8cb17ed4344af23ca7b2a52f29b",
              "version_minor": 0,
              "version_major": 2
            },
            "text/plain": [
              "HBox(children=(FloatProgress(value=0.0, max=563.0), HTML(value='')))"
            ]
          },
          "metadata": {
            "tags": []
          }
        },
        {
          "output_type": "stream",
          "text": [
            "/usr/local/lib/python3.7/dist-packages/ipykernel_launcher.py:51: TqdmDeprecationWarning:\n",
            "\n",
            "This function will be removed in tqdm==5.0.0\n",
            "Please use `tqdm.notebook.tqdm` instead of `tqdm.tqdm_notebook`\n",
            "\n"
          ],
          "name": "stderr"
        },
        {
          "output_type": "display_data",
          "data": {
            "application/vnd.jupyter.widget-view+json": {
              "model_id": "746b5c9336b1487cb36cafe59f00731d",
              "version_minor": 0,
              "version_major": 2
            },
            "text/plain": [
              "HBox(children=(FloatProgress(value=0.0, max=141.0), HTML(value='')))"
            ]
          },
          "metadata": {
            "tags": []
          }
        },
        {
          "output_type": "stream",
          "text": [
            "Epoch 10: train_loss: 0.1057 train_rmse: 0.3251 | val_loss: 0.1037 val_rmse: 0.3221\n"
          ],
          "name": "stdout"
        },
        {
          "output_type": "stream",
          "text": [
            "/usr/local/lib/python3.7/dist-packages/ipykernel_launcher.py:19: TqdmDeprecationWarning:\n",
            "\n",
            "This function will be removed in tqdm==5.0.0\n",
            "Please use `tqdm.notebook.tqdm` instead of `tqdm.tqdm_notebook`\n",
            "\n"
          ],
          "name": "stderr"
        },
        {
          "output_type": "display_data",
          "data": {
            "application/vnd.jupyter.widget-view+json": {
              "model_id": "24f3dc9c00bd4480bb677ca646173975",
              "version_minor": 0,
              "version_major": 2
            },
            "text/plain": [
              "HBox(children=(FloatProgress(value=0.0, max=563.0), HTML(value='')))"
            ]
          },
          "metadata": {
            "tags": []
          }
        },
        {
          "output_type": "stream",
          "text": [
            "/usr/local/lib/python3.7/dist-packages/ipykernel_launcher.py:51: TqdmDeprecationWarning:\n",
            "\n",
            "This function will be removed in tqdm==5.0.0\n",
            "Please use `tqdm.notebook.tqdm` instead of `tqdm.tqdm_notebook`\n",
            "\n"
          ],
          "name": "stderr"
        },
        {
          "output_type": "display_data",
          "data": {
            "application/vnd.jupyter.widget-view+json": {
              "model_id": "e1bc95fcf1964698af832e88e1ec2274",
              "version_minor": 0,
              "version_major": 2
            },
            "text/plain": [
              "HBox(children=(FloatProgress(value=0.0, max=141.0), HTML(value='')))"
            ]
          },
          "metadata": {
            "tags": []
          }
        },
        {
          "output_type": "stream",
          "text": [
            "Epoch 11: train_loss: 0.1057 train_rmse: 0.3251 | val_loss: 0.1042 val_rmse: 0.3228\n"
          ],
          "name": "stdout"
        },
        {
          "output_type": "stream",
          "text": [
            "/usr/local/lib/python3.7/dist-packages/ipykernel_launcher.py:19: TqdmDeprecationWarning:\n",
            "\n",
            "This function will be removed in tqdm==5.0.0\n",
            "Please use `tqdm.notebook.tqdm` instead of `tqdm.tqdm_notebook`\n",
            "\n"
          ],
          "name": "stderr"
        },
        {
          "output_type": "display_data",
          "data": {
            "application/vnd.jupyter.widget-view+json": {
              "model_id": "578b2e0e9e39432e87f473af6e02cfac",
              "version_minor": 0,
              "version_major": 2
            },
            "text/plain": [
              "HBox(children=(FloatProgress(value=0.0, max=563.0), HTML(value='')))"
            ]
          },
          "metadata": {
            "tags": []
          }
        },
        {
          "output_type": "stream",
          "text": [
            "/usr/local/lib/python3.7/dist-packages/ipykernel_launcher.py:51: TqdmDeprecationWarning:\n",
            "\n",
            "This function will be removed in tqdm==5.0.0\n",
            "Please use `tqdm.notebook.tqdm` instead of `tqdm.tqdm_notebook`\n",
            "\n"
          ],
          "name": "stderr"
        },
        {
          "output_type": "display_data",
          "data": {
            "application/vnd.jupyter.widget-view+json": {
              "model_id": "f19af1883aff45ae99d1feef34b3f731",
              "version_minor": 0,
              "version_major": 2
            },
            "text/plain": [
              "HBox(children=(FloatProgress(value=0.0, max=141.0), HTML(value='')))"
            ]
          },
          "metadata": {
            "tags": []
          }
        },
        {
          "output_type": "stream",
          "text": [
            "Epoch 12: train_loss: 0.1060 train_rmse: 0.3255 | val_loss: 0.1071 val_rmse: 0.3273\n"
          ],
          "name": "stdout"
        },
        {
          "output_type": "stream",
          "text": [
            "/usr/local/lib/python3.7/dist-packages/ipykernel_launcher.py:19: TqdmDeprecationWarning:\n",
            "\n",
            "This function will be removed in tqdm==5.0.0\n",
            "Please use `tqdm.notebook.tqdm` instead of `tqdm.tqdm_notebook`\n",
            "\n"
          ],
          "name": "stderr"
        },
        {
          "output_type": "display_data",
          "data": {
            "application/vnd.jupyter.widget-view+json": {
              "model_id": "5f1f44b1bb9843d3878bbc65a8aba3b7",
              "version_minor": 0,
              "version_major": 2
            },
            "text/plain": [
              "HBox(children=(FloatProgress(value=0.0, max=563.0), HTML(value='')))"
            ]
          },
          "metadata": {
            "tags": []
          }
        },
        {
          "output_type": "stream",
          "text": [
            "/usr/local/lib/python3.7/dist-packages/ipykernel_launcher.py:51: TqdmDeprecationWarning:\n",
            "\n",
            "This function will be removed in tqdm==5.0.0\n",
            "Please use `tqdm.notebook.tqdm` instead of `tqdm.tqdm_notebook`\n",
            "\n"
          ],
          "name": "stderr"
        },
        {
          "output_type": "display_data",
          "data": {
            "application/vnd.jupyter.widget-view+json": {
              "model_id": "7299b7acabcd4f7e943a26bccf779464",
              "version_minor": 0,
              "version_major": 2
            },
            "text/plain": [
              "HBox(children=(FloatProgress(value=0.0, max=141.0), HTML(value='')))"
            ]
          },
          "metadata": {
            "tags": []
          }
        },
        {
          "output_type": "stream",
          "text": [
            "Epoch 13: train_loss: 0.1063 train_rmse: 0.3259 | val_loss: 0.1040 val_rmse: 0.3225\n"
          ],
          "name": "stdout"
        },
        {
          "output_type": "stream",
          "text": [
            "/usr/local/lib/python3.7/dist-packages/ipykernel_launcher.py:19: TqdmDeprecationWarning:\n",
            "\n",
            "This function will be removed in tqdm==5.0.0\n",
            "Please use `tqdm.notebook.tqdm` instead of `tqdm.tqdm_notebook`\n",
            "\n"
          ],
          "name": "stderr"
        },
        {
          "output_type": "display_data",
          "data": {
            "application/vnd.jupyter.widget-view+json": {
              "model_id": "332d2f8d4c87483ea25ea19610500ade",
              "version_minor": 0,
              "version_major": 2
            },
            "text/plain": [
              "HBox(children=(FloatProgress(value=0.0, max=563.0), HTML(value='')))"
            ]
          },
          "metadata": {
            "tags": []
          }
        },
        {
          "output_type": "stream",
          "text": [
            "/usr/local/lib/python3.7/dist-packages/ipykernel_launcher.py:51: TqdmDeprecationWarning:\n",
            "\n",
            "This function will be removed in tqdm==5.0.0\n",
            "Please use `tqdm.notebook.tqdm` instead of `tqdm.tqdm_notebook`\n",
            "\n"
          ],
          "name": "stderr"
        },
        {
          "output_type": "display_data",
          "data": {
            "application/vnd.jupyter.widget-view+json": {
              "model_id": "22220b857b7a4e3597a35677fda8ed98",
              "version_minor": 0,
              "version_major": 2
            },
            "text/plain": [
              "HBox(children=(FloatProgress(value=0.0, max=141.0), HTML(value='')))"
            ]
          },
          "metadata": {
            "tags": []
          }
        },
        {
          "output_type": "stream",
          "text": [
            "Epoch 14: train_loss: 0.1057 train_rmse: 0.3251 | val_loss: 0.1031 val_rmse: 0.3211\n"
          ],
          "name": "stdout"
        },
        {
          "output_type": "stream",
          "text": [
            "/usr/local/lib/python3.7/dist-packages/ipykernel_launcher.py:19: TqdmDeprecationWarning:\n",
            "\n",
            "This function will be removed in tqdm==5.0.0\n",
            "Please use `tqdm.notebook.tqdm` instead of `tqdm.tqdm_notebook`\n",
            "\n"
          ],
          "name": "stderr"
        },
        {
          "output_type": "display_data",
          "data": {
            "application/vnd.jupyter.widget-view+json": {
              "model_id": "164ea1ec0e024d0a890c1b35ef5d5bdd",
              "version_minor": 0,
              "version_major": 2
            },
            "text/plain": [
              "HBox(children=(FloatProgress(value=0.0, max=563.0), HTML(value='')))"
            ]
          },
          "metadata": {
            "tags": []
          }
        },
        {
          "output_type": "stream",
          "text": [
            "/usr/local/lib/python3.7/dist-packages/ipykernel_launcher.py:51: TqdmDeprecationWarning:\n",
            "\n",
            "This function will be removed in tqdm==5.0.0\n",
            "Please use `tqdm.notebook.tqdm` instead of `tqdm.tqdm_notebook`\n",
            "\n"
          ],
          "name": "stderr"
        },
        {
          "output_type": "display_data",
          "data": {
            "application/vnd.jupyter.widget-view+json": {
              "model_id": "e2688c03d2de4ff6ab8c1f732f475981",
              "version_minor": 0,
              "version_major": 2
            },
            "text/plain": [
              "HBox(children=(FloatProgress(value=0.0, max=141.0), HTML(value='')))"
            ]
          },
          "metadata": {
            "tags": []
          }
        },
        {
          "output_type": "stream",
          "text": [
            "Epoch 15: train_loss: 0.1055 train_rmse: 0.3248 | val_loss: 0.1075 val_rmse: 0.3279\n"
          ],
          "name": "stdout"
        },
        {
          "output_type": "stream",
          "text": [
            "/usr/local/lib/python3.7/dist-packages/ipykernel_launcher.py:19: TqdmDeprecationWarning:\n",
            "\n",
            "This function will be removed in tqdm==5.0.0\n",
            "Please use `tqdm.notebook.tqdm` instead of `tqdm.tqdm_notebook`\n",
            "\n"
          ],
          "name": "stderr"
        },
        {
          "output_type": "display_data",
          "data": {
            "application/vnd.jupyter.widget-view+json": {
              "model_id": "8ab3549b6c714c9bb5786620d907d54f",
              "version_minor": 0,
              "version_major": 2
            },
            "text/plain": [
              "HBox(children=(FloatProgress(value=0.0, max=563.0), HTML(value='')))"
            ]
          },
          "metadata": {
            "tags": []
          }
        },
        {
          "output_type": "stream",
          "text": [
            "/usr/local/lib/python3.7/dist-packages/ipykernel_launcher.py:51: TqdmDeprecationWarning:\n",
            "\n",
            "This function will be removed in tqdm==5.0.0\n",
            "Please use `tqdm.notebook.tqdm` instead of `tqdm.tqdm_notebook`\n",
            "\n"
          ],
          "name": "stderr"
        },
        {
          "output_type": "display_data",
          "data": {
            "application/vnd.jupyter.widget-view+json": {
              "model_id": "45a3461f1ca142fea438ab0a33ce05bc",
              "version_minor": 0,
              "version_major": 2
            },
            "text/plain": [
              "HBox(children=(FloatProgress(value=0.0, max=141.0), HTML(value='')))"
            ]
          },
          "metadata": {
            "tags": []
          }
        },
        {
          "output_type": "stream",
          "text": [
            "Epoch 16: train_loss: 0.1061 train_rmse: 0.3257 | val_loss: 0.1023 val_rmse: 0.3199\n"
          ],
          "name": "stdout"
        },
        {
          "output_type": "stream",
          "text": [
            "/usr/local/lib/python3.7/dist-packages/ipykernel_launcher.py:19: TqdmDeprecationWarning:\n",
            "\n",
            "This function will be removed in tqdm==5.0.0\n",
            "Please use `tqdm.notebook.tqdm` instead of `tqdm.tqdm_notebook`\n",
            "\n"
          ],
          "name": "stderr"
        },
        {
          "output_type": "display_data",
          "data": {
            "application/vnd.jupyter.widget-view+json": {
              "model_id": "f471fca5d4b542ad918588c5ba72a17b",
              "version_minor": 0,
              "version_major": 2
            },
            "text/plain": [
              "HBox(children=(FloatProgress(value=0.0, max=563.0), HTML(value='')))"
            ]
          },
          "metadata": {
            "tags": []
          }
        },
        {
          "output_type": "stream",
          "text": [
            "/usr/local/lib/python3.7/dist-packages/ipykernel_launcher.py:51: TqdmDeprecationWarning:\n",
            "\n",
            "This function will be removed in tqdm==5.0.0\n",
            "Please use `tqdm.notebook.tqdm` instead of `tqdm.tqdm_notebook`\n",
            "\n"
          ],
          "name": "stderr"
        },
        {
          "output_type": "display_data",
          "data": {
            "application/vnd.jupyter.widget-view+json": {
              "model_id": "f24871e0f83443468805eb06c87f7a04",
              "version_minor": 0,
              "version_major": 2
            },
            "text/plain": [
              "HBox(children=(FloatProgress(value=0.0, max=141.0), HTML(value='')))"
            ]
          },
          "metadata": {
            "tags": []
          }
        },
        {
          "output_type": "stream",
          "text": [
            "Epoch 17: train_loss: 0.1054 train_rmse: 0.3246 | val_loss: 0.0992 val_rmse: 0.3151\n"
          ],
          "name": "stdout"
        },
        {
          "output_type": "stream",
          "text": [
            "/usr/local/lib/python3.7/dist-packages/ipykernel_launcher.py:19: TqdmDeprecationWarning:\n",
            "\n",
            "This function will be removed in tqdm==5.0.0\n",
            "Please use `tqdm.notebook.tqdm` instead of `tqdm.tqdm_notebook`\n",
            "\n"
          ],
          "name": "stderr"
        },
        {
          "output_type": "display_data",
          "data": {
            "application/vnd.jupyter.widget-view+json": {
              "model_id": "9ecfdd2f579447c1b1f37a7120939a42",
              "version_minor": 0,
              "version_major": 2
            },
            "text/plain": [
              "HBox(children=(FloatProgress(value=0.0, max=563.0), HTML(value='')))"
            ]
          },
          "metadata": {
            "tags": []
          }
        },
        {
          "output_type": "stream",
          "text": [
            "/usr/local/lib/python3.7/dist-packages/ipykernel_launcher.py:51: TqdmDeprecationWarning:\n",
            "\n",
            "This function will be removed in tqdm==5.0.0\n",
            "Please use `tqdm.notebook.tqdm` instead of `tqdm.tqdm_notebook`\n",
            "\n"
          ],
          "name": "stderr"
        },
        {
          "output_type": "display_data",
          "data": {
            "application/vnd.jupyter.widget-view+json": {
              "model_id": "b588f5cfe8374031a6a556e0adfd719b",
              "version_minor": 0,
              "version_major": 2
            },
            "text/plain": [
              "HBox(children=(FloatProgress(value=0.0, max=141.0), HTML(value='')))"
            ]
          },
          "metadata": {
            "tags": []
          }
        },
        {
          "output_type": "stream",
          "text": [
            "Epoch 18: train_loss: 0.1058 train_rmse: 0.3253 | val_loss: 0.0997 val_rmse: 0.3159\n"
          ],
          "name": "stdout"
        },
        {
          "output_type": "stream",
          "text": [
            "/usr/local/lib/python3.7/dist-packages/ipykernel_launcher.py:19: TqdmDeprecationWarning:\n",
            "\n",
            "This function will be removed in tqdm==5.0.0\n",
            "Please use `tqdm.notebook.tqdm` instead of `tqdm.tqdm_notebook`\n",
            "\n"
          ],
          "name": "stderr"
        },
        {
          "output_type": "display_data",
          "data": {
            "application/vnd.jupyter.widget-view+json": {
              "model_id": "5369e6aa7cef41bda1def03a0bb4cf64",
              "version_minor": 0,
              "version_major": 2
            },
            "text/plain": [
              "HBox(children=(FloatProgress(value=0.0, max=563.0), HTML(value='')))"
            ]
          },
          "metadata": {
            "tags": []
          }
        },
        {
          "output_type": "stream",
          "text": [
            "/usr/local/lib/python3.7/dist-packages/ipykernel_launcher.py:51: TqdmDeprecationWarning:\n",
            "\n",
            "This function will be removed in tqdm==5.0.0\n",
            "Please use `tqdm.notebook.tqdm` instead of `tqdm.tqdm_notebook`\n",
            "\n"
          ],
          "name": "stderr"
        },
        {
          "output_type": "display_data",
          "data": {
            "application/vnd.jupyter.widget-view+json": {
              "model_id": "3f1ee922df274e7ea084481585901c87",
              "version_minor": 0,
              "version_major": 2
            },
            "text/plain": [
              "HBox(children=(FloatProgress(value=0.0, max=141.0), HTML(value='')))"
            ]
          },
          "metadata": {
            "tags": []
          }
        },
        {
          "output_type": "stream",
          "text": [
            "Epoch 19: train_loss: 0.1058 train_rmse: 0.3250 | val_loss: 0.1025 val_rmse: 0.3200\n",
            "\n"
          ],
          "name": "stdout"
        }
      ]
    },
    {
      "cell_type": "markdown",
      "metadata": {
        "id": "dg-YyTMzChI7"
      },
      "source": [
        "## Plots"
      ]
    },
    {
      "cell_type": "code",
      "metadata": {
        "id": "SyqjNOfiIFGB",
        "colab": {
          "base_uri": "https://localhost:8080/",
          "height": 281
        },
        "outputId": "01044b85-c849-4146-9dac-370c4526d015"
      },
      "source": [
        "#Plot the Learning rate\n",
        "_ = plt.plot(lr[0])\n",
        "_ = plt.title('LR over Epoch (Epoch 0)')"
      ],
      "execution_count": 38,
      "outputs": [
        {
          "output_type": "display_data",
          "data": {
            "image/png": "[encoded data removed]",
            "text/plain": [
              "<Figure size 432x288 with 1 Axes>"
            ]
          },
          "metadata": {
            "tags": [],
            "needs_background": "light"
          }
        }
      ]
    },
    {
      "cell_type": "code",
      "metadata": {
        "id": "Y35tlzFRrCPZ"
      },
      "source": [
        ""
      ],
      "execution_count": 38,
      "outputs": []
    },
    {
      "cell_type": "code",
      "metadata": {
        "id": "4q-a7-Ylp6JN",
        "colab": {
          "base_uri": "https://localhost:8080/",
          "height": 312
        },
        "outputId": "34ff034e-7c54-4364-ec67-c48dffa9f3d0"
      },
      "source": [
        "#inspired from: https://nbviewer.jupyter.org/github/FraPochetti/KagglePlaygrounds/blob/master/NYC%20Taxi%20Fares%20Prediction.ipynb \n",
        "# Train VS Validaton Loss\n",
        "\n",
        "t = [np.mean(tloss[el]) for el in tloss]\n",
        "v = [np.mean(vloss[el]) for el in vloss]\n",
        "\n",
        "plt.plot(t, label='Training loss')\n",
        "plt.plot(v, label='Validation loss')\n",
        "plt.title(\"Train VS Validation Loss over Epochs\")\n",
        "plt.xlabel(\"Epochs\")\n",
        "plt.legend(frameon=False)"
      ],
      "execution_count": 39,
      "outputs": [
        {
          "output_type": "execute_result",
          "data": {
            "text/plain": [
              "<matplotlib.legend.Legend at 0x7f3d8a0f0990>"
            ]
          },
          "metadata": {
            "tags": []
          },
          "execution_count": 39
        },
        {
          "output_type": "display_data",
          "data": {
            "image/png": "[encoded data removed]",
            "text/plain": [
              "<Figure size 432x288 with 1 Axes>"
            ]
          },
          "metadata": {
            "tags": [],
            "needs_background": "light"
          }
        }
      ]
    },
    {
      "cell_type": "markdown",
      "metadata": {
        "id": "e0lSOupcxzIZ"
      },
      "source": [
        "# Test "
      ]
    },
    {
      "cell_type": "code",
      "metadata": {
        "id": "_xsc3FhFbsGz",
        "colab": {
          "base_uri": "https://localhost:8080/"
        },
        "outputId": "c0636095-97c5-4dc3-e19d-bc6cf5b93a2c"
      },
      "source": [
        "df_test.info()"
      ],
      "execution_count": 40,
      "outputs": [
        {
          "output_type": "stream",
          "text": [
            "<class 'pandas.core.frame.DataFrame'>\n",
            "Int64Index: 9987 entries, 90011 to 99998\n",
            "Data columns (total 10 columns):\n",
            " #   Column             Non-Null Count  Dtype   \n",
            "---  ------             --------------  -----   \n",
            " 0   Hour               9987 non-null   category\n",
            " 1   AMorPM             9987 non-null   category\n",
            " 2   Weekday            9987 non-null   category\n",
            " 3   pickup_latitude    9987 non-null   float64 \n",
            " 4   pickup_longitude   9987 non-null   float64 \n",
            " 5   dropoff_latitude   9987 non-null   float64 \n",
            " 6   dropoff_longitude  9987 non-null   float64 \n",
            " 7   passenger_count    9987 non-null   float64 \n",
            " 8   dist_km            9987 non-null   float64 \n",
            " 9   fare_amount        9987 non-null   float64 \n",
            "dtypes: category(3), float64(7)\n",
            "memory usage: 654.7 KB\n"
          ],
          "name": "stdout"
        }
      ]
    },
    {
      "cell_type": "code",
      "metadata": {
        "id": "3nrV9kSilNCS"
      },
      "source": [
        "# divide to cats and conts columns + make them a tensor + to.cuda()\n",
        "\n",
        "df_test_cats = df_test[['Hour', 'AMorPM', 'Weekday']]\n",
        "test_cats = df_test_cats.astype(np.int64)\n",
        "test_cats = torch.tensor(test_cats.values).cuda()\n",
        "\n",
        "df_test_conts = df_test[['pickup_latitude', 'pickup_longitude', 'dropoff_latitude', 'dropoff_longitude', 'passenger_count', 'dist_km']]\n",
        "test_conts = df_test_conts.astype(np.float32)\n",
        "test_conts = torch.tensor(test_conts.values).cuda()"
      ],
      "execution_count": 41,
      "outputs": []
    },
    {
      "cell_type": "code",
      "metadata": {
        "id": "jgYTtfyVxUFJ"
      },
      "source": [
        "# make prediction\n",
        "\n",
        "with torch.no_grad():\n",
        "    model.eval()\n",
        "    output = model.forward(test_cats,test_conts).cuda()"
      ],
      "execution_count": 42,
      "outputs": []
    },
    {
      "cell_type": "code",
      "metadata": {
        "id": "E8Rl4zVZ93ag",
        "colab": {
          "base_uri": "https://localhost:8080/"
        },
        "outputId": "23892aa8-3fb1-4091-a5fd-0a4f96a593fc"
      },
      "source": [
        "output"
      ],
      "execution_count": 43,
      "outputs": [
        {
          "output_type": "execute_result",
          "data": {
            "text/plain": [
              "tensor([2.4491, 2.4630, 2.5329,  ..., 2.5383, 2.5086, 2.4418], device='cuda:0')"
            ]
          },
          "metadata": {
            "tags": []
          },
          "execution_count": 43
        }
      ]
    },
    {
      "cell_type": "code",
      "metadata": {
        "id": "nw6AZdZXAfv7",
        "colab": {
          "base_uri": "https://localhost:8080/"
        },
        "outputId": "ebcf8a37-13a4-42e0-825d-c54b31740cdb"
      },
      "source": [
        "len(output)"
      ],
      "execution_count": 44,
      "outputs": [
        {
          "output_type": "execute_result",
          "data": {
            "text/plain": [
              "9987"
            ]
          },
          "metadata": {
            "tags": []
          },
          "execution_count": 44
        }
      ]
    },
    {
      "cell_type": "code",
      "metadata": {
        "id": "AFJ9Ny5nAjWA",
        "colab": {
          "base_uri": "https://localhost:8080/"
        },
        "outputId": "bcf7a7c5-a53b-4415-873d-8feb70188833"
      },
      "source": [
        "type(output)"
      ],
      "execution_count": 45,
      "outputs": [
        {
          "output_type": "execute_result",
          "data": {
            "text/plain": [
              "torch.Tensor"
            ]
          },
          "metadata": {
            "tags": []
          },
          "execution_count": 45
        }
      ]
    },
    {
      "cell_type": "code",
      "metadata": {
        "id": "iLEtdrOoDIBA"
      },
      "source": [
        "# convert to numpy array\n",
        "np_output = output.cpu().numpy()"
      ],
      "execution_count": 46,
      "outputs": []
    },
    {
      "cell_type": "code",
      "metadata": {
        "id": "s4HOvUYIE7jx",
        "colab": {
          "base_uri": "https://localhost:8080/"
        },
        "outputId": "58d3802b-113b-44f0-9310-e90cb3d26e21"
      },
      "source": [
        "type(np_output)"
      ],
      "execution_count": 47,
      "outputs": [
        {
          "output_type": "execute_result",
          "data": {
            "text/plain": [
              "numpy.ndarray"
            ]
          },
          "metadata": {
            "tags": []
          },
          "execution_count": 47
        }
      ]
    },
    {
      "cell_type": "code",
      "metadata": {
        "id": "CKp9G4XTDZNI",
        "colab": {
          "base_uri": "https://localhost:8080/"
        },
        "outputId": "2e8fbfd3-0486-4df5-8c51-ecc244173719"
      },
      "source": [
        "np_output"
      ],
      "execution_count": 48,
      "outputs": [
        {
          "output_type": "execute_result",
          "data": {
            "text/plain": [
              "array([2.4490683, 2.4630134, 2.5328665, ..., 2.5383132, 2.508596 ,\n",
              "       2.441765 ], dtype=float32)"
            ]
          },
          "metadata": {
            "tags": []
          },
          "execution_count": 48
        }
      ]
    },
    {
      "cell_type": "code",
      "metadata": {
        "id": "EHo-Vq3AE5zE"
      },
      "source": [
        "#  exp to the output data\n",
        "\n",
        "np_output_exp = np.exp(np_output)"
      ],
      "execution_count": 49,
      "outputs": []
    },
    {
      "cell_type": "code",
      "metadata": {
        "id": "hCeCxOKpFayL",
        "colab": {
          "base_uri": "https://localhost:8080/"
        },
        "outputId": "1beb665d-3df5-4a75-a9b6-b50ff05d9a61"
      },
      "source": [
        "np_output_exp"
      ],
      "execution_count": 50,
      "outputs": [
        {
          "output_type": "execute_result",
          "data": {
            "text/plain": [
              "array([11.577555, 11.740135, 12.589542, ..., 12.6583  , 12.287665,\n",
              "       11.49331 ], dtype=float32)"
            ]
          },
          "metadata": {
            "tags": []
          },
          "execution_count": 50
        }
      ]
    },
    {
      "cell_type": "code",
      "metadata": {
        "id": "wC-v0WfmCwEw"
      },
      "source": [
        "# CONVERT to pandas data frame \n",
        "\n",
        "df_output =  pd.DataFrame(np_output_exp)"
      ],
      "execution_count": 51,
      "outputs": []
    },
    {
      "cell_type": "code",
      "metadata": {
        "id": "EWeienWcC2t1",
        "colab": {
          "base_uri": "https://localhost:8080/",
          "height": 406
        },
        "outputId": "e29b4224-dc7e-4a91-fb8d-b54ad72b2fb8"
      },
      "source": [
        "df_output"
      ],
      "execution_count": 52,
      "outputs": [
        {
          "output_type": "execute_result",
          "data": {
            "text/html": [
              "<div>\n",
              "<style scoped>\n",
              "    .dataframe tbody tr th:only-of-type {\n",
              "        vertical-align: middle;\n",
              "    }\n",
              "\n",
              "    .dataframe tbody tr th {\n",
              "        vertical-align: top;\n",
              "    }\n",
              "\n",
              "    .dataframe thead th {\n",
              "        text-align: right;\n",
              "    }\n",
              "</style>\n",
              "<table border=\"1\" class=\"dataframe\">\n",
              "  <thead>\n",
              "    <tr style=\"text-align: right;\">\n",
              "      <th></th>\n",
              "      <th>0</th>\n",
              "    </tr>\n",
              "  </thead>\n",
              "  <tbody>\n",
              "    <tr>\n",
              "      <th>0</th>\n",
              "      <td>11.577555</td>\n",
              "    </tr>\n",
              "    <tr>\n",
              "      <th>1</th>\n",
              "      <td>11.740135</td>\n",
              "    </tr>\n",
              "    <tr>\n",
              "      <th>2</th>\n",
              "      <td>12.589542</td>\n",
              "    </tr>\n",
              "    <tr>\n",
              "      <th>3</th>\n",
              "      <td>12.194065</td>\n",
              "    </tr>\n",
              "    <tr>\n",
              "      <th>4</th>\n",
              "      <td>12.343926</td>\n",
              "    </tr>\n",
              "    <tr>\n",
              "      <th>...</th>\n",
              "      <td>...</td>\n",
              "    </tr>\n",
              "    <tr>\n",
              "      <th>9982</th>\n",
              "      <td>12.500133</td>\n",
              "    </tr>\n",
              "    <tr>\n",
              "      <th>9983</th>\n",
              "      <td>11.121398</td>\n",
              "    </tr>\n",
              "    <tr>\n",
              "      <th>9984</th>\n",
              "      <td>12.658300</td>\n",
              "    </tr>\n",
              "    <tr>\n",
              "      <th>9985</th>\n",
              "      <td>12.287665</td>\n",
              "    </tr>\n",
              "    <tr>\n",
              "      <th>9986</th>\n",
              "      <td>11.493310</td>\n",
              "    </tr>\n",
              "  </tbody>\n",
              "</table>\n",
              "<p>9987 rows × 1 columns</p>\n",
              "</div>"
            ],
            "text/plain": [
              "              0\n",
              "0     11.577555\n",
              "1     11.740135\n",
              "2     12.589542\n",
              "3     12.194065\n",
              "4     12.343926\n",
              "...         ...\n",
              "9982  12.500133\n",
              "9983  11.121398\n",
              "9984  12.658300\n",
              "9985  12.287665\n",
              "9986  11.493310\n",
              "\n",
              "[9987 rows x 1 columns]"
            ]
          },
          "metadata": {
            "tags": []
          },
          "execution_count": 52
        }
      ]
    },
    {
      "cell_type": "code",
      "metadata": {
        "id": "UtBEyhHPKCCO",
        "colab": {
          "base_uri": "https://localhost:8080/"
        },
        "outputId": "145b044e-85a2-4313-eff4-ce113ac6c770"
      },
      "source": [
        "type(df_output)"
      ],
      "execution_count": 53,
      "outputs": [
        {
          "output_type": "execute_result",
          "data": {
            "text/plain": [
              "pandas.core.frame.DataFrame"
            ]
          },
          "metadata": {
            "tags": []
          },
          "execution_count": 53
        }
      ]
    },
    {
      "cell_type": "code",
      "metadata": {
        "id": "BHl0PIlDH9ZU"
      },
      "source": [
        "#output file\n",
        "\n",
        "df_output.to_csv('submission.csv', index=False)\n"
      ],
      "execution_count": 54,
      "outputs": []
    },
    {
      "cell_type": "code",
      "metadata": {
        "id": "1-y9qE3yIenz"
      },
      "source": [
        "# function that takes in a dataframe and creates a text link to  \n",
        "# download it (will only work for files < 2MB or so)\n",
        "\n",
        "from IPython.display import HTML\n",
        "import base64\n",
        "\n",
        "def create_download_link(df, title = \"Download CSV file\", filename = \"submission.csv\"):  \n",
        "    csv = df.to_csv()\n",
        "    b64 = base64.b64encode(csv.encode())\n",
        "    payload = b64.decode()\n",
        "    html = '<a download=\"{filename}\" href=\"data:text/csv;base64,{payload}\" target=\"_blank\">{title}</a>'\n",
        "    html = html.format(payload=payload,title=title,filename=filename)\n",
        "    return HTML(html)"
      ],
      "execution_count": 55,
      "outputs": []
    },
    {
      "cell_type": "code",
      "metadata": {
        "id": "f_jMDav8I82M",
        "colab": {
          "base_uri": "https://localhost:8080/",
          "height": 33
        },
        "outputId": "65413a10-2462-4264-e0ad-6bcec8fecf20"
      },
      "source": [
        "# create a link to download the dataframe\n",
        "create_download_link(df_output)"
      ],
      "execution_count": 56,
      "outputs": [
        {
          "output_type": "execute_result",
          "data": {
            "text/html": [
              "<a download=\"submission.csv\" href=\"data:text/csv;base64,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\" target=\"_blank\">Download CSV file</a>"
            ],
            "text/plain": [
              "<IPython.core.display.HTML object>"
            ]
          },
          "metadata": {
            "tags": []
          },
          "execution_count": 56
        }
      ]
    }
  ]
}