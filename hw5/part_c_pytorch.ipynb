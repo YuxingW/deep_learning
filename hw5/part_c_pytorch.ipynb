{
  "nbformat": 4,
  "nbformat_minor": 0,
  "metadata": {
    "colab": {
      "name": "Copy of NYC_Taxi_PyTorch",
      "provenance": [],
      "collapsed_sections": [],
      "toc_visible": true,
      "include_colab_link": true
    },
    "kernelspec": {
      "name": "python3",
      "display_name": "Python 3"
    },
    "accelerator": "GPU",
    "widgets": {
      "application/vnd.jupyter.widget-state+json": {
        "ec8285cc1d134ea79891a5f11c99c110": {
          "model_module": "@jupyter-widgets/controls",
          "model_name": "HBoxModel",
          "state": {
            "_view_name": "HBoxView",
            "_dom_classes": [],
            "_model_name": "HBoxModel",
            "_view_module": "@jupyter-widgets/controls",
            "_model_module_version": "1.5.0",
            "_view_count": null,
            "_view_module_version": "1.5.0",
            "box_style": "",
            "layout": "IPY_MODEL_be6ad3b6c9b34243b6305e8e0ee85148",
            "_model_module": "@jupyter-widgets/controls",
            "children": [
              "IPY_MODEL_5838d7e8f7874e9a8ae838a6e03795d0",
              "IPY_MODEL_c278e74e6bc24a069a6e5a6be09610cd"
            ]
          }
        },
        "be6ad3b6c9b34243b6305e8e0ee85148": {
          "model_module": "@jupyter-widgets/base",
          "model_name": "LayoutModel",
          "state": {
            "_view_name": "LayoutView",
            "grid_template_rows": null,
            "right": null,
            "justify_content": null,
            "_view_module": "@jupyter-widgets/base",
            "overflow": null,
            "_model_module_version": "1.2.0",
            "_view_count": null,
            "flex_flow": null,
            "width": null,
            "min_width": null,
            "border": null,
            "align_items": null,
            "bottom": null,
            "_model_module": "@jupyter-widgets/base",
            "top": null,
            "grid_column": null,
            "overflow_y": null,
            "overflow_x": null,
            "grid_auto_flow": null,
            "grid_area": null,
            "grid_template_columns": null,
            "flex": null,
            "_model_name": "LayoutModel",
            "justify_items": null,
            "grid_row": null,
            "max_height": null,
            "align_content": null,
            "visibility": null,
            "align_self": null,
            "height": null,
            "min_height": null,
            "padding": null,
            "grid_auto_rows": null,
            "grid_gap": null,
            "max_width": null,
            "order": null,
            "_view_module_version": "1.2.0",
            "grid_template_areas": null,
            "object_position": null,
            "object_fit": null,
            "grid_auto_columns": null,
            "margin": null,
            "display": null,
            "left": null
          }
        },
        "5838d7e8f7874e9a8ae838a6e03795d0": {
          "model_module": "@jupyter-widgets/controls",
          "model_name": "FloatProgressModel",
          "state": {
            "_view_name": "ProgressView",
            "style": "IPY_MODEL_d8c43a6ac8b94d5984bb7ddfb4eeda4e",
            "_dom_classes": [],
            "description": "100%",
            "_model_name": "FloatProgressModel",
            "bar_style": "success",
            "max": 10,
            "_view_module": "@jupyter-widgets/controls",
            "_model_module_version": "1.5.0",
            "value": 10,
            "_view_count": null,
            "_view_module_version": "1.5.0",
            "orientation": "horizontal",
            "min": 0,
            "description_tooltip": null,
            "_model_module": "@jupyter-widgets/controls",
            "layout": "IPY_MODEL_05492e33d19043eeb73782065fe23bf1"
          }
        },
        "c278e74e6bc24a069a6e5a6be09610cd": {
          "model_module": "@jupyter-widgets/controls",
          "model_name": "HTMLModel",
          "state": {
            "_view_name": "HTMLView",
            "style": "IPY_MODEL_755015f7955b46b6a98936929e2570eb",
            "_dom_classes": [],
            "description": "",
            "_model_name": "HTMLModel",
            "placeholder": "​",
            "_view_module": "@jupyter-widgets/controls",
            "_model_module_version": "1.5.0",
            "value": " 10/10 [00:53&lt;00:00,  5.30s/it]",
            "_view_count": null,
            "_view_module_version": "1.5.0",
            "description_tooltip": null,
            "_model_module": "@jupyter-widgets/controls",
            "layout": "IPY_MODEL_f58dc50fd61149e5807d3c54deec375c"
          }
        },
        "d8c43a6ac8b94d5984bb7ddfb4eeda4e": {
          "model_module": "@jupyter-widgets/controls",
          "model_name": "ProgressStyleModel",
          "state": {
            "_view_name": "StyleView",
            "_model_name": "ProgressStyleModel",
            "description_width": "initial",
            "_view_module": "@jupyter-widgets/base",
            "_model_module_version": "1.5.0",
            "_view_count": null,
            "_view_module_version": "1.2.0",
            "bar_color": null,
            "_model_module": "@jupyter-widgets/controls"
          }
        },
        "05492e33d19043eeb73782065fe23bf1": {
          "model_module": "@jupyter-widgets/base",
          "model_name": "LayoutModel",
          "state": {
            "_view_name": "LayoutView",
            "grid_template_rows": null,
            "right": null,
            "justify_content": null,
            "_view_module": "@jupyter-widgets/base",
            "overflow": null,
            "_model_module_version": "1.2.0",
            "_view_count": null,
            "flex_flow": null,
            "width": null,
            "min_width": null,
            "border": null,
            "align_items": null,
            "bottom": null,
            "_model_module": "@jupyter-widgets/base",
            "top": null,
            "grid_column": null,
            "overflow_y": null,
            "overflow_x": null,
            "grid_auto_flow": null,
            "grid_area": null,
            "grid_template_columns": null,
            "flex": null,
            "_model_name": "LayoutModel",
            "justify_items": null,
            "grid_row": null,
            "max_height": null,
            "align_content": null,
            "visibility": null,
            "align_self": null,
            "height": null,
            "min_height": null,
            "padding": null,
            "grid_auto_rows": null,
            "grid_gap": null,
            "max_width": null,
            "order": null,
            "_view_module_version": "1.2.0",
            "grid_template_areas": null,
            "object_position": null,
            "object_fit": null,
            "grid_auto_columns": null,
            "margin": null,
            "display": null,
            "left": null
          }
        },
        "755015f7955b46b6a98936929e2570eb": {
          "model_module": "@jupyter-widgets/controls",
          "model_name": "DescriptionStyleModel",
          "state": {
            "_view_name": "StyleView",
            "_model_name": "DescriptionStyleModel",
            "description_width": "",
            "_view_module": "@jupyter-widgets/base",
            "_model_module_version": "1.5.0",
            "_view_count": null,
            "_view_module_version": "1.2.0",
            "_model_module": "@jupyter-widgets/controls"
          }
        },
        "f58dc50fd61149e5807d3c54deec375c": {
          "model_module": "@jupyter-widgets/base",
          "model_name": "LayoutModel",
          "state": {
            "_view_name": "LayoutView",
            "grid_template_rows": null,
            "right": null,
            "justify_content": null,
            "_view_module": "@jupyter-widgets/base",
            "overflow": null,
            "_model_module_version": "1.2.0",
            "_view_count": null,
            "flex_flow": null,
            "width": null,
            "min_width": null,
            "border": null,
            "align_items": null,
            "bottom": null,
            "_model_module": "@jupyter-widgets/base",
            "top": null,
            "grid_column": null,
            "overflow_y": null,
            "overflow_x": null,
            "grid_auto_flow": null,
            "grid_area": null,
            "grid_template_columns": null,
            "flex": null,
            "_model_name": "LayoutModel",
            "justify_items": null,
            "grid_row": null,
            "max_height": null,
            "align_content": null,
            "visibility": null,
            "align_self": null,
            "height": null,
            "min_height": null,
            "padding": null,
            "grid_auto_rows": null,
            "grid_gap": null,
            "max_width": null,
            "order": null,
            "_view_module_version": "1.2.0",
            "grid_template_areas": null,
            "object_position": null,
            "object_fit": null,
            "grid_auto_columns": null,
            "margin": null,
            "display": null,
            "left": null
          }
        },
        "84ce7bae4ca04cc59b86becf09f4c4aa": {
          "model_module": "@jupyter-widgets/controls",
          "model_name": "HBoxModel",
          "state": {
            "_view_name": "HBoxView",
            "_dom_classes": [],
            "_model_name": "HBoxModel",
            "_view_module": "@jupyter-widgets/controls",
            "_model_module_version": "1.5.0",
            "_view_count": null,
            "_view_module_version": "1.5.0",
            "box_style": "",
            "layout": "IPY_MODEL_8a028bc67252453a9ea35c2bf443552a",
            "_model_module": "@jupyter-widgets/controls",
            "children": [
              "IPY_MODEL_93ea27151b4f460392dc6c731a1abedc",
              "IPY_MODEL_cb843587ca5b45b491a8d9c4b254a289"
            ]
          }
        },
        "8a028bc67252453a9ea35c2bf443552a": {
          "model_module": "@jupyter-widgets/base",
          "model_name": "LayoutModel",
          "state": {
            "_view_name": "LayoutView",
            "grid_template_rows": null,
            "right": null,
            "justify_content": null,
            "_view_module": "@jupyter-widgets/base",
            "overflow": null,
            "_model_module_version": "1.2.0",
            "_view_count": null,
            "flex_flow": null,
            "width": null,
            "min_width": null,
            "border": null,
            "align_items": null,
            "bottom": null,
            "_model_module": "@jupyter-widgets/base",
            "top": null,
            "grid_column": null,
            "overflow_y": null,
            "overflow_x": null,
            "grid_auto_flow": null,
            "grid_area": null,
            "grid_template_columns": null,
            "flex": null,
            "_model_name": "LayoutModel",
            "justify_items": null,
            "grid_row": null,
            "max_height": null,
            "align_content": null,
            "visibility": null,
            "align_self": null,
            "height": null,
            "min_height": null,
            "padding": null,
            "grid_auto_rows": null,
            "grid_gap": null,
            "max_width": null,
            "order": null,
            "_view_module_version": "1.2.0",
            "grid_template_areas": null,
            "object_position": null,
            "object_fit": null,
            "grid_auto_columns": null,
            "margin": null,
            "display": null,
            "left": null
          }
        },
        "93ea27151b4f460392dc6c731a1abedc": {
          "model_module": "@jupyter-widgets/controls",
          "model_name": "FloatProgressModel",
          "state": {
            "_view_name": "ProgressView",
            "style": "IPY_MODEL_ff2f1d423a024ab6bdebd74eb5cda9c8",
            "_dom_classes": [],
            "description": "Epoch 0: 100%",
            "_model_name": "FloatProgressModel",
            "bar_style": "",
            "max": 563,
            "_view_module": "@jupyter-widgets/controls",
            "_model_module_version": "1.5.0",
            "value": 563,
            "_view_count": null,
            "_view_module_version": "1.5.0",
            "orientation": "horizontal",
            "min": 0,
            "description_tooltip": null,
            "_model_module": "@jupyter-widgets/controls",
            "layout": "IPY_MODEL_60931ed8e432444e883ebe0493f8132d"
          }
        },
        "cb843587ca5b45b491a8d9c4b254a289": {
          "model_module": "@jupyter-widgets/controls",
          "model_name": "HTMLModel",
          "state": {
            "_view_name": "HTMLView",
            "style": "IPY_MODEL_ef9382f02a0947b687933e3f0005b350",
            "_dom_classes": [],
            "description": "",
            "_model_name": "HTMLModel",
            "placeholder": "​",
            "_view_module": "@jupyter-widgets/controls",
            "_model_module_version": "1.5.0",
            "value": " 563/563 [00:04&lt;00:00, 120.72it/s, loss=0.116]",
            "_view_count": null,
            "_view_module_version": "1.5.0",
            "description_tooltip": null,
            "_model_module": "@jupyter-widgets/controls",
            "layout": "IPY_MODEL_ad33eebec6bc41508ab0a6aa71cadf9c"
          }
        },
        "ff2f1d423a024ab6bdebd74eb5cda9c8": {
          "model_module": "@jupyter-widgets/controls",
          "model_name": "ProgressStyleModel",
          "state": {
            "_view_name": "StyleView",
            "_model_name": "ProgressStyleModel",
            "description_width": "initial",
            "_view_module": "@jupyter-widgets/base",
            "_model_module_version": "1.5.0",
            "_view_count": null,
            "_view_module_version": "1.2.0",
            "bar_color": null,
            "_model_module": "@jupyter-widgets/controls"
          }
        },
        "60931ed8e432444e883ebe0493f8132d": {
          "model_module": "@jupyter-widgets/base",
          "model_name": "LayoutModel",
          "state": {
            "_view_name": "LayoutView",
            "grid_template_rows": null,
            "right": null,
            "justify_content": null,
            "_view_module": "@jupyter-widgets/base",
            "overflow": null,
            "_model_module_version": "1.2.0",
            "_view_count": null,
            "flex_flow": null,
            "width": null,
            "min_width": null,
            "border": null,
            "align_items": null,
            "bottom": null,
            "_model_module": "@jupyter-widgets/base",
            "top": null,
            "grid_column": null,
            "overflow_y": null,
            "overflow_x": null,
            "grid_auto_flow": null,
            "grid_area": null,
            "grid_template_columns": null,
            "flex": null,
            "_model_name": "LayoutModel",
            "justify_items": null,
            "grid_row": null,
            "max_height": null,
            "align_content": null,
            "visibility": null,
            "align_self": null,
            "height": null,
            "min_height": null,
            "padding": null,
            "grid_auto_rows": null,
            "grid_gap": null,
            "max_width": null,
            "order": null,
            "_view_module_version": "1.2.0",
            "grid_template_areas": null,
            "object_position": null,
            "object_fit": null,
            "grid_auto_columns": null,
            "margin": null,
            "display": null,
            "left": null
          }
        },
        "ef9382f02a0947b687933e3f0005b350": {
          "model_module": "@jupyter-widgets/controls",
          "model_name": "DescriptionStyleModel",
          "state": {
            "_view_name": "StyleView",
            "_model_name": "DescriptionStyleModel",
            "description_width": "",
            "_view_module": "@jupyter-widgets/base",
            "_model_module_version": "1.5.0",
            "_view_count": null,
            "_view_module_version": "1.2.0",
            "_model_module": "@jupyter-widgets/controls"
          }
        },
        "ad33eebec6bc41508ab0a6aa71cadf9c": {
          "model_module": "@jupyter-widgets/base",
          "model_name": "LayoutModel",
          "state": {
            "_view_name": "LayoutView",
            "grid_template_rows": null,
            "right": null,
            "justify_content": null,
            "_view_module": "@jupyter-widgets/base",
            "overflow": null,
            "_model_module_version": "1.2.0",
            "_view_count": null,
            "flex_flow": null,
            "width": null,
            "min_width": null,
            "border": null,
            "align_items": null,
            "bottom": null,
            "_model_module": "@jupyter-widgets/base",
            "top": null,
            "grid_column": null,
            "overflow_y": null,
            "overflow_x": null,
            "grid_auto_flow": null,
            "grid_area": null,
            "grid_template_columns": null,
            "flex": null,
            "_model_name": "LayoutModel",
            "justify_items": null,
            "grid_row": null,
            "max_height": null,
            "align_content": null,
            "visibility": null,
            "align_self": null,
            "height": null,
            "min_height": null,
            "padding": null,
            "grid_auto_rows": null,
            "grid_gap": null,
            "max_width": null,
            "order": null,
            "_view_module_version": "1.2.0",
            "grid_template_areas": null,
            "object_position": null,
            "object_fit": null,
            "grid_auto_columns": null,
            "margin": null,
            "display": null,
            "left": null
          }
        },
        "e71693e4e6ba4ed9851bf3c5f2905a59": {
          "model_module": "@jupyter-widgets/controls",
          "model_name": "HBoxModel",
          "state": {
            "_view_name": "HBoxView",
            "_dom_classes": [],
            "_model_name": "HBoxModel",
            "_view_module": "@jupyter-widgets/controls",
            "_model_module_version": "1.5.0",
            "_view_count": null,
            "_view_module_version": "1.5.0",
            "box_style": "",
            "layout": "IPY_MODEL_7bdfbeae335f48b8a663dc01044a0cd6",
            "_model_module": "@jupyter-widgets/controls",
            "children": [
              "IPY_MODEL_ff096a08b148408f83e35b3744bf11e8",
              "IPY_MODEL_991666da5c2b459da780a00782667b0b"
            ]
          }
        },
        "7bdfbeae335f48b8a663dc01044a0cd6": {
          "model_module": "@jupyter-widgets/base",
          "model_name": "LayoutModel",
          "state": {
            "_view_name": "LayoutView",
            "grid_template_rows": null,
            "right": null,
            "justify_content": null,
            "_view_module": "@jupyter-widgets/base",
            "overflow": null,
            "_model_module_version": "1.2.0",
            "_view_count": null,
            "flex_flow": null,
            "width": null,
            "min_width": null,
            "border": null,
            "align_items": null,
            "bottom": null,
            "_model_module": "@jupyter-widgets/base",
            "top": null,
            "grid_column": null,
            "overflow_y": null,
            "overflow_x": null,
            "grid_auto_flow": null,
            "grid_area": null,
            "grid_template_columns": null,
            "flex": null,
            "_model_name": "LayoutModel",
            "justify_items": null,
            "grid_row": null,
            "max_height": null,
            "align_content": null,
            "visibility": null,
            "align_self": null,
            "height": null,
            "min_height": null,
            "padding": null,
            "grid_auto_rows": null,
            "grid_gap": null,
            "max_width": null,
            "order": null,
            "_view_module_version": "1.2.0",
            "grid_template_areas": null,
            "object_position": null,
            "object_fit": null,
            "grid_auto_columns": null,
            "margin": null,
            "display": null,
            "left": null
          }
        },
        "ff096a08b148408f83e35b3744bf11e8": {
          "model_module": "@jupyter-widgets/controls",
          "model_name": "FloatProgressModel",
          "state": {
            "_view_name": "ProgressView",
            "style": "IPY_MODEL_6a54a608e8cc48a2815ca464347972af",
            "_dom_classes": [],
            "description": "100%",
            "_model_name": "FloatProgressModel",
            "bar_style": "",
            "max": 141,
            "_view_module": "@jupyter-widgets/controls",
            "_model_module_version": "1.5.0",
            "value": 141,
            "_view_count": null,
            "_view_module_version": "1.5.0",
            "orientation": "horizontal",
            "min": 0,
            "description_tooltip": null,
            "_model_module": "@jupyter-widgets/controls",
            "layout": "IPY_MODEL_5c01cd2773534aa9a6db96752b73f208"
          }
        },
        "991666da5c2b459da780a00782667b0b": {
          "model_module": "@jupyter-widgets/controls",
          "model_name": "HTMLModel",
          "state": {
            "_view_name": "HTMLView",
            "style": "IPY_MODEL_244e075fa3154816a7ab010187bdc419",
            "_dom_classes": [],
            "description": "",
            "_model_name": "HTMLModel",
            "placeholder": "​",
            "_view_module": "@jupyter-widgets/controls",
            "_model_module_version": "1.5.0",
            "value": " 141/141 [00:00&lt;00:00, 330.49it/s]",
            "_view_count": null,
            "_view_module_version": "1.5.0",
            "description_tooltip": null,
            "_model_module": "@jupyter-widgets/controls",
            "layout": "IPY_MODEL_c9653f040394440a8027608eca6e9ccf"
          }
        },
        "6a54a608e8cc48a2815ca464347972af": {
          "model_module": "@jupyter-widgets/controls",
          "model_name": "ProgressStyleModel",
          "state": {
            "_view_name": "StyleView",
            "_model_name": "ProgressStyleModel",
            "description_width": "initial",
            "_view_module": "@jupyter-widgets/base",
            "_model_module_version": "1.5.0",
            "_view_count": null,
            "_view_module_version": "1.2.0",
            "bar_color": null,
            "_model_module": "@jupyter-widgets/controls"
          }
        },
        "5c01cd2773534aa9a6db96752b73f208": {
          "model_module": "@jupyter-widgets/base",
          "model_name": "LayoutModel",
          "state": {
            "_view_name": "LayoutView",
            "grid_template_rows": null,
            "right": null,
            "justify_content": null,
            "_view_module": "@jupyter-widgets/base",
            "overflow": null,
            "_model_module_version": "1.2.0",
            "_view_count": null,
            "flex_flow": null,
            "width": null,
            "min_width": null,
            "border": null,
            "align_items": null,
            "bottom": null,
            "_model_module": "@jupyter-widgets/base",
            "top": null,
            "grid_column": null,
            "overflow_y": null,
            "overflow_x": null,
            "grid_auto_flow": null,
            "grid_area": null,
            "grid_template_columns": null,
            "flex": null,
            "_model_name": "LayoutModel",
            "justify_items": null,
            "grid_row": null,
            "max_height": null,
            "align_content": null,
            "visibility": null,
            "align_self": null,
            "height": null,
            "min_height": null,
            "padding": null,
            "grid_auto_rows": null,
            "grid_gap": null,
            "max_width": null,
            "order": null,
            "_view_module_version": "1.2.0",
            "grid_template_areas": null,
            "object_position": null,
            "object_fit": null,
            "grid_auto_columns": null,
            "margin": null,
            "display": null,
            "left": null
          }
        },
        "244e075fa3154816a7ab010187bdc419": {
          "model_module": "@jupyter-widgets/controls",
          "model_name": "DescriptionStyleModel",
          "state": {
            "_view_name": "StyleView",
            "_model_name": "DescriptionStyleModel",
            "description_width": "",
            "_view_module": "@jupyter-widgets/base",
            "_model_module_version": "1.5.0",
            "_view_count": null,
            "_view_module_version": "1.2.0",
            "_model_module": "@jupyter-widgets/controls"
          }
        },
        "c9653f040394440a8027608eca6e9ccf": {
          "model_module": "@jupyter-widgets/base",
          "model_name": "LayoutModel",
          "state": {
            "_view_name": "LayoutView",
            "grid_template_rows": null,
            "right": null,
            "justify_content": null,
            "_view_module": "@jupyter-widgets/base",
            "overflow": null,
            "_model_module_version": "1.2.0",
            "_view_count": null,
            "flex_flow": null,
            "width": null,
            "min_width": null,
            "border": null,
            "align_items": null,
            "bottom": null,
            "_model_module": "@jupyter-widgets/base",
            "top": null,
            "grid_column": null,
            "overflow_y": null,
            "overflow_x": null,
            "grid_auto_flow": null,
            "grid_area": null,
            "grid_template_columns": null,
            "flex": null,
            "_model_name": "LayoutModel",
            "justify_items": null,
            "grid_row": null,
            "max_height": null,
            "align_content": null,
            "visibility": null,
            "align_self": null,
            "height": null,
            "min_height": null,
            "padding": null,
            "grid_auto_rows": null,
            "grid_gap": null,
            "max_width": null,
            "order": null,
            "_view_module_version": "1.2.0",
            "grid_template_areas": null,
            "object_position": null,
            "object_fit": null,
            "grid_auto_columns": null,
            "margin": null,
            "display": null,
            "left": null
          }
        },
        "2d1f9e3180b24d6a87b76846461fa6cb": {
          "model_module": "@jupyter-widgets/controls",
          "model_name": "HBoxModel",
          "state": {
            "_view_name": "HBoxView",
            "_dom_classes": [],
            "_model_name": "HBoxModel",
            "_view_module": "@jupyter-widgets/controls",
            "_model_module_version": "1.5.0",
            "_view_count": null,
            "_view_module_version": "1.5.0",
            "box_style": "",
            "layout": "IPY_MODEL_ddfaffb84e404d5dbf0e52fe9ebb8c5a",
            "_model_module": "@jupyter-widgets/controls",
            "children": [
              "IPY_MODEL_2cf81fb4e03c49ecae9aa849c2ba0770",
              "IPY_MODEL_658bdd05be87401cbd9769ea0b327e23"
            ]
          }
        },
        "ddfaffb84e404d5dbf0e52fe9ebb8c5a": {
          "model_module": "@jupyter-widgets/base",
          "model_name": "LayoutModel",
          "state": {
            "_view_name": "LayoutView",
            "grid_template_rows": null,
            "right": null,
            "justify_content": null,
            "_view_module": "@jupyter-widgets/base",
            "overflow": null,
            "_model_module_version": "1.2.0",
            "_view_count": null,
            "flex_flow": null,
            "width": null,
            "min_width": null,
            "border": null,
            "align_items": null,
            "bottom": null,
            "_model_module": "@jupyter-widgets/base",
            "top": null,
            "grid_column": null,
            "overflow_y": null,
            "overflow_x": null,
            "grid_auto_flow": null,
            "grid_area": null,
            "grid_template_columns": null,
            "flex": null,
            "_model_name": "LayoutModel",
            "justify_items": null,
            "grid_row": null,
            "max_height": null,
            "align_content": null,
            "visibility": null,
            "align_self": null,
            "height": null,
            "min_height": null,
            "padding": null,
            "grid_auto_rows": null,
            "grid_gap": null,
            "max_width": null,
            "order": null,
            "_view_module_version": "1.2.0",
            "grid_template_areas": null,
            "object_position": null,
            "object_fit": null,
            "grid_auto_columns": null,
            "margin": null,
            "display": null,
            "left": null
          }
        },
        "2cf81fb4e03c49ecae9aa849c2ba0770": {
          "model_module": "@jupyter-widgets/controls",
          "model_name": "FloatProgressModel",
          "state": {
            "_view_name": "ProgressView",
            "style": "IPY_MODEL_6b55ba280da94e679144f7b610b126bc",
            "_dom_classes": [],
            "description": "Epoch 1: 100%",
            "_model_name": "FloatProgressModel",
            "bar_style": "",
            "max": 563,
            "_view_module": "@jupyter-widgets/controls",
            "_model_module_version": "1.5.0",
            "value": 563,
            "_view_count": null,
            "_view_module_version": "1.5.0",
            "orientation": "horizontal",
            "min": 0,
            "description_tooltip": null,
            "_model_module": "@jupyter-widgets/controls",
            "layout": "IPY_MODEL_450925fe74c74caaa08db01ec868f71e"
          }
        },
        "658bdd05be87401cbd9769ea0b327e23": {
          "model_module": "@jupyter-widgets/controls",
          "model_name": "HTMLModel",
          "state": {
            "_view_name": "HTMLView",
            "style": "IPY_MODEL_516fa71b377b4e2abed291e56ec41f8a",
            "_dom_classes": [],
            "description": "",
            "_model_name": "HTMLModel",
            "placeholder": "​",
            "_view_module": "@jupyter-widgets/controls",
            "_model_module_version": "1.5.0",
            "value": " 563/563 [00:04&lt;00:00, 119.31it/s, loss=0.0821]",
            "_view_count": null,
            "_view_module_version": "1.5.0",
            "description_tooltip": null,
            "_model_module": "@jupyter-widgets/controls",
            "layout": "IPY_MODEL_e97c6589c41a4dd9ac534ca1ea621454"
          }
        },
        "6b55ba280da94e679144f7b610b126bc": {
          "model_module": "@jupyter-widgets/controls",
          "model_name": "ProgressStyleModel",
          "state": {
            "_view_name": "StyleView",
            "_model_name": "ProgressStyleModel",
            "description_width": "initial",
            "_view_module": "@jupyter-widgets/base",
            "_model_module_version": "1.5.0",
            "_view_count": null,
            "_view_module_version": "1.2.0",
            "bar_color": null,
            "_model_module": "@jupyter-widgets/controls"
          }
        },
        "450925fe74c74caaa08db01ec868f71e": {
          "model_module": "@jupyter-widgets/base",
          "model_name": "LayoutModel",
          "state": {
            "_view_name": "LayoutView",
            "grid_template_rows": null,
            "right": null,
            "justify_content": null,
            "_view_module": "@jupyter-widgets/base",
            "overflow": null,
            "_model_module_version": "1.2.0",
            "_view_count": null,
            "flex_flow": null,
            "width": null,
            "min_width": null,
            "border": null,
            "align_items": null,
            "bottom": null,
            "_model_module": "@jupyter-widgets/base",
            "top": null,
            "grid_column": null,
            "overflow_y": null,
            "overflow_x": null,
            "grid_auto_flow": null,
            "grid_area": null,
            "grid_template_columns": null,
            "flex": null,
            "_model_name": "LayoutModel",
            "justify_items": null,
            "grid_row": null,
            "max_height": null,
            "align_content": null,
            "visibility": null,
            "align_self": null,
            "height": null,
            "min_height": null,
            "padding": null,
            "grid_auto_rows": null,
            "grid_gap": null,
            "max_width": null,
            "order": null,
            "_view_module_version": "1.2.0",
            "grid_template_areas": null,
            "object_position": null,
            "object_fit": null,
            "grid_auto_columns": null,
            "margin": null,
            "display": null,
            "left": null
          }
        },
        "516fa71b377b4e2abed291e56ec41f8a": {
          "model_module": "@jupyter-widgets/controls",
          "model_name": "DescriptionStyleModel",
          "state": {
            "_view_name": "StyleView",
            "_model_name": "DescriptionStyleModel",
            "description_width": "",
            "_view_module": "@jupyter-widgets/base",
            "_model_module_version": "1.5.0",
            "_view_count": null,
            "_view_module_version": "1.2.0",
            "_model_module": "@jupyter-widgets/controls"
          }
        },
        "e97c6589c41a4dd9ac534ca1ea621454": {
          "model_module": "@jupyter-widgets/base",
          "model_name": "LayoutModel",
          "state": {
            "_view_name": "LayoutView",
            "grid_template_rows": null,
            "right": null,
            "justify_content": null,
            "_view_module": "@jupyter-widgets/base",
            "overflow": null,
            "_model_module_version": "1.2.0",
            "_view_count": null,
            "flex_flow": null,
            "width": null,
            "min_width": null,
            "border": null,
            "align_items": null,
            "bottom": null,
            "_model_module": "@jupyter-widgets/base",
            "top": null,
            "grid_column": null,
            "overflow_y": null,
            "overflow_x": null,
            "grid_auto_flow": null,
            "grid_area": null,
            "grid_template_columns": null,
            "flex": null,
            "_model_name": "LayoutModel",
            "justify_items": null,
            "grid_row": null,
            "max_height": null,
            "align_content": null,
            "visibility": null,
            "align_self": null,
            "height": null,
            "min_height": null,
            "padding": null,
            "grid_auto_rows": null,
            "grid_gap": null,
            "max_width": null,
            "order": null,
            "_view_module_version": "1.2.0",
            "grid_template_areas": null,
            "object_position": null,
            "object_fit": null,
            "grid_auto_columns": null,
            "margin": null,
            "display": null,
            "left": null
          }
        },
        "860bc24c71514b4387511700ee9316ae": {
          "model_module": "@jupyter-widgets/controls",
          "model_name": "HBoxModel",
          "state": {
            "_view_name": "HBoxView",
            "_dom_classes": [],
            "_model_name": "HBoxModel",
            "_view_module": "@jupyter-widgets/controls",
            "_model_module_version": "1.5.0",
            "_view_count": null,
            "_view_module_version": "1.5.0",
            "box_style": "",
            "layout": "IPY_MODEL_6d4431be1e6e4457801f5eaf343f816a",
            "_model_module": "@jupyter-widgets/controls",
            "children": [
              "IPY_MODEL_2a4711056f2d43ce81be13a10fadfccc",
              "IPY_MODEL_589db3a7ce4d4bf29199c0561492bd00"
            ]
          }
        },
        "6d4431be1e6e4457801f5eaf343f816a": {
          "model_module": "@jupyter-widgets/base",
          "model_name": "LayoutModel",
          "state": {
            "_view_name": "LayoutView",
            "grid_template_rows": null,
            "right": null,
            "justify_content": null,
            "_view_module": "@jupyter-widgets/base",
            "overflow": null,
            "_model_module_version": "1.2.0",
            "_view_count": null,
            "flex_flow": null,
            "width": null,
            "min_width": null,
            "border": null,
            "align_items": null,
            "bottom": null,
            "_model_module": "@jupyter-widgets/base",
            "top": null,
            "grid_column": null,
            "overflow_y": null,
            "overflow_x": null,
            "grid_auto_flow": null,
            "grid_area": null,
            "grid_template_columns": null,
            "flex": null,
            "_model_name": "LayoutModel",
            "justify_items": null,
            "grid_row": null,
            "max_height": null,
            "align_content": null,
            "visibility": null,
            "align_self": null,
            "height": null,
            "min_height": null,
            "padding": null,
            "grid_auto_rows": null,
            "grid_gap": null,
            "max_width": null,
            "order": null,
            "_view_module_version": "1.2.0",
            "grid_template_areas": null,
            "object_position": null,
            "object_fit": null,
            "grid_auto_columns": null,
            "margin": null,
            "display": null,
            "left": null
          }
        },
        "2a4711056f2d43ce81be13a10fadfccc": {
          "model_module": "@jupyter-widgets/controls",
          "model_name": "FloatProgressModel",
          "state": {
            "_view_name": "ProgressView",
            "style": "IPY_MODEL_de2144485fb644ba97f65b511eb8e8c4",
            "_dom_classes": [],
            "description": "100%",
            "_model_name": "FloatProgressModel",
            "bar_style": "",
            "max": 141,
            "_view_module": "@jupyter-widgets/controls",
            "_model_module_version": "1.5.0",
            "value": 141,
            "_view_count": null,
            "_view_module_version": "1.5.0",
            "orientation": "horizontal",
            "min": 0,
            "description_tooltip": null,
            "_model_module": "@jupyter-widgets/controls",
            "layout": "IPY_MODEL_8ec0ec88014b4563b52eecbd62dc24b4"
          }
        },
        "589db3a7ce4d4bf29199c0561492bd00": {
          "model_module": "@jupyter-widgets/controls",
          "model_name": "HTMLModel",
          "state": {
            "_view_name": "HTMLView",
            "style": "IPY_MODEL_b41384012b0a4f6a820509d5a190aaf8",
            "_dom_classes": [],
            "description": "",
            "_model_name": "HTMLModel",
            "placeholder": "​",
            "_view_module": "@jupyter-widgets/controls",
            "_model_module_version": "1.5.0",
            "value": " 141/141 [00:00&lt;00:00, 324.10it/s]",
            "_view_count": null,
            "_view_module_version": "1.5.0",
            "description_tooltip": null,
            "_model_module": "@jupyter-widgets/controls",
            "layout": "IPY_MODEL_e549567e1bab42dbbdf08f2b44bb5c40"
          }
        },
        "de2144485fb644ba97f65b511eb8e8c4": {
          "model_module": "@jupyter-widgets/controls",
          "model_name": "ProgressStyleModel",
          "state": {
            "_view_name": "StyleView",
            "_model_name": "ProgressStyleModel",
            "description_width": "initial",
            "_view_module": "@jupyter-widgets/base",
            "_model_module_version": "1.5.0",
            "_view_count": null,
            "_view_module_version": "1.2.0",
            "bar_color": null,
            "_model_module": "@jupyter-widgets/controls"
          }
        },
        "8ec0ec88014b4563b52eecbd62dc24b4": {
          "model_module": "@jupyter-widgets/base",
          "model_name": "LayoutModel",
          "state": {
            "_view_name": "LayoutView",
            "grid_template_rows": null,
            "right": null,
            "justify_content": null,
            "_view_module": "@jupyter-widgets/base",
            "overflow": null,
            "_model_module_version": "1.2.0",
            "_view_count": null,
            "flex_flow": null,
            "width": null,
            "min_width": null,
            "border": null,
            "align_items": null,
            "bottom": null,
            "_model_module": "@jupyter-widgets/base",
            "top": null,
            "grid_column": null,
            "overflow_y": null,
            "overflow_x": null,
            "grid_auto_flow": null,
            "grid_area": null,
            "grid_template_columns": null,
            "flex": null,
            "_model_name": "LayoutModel",
            "justify_items": null,
            "grid_row": null,
            "max_height": null,
            "align_content": null,
            "visibility": null,
            "align_self": null,
            "height": null,
            "min_height": null,
            "padding": null,
            "grid_auto_rows": null,
            "grid_gap": null,
            "max_width": null,
            "order": null,
            "_view_module_version": "1.2.0",
            "grid_template_areas": null,
            "object_position": null,
            "object_fit": null,
            "grid_auto_columns": null,
            "margin": null,
            "display": null,
            "left": null
          }
        },
        "b41384012b0a4f6a820509d5a190aaf8": {
          "model_module": "@jupyter-widgets/controls",
          "model_name": "DescriptionStyleModel",
          "state": {
            "_view_name": "StyleView",
            "_model_name": "DescriptionStyleModel",
            "description_width": "",
            "_view_module": "@jupyter-widgets/base",
            "_model_module_version": "1.5.0",
            "_view_count": null,
            "_view_module_version": "1.2.0",
            "_model_module": "@jupyter-widgets/controls"
          }
        },
        "e549567e1bab42dbbdf08f2b44bb5c40": {
          "model_module": "@jupyter-widgets/base",
          "model_name": "LayoutModel",
          "state": {
            "_view_name": "LayoutView",
            "grid_template_rows": null,
            "right": null,
            "justify_content": null,
            "_view_module": "@jupyter-widgets/base",
            "overflow": null,
            "_model_module_version": "1.2.0",
            "_view_count": null,
            "flex_flow": null,
            "width": null,
            "min_width": null,
            "border": null,
            "align_items": null,
            "bottom": null,
            "_model_module": "@jupyter-widgets/base",
            "top": null,
            "grid_column": null,
            "overflow_y": null,
            "overflow_x": null,
            "grid_auto_flow": null,
            "grid_area": null,
            "grid_template_columns": null,
            "flex": null,
            "_model_name": "LayoutModel",
            "justify_items": null,
            "grid_row": null,
            "max_height": null,
            "align_content": null,
            "visibility": null,
            "align_self": null,
            "height": null,
            "min_height": null,
            "padding": null,
            "grid_auto_rows": null,
            "grid_gap": null,
            "max_width": null,
            "order": null,
            "_view_module_version": "1.2.0",
            "grid_template_areas": null,
            "object_position": null,
            "object_fit": null,
            "grid_auto_columns": null,
            "margin": null,
            "display": null,
            "left": null
          }
        },
        "ea1b2d6ed8ce434dafe74901dd591a91": {
          "model_module": "@jupyter-widgets/controls",
          "model_name": "HBoxModel",
          "state": {
            "_view_name": "HBoxView",
            "_dom_classes": [],
            "_model_name": "HBoxModel",
            "_view_module": "@jupyter-widgets/controls",
            "_model_module_version": "1.5.0",
            "_view_count": null,
            "_view_module_version": "1.5.0",
            "box_style": "",
            "layout": "IPY_MODEL_544f6329118e4e809cc2f3c84c4976bd",
            "_model_module": "@jupyter-widgets/controls",
            "children": [
              "IPY_MODEL_e7816c35c1c14124a01fafdc8014d1de",
              "IPY_MODEL_d62d911e79df479893a853bf06fa079b"
            ]
          }
        },
        "544f6329118e4e809cc2f3c84c4976bd": {
          "model_module": "@jupyter-widgets/base",
          "model_name": "LayoutModel",
          "state": {
            "_view_name": "LayoutView",
            "grid_template_rows": null,
            "right": null,
            "justify_content": null,
            "_view_module": "@jupyter-widgets/base",
            "overflow": null,
            "_model_module_version": "1.2.0",
            "_view_count": null,
            "flex_flow": null,
            "width": null,
            "min_width": null,
            "border": null,
            "align_items": null,
            "bottom": null,
            "_model_module": "@jupyter-widgets/base",
            "top": null,
            "grid_column": null,
            "overflow_y": null,
            "overflow_x": null,
            "grid_auto_flow": null,
            "grid_area": null,
            "grid_template_columns": null,
            "flex": null,
            "_model_name": "LayoutModel",
            "justify_items": null,
            "grid_row": null,
            "max_height": null,
            "align_content": null,
            "visibility": null,
            "align_self": null,
            "height": null,
            "min_height": null,
            "padding": null,
            "grid_auto_rows": null,
            "grid_gap": null,
            "max_width": null,
            "order": null,
            "_view_module_version": "1.2.0",
            "grid_template_areas": null,
            "object_position": null,
            "object_fit": null,
            "grid_auto_columns": null,
            "margin": null,
            "display": null,
            "left": null
          }
        },
        "e7816c35c1c14124a01fafdc8014d1de": {
          "model_module": "@jupyter-widgets/controls",
          "model_name": "FloatProgressModel",
          "state": {
            "_view_name": "ProgressView",
            "style": "IPY_MODEL_8697456d90ec4c67a44973db4e6c2d92",
            "_dom_classes": [],
            "description": "Epoch 2: 100%",
            "_model_name": "FloatProgressModel",
            "bar_style": "",
            "max": 563,
            "_view_module": "@jupyter-widgets/controls",
            "_model_module_version": "1.5.0",
            "value": 563,
            "_view_count": null,
            "_view_module_version": "1.5.0",
            "orientation": "horizontal",
            "min": 0,
            "description_tooltip": null,
            "_model_module": "@jupyter-widgets/controls",
            "layout": "IPY_MODEL_6cbca129b49543f1994141ff59a55d4b"
          }
        },
        "d62d911e79df479893a853bf06fa079b": {
          "model_module": "@jupyter-widgets/controls",
          "model_name": "HTMLModel",
          "state": {
            "_view_name": "HTMLView",
            "style": "IPY_MODEL_429a02e685214ad7b4b4cb6c17b58eb9",
            "_dom_classes": [],
            "description": "",
            "_model_name": "HTMLModel",
            "placeholder": "​",
            "_view_module": "@jupyter-widgets/controls",
            "_model_module_version": "1.5.0",
            "value": " 563/563 [00:04&lt;00:00, 118.82it/s, loss=0.137]",
            "_view_count": null,
            "_view_module_version": "1.5.0",
            "description_tooltip": null,
            "_model_module": "@jupyter-widgets/controls",
            "layout": "IPY_MODEL_b945e15ec8c7401abd825c2a22ce6d77"
          }
        },
        "8697456d90ec4c67a44973db4e6c2d92": {
          "model_module": "@jupyter-widgets/controls",
          "model_name": "ProgressStyleModel",
          "state": {
            "_view_name": "StyleView",
            "_model_name": "ProgressStyleModel",
            "description_width": "initial",
            "_view_module": "@jupyter-widgets/base",
            "_model_module_version": "1.5.0",
            "_view_count": null,
            "_view_module_version": "1.2.0",
            "bar_color": null,
            "_model_module": "@jupyter-widgets/controls"
          }
        },
        "6cbca129b49543f1994141ff59a55d4b": {
          "model_module": "@jupyter-widgets/base",
          "model_name": "LayoutModel",
          "state": {
            "_view_name": "LayoutView",
            "grid_template_rows": null,
            "right": null,
            "justify_content": null,
            "_view_module": "@jupyter-widgets/base",
            "overflow": null,
            "_model_module_version": "1.2.0",
            "_view_count": null,
            "flex_flow": null,
            "width": null,
            "min_width": null,
            "border": null,
            "align_items": null,
            "bottom": null,
            "_model_module": "@jupyter-widgets/base",
            "top": null,
            "grid_column": null,
            "overflow_y": null,
            "overflow_x": null,
            "grid_auto_flow": null,
            "grid_area": null,
            "grid_template_columns": null,
            "flex": null,
            "_model_name": "LayoutModel",
            "justify_items": null,
            "grid_row": null,
            "max_height": null,
            "align_content": null,
            "visibility": null,
            "align_self": null,
            "height": null,
            "min_height": null,
            "padding": null,
            "grid_auto_rows": null,
            "grid_gap": null,
            "max_width": null,
            "order": null,
            "_view_module_version": "1.2.0",
            "grid_template_areas": null,
            "object_position": null,
            "object_fit": null,
            "grid_auto_columns": null,
            "margin": null,
            "display": null,
            "left": null
          }
        },
        "429a02e685214ad7b4b4cb6c17b58eb9": {
          "model_module": "@jupyter-widgets/controls",
          "model_name": "DescriptionStyleModel",
          "state": {
            "_view_name": "StyleView",
            "_model_name": "DescriptionStyleModel",
            "description_width": "",
            "_view_module": "@jupyter-widgets/base",
            "_model_module_version": "1.5.0",
            "_view_count": null,
            "_view_module_version": "1.2.0",
            "_model_module": "@jupyter-widgets/controls"
          }
        },
        "b945e15ec8c7401abd825c2a22ce6d77": {
          "model_module": "@jupyter-widgets/base",
          "model_name": "LayoutModel",
          "state": {
            "_view_name": "LayoutView",
            "grid_template_rows": null,
            "right": null,
            "justify_content": null,
            "_view_module": "@jupyter-widgets/base",
            "overflow": null,
            "_model_module_version": "1.2.0",
            "_view_count": null,
            "flex_flow": null,
            "width": null,
            "min_width": null,
            "border": null,
            "align_items": null,
            "bottom": null,
            "_model_module": "@jupyter-widgets/base",
            "top": null,
            "grid_column": null,
            "overflow_y": null,
            "overflow_x": null,
            "grid_auto_flow": null,
            "grid_area": null,
            "grid_template_columns": null,
            "flex": null,
            "_model_name": "LayoutModel",
            "justify_items": null,
            "grid_row": null,
            "max_height": null,
            "align_content": null,
            "visibility": null,
            "align_self": null,
            "height": null,
            "min_height": null,
            "padding": null,
            "grid_auto_rows": null,
            "grid_gap": null,
            "max_width": null,
            "order": null,
            "_view_module_version": "1.2.0",
            "grid_template_areas": null,
            "object_position": null,
            "object_fit": null,
            "grid_auto_columns": null,
            "margin": null,
            "display": null,
            "left": null
          }
        },
        "7cff9dab8c0640fabad6d2889f7dd18c": {
          "model_module": "@jupyter-widgets/controls",
          "model_name": "HBoxModel",
          "state": {
            "_view_name": "HBoxView",
            "_dom_classes": [],
            "_model_name": "HBoxModel",
            "_view_module": "@jupyter-widgets/controls",
            "_model_module_version": "1.5.0",
            "_view_count": null,
            "_view_module_version": "1.5.0",
            "box_style": "",
            "layout": "IPY_MODEL_755f720fdea34b09b390e1ee6e7a7023",
            "_model_module": "@jupyter-widgets/controls",
            "children": [
              "IPY_MODEL_d9c7b7c031a8483c93dca279957543ee",
              "IPY_MODEL_e740bcd640f04c2e9f9cd0b22f950959"
            ]
          }
        },
        "755f720fdea34b09b390e1ee6e7a7023": {
          "model_module": "@jupyter-widgets/base",
          "model_name": "LayoutModel",
          "state": {
            "_view_name": "LayoutView",
            "grid_template_rows": null,
            "right": null,
            "justify_content": null,
            "_view_module": "@jupyter-widgets/base",
            "overflow": null,
            "_model_module_version": "1.2.0",
            "_view_count": null,
            "flex_flow": null,
            "width": null,
            "min_width": null,
            "border": null,
            "align_items": null,
            "bottom": null,
            "_model_module": "@jupyter-widgets/base",
            "top": null,
            "grid_column": null,
            "overflow_y": null,
            "overflow_x": null,
            "grid_auto_flow": null,
            "grid_area": null,
            "grid_template_columns": null,
            "flex": null,
            "_model_name": "LayoutModel",
            "justify_items": null,
            "grid_row": null,
            "max_height": null,
            "align_content": null,
            "visibility": null,
            "align_self": null,
            "height": null,
            "min_height": null,
            "padding": null,
            "grid_auto_rows": null,
            "grid_gap": null,
            "max_width": null,
            "order": null,
            "_view_module_version": "1.2.0",
            "grid_template_areas": null,
            "object_position": null,
            "object_fit": null,
            "grid_auto_columns": null,
            "margin": null,
            "display": null,
            "left": null
          }
        },
        "d9c7b7c031a8483c93dca279957543ee": {
          "model_module": "@jupyter-widgets/controls",
          "model_name": "FloatProgressModel",
          "state": {
            "_view_name": "ProgressView",
            "style": "IPY_MODEL_e2f2d39429ae40d0ad9527e82e19eadc",
            "_dom_classes": [],
            "description": "100%",
            "_model_name": "FloatProgressModel",
            "bar_style": "",
            "max": 141,
            "_view_module": "@jupyter-widgets/controls",
            "_model_module_version": "1.5.0",
            "value": 141,
            "_view_count": null,
            "_view_module_version": "1.5.0",
            "orientation": "horizontal",
            "min": 0,
            "description_tooltip": null,
            "_model_module": "@jupyter-widgets/controls",
            "layout": "IPY_MODEL_abada3eb82d14399ad35d2af40f509d3"
          }
        },
        "e740bcd640f04c2e9f9cd0b22f950959": {
          "model_module": "@jupyter-widgets/controls",
          "model_name": "HTMLModel",
          "state": {
            "_view_name": "HTMLView",
            "style": "IPY_MODEL_8510009b08af42ec95e0aab6a9869727",
            "_dom_classes": [],
            "description": "",
            "_model_name": "HTMLModel",
            "placeholder": "​",
            "_view_module": "@jupyter-widgets/controls",
            "_model_module_version": "1.5.0",
            "value": " 141/141 [00:00&lt;00:00, 325.36it/s]",
            "_view_count": null,
            "_view_module_version": "1.5.0",
            "description_tooltip": null,
            "_model_module": "@jupyter-widgets/controls",
            "layout": "IPY_MODEL_0212597d62a140c1ae520cfea24b23a2"
          }
        },
        "e2f2d39429ae40d0ad9527e82e19eadc": {
          "model_module": "@jupyter-widgets/controls",
          "model_name": "ProgressStyleModel",
          "state": {
            "_view_name": "StyleView",
            "_model_name": "ProgressStyleModel",
            "description_width": "initial",
            "_view_module": "@jupyter-widgets/base",
            "_model_module_version": "1.5.0",
            "_view_count": null,
            "_view_module_version": "1.2.0",
            "bar_color": null,
            "_model_module": "@jupyter-widgets/controls"
          }
        },
        "abada3eb82d14399ad35d2af40f509d3": {
          "model_module": "@jupyter-widgets/base",
          "model_name": "LayoutModel",
          "state": {
            "_view_name": "LayoutView",
            "grid_template_rows": null,
            "right": null,
            "justify_content": null,
            "_view_module": "@jupyter-widgets/base",
            "overflow": null,
            "_model_module_version": "1.2.0",
            "_view_count": null,
            "flex_flow": null,
            "width": null,
            "min_width": null,
            "border": null,
            "align_items": null,
            "bottom": null,
            "_model_module": "@jupyter-widgets/base",
            "top": null,
            "grid_column": null,
            "overflow_y": null,
            "overflow_x": null,
            "grid_auto_flow": null,
            "grid_area": null,
            "grid_template_columns": null,
            "flex": null,
            "_model_name": "LayoutModel",
            "justify_items": null,
            "grid_row": null,
            "max_height": null,
            "align_content": null,
            "visibility": null,
            "align_self": null,
            "height": null,
            "min_height": null,
            "padding": null,
            "grid_auto_rows": null,
            "grid_gap": null,
            "max_width": null,
            "order": null,
            "_view_module_version": "1.2.0",
            "grid_template_areas": null,
            "object_position": null,
            "object_fit": null,
            "grid_auto_columns": null,
            "margin": null,
            "display": null,
            "left": null
          }
        },
        "8510009b08af42ec95e0aab6a9869727": {
          "model_module": "@jupyter-widgets/controls",
          "model_name": "DescriptionStyleModel",
          "state": {
            "_view_name": "StyleView",
            "_model_name": "DescriptionStyleModel",
            "description_width": "",
            "_view_module": "@jupyter-widgets/base",
            "_model_module_version": "1.5.0",
            "_view_count": null,
            "_view_module_version": "1.2.0",
            "_model_module": "@jupyter-widgets/controls"
          }
        },
        "0212597d62a140c1ae520cfea24b23a2": {
          "model_module": "@jupyter-widgets/base",
          "model_name": "LayoutModel",
          "state": {
            "_view_name": "LayoutView",
            "grid_template_rows": null,
            "right": null,
            "justify_content": null,
            "_view_module": "@jupyter-widgets/base",
            "overflow": null,
            "_model_module_version": "1.2.0",
            "_view_count": null,
            "flex_flow": null,
            "width": null,
            "min_width": null,
            "border": null,
            "align_items": null,
            "bottom": null,
            "_model_module": "@jupyter-widgets/base",
            "top": null,
            "grid_column": null,
            "overflow_y": null,
            "overflow_x": null,
            "grid_auto_flow": null,
            "grid_area": null,
            "grid_template_columns": null,
            "flex": null,
            "_model_name": "LayoutModel",
            "justify_items": null,
            "grid_row": null,
            "max_height": null,
            "align_content": null,
            "visibility": null,
            "align_self": null,
            "height": null,
            "min_height": null,
            "padding": null,
            "grid_auto_rows": null,
            "grid_gap": null,
            "max_width": null,
            "order": null,
            "_view_module_version": "1.2.0",
            "grid_template_areas": null,
            "object_position": null,
            "object_fit": null,
            "grid_auto_columns": null,
            "margin": null,
            "display": null,
            "left": null
          }
        },
        "ab4d089110b342fba5b172dadabf0140": {
          "model_module": "@jupyter-widgets/controls",
          "model_name": "HBoxModel",
          "state": {
            "_view_name": "HBoxView",
            "_dom_classes": [],
            "_model_name": "HBoxModel",
            "_view_module": "@jupyter-widgets/controls",
            "_model_module_version": "1.5.0",
            "_view_count": null,
            "_view_module_version": "1.5.0",
            "box_style": "",
            "layout": "IPY_MODEL_828444ebf58345a784cf6c0240a3687c",
            "_model_module": "@jupyter-widgets/controls",
            "children": [
              "IPY_MODEL_9d17c9735cde4ee3b25fe6ce144d81a7",
              "IPY_MODEL_0c9e3e8623c34275b7faa0df9ec65c67"
            ]
          }
        },
        "828444ebf58345a784cf6c0240a3687c": {
          "model_module": "@jupyter-widgets/base",
          "model_name": "LayoutModel",
          "state": {
            "_view_name": "LayoutView",
            "grid_template_rows": null,
            "right": null,
            "justify_content": null,
            "_view_module": "@jupyter-widgets/base",
            "overflow": null,
            "_model_module_version": "1.2.0",
            "_view_count": null,
            "flex_flow": null,
            "width": null,
            "min_width": null,
            "border": null,
            "align_items": null,
            "bottom": null,
            "_model_module": "@jupyter-widgets/base",
            "top": null,
            "grid_column": null,
            "overflow_y": null,
            "overflow_x": null,
            "grid_auto_flow": null,
            "grid_area": null,
            "grid_template_columns": null,
            "flex": null,
            "_model_name": "LayoutModel",
            "justify_items": null,
            "grid_row": null,
            "max_height": null,
            "align_content": null,
            "visibility": null,
            "align_self": null,
            "height": null,
            "min_height": null,
            "padding": null,
            "grid_auto_rows": null,
            "grid_gap": null,
            "max_width": null,
            "order": null,
            "_view_module_version": "1.2.0",
            "grid_template_areas": null,
            "object_position": null,
            "object_fit": null,
            "grid_auto_columns": null,
            "margin": null,
            "display": null,
            "left": null
          }
        },
        "9d17c9735cde4ee3b25fe6ce144d81a7": {
          "model_module": "@jupyter-widgets/controls",
          "model_name": "FloatProgressModel",
          "state": {
            "_view_name": "ProgressView",
            "style": "IPY_MODEL_58b24c015d254483a0c300582403d933",
            "_dom_classes": [],
            "description": "Epoch 3: 100%",
            "_model_name": "FloatProgressModel",
            "bar_style": "",
            "max": 563,
            "_view_module": "@jupyter-widgets/controls",
            "_model_module_version": "1.5.0",
            "value": 563,
            "_view_count": null,
            "_view_module_version": "1.5.0",
            "orientation": "horizontal",
            "min": 0,
            "description_tooltip": null,
            "_model_module": "@jupyter-widgets/controls",
            "layout": "IPY_MODEL_41a6f07c89be4995b3e3e87fe6a71020"
          }
        },
        "0c9e3e8623c34275b7faa0df9ec65c67": {
          "model_module": "@jupyter-widgets/controls",
          "model_name": "HTMLModel",
          "state": {
            "_view_name": "HTMLView",
            "style": "IPY_MODEL_d52a07098c6c44c7af14d004c3e973c3",
            "_dom_classes": [],
            "description": "",
            "_model_name": "HTMLModel",
            "placeholder": "​",
            "_view_module": "@jupyter-widgets/controls",
            "_model_module_version": "1.5.0",
            "value": " 563/563 [00:04&lt;00:00, 119.65it/s, loss=0.0501]",
            "_view_count": null,
            "_view_module_version": "1.5.0",
            "description_tooltip": null,
            "_model_module": "@jupyter-widgets/controls",
            "layout": "IPY_MODEL_d18a576076b14baeba159b813fabf1a5"
          }
        },
        "58b24c015d254483a0c300582403d933": {
          "model_module": "@jupyter-widgets/controls",
          "model_name": "ProgressStyleModel",
          "state": {
            "_view_name": "StyleView",
            "_model_name": "ProgressStyleModel",
            "description_width": "initial",
            "_view_module": "@jupyter-widgets/base",
            "_model_module_version": "1.5.0",
            "_view_count": null,
            "_view_module_version": "1.2.0",
            "bar_color": null,
            "_model_module": "@jupyter-widgets/controls"
          }
        },
        "41a6f07c89be4995b3e3e87fe6a71020": {
          "model_module": "@jupyter-widgets/base",
          "model_name": "LayoutModel",
          "state": {
            "_view_name": "LayoutView",
            "grid_template_rows": null,
            "right": null,
            "justify_content": null,
            "_view_module": "@jupyter-widgets/base",
            "overflow": null,
            "_model_module_version": "1.2.0",
            "_view_count": null,
            "flex_flow": null,
            "width": null,
            "min_width": null,
            "border": null,
            "align_items": null,
            "bottom": null,
            "_model_module": "@jupyter-widgets/base",
            "top": null,
            "grid_column": null,
            "overflow_y": null,
            "overflow_x": null,
            "grid_auto_flow": null,
            "grid_area": null,
            "grid_template_columns": null,
            "flex": null,
            "_model_name": "LayoutModel",
            "justify_items": null,
            "grid_row": null,
            "max_height": null,
            "align_content": null,
            "visibility": null,
            "align_self": null,
            "height": null,
            "min_height": null,
            "padding": null,
            "grid_auto_rows": null,
            "grid_gap": null,
            "max_width": null,
            "order": null,
            "_view_module_version": "1.2.0",
            "grid_template_areas": null,
            "object_position": null,
            "object_fit": null,
            "grid_auto_columns": null,
            "margin": null,
            "display": null,
            "left": null
          }
        },
        "d52a07098c6c44c7af14d004c3e973c3": {
          "model_module": "@jupyter-widgets/controls",
          "model_name": "DescriptionStyleModel",
          "state": {
            "_view_name": "StyleView",
            "_model_name": "DescriptionStyleModel",
            "description_width": "",
            "_view_module": "@jupyter-widgets/base",
            "_model_module_version": "1.5.0",
            "_view_count": null,
            "_view_module_version": "1.2.0",
            "_model_module": "@jupyter-widgets/controls"
          }
        },
        "d18a576076b14baeba159b813fabf1a5": {
          "model_module": "@jupyter-widgets/base",
          "model_name": "LayoutModel",
          "state": {
            "_view_name": "LayoutView",
            "grid_template_rows": null,
            "right": null,
            "justify_content": null,
            "_view_module": "@jupyter-widgets/base",
            "overflow": null,
            "_model_module_version": "1.2.0",
            "_view_count": null,
            "flex_flow": null,
            "width": null,
            "min_width": null,
            "border": null,
            "align_items": null,
            "bottom": null,
            "_model_module": "@jupyter-widgets/base",
            "top": null,
            "grid_column": null,
            "overflow_y": null,
            "overflow_x": null,
            "grid_auto_flow": null,
            "grid_area": null,
            "grid_template_columns": null,
            "flex": null,
            "_model_name": "LayoutModel",
            "justify_items": null,
            "grid_row": null,
            "max_height": null,
            "align_content": null,
            "visibility": null,
            "align_self": null,
            "height": null,
            "min_height": null,
            "padding": null,
            "grid_auto_rows": null,
            "grid_gap": null,
            "max_width": null,
            "order": null,
            "_view_module_version": "1.2.0",
            "grid_template_areas": null,
            "object_position": null,
            "object_fit": null,
            "grid_auto_columns": null,
            "margin": null,
            "display": null,
            "left": null
          }
        },
        "2f0c7551880843b082bc04407968809f": {
          "model_module": "@jupyter-widgets/controls",
          "model_name": "HBoxModel",
          "state": {
            "_view_name": "HBoxView",
            "_dom_classes": [],
            "_model_name": "HBoxModel",
            "_view_module": "@jupyter-widgets/controls",
            "_model_module_version": "1.5.0",
            "_view_count": null,
            "_view_module_version": "1.5.0",
            "box_style": "",
            "layout": "IPY_MODEL_76265f0b3c73426bb2ff781d04300e26",
            "_model_module": "@jupyter-widgets/controls",
            "children": [
              "IPY_MODEL_66318edda8664b819cf3aeaaf9f03e01",
              "IPY_MODEL_f46ae3e4d00c40c8b331140a09314b17"
            ]
          }
        },
        "76265f0b3c73426bb2ff781d04300e26": {
          "model_module": "@jupyter-widgets/base",
          "model_name": "LayoutModel",
          "state": {
            "_view_name": "LayoutView",
            "grid_template_rows": null,
            "right": null,
            "justify_content": null,
            "_view_module": "@jupyter-widgets/base",
            "overflow": null,
            "_model_module_version": "1.2.0",
            "_view_count": null,
            "flex_flow": null,
            "width": null,
            "min_width": null,
            "border": null,
            "align_items": null,
            "bottom": null,
            "_model_module": "@jupyter-widgets/base",
            "top": null,
            "grid_column": null,
            "overflow_y": null,
            "overflow_x": null,
            "grid_auto_flow": null,
            "grid_area": null,
            "grid_template_columns": null,
            "flex": null,
            "_model_name": "LayoutModel",
            "justify_items": null,
            "grid_row": null,
            "max_height": null,
            "align_content": null,
            "visibility": null,
            "align_self": null,
            "height": null,
            "min_height": null,
            "padding": null,
            "grid_auto_rows": null,
            "grid_gap": null,
            "max_width": null,
            "order": null,
            "_view_module_version": "1.2.0",
            "grid_template_areas": null,
            "object_position": null,
            "object_fit": null,
            "grid_auto_columns": null,
            "margin": null,
            "display": null,
            "left": null
          }
        },
        "66318edda8664b819cf3aeaaf9f03e01": {
          "model_module": "@jupyter-widgets/controls",
          "model_name": "FloatProgressModel",
          "state": {
            "_view_name": "ProgressView",
            "style": "IPY_MODEL_f2b79be5156a47e5bb060e69f7a3618f",
            "_dom_classes": [],
            "description": "100%",
            "_model_name": "FloatProgressModel",
            "bar_style": "",
            "max": 141,
            "_view_module": "@jupyter-widgets/controls",
            "_model_module_version": "1.5.0",
            "value": 141,
            "_view_count": null,
            "_view_module_version": "1.5.0",
            "orientation": "horizontal",
            "min": 0,
            "description_tooltip": null,
            "_model_module": "@jupyter-widgets/controls",
            "layout": "IPY_MODEL_24cfb4a4ce304447a3e45f5856d56339"
          }
        },
        "f46ae3e4d00c40c8b331140a09314b17": {
          "model_module": "@jupyter-widgets/controls",
          "model_name": "HTMLModel",
          "state": {
            "_view_name": "HTMLView",
            "style": "IPY_MODEL_7da1de97cf294981adc1c5e033a48f97",
            "_dom_classes": [],
            "description": "",
            "_model_name": "HTMLModel",
            "placeholder": "​",
            "_view_module": "@jupyter-widgets/controls",
            "_model_module_version": "1.5.0",
            "value": " 141/141 [00:00&lt;00:00, 323.48it/s]",
            "_view_count": null,
            "_view_module_version": "1.5.0",
            "description_tooltip": null,
            "_model_module": "@jupyter-widgets/controls",
            "layout": "IPY_MODEL_0c0860c0dcb64adf85e52ee6a89e65be"
          }
        },
        "f2b79be5156a47e5bb060e69f7a3618f": {
          "model_module": "@jupyter-widgets/controls",
          "model_name": "ProgressStyleModel",
          "state": {
            "_view_name": "StyleView",
            "_model_name": "ProgressStyleModel",
            "description_width": "initial",
            "_view_module": "@jupyter-widgets/base",
            "_model_module_version": "1.5.0",
            "_view_count": null,
            "_view_module_version": "1.2.0",
            "bar_color": null,
            "_model_module": "@jupyter-widgets/controls"
          }
        },
        "24cfb4a4ce304447a3e45f5856d56339": {
          "model_module": "@jupyter-widgets/base",
          "model_name": "LayoutModel",
          "state": {
            "_view_name": "LayoutView",
            "grid_template_rows": null,
            "right": null,
            "justify_content": null,
            "_view_module": "@jupyter-widgets/base",
            "overflow": null,
            "_model_module_version": "1.2.0",
            "_view_count": null,
            "flex_flow": null,
            "width": null,
            "min_width": null,
            "border": null,
            "align_items": null,
            "bottom": null,
            "_model_module": "@jupyter-widgets/base",
            "top": null,
            "grid_column": null,
            "overflow_y": null,
            "overflow_x": null,
            "grid_auto_flow": null,
            "grid_area": null,
            "grid_template_columns": null,
            "flex": null,
            "_model_name": "LayoutModel",
            "justify_items": null,
            "grid_row": null,
            "max_height": null,
            "align_content": null,
            "visibility": null,
            "align_self": null,
            "height": null,
            "min_height": null,
            "padding": null,
            "grid_auto_rows": null,
            "grid_gap": null,
            "max_width": null,
            "order": null,
            "_view_module_version": "1.2.0",
            "grid_template_areas": null,
            "object_position": null,
            "object_fit": null,
            "grid_auto_columns": null,
            "margin": null,
            "display": null,
            "left": null
          }
        },
        "7da1de97cf294981adc1c5e033a48f97": {
          "model_module": "@jupyter-widgets/controls",
          "model_name": "DescriptionStyleModel",
          "state": {
            "_view_name": "StyleView",
            "_model_name": "DescriptionStyleModel",
            "description_width": "",
            "_view_module": "@jupyter-widgets/base",
            "_model_module_version": "1.5.0",
            "_view_count": null,
            "_view_module_version": "1.2.0",
            "_model_module": "@jupyter-widgets/controls"
          }
        },
        "0c0860c0dcb64adf85e52ee6a89e65be": {
          "model_module": "@jupyter-widgets/base",
          "model_name": "LayoutModel",
          "state": {
            "_view_name": "LayoutView",
            "grid_template_rows": null,
            "right": null,
            "justify_content": null,
            "_view_module": "@jupyter-widgets/base",
            "overflow": null,
            "_model_module_version": "1.2.0",
            "_view_count": null,
            "flex_flow": null,
            "width": null,
            "min_width": null,
            "border": null,
            "align_items": null,
            "bottom": null,
            "_model_module": "@jupyter-widgets/base",
            "top": null,
            "grid_column": null,
            "overflow_y": null,
            "overflow_x": null,
            "grid_auto_flow": null,
            "grid_area": null,
            "grid_template_columns": null,
            "flex": null,
            "_model_name": "LayoutModel",
            "justify_items": null,
            "grid_row": null,
            "max_height": null,
            "align_content": null,
            "visibility": null,
            "align_self": null,
            "height": null,
            "min_height": null,
            "padding": null,
            "grid_auto_rows": null,
            "grid_gap": null,
            "max_width": null,
            "order": null,
            "_view_module_version": "1.2.0",
            "grid_template_areas": null,
            "object_position": null,
            "object_fit": null,
            "grid_auto_columns": null,
            "margin": null,
            "display": null,
            "left": null
          }
        },
        "229c7bc0cae743bf8155adb820ee264d": {
          "model_module": "@jupyter-widgets/controls",
          "model_name": "HBoxModel",
          "state": {
            "_view_name": "HBoxView",
            "_dom_classes": [],
            "_model_name": "HBoxModel",
            "_view_module": "@jupyter-widgets/controls",
            "_model_module_version": "1.5.0",
            "_view_count": null,
            "_view_module_version": "1.5.0",
            "box_style": "",
            "layout": "IPY_MODEL_1126dc1ecbdb4dcf8b8aef6a915968c9",
            "_model_module": "@jupyter-widgets/controls",
            "children": [
              "IPY_MODEL_ca24a5809b82485a8cf7391f381627ac",
              "IPY_MODEL_eb605dc475a9425c94bc85cf00dd3d08"
            ]
          }
        },
        "1126dc1ecbdb4dcf8b8aef6a915968c9": {
          "model_module": "@jupyter-widgets/base",
          "model_name": "LayoutModel",
          "state": {
            "_view_name": "LayoutView",
            "grid_template_rows": null,
            "right": null,
            "justify_content": null,
            "_view_module": "@jupyter-widgets/base",
            "overflow": null,
            "_model_module_version": "1.2.0",
            "_view_count": null,
            "flex_flow": null,
            "width": null,
            "min_width": null,
            "border": null,
            "align_items": null,
            "bottom": null,
            "_model_module": "@jupyter-widgets/base",
            "top": null,
            "grid_column": null,
            "overflow_y": null,
            "overflow_x": null,
            "grid_auto_flow": null,
            "grid_area": null,
            "grid_template_columns": null,
            "flex": null,
            "_model_name": "LayoutModel",
            "justify_items": null,
            "grid_row": null,
            "max_height": null,
            "align_content": null,
            "visibility": null,
            "align_self": null,
            "height": null,
            "min_height": null,
            "padding": null,
            "grid_auto_rows": null,
            "grid_gap": null,
            "max_width": null,
            "order": null,
            "_view_module_version": "1.2.0",
            "grid_template_areas": null,
            "object_position": null,
            "object_fit": null,
            "grid_auto_columns": null,
            "margin": null,
            "display": null,
            "left": null
          }
        },
        "ca24a5809b82485a8cf7391f381627ac": {
          "model_module": "@jupyter-widgets/controls",
          "model_name": "FloatProgressModel",
          "state": {
            "_view_name": "ProgressView",
            "style": "IPY_MODEL_e16993baa7dc42a19f25b1e919bd7284",
            "_dom_classes": [],
            "description": "Epoch 4: 100%",
            "_model_name": "FloatProgressModel",
            "bar_style": "",
            "max": 563,
            "_view_module": "@jupyter-widgets/controls",
            "_model_module_version": "1.5.0",
            "value": 563,
            "_view_count": null,
            "_view_module_version": "1.5.0",
            "orientation": "horizontal",
            "min": 0,
            "description_tooltip": null,
            "_model_module": "@jupyter-widgets/controls",
            "layout": "IPY_MODEL_11a5a92d91c346c299e9da653274b56b"
          }
        },
        "eb605dc475a9425c94bc85cf00dd3d08": {
          "model_module": "@jupyter-widgets/controls",
          "model_name": "HTMLModel",
          "state": {
            "_view_name": "HTMLView",
            "style": "IPY_MODEL_fc3ed7134a434f6fb121c96dfb7355da",
            "_dom_classes": [],
            "description": "",
            "_model_name": "HTMLModel",
            "placeholder": "​",
            "_view_module": "@jupyter-widgets/controls",
            "_model_module_version": "1.5.0",
            "value": " 563/563 [00:04&lt;00:00, 120.87it/s, loss=0.067]",
            "_view_count": null,
            "_view_module_version": "1.5.0",
            "description_tooltip": null,
            "_model_module": "@jupyter-widgets/controls",
            "layout": "IPY_MODEL_460a9273eedf42328751a4b6ffaa34f6"
          }
        },
        "e16993baa7dc42a19f25b1e919bd7284": {
          "model_module": "@jupyter-widgets/controls",
          "model_name": "ProgressStyleModel",
          "state": {
            "_view_name": "StyleView",
            "_model_name": "ProgressStyleModel",
            "description_width": "initial",
            "_view_module": "@jupyter-widgets/base",
            "_model_module_version": "1.5.0",
            "_view_count": null,
            "_view_module_version": "1.2.0",
            "bar_color": null,
            "_model_module": "@jupyter-widgets/controls"
          }
        },
        "11a5a92d91c346c299e9da653274b56b": {
          "model_module": "@jupyter-widgets/base",
          "model_name": "LayoutModel",
          "state": {
            "_view_name": "LayoutView",
            "grid_template_rows": null,
            "right": null,
            "justify_content": null,
            "_view_module": "@jupyter-widgets/base",
            "overflow": null,
            "_model_module_version": "1.2.0",
            "_view_count": null,
            "flex_flow": null,
            "width": null,
            "min_width": null,
            "border": null,
            "align_items": null,
            "bottom": null,
            "_model_module": "@jupyter-widgets/base",
            "top": null,
            "grid_column": null,
            "overflow_y": null,
            "overflow_x": null,
            "grid_auto_flow": null,
            "grid_area": null,
            "grid_template_columns": null,
            "flex": null,
            "_model_name": "LayoutModel",
            "justify_items": null,
            "grid_row": null,
            "max_height": null,
            "align_content": null,
            "visibility": null,
            "align_self": null,
            "height": null,
            "min_height": null,
            "padding": null,
            "grid_auto_rows": null,
            "grid_gap": null,
            "max_width": null,
            "order": null,
            "_view_module_version": "1.2.0",
            "grid_template_areas": null,
            "object_position": null,
            "object_fit": null,
            "grid_auto_columns": null,
            "margin": null,
            "display": null,
            "left": null
          }
        },
        "fc3ed7134a434f6fb121c96dfb7355da": {
          "model_module": "@jupyter-widgets/controls",
          "model_name": "DescriptionStyleModel",
          "state": {
            "_view_name": "StyleView",
            "_model_name": "DescriptionStyleModel",
            "description_width": "",
            "_view_module": "@jupyter-widgets/base",
            "_model_module_version": "1.5.0",
            "_view_count": null,
            "_view_module_version": "1.2.0",
            "_model_module": "@jupyter-widgets/controls"
          }
        },
        "460a9273eedf42328751a4b6ffaa34f6": {
          "model_module": "@jupyter-widgets/base",
          "model_name": "LayoutModel",
          "state": {
            "_view_name": "LayoutView",
            "grid_template_rows": null,
            "right": null,
            "justify_content": null,
            "_view_module": "@jupyter-widgets/base",
            "overflow": null,
            "_model_module_version": "1.2.0",
            "_view_count": null,
            "flex_flow": null,
            "width": null,
            "min_width": null,
            "border": null,
            "align_items": null,
            "bottom": null,
            "_model_module": "@jupyter-widgets/base",
            "top": null,
            "grid_column": null,
            "overflow_y": null,
            "overflow_x": null,
            "grid_auto_flow": null,
            "grid_area": null,
            "grid_template_columns": null,
            "flex": null,
            "_model_name": "LayoutModel",
            "justify_items": null,
            "grid_row": null,
            "max_height": null,
            "align_content": null,
            "visibility": null,
            "align_self": null,
            "height": null,
            "min_height": null,
            "padding": null,
            "grid_auto_rows": null,
            "grid_gap": null,
            "max_width": null,
            "order": null,
            "_view_module_version": "1.2.0",
            "grid_template_areas": null,
            "object_position": null,
            "object_fit": null,
            "grid_auto_columns": null,
            "margin": null,
            "display": null,
            "left": null
          }
        },
        "1ecc44e29bc04c1d986ebd6b216f93eb": {
          "model_module": "@jupyter-widgets/controls",
          "model_name": "HBoxModel",
          "state": {
            "_view_name": "HBoxView",
            "_dom_classes": [],
            "_model_name": "HBoxModel",
            "_view_module": "@jupyter-widgets/controls",
            "_model_module_version": "1.5.0",
            "_view_count": null,
            "_view_module_version": "1.5.0",
            "box_style": "",
            "layout": "IPY_MODEL_807db68326c649f2bd557ac10b255929",
            "_model_module": "@jupyter-widgets/controls",
            "children": [
              "IPY_MODEL_97022a224818478fa4ffd19d99676f5b",
              "IPY_MODEL_e6c71677bb7f41c3a3d78dd6da2e13c3"
            ]
          }
        },
        "807db68326c649f2bd557ac10b255929": {
          "model_module": "@jupyter-widgets/base",
          "model_name": "LayoutModel",
          "state": {
            "_view_name": "LayoutView",
            "grid_template_rows": null,
            "right": null,
            "justify_content": null,
            "_view_module": "@jupyter-widgets/base",
            "overflow": null,
            "_model_module_version": "1.2.0",
            "_view_count": null,
            "flex_flow": null,
            "width": null,
            "min_width": null,
            "border": null,
            "align_items": null,
            "bottom": null,
            "_model_module": "@jupyter-widgets/base",
            "top": null,
            "grid_column": null,
            "overflow_y": null,
            "overflow_x": null,
            "grid_auto_flow": null,
            "grid_area": null,
            "grid_template_columns": null,
            "flex": null,
            "_model_name": "LayoutModel",
            "justify_items": null,
            "grid_row": null,
            "max_height": null,
            "align_content": null,
            "visibility": null,
            "align_self": null,
            "height": null,
            "min_height": null,
            "padding": null,
            "grid_auto_rows": null,
            "grid_gap": null,
            "max_width": null,
            "order": null,
            "_view_module_version": "1.2.0",
            "grid_template_areas": null,
            "object_position": null,
            "object_fit": null,
            "grid_auto_columns": null,
            "margin": null,
            "display": null,
            "left": null
          }
        },
        "97022a224818478fa4ffd19d99676f5b": {
          "model_module": "@jupyter-widgets/controls",
          "model_name": "FloatProgressModel",
          "state": {
            "_view_name": "ProgressView",
            "style": "IPY_MODEL_331ee6bc8c4347fcbce62a8a87b83145",
            "_dom_classes": [],
            "description": "100%",
            "_model_name": "FloatProgressModel",
            "bar_style": "",
            "max": 141,
            "_view_module": "@jupyter-widgets/controls",
            "_model_module_version": "1.5.0",
            "value": 141,
            "_view_count": null,
            "_view_module_version": "1.5.0",
            "orientation": "horizontal",
            "min": 0,
            "description_tooltip": null,
            "_model_module": "@jupyter-widgets/controls",
            "layout": "IPY_MODEL_e464336c20914596a010978eac645ef4"
          }
        },
        "e6c71677bb7f41c3a3d78dd6da2e13c3": {
          "model_module": "@jupyter-widgets/controls",
          "model_name": "HTMLModel",
          "state": {
            "_view_name": "HTMLView",
            "style": "IPY_MODEL_6bcc5061c32c4d98945129492e024983",
            "_dom_classes": [],
            "description": "",
            "_model_name": "HTMLModel",
            "placeholder": "​",
            "_view_module": "@jupyter-widgets/controls",
            "_model_module_version": "1.5.0",
            "value": " 141/141 [00:00&lt;00:00, 302.20it/s]",
            "_view_count": null,
            "_view_module_version": "1.5.0",
            "description_tooltip": null,
            "_model_module": "@jupyter-widgets/controls",
            "layout": "IPY_MODEL_90f2cc044eda42a186802f048bd4c8b6"
          }
        },
        "331ee6bc8c4347fcbce62a8a87b83145": {
          "model_module": "@jupyter-widgets/controls",
          "model_name": "ProgressStyleModel",
          "state": {
            "_view_name": "StyleView",
            "_model_name": "ProgressStyleModel",
            "description_width": "initial",
            "_view_module": "@jupyter-widgets/base",
            "_model_module_version": "1.5.0",
            "_view_count": null,
            "_view_module_version": "1.2.0",
            "bar_color": null,
            "_model_module": "@jupyter-widgets/controls"
          }
        },
        "e464336c20914596a010978eac645ef4": {
          "model_module": "@jupyter-widgets/base",
          "model_name": "LayoutModel",
          "state": {
            "_view_name": "LayoutView",
            "grid_template_rows": null,
            "right": null,
            "justify_content": null,
            "_view_module": "@jupyter-widgets/base",
            "overflow": null,
            "_model_module_version": "1.2.0",
            "_view_count": null,
            "flex_flow": null,
            "width": null,
            "min_width": null,
            "border": null,
            "align_items": null,
            "bottom": null,
            "_model_module": "@jupyter-widgets/base",
            "top": null,
            "grid_column": null,
            "overflow_y": null,
            "overflow_x": null,
            "grid_auto_flow": null,
            "grid_area": null,
            "grid_template_columns": null,
            "flex": null,
            "_model_name": "LayoutModel",
            "justify_items": null,
            "grid_row": null,
            "max_height": null,
            "align_content": null,
            "visibility": null,
            "align_self": null,
            "height": null,
            "min_height": null,
            "padding": null,
            "grid_auto_rows": null,
            "grid_gap": null,
            "max_width": null,
            "order": null,
            "_view_module_version": "1.2.0",
            "grid_template_areas": null,
            "object_position": null,
            "object_fit": null,
            "grid_auto_columns": null,
            "margin": null,
            "display": null,
            "left": null
          }
        },
        "6bcc5061c32c4d98945129492e024983": {
          "model_module": "@jupyter-widgets/controls",
          "model_name": "DescriptionStyleModel",
          "state": {
            "_view_name": "StyleView",
            "_model_name": "DescriptionStyleModel",
            "description_width": "",
            "_view_module": "@jupyter-widgets/base",
            "_model_module_version": "1.5.0",
            "_view_count": null,
            "_view_module_version": "1.2.0",
            "_model_module": "@jupyter-widgets/controls"
          }
        },
        "90f2cc044eda42a186802f048bd4c8b6": {
          "model_module": "@jupyter-widgets/base",
          "model_name": "LayoutModel",
          "state": {
            "_view_name": "LayoutView",
            "grid_template_rows": null,
            "right": null,
            "justify_content": null,
            "_view_module": "@jupyter-widgets/base",
            "overflow": null,
            "_model_module_version": "1.2.0",
            "_view_count": null,
            "flex_flow": null,
            "width": null,
            "min_width": null,
            "border": null,
            "align_items": null,
            "bottom": null,
            "_model_module": "@jupyter-widgets/base",
            "top": null,
            "grid_column": null,
            "overflow_y": null,
            "overflow_x": null,
            "grid_auto_flow": null,
            "grid_area": null,
            "grid_template_columns": null,
            "flex": null,
            "_model_name": "LayoutModel",
            "justify_items": null,
            "grid_row": null,
            "max_height": null,
            "align_content": null,
            "visibility": null,
            "align_self": null,
            "height": null,
            "min_height": null,
            "padding": null,
            "grid_auto_rows": null,
            "grid_gap": null,
            "max_width": null,
            "order": null,
            "_view_module_version": "1.2.0",
            "grid_template_areas": null,
            "object_position": null,
            "object_fit": null,
            "grid_auto_columns": null,
            "margin": null,
            "display": null,
            "left": null
          }
        },
        "09fee664d9ba40eb92519bc635c59a9b": {
          "model_module": "@jupyter-widgets/controls",
          "model_name": "HBoxModel",
          "state": {
            "_view_name": "HBoxView",
            "_dom_classes": [],
            "_model_name": "HBoxModel",
            "_view_module": "@jupyter-widgets/controls",
            "_model_module_version": "1.5.0",
            "_view_count": null,
            "_view_module_version": "1.5.0",
            "box_style": "",
            "layout": "IPY_MODEL_28f5a566c9ca4d9ab4eabc4d42944a00",
            "_model_module": "@jupyter-widgets/controls",
            "children": [
              "IPY_MODEL_c7712532868e44e6afd9473593b1df5b",
              "IPY_MODEL_e6e665693bf444d6930b0ae3a46559d5"
            ]
          }
        },
        "28f5a566c9ca4d9ab4eabc4d42944a00": {
          "model_module": "@jupyter-widgets/base",
          "model_name": "LayoutModel",
          "state": {
            "_view_name": "LayoutView",
            "grid_template_rows": null,
            "right": null,
            "justify_content": null,
            "_view_module": "@jupyter-widgets/base",
            "overflow": null,
            "_model_module_version": "1.2.0",
            "_view_count": null,
            "flex_flow": null,
            "width": null,
            "min_width": null,
            "border": null,
            "align_items": null,
            "bottom": null,
            "_model_module": "@jupyter-widgets/base",
            "top": null,
            "grid_column": null,
            "overflow_y": null,
            "overflow_x": null,
            "grid_auto_flow": null,
            "grid_area": null,
            "grid_template_columns": null,
            "flex": null,
            "_model_name": "LayoutModel",
            "justify_items": null,
            "grid_row": null,
            "max_height": null,
            "align_content": null,
            "visibility": null,
            "align_self": null,
            "height": null,
            "min_height": null,
            "padding": null,
            "grid_auto_rows": null,
            "grid_gap": null,
            "max_width": null,
            "order": null,
            "_view_module_version": "1.2.0",
            "grid_template_areas": null,
            "object_position": null,
            "object_fit": null,
            "grid_auto_columns": null,
            "margin": null,
            "display": null,
            "left": null
          }
        },
        "c7712532868e44e6afd9473593b1df5b": {
          "model_module": "@jupyter-widgets/controls",
          "model_name": "FloatProgressModel",
          "state": {
            "_view_name": "ProgressView",
            "style": "IPY_MODEL_aef70e6e01bb491c97355ae9aef2f018",
            "_dom_classes": [],
            "description": "Epoch 5: 100%",
            "_model_name": "FloatProgressModel",
            "bar_style": "",
            "max": 563,
            "_view_module": "@jupyter-widgets/controls",
            "_model_module_version": "1.5.0",
            "value": 563,
            "_view_count": null,
            "_view_module_version": "1.5.0",
            "orientation": "horizontal",
            "min": 0,
            "description_tooltip": null,
            "_model_module": "@jupyter-widgets/controls",
            "layout": "IPY_MODEL_d2fa847311ea44fb95ab3516afccc31b"
          }
        },
        "e6e665693bf444d6930b0ae3a46559d5": {
          "model_module": "@jupyter-widgets/controls",
          "model_name": "HTMLModel",
          "state": {
            "_view_name": "HTMLView",
            "style": "IPY_MODEL_09797dc11aeb496297dfa1406cce37bb",
            "_dom_classes": [],
            "description": "",
            "_model_name": "HTMLModel",
            "placeholder": "​",
            "_view_module": "@jupyter-widgets/controls",
            "_model_module_version": "1.5.0",
            "value": " 563/563 [00:04&lt;00:00, 113.95it/s, loss=0.0874]",
            "_view_count": null,
            "_view_module_version": "1.5.0",
            "description_tooltip": null,
            "_model_module": "@jupyter-widgets/controls",
            "layout": "IPY_MODEL_36f2ca9c4eab49b2aec92ab6758053aa"
          }
        },
        "aef70e6e01bb491c97355ae9aef2f018": {
          "model_module": "@jupyter-widgets/controls",
          "model_name": "ProgressStyleModel",
          "state": {
            "_view_name": "StyleView",
            "_model_name": "ProgressStyleModel",
            "description_width": "initial",
            "_view_module": "@jupyter-widgets/base",
            "_model_module_version": "1.5.0",
            "_view_count": null,
            "_view_module_version": "1.2.0",
            "bar_color": null,
            "_model_module": "@jupyter-widgets/controls"
          }
        },
        "d2fa847311ea44fb95ab3516afccc31b": {
          "model_module": "@jupyter-widgets/base",
          "model_name": "LayoutModel",
          "state": {
            "_view_name": "LayoutView",
            "grid_template_rows": null,
            "right": null,
            "justify_content": null,
            "_view_module": "@jupyter-widgets/base",
            "overflow": null,
            "_model_module_version": "1.2.0",
            "_view_count": null,
            "flex_flow": null,
            "width": null,
            "min_width": null,
            "border": null,
            "align_items": null,
            "bottom": null,
            "_model_module": "@jupyter-widgets/base",
            "top": null,
            "grid_column": null,
            "overflow_y": null,
            "overflow_x": null,
            "grid_auto_flow": null,
            "grid_area": null,
            "grid_template_columns": null,
            "flex": null,
            "_model_name": "LayoutModel",
            "justify_items": null,
            "grid_row": null,
            "max_height": null,
            "align_content": null,
            "visibility": null,
            "align_self": null,
            "height": null,
            "min_height": null,
            "padding": null,
            "grid_auto_rows": null,
            "grid_gap": null,
            "max_width": null,
            "order": null,
            "_view_module_version": "1.2.0",
            "grid_template_areas": null,
            "object_position": null,
            "object_fit": null,
            "grid_auto_columns": null,
            "margin": null,
            "display": null,
            "left": null
          }
        },
        "09797dc11aeb496297dfa1406cce37bb": {
          "model_module": "@jupyter-widgets/controls",
          "model_name": "DescriptionStyleModel",
          "state": {
            "_view_name": "StyleView",
            "_model_name": "DescriptionStyleModel",
            "description_width": "",
            "_view_module": "@jupyter-widgets/base",
            "_model_module_version": "1.5.0",
            "_view_count": null,
            "_view_module_version": "1.2.0",
            "_model_module": "@jupyter-widgets/controls"
          }
        },
        "36f2ca9c4eab49b2aec92ab6758053aa": {
          "model_module": "@jupyter-widgets/base",
          "model_name": "LayoutModel",
          "state": {
            "_view_name": "LayoutView",
            "grid_template_rows": null,
            "right": null,
            "justify_content": null,
            "_view_module": "@jupyter-widgets/base",
            "overflow": null,
            "_model_module_version": "1.2.0",
            "_view_count": null,
            "flex_flow": null,
            "width": null,
            "min_width": null,
            "border": null,
            "align_items": null,
            "bottom": null,
            "_model_module": "@jupyter-widgets/base",
            "top": null,
            "grid_column": null,
            "overflow_y": null,
            "overflow_x": null,
            "grid_auto_flow": null,
            "grid_area": null,
            "grid_template_columns": null,
            "flex": null,
            "_model_name": "LayoutModel",
            "justify_items": null,
            "grid_row": null,
            "max_height": null,
            "align_content": null,
            "visibility": null,
            "align_self": null,
            "height": null,
            "min_height": null,
            "padding": null,
            "grid_auto_rows": null,
            "grid_gap": null,
            "max_width": null,
            "order": null,
            "_view_module_version": "1.2.0",
            "grid_template_areas": null,
            "object_position": null,
            "object_fit": null,
            "grid_auto_columns": null,
            "margin": null,
            "display": null,
            "left": null
          }
        },
        "2b878e57b6954abfaaabc76b07922533": {
          "model_module": "@jupyter-widgets/controls",
          "model_name": "HBoxModel",
          "state": {
            "_view_name": "HBoxView",
            "_dom_classes": [],
            "_model_name": "HBoxModel",
            "_view_module": "@jupyter-widgets/controls",
            "_model_module_version": "1.5.0",
            "_view_count": null,
            "_view_module_version": "1.5.0",
            "box_style": "",
            "layout": "IPY_MODEL_d01f82046b5b4b2a871757577d439e48",
            "_model_module": "@jupyter-widgets/controls",
            "children": [
              "IPY_MODEL_7ee21f8dbcf94e719a9ad361a2ea2c4a",
              "IPY_MODEL_aa424fc8073d4b55bb31ebf49f46db19"
            ]
          }
        },
        "d01f82046b5b4b2a871757577d439e48": {
          "model_module": "@jupyter-widgets/base",
          "model_name": "LayoutModel",
          "state": {
            "_view_name": "LayoutView",
            "grid_template_rows": null,
            "right": null,
            "justify_content": null,
            "_view_module": "@jupyter-widgets/base",
            "overflow": null,
            "_model_module_version": "1.2.0",
            "_view_count": null,
            "flex_flow": null,
            "width": null,
            "min_width": null,
            "border": null,
            "align_items": null,
            "bottom": null,
            "_model_module": "@jupyter-widgets/base",
            "top": null,
            "grid_column": null,
            "overflow_y": null,
            "overflow_x": null,
            "grid_auto_flow": null,
            "grid_area": null,
            "grid_template_columns": null,
            "flex": null,
            "_model_name": "LayoutModel",
            "justify_items": null,
            "grid_row": null,
            "max_height": null,
            "align_content": null,
            "visibility": null,
            "align_self": null,
            "height": null,
            "min_height": null,
            "padding": null,
            "grid_auto_rows": null,
            "grid_gap": null,
            "max_width": null,
            "order": null,
            "_view_module_version": "1.2.0",
            "grid_template_areas": null,
            "object_position": null,
            "object_fit": null,
            "grid_auto_columns": null,
            "margin": null,
            "display": null,
            "left": null
          }
        },
        "7ee21f8dbcf94e719a9ad361a2ea2c4a": {
          "model_module": "@jupyter-widgets/controls",
          "model_name": "FloatProgressModel",
          "state": {
            "_view_name": "ProgressView",
            "style": "IPY_MODEL_d44209be63104197ba6a39bad6fb9392",
            "_dom_classes": [],
            "description": "100%",
            "_model_name": "FloatProgressModel",
            "bar_style": "",
            "max": 141,
            "_view_module": "@jupyter-widgets/controls",
            "_model_module_version": "1.5.0",
            "value": 141,
            "_view_count": null,
            "_view_module_version": "1.5.0",
            "orientation": "horizontal",
            "min": 0,
            "description_tooltip": null,
            "_model_module": "@jupyter-widgets/controls",
            "layout": "IPY_MODEL_cda31342ad7d4f0ca519b5eabf26d52d"
          }
        },
        "aa424fc8073d4b55bb31ebf49f46db19": {
          "model_module": "@jupyter-widgets/controls",
          "model_name": "HTMLModel",
          "state": {
            "_view_name": "HTMLView",
            "style": "IPY_MODEL_8fb837f412b64c4ba2fa31fd59c8d1a3",
            "_dom_classes": [],
            "description": "",
            "_model_name": "HTMLModel",
            "placeholder": "​",
            "_view_module": "@jupyter-widgets/controls",
            "_model_module_version": "1.5.0",
            "value": " 141/141 [00:00&lt;00:00, 329.94it/s]",
            "_view_count": null,
            "_view_module_version": "1.5.0",
            "description_tooltip": null,
            "_model_module": "@jupyter-widgets/controls",
            "layout": "IPY_MODEL_6334b94d02ab4a71b5029c89d6fa92d2"
          }
        },
        "d44209be63104197ba6a39bad6fb9392": {
          "model_module": "@jupyter-widgets/controls",
          "model_name": "ProgressStyleModel",
          "state": {
            "_view_name": "StyleView",
            "_model_name": "ProgressStyleModel",
            "description_width": "initial",
            "_view_module": "@jupyter-widgets/base",
            "_model_module_version": "1.5.0",
            "_view_count": null,
            "_view_module_version": "1.2.0",
            "bar_color": null,
            "_model_module": "@jupyter-widgets/controls"
          }
        },
        "cda31342ad7d4f0ca519b5eabf26d52d": {
          "model_module": "@jupyter-widgets/base",
          "model_name": "LayoutModel",
          "state": {
            "_view_name": "LayoutView",
            "grid_template_rows": null,
            "right": null,
            "justify_content": null,
            "_view_module": "@jupyter-widgets/base",
            "overflow": null,
            "_model_module_version": "1.2.0",
            "_view_count": null,
            "flex_flow": null,
            "width": null,
            "min_width": null,
            "border": null,
            "align_items": null,
            "bottom": null,
            "_model_module": "@jupyter-widgets/base",
            "top": null,
            "grid_column": null,
            "overflow_y": null,
            "overflow_x": null,
            "grid_auto_flow": null,
            "grid_area": null,
            "grid_template_columns": null,
            "flex": null,
            "_model_name": "LayoutModel",
            "justify_items": null,
            "grid_row": null,
            "max_height": null,
            "align_content": null,
            "visibility": null,
            "align_self": null,
            "height": null,
            "min_height": null,
            "padding": null,
            "grid_auto_rows": null,
            "grid_gap": null,
            "max_width": null,
            "order": null,
            "_view_module_version": "1.2.0",
            "grid_template_areas": null,
            "object_position": null,
            "object_fit": null,
            "grid_auto_columns": null,
            "margin": null,
            "display": null,
            "left": null
          }
        },
        "8fb837f412b64c4ba2fa31fd59c8d1a3": {
          "model_module": "@jupyter-widgets/controls",
          "model_name": "DescriptionStyleModel",
          "state": {
            "_view_name": "StyleView",
            "_model_name": "DescriptionStyleModel",
            "description_width": "",
            "_view_module": "@jupyter-widgets/base",
            "_model_module_version": "1.5.0",
            "_view_count": null,
            "_view_module_version": "1.2.0",
            "_model_module": "@jupyter-widgets/controls"
          }
        },
        "6334b94d02ab4a71b5029c89d6fa92d2": {
          "model_module": "@jupyter-widgets/base",
          "model_name": "LayoutModel",
          "state": {
            "_view_name": "LayoutView",
            "grid_template_rows": null,
            "right": null,
            "justify_content": null,
            "_view_module": "@jupyter-widgets/base",
            "overflow": null,
            "_model_module_version": "1.2.0",
            "_view_count": null,
            "flex_flow": null,
            "width": null,
            "min_width": null,
            "border": null,
            "align_items": null,
            "bottom": null,
            "_model_module": "@jupyter-widgets/base",
            "top": null,
            "grid_column": null,
            "overflow_y": null,
            "overflow_x": null,
            "grid_auto_flow": null,
            "grid_area": null,
            "grid_template_columns": null,
            "flex": null,
            "_model_name": "LayoutModel",
            "justify_items": null,
            "grid_row": null,
            "max_height": null,
            "align_content": null,
            "visibility": null,
            "align_self": null,
            "height": null,
            "min_height": null,
            "padding": null,
            "grid_auto_rows": null,
            "grid_gap": null,
            "max_width": null,
            "order": null,
            "_view_module_version": "1.2.0",
            "grid_template_areas": null,
            "object_position": null,
            "object_fit": null,
            "grid_auto_columns": null,
            "margin": null,
            "display": null,
            "left": null
          }
        },
        "9be1e577b1ea466295ec254db26fbb31": {
          "model_module": "@jupyter-widgets/controls",
          "model_name": "HBoxModel",
          "state": {
            "_view_name": "HBoxView",
            "_dom_classes": [],
            "_model_name": "HBoxModel",
            "_view_module": "@jupyter-widgets/controls",
            "_model_module_version": "1.5.0",
            "_view_count": null,
            "_view_module_version": "1.5.0",
            "box_style": "",
            "layout": "IPY_MODEL_66c9530facb245af85409962bb410614",
            "_model_module": "@jupyter-widgets/controls",
            "children": [
              "IPY_MODEL_e4c5e09ae8e44e2f8311d9431d06cc89",
              "IPY_MODEL_359ae518283c48e7a7121537353060ee"
            ]
          }
        },
        "66c9530facb245af85409962bb410614": {
          "model_module": "@jupyter-widgets/base",
          "model_name": "LayoutModel",
          "state": {
            "_view_name": "LayoutView",
            "grid_template_rows": null,
            "right": null,
            "justify_content": null,
            "_view_module": "@jupyter-widgets/base",
            "overflow": null,
            "_model_module_version": "1.2.0",
            "_view_count": null,
            "flex_flow": null,
            "width": null,
            "min_width": null,
            "border": null,
            "align_items": null,
            "bottom": null,
            "_model_module": "@jupyter-widgets/base",
            "top": null,
            "grid_column": null,
            "overflow_y": null,
            "overflow_x": null,
            "grid_auto_flow": null,
            "grid_area": null,
            "grid_template_columns": null,
            "flex": null,
            "_model_name": "LayoutModel",
            "justify_items": null,
            "grid_row": null,
            "max_height": null,
            "align_content": null,
            "visibility": null,
            "align_self": null,
            "height": null,
            "min_height": null,
            "padding": null,
            "grid_auto_rows": null,
            "grid_gap": null,
            "max_width": null,
            "order": null,
            "_view_module_version": "1.2.0",
            "grid_template_areas": null,
            "object_position": null,
            "object_fit": null,
            "grid_auto_columns": null,
            "margin": null,
            "display": null,
            "left": null
          }
        },
        "e4c5e09ae8e44e2f8311d9431d06cc89": {
          "model_module": "@jupyter-widgets/controls",
          "model_name": "FloatProgressModel",
          "state": {
            "_view_name": "ProgressView",
            "style": "IPY_MODEL_47e2fb6bc9504861bc20569e5ac5785c",
            "_dom_classes": [],
            "description": "Epoch 6: 100%",
            "_model_name": "FloatProgressModel",
            "bar_style": "",
            "max": 563,
            "_view_module": "@jupyter-widgets/controls",
            "_model_module_version": "1.5.0",
            "value": 563,
            "_view_count": null,
            "_view_module_version": "1.5.0",
            "orientation": "horizontal",
            "min": 0,
            "description_tooltip": null,
            "_model_module": "@jupyter-widgets/controls",
            "layout": "IPY_MODEL_fcade7fde4de4a18aff7a5636c78ed4c"
          }
        },
        "359ae518283c48e7a7121537353060ee": {
          "model_module": "@jupyter-widgets/controls",
          "model_name": "HTMLModel",
          "state": {
            "_view_name": "HTMLView",
            "style": "IPY_MODEL_34c0882c1a49478ba78d84133ef7b7a9",
            "_dom_classes": [],
            "description": "",
            "_model_name": "HTMLModel",
            "placeholder": "​",
            "_view_module": "@jupyter-widgets/controls",
            "_model_module_version": "1.5.0",
            "value": " 563/563 [00:04&lt;00:00, 120.23it/s, loss=0.0572]",
            "_view_count": null,
            "_view_module_version": "1.5.0",
            "description_tooltip": null,
            "_model_module": "@jupyter-widgets/controls",
            "layout": "IPY_MODEL_27b0b1e4822548369733a278048606c7"
          }
        },
        "47e2fb6bc9504861bc20569e5ac5785c": {
          "model_module": "@jupyter-widgets/controls",
          "model_name": "ProgressStyleModel",
          "state": {
            "_view_name": "StyleView",
            "_model_name": "ProgressStyleModel",
            "description_width": "initial",
            "_view_module": "@jupyter-widgets/base",
            "_model_module_version": "1.5.0",
            "_view_count": null,
            "_view_module_version": "1.2.0",
            "bar_color": null,
            "_model_module": "@jupyter-widgets/controls"
          }
        },
        "fcade7fde4de4a18aff7a5636c78ed4c": {
          "model_module": "@jupyter-widgets/base",
          "model_name": "LayoutModel",
          "state": {
            "_view_name": "LayoutView",
            "grid_template_rows": null,
            "right": null,
            "justify_content": null,
            "_view_module": "@jupyter-widgets/base",
            "overflow": null,
            "_model_module_version": "1.2.0",
            "_view_count": null,
            "flex_flow": null,
            "width": null,
            "min_width": null,
            "border": null,
            "align_items": null,
            "bottom": null,
            "_model_module": "@jupyter-widgets/base",
            "top": null,
            "grid_column": null,
            "overflow_y": null,
            "overflow_x": null,
            "grid_auto_flow": null,
            "grid_area": null,
            "grid_template_columns": null,
            "flex": null,
            "_model_name": "LayoutModel",
            "justify_items": null,
            "grid_row": null,
            "max_height": null,
            "align_content": null,
            "visibility": null,
            "align_self": null,
            "height": null,
            "min_height": null,
            "padding": null,
            "grid_auto_rows": null,
            "grid_gap": null,
            "max_width": null,
            "order": null,
            "_view_module_version": "1.2.0",
            "grid_template_areas": null,
            "object_position": null,
            "object_fit": null,
            "grid_auto_columns": null,
            "margin": null,
            "display": null,
            "left": null
          }
        },
        "34c0882c1a49478ba78d84133ef7b7a9": {
          "model_module": "@jupyter-widgets/controls",
          "model_name": "DescriptionStyleModel",
          "state": {
            "_view_name": "StyleView",
            "_model_name": "DescriptionStyleModel",
            "description_width": "",
            "_view_module": "@jupyter-widgets/base",
            "_model_module_version": "1.5.0",
            "_view_count": null,
            "_view_module_version": "1.2.0",
            "_model_module": "@jupyter-widgets/controls"
          }
        },
        "27b0b1e4822548369733a278048606c7": {
          "model_module": "@jupyter-widgets/base",
          "model_name": "LayoutModel",
          "state": {
            "_view_name": "LayoutView",
            "grid_template_rows": null,
            "right": null,
            "justify_content": null,
            "_view_module": "@jupyter-widgets/base",
            "overflow": null,
            "_model_module_version": "1.2.0",
            "_view_count": null,
            "flex_flow": null,
            "width": null,
            "min_width": null,
            "border": null,
            "align_items": null,
            "bottom": null,
            "_model_module": "@jupyter-widgets/base",
            "top": null,
            "grid_column": null,
            "overflow_y": null,
            "overflow_x": null,
            "grid_auto_flow": null,
            "grid_area": null,
            "grid_template_columns": null,
            "flex": null,
            "_model_name": "LayoutModel",
            "justify_items": null,
            "grid_row": null,
            "max_height": null,
            "align_content": null,
            "visibility": null,
            "align_self": null,
            "height": null,
            "min_height": null,
            "padding": null,
            "grid_auto_rows": null,
            "grid_gap": null,
            "max_width": null,
            "order": null,
            "_view_module_version": "1.2.0",
            "grid_template_areas": null,
            "object_position": null,
            "object_fit": null,
            "grid_auto_columns": null,
            "margin": null,
            "display": null,
            "left": null
          }
        },
        "2ca15435006944b792adf856e43488b3": {
          "model_module": "@jupyter-widgets/controls",
          "model_name": "HBoxModel",
          "state": {
            "_view_name": "HBoxView",
            "_dom_classes": [],
            "_model_name": "HBoxModel",
            "_view_module": "@jupyter-widgets/controls",
            "_model_module_version": "1.5.0",
            "_view_count": null,
            "_view_module_version": "1.5.0",
            "box_style": "",
            "layout": "IPY_MODEL_127620ec7a2345039d7bcac2cf0a083f",
            "_model_module": "@jupyter-widgets/controls",
            "children": [
              "IPY_MODEL_9624860326ff487fbd744fe61fb57223",
              "IPY_MODEL_cb161a2900b343eaaf744c064cf96e68"
            ]
          }
        },
        "127620ec7a2345039d7bcac2cf0a083f": {
          "model_module": "@jupyter-widgets/base",
          "model_name": "LayoutModel",
          "state": {
            "_view_name": "LayoutView",
            "grid_template_rows": null,
            "right": null,
            "justify_content": null,
            "_view_module": "@jupyter-widgets/base",
            "overflow": null,
            "_model_module_version": "1.2.0",
            "_view_count": null,
            "flex_flow": null,
            "width": null,
            "min_width": null,
            "border": null,
            "align_items": null,
            "bottom": null,
            "_model_module": "@jupyter-widgets/base",
            "top": null,
            "grid_column": null,
            "overflow_y": null,
            "overflow_x": null,
            "grid_auto_flow": null,
            "grid_area": null,
            "grid_template_columns": null,
            "flex": null,
            "_model_name": "LayoutModel",
            "justify_items": null,
            "grid_row": null,
            "max_height": null,
            "align_content": null,
            "visibility": null,
            "align_self": null,
            "height": null,
            "min_height": null,
            "padding": null,
            "grid_auto_rows": null,
            "grid_gap": null,
            "max_width": null,
            "order": null,
            "_view_module_version": "1.2.0",
            "grid_template_areas": null,
            "object_position": null,
            "object_fit": null,
            "grid_auto_columns": null,
            "margin": null,
            "display": null,
            "left": null
          }
        },
        "9624860326ff487fbd744fe61fb57223": {
          "model_module": "@jupyter-widgets/controls",
          "model_name": "FloatProgressModel",
          "state": {
            "_view_name": "ProgressView",
            "style": "IPY_MODEL_c40ea96d9a7c4df4beddf08a73755f97",
            "_dom_classes": [],
            "description": "100%",
            "_model_name": "FloatProgressModel",
            "bar_style": "",
            "max": 141,
            "_view_module": "@jupyter-widgets/controls",
            "_model_module_version": "1.5.0",
            "value": 141,
            "_view_count": null,
            "_view_module_version": "1.5.0",
            "orientation": "horizontal",
            "min": 0,
            "description_tooltip": null,
            "_model_module": "@jupyter-widgets/controls",
            "layout": "IPY_MODEL_8a21d416fe694b4e80f894750da4dc9e"
          }
        },
        "cb161a2900b343eaaf744c064cf96e68": {
          "model_module": "@jupyter-widgets/controls",
          "model_name": "HTMLModel",
          "state": {
            "_view_name": "HTMLView",
            "style": "IPY_MODEL_842575f664a249729e30123605469ffc",
            "_dom_classes": [],
            "description": "",
            "_model_name": "HTMLModel",
            "placeholder": "​",
            "_view_module": "@jupyter-widgets/controls",
            "_model_module_version": "1.5.0",
            "value": " 141/141 [00:00&lt;00:00, 270.00it/s]",
            "_view_count": null,
            "_view_module_version": "1.5.0",
            "description_tooltip": null,
            "_model_module": "@jupyter-widgets/controls",
            "layout": "IPY_MODEL_20fee0261ce947549840e3749530e2b6"
          }
        },
        "c40ea96d9a7c4df4beddf08a73755f97": {
          "model_module": "@jupyter-widgets/controls",
          "model_name": "ProgressStyleModel",
          "state": {
            "_view_name": "StyleView",
            "_model_name": "ProgressStyleModel",
            "description_width": "initial",
            "_view_module": "@jupyter-widgets/base",
            "_model_module_version": "1.5.0",
            "_view_count": null,
            "_view_module_version": "1.2.0",
            "bar_color": null,
            "_model_module": "@jupyter-widgets/controls"
          }
        },
        "8a21d416fe694b4e80f894750da4dc9e": {
          "model_module": "@jupyter-widgets/base",
          "model_name": "LayoutModel",
          "state": {
            "_view_name": "LayoutView",
            "grid_template_rows": null,
            "right": null,
            "justify_content": null,
            "_view_module": "@jupyter-widgets/base",
            "overflow": null,
            "_model_module_version": "1.2.0",
            "_view_count": null,
            "flex_flow": null,
            "width": null,
            "min_width": null,
            "border": null,
            "align_items": null,
            "bottom": null,
            "_model_module": "@jupyter-widgets/base",
            "top": null,
            "grid_column": null,
            "overflow_y": null,
            "overflow_x": null,
            "grid_auto_flow": null,
            "grid_area": null,
            "grid_template_columns": null,
            "flex": null,
            "_model_name": "LayoutModel",
            "justify_items": null,
            "grid_row": null,
            "max_height": null,
            "align_content": null,
            "visibility": null,
            "align_self": null,
            "height": null,
            "min_height": null,
            "padding": null,
            "grid_auto_rows": null,
            "grid_gap": null,
            "max_width": null,
            "order": null,
            "_view_module_version": "1.2.0",
            "grid_template_areas": null,
            "object_position": null,
            "object_fit": null,
            "grid_auto_columns": null,
            "margin": null,
            "display": null,
            "left": null
          }
        },
        "842575f664a249729e30123605469ffc": {
          "model_module": "@jupyter-widgets/controls",
          "model_name": "DescriptionStyleModel",
          "state": {
            "_view_name": "StyleView",
            "_model_name": "DescriptionStyleModel",
            "description_width": "",
            "_view_module": "@jupyter-widgets/base",
            "_model_module_version": "1.5.0",
            "_view_count": null,
            "_view_module_version": "1.2.0",
            "_model_module": "@jupyter-widgets/controls"
          }
        },
        "20fee0261ce947549840e3749530e2b6": {
          "model_module": "@jupyter-widgets/base",
          "model_name": "LayoutModel",
          "state": {
            "_view_name": "LayoutView",
            "grid_template_rows": null,
            "right": null,
            "justify_content": null,
            "_view_module": "@jupyter-widgets/base",
            "overflow": null,
            "_model_module_version": "1.2.0",
            "_view_count": null,
            "flex_flow": null,
            "width": null,
            "min_width": null,
            "border": null,
            "align_items": null,
            "bottom": null,
            "_model_module": "@jupyter-widgets/base",
            "top": null,
            "grid_column": null,
            "overflow_y": null,
            "overflow_x": null,
            "grid_auto_flow": null,
            "grid_area": null,
            "grid_template_columns": null,
            "flex": null,
            "_model_name": "LayoutModel",
            "justify_items": null,
            "grid_row": null,
            "max_height": null,
            "align_content": null,
            "visibility": null,
            "align_self": null,
            "height": null,
            "min_height": null,
            "padding": null,
            "grid_auto_rows": null,
            "grid_gap": null,
            "max_width": null,
            "order": null,
            "_view_module_version": "1.2.0",
            "grid_template_areas": null,
            "object_position": null,
            "object_fit": null,
            "grid_auto_columns": null,
            "margin": null,
            "display": null,
            "left": null
          }
        },
        "4eef1a6e5e5744e690650eb6e37c8450": {
          "model_module": "@jupyter-widgets/controls",
          "model_name": "HBoxModel",
          "state": {
            "_view_name": "HBoxView",
            "_dom_classes": [],
            "_model_name": "HBoxModel",
            "_view_module": "@jupyter-widgets/controls",
            "_model_module_version": "1.5.0",
            "_view_count": null,
            "_view_module_version": "1.5.0",
            "box_style": "",
            "layout": "IPY_MODEL_9558186c97a34e4bb5e44354315e7e5c",
            "_model_module": "@jupyter-widgets/controls",
            "children": [
              "IPY_MODEL_9b3a5199cc9647abb3c639d783ed78ab",
              "IPY_MODEL_8f34c05b4a314527a67373c0e00b6465"
            ]
          }
        },
        "9558186c97a34e4bb5e44354315e7e5c": {
          "model_module": "@jupyter-widgets/base",
          "model_name": "LayoutModel",
          "state": {
            "_view_name": "LayoutView",
            "grid_template_rows": null,
            "right": null,
            "justify_content": null,
            "_view_module": "@jupyter-widgets/base",
            "overflow": null,
            "_model_module_version": "1.2.0",
            "_view_count": null,
            "flex_flow": null,
            "width": null,
            "min_width": null,
            "border": null,
            "align_items": null,
            "bottom": null,
            "_model_module": "@jupyter-widgets/base",
            "top": null,
            "grid_column": null,
            "overflow_y": null,
            "overflow_x": null,
            "grid_auto_flow": null,
            "grid_area": null,
            "grid_template_columns": null,
            "flex": null,
            "_model_name": "LayoutModel",
            "justify_items": null,
            "grid_row": null,
            "max_height": null,
            "align_content": null,
            "visibility": null,
            "align_self": null,
            "height": null,
            "min_height": null,
            "padding": null,
            "grid_auto_rows": null,
            "grid_gap": null,
            "max_width": null,
            "order": null,
            "_view_module_version": "1.2.0",
            "grid_template_areas": null,
            "object_position": null,
            "object_fit": null,
            "grid_auto_columns": null,
            "margin": null,
            "display": null,
            "left": null
          }
        },
        "9b3a5199cc9647abb3c639d783ed78ab": {
          "model_module": "@jupyter-widgets/controls",
          "model_name": "FloatProgressModel",
          "state": {
            "_view_name": "ProgressView",
            "style": "IPY_MODEL_21ceab50a5934f4fbd4d5d14363ea192",
            "_dom_classes": [],
            "description": "Epoch 7: 100%",
            "_model_name": "FloatProgressModel",
            "bar_style": "",
            "max": 563,
            "_view_module": "@jupyter-widgets/controls",
            "_model_module_version": "1.5.0",
            "value": 563,
            "_view_count": null,
            "_view_module_version": "1.5.0",
            "orientation": "horizontal",
            "min": 0,
            "description_tooltip": null,
            "_model_module": "@jupyter-widgets/controls",
            "layout": "IPY_MODEL_d9797dafe85549db8dc55cf6a7b5b76b"
          }
        },
        "8f34c05b4a314527a67373c0e00b6465": {
          "model_module": "@jupyter-widgets/controls",
          "model_name": "HTMLModel",
          "state": {
            "_view_name": "HTMLView",
            "style": "IPY_MODEL_627ae817fc3d4848a69a0aee961c22d1",
            "_dom_classes": [],
            "description": "",
            "_model_name": "HTMLModel",
            "placeholder": "​",
            "_view_module": "@jupyter-widgets/controls",
            "_model_module_version": "1.5.0",
            "value": " 563/563 [00:05&lt;00:00, 108.59it/s, loss=0.112]",
            "_view_count": null,
            "_view_module_version": "1.5.0",
            "description_tooltip": null,
            "_model_module": "@jupyter-widgets/controls",
            "layout": "IPY_MODEL_2b5b4a2c85874059a6e97e2af808c6e1"
          }
        },
        "21ceab50a5934f4fbd4d5d14363ea192": {
          "model_module": "@jupyter-widgets/controls",
          "model_name": "ProgressStyleModel",
          "state": {
            "_view_name": "StyleView",
            "_model_name": "ProgressStyleModel",
            "description_width": "initial",
            "_view_module": "@jupyter-widgets/base",
            "_model_module_version": "1.5.0",
            "_view_count": null,
            "_view_module_version": "1.2.0",
            "bar_color": null,
            "_model_module": "@jupyter-widgets/controls"
          }
        },
        "d9797dafe85549db8dc55cf6a7b5b76b": {
          "model_module": "@jupyter-widgets/base",
          "model_name": "LayoutModel",
          "state": {
            "_view_name": "LayoutView",
            "grid_template_rows": null,
            "right": null,
            "justify_content": null,
            "_view_module": "@jupyter-widgets/base",
            "overflow": null,
            "_model_module_version": "1.2.0",
            "_view_count": null,
            "flex_flow": null,
            "width": null,
            "min_width": null,
            "border": null,
            "align_items": null,
            "bottom": null,
            "_model_module": "@jupyter-widgets/base",
            "top": null,
            "grid_column": null,
            "overflow_y": null,
            "overflow_x": null,
            "grid_auto_flow": null,
            "grid_area": null,
            "grid_template_columns": null,
            "flex": null,
            "_model_name": "LayoutModel",
            "justify_items": null,
            "grid_row": null,
            "max_height": null,
            "align_content": null,
            "visibility": null,
            "align_self": null,
            "height": null,
            "min_height": null,
            "padding": null,
            "grid_auto_rows": null,
            "grid_gap": null,
            "max_width": null,
            "order": null,
            "_view_module_version": "1.2.0",
            "grid_template_areas": null,
            "object_position": null,
            "object_fit": null,
            "grid_auto_columns": null,
            "margin": null,
            "display": null,
            "left": null
          }
        },
        "627ae817fc3d4848a69a0aee961c22d1": {
          "model_module": "@jupyter-widgets/controls",
          "model_name": "DescriptionStyleModel",
          "state": {
            "_view_name": "StyleView",
            "_model_name": "DescriptionStyleModel",
            "description_width": "",
            "_view_module": "@jupyter-widgets/base",
            "_model_module_version": "1.5.0",
            "_view_count": null,
            "_view_module_version": "1.2.0",
            "_model_module": "@jupyter-widgets/controls"
          }
        },
        "2b5b4a2c85874059a6e97e2af808c6e1": {
          "model_module": "@jupyter-widgets/base",
          "model_name": "LayoutModel",
          "state": {
            "_view_name": "LayoutView",
            "grid_template_rows": null,
            "right": null,
            "justify_content": null,
            "_view_module": "@jupyter-widgets/base",
            "overflow": null,
            "_model_module_version": "1.2.0",
            "_view_count": null,
            "flex_flow": null,
            "width": null,
            "min_width": null,
            "border": null,
            "align_items": null,
            "bottom": null,
            "_model_module": "@jupyter-widgets/base",
            "top": null,
            "grid_column": null,
            "overflow_y": null,
            "overflow_x": null,
            "grid_auto_flow": null,
            "grid_area": null,
            "grid_template_columns": null,
            "flex": null,
            "_model_name": "LayoutModel",
            "justify_items": null,
            "grid_row": null,
            "max_height": null,
            "align_content": null,
            "visibility": null,
            "align_self": null,
            "height": null,
            "min_height": null,
            "padding": null,
            "grid_auto_rows": null,
            "grid_gap": null,
            "max_width": null,
            "order": null,
            "_view_module_version": "1.2.0",
            "grid_template_areas": null,
            "object_position": null,
            "object_fit": null,
            "grid_auto_columns": null,
            "margin": null,
            "display": null,
            "left": null
          }
        },
        "64054f2f223a4fbeb738343060d68164": {
          "model_module": "@jupyter-widgets/controls",
          "model_name": "HBoxModel",
          "state": {
            "_view_name": "HBoxView",
            "_dom_classes": [],
            "_model_name": "HBoxModel",
            "_view_module": "@jupyter-widgets/controls",
            "_model_module_version": "1.5.0",
            "_view_count": null,
            "_view_module_version": "1.5.0",
            "box_style": "",
            "layout": "IPY_MODEL_5314cb27525e41429afebf038a14d4a0",
            "_model_module": "@jupyter-widgets/controls",
            "children": [
              "IPY_MODEL_fbd2ee3c90454ea69f04f1d8dd434dd4",
              "IPY_MODEL_a4b68365d0644c139b1254c8072e396d"
            ]
          }
        },
        "5314cb27525e41429afebf038a14d4a0": {
          "model_module": "@jupyter-widgets/base",
          "model_name": "LayoutModel",
          "state": {
            "_view_name": "LayoutView",
            "grid_template_rows": null,
            "right": null,
            "justify_content": null,
            "_view_module": "@jupyter-widgets/base",
            "overflow": null,
            "_model_module_version": "1.2.0",
            "_view_count": null,
            "flex_flow": null,
            "width": null,
            "min_width": null,
            "border": null,
            "align_items": null,
            "bottom": null,
            "_model_module": "@jupyter-widgets/base",
            "top": null,
            "grid_column": null,
            "overflow_y": null,
            "overflow_x": null,
            "grid_auto_flow": null,
            "grid_area": null,
            "grid_template_columns": null,
            "flex": null,
            "_model_name": "LayoutModel",
            "justify_items": null,
            "grid_row": null,
            "max_height": null,
            "align_content": null,
            "visibility": null,
            "align_self": null,
            "height": null,
            "min_height": null,
            "padding": null,
            "grid_auto_rows": null,
            "grid_gap": null,
            "max_width": null,
            "order": null,
            "_view_module_version": "1.2.0",
            "grid_template_areas": null,
            "object_position": null,
            "object_fit": null,
            "grid_auto_columns": null,
            "margin": null,
            "display": null,
            "left": null
          }
        },
        "fbd2ee3c90454ea69f04f1d8dd434dd4": {
          "model_module": "@jupyter-widgets/controls",
          "model_name": "FloatProgressModel",
          "state": {
            "_view_name": "ProgressView",
            "style": "IPY_MODEL_e2b29a50ec7c413ebec4bf64e253bbe5",
            "_dom_classes": [],
            "description": "100%",
            "_model_name": "FloatProgressModel",
            "bar_style": "",
            "max": 141,
            "_view_module": "@jupyter-widgets/controls",
            "_model_module_version": "1.5.0",
            "value": 141,
            "_view_count": null,
            "_view_module_version": "1.5.0",
            "orientation": "horizontal",
            "min": 0,
            "description_tooltip": null,
            "_model_module": "@jupyter-widgets/controls",
            "layout": "IPY_MODEL_40945bc9da764be1b33c4bc02258ed70"
          }
        },
        "a4b68365d0644c139b1254c8072e396d": {
          "model_module": "@jupyter-widgets/controls",
          "model_name": "HTMLModel",
          "state": {
            "_view_name": "HTMLView",
            "style": "IPY_MODEL_cfa84db0c62b4c8d9e04ab768fc0bc31",
            "_dom_classes": [],
            "description": "",
            "_model_name": "HTMLModel",
            "placeholder": "​",
            "_view_module": "@jupyter-widgets/controls",
            "_model_module_version": "1.5.0",
            "value": " 141/141 [00:00&lt;00:00, 233.12it/s]",
            "_view_count": null,
            "_view_module_version": "1.5.0",
            "description_tooltip": null,
            "_model_module": "@jupyter-widgets/controls",
            "layout": "IPY_MODEL_55dafc1826c8477b841dd1c82dd296dc"
          }
        },
        "e2b29a50ec7c413ebec4bf64e253bbe5": {
          "model_module": "@jupyter-widgets/controls",
          "model_name": "ProgressStyleModel",
          "state": {
            "_view_name": "StyleView",
            "_model_name": "ProgressStyleModel",
            "description_width": "initial",
            "_view_module": "@jupyter-widgets/base",
            "_model_module_version": "1.5.0",
            "_view_count": null,
            "_view_module_version": "1.2.0",
            "bar_color": null,
            "_model_module": "@jupyter-widgets/controls"
          }
        },
        "40945bc9da764be1b33c4bc02258ed70": {
          "model_module": "@jupyter-widgets/base",
          "model_name": "LayoutModel",
          "state": {
            "_view_name": "LayoutView",
            "grid_template_rows": null,
            "right": null,
            "justify_content": null,
            "_view_module": "@jupyter-widgets/base",
            "overflow": null,
            "_model_module_version": "1.2.0",
            "_view_count": null,
            "flex_flow": null,
            "width": null,
            "min_width": null,
            "border": null,
            "align_items": null,
            "bottom": null,
            "_model_module": "@jupyter-widgets/base",
            "top": null,
            "grid_column": null,
            "overflow_y": null,
            "overflow_x": null,
            "grid_auto_flow": null,
            "grid_area": null,
            "grid_template_columns": null,
            "flex": null,
            "_model_name": "LayoutModel",
            "justify_items": null,
            "grid_row": null,
            "max_height": null,
            "align_content": null,
            "visibility": null,
            "align_self": null,
            "height": null,
            "min_height": null,
            "padding": null,
            "grid_auto_rows": null,
            "grid_gap": null,
            "max_width": null,
            "order": null,
            "_view_module_version": "1.2.0",
            "grid_template_areas": null,
            "object_position": null,
            "object_fit": null,
            "grid_auto_columns": null,
            "margin": null,
            "display": null,
            "left": null
          }
        },
        "cfa84db0c62b4c8d9e04ab768fc0bc31": {
          "model_module": "@jupyter-widgets/controls",
          "model_name": "DescriptionStyleModel",
          "state": {
            "_view_name": "StyleView",
            "_model_name": "DescriptionStyleModel",
            "description_width": "",
            "_view_module": "@jupyter-widgets/base",
            "_model_module_version": "1.5.0",
            "_view_count": null,
            "_view_module_version": "1.2.0",
            "_model_module": "@jupyter-widgets/controls"
          }
        },
        "55dafc1826c8477b841dd1c82dd296dc": {
          "model_module": "@jupyter-widgets/base",
          "model_name": "LayoutModel",
          "state": {
            "_view_name": "LayoutView",
            "grid_template_rows": null,
            "right": null,
            "justify_content": null,
            "_view_module": "@jupyter-widgets/base",
            "overflow": null,
            "_model_module_version": "1.2.0",
            "_view_count": null,
            "flex_flow": null,
            "width": null,
            "min_width": null,
            "border": null,
            "align_items": null,
            "bottom": null,
            "_model_module": "@jupyter-widgets/base",
            "top": null,
            "grid_column": null,
            "overflow_y": null,
            "overflow_x": null,
            "grid_auto_flow": null,
            "grid_area": null,
            "grid_template_columns": null,
            "flex": null,
            "_model_name": "LayoutModel",
            "justify_items": null,
            "grid_row": null,
            "max_height": null,
            "align_content": null,
            "visibility": null,
            "align_self": null,
            "height": null,
            "min_height": null,
            "padding": null,
            "grid_auto_rows": null,
            "grid_gap": null,
            "max_width": null,
            "order": null,
            "_view_module_version": "1.2.0",
            "grid_template_areas": null,
            "object_position": null,
            "object_fit": null,
            "grid_auto_columns": null,
            "margin": null,
            "display": null,
            "left": null
          }
        },
        "f370af1b262f43508c7784f424a7b3c3": {
          "model_module": "@jupyter-widgets/controls",
          "model_name": "HBoxModel",
          "state": {
            "_view_name": "HBoxView",
            "_dom_classes": [],
            "_model_name": "HBoxModel",
            "_view_module": "@jupyter-widgets/controls",
            "_model_module_version": "1.5.0",
            "_view_count": null,
            "_view_module_version": "1.5.0",
            "box_style": "",
            "layout": "IPY_MODEL_4f5d47e361c14599866ebbc46e5799da",
            "_model_module": "@jupyter-widgets/controls",
            "children": [
              "IPY_MODEL_54bb4aa7275142249d1820c8eaaf15bb",
              "IPY_MODEL_d633fa9c743f4f5caab0212a7ce2e947"
            ]
          }
        },
        "4f5d47e361c14599866ebbc46e5799da": {
          "model_module": "@jupyter-widgets/base",
          "model_name": "LayoutModel",
          "state": {
            "_view_name": "LayoutView",
            "grid_template_rows": null,
            "right": null,
            "justify_content": null,
            "_view_module": "@jupyter-widgets/base",
            "overflow": null,
            "_model_module_version": "1.2.0",
            "_view_count": null,
            "flex_flow": null,
            "width": null,
            "min_width": null,
            "border": null,
            "align_items": null,
            "bottom": null,
            "_model_module": "@jupyter-widgets/base",
            "top": null,
            "grid_column": null,
            "overflow_y": null,
            "overflow_x": null,
            "grid_auto_flow": null,
            "grid_area": null,
            "grid_template_columns": null,
            "flex": null,
            "_model_name": "LayoutModel",
            "justify_items": null,
            "grid_row": null,
            "max_height": null,
            "align_content": null,
            "visibility": null,
            "align_self": null,
            "height": null,
            "min_height": null,
            "padding": null,
            "grid_auto_rows": null,
            "grid_gap": null,
            "max_width": null,
            "order": null,
            "_view_module_version": "1.2.0",
            "grid_template_areas": null,
            "object_position": null,
            "object_fit": null,
            "grid_auto_columns": null,
            "margin": null,
            "display": null,
            "left": null
          }
        },
        "54bb4aa7275142249d1820c8eaaf15bb": {
          "model_module": "@jupyter-widgets/controls",
          "model_name": "FloatProgressModel",
          "state": {
            "_view_name": "ProgressView",
            "style": "IPY_MODEL_9eabd2d179e84c45954c6082fd89ae0b",
            "_dom_classes": [],
            "description": "Epoch 8: 100%",
            "_model_name": "FloatProgressModel",
            "bar_style": "",
            "max": 563,
            "_view_module": "@jupyter-widgets/controls",
            "_model_module_version": "1.5.0",
            "value": 563,
            "_view_count": null,
            "_view_module_version": "1.5.0",
            "orientation": "horizontal",
            "min": 0,
            "description_tooltip": null,
            "_model_module": "@jupyter-widgets/controls",
            "layout": "IPY_MODEL_cb66b61c004a4045b203abba0908731c"
          }
        },
        "d633fa9c743f4f5caab0212a7ce2e947": {
          "model_module": "@jupyter-widgets/controls",
          "model_name": "HTMLModel",
          "state": {
            "_view_name": "HTMLView",
            "style": "IPY_MODEL_003ab224388b45af8da31e96bcc77d32",
            "_dom_classes": [],
            "description": "",
            "_model_name": "HTMLModel",
            "placeholder": "​",
            "_view_module": "@jupyter-widgets/controls",
            "_model_module_version": "1.5.0",
            "value": " 563/563 [00:05&lt;00:00, 108.04it/s, loss=0.0814]",
            "_view_count": null,
            "_view_module_version": "1.5.0",
            "description_tooltip": null,
            "_model_module": "@jupyter-widgets/controls",
            "layout": "IPY_MODEL_1d09b1dae96346b587e715555e405f91"
          }
        },
        "9eabd2d179e84c45954c6082fd89ae0b": {
          "model_module": "@jupyter-widgets/controls",
          "model_name": "ProgressStyleModel",
          "state": {
            "_view_name": "StyleView",
            "_model_name": "ProgressStyleModel",
            "description_width": "initial",
            "_view_module": "@jupyter-widgets/base",
            "_model_module_version": "1.5.0",
            "_view_count": null,
            "_view_module_version": "1.2.0",
            "bar_color": null,
            "_model_module": "@jupyter-widgets/controls"
          }
        },
        "cb66b61c004a4045b203abba0908731c": {
          "model_module": "@jupyter-widgets/base",
          "model_name": "LayoutModel",
          "state": {
            "_view_name": "LayoutView",
            "grid_template_rows": null,
            "right": null,
            "justify_content": null,
            "_view_module": "@jupyter-widgets/base",
            "overflow": null,
            "_model_module_version": "1.2.0",
            "_view_count": null,
            "flex_flow": null,
            "width": null,
            "min_width": null,
            "border": null,
            "align_items": null,
            "bottom": null,
            "_model_module": "@jupyter-widgets/base",
            "top": null,
            "grid_column": null,
            "overflow_y": null,
            "overflow_x": null,
            "grid_auto_flow": null,
            "grid_area": null,
            "grid_template_columns": null,
            "flex": null,
            "_model_name": "LayoutModel",
            "justify_items": null,
            "grid_row": null,
            "max_height": null,
            "align_content": null,
            "visibility": null,
            "align_self": null,
            "height": null,
            "min_height": null,
            "padding": null,
            "grid_auto_rows": null,
            "grid_gap": null,
            "max_width": null,
            "order": null,
            "_view_module_version": "1.2.0",
            "grid_template_areas": null,
            "object_position": null,
            "object_fit": null,
            "grid_auto_columns": null,
            "margin": null,
            "display": null,
            "left": null
          }
        },
        "003ab224388b45af8da31e96bcc77d32": {
          "model_module": "@jupyter-widgets/controls",
          "model_name": "DescriptionStyleModel",
          "state": {
            "_view_name": "StyleView",
            "_model_name": "DescriptionStyleModel",
            "description_width": "",
            "_view_module": "@jupyter-widgets/base",
            "_model_module_version": "1.5.0",
            "_view_count": null,
            "_view_module_version": "1.2.0",
            "_model_module": "@jupyter-widgets/controls"
          }
        },
        "1d09b1dae96346b587e715555e405f91": {
          "model_module": "@jupyter-widgets/base",
          "model_name": "LayoutModel",
          "state": {
            "_view_name": "LayoutView",
            "grid_template_rows": null,
            "right": null,
            "justify_content": null,
            "_view_module": "@jupyter-widgets/base",
            "overflow": null,
            "_model_module_version": "1.2.0",
            "_view_count": null,
            "flex_flow": null,
            "width": null,
            "min_width": null,
            "border": null,
            "align_items": null,
            "bottom": null,
            "_model_module": "@jupyter-widgets/base",
            "top": null,
            "grid_column": null,
            "overflow_y": null,
            "overflow_x": null,
            "grid_auto_flow": null,
            "grid_area": null,
            "grid_template_columns": null,
            "flex": null,
            "_model_name": "LayoutModel",
            "justify_items": null,
            "grid_row": null,
            "max_height": null,
            "align_content": null,
            "visibility": null,
            "align_self": null,
            "height": null,
            "min_height": null,
            "padding": null,
            "grid_auto_rows": null,
            "grid_gap": null,
            "max_width": null,
            "order": null,
            "_view_module_version": "1.2.0",
            "grid_template_areas": null,
            "object_position": null,
            "object_fit": null,
            "grid_auto_columns": null,
            "margin": null,
            "display": null,
            "left": null
          }
        },
        "e59c6d5ae2bf40b5b7cfbacf09e3e372": {
          "model_module": "@jupyter-widgets/controls",
          "model_name": "HBoxModel",
          "state": {
            "_view_name": "HBoxView",
            "_dom_classes": [],
            "_model_name": "HBoxModel",
            "_view_module": "@jupyter-widgets/controls",
            "_model_module_version": "1.5.0",
            "_view_count": null,
            "_view_module_version": "1.5.0",
            "box_style": "",
            "layout": "IPY_MODEL_88618b2423a04949ab0a0ec9c2f4e258",
            "_model_module": "@jupyter-widgets/controls",
            "children": [
              "IPY_MODEL_f309e83037a443bfa413083c1a0a227f",
              "IPY_MODEL_fdd22457e00343d484c15f06c0e69423"
            ]
          }
        },
        "88618b2423a04949ab0a0ec9c2f4e258": {
          "model_module": "@jupyter-widgets/base",
          "model_name": "LayoutModel",
          "state": {
            "_view_name": "LayoutView",
            "grid_template_rows": null,
            "right": null,
            "justify_content": null,
            "_view_module": "@jupyter-widgets/base",
            "overflow": null,
            "_model_module_version": "1.2.0",
            "_view_count": null,
            "flex_flow": null,
            "width": null,
            "min_width": null,
            "border": null,
            "align_items": null,
            "bottom": null,
            "_model_module": "@jupyter-widgets/base",
            "top": null,
            "grid_column": null,
            "overflow_y": null,
            "overflow_x": null,
            "grid_auto_flow": null,
            "grid_area": null,
            "grid_template_columns": null,
            "flex": null,
            "_model_name": "LayoutModel",
            "justify_items": null,
            "grid_row": null,
            "max_height": null,
            "align_content": null,
            "visibility": null,
            "align_self": null,
            "height": null,
            "min_height": null,
            "padding": null,
            "grid_auto_rows": null,
            "grid_gap": null,
            "max_width": null,
            "order": null,
            "_view_module_version": "1.2.0",
            "grid_template_areas": null,
            "object_position": null,
            "object_fit": null,
            "grid_auto_columns": null,
            "margin": null,
            "display": null,
            "left": null
          }
        },
        "f309e83037a443bfa413083c1a0a227f": {
          "model_module": "@jupyter-widgets/controls",
          "model_name": "FloatProgressModel",
          "state": {
            "_view_name": "ProgressView",
            "style": "IPY_MODEL_f0046d3d3bb94c6a98f8457ee48467f8",
            "_dom_classes": [],
            "description": "100%",
            "_model_name": "FloatProgressModel",
            "bar_style": "",
            "max": 141,
            "_view_module": "@jupyter-widgets/controls",
            "_model_module_version": "1.5.0",
            "value": 141,
            "_view_count": null,
            "_view_module_version": "1.5.0",
            "orientation": "horizontal",
            "min": 0,
            "description_tooltip": null,
            "_model_module": "@jupyter-widgets/controls",
            "layout": "IPY_MODEL_ac282c88690f4866b4bb7723651e4a0f"
          }
        },
        "fdd22457e00343d484c15f06c0e69423": {
          "model_module": "@jupyter-widgets/controls",
          "model_name": "HTMLModel",
          "state": {
            "_view_name": "HTMLView",
            "style": "IPY_MODEL_fb1957a8a6044b1790403f9e29cd8c5f",
            "_dom_classes": [],
            "description": "",
            "_model_name": "HTMLModel",
            "placeholder": "​",
            "_view_module": "@jupyter-widgets/controls",
            "_model_module_version": "1.5.0",
            "value": " 141/141 [00:00&lt;00:00, 313.60it/s]",
            "_view_count": null,
            "_view_module_version": "1.5.0",
            "description_tooltip": null,
            "_model_module": "@jupyter-widgets/controls",
            "layout": "IPY_MODEL_f4092721e81a470f8b456802c968bfc3"
          }
        },
        "f0046d3d3bb94c6a98f8457ee48467f8": {
          "model_module": "@jupyter-widgets/controls",
          "model_name": "ProgressStyleModel",
          "state": {
            "_view_name": "StyleView",
            "_model_name": "ProgressStyleModel",
            "description_width": "initial",
            "_view_module": "@jupyter-widgets/base",
            "_model_module_version": "1.5.0",
            "_view_count": null,
            "_view_module_version": "1.2.0",
            "bar_color": null,
            "_model_module": "@jupyter-widgets/controls"
          }
        },
        "ac282c88690f4866b4bb7723651e4a0f": {
          "model_module": "@jupyter-widgets/base",
          "model_name": "LayoutModel",
          "state": {
            "_view_name": "LayoutView",
            "grid_template_rows": null,
            "right": null,
            "justify_content": null,
            "_view_module": "@jupyter-widgets/base",
            "overflow": null,
            "_model_module_version": "1.2.0",
            "_view_count": null,
            "flex_flow": null,
            "width": null,
            "min_width": null,
            "border": null,
            "align_items": null,
            "bottom": null,
            "_model_module": "@jupyter-widgets/base",
            "top": null,
            "grid_column": null,
            "overflow_y": null,
            "overflow_x": null,
            "grid_auto_flow": null,
            "grid_area": null,
            "grid_template_columns": null,
            "flex": null,
            "_model_name": "LayoutModel",
            "justify_items": null,
            "grid_row": null,
            "max_height": null,
            "align_content": null,
            "visibility": null,
            "align_self": null,
            "height": null,
            "min_height": null,
            "padding": null,
            "grid_auto_rows": null,
            "grid_gap": null,
            "max_width": null,
            "order": null,
            "_view_module_version": "1.2.0",
            "grid_template_areas": null,
            "object_position": null,
            "object_fit": null,
            "grid_auto_columns": null,
            "margin": null,
            "display": null,
            "left": null
          }
        },
        "fb1957a8a6044b1790403f9e29cd8c5f": {
          "model_module": "@jupyter-widgets/controls",
          "model_name": "DescriptionStyleModel",
          "state": {
            "_view_name": "StyleView",
            "_model_name": "DescriptionStyleModel",
            "description_width": "",
            "_view_module": "@jupyter-widgets/base",
            "_model_module_version": "1.5.0",
            "_view_count": null,
            "_view_module_version": "1.2.0",
            "_model_module": "@jupyter-widgets/controls"
          }
        },
        "f4092721e81a470f8b456802c968bfc3": {
          "model_module": "@jupyter-widgets/base",
          "model_name": "LayoutModel",
          "state": {
            "_view_name": "LayoutView",
            "grid_template_rows": null,
            "right": null,
            "justify_content": null,
            "_view_module": "@jupyter-widgets/base",
            "overflow": null,
            "_model_module_version": "1.2.0",
            "_view_count": null,
            "flex_flow": null,
            "width": null,
            "min_width": null,
            "border": null,
            "align_items": null,
            "bottom": null,
            "_model_module": "@jupyter-widgets/base",
            "top": null,
            "grid_column": null,
            "overflow_y": null,
            "overflow_x": null,
            "grid_auto_flow": null,
            "grid_area": null,
            "grid_template_columns": null,
            "flex": null,
            "_model_name": "LayoutModel",
            "justify_items": null,
            "grid_row": null,
            "max_height": null,
            "align_content": null,
            "visibility": null,
            "align_self": null,
            "height": null,
            "min_height": null,
            "padding": null,
            "grid_auto_rows": null,
            "grid_gap": null,
            "max_width": null,
            "order": null,
            "_view_module_version": "1.2.0",
            "grid_template_areas": null,
            "object_position": null,
            "object_fit": null,
            "grid_auto_columns": null,
            "margin": null,
            "display": null,
            "left": null
          }
        },
        "d55b429870894dc6a0cf7f1cca0e4df9": {
          "model_module": "@jupyter-widgets/controls",
          "model_name": "HBoxModel",
          "state": {
            "_view_name": "HBoxView",
            "_dom_classes": [],
            "_model_name": "HBoxModel",
            "_view_module": "@jupyter-widgets/controls",
            "_model_module_version": "1.5.0",
            "_view_count": null,
            "_view_module_version": "1.5.0",
            "box_style": "",
            "layout": "IPY_MODEL_1d3663b8505e4133bc2ff9ec41fa2e52",
            "_model_module": "@jupyter-widgets/controls",
            "children": [
              "IPY_MODEL_d2e0b7ba87b34d03941b72aca00b68f7",
              "IPY_MODEL_00d059f8eef7458bb98bd645f17aaf6b"
            ]
          }
        },
        "1d3663b8505e4133bc2ff9ec41fa2e52": {
          "model_module": "@jupyter-widgets/base",
          "model_name": "LayoutModel",
          "state": {
            "_view_name": "LayoutView",
            "grid_template_rows": null,
            "right": null,
            "justify_content": null,
            "_view_module": "@jupyter-widgets/base",
            "overflow": null,
            "_model_module_version": "1.2.0",
            "_view_count": null,
            "flex_flow": null,
            "width": null,
            "min_width": null,
            "border": null,
            "align_items": null,
            "bottom": null,
            "_model_module": "@jupyter-widgets/base",
            "top": null,
            "grid_column": null,
            "overflow_y": null,
            "overflow_x": null,
            "grid_auto_flow": null,
            "grid_area": null,
            "grid_template_columns": null,
            "flex": null,
            "_model_name": "LayoutModel",
            "justify_items": null,
            "grid_row": null,
            "max_height": null,
            "align_content": null,
            "visibility": null,
            "align_self": null,
            "height": null,
            "min_height": null,
            "padding": null,
            "grid_auto_rows": null,
            "grid_gap": null,
            "max_width": null,
            "order": null,
            "_view_module_version": "1.2.0",
            "grid_template_areas": null,
            "object_position": null,
            "object_fit": null,
            "grid_auto_columns": null,
            "margin": null,
            "display": null,
            "left": null
          }
        },
        "d2e0b7ba87b34d03941b72aca00b68f7": {
          "model_module": "@jupyter-widgets/controls",
          "model_name": "FloatProgressModel",
          "state": {
            "_view_name": "ProgressView",
            "style": "IPY_MODEL_396600e9bdb744899d0569967e7490b8",
            "_dom_classes": [],
            "description": "Epoch 9: 100%",
            "_model_name": "FloatProgressModel",
            "bar_style": "",
            "max": 563,
            "_view_module": "@jupyter-widgets/controls",
            "_model_module_version": "1.5.0",
            "value": 563,
            "_view_count": null,
            "_view_module_version": "1.5.0",
            "orientation": "horizontal",
            "min": 0,
            "description_tooltip": null,
            "_model_module": "@jupyter-widgets/controls",
            "layout": "IPY_MODEL_7f2fc6c423ff45798c5f6694ac30f6e4"
          }
        },
        "00d059f8eef7458bb98bd645f17aaf6b": {
          "model_module": "@jupyter-widgets/controls",
          "model_name": "HTMLModel",
          "state": {
            "_view_name": "HTMLView",
            "style": "IPY_MODEL_b016ea6fb6af4d1d8725d43478034696",
            "_dom_classes": [],
            "description": "",
            "_model_name": "HTMLModel",
            "placeholder": "​",
            "_view_module": "@jupyter-widgets/controls",
            "_model_module_version": "1.5.0",
            "value": " 563/563 [00:05&lt;00:00, 116.39it/s, loss=0.0645]",
            "_view_count": null,
            "_view_module_version": "1.5.0",
            "description_tooltip": null,
            "_model_module": "@jupyter-widgets/controls",
            "layout": "IPY_MODEL_d946fbcda0bb45c9b0f8c0fa0b59230f"
          }
        },
        "396600e9bdb744899d0569967e7490b8": {
          "model_module": "@jupyter-widgets/controls",
          "model_name": "ProgressStyleModel",
          "state": {
            "_view_name": "StyleView",
            "_model_name": "ProgressStyleModel",
            "description_width": "initial",
            "_view_module": "@jupyter-widgets/base",
            "_model_module_version": "1.5.0",
            "_view_count": null,
            "_view_module_version": "1.2.0",
            "bar_color": null,
            "_model_module": "@jupyter-widgets/controls"
          }
        },
        "7f2fc6c423ff45798c5f6694ac30f6e4": {
          "model_module": "@jupyter-widgets/base",
          "model_name": "LayoutModel",
          "state": {
            "_view_name": "LayoutView",
            "grid_template_rows": null,
            "right": null,
            "justify_content": null,
            "_view_module": "@jupyter-widgets/base",
            "overflow": null,
            "_model_module_version": "1.2.0",
            "_view_count": null,
            "flex_flow": null,
            "width": null,
            "min_width": null,
            "border": null,
            "align_items": null,
            "bottom": null,
            "_model_module": "@jupyter-widgets/base",
            "top": null,
            "grid_column": null,
            "overflow_y": null,
            "overflow_x": null,
            "grid_auto_flow": null,
            "grid_area": null,
            "grid_template_columns": null,
            "flex": null,
            "_model_name": "LayoutModel",
            "justify_items": null,
            "grid_row": null,
            "max_height": null,
            "align_content": null,
            "visibility": null,
            "align_self": null,
            "height": null,
            "min_height": null,
            "padding": null,
            "grid_auto_rows": null,
            "grid_gap": null,
            "max_width": null,
            "order": null,
            "_view_module_version": "1.2.0",
            "grid_template_areas": null,
            "object_position": null,
            "object_fit": null,
            "grid_auto_columns": null,
            "margin": null,
            "display": null,
            "left": null
          }
        },
        "b016ea6fb6af4d1d8725d43478034696": {
          "model_module": "@jupyter-widgets/controls",
          "model_name": "DescriptionStyleModel",
          "state": {
            "_view_name": "StyleView",
            "_model_name": "DescriptionStyleModel",
            "description_width": "",
            "_view_module": "@jupyter-widgets/base",
            "_model_module_version": "1.5.0",
            "_view_count": null,
            "_view_module_version": "1.2.0",
            "_model_module": "@jupyter-widgets/controls"
          }
        },
        "d946fbcda0bb45c9b0f8c0fa0b59230f": {
          "model_module": "@jupyter-widgets/base",
          "model_name": "LayoutModel",
          "state": {
            "_view_name": "LayoutView",
            "grid_template_rows": null,
            "right": null,
            "justify_content": null,
            "_view_module": "@jupyter-widgets/base",
            "overflow": null,
            "_model_module_version": "1.2.0",
            "_view_count": null,
            "flex_flow": null,
            "width": null,
            "min_width": null,
            "border": null,
            "align_items": null,
            "bottom": null,
            "_model_module": "@jupyter-widgets/base",
            "top": null,
            "grid_column": null,
            "overflow_y": null,
            "overflow_x": null,
            "grid_auto_flow": null,
            "grid_area": null,
            "grid_template_columns": null,
            "flex": null,
            "_model_name": "LayoutModel",
            "justify_items": null,
            "grid_row": null,
            "max_height": null,
            "align_content": null,
            "visibility": null,
            "align_self": null,
            "height": null,
            "min_height": null,
            "padding": null,
            "grid_auto_rows": null,
            "grid_gap": null,
            "max_width": null,
            "order": null,
            "_view_module_version": "1.2.0",
            "grid_template_areas": null,
            "object_position": null,
            "object_fit": null,
            "grid_auto_columns": null,
            "margin": null,
            "display": null,
            "left": null
          }
        },
        "2b14be5ca2da4e07b9fb79199248d0af": {
          "model_module": "@jupyter-widgets/controls",
          "model_name": "HBoxModel",
          "state": {
            "_view_name": "HBoxView",
            "_dom_classes": [],
            "_model_name": "HBoxModel",
            "_view_module": "@jupyter-widgets/controls",
            "_model_module_version": "1.5.0",
            "_view_count": null,
            "_view_module_version": "1.5.0",
            "box_style": "",
            "layout": "IPY_MODEL_f7f1a0a57bb24b6f81f6ccafcf144e96",
            "_model_module": "@jupyter-widgets/controls",
            "children": [
              "IPY_MODEL_7be91d690ed44362885e46c0f401526a",
              "IPY_MODEL_d786d8b7f4504fb0a417600b0e2a0c70"
            ]
          }
        },
        "f7f1a0a57bb24b6f81f6ccafcf144e96": {
          "model_module": "@jupyter-widgets/base",
          "model_name": "LayoutModel",
          "state": {
            "_view_name": "LayoutView",
            "grid_template_rows": null,
            "right": null,
            "justify_content": null,
            "_view_module": "@jupyter-widgets/base",
            "overflow": null,
            "_model_module_version": "1.2.0",
            "_view_count": null,
            "flex_flow": null,
            "width": null,
            "min_width": null,
            "border": null,
            "align_items": null,
            "bottom": null,
            "_model_module": "@jupyter-widgets/base",
            "top": null,
            "grid_column": null,
            "overflow_y": null,
            "overflow_x": null,
            "grid_auto_flow": null,
            "grid_area": null,
            "grid_template_columns": null,
            "flex": null,
            "_model_name": "LayoutModel",
            "justify_items": null,
            "grid_row": null,
            "max_height": null,
            "align_content": null,
            "visibility": null,
            "align_self": null,
            "height": null,
            "min_height": null,
            "padding": null,
            "grid_auto_rows": null,
            "grid_gap": null,
            "max_width": null,
            "order": null,
            "_view_module_version": "1.2.0",
            "grid_template_areas": null,
            "object_position": null,
            "object_fit": null,
            "grid_auto_columns": null,
            "margin": null,
            "display": null,
            "left": null
          }
        },
        "7be91d690ed44362885e46c0f401526a": {
          "model_module": "@jupyter-widgets/controls",
          "model_name": "FloatProgressModel",
          "state": {
            "_view_name": "ProgressView",
            "style": "IPY_MODEL_da7905b9f8cc496cb79af96c3a9044a8",
            "_dom_classes": [],
            "description": "100%",
            "_model_name": "FloatProgressModel",
            "bar_style": "",
            "max": 141,
            "_view_module": "@jupyter-widgets/controls",
            "_model_module_version": "1.5.0",
            "value": 141,
            "_view_count": null,
            "_view_module_version": "1.5.0",
            "orientation": "horizontal",
            "min": 0,
            "description_tooltip": null,
            "_model_module": "@jupyter-widgets/controls",
            "layout": "IPY_MODEL_aaa07c7f29c64ad59c72a4a9c3837d0d"
          }
        },
        "d786d8b7f4504fb0a417600b0e2a0c70": {
          "model_module": "@jupyter-widgets/controls",
          "model_name": "HTMLModel",
          "state": {
            "_view_name": "HTMLView",
            "style": "IPY_MODEL_4ccb3f7c4ff24383874d3e2a53930736",
            "_dom_classes": [],
            "description": "",
            "_model_name": "HTMLModel",
            "placeholder": "​",
            "_view_module": "@jupyter-widgets/controls",
            "_model_module_version": "1.5.0",
            "value": " 141/141 [00:00&lt;00:00, 278.42it/s]",
            "_view_count": null,
            "_view_module_version": "1.5.0",
            "description_tooltip": null,
            "_model_module": "@jupyter-widgets/controls",
            "layout": "IPY_MODEL_b20b0f3d80a24d10a2eb7acc3d160b9a"
          }
        },
        "da7905b9f8cc496cb79af96c3a9044a8": {
          "model_module": "@jupyter-widgets/controls",
          "model_name": "ProgressStyleModel",
          "state": {
            "_view_name": "StyleView",
            "_model_name": "ProgressStyleModel",
            "description_width": "initial",
            "_view_module": "@jupyter-widgets/base",
            "_model_module_version": "1.5.0",
            "_view_count": null,
            "_view_module_version": "1.2.0",
            "bar_color": null,
            "_model_module": "@jupyter-widgets/controls"
          }
        },
        "aaa07c7f29c64ad59c72a4a9c3837d0d": {
          "model_module": "@jupyter-widgets/base",
          "model_name": "LayoutModel",
          "state": {
            "_view_name": "LayoutView",
            "grid_template_rows": null,
            "right": null,
            "justify_content": null,
            "_view_module": "@jupyter-widgets/base",
            "overflow": null,
            "_model_module_version": "1.2.0",
            "_view_count": null,
            "flex_flow": null,
            "width": null,
            "min_width": null,
            "border": null,
            "align_items": null,
            "bottom": null,
            "_model_module": "@jupyter-widgets/base",
            "top": null,
            "grid_column": null,
            "overflow_y": null,
            "overflow_x": null,
            "grid_auto_flow": null,
            "grid_area": null,
            "grid_template_columns": null,
            "flex": null,
            "_model_name": "LayoutModel",
            "justify_items": null,
            "grid_row": null,
            "max_height": null,
            "align_content": null,
            "visibility": null,
            "align_self": null,
            "height": null,
            "min_height": null,
            "padding": null,
            "grid_auto_rows": null,
            "grid_gap": null,
            "max_width": null,
            "order": null,
            "_view_module_version": "1.2.0",
            "grid_template_areas": null,
            "object_position": null,
            "object_fit": null,
            "grid_auto_columns": null,
            "margin": null,
            "display": null,
            "left": null
          }
        },
        "4ccb3f7c4ff24383874d3e2a53930736": {
          "model_module": "@jupyter-widgets/controls",
          "model_name": "DescriptionStyleModel",
          "state": {
            "_view_name": "StyleView",
            "_model_name": "DescriptionStyleModel",
            "description_width": "",
            "_view_module": "@jupyter-widgets/base",
            "_model_module_version": "1.5.0",
            "_view_count": null,
            "_view_module_version": "1.2.0",
            "_model_module": "@jupyter-widgets/controls"
          }
        },
        "b20b0f3d80a24d10a2eb7acc3d160b9a": {
          "model_module": "@jupyter-widgets/base",
          "model_name": "LayoutModel",
          "state": {
            "_view_name": "LayoutView",
            "grid_template_rows": null,
            "right": null,
            "justify_content": null,
            "_view_module": "@jupyter-widgets/base",
            "overflow": null,
            "_model_module_version": "1.2.0",
            "_view_count": null,
            "flex_flow": null,
            "width": null,
            "min_width": null,
            "border": null,
            "align_items": null,
            "bottom": null,
            "_model_module": "@jupyter-widgets/base",
            "top": null,
            "grid_column": null,
            "overflow_y": null,
            "overflow_x": null,
            "grid_auto_flow": null,
            "grid_area": null,
            "grid_template_columns": null,
            "flex": null,
            "_model_name": "LayoutModel",
            "justify_items": null,
            "grid_row": null,
            "max_height": null,
            "align_content": null,
            "visibility": null,
            "align_self": null,
            "height": null,
            "min_height": null,
            "padding": null,
            "grid_auto_rows": null,
            "grid_gap": null,
            "max_width": null,
            "order": null,
            "_view_module_version": "1.2.0",
            "grid_template_areas": null,
            "object_position": null,
            "object_fit": null,
            "grid_auto_columns": null,
            "margin": null,
            "display": null,
            "left": null
          }
        }
      }
    }
  },
  "cells": [
    {
      "cell_type": "markdown",
      "metadata": {
        "id": "view-in-github",
        "colab_type": "text"
      },
      "source": [
        "<a href=\"https://colab.research.google.com/github/YuxingW/deep_learning/blob/main/hw5/part_c_pytorch.ipynb\" target=\"_parent\"><img src=\"https://colab.research.google.com/assets/colab-badge.svg\" alt=\"Open In Colab\"/></a>"
      ]
    },
    {
      "cell_type": "markdown",
      "metadata": {
        "id": "uh2Y1u6JkBVG"
      },
      "source": [
        "# Import libraries\n"
      ]
    },
    {
      "cell_type": "code",
      "metadata": {
        "id": "3256OFoIjIrM"
      },
      "source": [
        "## import libraries\n",
        "\n",
        "#PyTorch \n",
        "\n",
        "import torch\n",
        "import torch.nn as nn\n",
        "from torch.utils.data import Dataset, DataLoader\n",
        "import torch.optim as torch_optim\n",
        "from torchvision import models\n",
        "from torch.nn import init\n",
        "import torch.optim as optim\n",
        "from torch.autograd import Variable\n",
        "import torch.nn.functional as F\n",
        "from torch.utils import data\n",
        "from torch.optim import lr_scheduler\n",
        "\n",
        "#sklearn\n",
        "from sklearn.model_selection import train_test_split\n",
        "from sklearn.preprocessing import LabelEncoder\n",
        "from sklearn.metrics import mean_squared_error\n",
        "from sklearn import preprocessing\n",
        "\n",
        "\n",
        "#other\n",
        "from IPython.core.debugger import set_trace\n",
        "import pandas as pd\n",
        "import numpy as np\n",
        "from collections import Counter\n",
        "from datetime import datetime\n",
        "import math \n",
        "from google.colab import files\n",
        "import io\n",
        "import datetime as dt\n",
        "import re\n",
        "import pandas_profiling\n",
        "import pandas_profiling as pp\n",
        "from math import sqrt\n",
        "\n",
        "#graphs\n",
        "import seaborn as sns\n",
        "import matplotlib.pyplot as plt\n",
        "import matplotlib.ticker as ticker\n",
        "import matplotlib.dates as mdates\n",
        "import matplotlib.cbook as cbook\n",
        "import pylab as plt\n",
        "import matplotlib.dates as dates\n",
        "import seaborn as sns\n",
        "import pylab\n",
        "import matplotlib\n",
        "import matplotlib.dates\n",
        "from IPython.display import display\n",
        "import plotly.graph_objects as go\n",
        "\n",
        "\n",
        "%matplotlib inline"
      ],
      "execution_count": 1,
      "outputs": []
    },
    {
      "cell_type": "code",
      "metadata": {
        "id": "jENRWz7YBP8v",
        "colab": {
          "base_uri": "https://localhost:8080/"
        },
        "outputId": "6f2e45a0-1bcb-4d83-dd49-d30974cbe76e"
      },
      "source": [
        "# load tqdm\n",
        "#!pip install --force https://github.com/chengs/tqdm/archive/colab.zip\n",
        "from tqdm import tqdm, tqdm_notebook, tnrange\n",
        "\n",
        "device = torch.device(\"cuda:0\" if torch.cuda.is_available() else \"cpu\")\n",
        "device"
      ],
      "execution_count": 2,
      "outputs": [
        {
          "output_type": "execute_result",
          "data": {
            "text/plain": [
              "device(type='cuda', index=0)"
            ]
          },
          "metadata": {
            "tags": []
          },
          "execution_count": 2
        }
      ]
    },
    {
      "cell_type": "markdown",
      "metadata": {
        "id": "0PVX-6qokEWI"
      },
      "source": [
        "# Help Functions"
      ]
    },
    {
      "cell_type": "code",
      "metadata": {
        "id": "uJoaYsqKjjTu"
      },
      "source": [
        "def haversine_distance(df, lat1, long1, lat2, long2):\n",
        "    \"\"\"\n",
        "    Calculates the haversine distance between 2 sets of GPS coordinates in df\n",
        "    \"\"\"\n",
        "    r = 6371  # average radius of Earth in kilometers\n",
        "       \n",
        "    phi1 = np.radians(df[lat1])\n",
        "    phi2 = np.radians(df[lat2])\n",
        "    \n",
        "    delta_phi = np.radians(df[lat2]-df[lat1])\n",
        "    delta_lambda = np.radians(df[long2]-df[long1])\n",
        "     \n",
        "    a = np.sin(delta_phi/2)**2 + np.cos(phi1) * np.cos(phi2) * np.sin(delta_lambda/2)**2\n",
        "    c = 2 * np.arctan2(np.sqrt(a), np.sqrt(1-a))\n",
        "    d = (r * c) # in kilometers\n",
        "\n",
        "    return d"
      ],
      "execution_count": 3,
      "outputs": []
    },
    {
      "cell_type": "code",
      "metadata": {
        "colab": {
          "base_uri": "https://localhost:8080/",
          "height": 281
        },
        "id": "9w2zahxUZzFs",
        "outputId": "2d33c54e-86b8-4cdc-838a-931c189c7409"
      },
      "source": [
        "import requests\n",
        "from io import BytesIO\n",
        "\n",
        "url = 'https://docs.google.com/spreadsheets/d/e/2PACX-1vSdR1c5jpsE5Kp2DzQoIm7H2XywINfGNMnTL7nP92mu_GBHgu2T0mPxnu5O0YVfSpAbAu1NGNrm0auq/pub?output=csv'\n",
        "r = requests.get(url)\n",
        "csv_data = r.content\n",
        "df = pd.read_csv(BytesIO(csv_data))\n",
        "df.head()"
      ],
      "execution_count": 4,
      "outputs": [
        {
          "output_type": "execute_result",
          "data": {
            "text/html": [
              "<div>\n",
              "<style scoped>\n",
              "    .dataframe tbody tr th:only-of-type {\n",
              "        vertical-align: middle;\n",
              "    }\n",
              "\n",
              "    .dataframe tbody tr th {\n",
              "        vertical-align: top;\n",
              "    }\n",
              "\n",
              "    .dataframe thead th {\n",
              "        text-align: right;\n",
              "    }\n",
              "</style>\n",
              "<table border=\"1\" class=\"dataframe\">\n",
              "  <thead>\n",
              "    <tr style=\"text-align: right;\">\n",
              "      <th></th>\n",
              "      <th>key</th>\n",
              "      <th>fare_amount</th>\n",
              "      <th>pickup_datetime</th>\n",
              "      <th>pickup_longitude</th>\n",
              "      <th>pickup_latitude</th>\n",
              "      <th>dropoff_longitude</th>\n",
              "      <th>dropoff_latitude</th>\n",
              "      <th>passenger_count</th>\n",
              "    </tr>\n",
              "  </thead>\n",
              "  <tbody>\n",
              "    <tr>\n",
              "      <th>0</th>\n",
              "      <td>2009-06-15 17:26:21</td>\n",
              "      <td>4.5</td>\n",
              "      <td>2009-06-15 17:26:21 UTC</td>\n",
              "      <td>-73.844311</td>\n",
              "      <td>40.721319</td>\n",
              "      <td>-73.841610</td>\n",
              "      <td>40.712278</td>\n",
              "      <td>1</td>\n",
              "    </tr>\n",
              "    <tr>\n",
              "      <th>1</th>\n",
              "      <td>2010-01-05 16:52:16</td>\n",
              "      <td>16.9</td>\n",
              "      <td>2010-01-05 16:52:16 UTC</td>\n",
              "      <td>-74.016048</td>\n",
              "      <td>40.711303</td>\n",
              "      <td>-73.979268</td>\n",
              "      <td>40.782004</td>\n",
              "      <td>1</td>\n",
              "    </tr>\n",
              "    <tr>\n",
              "      <th>2</th>\n",
              "      <td>2011-08-18 0:35:00</td>\n",
              "      <td>5.7</td>\n",
              "      <td>2011-08-18 00:35:00 UTC</td>\n",
              "      <td>-73.982738</td>\n",
              "      <td>40.761270</td>\n",
              "      <td>-73.991242</td>\n",
              "      <td>40.750562</td>\n",
              "      <td>2</td>\n",
              "    </tr>\n",
              "    <tr>\n",
              "      <th>3</th>\n",
              "      <td>2012-04-21 4:30:42</td>\n",
              "      <td>7.7</td>\n",
              "      <td>2012-04-21 04:30:42 UTC</td>\n",
              "      <td>-73.987130</td>\n",
              "      <td>40.733143</td>\n",
              "      <td>-73.991567</td>\n",
              "      <td>40.758092</td>\n",
              "      <td>1</td>\n",
              "    </tr>\n",
              "    <tr>\n",
              "      <th>4</th>\n",
              "      <td>2010-03-09 7:51:00</td>\n",
              "      <td>5.3</td>\n",
              "      <td>2010-03-09 07:51:00 UTC</td>\n",
              "      <td>-73.968095</td>\n",
              "      <td>40.768008</td>\n",
              "      <td>-73.956655</td>\n",
              "      <td>40.783762</td>\n",
              "      <td>1</td>\n",
              "    </tr>\n",
              "  </tbody>\n",
              "</table>\n",
              "</div>"
            ],
            "text/plain": [
              "                   key  fare_amount  ... dropoff_latitude  passenger_count\n",
              "0  2009-06-15 17:26:21          4.5  ...        40.712278                1\n",
              "1  2010-01-05 16:52:16         16.9  ...        40.782004                1\n",
              "2   2011-08-18 0:35:00          5.7  ...        40.750562                2\n",
              "3   2012-04-21 4:30:42          7.7  ...        40.758092                1\n",
              "4   2010-03-09 7:51:00          5.3  ...        40.783762                1\n",
              "\n",
              "[5 rows x 8 columns]"
            ]
          },
          "metadata": {
            "tags": []
          },
          "execution_count": 4
        }
      ]
    },
    {
      "cell_type": "markdown",
      "metadata": {
        "id": "QSAiBGfNkbhb"
      },
      "source": [
        "# Data preprocessing and transformation"
      ]
    },
    {
      "cell_type": "markdown",
      "metadata": {
        "id": "lbRO0s7mmtOz"
      },
      "source": [
        "###Calculate the distance traveled"
      ]
    },
    {
      "cell_type": "code",
      "metadata": {
        "id": "U6prpp5lmivr"
      },
      "source": [
        "df['dist_km'] = haversine_distance(df,'pickup_latitude', 'pickup_longitude', 'dropoff_latitude', 'dropoff_longitude')"
      ],
      "execution_count": 5,
      "outputs": []
    },
    {
      "cell_type": "markdown",
      "metadata": {
        "id": "mxYVYQ3lm2dI"
      },
      "source": [
        "##Add a datetime column and derive useful statistics"
      ]
    },
    {
      "cell_type": "code",
      "metadata": {
        "id": "HLmdLkipktOK"
      },
      "source": [
        "df['EDTdate'] = pd.to_datetime(df['pickup_datetime'].str[:19]) - pd.Timedelta(hours=4)\n",
        "df['Hour'] = df['EDTdate'].dt.hour\n",
        "df['AMorPM'] = np.where(df['Hour']<12,'am','pm')\n",
        "df['Weekday'] = df['EDTdate'].dt.strftime(\"%a\")"
      ],
      "execution_count": 6,
      "outputs": []
    },
    {
      "cell_type": "code",
      "metadata": {
        "id": "mN0xUIP0nH-K"
      },
      "source": [
        "cat_cols = ['Hour', 'AMorPM', 'Weekday']\n",
        "cont_cols = ['pickup_latitude', 'pickup_longitude', 'dropoff_latitude', 'dropoff_longitude', 'passenger_count', 'dist_km']\n"
      ],
      "execution_count": 7,
      "outputs": []
    },
    {
      "cell_type": "code",
      "metadata": {
        "id": "G91bMyUroUMw",
        "colab": {
          "base_uri": "https://localhost:8080/",
          "height": 384
        },
        "outputId": "07df685a-3791-4b81-ddda-06f159eec3c9"
      },
      "source": [
        "#make the cat categories as \"category\" and label encoder it.\n",
        "for col in df.columns:\n",
        "  if col in cat_cols:\n",
        "    df[col] = LabelEncoder().fit_transform(df[col])\n",
        "    df[col]= df[col].astype('category')\n",
        "\n",
        "df.head()"
      ],
      "execution_count": 8,
      "outputs": [
        {
          "output_type": "execute_result",
          "data": {
            "text/html": [
              "<div>\n",
              "<style scoped>\n",
              "    .dataframe tbody tr th:only-of-type {\n",
              "        vertical-align: middle;\n",
              "    }\n",
              "\n",
              "    .dataframe tbody tr th {\n",
              "        vertical-align: top;\n",
              "    }\n",
              "\n",
              "    .dataframe thead th {\n",
              "        text-align: right;\n",
              "    }\n",
              "</style>\n",
              "<table border=\"1\" class=\"dataframe\">\n",
              "  <thead>\n",
              "    <tr style=\"text-align: right;\">\n",
              "      <th></th>\n",
              "      <th>key</th>\n",
              "      <th>fare_amount</th>\n",
              "      <th>pickup_datetime</th>\n",
              "      <th>pickup_longitude</th>\n",
              "      <th>pickup_latitude</th>\n",
              "      <th>dropoff_longitude</th>\n",
              "      <th>dropoff_latitude</th>\n",
              "      <th>passenger_count</th>\n",
              "      <th>dist_km</th>\n",
              "      <th>EDTdate</th>\n",
              "      <th>Hour</th>\n",
              "      <th>AMorPM</th>\n",
              "      <th>Weekday</th>\n",
              "    </tr>\n",
              "  </thead>\n",
              "  <tbody>\n",
              "    <tr>\n",
              "      <th>0</th>\n",
              "      <td>2009-06-15 17:26:21</td>\n",
              "      <td>4.5</td>\n",
              "      <td>2009-06-15 17:26:21 UTC</td>\n",
              "      <td>-73.844311</td>\n",
              "      <td>40.721319</td>\n",
              "      <td>-73.841610</td>\n",
              "      <td>40.712278</td>\n",
              "      <td>1</td>\n",
              "      <td>1.030764</td>\n",
              "      <td>2009-06-15 13:26:21</td>\n",
              "      <td>13</td>\n",
              "      <td>1</td>\n",
              "      <td>1</td>\n",
              "    </tr>\n",
              "    <tr>\n",
              "      <th>1</th>\n",
              "      <td>2010-01-05 16:52:16</td>\n",
              "      <td>16.9</td>\n",
              "      <td>2010-01-05 16:52:16 UTC</td>\n",
              "      <td>-74.016048</td>\n",
              "      <td>40.711303</td>\n",
              "      <td>-73.979268</td>\n",
              "      <td>40.782004</td>\n",
              "      <td>1</td>\n",
              "      <td>8.450134</td>\n",
              "      <td>2010-01-05 12:52:16</td>\n",
              "      <td>12</td>\n",
              "      <td>1</td>\n",
              "      <td>5</td>\n",
              "    </tr>\n",
              "    <tr>\n",
              "      <th>2</th>\n",
              "      <td>2011-08-18 0:35:00</td>\n",
              "      <td>5.7</td>\n",
              "      <td>2011-08-18 00:35:00 UTC</td>\n",
              "      <td>-73.982738</td>\n",
              "      <td>40.761270</td>\n",
              "      <td>-73.991242</td>\n",
              "      <td>40.750562</td>\n",
              "      <td>2</td>\n",
              "      <td>1.389525</td>\n",
              "      <td>2011-08-17 20:35:00</td>\n",
              "      <td>20</td>\n",
              "      <td>1</td>\n",
              "      <td>6</td>\n",
              "    </tr>\n",
              "    <tr>\n",
              "      <th>3</th>\n",
              "      <td>2012-04-21 4:30:42</td>\n",
              "      <td>7.7</td>\n",
              "      <td>2012-04-21 04:30:42 UTC</td>\n",
              "      <td>-73.987130</td>\n",
              "      <td>40.733143</td>\n",
              "      <td>-73.991567</td>\n",
              "      <td>40.758092</td>\n",
              "      <td>1</td>\n",
              "      <td>2.799270</td>\n",
              "      <td>2012-04-21 00:30:42</td>\n",
              "      <td>0</td>\n",
              "      <td>0</td>\n",
              "      <td>2</td>\n",
              "    </tr>\n",
              "    <tr>\n",
              "      <th>4</th>\n",
              "      <td>2010-03-09 7:51:00</td>\n",
              "      <td>5.3</td>\n",
              "      <td>2010-03-09 07:51:00 UTC</td>\n",
              "      <td>-73.968095</td>\n",
              "      <td>40.768008</td>\n",
              "      <td>-73.956655</td>\n",
              "      <td>40.783762</td>\n",
              "      <td>1</td>\n",
              "      <td>1.999157</td>\n",
              "      <td>2010-03-09 03:51:00</td>\n",
              "      <td>3</td>\n",
              "      <td>0</td>\n",
              "      <td>5</td>\n",
              "    </tr>\n",
              "  </tbody>\n",
              "</table>\n",
              "</div>"
            ],
            "text/plain": [
              "                   key  fare_amount  ... AMorPM  Weekday\n",
              "0  2009-06-15 17:26:21          4.5  ...      1        1\n",
              "1  2010-01-05 16:52:16         16.9  ...      1        5\n",
              "2   2011-08-18 0:35:00          5.7  ...      1        6\n",
              "3   2012-04-21 4:30:42          7.7  ...      0        2\n",
              "4   2010-03-09 7:51:00          5.3  ...      0        5\n",
              "\n",
              "[5 rows x 13 columns]"
            ]
          },
          "metadata": {
            "tags": []
          },
          "execution_count": 8
        }
      ]
    },
    {
      "cell_type": "code",
      "metadata": {
        "colab": {
          "base_uri": "https://localhost:8080/"
        },
        "id": "BBmIeIYThlbz",
        "outputId": "957c0ab4-886f-4098-d688-a055dd1bcb37"
      },
      "source": [
        "# delete the fares that are less than 0\n",
        "df = df.loc[df.fare_amount > 0]\n",
        "df.fare_amount.min()"
      ],
      "execution_count": 9,
      "outputs": [
        {
          "output_type": "execute_result",
          "data": {
            "text/plain": [
              "0.01"
            ]
          },
          "metadata": {
            "tags": []
          },
          "execution_count": 9
        }
      ]
    },
    {
      "cell_type": "code",
      "metadata": {
        "id": "AoSYRIUD1Dbc"
      },
      "source": [
        "# keep only the cols for the model\n",
        "df = df[['Hour', 'AMorPM', 'Weekday','pickup_latitude', 'pickup_longitude', 'dropoff_latitude', 'dropoff_longitude', 'passenger_count', 'dist_km', 'fare_amount']]"
      ],
      "execution_count": 10,
      "outputs": []
    },
    {
      "cell_type": "code",
      "metadata": {
        "id": "WDuMjwYqxrZr"
      },
      "source": [
        "#Normalizing \n",
        "\n",
        "from pandas.api.types import is_numeric_dtype\n",
        "\n",
        "#\"Compute the means and stds of `self.cont_names` columns to normalize them.\"\n",
        "def Normalize(df):\n",
        "  means,stds = {},{}\n",
        "  cont_names = ['pickup_latitude', 'pickup_longitude', 'dropoff_latitude', 'dropoff_longitude', 'passenger_count', 'dist_km']\n",
        "  for n in cont_names:\n",
        "    assert is_numeric_dtype(df[n]), (f\"\"\"Cannot normalize '{n}' column as it isn't numerical. Are you sure it doesn't belong in the categorical set of columns?\"\"\")\n",
        "    means[n],stds[n] = df[n].mean(),df[n].std()\n",
        "    df[n] = (df[n]-means[n]) / (1e-7 + stds[n])\n",
        "\n",
        "\n",
        "Normalize(df)"
      ],
      "execution_count": 11,
      "outputs": []
    },
    {
      "cell_type": "code",
      "metadata": {
        "id": "6pyrDASAqcxM"
      },
      "source": [
        "df_train = df[:90000]\n",
        "df_test = df[90000:]"
      ],
      "execution_count": 12,
      "outputs": []
    },
    {
      "cell_type": "markdown",
      "metadata": {
        "id": "KFNfBofHn2OV"
      },
      "source": [
        "# Prepare the model"
      ]
    },
    {
      "cell_type": "markdown",
      "metadata": {
        "id": "G-0h_LjXn8ha"
      },
      "source": [
        "## define Categorical and continuous columns"
      ]
    },
    {
      "cell_type": "code",
      "metadata": {
        "id": "TtN1pnhIox7K",
        "colab": {
          "base_uri": "https://localhost:8080/",
          "height": 197
        },
        "outputId": "d47f7721-275a-4733-ecd3-a84961e7ef7a"
      },
      "source": [
        "df.head()"
      ],
      "execution_count": 13,
      "outputs": [
        {
          "output_type": "execute_result",
          "data": {
            "text/html": [
              "<div>\n",
              "<style scoped>\n",
              "    .dataframe tbody tr th:only-of-type {\n",
              "        vertical-align: middle;\n",
              "    }\n",
              "\n",
              "    .dataframe tbody tr th {\n",
              "        vertical-align: top;\n",
              "    }\n",
              "\n",
              "    .dataframe thead th {\n",
              "        text-align: right;\n",
              "    }\n",
              "</style>\n",
              "<table border=\"1\" class=\"dataframe\">\n",
              "  <thead>\n",
              "    <tr style=\"text-align: right;\">\n",
              "      <th></th>\n",
              "      <th>Hour</th>\n",
              "      <th>AMorPM</th>\n",
              "      <th>Weekday</th>\n",
              "      <th>pickup_latitude</th>\n",
              "      <th>pickup_longitude</th>\n",
              "      <th>dropoff_latitude</th>\n",
              "      <th>dropoff_longitude</th>\n",
              "      <th>passenger_count</th>\n",
              "      <th>dist_km</th>\n",
              "      <th>fare_amount</th>\n",
              "    </tr>\n",
              "  </thead>\n",
              "  <tbody>\n",
              "    <tr>\n",
              "      <th>0</th>\n",
              "      <td>13</td>\n",
              "      <td>1</td>\n",
              "      <td>1</td>\n",
              "      <td>0.129607</td>\n",
              "      <td>-0.126215</td>\n",
              "      <td>0.127633</td>\n",
              "      <td>-0.128954</td>\n",
              "      <td>-0.518257</td>\n",
              "      <td>-0.049129</td>\n",
              "      <td>4.5</td>\n",
              "    </tr>\n",
              "    <tr>\n",
              "      <th>1</th>\n",
              "      <td>12</td>\n",
              "      <td>1</td>\n",
              "      <td>5</td>\n",
              "      <td>0.127999</td>\n",
              "      <td>-0.142273</td>\n",
              "      <td>0.138857</td>\n",
              "      <td>-0.142103</td>\n",
              "      <td>-0.518257</td>\n",
              "      <td>-0.028273</td>\n",
              "      <td>16.9</td>\n",
              "    </tr>\n",
              "    <tr>\n",
              "      <th>2</th>\n",
              "      <td>20</td>\n",
              "      <td>1</td>\n",
              "      <td>6</td>\n",
              "      <td>0.136024</td>\n",
              "      <td>-0.139158</td>\n",
              "      <td>0.133796</td>\n",
              "      <td>-0.143246</td>\n",
              "      <td>0.250913</td>\n",
              "      <td>-0.048120</td>\n",
              "      <td>5.7</td>\n",
              "    </tr>\n",
              "    <tr>\n",
              "      <th>3</th>\n",
              "      <td>0</td>\n",
              "      <td>0</td>\n",
              "      <td>2</td>\n",
              "      <td>0.131506</td>\n",
              "      <td>-0.139569</td>\n",
              "      <td>0.135008</td>\n",
              "      <td>-0.143277</td>\n",
              "      <td>-0.518257</td>\n",
              "      <td>-0.044158</td>\n",
              "      <td>7.7</td>\n",
              "    </tr>\n",
              "    <tr>\n",
              "      <th>4</th>\n",
              "      <td>3</td>\n",
              "      <td>0</td>\n",
              "      <td>5</td>\n",
              "      <td>0.137106</td>\n",
              "      <td>-0.137789</td>\n",
              "      <td>0.139140</td>\n",
              "      <td>-0.139943</td>\n",
              "      <td>-0.518257</td>\n",
              "      <td>-0.046407</td>\n",
              "      <td>5.3</td>\n",
              "    </tr>\n",
              "  </tbody>\n",
              "</table>\n",
              "</div>"
            ],
            "text/plain": [
              "  Hour AMorPM Weekday  ...  passenger_count   dist_km  fare_amount\n",
              "0   13      1       1  ...        -0.518257 -0.049129          4.5\n",
              "1   12      1       5  ...        -0.518257 -0.028273         16.9\n",
              "2   20      1       6  ...         0.250913 -0.048120          5.7\n",
              "3    0      0       2  ...        -0.518257 -0.044158          7.7\n",
              "4    3      0       5  ...        -0.518257 -0.046407          5.3\n",
              "\n",
              "[5 rows x 10 columns]"
            ]
          },
          "metadata": {
            "tags": []
          },
          "execution_count": 13
        }
      ]
    },
    {
      "cell_type": "code",
      "metadata": {
        "id": "ZwW1Ubgeo5ea",
        "colab": {
          "base_uri": "https://localhost:8080/"
        },
        "outputId": "d4d4b104-e8b2-4663-a27c-168546984001"
      },
      "source": [
        "df.info()"
      ],
      "execution_count": 14,
      "outputs": [
        {
          "output_type": "stream",
          "text": [
            "<class 'pandas.core.frame.DataFrame'>\n",
            "Int64Index: 99987 entries, 0 to 99998\n",
            "Data columns (total 10 columns):\n",
            " #   Column             Non-Null Count  Dtype   \n",
            "---  ------             --------------  -----   \n",
            " 0   Hour               99987 non-null  category\n",
            " 1   AMorPM             99987 non-null  category\n",
            " 2   Weekday            99987 non-null  category\n",
            " 3   pickup_latitude    99987 non-null  float64 \n",
            " 4   pickup_longitude   99987 non-null  float64 \n",
            " 5   dropoff_latitude   99987 non-null  float64 \n",
            " 6   dropoff_longitude  99987 non-null  float64 \n",
            " 7   passenger_count    99987 non-null  float64 \n",
            " 8   dist_km            99987 non-null  float64 \n",
            " 9   fare_amount        99987 non-null  float64 \n",
            "dtypes: category(3), float64(7)\n",
            "memory usage: 6.4 MB\n"
          ],
          "name": "stdout"
        }
      ]
    },
    {
      "cell_type": "markdown",
      "metadata": {
        "id": "QsebxQMFrLkr"
      },
      "source": [
        "##Take the relevent columns for the Model and Split back to train and test"
      ]
    },
    {
      "cell_type": "code",
      "metadata": {
        "id": "DMk-Q1RC0-aL",
        "colab": {
          "base_uri": "https://localhost:8080/"
        },
        "outputId": "f6a28d90-cdc5-444d-c653-08df6939d41a"
      },
      "source": [
        "df.columns"
      ],
      "execution_count": 15,
      "outputs": [
        {
          "output_type": "execute_result",
          "data": {
            "text/plain": [
              "Index(['Hour', 'AMorPM', 'Weekday', 'pickup_latitude', 'pickup_longitude',\n",
              "       'dropoff_latitude', 'dropoff_longitude', 'passenger_count', 'dist_km',\n",
              "       'fare_amount'],\n",
              "      dtype='object')"
            ]
          },
          "metadata": {
            "tags": []
          },
          "execution_count": 15
        }
      ]
    },
    {
      "cell_type": "code",
      "metadata": {
        "colab": {
          "base_uri": "https://localhost:8080/"
        },
        "id": "GMyDMKJrb4yJ",
        "outputId": "e77e2b22-35ab-442b-a9f1-1af6545c575e"
      },
      "source": [
        "df_train.columns"
      ],
      "execution_count": 16,
      "outputs": [
        {
          "output_type": "execute_result",
          "data": {
            "text/plain": [
              "Index(['Hour', 'AMorPM', 'Weekday', 'pickup_latitude', 'pickup_longitude',\n",
              "       'dropoff_latitude', 'dropoff_longitude', 'passenger_count', 'dist_km',\n",
              "       'fare_amount'],\n",
              "      dtype='object')"
            ]
          },
          "metadata": {
            "tags": []
          },
          "execution_count": 16
        }
      ]
    },
    {
      "cell_type": "markdown",
      "metadata": {
        "id": "2bxdhrdTrdOv"
      },
      "source": [
        "##Continuous values"
      ]
    },
    {
      "cell_type": "code",
      "metadata": {
        "id": "vgjHk0wzrb_L"
      },
      "source": [
        "X = df_train.drop(columns=['fare_amount'])\n",
        "Y = np.log(df_train.fare_amount)\n",
        "\n",
        "test_X = df_test"
      ],
      "execution_count": 17,
      "outputs": []
    },
    {
      "cell_type": "code",
      "metadata": {
        "id": "5cmS2F6crnFq",
        "colab": {
          "base_uri": "https://localhost:8080/",
          "height": 197
        },
        "outputId": "1b195712-60b8-4950-d1d2-80f32efc37bf"
      },
      "source": [
        "df_train.head()"
      ],
      "execution_count": 18,
      "outputs": [
        {
          "output_type": "execute_result",
          "data": {
            "text/html": [
              "<div>\n",
              "<style scoped>\n",
              "    .dataframe tbody tr th:only-of-type {\n",
              "        vertical-align: middle;\n",
              "    }\n",
              "\n",
              "    .dataframe tbody tr th {\n",
              "        vertical-align: top;\n",
              "    }\n",
              "\n",
              "    .dataframe thead th {\n",
              "        text-align: right;\n",
              "    }\n",
              "</style>\n",
              "<table border=\"1\" class=\"dataframe\">\n",
              "  <thead>\n",
              "    <tr style=\"text-align: right;\">\n",
              "      <th></th>\n",
              "      <th>Hour</th>\n",
              "      <th>AMorPM</th>\n",
              "      <th>Weekday</th>\n",
              "      <th>pickup_latitude</th>\n",
              "      <th>pickup_longitude</th>\n",
              "      <th>dropoff_latitude</th>\n",
              "      <th>dropoff_longitude</th>\n",
              "      <th>passenger_count</th>\n",
              "      <th>dist_km</th>\n",
              "      <th>fare_amount</th>\n",
              "    </tr>\n",
              "  </thead>\n",
              "  <tbody>\n",
              "    <tr>\n",
              "      <th>0</th>\n",
              "      <td>13</td>\n",
              "      <td>1</td>\n",
              "      <td>1</td>\n",
              "      <td>0.129607</td>\n",
              "      <td>-0.126215</td>\n",
              "      <td>0.127633</td>\n",
              "      <td>-0.128954</td>\n",
              "      <td>-0.518257</td>\n",
              "      <td>-0.049129</td>\n",
              "      <td>4.5</td>\n",
              "    </tr>\n",
              "    <tr>\n",
              "      <th>1</th>\n",
              "      <td>12</td>\n",
              "      <td>1</td>\n",
              "      <td>5</td>\n",
              "      <td>0.127999</td>\n",
              "      <td>-0.142273</td>\n",
              "      <td>0.138857</td>\n",
              "      <td>-0.142103</td>\n",
              "      <td>-0.518257</td>\n",
              "      <td>-0.028273</td>\n",
              "      <td>16.9</td>\n",
              "    </tr>\n",
              "    <tr>\n",
              "      <th>2</th>\n",
              "      <td>20</td>\n",
              "      <td>1</td>\n",
              "      <td>6</td>\n",
              "      <td>0.136024</td>\n",
              "      <td>-0.139158</td>\n",
              "      <td>0.133796</td>\n",
              "      <td>-0.143246</td>\n",
              "      <td>0.250913</td>\n",
              "      <td>-0.048120</td>\n",
              "      <td>5.7</td>\n",
              "    </tr>\n",
              "    <tr>\n",
              "      <th>3</th>\n",
              "      <td>0</td>\n",
              "      <td>0</td>\n",
              "      <td>2</td>\n",
              "      <td>0.131506</td>\n",
              "      <td>-0.139569</td>\n",
              "      <td>0.135008</td>\n",
              "      <td>-0.143277</td>\n",
              "      <td>-0.518257</td>\n",
              "      <td>-0.044158</td>\n",
              "      <td>7.7</td>\n",
              "    </tr>\n",
              "    <tr>\n",
              "      <th>4</th>\n",
              "      <td>3</td>\n",
              "      <td>0</td>\n",
              "      <td>5</td>\n",
              "      <td>0.137106</td>\n",
              "      <td>-0.137789</td>\n",
              "      <td>0.139140</td>\n",
              "      <td>-0.139943</td>\n",
              "      <td>-0.518257</td>\n",
              "      <td>-0.046407</td>\n",
              "      <td>5.3</td>\n",
              "    </tr>\n",
              "  </tbody>\n",
              "</table>\n",
              "</div>"
            ],
            "text/plain": [
              "  Hour AMorPM Weekday  ...  passenger_count   dist_km  fare_amount\n",
              "0   13      1       1  ...        -0.518257 -0.049129          4.5\n",
              "1   12      1       5  ...        -0.518257 -0.028273         16.9\n",
              "2   20      1       6  ...         0.250913 -0.048120          5.7\n",
              "3    0      0       2  ...        -0.518257 -0.044158          7.7\n",
              "4    3      0       5  ...        -0.518257 -0.046407          5.3\n",
              "\n",
              "[5 rows x 10 columns]"
            ]
          },
          "metadata": {
            "tags": []
          },
          "execution_count": 18
        }
      ]
    },
    {
      "cell_type": "code",
      "metadata": {
        "id": "4urVKk9NxDCx",
        "colab": {
          "base_uri": "https://localhost:8080/"
        },
        "outputId": "73136a71-4969-40f5-9394-e2eecb3f222d"
      },
      "source": [
        "Y.shape"
      ],
      "execution_count": 19,
      "outputs": [
        {
          "output_type": "execute_result",
          "data": {
            "text/plain": [
              "(90000,)"
            ]
          },
          "metadata": {
            "tags": []
          },
          "execution_count": 19
        }
      ]
    },
    {
      "cell_type": "code",
      "metadata": {
        "id": "7vV8_9do4-Oo",
        "colab": {
          "base_uri": "https://localhost:8080/"
        },
        "outputId": "9a145292-7147-46cf-921e-685ce85fbab4"
      },
      "source": [
        "X.info()"
      ],
      "execution_count": 20,
      "outputs": [
        {
          "output_type": "stream",
          "text": [
            "<class 'pandas.core.frame.DataFrame'>\n",
            "Int64Index: 90000 entries, 0 to 90010\n",
            "Data columns (total 9 columns):\n",
            " #   Column             Non-Null Count  Dtype   \n",
            "---  ------             --------------  -----   \n",
            " 0   Hour               90000 non-null  category\n",
            " 1   AMorPM             90000 non-null  category\n",
            " 2   Weekday            90000 non-null  category\n",
            " 3   pickup_latitude    90000 non-null  float64 \n",
            " 4   pickup_longitude   90000 non-null  float64 \n",
            " 5   dropoff_latitude   90000 non-null  float64 \n",
            " 6   dropoff_longitude  90000 non-null  float64 \n",
            " 7   passenger_count    90000 non-null  float64 \n",
            " 8   dist_km            90000 non-null  float64 \n",
            "dtypes: category(3), float64(6)\n",
            "memory usage: 5.1 MB\n"
          ],
          "name": "stdout"
        }
      ]
    },
    {
      "cell_type": "markdown",
      "metadata": {
        "id": "fTHaK8PusKx9"
      },
      "source": [
        "## train-valid split"
      ]
    },
    {
      "cell_type": "code",
      "metadata": {
        "id": "_RdHsihKtYLK",
        "colab": {
          "base_uri": "https://localhost:8080/",
          "height": 197
        },
        "outputId": "11c12e8d-84d6-414e-a9cf-7301d34f0c3d"
      },
      "source": [
        "X_train, X_val, y_train, y_val = train_test_split(X, Y, test_size=0.20, random_state=42,shuffle=True ) \n",
        "X_train.head()"
      ],
      "execution_count": 21,
      "outputs": [
        {
          "output_type": "execute_result",
          "data": {
            "text/html": [
              "<div>\n",
              "<style scoped>\n",
              "    .dataframe tbody tr th:only-of-type {\n",
              "        vertical-align: middle;\n",
              "    }\n",
              "\n",
              "    .dataframe tbody tr th {\n",
              "        vertical-align: top;\n",
              "    }\n",
              "\n",
              "    .dataframe thead th {\n",
              "        text-align: right;\n",
              "    }\n",
              "</style>\n",
              "<table border=\"1\" class=\"dataframe\">\n",
              "  <thead>\n",
              "    <tr style=\"text-align: right;\">\n",
              "      <th></th>\n",
              "      <th>Hour</th>\n",
              "      <th>AMorPM</th>\n",
              "      <th>Weekday</th>\n",
              "      <th>pickup_latitude</th>\n",
              "      <th>pickup_longitude</th>\n",
              "      <th>dropoff_latitude</th>\n",
              "      <th>dropoff_longitude</th>\n",
              "      <th>passenger_count</th>\n",
              "      <th>dist_km</th>\n",
              "    </tr>\n",
              "  </thead>\n",
              "  <tbody>\n",
              "    <tr>\n",
              "      <th>51013</th>\n",
              "      <td>13</td>\n",
              "      <td>1</td>\n",
              "      <td>5</td>\n",
              "      <td>0.137835</td>\n",
              "      <td>-0.135782</td>\n",
              "      <td>0.136943</td>\n",
              "      <td>-0.140388</td>\n",
              "      <td>-0.518257</td>\n",
              "      <td>-0.048468</td>\n",
              "    </tr>\n",
              "    <tr>\n",
              "      <th>11456</th>\n",
              "      <td>23</td>\n",
              "      <td>1</td>\n",
              "      <td>6</td>\n",
              "      <td>0.135027</td>\n",
              "      <td>-0.140099</td>\n",
              "      <td>0.137124</td>\n",
              "      <td>-0.135060</td>\n",
              "      <td>-0.518257</td>\n",
              "      <td>-0.030755</td>\n",
              "    </tr>\n",
              "    <tr>\n",
              "      <th>9693</th>\n",
              "      <td>3</td>\n",
              "      <td>0</td>\n",
              "      <td>4</td>\n",
              "      <td>0.142997</td>\n",
              "      <td>-0.134898</td>\n",
              "      <td>0.138698</td>\n",
              "      <td>-0.139930</td>\n",
              "      <td>-0.518257</td>\n",
              "      <td>-0.043326</td>\n",
              "    </tr>\n",
              "    <tr>\n",
              "      <th>52001</th>\n",
              "      <td>9</td>\n",
              "      <td>0</td>\n",
              "      <td>6</td>\n",
              "      <td>0.131347</td>\n",
              "      <td>-0.141163</td>\n",
              "      <td>0.132937</td>\n",
              "      <td>-0.143908</td>\n",
              "      <td>2.558423</td>\n",
              "      <td>-0.047698</td>\n",
              "    </tr>\n",
              "    <tr>\n",
              "      <th>23535</th>\n",
              "      <td>19</td>\n",
              "      <td>1</td>\n",
              "      <td>5</td>\n",
              "      <td>0.132095</td>\n",
              "      <td>-0.141385</td>\n",
              "      <td>0.127312</td>\n",
              "      <td>-0.144980</td>\n",
              "      <td>-0.518257</td>\n",
              "      <td>-0.043708</td>\n",
              "    </tr>\n",
              "  </tbody>\n",
              "</table>\n",
              "</div>"
            ],
            "text/plain": [
              "      Hour AMorPM Weekday  ...  dropoff_longitude  passenger_count   dist_km\n",
              "51013   13      1       5  ...          -0.140388        -0.518257 -0.048468\n",
              "11456   23      1       6  ...          -0.135060        -0.518257 -0.030755\n",
              "9693     3      0       4  ...          -0.139930        -0.518257 -0.043326\n",
              "52001    9      0       6  ...          -0.143908         2.558423 -0.047698\n",
              "23535   19      1       5  ...          -0.144980        -0.518257 -0.043708\n",
              "\n",
              "[5 rows x 9 columns]"
            ]
          },
          "metadata": {
            "tags": []
          },
          "execution_count": 21
        }
      ]
    },
    {
      "cell_type": "markdown",
      "metadata": {
        "id": "_oCxNy_X3Mp9"
      },
      "source": [
        "## Embeddings"
      ]
    },
    {
      "cell_type": "code",
      "metadata": {
        "id": "vCvmV8v1wMPs",
        "colab": {
          "base_uri": "https://localhost:8080/"
        },
        "outputId": "f1c79d18-9b95-4dd1-ea12-bcf640687c02"
      },
      "source": [
        "cat_szs = [len(df[col].cat.categories) for col in cat_cols]\n",
        "emb_szs = [(size, min(50, (size+1)//2)) for size in cat_szs]\n",
        "emb_szs"
      ],
      "execution_count": 22,
      "outputs": [
        {
          "output_type": "execute_result",
          "data": {
            "text/plain": [
              "[(24, 12), (2, 1), (7, 4)]"
            ]
          },
          "metadata": {
            "tags": []
          },
          "execution_count": 22
        }
      ]
    },
    {
      "cell_type": "code",
      "metadata": {
        "id": "i_4YuUvx46la",
        "colab": {
          "base_uri": "https://localhost:8080/"
        },
        "outputId": "65404539-7b28-468b-e15d-36d766722397"
      },
      "source": [
        "type(emb_szs)"
      ],
      "execution_count": 23,
      "outputs": [
        {
          "output_type": "execute_result",
          "data": {
            "text/plain": [
              "list"
            ]
          },
          "metadata": {
            "tags": []
          },
          "execution_count": 23
        }
      ]
    },
    {
      "cell_type": "code",
      "metadata": {
        "id": "xB0WRovpW2Ui",
        "colab": {
          "base_uri": "https://localhost:8080/"
        },
        "outputId": "3c02c570-35fc-48ea-a27a-003d2f139791"
      },
      "source": [
        "X_train.shape\n"
      ],
      "execution_count": 24,
      "outputs": [
        {
          "output_type": "execute_result",
          "data": {
            "text/plain": [
              "(72000, 9)"
            ]
          },
          "metadata": {
            "tags": []
          },
          "execution_count": 24
        }
      ]
    },
    {
      "cell_type": "code",
      "metadata": {
        "id": "AL4mUwLxW5Xa",
        "colab": {
          "base_uri": "https://localhost:8080/"
        },
        "outputId": "3788ef15-78a8-495a-c919-0aeefcd8b5d8"
      },
      "source": [
        "X_val.shape"
      ],
      "execution_count": 25,
      "outputs": [
        {
          "output_type": "execute_result",
          "data": {
            "text/plain": [
              "(18000, 9)"
            ]
          },
          "metadata": {
            "tags": []
          },
          "execution_count": 25
        }
      ]
    },
    {
      "cell_type": "code",
      "metadata": {
        "id": "I-N__07EXSo2",
        "colab": {
          "base_uri": "https://localhost:8080/"
        },
        "outputId": "4fd48565-95fb-41c5-d282-7cb77fd02605"
      },
      "source": [
        "y_train.shape"
      ],
      "execution_count": 26,
      "outputs": [
        {
          "output_type": "execute_result",
          "data": {
            "text/plain": [
              "(72000,)"
            ]
          },
          "metadata": {
            "tags": []
          },
          "execution_count": 26
        }
      ]
    },
    {
      "cell_type": "code",
      "metadata": {
        "id": "7Hvf57M-XVw4",
        "colab": {
          "base_uri": "https://localhost:8080/"
        },
        "outputId": "ed89804e-c484-4d12-b005-d275a60c5670"
      },
      "source": [
        "y_val.shape"
      ],
      "execution_count": 27,
      "outputs": [
        {
          "output_type": "execute_result",
          "data": {
            "text/plain": [
              "(18000,)"
            ]
          },
          "metadata": {
            "tags": []
          },
          "execution_count": 27
        }
      ]
    },
    {
      "cell_type": "markdown",
      "metadata": {
        "id": "DPSMOoA_5cRV"
      },
      "source": [
        "#Model"
      ]
    },
    {
      "cell_type": "markdown",
      "metadata": {
        "id": "PUt8V_eR56DU"
      },
      "source": [
        "##Pytorch data set datasets and dataloaders"
      ]
    },
    {
      "cell_type": "code",
      "metadata": {
        "id": "q2uUbOcllJdF"
      },
      "source": [
        "class RegressionColumnarDataset(data.Dataset):\n",
        "    def __init__(self, df, cats, y):\n",
        "        \n",
        "        \n",
        "        self.dfcats = df[cats] #type: pandas.core.frame.DataFrame\n",
        "        self.dfconts = df.drop(cats, axis=1) #type: pandas.core.frame.DataFrame\n",
        "        \n",
        "        \n",
        "        self.cats = np.stack([c.values for n, c in self.dfcats.items()], axis=1).astype(np.int64) #tpye: numpy.ndarray\n",
        "        self.conts = np.stack([c.values for n, c in self.dfconts.items()], axis=1).astype(np.float32) #tpye: numpy.ndarray\n",
        "        self.y = y.values.astype(np.float32)\n",
        "        \n",
        "        \n",
        "    def __len__(self): return len(self.y)\n",
        "\n",
        "    def __getitem__(self, idx):\n",
        "        \n",
        "        return [self.cats[idx], self.conts[idx], self.y[idx]]\n",
        "        \n",
        "        "
      ],
      "execution_count": 28,
      "outputs": []
    },
    {
      "cell_type": "code",
      "metadata": {
        "id": "kJ2KTRgolJA7"
      },
      "source": [
        "trainds = RegressionColumnarDataset(X_train, cat_cols, y_train) #type: __main__.RegressionColumnarDataset\n",
        "valds = RegressionColumnarDataset(X_val, cat_cols, y_val) #type: __main__.RegressionColumnarDataset"
      ],
      "execution_count": 29,
      "outputs": []
    },
    {
      "cell_type": "code",
      "metadata": {
        "id": "4iJaFR-24gFf"
      },
      "source": [
        "params = {'batch_size': 128,\n",
        "          'shuffle': True}\n",
        "\n",
        "\n",
        "traindl = DataLoader(trainds, **params) #type: torch.utils.data.dataloader.DataLoader\n",
        "valdl = DataLoader(valds, **params) #type: torch.utils.data.dataloader.DataLoader"
      ],
      "execution_count": 30,
      "outputs": []
    },
    {
      "cell_type": "markdown",
      "metadata": {
        "id": "HXMjyAMC-hNo"
      },
      "source": [
        "##Tabular Model"
      ]
    },
    {
      "cell_type": "code",
      "metadata": {
        "id": "dynnFczJ8UhL"
      },
      "source": [
        "# help functions\n",
        "\n",
        "from collections.abc import Iterable\n",
        "\n",
        "\n",
        "def bn_drop_lin(n_in:int, n_out:int, bn:bool=True, p:float=0., actn=None):\n",
        "    \"Sequence of batchnorm (if `bn`), dropout (with `p`) and linear (`n_in`,`n_out`) layers followed by `actn`.\"\n",
        "    layers = [nn.BatchNorm1d(n_in)] if bn else []\n",
        "    if p != 0: layers.append(nn.Dropout(p))\n",
        "    layers.append(nn.Linear(n_in, n_out))\n",
        "    if actn is not None: layers.append(actn)\n",
        "    return layers\n",
        "\n",
        "def ifnone(a,b):\n",
        "    \"`a` if `a` is not None, otherwise `b`.\"\n",
        "    return b if a is None else a\n",
        "\n",
        "def listify(p, q):\n",
        "    \"Make `p` listy and the same length as `q`.\"\n",
        "    if p is None: p=[]\n",
        "    elif isinstance(p, str):          p = [p]\n",
        "    elif not isinstance(p, Iterable): p = [p]\n",
        "    #Rank 0 tensors in PyTorch are Iterable but don't have a length.\n",
        "    else:\n",
        "        try: a = len(p)\n",
        "        except: p = [p]\n",
        "    n = q if type(q)==int else len(p) if q is None else len(q)\n",
        "    if len(p)==1: p = p * n\n",
        "    assert len(p)==n, f'List len mismatch ({len(p)} vs {n})'\n",
        "    return list(p)\n",
        "\n",
        "              \n",
        "\n",
        "class TabularModel(nn.Module):\n",
        "    \"Basic model for tabular data.\"\n",
        "    def __init__(self, emb_szs, n_cont:int, out_sz:int, layers, ps=None,\n",
        "                 emb_drop:float=0., y_range=None, use_bn:bool=True, bn_final:bool=False):\n",
        "        super().__init__()\n",
        "        ps = ifnone(ps, [0]*len(layers))\n",
        "        ps = listify(ps, layers)\n",
        "        self.embeds = nn.ModuleList([nn.Embedding(ni, nf) for ni,nf in emb_szs]) #type: torch.nn.modules.container.ModuleList\n",
        "        self.emb_drop = nn.Dropout(emb_drop) #type: torch.nn.modules.dropout.Dropout\n",
        "        self.bn_cont = nn.BatchNorm1d(n_cont) #type torch.nn.modules.batchnorm.BatchNorm1d\n",
        "        n_emb = sum(e.embedding_dim for e in self.embeds) # n_emb = 17 , type: int\n",
        "        self.n_emb,self.n_cont,self.y_range = n_emb,n_cont,y_range\n",
        "        sizes = [n_emb + n_cont] + layers + [out_sz] #typeL list, len: 4\n",
        "        actns = [nn.ReLU(inplace=True) for _ in range(len(sizes)-2)] + [None] #type: list, len: 3.  the last in None because we finish with linear\n",
        "        layers = []\n",
        "        for i,(n_in,n_out,dp,act) in enumerate(zip(sizes[:-1],sizes[1:],[0.]+ps,actns)):\n",
        "            layers += bn_drop_lin(n_in, n_out, bn=use_bn and i!=0, p=dp, actn=act)\n",
        "        if bn_final: layers.append(nn.BatchNorm1d(sizes[-1]))\n",
        "        self.layers = nn.Sequential(*layers) #type: torch.nn.modules.container.Sequential\n",
        "        \n",
        "\n",
        "\n",
        "\n",
        "    def forward(self, x_cat, x_cont):\n",
        "        if self.n_emb != 0:\n",
        "            x = [e(x_cat[:,i]) for i,e in enumerate(self.embeds)] #take the embedding list and grab an embedding and pass in our single row of data.        \n",
        "            x = torch.cat(x, 1) # concatenate it on dim 1 ## remeber that the len is the batch size\n",
        "            x = self.emb_drop(x) # pass it through a dropout layer\n",
        "        if self.n_cont != 0:\n",
        "            x_cont = self.bn_cont(x_cont) # batchnorm1d\n",
        "            x = torch.cat([x, x_cont], 1) if self.n_emb != 0 else x_cont # combine the categircal and continous variables on dim 1\n",
        "        x = self.layers(x)\n",
        "        if self.y_range is not None:\n",
        "            x = (self.y_range[1]-self.y_range[0]) * torch.sigmoid(x) + self.y_range[0] # deal with y_range\n",
        "        return x.squeeze()\n",
        "    "
      ],
      "execution_count": 31,
      "outputs": []
    },
    {
      "cell_type": "code",
      "metadata": {
        "id": "voS5fTPF-mFb",
        "colab": {
          "base_uri": "https://localhost:8080/"
        },
        "outputId": "49cbb289-94cf-4362-e142-8e5c26ebe320"
      },
      "source": [
        "torch.manual_seed(33)"
      ],
      "execution_count": 32,
      "outputs": [
        {
          "output_type": "execute_result",
          "data": {
            "text/plain": [
              "<torch._C.Generator at 0x7f32cfc699b0>"
            ]
          },
          "metadata": {
            "tags": []
          },
          "execution_count": 32
        }
      ]
    },
    {
      "cell_type": "code",
      "metadata": {
        "id": "Qdy8Vq-eRPvh",
        "colab": {
          "base_uri": "https://localhost:8080/"
        },
        "outputId": "27a8e9e3-694b-4f0e-d1ad-f833f260257d"
      },
      "source": [
        "y_range = (0, y_train.max()*1.2)\n",
        "y_range"
      ],
      "execution_count": 33,
      "outputs": [
        {
          "output_type": "execute_result",
          "data": {
            "text/plain": [
              "(0, 6.357980839857643)"
            ]
          },
          "metadata": {
            "tags": []
          },
          "execution_count": 33
        }
      ]
    },
    {
      "cell_type": "code",
      "metadata": {
        "id": "UxDTmxl6_N_8",
        "colab": {
          "base_uri": "https://localhost:8080/"
        },
        "outputId": "0e32ea4c-5a58-4abf-f931-e1214abc61ad"
      },
      "source": [
        "model = TabularModel(emb_szs = emb_szs,n_cont = len(cont_cols),out_sz = 1,layers = [1000,500,250],ps= [0.001,0.01,0.01],emb_drop=0.04, y_range=y_range).to(device)\n",
        "model"
      ],
      "execution_count": 34,
      "outputs": [
        {
          "output_type": "execute_result",
          "data": {
            "text/plain": [
              "TabularModel(\n",
              "  (embeds): ModuleList(\n",
              "    (0): Embedding(24, 12)\n",
              "    (1): Embedding(2, 1)\n",
              "    (2): Embedding(7, 4)\n",
              "  )\n",
              "  (emb_drop): Dropout(p=0.04, inplace=False)\n",
              "  (bn_cont): BatchNorm1d(6, eps=1e-05, momentum=0.1, affine=True, track_running_stats=True)\n",
              "  (layers): Sequential(\n",
              "    (0): Linear(in_features=23, out_features=1000, bias=True)\n",
              "    (1): ReLU(inplace=True)\n",
              "    (2): BatchNorm1d(1000, eps=1e-05, momentum=0.1, affine=True, track_running_stats=True)\n",
              "    (3): Dropout(p=0.001, inplace=False)\n",
              "    (4): Linear(in_features=1000, out_features=500, bias=True)\n",
              "    (5): ReLU(inplace=True)\n",
              "    (6): BatchNorm1d(500, eps=1e-05, momentum=0.1, affine=True, track_running_stats=True)\n",
              "    (7): Dropout(p=0.01, inplace=False)\n",
              "    (8): Linear(in_features=500, out_features=250, bias=True)\n",
              "    (9): ReLU(inplace=True)\n",
              "    (10): BatchNorm1d(250, eps=1e-05, momentum=0.1, affine=True, track_running_stats=True)\n",
              "    (11): Dropout(p=0.01, inplace=False)\n",
              "    (12): Linear(in_features=250, out_features=1, bias=True)\n",
              "  )\n",
              ")"
            ]
          },
          "metadata": {
            "tags": []
          },
          "execution_count": 34
        }
      ]
    },
    {
      "cell_type": "markdown",
      "metadata": {
        "id": "mCqq3sfY_mku"
      },
      "source": [
        "## optimizer"
      ]
    },
    {
      "cell_type": "code",
      "metadata": {
        "id": "sOkFdhVN4Z6_"
      },
      "source": [
        "from collections import defaultdict\n",
        "opt = torch.optim.Adam(model.parameters(), lr=1e-2) # can add: weight_decay=\n",
        "#lr_cosine = lr_scheduler.CosineAnnealingLR(opt,T_max = 350) #1000 ## if you want to add lr_cosine\n",
        "\n",
        "\n",
        "\n",
        "lr = defaultdict(list)\n",
        "tloss = defaultdict(list)\n",
        "vloss = defaultdict(list)"
      ],
      "execution_count": 35,
      "outputs": []
    },
    {
      "cell_type": "markdown",
      "metadata": {
        "id": "dgSawsRpCd40"
      },
      "source": [
        "##Train and Fit"
      ]
    },
    {
      "cell_type": "code",
      "metadata": {
        "id": "IQ4sEx4NsAjO"
      },
      "source": [
        "def inv_y(y): return np.exp(y)\n",
        "\n",
        "def rmse(targ, y_pred):\n",
        "    return np.sqrt(mean_squared_error(inv_y(y_pred), inv_y(targ))) #.detach().numpy()\n",
        "    \n",
        "\n",
        "def rmse(targ, y_pred):\n",
        "   return np.sqrt(mean_squared_error(y_pred, targ)) #.detach().numpy()\n",
        "\n",
        "\n",
        "#def fit(model, train_dl, val_dl, loss_fn, opt, scheduler, epochs=3): ## if you want to add schedular\n",
        "def fit(model, train_dl, val_dl, loss_fn, opt, epochs=3):\n",
        "    num_batch = len(train_dl)\n",
        "    for epoch in tnrange(epochs):      \n",
        "        y_true_train = list()\n",
        "        y_pred_train = list()\n",
        "        total_loss_train = 0          \n",
        "        \n",
        "        t = tqdm_notebook(iter(train_dl), leave=False, total=num_batch)\n",
        "        for cat, cont, y in t:\n",
        "            cat = cat.cuda()\n",
        "            cont = cont.cuda()\n",
        "            y = y.cuda()\n",
        "            \n",
        "            t.set_description(f'Epoch {epoch}')\n",
        "            \n",
        "            opt.zero_grad() #find where the grads are zero\n",
        "            pred = model(cat, cont)\n",
        "            loss = loss_fn(pred, y)\n",
        "            \n",
        "            loss.backward() # do backprop\n",
        "            lr[epoch].append(opt.param_groups[0]['lr'])\n",
        "            tloss[epoch].append(loss.item())\n",
        "            opt.step()\n",
        "            #scheduler.step()\n",
        "            \n",
        "            \n",
        "            t.set_postfix(loss=loss.item())\n",
        "            \n",
        "            y_true_train += list(y.cpu().data.numpy())\n",
        "            y_pred_train += list(pred.cpu().data.numpy())\n",
        "            total_loss_train += loss.item()\n",
        "            \n",
        "        train_acc = rmse(y_true_train, y_pred_train)\n",
        "        train_loss = total_loss_train/len(train_dl) # len train_dl = 704. the calc is number of train examples (89991) / batch size (128)\n",
        "        \n",
        "        if val_dl:\n",
        "            y_true_val = list()\n",
        "            y_pred_val = list()\n",
        "            total_loss_val = 0\n",
        "            for cat, cont, y in tqdm_notebook(val_dl, leave=False):\n",
        "                cat = cat.cuda()\n",
        "                cont = cont.cuda()\n",
        "                y = y.cuda()\n",
        "                pred = model(cat, cont)\n",
        "                loss = loss_fn(pred, y)\n",
        "                \n",
        "                y_true_val += list(y.cpu().data.numpy())\n",
        "                y_pred_val += list(pred.cpu().data.numpy())\n",
        "                total_loss_val += loss.item()\n",
        "                vloss[epoch].append(loss.item())\n",
        "            valacc = rmse(y_true_val, y_pred_val)\n",
        "            valloss = total_loss_val/len(valdl)\n",
        "            print(f'Epoch {epoch}: train_loss: {train_loss:.4f} train_rmse: {train_acc:.4f} | val_loss: {valloss:.4f} val_rmse: {valacc:.4f}')\n",
        "        else:\n",
        "            print(f'Epoch {epoch}: train_loss: {train_loss:.4f} train_rmse: {train_acc:.4f}')\n",
        "    \n",
        "    return lr, tloss, vloss"
      ],
      "execution_count": 36,
      "outputs": []
    },
    {
      "cell_type": "markdown",
      "metadata": {
        "id": "CUORRsg-CWKp"
      },
      "source": [
        "## Train the model"
      ]
    },
    {
      "cell_type": "code",
      "metadata": {
        "id": "wAD4aful_uFX",
        "colab": {
          "base_uri": "https://localhost:8080/",
          "height": 1000,
          "referenced_widgets": [
            "ec8285cc1d134ea79891a5f11c99c110",
            "be6ad3b6c9b34243b6305e8e0ee85148",
            "5838d7e8f7874e9a8ae838a6e03795d0",
            "c278e74e6bc24a069a6e5a6be09610cd",
            "d8c43a6ac8b94d5984bb7ddfb4eeda4e",
            "05492e33d19043eeb73782065fe23bf1",
            "755015f7955b46b6a98936929e2570eb",
            "f58dc50fd61149e5807d3c54deec375c",
            "84ce7bae4ca04cc59b86becf09f4c4aa",
            "8a028bc67252453a9ea35c2bf443552a",
            "93ea27151b4f460392dc6c731a1abedc",
            "cb843587ca5b45b491a8d9c4b254a289",
            "ff2f1d423a024ab6bdebd74eb5cda9c8",
            "60931ed8e432444e883ebe0493f8132d",
            "ef9382f02a0947b687933e3f0005b350",
            "ad33eebec6bc41508ab0a6aa71cadf9c",
            "e71693e4e6ba4ed9851bf3c5f2905a59",
            "7bdfbeae335f48b8a663dc01044a0cd6",
            "ff096a08b148408f83e35b3744bf11e8",
            "991666da5c2b459da780a00782667b0b",
            "6a54a608e8cc48a2815ca464347972af",
            "5c01cd2773534aa9a6db96752b73f208",
            "244e075fa3154816a7ab010187bdc419",
            "c9653f040394440a8027608eca6e9ccf",
            "2d1f9e3180b24d6a87b76846461fa6cb",
            "ddfaffb84e404d5dbf0e52fe9ebb8c5a",
            "2cf81fb4e03c49ecae9aa849c2ba0770",
            "658bdd05be87401cbd9769ea0b327e23",
            "6b55ba280da94e679144f7b610b126bc",
            "450925fe74c74caaa08db01ec868f71e",
            "516fa71b377b4e2abed291e56ec41f8a",
            "e97c6589c41a4dd9ac534ca1ea621454",
            "860bc24c71514b4387511700ee9316ae",
            "6d4431be1e6e4457801f5eaf343f816a",
            "2a4711056f2d43ce81be13a10fadfccc",
            "589db3a7ce4d4bf29199c0561492bd00",
            "de2144485fb644ba97f65b511eb8e8c4",
            "8ec0ec88014b4563b52eecbd62dc24b4",
            "b41384012b0a4f6a820509d5a190aaf8",
            "e549567e1bab42dbbdf08f2b44bb5c40",
            "ea1b2d6ed8ce434dafe74901dd591a91",
            "544f6329118e4e809cc2f3c84c4976bd",
            "e7816c35c1c14124a01fafdc8014d1de",
            "d62d911e79df479893a853bf06fa079b",
            "8697456d90ec4c67a44973db4e6c2d92",
            "6cbca129b49543f1994141ff59a55d4b",
            "429a02e685214ad7b4b4cb6c17b58eb9",
            "b945e15ec8c7401abd825c2a22ce6d77",
            "7cff9dab8c0640fabad6d2889f7dd18c",
            "755f720fdea34b09b390e1ee6e7a7023",
            "d9c7b7c031a8483c93dca279957543ee",
            "e740bcd640f04c2e9f9cd0b22f950959",
            "e2f2d39429ae40d0ad9527e82e19eadc",
            "abada3eb82d14399ad35d2af40f509d3",
            "8510009b08af42ec95e0aab6a9869727",
            "0212597d62a140c1ae520cfea24b23a2",
            "ab4d089110b342fba5b172dadabf0140",
            "828444ebf58345a784cf6c0240a3687c",
            "9d17c9735cde4ee3b25fe6ce144d81a7",
            "0c9e3e8623c34275b7faa0df9ec65c67",
            "58b24c015d254483a0c300582403d933",
            "41a6f07c89be4995b3e3e87fe6a71020",
            "d52a07098c6c44c7af14d004c3e973c3",
            "d18a576076b14baeba159b813fabf1a5",
            "2f0c7551880843b082bc04407968809f",
            "76265f0b3c73426bb2ff781d04300e26",
            "66318edda8664b819cf3aeaaf9f03e01",
            "f46ae3e4d00c40c8b331140a09314b17",
            "f2b79be5156a47e5bb060e69f7a3618f",
            "24cfb4a4ce304447a3e45f5856d56339",
            "7da1de97cf294981adc1c5e033a48f97",
            "0c0860c0dcb64adf85e52ee6a89e65be",
            "229c7bc0cae743bf8155adb820ee264d",
            "1126dc1ecbdb4dcf8b8aef6a915968c9",
            "ca24a5809b82485a8cf7391f381627ac",
            "eb605dc475a9425c94bc85cf00dd3d08",
            "e16993baa7dc42a19f25b1e919bd7284",
            "11a5a92d91c346c299e9da653274b56b",
            "fc3ed7134a434f6fb121c96dfb7355da",
            "460a9273eedf42328751a4b6ffaa34f6",
            "1ecc44e29bc04c1d986ebd6b216f93eb",
            "807db68326c649f2bd557ac10b255929",
            "97022a224818478fa4ffd19d99676f5b",
            "e6c71677bb7f41c3a3d78dd6da2e13c3",
            "331ee6bc8c4347fcbce62a8a87b83145",
            "e464336c20914596a010978eac645ef4",
            "6bcc5061c32c4d98945129492e024983",
            "90f2cc044eda42a186802f048bd4c8b6",
            "09fee664d9ba40eb92519bc635c59a9b",
            "28f5a566c9ca4d9ab4eabc4d42944a00",
            "c7712532868e44e6afd9473593b1df5b",
            "e6e665693bf444d6930b0ae3a46559d5",
            "aef70e6e01bb491c97355ae9aef2f018",
            "d2fa847311ea44fb95ab3516afccc31b",
            "09797dc11aeb496297dfa1406cce37bb",
            "36f2ca9c4eab49b2aec92ab6758053aa",
            "2b878e57b6954abfaaabc76b07922533",
            "d01f82046b5b4b2a871757577d439e48",
            "7ee21f8dbcf94e719a9ad361a2ea2c4a",
            "aa424fc8073d4b55bb31ebf49f46db19",
            "d44209be63104197ba6a39bad6fb9392",
            "cda31342ad7d4f0ca519b5eabf26d52d",
            "8fb837f412b64c4ba2fa31fd59c8d1a3",
            "6334b94d02ab4a71b5029c89d6fa92d2",
            "9be1e577b1ea466295ec254db26fbb31",
            "66c9530facb245af85409962bb410614",
            "e4c5e09ae8e44e2f8311d9431d06cc89",
            "359ae518283c48e7a7121537353060ee",
            "47e2fb6bc9504861bc20569e5ac5785c",
            "fcade7fde4de4a18aff7a5636c78ed4c",
            "34c0882c1a49478ba78d84133ef7b7a9",
            "27b0b1e4822548369733a278048606c7",
            "2ca15435006944b792adf856e43488b3",
            "127620ec7a2345039d7bcac2cf0a083f",
            "9624860326ff487fbd744fe61fb57223",
            "cb161a2900b343eaaf744c064cf96e68",
            "c40ea96d9a7c4df4beddf08a73755f97",
            "8a21d416fe694b4e80f894750da4dc9e",
            "842575f664a249729e30123605469ffc",
            "20fee0261ce947549840e3749530e2b6",
            "4eef1a6e5e5744e690650eb6e37c8450",
            "9558186c97a34e4bb5e44354315e7e5c",
            "9b3a5199cc9647abb3c639d783ed78ab",
            "8f34c05b4a314527a67373c0e00b6465",
            "21ceab50a5934f4fbd4d5d14363ea192",
            "d9797dafe85549db8dc55cf6a7b5b76b",
            "627ae817fc3d4848a69a0aee961c22d1",
            "2b5b4a2c85874059a6e97e2af808c6e1",
            "64054f2f223a4fbeb738343060d68164",
            "5314cb27525e41429afebf038a14d4a0",
            "fbd2ee3c90454ea69f04f1d8dd434dd4",
            "a4b68365d0644c139b1254c8072e396d",
            "e2b29a50ec7c413ebec4bf64e253bbe5",
            "40945bc9da764be1b33c4bc02258ed70",
            "cfa84db0c62b4c8d9e04ab768fc0bc31",
            "55dafc1826c8477b841dd1c82dd296dc",
            "f370af1b262f43508c7784f424a7b3c3",
            "4f5d47e361c14599866ebbc46e5799da",
            "54bb4aa7275142249d1820c8eaaf15bb",
            "d633fa9c743f4f5caab0212a7ce2e947",
            "9eabd2d179e84c45954c6082fd89ae0b",
            "cb66b61c004a4045b203abba0908731c",
            "003ab224388b45af8da31e96bcc77d32",
            "1d09b1dae96346b587e715555e405f91",
            "e59c6d5ae2bf40b5b7cfbacf09e3e372",
            "88618b2423a04949ab0a0ec9c2f4e258",
            "f309e83037a443bfa413083c1a0a227f",
            "fdd22457e00343d484c15f06c0e69423",
            "f0046d3d3bb94c6a98f8457ee48467f8",
            "ac282c88690f4866b4bb7723651e4a0f",
            "fb1957a8a6044b1790403f9e29cd8c5f",
            "f4092721e81a470f8b456802c968bfc3",
            "d55b429870894dc6a0cf7f1cca0e4df9",
            "1d3663b8505e4133bc2ff9ec41fa2e52",
            "d2e0b7ba87b34d03941b72aca00b68f7",
            "00d059f8eef7458bb98bd645f17aaf6b",
            "396600e9bdb744899d0569967e7490b8",
            "7f2fc6c423ff45798c5f6694ac30f6e4",
            "b016ea6fb6af4d1d8725d43478034696",
            "d946fbcda0bb45c9b0f8c0fa0b59230f",
            "2b14be5ca2da4e07b9fb79199248d0af",
            "f7f1a0a57bb24b6f81f6ccafcf144e96",
            "7be91d690ed44362885e46c0f401526a",
            "d786d8b7f4504fb0a417600b0e2a0c70",
            "da7905b9f8cc496cb79af96c3a9044a8",
            "aaa07c7f29c64ad59c72a4a9c3837d0d",
            "4ccb3f7c4ff24383874d3e2a53930736",
            "b20b0f3d80a24d10a2eb7acc3d160b9a"
          ]
        },
        "outputId": "6b2980bd-9248-4af6-a686-4c87f2b4157e"
      },
      "source": [
        "\n",
        "lr, tloss, vloss = fit(model=model, train_dl=traindl, val_dl=valdl, loss_fn=nn.MSELoss(), opt=opt,  epochs=10)"
      ],
      "execution_count": 37,
      "outputs": [
        {
          "output_type": "stream",
          "text": [
            "/usr/local/lib/python3.7/dist-packages/ipykernel_launcher.py:14: TqdmDeprecationWarning:\n",
            "\n",
            "Please use `tqdm.notebook.trange` instead of `tqdm.tnrange`\n",
            "\n"
          ],
          "name": "stderr"
        },
        {
          "output_type": "display_data",
          "data": {
            "application/vnd.jupyter.widget-view+json": {
              "model_id": "ec8285cc1d134ea79891a5f11c99c110",
              "version_minor": 0,
              "version_major": 2
            },
            "text/plain": [
              "HBox(children=(FloatProgress(value=0.0, max=10.0), HTML(value='')))"
            ]
          },
          "metadata": {
            "tags": []
          }
        },
        {
          "output_type": "stream",
          "text": [
            "/usr/local/lib/python3.7/dist-packages/ipykernel_launcher.py:19: TqdmDeprecationWarning:\n",
            "\n",
            "This function will be removed in tqdm==5.0.0\n",
            "Please use `tqdm.notebook.tqdm` instead of `tqdm.tqdm_notebook`\n",
            "\n"
          ],
          "name": "stderr"
        },
        {
          "output_type": "display_data",
          "data": {
            "application/vnd.jupyter.widget-view+json": {
              "model_id": "84ce7bae4ca04cc59b86becf09f4c4aa",
              "version_minor": 0,
              "version_major": 2
            },
            "text/plain": [
              "HBox(children=(FloatProgress(value=0.0, max=563.0), HTML(value='')))"
            ]
          },
          "metadata": {
            "tags": []
          }
        },
        {
          "output_type": "stream",
          "text": [
            "/usr/local/lib/python3.7/dist-packages/ipykernel_launcher.py:51: TqdmDeprecationWarning:\n",
            "\n",
            "This function will be removed in tqdm==5.0.0\n",
            "Please use `tqdm.notebook.tqdm` instead of `tqdm.tqdm_notebook`\n",
            "\n"
          ],
          "name": "stderr"
        },
        {
          "output_type": "display_data",
          "data": {
            "application/vnd.jupyter.widget-view+json": {
              "model_id": "e71693e4e6ba4ed9851bf3c5f2905a59",
              "version_minor": 0,
              "version_major": 2
            },
            "text/plain": [
              "HBox(children=(FloatProgress(value=0.0, max=141.0), HTML(value='')))"
            ]
          },
          "metadata": {
            "tags": []
          }
        },
        {
          "output_type": "stream",
          "text": [
            "Epoch 0: train_loss: 0.2802 train_rmse: 0.5295 | val_loss: 0.1786 val_rmse: 0.4225\n"
          ],
          "name": "stdout"
        },
        {
          "output_type": "stream",
          "text": [
            "/usr/local/lib/python3.7/dist-packages/ipykernel_launcher.py:19: TqdmDeprecationWarning:\n",
            "\n",
            "This function will be removed in tqdm==5.0.0\n",
            "Please use `tqdm.notebook.tqdm` instead of `tqdm.tqdm_notebook`\n",
            "\n"
          ],
          "name": "stderr"
        },
        {
          "output_type": "display_data",
          "data": {
            "application/vnd.jupyter.widget-view+json": {
              "model_id": "2d1f9e3180b24d6a87b76846461fa6cb",
              "version_minor": 0,
              "version_major": 2
            },
            "text/plain": [
              "HBox(children=(FloatProgress(value=0.0, max=563.0), HTML(value='')))"
            ]
          },
          "metadata": {
            "tags": []
          }
        },
        {
          "output_type": "stream",
          "text": [
            "/usr/local/lib/python3.7/dist-packages/ipykernel_launcher.py:51: TqdmDeprecationWarning:\n",
            "\n",
            "This function will be removed in tqdm==5.0.0\n",
            "Please use `tqdm.notebook.tqdm` instead of `tqdm.tqdm_notebook`\n",
            "\n"
          ],
          "name": "stderr"
        },
        {
          "output_type": "display_data",
          "data": {
            "application/vnd.jupyter.widget-view+json": {
              "model_id": "860bc24c71514b4387511700ee9316ae",
              "version_minor": 0,
              "version_major": 2
            },
            "text/plain": [
              "HBox(children=(FloatProgress(value=0.0, max=141.0), HTML(value='')))"
            ]
          },
          "metadata": {
            "tags": []
          }
        },
        {
          "output_type": "stream",
          "text": [
            "Epoch 1: train_loss: 0.1730 train_rmse: 0.4160 | val_loss: 0.1631 val_rmse: 0.4041\n"
          ],
          "name": "stdout"
        },
        {
          "output_type": "stream",
          "text": [
            "/usr/local/lib/python3.7/dist-packages/ipykernel_launcher.py:19: TqdmDeprecationWarning:\n",
            "\n",
            "This function will be removed in tqdm==5.0.0\n",
            "Please use `tqdm.notebook.tqdm` instead of `tqdm.tqdm_notebook`\n",
            "\n"
          ],
          "name": "stderr"
        },
        {
          "output_type": "display_data",
          "data": {
            "application/vnd.jupyter.widget-view+json": {
              "model_id": "ea1b2d6ed8ce434dafe74901dd591a91",
              "version_minor": 0,
              "version_major": 2
            },
            "text/plain": [
              "HBox(children=(FloatProgress(value=0.0, max=563.0), HTML(value='')))"
            ]
          },
          "metadata": {
            "tags": []
          }
        },
        {
          "output_type": "stream",
          "text": [
            "/usr/local/lib/python3.7/dist-packages/ipykernel_launcher.py:51: TqdmDeprecationWarning:\n",
            "\n",
            "This function will be removed in tqdm==5.0.0\n",
            "Please use `tqdm.notebook.tqdm` instead of `tqdm.tqdm_notebook`\n",
            "\n"
          ],
          "name": "stderr"
        },
        {
          "output_type": "display_data",
          "data": {
            "application/vnd.jupyter.widget-view+json": {
              "model_id": "7cff9dab8c0640fabad6d2889f7dd18c",
              "version_minor": 0,
              "version_major": 2
            },
            "text/plain": [
              "HBox(children=(FloatProgress(value=0.0, max=141.0), HTML(value='')))"
            ]
          },
          "metadata": {
            "tags": []
          }
        },
        {
          "output_type": "stream",
          "text": [
            "Epoch 2: train_loss: 0.1532 train_rmse: 0.3914 | val_loss: 0.1325 val_rmse: 0.3642\n"
          ],
          "name": "stdout"
        },
        {
          "output_type": "stream",
          "text": [
            "/usr/local/lib/python3.7/dist-packages/ipykernel_launcher.py:19: TqdmDeprecationWarning:\n",
            "\n",
            "This function will be removed in tqdm==5.0.0\n",
            "Please use `tqdm.notebook.tqdm` instead of `tqdm.tqdm_notebook`\n",
            "\n"
          ],
          "name": "stderr"
        },
        {
          "output_type": "display_data",
          "data": {
            "application/vnd.jupyter.widget-view+json": {
              "model_id": "ab4d089110b342fba5b172dadabf0140",
              "version_minor": 0,
              "version_major": 2
            },
            "text/plain": [
              "HBox(children=(FloatProgress(value=0.0, max=563.0), HTML(value='')))"
            ]
          },
          "metadata": {
            "tags": []
          }
        },
        {
          "output_type": "stream",
          "text": [
            "/usr/local/lib/python3.7/dist-packages/ipykernel_launcher.py:51: TqdmDeprecationWarning:\n",
            "\n",
            "This function will be removed in tqdm==5.0.0\n",
            "Please use `tqdm.notebook.tqdm` instead of `tqdm.tqdm_notebook`\n",
            "\n"
          ],
          "name": "stderr"
        },
        {
          "output_type": "display_data",
          "data": {
            "application/vnd.jupyter.widget-view+json": {
              "model_id": "2f0c7551880843b082bc04407968809f",
              "version_minor": 0,
              "version_major": 2
            },
            "text/plain": [
              "HBox(children=(FloatProgress(value=0.0, max=141.0), HTML(value='')))"
            ]
          },
          "metadata": {
            "tags": []
          }
        },
        {
          "output_type": "stream",
          "text": [
            "Epoch 3: train_loss: 0.1225 train_rmse: 0.3500 | val_loss: 0.1081 val_rmse: 0.3286\n"
          ],
          "name": "stdout"
        },
        {
          "output_type": "stream",
          "text": [
            "/usr/local/lib/python3.7/dist-packages/ipykernel_launcher.py:19: TqdmDeprecationWarning:\n",
            "\n",
            "This function will be removed in tqdm==5.0.0\n",
            "Please use `tqdm.notebook.tqdm` instead of `tqdm.tqdm_notebook`\n",
            "\n"
          ],
          "name": "stderr"
        },
        {
          "output_type": "display_data",
          "data": {
            "application/vnd.jupyter.widget-view+json": {
              "model_id": "229c7bc0cae743bf8155adb820ee264d",
              "version_minor": 0,
              "version_major": 2
            },
            "text/plain": [
              "HBox(children=(FloatProgress(value=0.0, max=563.0), HTML(value='')))"
            ]
          },
          "metadata": {
            "tags": []
          }
        },
        {
          "output_type": "stream",
          "text": [
            "/usr/local/lib/python3.7/dist-packages/ipykernel_launcher.py:51: TqdmDeprecationWarning:\n",
            "\n",
            "This function will be removed in tqdm==5.0.0\n",
            "Please use `tqdm.notebook.tqdm` instead of `tqdm.tqdm_notebook`\n",
            "\n"
          ],
          "name": "stderr"
        },
        {
          "output_type": "display_data",
          "data": {
            "application/vnd.jupyter.widget-view+json": {
              "model_id": "1ecc44e29bc04c1d986ebd6b216f93eb",
              "version_minor": 0,
              "version_major": 2
            },
            "text/plain": [
              "HBox(children=(FloatProgress(value=0.0, max=141.0), HTML(value='')))"
            ]
          },
          "metadata": {
            "tags": []
          }
        },
        {
          "output_type": "stream",
          "text": [
            "Epoch 4: train_loss: 0.1096 train_rmse: 0.3311 | val_loss: 0.1074 val_rmse: 0.3276\n"
          ],
          "name": "stdout"
        },
        {
          "output_type": "stream",
          "text": [
            "/usr/local/lib/python3.7/dist-packages/ipykernel_launcher.py:19: TqdmDeprecationWarning:\n",
            "\n",
            "This function will be removed in tqdm==5.0.0\n",
            "Please use `tqdm.notebook.tqdm` instead of `tqdm.tqdm_notebook`\n",
            "\n"
          ],
          "name": "stderr"
        },
        {
          "output_type": "display_data",
          "data": {
            "application/vnd.jupyter.widget-view+json": {
              "model_id": "09fee664d9ba40eb92519bc635c59a9b",
              "version_minor": 0,
              "version_major": 2
            },
            "text/plain": [
              "HBox(children=(FloatProgress(value=0.0, max=563.0), HTML(value='')))"
            ]
          },
          "metadata": {
            "tags": []
          }
        },
        {
          "output_type": "stream",
          "text": [
            "/usr/local/lib/python3.7/dist-packages/ipykernel_launcher.py:51: TqdmDeprecationWarning:\n",
            "\n",
            "This function will be removed in tqdm==5.0.0\n",
            "Please use `tqdm.notebook.tqdm` instead of `tqdm.tqdm_notebook`\n",
            "\n"
          ],
          "name": "stderr"
        },
        {
          "output_type": "display_data",
          "data": {
            "application/vnd.jupyter.widget-view+json": {
              "model_id": "2b878e57b6954abfaaabc76b07922533",
              "version_minor": 0,
              "version_major": 2
            },
            "text/plain": [
              "HBox(children=(FloatProgress(value=0.0, max=141.0), HTML(value='')))"
            ]
          },
          "metadata": {
            "tags": []
          }
        },
        {
          "output_type": "stream",
          "text": [
            "Epoch 5: train_loss: 0.1079 train_rmse: 0.3285 | val_loss: 0.1058 val_rmse: 0.3253\n"
          ],
          "name": "stdout"
        },
        {
          "output_type": "stream",
          "text": [
            "/usr/local/lib/python3.7/dist-packages/ipykernel_launcher.py:19: TqdmDeprecationWarning:\n",
            "\n",
            "This function will be removed in tqdm==5.0.0\n",
            "Please use `tqdm.notebook.tqdm` instead of `tqdm.tqdm_notebook`\n",
            "\n"
          ],
          "name": "stderr"
        },
        {
          "output_type": "display_data",
          "data": {
            "application/vnd.jupyter.widget-view+json": {
              "model_id": "9be1e577b1ea466295ec254db26fbb31",
              "version_minor": 0,
              "version_major": 2
            },
            "text/plain": [
              "HBox(children=(FloatProgress(value=0.0, max=563.0), HTML(value='')))"
            ]
          },
          "metadata": {
            "tags": []
          }
        },
        {
          "output_type": "stream",
          "text": [
            "/usr/local/lib/python3.7/dist-packages/ipykernel_launcher.py:51: TqdmDeprecationWarning:\n",
            "\n",
            "This function will be removed in tqdm==5.0.0\n",
            "Please use `tqdm.notebook.tqdm` instead of `tqdm.tqdm_notebook`\n",
            "\n"
          ],
          "name": "stderr"
        },
        {
          "output_type": "display_data",
          "data": {
            "application/vnd.jupyter.widget-view+json": {
              "model_id": "2ca15435006944b792adf856e43488b3",
              "version_minor": 0,
              "version_major": 2
            },
            "text/plain": [
              "HBox(children=(FloatProgress(value=0.0, max=141.0), HTML(value='')))"
            ]
          },
          "metadata": {
            "tags": []
          }
        },
        {
          "output_type": "stream",
          "text": [
            "Epoch 6: train_loss: 0.1062 train_rmse: 0.3260 | val_loss: 0.1019 val_rmse: 0.3194\n"
          ],
          "name": "stdout"
        },
        {
          "output_type": "stream",
          "text": [
            "/usr/local/lib/python3.7/dist-packages/ipykernel_launcher.py:19: TqdmDeprecationWarning:\n",
            "\n",
            "This function will be removed in tqdm==5.0.0\n",
            "Please use `tqdm.notebook.tqdm` instead of `tqdm.tqdm_notebook`\n",
            "\n"
          ],
          "name": "stderr"
        },
        {
          "output_type": "display_data",
          "data": {
            "application/vnd.jupyter.widget-view+json": {
              "model_id": "4eef1a6e5e5744e690650eb6e37c8450",
              "version_minor": 0,
              "version_major": 2
            },
            "text/plain": [
              "HBox(children=(FloatProgress(value=0.0, max=563.0), HTML(value='')))"
            ]
          },
          "metadata": {
            "tags": []
          }
        },
        {
          "output_type": "stream",
          "text": [
            "/usr/local/lib/python3.7/dist-packages/ipykernel_launcher.py:51: TqdmDeprecationWarning:\n",
            "\n",
            "This function will be removed in tqdm==5.0.0\n",
            "Please use `tqdm.notebook.tqdm` instead of `tqdm.tqdm_notebook`\n",
            "\n"
          ],
          "name": "stderr"
        },
        {
          "output_type": "display_data",
          "data": {
            "application/vnd.jupyter.widget-view+json": {
              "model_id": "64054f2f223a4fbeb738343060d68164",
              "version_minor": 0,
              "version_major": 2
            },
            "text/plain": [
              "HBox(children=(FloatProgress(value=0.0, max=141.0), HTML(value='')))"
            ]
          },
          "metadata": {
            "tags": []
          }
        },
        {
          "output_type": "stream",
          "text": [
            "Epoch 7: train_loss: 0.1068 train_rmse: 0.3268 | val_loss: 0.1061 val_rmse: 0.3259\n"
          ],
          "name": "stdout"
        },
        {
          "output_type": "stream",
          "text": [
            "/usr/local/lib/python3.7/dist-packages/ipykernel_launcher.py:19: TqdmDeprecationWarning:\n",
            "\n",
            "This function will be removed in tqdm==5.0.0\n",
            "Please use `tqdm.notebook.tqdm` instead of `tqdm.tqdm_notebook`\n",
            "\n"
          ],
          "name": "stderr"
        },
        {
          "output_type": "display_data",
          "data": {
            "application/vnd.jupyter.widget-view+json": {
              "model_id": "f370af1b262f43508c7784f424a7b3c3",
              "version_minor": 0,
              "version_major": 2
            },
            "text/plain": [
              "HBox(children=(FloatProgress(value=0.0, max=563.0), HTML(value='')))"
            ]
          },
          "metadata": {
            "tags": []
          }
        },
        {
          "output_type": "stream",
          "text": [
            "/usr/local/lib/python3.7/dist-packages/ipykernel_launcher.py:51: TqdmDeprecationWarning:\n",
            "\n",
            "This function will be removed in tqdm==5.0.0\n",
            "Please use `tqdm.notebook.tqdm` instead of `tqdm.tqdm_notebook`\n",
            "\n"
          ],
          "name": "stderr"
        },
        {
          "output_type": "display_data",
          "data": {
            "application/vnd.jupyter.widget-view+json": {
              "model_id": "e59c6d5ae2bf40b5b7cfbacf09e3e372",
              "version_minor": 0,
              "version_major": 2
            },
            "text/plain": [
              "HBox(children=(FloatProgress(value=0.0, max=141.0), HTML(value='')))"
            ]
          },
          "metadata": {
            "tags": []
          }
        },
        {
          "output_type": "stream",
          "text": [
            "Epoch 8: train_loss: 0.1062 train_rmse: 0.3258 | val_loss: 0.1019 val_rmse: 0.3194\n"
          ],
          "name": "stdout"
        },
        {
          "output_type": "stream",
          "text": [
            "/usr/local/lib/python3.7/dist-packages/ipykernel_launcher.py:19: TqdmDeprecationWarning:\n",
            "\n",
            "This function will be removed in tqdm==5.0.0\n",
            "Please use `tqdm.notebook.tqdm` instead of `tqdm.tqdm_notebook`\n",
            "\n"
          ],
          "name": "stderr"
        },
        {
          "output_type": "display_data",
          "data": {
            "application/vnd.jupyter.widget-view+json": {
              "model_id": "d55b429870894dc6a0cf7f1cca0e4df9",
              "version_minor": 0,
              "version_major": 2
            },
            "text/plain": [
              "HBox(children=(FloatProgress(value=0.0, max=563.0), HTML(value='')))"
            ]
          },
          "metadata": {
            "tags": []
          }
        },
        {
          "output_type": "stream",
          "text": [
            "/usr/local/lib/python3.7/dist-packages/ipykernel_launcher.py:51: TqdmDeprecationWarning:\n",
            "\n",
            "This function will be removed in tqdm==5.0.0\n",
            "Please use `tqdm.notebook.tqdm` instead of `tqdm.tqdm_notebook`\n",
            "\n"
          ],
          "name": "stderr"
        },
        {
          "output_type": "display_data",
          "data": {
            "application/vnd.jupyter.widget-view+json": {
              "model_id": "2b14be5ca2da4e07b9fb79199248d0af",
              "version_minor": 0,
              "version_major": 2
            },
            "text/plain": [
              "HBox(children=(FloatProgress(value=0.0, max=141.0), HTML(value='')))"
            ]
          },
          "metadata": {
            "tags": []
          }
        },
        {
          "output_type": "stream",
          "text": [
            "Epoch 9: train_loss: 0.1054 train_rmse: 0.3247 | val_loss: 0.1030 val_rmse: 0.3209\n",
            "\n"
          ],
          "name": "stdout"
        }
      ]
    },
    {
      "cell_type": "markdown",
      "metadata": {
        "id": "dg-YyTMzChI7"
      },
      "source": [
        "## Plots"
      ]
    },
    {
      "cell_type": "code",
      "metadata": {
        "id": "SyqjNOfiIFGB",
        "colab": {
          "base_uri": "https://localhost:8080/",
          "height": 281
        },
        "outputId": "ec349145-3ff5-4d84-c977-209e8a1e2d5f"
      },
      "source": [
        "#Plot the Learning rate\n",
        "_ = plt.plot(lr[0])\n",
        "_ = plt.title('LR over Epoch (Epoch 0)')"
      ],
      "execution_count": 38,
      "outputs": [
        {
          "output_type": "display_data",
          "data": {
            "image/png": "[encoded data removed]",
            "text/plain": [
              "<Figure size 432x288 with 1 Axes>"
            ]
          },
          "metadata": {
            "tags": [],
            "needs_background": "light"
          }
        }
      ]
    },
    {
      "cell_type": "code",
      "metadata": {
        "id": "Y35tlzFRrCPZ"
      },
      "source": [
        ""
      ],
      "execution_count": 38,
      "outputs": []
    },
    {
      "cell_type": "code",
      "metadata": {
        "id": "4q-a7-Ylp6JN",
        "colab": {
          "base_uri": "https://localhost:8080/",
          "height": 312
        },
        "outputId": "0cd692d2-0b86-40bd-a5cf-15caaab583f6"
      },
      "source": [
        "#inspired from: https://nbviewer.jupyter.org/github/FraPochetti/KagglePlaygrounds/blob/master/NYC%20Taxi%20Fares%20Prediction.ipynb \n",
        "# Train VS Validaton Loss\n",
        "\n",
        "t = [np.mean(tloss[el]) for el in tloss]\n",
        "v = [np.mean(vloss[el]) for el in vloss]\n",
        "\n",
        "plt.plot(t, label='Training loss')\n",
        "plt.plot(v, label='Validation loss')\n",
        "plt.title(\"Train VS Validation Loss over Epochs\")\n",
        "plt.xlabel(\"Epochs\")\n",
        "plt.legend(frameon=False)"
      ],
      "execution_count": 39,
      "outputs": [
        {
          "output_type": "execute_result",
          "data": {
            "text/plain": [
              "<matplotlib.legend.Legend at 0x7f32b1b47450>"
            ]
          },
          "metadata": {
            "tags": []
          },
          "execution_count": 39
        },
        {
          "output_type": "display_data",
          "data": {
            "image/png": "[encoded data removed]",
            "text/plain": [
              "<Figure size 432x288 with 1 Axes>"
            ]
          },
          "metadata": {
            "tags": [],
            "needs_background": "light"
          }
        }
      ]
    },
    {
      "cell_type": "markdown",
      "metadata": {
        "id": "e0lSOupcxzIZ"
      },
      "source": [
        "# Test "
      ]
    },
    {
      "cell_type": "code",
      "metadata": {
        "id": "_xsc3FhFbsGz",
        "colab": {
          "base_uri": "https://localhost:8080/"
        },
        "outputId": "f5cb3a83-d1ba-4488-b6ac-0ad36eb2802c"
      },
      "source": [
        "df_test.info()"
      ],
      "execution_count": 40,
      "outputs": [
        {
          "output_type": "stream",
          "text": [
            "<class 'pandas.core.frame.DataFrame'>\n",
            "Int64Index: 9987 entries, 90011 to 99998\n",
            "Data columns (total 10 columns):\n",
            " #   Column             Non-Null Count  Dtype   \n",
            "---  ------             --------------  -----   \n",
            " 0   Hour               9987 non-null   category\n",
            " 1   AMorPM             9987 non-null   category\n",
            " 2   Weekday            9987 non-null   category\n",
            " 3   pickup_latitude    9987 non-null   float64 \n",
            " 4   pickup_longitude   9987 non-null   float64 \n",
            " 5   dropoff_latitude   9987 non-null   float64 \n",
            " 6   dropoff_longitude  9987 non-null   float64 \n",
            " 7   passenger_count    9987 non-null   float64 \n",
            " 8   dist_km            9987 non-null   float64 \n",
            " 9   fare_amount        9987 non-null   float64 \n",
            "dtypes: category(3), float64(7)\n",
            "memory usage: 654.7 KB\n"
          ],
          "name": "stdout"
        }
      ]
    },
    {
      "cell_type": "code",
      "metadata": {
        "id": "3nrV9kSilNCS"
      },
      "source": [
        "# divide to cats and conts columns + make them a tensor + to.cuda()\n",
        "\n",
        "df_test_cats = df_test[['Hour', 'AMorPM', 'Weekday']]\n",
        "test_cats = df_test_cats.astype(np.int64)\n",
        "test_cats = torch.tensor(test_cats.values).cuda()\n",
        "\n",
        "df_test_conts = df_test[['pickup_latitude', 'pickup_longitude', 'dropoff_latitude', 'dropoff_longitude', 'passenger_count', 'dist_km']]\n",
        "test_conts = df_test_conts.astype(np.float32)\n",
        "test_conts = torch.tensor(test_conts.values).cuda()"
      ],
      "execution_count": 41,
      "outputs": []
    },
    {
      "cell_type": "code",
      "metadata": {
        "id": "jgYTtfyVxUFJ"
      },
      "source": [
        "# make prediction\n",
        "\n",
        "with torch.no_grad():\n",
        "    model.eval()\n",
        "    output = model.forward(test_cats,test_conts).cuda()"
      ],
      "execution_count": 42,
      "outputs": []
    },
    {
      "cell_type": "code",
      "metadata": {
        "id": "E8Rl4zVZ93ag",
        "colab": {
          "base_uri": "https://localhost:8080/"
        },
        "outputId": "ec67fe57-e898-4b83-8bab-3503b5a75619"
      },
      "source": [
        "output"
      ],
      "execution_count": 43,
      "outputs": [
        {
          "output_type": "execute_result",
          "data": {
            "text/plain": [
              "tensor([2.4309, 2.4513, 2.4843,  ..., 2.4976, 2.4554, 2.4361], device='cuda:0')"
            ]
          },
          "metadata": {
            "tags": []
          },
          "execution_count": 43
        }
      ]
    },
    {
      "cell_type": "code",
      "metadata": {
        "id": "nw6AZdZXAfv7",
        "colab": {
          "base_uri": "https://localhost:8080/"
        },
        "outputId": "f669a468-06b6-4942-968b-ba12495a607d"
      },
      "source": [
        "len(output)"
      ],
      "execution_count": 44,
      "outputs": [
        {
          "output_type": "execute_result",
          "data": {
            "text/plain": [
              "9987"
            ]
          },
          "metadata": {
            "tags": []
          },
          "execution_count": 44
        }
      ]
    },
    {
      "cell_type": "code",
      "metadata": {
        "id": "AFJ9Ny5nAjWA",
        "colab": {
          "base_uri": "https://localhost:8080/"
        },
        "outputId": "6ebe612d-d094-4b89-b5d0-006f20981951"
      },
      "source": [
        "type(output)"
      ],
      "execution_count": 45,
      "outputs": [
        {
          "output_type": "execute_result",
          "data": {
            "text/plain": [
              "torch.Tensor"
            ]
          },
          "metadata": {
            "tags": []
          },
          "execution_count": 45
        }
      ]
    },
    {
      "cell_type": "code",
      "metadata": {
        "id": "iLEtdrOoDIBA"
      },
      "source": [
        "# convert to numpy array\n",
        "np_output = output.cpu().numpy()"
      ],
      "execution_count": 46,
      "outputs": []
    },
    {
      "cell_type": "code",
      "metadata": {
        "id": "s4HOvUYIE7jx",
        "colab": {
          "base_uri": "https://localhost:8080/"
        },
        "outputId": "7ee977e2-b7f8-402a-eed2-723d9ea46fa4"
      },
      "source": [
        "type(np_output)"
      ],
      "execution_count": 47,
      "outputs": [
        {
          "output_type": "execute_result",
          "data": {
            "text/plain": [
              "numpy.ndarray"
            ]
          },
          "metadata": {
            "tags": []
          },
          "execution_count": 47
        }
      ]
    },
    {
      "cell_type": "code",
      "metadata": {
        "id": "CKp9G4XTDZNI",
        "colab": {
          "base_uri": "https://localhost:8080/"
        },
        "outputId": "d16d1f65-ab40-480a-ad6f-8bc2bc7d3e05"
      },
      "source": [
        "np_output"
      ],
      "execution_count": 48,
      "outputs": [
        {
          "output_type": "execute_result",
          "data": {
            "text/plain": [
              "array([2.4308825, 2.4513242, 2.4842722, ..., 2.4976108, 2.4554393,\n",
              "       2.4361274], dtype=float32)"
            ]
          },
          "metadata": {
            "tags": []
          },
          "execution_count": 48
        }
      ]
    },
    {
      "cell_type": "code",
      "metadata": {
        "id": "EHo-Vq3AE5zE"
      },
      "source": [
        "#  exp to the output data\n",
        "\n",
        "np_output_exp = np.exp(np_output)"
      ],
      "execution_count": 49,
      "outputs": []
    },
    {
      "cell_type": "code",
      "metadata": {
        "id": "hCeCxOKpFayL",
        "colab": {
          "base_uri": "https://localhost:8080/"
        },
        "outputId": "6fd15b5c-f5f3-4ed1-c538-7c7d2e359280"
      },
      "source": [
        "np_output_exp"
      ],
      "execution_count": 50,
      "outputs": [
        {
          "output_type": "execute_result",
          "data": {
            "text/plain": [
              "array([11.368909, 11.603703, 11.992389, ..., 12.153422, 11.651551,\n",
              "       11.428696], dtype=float32)"
            ]
          },
          "metadata": {
            "tags": []
          },
          "execution_count": 50
        }
      ]
    },
    {
      "cell_type": "code",
      "metadata": {
        "id": "wC-v0WfmCwEw"
      },
      "source": [
        "# CONVERT to pandas data frame \n",
        "\n",
        "df_output =  pd.DataFrame(np_output_exp)"
      ],
      "execution_count": 51,
      "outputs": []
    },
    {
      "cell_type": "code",
      "metadata": {
        "id": "EWeienWcC2t1",
        "colab": {
          "base_uri": "https://localhost:8080/",
          "height": 406
        },
        "outputId": "df1ecf2d-882c-4ad0-dd11-6748d0061ed2"
      },
      "source": [
        "df_output"
      ],
      "execution_count": 52,
      "outputs": [
        {
          "output_type": "execute_result",
          "data": {
            "text/html": [
              "<div>\n",
              "<style scoped>\n",
              "    .dataframe tbody tr th:only-of-type {\n",
              "        vertical-align: middle;\n",
              "    }\n",
              "\n",
              "    .dataframe tbody tr th {\n",
              "        vertical-align: top;\n",
              "    }\n",
              "\n",
              "    .dataframe thead th {\n",
              "        text-align: right;\n",
              "    }\n",
              "</style>\n",
              "<table border=\"1\" class=\"dataframe\">\n",
              "  <thead>\n",
              "    <tr style=\"text-align: right;\">\n",
              "      <th></th>\n",
              "      <th>0</th>\n",
              "    </tr>\n",
              "  </thead>\n",
              "  <tbody>\n",
              "    <tr>\n",
              "      <th>0</th>\n",
              "      <td>11.368909</td>\n",
              "    </tr>\n",
              "    <tr>\n",
              "      <th>1</th>\n",
              "      <td>11.603703</td>\n",
              "    </tr>\n",
              "    <tr>\n",
              "      <th>2</th>\n",
              "      <td>11.992389</td>\n",
              "    </tr>\n",
              "    <tr>\n",
              "      <th>3</th>\n",
              "      <td>11.606352</td>\n",
              "    </tr>\n",
              "    <tr>\n",
              "      <th>4</th>\n",
              "      <td>11.691755</td>\n",
              "    </tr>\n",
              "    <tr>\n",
              "      <th>...</th>\n",
              "      <td>...</td>\n",
              "    </tr>\n",
              "    <tr>\n",
              "      <th>9982</th>\n",
              "      <td>11.953800</td>\n",
              "    </tr>\n",
              "    <tr>\n",
              "      <th>9983</th>\n",
              "      <td>11.032819</td>\n",
              "    </tr>\n",
              "    <tr>\n",
              "      <th>9984</th>\n",
              "      <td>12.153422</td>\n",
              "    </tr>\n",
              "    <tr>\n",
              "      <th>9985</th>\n",
              "      <td>11.651551</td>\n",
              "    </tr>\n",
              "    <tr>\n",
              "      <th>9986</th>\n",
              "      <td>11.428696</td>\n",
              "    </tr>\n",
              "  </tbody>\n",
              "</table>\n",
              "<p>9987 rows × 1 columns</p>\n",
              "</div>"
            ],
            "text/plain": [
              "              0\n",
              "0     11.368909\n",
              "1     11.603703\n",
              "2     11.992389\n",
              "3     11.606352\n",
              "4     11.691755\n",
              "...         ...\n",
              "9982  11.953800\n",
              "9983  11.032819\n",
              "9984  12.153422\n",
              "9985  11.651551\n",
              "9986  11.428696\n",
              "\n",
              "[9987 rows x 1 columns]"
            ]
          },
          "metadata": {
            "tags": []
          },
          "execution_count": 52
        }
      ]
    },
    {
      "cell_type": "code",
      "metadata": {
        "id": "UtBEyhHPKCCO",
        "colab": {
          "base_uri": "https://localhost:8080/"
        },
        "outputId": "e634905a-49c1-416a-e0d8-524e43cc0533"
      },
      "source": [
        "type(df_output)"
      ],
      "execution_count": 53,
      "outputs": [
        {
          "output_type": "execute_result",
          "data": {
            "text/plain": [
              "pandas.core.frame.DataFrame"
            ]
          },
          "metadata": {
            "tags": []
          },
          "execution_count": 53
        }
      ]
    },
    {
      "cell_type": "code",
      "metadata": {
        "id": "BHl0PIlDH9ZU"
      },
      "source": [
        "#output file\n",
        "\n",
        "df_output.to_csv('submission.csv', index=False)\n"
      ],
      "execution_count": 54,
      "outputs": []
    },
    {
      "cell_type": "code",
      "metadata": {
        "id": "1-y9qE3yIenz"
      },
      "source": [
        "# function that takes in a dataframe and creates a text link to  \n",
        "# download it (will only work for files < 2MB or so)\n",
        "\n",
        "from IPython.display import HTML\n",
        "import base64\n",
        "\n",
        "def create_download_link(df, title = \"Download CSV file\", filename = \"submission.csv\"):  \n",
        "    csv = df.to_csv()\n",
        "    b64 = base64.b64encode(csv.encode())\n",
        "    payload = b64.decode()\n",
        "    html = '<a download=\"{filename}\" href=\"data:text/csv;base64,{payload}\" target=\"_blank\">{title}</a>'\n",
        "    html = html.format(payload=payload,title=title,filename=filename)\n",
        "    return HTML(html)"
      ],
      "execution_count": 55,
      "outputs": []
    },
    {
      "cell_type": "code",
      "metadata": {
        "id": "f_jMDav8I82M",
        "colab": {
          "base_uri": "https://localhost:8080/",
          "height": 33
        },
        "outputId": "f422afe9-f35c-4dfb-e592-3f5122cf8e87"
      },
      "source": [
        "# create a link to download the dataframe\n",
        "create_download_link(df_output)"
      ],
      "execution_count": 56,
      "outputs": [
        {
          "output_type": "execute_result",
          "data": {
            "text/html": [
              "<a download=\"submission.csv\" href=\"data:text/csv;base64,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\" target=\"_blank\">Download CSV file</a>"
            ],
            "text/plain": [
              "<IPython.core.display.HTML object>"
            ]
          },
          "metadata": {
            "tags": []
          },
          "execution_count": 56
        }
      ]
    }
  ]
}