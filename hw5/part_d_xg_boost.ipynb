{
  "nbformat": 4,
  "nbformat_minor": 0,
  "metadata": {
    "kernelspec": {
      "display_name": "Python 3",
      "language": "python",
      "name": "python3"
    },
    "language_info": {
      "name": "python",
      "version": "3.6.4",
      "mimetype": "text/x-python",
      "codemirror_mode": {
        "name": "ipython",
        "version": 3
      },
      "pygments_lexer": "ipython3",
      "nbconvert_exporter": "python",
      "file_extension": ".py"
    },
    "colab": {
      "name": "eda-data-cleaning-xg-boost.ipynb",
      "provenance": [],
      "toc_visible": true,
      "include_colab_link": true
    }
  },
  "cells": [
    {
      "cell_type": "markdown",
      "metadata": {
        "id": "view-in-github",
        "colab_type": "text"
      },
      "source": [
        "<a href=\"https://colab.research.google.com/github/YuxingW/deep_learning/blob/main/hw5/part_d_xg_boost.ipynb\" target=\"_parent\"><img src=\"https://colab.research.google.com/assets/colab-badge.svg\" alt=\"Open In Colab\"/></a>"
      ]
    },
    {
      "cell_type": "markdown",
      "metadata": {
        "id": "L6cizODpFkvn"
      },
      "source": [
        "#Predict NYC taxi fares using XGBoost"
      ]
    },
    {
      "cell_type": "markdown",
      "metadata": {
        "_uuid": "8d2fccc96b19a5367e64ad351ef6ae542cbcae68",
        "id": "vYWo3PsKv2z1"
      },
      "source": [
        "### Importing Data and Libraries"
      ]
    },
    {
      "cell_type": "code",
      "metadata": {
        "_uuid": "2383b308b415687ef5a2350a57b7a6f649584caf",
        "collapsed": true,
        "jupyter": {
          "outputs_hidden": true
        },
        "trusted": true,
        "id": "0bPM8Kkfv2z-"
      },
      "source": [
        "# load some default Python modules\n",
        "import numpy as np\n",
        "import pandas as pd\n",
        "\n",
        "import matplotlib.pyplot as plt\n",
        "import seaborn as sns\n",
        "% matplotlib inline\n",
        "\n",
        "plt.style.use('seaborn-whitegrid')\n",
        "\n",
        "import warnings\n",
        "warnings.filterwarnings('ignore')"
      ],
      "execution_count": 1,
      "outputs": []
    },
    {
      "cell_type": "code",
      "metadata": {
        "_uuid": "875fb3db355fc1b60cc198ad257b6cbed7173953",
        "collapsed": true,
        "jupyter": {
          "outputs_hidden": true
        },
        "trusted": true,
        "id": "O92anhuPv20A"
      },
      "source": [
        "import requests\n",
        "from io import BytesIO\n",
        "\n",
        "url = 'https://docs.google.com/spreadsheets/d/e/2PACX-1vSdR1c5jpsE5Kp2DzQoIm7H2XywINfGNMnTL7nP92mu_GBHgu2T0mPxnu5O0YVfSpAbAu1NGNrm0auq/pub?output=csv'\n",
        "r = requests.get(url)\n",
        "csv_data = r.content\n",
        "df_origin = pd.read_csv(BytesIO(csv_data))\n",
        "train = df_origin[:90000]\n",
        "test = df_origin[90000:]"
      ],
      "execution_count": 2,
      "outputs": []
    },
    {
      "cell_type": "code",
      "metadata": {
        "_uuid": "55638f1a078cd4a96cfb2ca5a2d0d369697bc12d",
        "collapsed": true,
        "jupyter": {
          "outputs_hidden": true
        },
        "trusted": true,
        "id": "B5mGBla3v20A",
        "outputId": "0a45ff20-3583-48b7-ea3e-f4e7a963e0d2",
        "colab": {
          "base_uri": "https://localhost:8080/"
        }
      },
      "source": [
        "# datatypes\n",
        "train.dtypes"
      ],
      "execution_count": 3,
      "outputs": [
        {
          "output_type": "execute_result",
          "data": {
            "text/plain": [
              "key                   object\n",
              "fare_amount          float64\n",
              "pickup_datetime       object\n",
              "pickup_longitude     float64\n",
              "pickup_latitude      float64\n",
              "dropoff_longitude    float64\n",
              "dropoff_latitude     float64\n",
              "passenger_count        int64\n",
              "dtype: object"
            ]
          },
          "metadata": {
            "tags": []
          },
          "execution_count": 3
        }
      ]
    },
    {
      "cell_type": "code",
      "metadata": {
        "_uuid": "d4cc178d6eece98b039ce5ce68a3ea7b1889b448",
        "collapsed": true,
        "jupyter": {
          "outputs_hidden": true
        },
        "trusted": true,
        "id": "gtXWe1Uyv20B",
        "outputId": "65491ed0-e01e-4c62-ef26-4fdc381fe72a",
        "colab": {
          "base_uri": "https://localhost:8080/",
          "height": 287
        }
      },
      "source": [
        "# Basic Stats of the data set\n",
        "train.describe()"
      ],
      "execution_count": 4,
      "outputs": [
        {
          "output_type": "execute_result",
          "data": {
            "text/html": [
              "<div>\n",
              "<style scoped>\n",
              "    .dataframe tbody tr th:only-of-type {\n",
              "        vertical-align: middle;\n",
              "    }\n",
              "\n",
              "    .dataframe tbody tr th {\n",
              "        vertical-align: top;\n",
              "    }\n",
              "\n",
              "    .dataframe thead th {\n",
              "        text-align: right;\n",
              "    }\n",
              "</style>\n",
              "<table border=\"1\" class=\"dataframe\">\n",
              "  <thead>\n",
              "    <tr style=\"text-align: right;\">\n",
              "      <th></th>\n",
              "      <th>fare_amount</th>\n",
              "      <th>pickup_longitude</th>\n",
              "      <th>pickup_latitude</th>\n",
              "      <th>dropoff_longitude</th>\n",
              "      <th>dropoff_latitude</th>\n",
              "      <th>passenger_count</th>\n",
              "    </tr>\n",
              "  </thead>\n",
              "  <tbody>\n",
              "    <tr>\n",
              "      <th>count</th>\n",
              "      <td>90000.000000</td>\n",
              "      <td>90000.000000</td>\n",
              "      <td>90000.000000</td>\n",
              "      <td>90000.000000</td>\n",
              "      <td>90000.000000</td>\n",
              "      <td>90000.000000</td>\n",
              "    </tr>\n",
              "    <tr>\n",
              "      <th>mean</th>\n",
              "      <td>11.341009</td>\n",
              "      <td>-72.500507</td>\n",
              "      <td>39.917580</td>\n",
              "      <td>-72.494134</td>\n",
              "      <td>39.918458</td>\n",
              "      <td>1.672733</td>\n",
              "    </tr>\n",
              "    <tr>\n",
              "      <th>std</th>\n",
              "      <td>9.687934</td>\n",
              "      <td>10.696395</td>\n",
              "      <td>6.216535</td>\n",
              "      <td>10.457200</td>\n",
              "      <td>6.084845</td>\n",
              "      <td>1.299121</td>\n",
              "    </tr>\n",
              "    <tr>\n",
              "      <th>min</th>\n",
              "      <td>-44.900000</td>\n",
              "      <td>-736.550000</td>\n",
              "      <td>-74.007670</td>\n",
              "      <td>-84.654241</td>\n",
              "      <td>-74.006377</td>\n",
              "      <td>0.000000</td>\n",
              "    </tr>\n",
              "    <tr>\n",
              "      <th>25%</th>\n",
              "      <td>6.000000</td>\n",
              "      <td>-73.992016</td>\n",
              "      <td>40.734956</td>\n",
              "      <td>-73.991211</td>\n",
              "      <td>40.734200</td>\n",
              "      <td>1.000000</td>\n",
              "    </tr>\n",
              "    <tr>\n",
              "      <th>50%</th>\n",
              "      <td>8.500000</td>\n",
              "      <td>-73.981791</td>\n",
              "      <td>40.752742</td>\n",
              "      <td>-73.980018</td>\n",
              "      <td>40.753256</td>\n",
              "      <td>1.000000</td>\n",
              "    </tr>\n",
              "    <tr>\n",
              "      <th>75%</th>\n",
              "      <td>12.500000</td>\n",
              "      <td>-73.966995</td>\n",
              "      <td>40.767325</td>\n",
              "      <td>-73.963454</td>\n",
              "      <td>40.768182</td>\n",
              "      <td>2.000000</td>\n",
              "    </tr>\n",
              "    <tr>\n",
              "      <th>max</th>\n",
              "      <td>200.000000</td>\n",
              "      <td>40.783472</td>\n",
              "      <td>401.083332</td>\n",
              "      <td>40.851027</td>\n",
              "      <td>43.415190</td>\n",
              "      <td>6.000000</td>\n",
              "    </tr>\n",
              "  </tbody>\n",
              "</table>\n",
              "</div>"
            ],
            "text/plain": [
              "        fare_amount  pickup_longitude  ...  dropoff_latitude  passenger_count\n",
              "count  90000.000000      90000.000000  ...      90000.000000     90000.000000\n",
              "mean      11.341009        -72.500507  ...         39.918458         1.672733\n",
              "std        9.687934         10.696395  ...          6.084845         1.299121\n",
              "min      -44.900000       -736.550000  ...        -74.006377         0.000000\n",
              "25%        6.000000        -73.992016  ...         40.734200         1.000000\n",
              "50%        8.500000        -73.981791  ...         40.753256         1.000000\n",
              "75%       12.500000        -73.966995  ...         40.768182         2.000000\n",
              "max      200.000000         40.783472  ...         43.415190         6.000000\n",
              "\n",
              "[8 rows x 6 columns]"
            ]
          },
          "metadata": {
            "tags": []
          },
          "execution_count": 4
        }
      ]
    },
    {
      "cell_type": "markdown",
      "metadata": {
        "_uuid": "4011e57815874707ef9f0d0a03eb5af7df4b61a1",
        "id": "tA5yEWldv20C"
      },
      "source": [
        "**following thing that i can notice**\n",
        "- Fare amount is negative and it doesn't seem to be realistic\n",
        "- few longitude and lattitude entries are off\n",
        "- maximum passanger count is 208 which looks odd\n"
      ]
    },
    {
      "cell_type": "code",
      "metadata": {
        "_uuid": "9183e2d40de1fa7a50216147d7b76017d4a66e74",
        "collapsed": true,
        "jupyter": {
          "outputs_hidden": true
        },
        "trusted": true,
        "id": "-gSbMr-kv20C",
        "outputId": "da0a2fc2-e20f-433e-8b88-b62bda4d8b62",
        "colab": {
          "base_uri": "https://localhost:8080/"
        }
      },
      "source": [
        "print(\"old size: %d\" % len(train))\n",
        "train = train[train.fare_amount >=0]\n",
        "print(\"New size: %d\" % len(train))"
      ],
      "execution_count": 5,
      "outputs": [
        {
          "output_type": "stream",
          "text": [
            "old size: 90000\n",
            "New size: 89992\n"
          ],
          "name": "stdout"
        }
      ]
    },
    {
      "cell_type": "code",
      "metadata": {
        "_uuid": "1aedc75415e8f5e0a5257dbae0f2af7cd44757f7",
        "collapsed": true,
        "jupyter": {
          "outputs_hidden": true
        },
        "trusted": true,
        "id": "gOFHJmjNv20D",
        "outputId": "484524fd-33c6-4f44-9f45-a800612163f6",
        "colab": {
          "base_uri": "https://localhost:8080/"
        }
      },
      "source": [
        "# check missing data\n",
        "train.isnull().sum()"
      ],
      "execution_count": 6,
      "outputs": [
        {
          "output_type": "execute_result",
          "data": {
            "text/plain": [
              "key                  0\n",
              "fare_amount          0\n",
              "pickup_datetime      0\n",
              "pickup_longitude     0\n",
              "pickup_latitude      0\n",
              "dropoff_longitude    0\n",
              "dropoff_latitude     0\n",
              "passenger_count      0\n",
              "dtype: int64"
            ]
          },
          "metadata": {
            "tags": []
          },
          "execution_count": 6
        }
      ]
    },
    {
      "cell_type": "markdown",
      "metadata": {
        "_uuid": "ba82662ea0c5a51e8e5af46c9357f098db58aeca",
        "id": "k740lTBBv20D"
      },
      "source": [
        "**There are 36 records where longitud and latitude are missing, we will drop them from the data**"
      ]
    },
    {
      "cell_type": "code",
      "metadata": {
        "_uuid": "4f85599c231b457eed3d2ee5f8215530a5e482e5",
        "collapsed": true,
        "jupyter": {
          "outputs_hidden": true
        },
        "trusted": true,
        "id": "Pw_VFDZOv20D",
        "outputId": "c3eb050f-4552-420e-cd23-bd6036b18db6",
        "colab": {
          "base_uri": "https://localhost:8080/"
        }
      },
      "source": [
        "print(\"old size: %d\" % len(train))\n",
        "train = train.dropna(how='any', axis=0)\n",
        "print(\"New size after dropping missing value: %d\" % len(train))"
      ],
      "execution_count": 7,
      "outputs": [
        {
          "output_type": "stream",
          "text": [
            "old size: 89992\n",
            "New size after dropping missing value: 89992\n"
          ],
          "name": "stdout"
        }
      ]
    },
    {
      "cell_type": "markdown",
      "metadata": {
        "_uuid": "26ccd14a63d17a50c0cb5b5210dc5b978151bd54",
        "id": "hvCXFN-Dv20E"
      },
      "source": [
        "- Looks like the distribution is highly skewed and frequency above 100 is very less\n",
        "- we will plot below 100 and above 100 separately "
      ]
    },
    {
      "cell_type": "markdown",
      "metadata": {
        "_uuid": "b8577fb46ffcb79fbcc85cc2ebea0a105fb17eba",
        "id": "YUY_RmZ6v20F"
      },
      "source": [
        "- There are few points between 40 and 60 dollars which has slightly high frequency and that could be airport trips"
      ]
    },
    {
      "cell_type": "code",
      "metadata": {
        "_uuid": "5b32edf1fc98cad5ca62ede2eb66ebc042d59e8c",
        "collapsed": true,
        "jupyter": {
          "outputs_hidden": true
        },
        "trusted": true,
        "id": "s2zRfQtNv20F",
        "outputId": "2ba360bf-12e0-4ff2-f868-7802fc3a7931",
        "colab": {
          "base_uri": "https://localhost:8080/"
        }
      },
      "source": [
        "train[train.fare_amount >100 ].shape"
      ],
      "execution_count": 8,
      "outputs": [
        {
          "output_type": "execute_result",
          "data": {
            "text/plain": [
              "(34, 8)"
            ]
          },
          "metadata": {
            "tags": []
          },
          "execution_count": 8
        }
      ]
    },
    {
      "cell_type": "markdown",
      "metadata": {
        "_uuid": "654b9f31220387036eb70753eae8a6403e60c0e6",
        "id": "cyctByWEv20J"
      },
      "source": [
        "### Read the test data"
      ]
    },
    {
      "cell_type": "code",
      "metadata": {
        "_uuid": "9d9977a491ad1c100cecee9625329d001c3f9a14",
        "collapsed": true,
        "jupyter": {
          "outputs_hidden": true
        },
        "trusted": true,
        "id": "logHvAwRv20K",
        "outputId": "5e281e31-7117-40ca-cead-3e3171dc0493",
        "colab": {
          "base_uri": "https://localhost:8080/"
        }
      },
      "source": [
        "#check for missing value\n",
        "test.isnull().sum()"
      ],
      "execution_count": 9,
      "outputs": [
        {
          "output_type": "execute_result",
          "data": {
            "text/plain": [
              "key                  0\n",
              "fare_amount          0\n",
              "pickup_datetime      0\n",
              "pickup_longitude     0\n",
              "pickup_latitude      0\n",
              "dropoff_longitude    0\n",
              "dropoff_latitude     0\n",
              "passenger_count      0\n",
              "dtype: int64"
            ]
          },
          "metadata": {
            "tags": []
          },
          "execution_count": 9
        }
      ]
    },
    {
      "cell_type": "markdown",
      "metadata": {
        "_uuid": "44dcab3502844d81745aa0c0523d8627edd69872",
        "id": "J9Bqv9Thv20K"
      },
      "source": [
        "There are no missing value in test data set"
      ]
    },
    {
      "cell_type": "code",
      "metadata": {
        "_uuid": "93c013ffef17a98eaacdf55140c6528c1e63bf72",
        "collapsed": true,
        "jupyter": {
          "outputs_hidden": true
        },
        "trusted": true,
        "id": "SIjYgO57v20K",
        "outputId": "9a4661b5-0462-44c9-8b01-13543b8c7d69",
        "colab": {
          "base_uri": "https://localhost:8080/",
          "height": 287
        }
      },
      "source": [
        "# checking for basic stats\n",
        "test.describe()"
      ],
      "execution_count": 10,
      "outputs": [
        {
          "output_type": "execute_result",
          "data": {
            "text/html": [
              "<div>\n",
              "<style scoped>\n",
              "    .dataframe tbody tr th:only-of-type {\n",
              "        vertical-align: middle;\n",
              "    }\n",
              "\n",
              "    .dataframe tbody tr th {\n",
              "        vertical-align: top;\n",
              "    }\n",
              "\n",
              "    .dataframe thead th {\n",
              "        text-align: right;\n",
              "    }\n",
              "</style>\n",
              "<table border=\"1\" class=\"dataframe\">\n",
              "  <thead>\n",
              "    <tr style=\"text-align: right;\">\n",
              "      <th></th>\n",
              "      <th>fare_amount</th>\n",
              "      <th>pickup_longitude</th>\n",
              "      <th>pickup_latitude</th>\n",
              "      <th>dropoff_longitude</th>\n",
              "      <th>dropoff_latitude</th>\n",
              "      <th>passenger_count</th>\n",
              "    </tr>\n",
              "  </thead>\n",
              "  <tbody>\n",
              "    <tr>\n",
              "      <th>count</th>\n",
              "      <td>9999.000000</td>\n",
              "      <td>9999.000000</td>\n",
              "      <td>9999.000000</td>\n",
              "      <td>9999.000000</td>\n",
              "      <td>9999.000000</td>\n",
              "      <td>9999.000000</td>\n",
              "    </tr>\n",
              "    <tr>\n",
              "      <th>mean</th>\n",
              "      <td>11.478017</td>\n",
              "      <td>-72.442105</td>\n",
              "      <td>39.886504</td>\n",
              "      <td>-72.462313</td>\n",
              "      <td>39.924325</td>\n",
              "      <td>1.683668</td>\n",
              "    </tr>\n",
              "    <tr>\n",
              "      <th>std</th>\n",
              "      <td>9.972600</td>\n",
              "      <td>10.672673</td>\n",
              "      <td>6.308000</td>\n",
              "      <td>10.599212</td>\n",
              "      <td>7.269734</td>\n",
              "      <td>1.309652</td>\n",
              "    </tr>\n",
              "    <tr>\n",
              "      <th>min</th>\n",
              "      <td>-3.000000</td>\n",
              "      <td>-78.083332</td>\n",
              "      <td>-74.005410</td>\n",
              "      <td>-74.895028</td>\n",
              "      <td>-73.999742</td>\n",
              "      <td>0.000000</td>\n",
              "    </tr>\n",
              "    <tr>\n",
              "      <th>25%</th>\n",
              "      <td>6.000000</td>\n",
              "      <td>-73.992333</td>\n",
              "      <td>40.735240</td>\n",
              "      <td>-73.991260</td>\n",
              "      <td>40.734005</td>\n",
              "      <td>1.000000</td>\n",
              "    </tr>\n",
              "    <tr>\n",
              "      <th>50%</th>\n",
              "      <td>8.500000</td>\n",
              "      <td>-73.981767</td>\n",
              "      <td>40.753087</td>\n",
              "      <td>-73.979848</td>\n",
              "      <td>40.753052</td>\n",
              "      <td>1.000000</td>\n",
              "    </tr>\n",
              "    <tr>\n",
              "      <th>75%</th>\n",
              "      <td>12.600000</td>\n",
              "      <td>-73.966873</td>\n",
              "      <td>40.766666</td>\n",
              "      <td>-73.963287</td>\n",
              "      <td>40.767966</td>\n",
              "      <td>2.000000</td>\n",
              "    </tr>\n",
              "    <tr>\n",
              "      <th>max</th>\n",
              "      <td>150.000000</td>\n",
              "      <td>40.787575</td>\n",
              "      <td>69.400000</td>\n",
              "      <td>40.810297</td>\n",
              "      <td>404.616667</td>\n",
              "      <td>6.000000</td>\n",
              "    </tr>\n",
              "  </tbody>\n",
              "</table>\n",
              "</div>"
            ],
            "text/plain": [
              "       fare_amount  pickup_longitude  ...  dropoff_latitude  passenger_count\n",
              "count  9999.000000       9999.000000  ...       9999.000000      9999.000000\n",
              "mean     11.478017        -72.442105  ...         39.924325         1.683668\n",
              "std       9.972600         10.672673  ...          7.269734         1.309652\n",
              "min      -3.000000        -78.083332  ...        -73.999742         0.000000\n",
              "25%       6.000000        -73.992333  ...         40.734005         1.000000\n",
              "50%       8.500000        -73.981767  ...         40.753052         1.000000\n",
              "75%      12.600000        -73.966873  ...         40.767966         2.000000\n",
              "max     150.000000         40.787575  ...        404.616667         6.000000\n",
              "\n",
              "[8 rows x 6 columns]"
            ]
          },
          "metadata": {
            "tags": []
          },
          "execution_count": 10
        }
      ]
    },
    {
      "cell_type": "markdown",
      "metadata": {
        "_uuid": "92c010fdd017bcc82df88a6f7385b9d51c07779d",
        "id": "o2O1bZyIv20L"
      },
      "source": [
        "We will store the minimum and maximum of the longitude and latitude from test data set and filter the train data set for those data points"
      ]
    },
    {
      "cell_type": "code",
      "metadata": {
        "_uuid": "8e4823c4af8cecbcba635335e9d34c81fc7542db",
        "collapsed": true,
        "jupyter": {
          "outputs_hidden": true
        },
        "trusted": true,
        "id": "XJxprEPev20L",
        "outputId": "03067f78-9c54-48c4-efa6-d9577b74e98e",
        "colab": {
          "base_uri": "https://localhost:8080/"
        }
      },
      "source": [
        "min(test.pickup_longitude.min(),test.dropoff_longitude.min()), \\\n",
        "max(test.pickup_longitude.max(),test.dropoff_longitude.max())"
      ],
      "execution_count": 11,
      "outputs": [
        {
          "output_type": "execute_result",
          "data": {
            "text/plain": [
              "(-78.083332, 40.810297)"
            ]
          },
          "metadata": {
            "tags": []
          },
          "execution_count": 11
        }
      ]
    },
    {
      "cell_type": "code",
      "metadata": {
        "_uuid": "310996bfa1bc4e8dc71b7d5f1441fb5d0beb8fa7",
        "collapsed": true,
        "jupyter": {
          "outputs_hidden": true
        },
        "trusted": true,
        "id": "DOE2nXF7v20L",
        "outputId": "1362a766-640a-447d-cd74-73009ef83455",
        "colab": {
          "base_uri": "https://localhost:8080/"
        }
      },
      "source": [
        "min(test.pickup_latitude.min(),test.dropoff_latitude.min()), \\\n",
        "max(test.pickup_latitude.max(),test.dropoff_latitude.max())"
      ],
      "execution_count": 12,
      "outputs": [
        {
          "output_type": "execute_result",
          "data": {
            "text/plain": [
              "(-74.00541, 404.616667)"
            ]
          },
          "metadata": {
            "tags": []
          },
          "execution_count": 12
        }
      ]
    },
    {
      "cell_type": "code",
      "metadata": {
        "_uuid": "b1c582c326ad8f335f795a06377d00680c953f32",
        "collapsed": true,
        "jupyter": {
          "outputs_hidden": true
        },
        "trusted": true,
        "id": "YD2DZxAQv20L"
      },
      "source": [
        "# this function will also be used with the test set below\n",
        "def select_within_test_boundary(df, BB):\n",
        "    return (df.pickup_longitude >= BB[0]) & (df.pickup_longitude <= BB[1]) & \\\n",
        "           (df.pickup_latitude >= BB[2]) & (df.pickup_latitude <= BB[3]) & \\\n",
        "           (df.dropoff_longitude >= BB[0]) & (df.dropoff_longitude <= BB[1]) & \\\n",
        "           (df.dropoff_latitude >= BB[2]) & (df.dropoff_latitude <= BB[3])"
      ],
      "execution_count": 13,
      "outputs": []
    },
    {
      "cell_type": "code",
      "metadata": {
        "_uuid": "6910f6f76b87f7dc4a04cae29157a8951448874d",
        "collapsed": true,
        "jupyter": {
          "outputs_hidden": true
        },
        "trusted": true,
        "id": "BQ12KKRyv20M",
        "outputId": "f0d065de-49ff-4a12-af16-78bcb26965d6",
        "colab": {
          "base_uri": "https://localhost:8080/"
        }
      },
      "source": [
        "BB = (-74.5, -72.8, 40.5, 41.8)\n",
        "print('Old size: %d' % len(train))\n",
        "train = train[select_within_test_boundary(train, BB)]\n",
        "print('New size: %d' % len(train))"
      ],
      "execution_count": 14,
      "outputs": [
        {
          "output_type": "stream",
          "text": [
            "Old size: 89992\n",
            "New size: 88084\n"
          ],
          "name": "stdout"
        }
      ]
    },
    {
      "cell_type": "markdown",
      "metadata": {
        "_uuid": "1e6c6c89722d0e6acd41625207e0b74a11d3288b",
        "id": "RKzBBXTVv20M"
      },
      "source": [
        "- Now we have sliced the train data records as per the coordinates of the test data"
      ]
    },
    {
      "cell_type": "markdown",
      "metadata": {
        "_uuid": "30936e939633e6c2a3d8b038d9aa53e50b14f031",
        "id": "7pk0137zv20N"
      },
      "source": [
        "### Manual Feature Engineering\n",
        "- Adding distance metrics\n",
        "- few time based variables"
      ]
    },
    {
      "cell_type": "code",
      "metadata": {
        "_uuid": "4fe9c8dffc4d2ea7eec72072bac4186819b8da37",
        "collapsed": true,
        "jupyter": {
          "outputs_hidden": true
        },
        "trusted": true,
        "id": "By6cLfvmv20N"
      },
      "source": [
        "def prepare_time_features(df):\n",
        "    df['pickup_datetime'] = df['pickup_datetime'].str.slice(0, 16)\n",
        "    df['pickup_datetime'] = pd.to_datetime(df['pickup_datetime'], utc=True, format='%Y-%m-%d %H:%M')\n",
        "    df['hour_of_day'] = df.pickup_datetime.dt.hour\n",
        "    df['month'] = df.pickup_datetime.dt.month\n",
        "    df[\"year\"] = df.pickup_datetime.dt.year\n",
        "    df[\"weekday\"] = df.pickup_datetime.dt.weekday\n",
        "\n",
        "    return df"
      ],
      "execution_count": 15,
      "outputs": []
    },
    {
      "cell_type": "code",
      "metadata": {
        "_uuid": "62ce687f1cc677cd8c5fd854c65bc2f04330f3d0",
        "collapsed": true,
        "jupyter": {
          "outputs_hidden": true
        },
        "trusted": true,
        "id": "DSqYsQJSv20N"
      },
      "source": [
        "train = prepare_time_features(train)\n",
        "test = prepare_time_features(test)"
      ],
      "execution_count": 16,
      "outputs": []
    },
    {
      "cell_type": "code",
      "metadata": {
        "_uuid": "13dce9a9724d2b3b586aafb24f7ce5dc30dc006a",
        "collapsed": true,
        "jupyter": {
          "outputs_hidden": true
        },
        "trusted": true,
        "id": "XPgJImx2v20O"
      },
      "source": [
        "# calculate-distance-between-two-latitude-longitude-points-haversine-formula \n",
        "# Returns distance in miles\n",
        "def distance(lat1, lon1, lat2, lon2):\n",
        "    p = 0.017453292519943295 # Pi/180\n",
        "    a = 0.5 - np.cos((lat2 - lat1) * p)/2 + np.cos(lat1 * p) * np.cos(lat2 * p) * (1 - np.cos((lon2 - lon1) * p)) / 2\n",
        "    return 0.6213712 * 12742 * np.arcsin(np.sqrt(a))   # 2*R*asin..."
      ],
      "execution_count": 17,
      "outputs": []
    },
    {
      "cell_type": "code",
      "metadata": {
        "_uuid": "e649a776da67fb93daab8314dfbca7ce4f3efd1c",
        "collapsed": true,
        "jupyter": {
          "outputs_hidden": true
        },
        "trusted": true,
        "id": "J5KUtnsSv20O"
      },
      "source": [
        "train['distance_miles'] = distance(train.pickup_latitude, train.pickup_longitude, \\\n",
        "                                      train.dropoff_latitude, train.dropoff_longitude)"
      ],
      "execution_count": 18,
      "outputs": []
    },
    {
      "cell_type": "code",
      "metadata": {
        "_uuid": "2a116e3d1af9a54781c04c03c5df02dbdb068c8d",
        "collapsed": true,
        "jupyter": {
          "outputs_hidden": true
        },
        "trusted": true,
        "id": "Fz4xV40xv20O"
      },
      "source": [
        "test['distance_miles'] = distance(test.pickup_latitude, test.pickup_longitude, \\\n",
        "                                      test.dropoff_latitude, test.dropoff_longitude)"
      ],
      "execution_count": 19,
      "outputs": []
    },
    {
      "cell_type": "markdown",
      "metadata": {
        "_uuid": "d427e4a3251d79ea82d63cf7701c82e52655445c",
        "id": "ZMjD4Dbiv20O"
      },
      "source": [
        "**Calculating pickup and drop distance**"
      ]
    },
    {
      "cell_type": "code",
      "metadata": {
        "_uuid": "b049d7cc0e28f95a3232f8d2770f544f268c2f7f",
        "collapsed": true,
        "jupyter": {
          "outputs_hidden": true
        },
        "trusted": true,
        "id": "UHRS0zYev20P"
      },
      "source": [
        "def transform(data):\n",
        "    # Distances to nearby airports, \n",
        "    jfk = (-73.7781, 40.6413)\n",
        "    ewr = (-74.1745, 40.6895)\n",
        "    lgr = (-73.8740, 40.7769)\n",
        "\n",
        "    data['pickup_distance_to_jfk'] = distance(jfk[1], jfk[0],\n",
        "                                         data['pickup_latitude'], data['pickup_longitude'])\n",
        "    data['dropoff_distance_to_jfk'] = distance(jfk[1], jfk[0],\n",
        "                                           data['dropoff_latitude'], data['dropoff_longitude'])\n",
        "    data['pickup_distance_to_ewr'] = distance(ewr[1], ewr[0], \n",
        "                                          data['pickup_latitude'], data['pickup_longitude'])\n",
        "    data['dropoff_distance_to_ewr'] = distance(ewr[1], ewr[0],\n",
        "                                           data['dropoff_latitude'], data['dropoff_longitude'])\n",
        "    data['pickup_distance_to_lgr'] = distance(lgr[1], lgr[0],\n",
        "                                          data['pickup_latitude'], data['pickup_longitude'])\n",
        "    data['dropoff_distance_to_lgr'] = distance(lgr[1], lgr[0],\n",
        "                                           data['dropoff_latitude'], data['dropoff_longitude'])\n",
        "    \n",
        "    return data\n",
        "\n",
        "train = transform(train)\n",
        "test = transform(test)"
      ],
      "execution_count": 20,
      "outputs": []
    },
    {
      "cell_type": "markdown",
      "metadata": {
        "_uuid": "c0b1798aa4038e4399cc9e31a71249577809be24",
        "id": "EFEwgszuv20P"
      },
      "source": [
        "- Delete these 15 record where distance covered and fare amount are zero, which won't help our model"
      ]
    },
    {
      "cell_type": "code",
      "metadata": {
        "_uuid": "2e784797cf4c5acb9e427fb51694af5ea6cbc7bc",
        "collapsed": true,
        "jupyter": {
          "outputs_hidden": true
        },
        "trusted": true,
        "id": "-jz-JoFLv20P",
        "outputId": "8406855a-6e15-406d-8fd0-2c5017127f03",
        "colab": {
          "base_uri": "https://localhost:8080/",
          "height": 67
        }
      },
      "source": [
        "train[(train['distance_miles']==0)&(train['fare_amount']==0)]"
      ],
      "execution_count": 21,
      "outputs": [
        {
          "output_type": "execute_result",
          "data": {
            "text/html": [
              "<div>\n",
              "<style scoped>\n",
              "    .dataframe tbody tr th:only-of-type {\n",
              "        vertical-align: middle;\n",
              "    }\n",
              "\n",
              "    .dataframe tbody tr th {\n",
              "        vertical-align: top;\n",
              "    }\n",
              "\n",
              "    .dataframe thead th {\n",
              "        text-align: right;\n",
              "    }\n",
              "</style>\n",
              "<table border=\"1\" class=\"dataframe\">\n",
              "  <thead>\n",
              "    <tr style=\"text-align: right;\">\n",
              "      <th></th>\n",
              "      <th>key</th>\n",
              "      <th>fare_amount</th>\n",
              "      <th>pickup_datetime</th>\n",
              "      <th>pickup_longitude</th>\n",
              "      <th>pickup_latitude</th>\n",
              "      <th>dropoff_longitude</th>\n",
              "      <th>dropoff_latitude</th>\n",
              "      <th>passenger_count</th>\n",
              "      <th>hour_of_day</th>\n",
              "      <th>month</th>\n",
              "      <th>year</th>\n",
              "      <th>weekday</th>\n",
              "      <th>distance_miles</th>\n",
              "      <th>pickup_distance_to_jfk</th>\n",
              "      <th>dropoff_distance_to_jfk</th>\n",
              "      <th>pickup_distance_to_ewr</th>\n",
              "      <th>dropoff_distance_to_ewr</th>\n",
              "      <th>pickup_distance_to_lgr</th>\n",
              "      <th>dropoff_distance_to_lgr</th>\n",
              "    </tr>\n",
              "  </thead>\n",
              "  <tbody>\n",
              "  </tbody>\n",
              "</table>\n",
              "</div>"
            ],
            "text/plain": [
              "Empty DataFrame\n",
              "Columns: [key, fare_amount, pickup_datetime, pickup_longitude, pickup_latitude, dropoff_longitude, dropoff_latitude, passenger_count, hour_of_day, month, year, weekday, distance_miles, pickup_distance_to_jfk, dropoff_distance_to_jfk, pickup_distance_to_ewr, dropoff_distance_to_ewr, pickup_distance_to_lgr, dropoff_distance_to_lgr]\n",
              "Index: []"
            ]
          },
          "metadata": {
            "tags": []
          },
          "execution_count": 21
        }
      ]
    },
    {
      "cell_type": "code",
      "metadata": {
        "_uuid": "229d25b99222a0dbdf8bd6367a514a81fb1fda92",
        "collapsed": true,
        "jupyter": {
          "outputs_hidden": true
        },
        "trusted": true,
        "id": "1Q6QOPjfv20P",
        "outputId": "9a178a52-58ba-4592-8a0d-e193920663b2",
        "colab": {
          "base_uri": "https://localhost:8080/"
        }
      },
      "source": [
        "print(\"old size: %d\" % len(train))\n",
        "train = train.drop(index= train[(train['distance_miles']==0)&(train['fare_amount']==0)].index, axis=0)\n",
        "print(\"New size: %d\" % len(train))"
      ],
      "execution_count": 22,
      "outputs": [
        {
          "output_type": "stream",
          "text": [
            "old size: 88084\n",
            "New size: 88084\n"
          ],
          "name": "stdout"
        }
      ]
    },
    {
      "cell_type": "markdown",
      "metadata": {
        "_uuid": "b1fbea82957c288be9034c2dad635434cf607aa8",
        "id": "7u-Gvz32v20Q"
      },
      "source": [
        "- There are 24 records where fare amount is zero but distance travelled is greater than 0, we will drop such case"
      ]
    },
    {
      "cell_type": "code",
      "metadata": {
        "scrolled": true,
        "_uuid": "a99f6c9385dfa05ecf8dc0aa61b73c43b84c1053",
        "collapsed": true,
        "jupyter": {
          "outputs_hidden": true
        },
        "trusted": true,
        "id": "BE0QH9h4v20Q",
        "outputId": "964d9138-768e-41be-e2e6-6939a04be609",
        "colab": {
          "base_uri": "https://localhost:8080/"
        }
      },
      "source": [
        "train[train['fare_amount']==0].shape"
      ],
      "execution_count": 23,
      "outputs": [
        {
          "output_type": "execute_result",
          "data": {
            "text/plain": [
              "(3, 19)"
            ]
          },
          "metadata": {
            "tags": []
          },
          "execution_count": 23
        }
      ]
    },
    {
      "cell_type": "code",
      "metadata": {
        "_uuid": "3f41715a3d6c95c4590c4da710b663786f15ed9f",
        "collapsed": true,
        "jupyter": {
          "outputs_hidden": true
        },
        "trusted": true,
        "id": "T7qRIPMjv20Q",
        "outputId": "6b24199e-3a1d-473f-bcaf-5f8c5a4b33c1",
        "colab": {
          "base_uri": "https://localhost:8080/"
        }
      },
      "source": [
        "print(\"old size: %d\" % len(train))\n",
        "train = train.drop(index= train[train['fare_amount']==0].index, axis=0)\n",
        "print(\"New size: %d\" % len(train))"
      ],
      "execution_count": 24,
      "outputs": [
        {
          "output_type": "stream",
          "text": [
            "old size: 88084\n",
            "New size: 88081\n"
          ],
          "name": "stdout"
        }
      ]
    },
    {
      "cell_type": "markdown",
      "metadata": {
        "_uuid": "d3b9d59dadf093119f7b9078cef20512d92c73e8",
        "id": "wDLlJMLFv20R"
      },
      "source": [
        "- There are 53 record where fare amount is less than 2.5 dollars (most of them are 0.01 dollars except 3 cases of fare between 1 and 2 dollar ) which doesn't make sense as the base fare for any taxi in new york is 2.5 dollars, we will drop those cases"
      ]
    },
    {
      "cell_type": "code",
      "metadata": {
        "_uuid": "9ee78ad43645d0a267df05f6b04da186889a19fb",
        "collapsed": true,
        "jupyter": {
          "outputs_hidden": true
        },
        "trusted": true,
        "id": "IIBDpiEDv20R",
        "outputId": "18986978-5abc-4740-dc53-906c72f461d3",
        "colab": {
          "base_uri": "https://localhost:8080/"
        }
      },
      "source": [
        "train[train['fare_amount'] < 2.5].shape"
      ],
      "execution_count": 25,
      "outputs": [
        {
          "output_type": "execute_result",
          "data": {
            "text/plain": [
              "(1, 19)"
            ]
          },
          "metadata": {
            "tags": []
          },
          "execution_count": 25
        }
      ]
    },
    {
      "cell_type": "code",
      "metadata": {
        "_uuid": "4e59178416c71a4001ecb425db7e11b7a268df97",
        "collapsed": true,
        "jupyter": {
          "outputs_hidden": true
        },
        "trusted": true,
        "id": "0WKO57B1v20R",
        "outputId": "30134254-e8ef-4ba2-d156-af37f42587dc",
        "colab": {
          "base_uri": "https://localhost:8080/"
        }
      },
      "source": [
        "print(\"old size: %d\" % len(train))\n",
        "train = train.drop(index= train[train['fare_amount'] < 2.5].index, axis=0)\n",
        "print(\"New size: %d\" % len(train))"
      ],
      "execution_count": 26,
      "outputs": [
        {
          "output_type": "stream",
          "text": [
            "old size: 88081\n",
            "New size: 88080\n"
          ],
          "name": "stdout"
        }
      ]
    },
    {
      "cell_type": "markdown",
      "metadata": {
        "_uuid": "9aa2b3d0c2960ed9bfe3312db044964715149bf2",
        "id": "HSj_tXC_v20R"
      },
      "source": [
        "- There are stil 6 records left where passanger count is greater than 7\n",
        "- we will delete such cases because we don't  have passanger count greater than 7 in test record"
      ]
    },
    {
      "cell_type": "code",
      "metadata": {
        "_uuid": "9e62d5bd998ef0a7a033e3a3fa181f01a0231b44",
        "collapsed": true,
        "jupyter": {
          "outputs_hidden": true
        },
        "trusted": true,
        "id": "mfpLFckHv20S",
        "outputId": "dd3488bb-2e64-4fc5-e6d2-8008709b6d16",
        "colab": {
          "base_uri": "https://localhost:8080/",
          "height": 67
        }
      },
      "source": [
        "train[train.passenger_count >= 7]"
      ],
      "execution_count": 27,
      "outputs": [
        {
          "output_type": "execute_result",
          "data": {
            "text/html": [
              "<div>\n",
              "<style scoped>\n",
              "    .dataframe tbody tr th:only-of-type {\n",
              "        vertical-align: middle;\n",
              "    }\n",
              "\n",
              "    .dataframe tbody tr th {\n",
              "        vertical-align: top;\n",
              "    }\n",
              "\n",
              "    .dataframe thead th {\n",
              "        text-align: right;\n",
              "    }\n",
              "</style>\n",
              "<table border=\"1\" class=\"dataframe\">\n",
              "  <thead>\n",
              "    <tr style=\"text-align: right;\">\n",
              "      <th></th>\n",
              "      <th>key</th>\n",
              "      <th>fare_amount</th>\n",
              "      <th>pickup_datetime</th>\n",
              "      <th>pickup_longitude</th>\n",
              "      <th>pickup_latitude</th>\n",
              "      <th>dropoff_longitude</th>\n",
              "      <th>dropoff_latitude</th>\n",
              "      <th>passenger_count</th>\n",
              "      <th>hour_of_day</th>\n",
              "      <th>month</th>\n",
              "      <th>year</th>\n",
              "      <th>weekday</th>\n",
              "      <th>distance_miles</th>\n",
              "      <th>pickup_distance_to_jfk</th>\n",
              "      <th>dropoff_distance_to_jfk</th>\n",
              "      <th>pickup_distance_to_ewr</th>\n",
              "      <th>dropoff_distance_to_ewr</th>\n",
              "      <th>pickup_distance_to_lgr</th>\n",
              "      <th>dropoff_distance_to_lgr</th>\n",
              "    </tr>\n",
              "  </thead>\n",
              "  <tbody>\n",
              "  </tbody>\n",
              "</table>\n",
              "</div>"
            ],
            "text/plain": [
              "Empty DataFrame\n",
              "Columns: [key, fare_amount, pickup_datetime, pickup_longitude, pickup_latitude, dropoff_longitude, dropoff_latitude, passenger_count, hour_of_day, month, year, weekday, distance_miles, pickup_distance_to_jfk, dropoff_distance_to_jfk, pickup_distance_to_ewr, dropoff_distance_to_ewr, pickup_distance_to_lgr, dropoff_distance_to_lgr]\n",
              "Index: []"
            ]
          },
          "metadata": {
            "tags": []
          },
          "execution_count": 27
        }
      ]
    },
    {
      "cell_type": "code",
      "metadata": {
        "_uuid": "42e93e96244e9ba9e0cf58f8b8ff62d3e50ca5f2",
        "collapsed": true,
        "jupyter": {
          "outputs_hidden": true
        },
        "trusted": true,
        "id": "x9hrcEgSv20S",
        "outputId": "e52b5266-f20a-4c87-cd24-fc40f5fc2153",
        "colab": {
          "base_uri": "https://localhost:8080/"
        }
      },
      "source": [
        "print(\"old size: %d\" % len(train))\n",
        "train = train.drop(index= train[train.passenger_count >= 7].index, axis=0)\n",
        "print(\"New size: %d\" % len(train))"
      ],
      "execution_count": 28,
      "outputs": [
        {
          "output_type": "stream",
          "text": [
            "old size: 88080\n",
            "New size: 88080\n"
          ],
          "name": "stdout"
        }
      ]
    },
    {
      "cell_type": "code",
      "metadata": {
        "_uuid": "3e46bc4180427d1a32f7a8fa57df7f6e75626418",
        "collapsed": true,
        "jupyter": {
          "outputs_hidden": true
        },
        "trusted": true,
        "id": "4hUXUsoMv20S",
        "outputId": "e2ac4f55-1661-43a0-9816-9deb8c0e0b3f",
        "colab": {
          "base_uri": "https://localhost:8080/",
          "height": 557
        }
      },
      "source": [
        "train.describe().T"
      ],
      "execution_count": 29,
      "outputs": [
        {
          "output_type": "execute_result",
          "data": {
            "text/html": [
              "<div>\n",
              "<style scoped>\n",
              "    .dataframe tbody tr th:only-of-type {\n",
              "        vertical-align: middle;\n",
              "    }\n",
              "\n",
              "    .dataframe tbody tr th {\n",
              "        vertical-align: top;\n",
              "    }\n",
              "\n",
              "    .dataframe thead th {\n",
              "        text-align: right;\n",
              "    }\n",
              "</style>\n",
              "<table border=\"1\" class=\"dataframe\">\n",
              "  <thead>\n",
              "    <tr style=\"text-align: right;\">\n",
              "      <th></th>\n",
              "      <th>count</th>\n",
              "      <th>mean</th>\n",
              "      <th>std</th>\n",
              "      <th>min</th>\n",
              "      <th>25%</th>\n",
              "      <th>50%</th>\n",
              "      <th>75%</th>\n",
              "      <th>max</th>\n",
              "    </tr>\n",
              "  </thead>\n",
              "  <tbody>\n",
              "    <tr>\n",
              "      <th>fare_amount</th>\n",
              "      <td>88080.0</td>\n",
              "      <td>11.329912</td>\n",
              "      <td>9.650315</td>\n",
              "      <td>2.500000</td>\n",
              "      <td>6.000000</td>\n",
              "      <td>8.500000</td>\n",
              "      <td>12.500000</td>\n",
              "      <td>200.000000</td>\n",
              "    </tr>\n",
              "    <tr>\n",
              "      <th>pickup_longitude</th>\n",
              "      <td>88080.0</td>\n",
              "      <td>-73.975013</td>\n",
              "      <td>0.038808</td>\n",
              "      <td>-74.438233</td>\n",
              "      <td>-73.992223</td>\n",
              "      <td>-73.982078</td>\n",
              "      <td>-73.968297</td>\n",
              "      <td>-72.856968</td>\n",
              "    </tr>\n",
              "    <tr>\n",
              "      <th>pickup_latitude</th>\n",
              "      <td>88080.0</td>\n",
              "      <td>40.751202</td>\n",
              "      <td>0.029979</td>\n",
              "      <td>40.500046</td>\n",
              "      <td>40.736626</td>\n",
              "      <td>40.753511</td>\n",
              "      <td>40.767730</td>\n",
              "      <td>41.692428</td>\n",
              "    </tr>\n",
              "    <tr>\n",
              "      <th>dropoff_longitude</th>\n",
              "      <td>88080.0</td>\n",
              "      <td>-73.973965</td>\n",
              "      <td>0.037878</td>\n",
              "      <td>-74.474595</td>\n",
              "      <td>-73.991388</td>\n",
              "      <td>-73.980443</td>\n",
              "      <td>-73.965142</td>\n",
              "      <td>-72.854940</td>\n",
              "    </tr>\n",
              "    <tr>\n",
              "      <th>dropoff_latitude</th>\n",
              "      <td>88080.0</td>\n",
              "      <td>40.751624</td>\n",
              "      <td>0.033120</td>\n",
              "      <td>40.500046</td>\n",
              "      <td>40.735795</td>\n",
              "      <td>40.753990</td>\n",
              "      <td>40.768513</td>\n",
              "      <td>41.714633</td>\n",
              "    </tr>\n",
              "    <tr>\n",
              "      <th>passenger_count</th>\n",
              "      <td>88080.0</td>\n",
              "      <td>1.673422</td>\n",
              "      <td>1.299395</td>\n",
              "      <td>0.000000</td>\n",
              "      <td>1.000000</td>\n",
              "      <td>1.000000</td>\n",
              "      <td>2.000000</td>\n",
              "      <td>6.000000</td>\n",
              "    </tr>\n",
              "    <tr>\n",
              "      <th>hour_of_day</th>\n",
              "      <td>88080.0</td>\n",
              "      <td>13.491281</td>\n",
              "      <td>6.508070</td>\n",
              "      <td>0.000000</td>\n",
              "      <td>9.000000</td>\n",
              "      <td>14.000000</td>\n",
              "      <td>19.000000</td>\n",
              "      <td>23.000000</td>\n",
              "    </tr>\n",
              "    <tr>\n",
              "      <th>month</th>\n",
              "      <td>88080.0</td>\n",
              "      <td>6.262954</td>\n",
              "      <td>3.455554</td>\n",
              "      <td>1.000000</td>\n",
              "      <td>3.000000</td>\n",
              "      <td>6.000000</td>\n",
              "      <td>9.000000</td>\n",
              "      <td>12.000000</td>\n",
              "    </tr>\n",
              "    <tr>\n",
              "      <th>year</th>\n",
              "      <td>88080.0</td>\n",
              "      <td>2011.741133</td>\n",
              "      <td>1.868424</td>\n",
              "      <td>2009.000000</td>\n",
              "      <td>2010.000000</td>\n",
              "      <td>2012.000000</td>\n",
              "      <td>2013.000000</td>\n",
              "      <td>2015.000000</td>\n",
              "    </tr>\n",
              "    <tr>\n",
              "      <th>weekday</th>\n",
              "      <td>88080.0</td>\n",
              "      <td>3.033912</td>\n",
              "      <td>1.951721</td>\n",
              "      <td>0.000000</td>\n",
              "      <td>1.000000</td>\n",
              "      <td>3.000000</td>\n",
              "      <td>5.000000</td>\n",
              "      <td>6.000000</td>\n",
              "    </tr>\n",
              "    <tr>\n",
              "      <th>distance_miles</th>\n",
              "      <td>88080.0</td>\n",
              "      <td>2.073343</td>\n",
              "      <td>2.371664</td>\n",
              "      <td>0.000000</td>\n",
              "      <td>0.780477</td>\n",
              "      <td>1.340584</td>\n",
              "      <td>2.439795</td>\n",
              "      <td>64.644331</td>\n",
              "    </tr>\n",
              "    <tr>\n",
              "      <th>pickup_distance_to_jfk</th>\n",
              "      <td>88080.0</td>\n",
              "      <td>12.971226</td>\n",
              "      <td>2.057880</td>\n",
              "      <td>0.244542</td>\n",
              "      <td>12.777642</td>\n",
              "      <td>13.167773</td>\n",
              "      <td>13.603072</td>\n",
              "      <td>78.602440</td>\n",
              "    </tr>\n",
              "    <tr>\n",
              "      <th>dropoff_distance_to_jfk</th>\n",
              "      <td>88080.0</td>\n",
              "      <td>12.995469</td>\n",
              "      <td>1.916267</td>\n",
              "      <td>0.234589</td>\n",
              "      <td>12.759338</td>\n",
              "      <td>13.167203</td>\n",
              "      <td>13.615825</td>\n",
              "      <td>79.697023</td>\n",
              "    </tr>\n",
              "    <tr>\n",
              "      <th>pickup_distance_to_ewr</th>\n",
              "      <td>88080.0</td>\n",
              "      <td>11.413453</td>\n",
              "      <td>2.334194</td>\n",
              "      <td>0.175065</td>\n",
              "      <td>10.176739</td>\n",
              "      <td>11.080345</td>\n",
              "      <td>12.101202</td>\n",
              "      <td>71.468468</td>\n",
              "    </tr>\n",
              "    <tr>\n",
              "      <th>dropoff_distance_to_ewr</th>\n",
              "      <td>88080.0</td>\n",
              "      <td>11.507993</td>\n",
              "      <td>2.329808</td>\n",
              "      <td>0.172432</td>\n",
              "      <td>10.262739</td>\n",
              "      <td>11.179384</td>\n",
              "      <td>12.320867</td>\n",
              "      <td>71.468468</td>\n",
              "    </tr>\n",
              "    <tr>\n",
              "      <th>pickup_distance_to_lgr</th>\n",
              "      <td>88080.0</td>\n",
              "      <td>6.004377</td>\n",
              "      <td>1.858989</td>\n",
              "      <td>0.160286</td>\n",
              "      <td>5.207180</td>\n",
              "      <td>5.970267</td>\n",
              "      <td>6.839383</td>\n",
              "      <td>68.036300</td>\n",
              "    </tr>\n",
              "    <tr>\n",
              "      <th>dropoff_distance_to_lgr</th>\n",
              "      <td>88080.0</td>\n",
              "      <td>6.008617</td>\n",
              "      <td>1.865005</td>\n",
              "      <td>0.160713</td>\n",
              "      <td>5.169618</td>\n",
              "      <td>5.906355</td>\n",
              "      <td>6.811676</td>\n",
              "      <td>69.154424</td>\n",
              "    </tr>\n",
              "  </tbody>\n",
              "</table>\n",
              "</div>"
            ],
            "text/plain": [
              "                           count         mean  ...          75%          max\n",
              "fare_amount              88080.0    11.329912  ...    12.500000   200.000000\n",
              "pickup_longitude         88080.0   -73.975013  ...   -73.968297   -72.856968\n",
              "pickup_latitude          88080.0    40.751202  ...    40.767730    41.692428\n",
              "dropoff_longitude        88080.0   -73.973965  ...   -73.965142   -72.854940\n",
              "dropoff_latitude         88080.0    40.751624  ...    40.768513    41.714633\n",
              "passenger_count          88080.0     1.673422  ...     2.000000     6.000000\n",
              "hour_of_day              88080.0    13.491281  ...    19.000000    23.000000\n",
              "month                    88080.0     6.262954  ...     9.000000    12.000000\n",
              "year                     88080.0  2011.741133  ...  2013.000000  2015.000000\n",
              "weekday                  88080.0     3.033912  ...     5.000000     6.000000\n",
              "distance_miles           88080.0     2.073343  ...     2.439795    64.644331\n",
              "pickup_distance_to_jfk   88080.0    12.971226  ...    13.603072    78.602440\n",
              "dropoff_distance_to_jfk  88080.0    12.995469  ...    13.615825    79.697023\n",
              "pickup_distance_to_ewr   88080.0    11.413453  ...    12.101202    71.468468\n",
              "dropoff_distance_to_ewr  88080.0    11.507993  ...    12.320867    71.468468\n",
              "pickup_distance_to_lgr   88080.0     6.004377  ...     6.839383    68.036300\n",
              "dropoff_distance_to_lgr  88080.0     6.008617  ...     6.811676    69.154424\n",
              "\n",
              "[17 rows x 8 columns]"
            ]
          },
          "metadata": {
            "tags": []
          },
          "execution_count": 29
        }
      ]
    },
    {
      "cell_type": "markdown",
      "metadata": {
        "_uuid": "5f16781ca94a2d92d4e2263e7fcadae86130e834",
        "trusted": true,
        "id": "2e77evrJv20S"
      },
      "source": [
        "Check the distribution of distance in miles covered for train and test data set"
      ]
    },
    {
      "cell_type": "code",
      "metadata": {
        "_uuid": "623cc507017f44b5df8ea0525db2e7cf9b0fb075",
        "collapsed": true,
        "jupyter": {
          "outputs_hidden": true
        },
        "trusted": true,
        "id": "Bb-_DFliv20T",
        "outputId": "505ae856-2114-4d94-ba4b-69cd3a5d511d",
        "colab": {
          "base_uri": "https://localhost:8080/"
        }
      },
      "source": [
        "#train data set\n",
        "pd.cut(train['distance_miles'],np.linspace(0, 70, num = 8)).value_counts()"
      ],
      "execution_count": 30,
      "outputs": [
        {
          "output_type": "execute_result",
          "data": {
            "text/plain": [
              "(0.0, 10.0]     85301\n",
              "(10.0, 20.0]     1799\n",
              "(20.0, 30.0]       13\n",
              "(60.0, 70.0]       11\n",
              "(50.0, 60.0]        6\n",
              "(40.0, 50.0]        1\n",
              "(30.0, 40.0]        0\n",
              "Name: distance_miles, dtype: int64"
            ]
          },
          "metadata": {
            "tags": []
          },
          "execution_count": 30
        }
      ]
    },
    {
      "cell_type": "code",
      "metadata": {
        "_uuid": "13ac5ae25839efb824a6fd4af3f656d34f35d4b2",
        "collapsed": true,
        "jupyter": {
          "outputs_hidden": true
        },
        "trusted": true,
        "id": "ks7Ofy1iv20T",
        "outputId": "3d0836a0-4c9d-4826-93af-33b37c96333e",
        "colab": {
          "base_uri": "https://localhost:8080/"
        }
      },
      "source": [
        "# test data set\n",
        "pd.cut(test['distance_miles'],np.linspace(0, 70, num = 8)).value_counts()"
      ],
      "execution_count": 31,
      "outputs": [
        {
          "output_type": "execute_result",
          "data": {
            "text/plain": [
              "(0.0, 10.0]     9444\n",
              "(10.0, 20.0]     216\n",
              "(20.0, 30.0]       4\n",
              "(60.0, 70.0]       1\n",
              "(50.0, 60.0]       1\n",
              "(40.0, 50.0]       0\n",
              "(30.0, 40.0]       0\n",
              "Name: distance_miles, dtype: int64"
            ]
          },
          "metadata": {
            "tags": []
          },
          "execution_count": 31
        }
      ]
    },
    {
      "cell_type": "code",
      "metadata": {
        "_uuid": "88d9eca233a37cfcdbd4c92e181a7cee2b4acc73",
        "collapsed": true,
        "jupyter": {
          "outputs_hidden": true
        },
        "trusted": true,
        "id": "G7FSFT4bv20T",
        "outputId": "09f6c306-00f0-411d-dd78-af352619bf96",
        "colab": {
          "base_uri": "https://localhost:8080/"
        }
      },
      "source": [
        "# we will deal with it later \n",
        "fare_100 = train[train.fare_amount > 100]\n",
        "fare_100.shape"
      ],
      "execution_count": 32,
      "outputs": [
        {
          "output_type": "execute_result",
          "data": {
            "text/plain": [
              "(33, 19)"
            ]
          },
          "metadata": {
            "tags": []
          },
          "execution_count": 32
        }
      ]
    },
    {
      "cell_type": "markdown",
      "metadata": {
        "_uuid": "c74621fadabefc4e0a3389cbfe53de4e10ecf12a",
        "id": "rGsklZkov20T"
      },
      "source": [
        "**There are 1669 records where fare amount is higher than 100 dollars**\n",
        "   - I also see than 527 records are such where distance covered  is even less than 1 miles\n",
        "   - While researching through few websites (https://www.introducingnewyork.com/taxis,  https://www.taxi-calculator.com/taxi-rate-new-york-city/259) i got to know that if taxi waits for passanger additional $30 dollars per hour will be charged depending on the location of the pickup.\n",
        "   - Since we don't have such variable where we can get to know the waiting time, we can drop such cases where distance is very less in copare to fare amount charged for the ride"
      ]
    },
    {
      "cell_type": "code",
      "metadata": {
        "_uuid": "2dea71bfa1dd4484fec77f99c682abcc601cb2ac",
        "collapsed": true,
        "jupyter": {
          "outputs_hidden": true
        },
        "trusted": true,
        "id": "_cck_UvEv20U",
        "outputId": "a33ddb60-501a-4d25-fbc2-24dbd82a5185",
        "colab": {
          "base_uri": "https://localhost:8080/"
        }
      },
      "source": [
        "fare_100[fare_100.distance_miles <1].shape"
      ],
      "execution_count": 33,
      "outputs": [
        {
          "output_type": "execute_result",
          "data": {
            "text/plain": [
              "(18, 19)"
            ]
          },
          "metadata": {
            "tags": []
          },
          "execution_count": 33
        }
      ]
    },
    {
      "cell_type": "code",
      "metadata": {
        "_uuid": "27cea2824aa519aaa6adc448a13e84bbb2c5d9f8",
        "collapsed": true,
        "jupyter": {
          "outputs_hidden": true
        },
        "trusted": true,
        "id": "gZzGfIyBv20U"
      },
      "source": [
        "# #dropping cases where fare is above 100 dollars and distance is less than 1 miles\n",
        "# print(\"old size: %d\" % len(train))\n",
        "# train = train.drop(index= train[(train.distance_miles <1) & (train.fare_amount > 100)].index, axis=0)\n",
        "# print(\"New size: %d\" % len(train))"
      ],
      "execution_count": 34,
      "outputs": []
    },
    {
      "cell_type": "code",
      "metadata": {
        "_uuid": "ca8138ee0a980e520807f04a29b252c619ba27f5",
        "collapsed": true,
        "jupyter": {
          "outputs_hidden": true
        },
        "trusted": true,
        "id": "PIb_0HXMv20U",
        "outputId": "854a2b79-9516-40f9-c16b-ab6edc49f7e6",
        "colab": {
          "base_uri": "https://localhost:8080/"
        }
      },
      "source": [
        "train.columns"
      ],
      "execution_count": 35,
      "outputs": [
        {
          "output_type": "execute_result",
          "data": {
            "text/plain": [
              "Index(['key', 'fare_amount', 'pickup_datetime', 'pickup_longitude',\n",
              "       'pickup_latitude', 'dropoff_longitude', 'dropoff_latitude',\n",
              "       'passenger_count', 'hour_of_day', 'month', 'year', 'weekday',\n",
              "       'distance_miles', 'pickup_distance_to_jfk', 'dropoff_distance_to_jfk',\n",
              "       'pickup_distance_to_ewr', 'dropoff_distance_to_ewr',\n",
              "       'pickup_distance_to_lgr', 'dropoff_distance_to_lgr'],\n",
              "      dtype='object')"
            ]
          },
          "metadata": {
            "tags": []
          },
          "execution_count": 35
        }
      ]
    },
    {
      "cell_type": "code",
      "metadata": {
        "_uuid": "24705aae32ed9d27f52b44ad2c1f6da04ec78ff8",
        "collapsed": true,
        "jupyter": {
          "outputs_hidden": true
        },
        "trusted": true,
        "id": "VZ0BTByzv20U",
        "outputId": "931e2e56-36d4-4d82-bc50-061c98abc4e2",
        "colab": {
          "base_uri": "https://localhost:8080/"
        }
      },
      "source": [
        "# create copy of the data set\n",
        "df_train = train.drop(columns= ['key','pickup_datetime'], axis= 1).copy()\n",
        "df_test = test.drop(columns= ['key','pickup_datetime'], axis= 1).copy()\n",
        "print(df_train.shape)\n",
        "print(df_test.shape)"
      ],
      "execution_count": 36,
      "outputs": [
        {
          "output_type": "stream",
          "text": [
            "(88080, 17)\n",
            "(9999, 17)\n"
          ],
          "name": "stdout"
        }
      ]
    },
    {
      "cell_type": "markdown",
      "metadata": {
        "_uuid": "d04cbf2738a6037c9e3a70559a4f7c57ca49fbe3",
        "id": "9Wk24AS6v20V"
      },
      "source": [
        "### Train Test Split"
      ]
    },
    {
      "cell_type": "code",
      "metadata": {
        "_uuid": "a9df46bdc14971057fab6d4d5934e684150ba291",
        "collapsed": true,
        "jupyter": {
          "outputs_hidden": true
        },
        "trusted": true,
        "id": "kQym786yv20V",
        "outputId": "88fa031d-3e58-4894-c538-4ca4002531a8",
        "colab": {
          "base_uri": "https://localhost:8080/"
        }
      },
      "source": [
        "from sklearn.model_selection import train_test_split \n",
        "X_train, X_test, y_train, y_test = train_test_split(df_train.drop('fare_amount', axis=1),\n",
        "                                                    df_train['fare_amount'], test_size=0.2, random_state = 42)\n",
        "print(X_train.shape)\n",
        "print(X_test.shape)\n",
        "print(y_train.shape)\n",
        "print(y_test.shape)"
      ],
      "execution_count": 37,
      "outputs": [
        {
          "output_type": "stream",
          "text": [
            "(70464, 16)\n",
            "(17616, 16)\n",
            "(70464,)\n",
            "(17616,)\n"
          ],
          "name": "stdout"
        }
      ]
    },
    {
      "cell_type": "markdown",
      "metadata": {
        "_uuid": "e6c279d4608c872e5b117d36f2effea8cda13c91",
        "id": "9fZOl4fIv20V"
      },
      "source": [
        "## XG Boost Model"
      ]
    },
    {
      "cell_type": "code",
      "metadata": {
        "_uuid": "3c4e0591b54a2b81bf7f0796d51bf0d86e653275",
        "collapsed": true,
        "jupyter": {
          "outputs_hidden": true
        },
        "trusted": true,
        "id": "BkU5hrX3v20V"
      },
      "source": [
        "import xgboost as xgb"
      ],
      "execution_count": 38,
      "outputs": []
    },
    {
      "cell_type": "code",
      "metadata": {
        "_uuid": "93c66fc57f1f79f893904c1ee91aed6d186231b2",
        "collapsed": true,
        "jupyter": {
          "outputs_hidden": true
        },
        "trusted": true,
        "id": "IE6cw6r7v20V"
      },
      "source": [
        "params = {\n",
        "   \n",
        "    'max_depth': 7,\n",
        "    'gamma' :0,\n",
        "    'eta':.03, \n",
        "    'subsample': 1,\n",
        "    'colsample_bytree': 0.9, \n",
        "    'objective':'reg:linear',\n",
        "    'eval_metric':'rmse',\n",
        "    'silent': 0\n",
        "}"
      ],
      "execution_count": 39,
      "outputs": []
    },
    {
      "cell_type": "code",
      "metadata": {
        "_uuid": "c11240bb87cffedb48f1e9a8c484ab4d0a0181d6",
        "collapsed": true,
        "jupyter": {
          "outputs_hidden": true
        },
        "trusted": true,
        "id": "5T6gMlDGv20W",
        "outputId": "0bbe8454-9bdf-4289-b384-448d67efcf06",
        "colab": {
          "base_uri": "https://localhost:8080/"
        }
      },
      "source": [
        "def XGBmodel(X_train,X_test,y_train,y_test,params):\n",
        "    matrix_train = xgb.DMatrix(X_train,label=y_train)\n",
        "    matrix_test = xgb.DMatrix(X_test,label=y_test)\n",
        "    model=xgb.train(params=params,\n",
        "                    dtrain=matrix_train,num_boost_round=5000, \n",
        "                    early_stopping_rounds=10,evals=[(matrix_test,'test')])\n",
        "    return model\n",
        "\n",
        "model = XGBmodel(X_train,X_test,y_train,y_test,params)"
      ],
      "execution_count": 40,
      "outputs": [
        {
          "output_type": "stream",
          "text": [
            "[22:58:48] WARNING: /workspace/src/objective/regression_obj.cu:152: reg:linear is now deprecated in favor of reg:squarederror.\n",
            "[0]\ttest-rmse:13.8699\n",
            "Will train until test-rmse hasn't improved in 10 rounds.\n",
            "[1]\ttest-rmse:13.4932\n",
            "[2]\ttest-rmse:13.1513\n",
            "[3]\ttest-rmse:12.7982\n",
            "[4]\ttest-rmse:12.4552\n",
            "[5]\ttest-rmse:12.1242\n",
            "[6]\ttest-rmse:11.8059\n",
            "[7]\ttest-rmse:11.4987\n",
            "[8]\ttest-rmse:11.2004\n",
            "[9]\ttest-rmse:10.9134\n",
            "[10]\ttest-rmse:10.6533\n",
            "[11]\ttest-rmse:10.3839\n",
            "[12]\ttest-rmse:10.1239\n",
            "[13]\ttest-rmse:9.86878\n",
            "[14]\ttest-rmse:9.62576\n",
            "[15]\ttest-rmse:9.39145\n",
            "[16]\ttest-rmse:9.16612\n",
            "[17]\ttest-rmse:8.94926\n",
            "[18]\ttest-rmse:8.73785\n",
            "[19]\ttest-rmse:8.53649\n",
            "[20]\ttest-rmse:8.34098\n",
            "[21]\ttest-rmse:8.15204\n",
            "[22]\ttest-rmse:7.98297\n",
            "[23]\ttest-rmse:7.80668\n",
            "[24]\ttest-rmse:7.63635\n",
            "[25]\ttest-rmse:7.4719\n",
            "[26]\ttest-rmse:7.3165\n",
            "[27]\ttest-rmse:7.16646\n",
            "[28]\ttest-rmse:7.02236\n",
            "[29]\ttest-rmse:6.88225\n",
            "[30]\ttest-rmse:6.7497\n",
            "[31]\ttest-rmse:6.6224\n",
            "[32]\ttest-rmse:6.50028\n",
            "[33]\ttest-rmse:6.37916\n",
            "[34]\ttest-rmse:6.26743\n",
            "[35]\ttest-rmse:6.16525\n",
            "[36]\ttest-rmse:6.06023\n",
            "[37]\ttest-rmse:5.95892\n",
            "[38]\ttest-rmse:5.86247\n",
            "[39]\ttest-rmse:5.76955\n",
            "[40]\ttest-rmse:5.68174\n",
            "[41]\ttest-rmse:5.59518\n",
            "[42]\ttest-rmse:5.51521\n",
            "[43]\ttest-rmse:5.43755\n",
            "[44]\ttest-rmse:5.36364\n",
            "[45]\ttest-rmse:5.29476\n",
            "[46]\ttest-rmse:5.22778\n",
            "[47]\ttest-rmse:5.16305\n",
            "[48]\ttest-rmse:5.10096\n",
            "[49]\ttest-rmse:5.04295\n",
            "[50]\ttest-rmse:4.98695\n",
            "[51]\ttest-rmse:4.93426\n",
            "[52]\ttest-rmse:4.88346\n",
            "[53]\ttest-rmse:4.83393\n",
            "[54]\ttest-rmse:4.7863\n",
            "[55]\ttest-rmse:4.74137\n",
            "[56]\ttest-rmse:4.69874\n",
            "[57]\ttest-rmse:4.65956\n",
            "[58]\ttest-rmse:4.62094\n",
            "[59]\ttest-rmse:4.58265\n",
            "[60]\ttest-rmse:4.54638\n",
            "[61]\ttest-rmse:4.51297\n",
            "[62]\ttest-rmse:4.48083\n",
            "[63]\ttest-rmse:4.45175\n",
            "[64]\ttest-rmse:4.42571\n",
            "[65]\ttest-rmse:4.39959\n",
            "[66]\ttest-rmse:4.37231\n",
            "[67]\ttest-rmse:4.34683\n",
            "[68]\ttest-rmse:4.32157\n",
            "[69]\ttest-rmse:4.29855\n",
            "[70]\ttest-rmse:4.27831\n",
            "[71]\ttest-rmse:4.25772\n",
            "[72]\ttest-rmse:4.23767\n",
            "[73]\ttest-rmse:4.21998\n",
            "[74]\ttest-rmse:4.20231\n",
            "[75]\ttest-rmse:4.18544\n",
            "[76]\ttest-rmse:4.16933\n",
            "[77]\ttest-rmse:4.15485\n",
            "[78]\ttest-rmse:4.14008\n",
            "[79]\ttest-rmse:4.1267\n",
            "[80]\ttest-rmse:4.11437\n",
            "[81]\ttest-rmse:4.1013\n",
            "[82]\ttest-rmse:4.09038\n",
            "[83]\ttest-rmse:4.08045\n",
            "[84]\ttest-rmse:4.06907\n",
            "[85]\ttest-rmse:4.05914\n",
            "[86]\ttest-rmse:4.04887\n",
            "[87]\ttest-rmse:4.03961\n",
            "[88]\ttest-rmse:4.03148\n",
            "[89]\ttest-rmse:4.02475\n",
            "[90]\ttest-rmse:4.01612\n",
            "[91]\ttest-rmse:4.009\n",
            "[92]\ttest-rmse:4.00064\n",
            "[93]\ttest-rmse:3.99293\n",
            "[94]\ttest-rmse:3.98545\n",
            "[95]\ttest-rmse:3.98051\n",
            "[96]\ttest-rmse:3.97455\n",
            "[97]\ttest-rmse:3.96843\n",
            "[98]\ttest-rmse:3.96292\n",
            "[99]\ttest-rmse:3.95755\n",
            "[100]\ttest-rmse:3.9519\n",
            "[101]\ttest-rmse:3.94638\n",
            "[102]\ttest-rmse:3.94191\n",
            "[103]\ttest-rmse:3.9377\n",
            "[104]\ttest-rmse:3.9348\n",
            "[105]\ttest-rmse:3.93038\n",
            "[106]\ttest-rmse:3.92663\n",
            "[107]\ttest-rmse:3.92148\n",
            "[108]\ttest-rmse:3.91785\n",
            "[109]\ttest-rmse:3.91359\n",
            "[110]\ttest-rmse:3.91036\n",
            "[111]\ttest-rmse:3.90814\n",
            "[112]\ttest-rmse:3.90479\n",
            "[113]\ttest-rmse:3.90138\n",
            "[114]\ttest-rmse:3.89954\n",
            "[115]\ttest-rmse:3.89776\n",
            "[116]\ttest-rmse:3.89582\n",
            "[117]\ttest-rmse:3.89319\n",
            "[118]\ttest-rmse:3.89061\n",
            "[119]\ttest-rmse:3.88785\n",
            "[120]\ttest-rmse:3.88709\n",
            "[121]\ttest-rmse:3.88578\n",
            "[122]\ttest-rmse:3.88329\n",
            "[123]\ttest-rmse:3.88155\n",
            "[124]\ttest-rmse:3.88043\n",
            "[125]\ttest-rmse:3.87849\n",
            "[126]\ttest-rmse:3.87661\n",
            "[127]\ttest-rmse:3.87464\n",
            "[128]\ttest-rmse:3.87453\n",
            "[129]\ttest-rmse:3.87309\n",
            "[130]\ttest-rmse:3.87133\n",
            "[131]\ttest-rmse:3.87069\n",
            "[132]\ttest-rmse:3.868\n",
            "[133]\ttest-rmse:3.86651\n",
            "[134]\ttest-rmse:3.8663\n",
            "[135]\ttest-rmse:3.86517\n",
            "[136]\ttest-rmse:3.86351\n",
            "[137]\ttest-rmse:3.86337\n",
            "[138]\ttest-rmse:3.8624\n",
            "[139]\ttest-rmse:3.86317\n",
            "[140]\ttest-rmse:3.86167\n",
            "[141]\ttest-rmse:3.86054\n",
            "[142]\ttest-rmse:3.85804\n",
            "[143]\ttest-rmse:3.85645\n",
            "[144]\ttest-rmse:3.85623\n",
            "[145]\ttest-rmse:3.85502\n",
            "[146]\ttest-rmse:3.85489\n",
            "[147]\ttest-rmse:3.85484\n",
            "[148]\ttest-rmse:3.85421\n",
            "[149]\ttest-rmse:3.85389\n",
            "[150]\ttest-rmse:3.85412\n",
            "[151]\ttest-rmse:3.85423\n",
            "[152]\ttest-rmse:3.85437\n",
            "[153]\ttest-rmse:3.85321\n",
            "[154]\ttest-rmse:3.85256\n",
            "[155]\ttest-rmse:3.85062\n",
            "[156]\ttest-rmse:3.84929\n",
            "[157]\ttest-rmse:3.84958\n",
            "[158]\ttest-rmse:3.84774\n",
            "[159]\ttest-rmse:3.84715\n",
            "[160]\ttest-rmse:3.84693\n",
            "[161]\ttest-rmse:3.84734\n",
            "[162]\ttest-rmse:3.84705\n",
            "[163]\ttest-rmse:3.84634\n",
            "[164]\ttest-rmse:3.84544\n",
            "[165]\ttest-rmse:3.84539\n",
            "[166]\ttest-rmse:3.84456\n",
            "[167]\ttest-rmse:3.84344\n",
            "[168]\ttest-rmse:3.84308\n",
            "[169]\ttest-rmse:3.84158\n",
            "[170]\ttest-rmse:3.84058\n",
            "[171]\ttest-rmse:3.84085\n",
            "[172]\ttest-rmse:3.83885\n",
            "[173]\ttest-rmse:3.83862\n",
            "[174]\ttest-rmse:3.83905\n",
            "[175]\ttest-rmse:3.8388\n",
            "[176]\ttest-rmse:3.83705\n",
            "[177]\ttest-rmse:3.83542\n",
            "[178]\ttest-rmse:3.83526\n",
            "[179]\ttest-rmse:3.83498\n",
            "[180]\ttest-rmse:3.83503\n",
            "[181]\ttest-rmse:3.83496\n",
            "[182]\ttest-rmse:3.83493\n",
            "[183]\ttest-rmse:3.83409\n",
            "[184]\ttest-rmse:3.8311\n",
            "[185]\ttest-rmse:3.83133\n",
            "[186]\ttest-rmse:3.83162\n",
            "[187]\ttest-rmse:3.83151\n",
            "[188]\ttest-rmse:3.83073\n",
            "[189]\ttest-rmse:3.83065\n",
            "[190]\ttest-rmse:3.82888\n",
            "[191]\ttest-rmse:3.82852\n",
            "[192]\ttest-rmse:3.82621\n",
            "[193]\ttest-rmse:3.82642\n",
            "[194]\ttest-rmse:3.82618\n",
            "[195]\ttest-rmse:3.8252\n",
            "[196]\ttest-rmse:3.82471\n",
            "[197]\ttest-rmse:3.82292\n",
            "[198]\ttest-rmse:3.82244\n",
            "[199]\ttest-rmse:3.82198\n",
            "[200]\ttest-rmse:3.82105\n",
            "[201]\ttest-rmse:3.81985\n",
            "[202]\ttest-rmse:3.8196\n",
            "[203]\ttest-rmse:3.81696\n",
            "[204]\ttest-rmse:3.81685\n",
            "[205]\ttest-rmse:3.81682\n",
            "[206]\ttest-rmse:3.81659\n",
            "[207]\ttest-rmse:3.81613\n",
            "[208]\ttest-rmse:3.81592\n",
            "[209]\ttest-rmse:3.81533\n",
            "[210]\ttest-rmse:3.81419\n",
            "[211]\ttest-rmse:3.81367\n",
            "[212]\ttest-rmse:3.81327\n",
            "[213]\ttest-rmse:3.81073\n",
            "[214]\ttest-rmse:3.81003\n",
            "[215]\ttest-rmse:3.80996\n",
            "[216]\ttest-rmse:3.81004\n",
            "[217]\ttest-rmse:3.80769\n",
            "[218]\ttest-rmse:3.80724\n",
            "[219]\ttest-rmse:3.80609\n",
            "[220]\ttest-rmse:3.80609\n",
            "[221]\ttest-rmse:3.80621\n",
            "[222]\ttest-rmse:3.8061\n",
            "[223]\ttest-rmse:3.80417\n",
            "[224]\ttest-rmse:3.80389\n",
            "[225]\ttest-rmse:3.80399\n",
            "[226]\ttest-rmse:3.80371\n",
            "[227]\ttest-rmse:3.80397\n",
            "[228]\ttest-rmse:3.80432\n",
            "[229]\ttest-rmse:3.80253\n",
            "[230]\ttest-rmse:3.80097\n",
            "[231]\ttest-rmse:3.80049\n",
            "[232]\ttest-rmse:3.80078\n",
            "[233]\ttest-rmse:3.80025\n",
            "[234]\ttest-rmse:3.79882\n",
            "[235]\ttest-rmse:3.79849\n",
            "[236]\ttest-rmse:3.79841\n",
            "[237]\ttest-rmse:3.79826\n",
            "[238]\ttest-rmse:3.79806\n",
            "[239]\ttest-rmse:3.79753\n",
            "[240]\ttest-rmse:3.79786\n",
            "[241]\ttest-rmse:3.79763\n",
            "[242]\ttest-rmse:3.79616\n",
            "[243]\ttest-rmse:3.79584\n",
            "[244]\ttest-rmse:3.79463\n",
            "[245]\ttest-rmse:3.79433\n",
            "[246]\ttest-rmse:3.79382\n",
            "[247]\ttest-rmse:3.79388\n",
            "[248]\ttest-rmse:3.79403\n",
            "[249]\ttest-rmse:3.7936\n",
            "[250]\ttest-rmse:3.79345\n",
            "[251]\ttest-rmse:3.79332\n",
            "[252]\ttest-rmse:3.79211\n",
            "[253]\ttest-rmse:3.79158\n",
            "[254]\ttest-rmse:3.79125\n",
            "[255]\ttest-rmse:3.79095\n",
            "[256]\ttest-rmse:3.78935\n",
            "[257]\ttest-rmse:3.78864\n",
            "[258]\ttest-rmse:3.78776\n",
            "[259]\ttest-rmse:3.7875\n",
            "[260]\ttest-rmse:3.78719\n",
            "[261]\ttest-rmse:3.7871\n",
            "[262]\ttest-rmse:3.78665\n",
            "[263]\ttest-rmse:3.78624\n",
            "[264]\ttest-rmse:3.78543\n",
            "[265]\ttest-rmse:3.78504\n",
            "[266]\ttest-rmse:3.78417\n",
            "[267]\ttest-rmse:3.78407\n",
            "[268]\ttest-rmse:3.78353\n",
            "[269]\ttest-rmse:3.78376\n",
            "[270]\ttest-rmse:3.78296\n",
            "[271]\ttest-rmse:3.78307\n",
            "[272]\ttest-rmse:3.78308\n",
            "[273]\ttest-rmse:3.78261\n",
            "[274]\ttest-rmse:3.78283\n",
            "[275]\ttest-rmse:3.78303\n",
            "[276]\ttest-rmse:3.78212\n",
            "[277]\ttest-rmse:3.78207\n",
            "[278]\ttest-rmse:3.78156\n",
            "[279]\ttest-rmse:3.7816\n",
            "[280]\ttest-rmse:3.78162\n",
            "[281]\ttest-rmse:3.78161\n",
            "[282]\ttest-rmse:3.78059\n",
            "[283]\ttest-rmse:3.78063\n",
            "[284]\ttest-rmse:3.78065\n",
            "[285]\ttest-rmse:3.78084\n",
            "[286]\ttest-rmse:3.78015\n",
            "[287]\ttest-rmse:3.77931\n",
            "[288]\ttest-rmse:3.77862\n",
            "[289]\ttest-rmse:3.77835\n",
            "[290]\ttest-rmse:3.77812\n",
            "[291]\ttest-rmse:3.778\n",
            "[292]\ttest-rmse:3.77718\n",
            "[293]\ttest-rmse:3.77726\n",
            "[294]\ttest-rmse:3.77724\n",
            "[295]\ttest-rmse:3.77732\n",
            "[296]\ttest-rmse:3.77749\n",
            "[297]\ttest-rmse:3.77701\n",
            "[298]\ttest-rmse:3.77709\n",
            "[299]\ttest-rmse:3.7772\n",
            "[300]\ttest-rmse:3.77636\n",
            "[301]\ttest-rmse:3.77613\n",
            "[302]\ttest-rmse:3.77623\n",
            "[303]\ttest-rmse:3.7754\n",
            "[304]\ttest-rmse:3.77516\n",
            "[305]\ttest-rmse:3.77455\n",
            "[306]\ttest-rmse:3.77422\n",
            "[307]\ttest-rmse:3.77407\n",
            "[308]\ttest-rmse:3.77398\n",
            "[309]\ttest-rmse:3.77384\n",
            "[310]\ttest-rmse:3.77319\n",
            "[311]\ttest-rmse:3.77291\n",
            "[312]\ttest-rmse:3.77294\n",
            "[313]\ttest-rmse:3.7728\n",
            "[314]\ttest-rmse:3.77322\n",
            "[315]\ttest-rmse:3.77315\n",
            "[316]\ttest-rmse:3.77292\n",
            "[317]\ttest-rmse:3.7728\n",
            "[318]\ttest-rmse:3.77244\n",
            "[319]\ttest-rmse:3.77236\n",
            "[320]\ttest-rmse:3.77203\n",
            "[321]\ttest-rmse:3.77195\n",
            "[322]\ttest-rmse:3.77178\n",
            "[323]\ttest-rmse:3.77135\n",
            "[324]\ttest-rmse:3.77117\n",
            "[325]\ttest-rmse:3.77035\n",
            "[326]\ttest-rmse:3.77011\n",
            "[327]\ttest-rmse:3.77017\n",
            "[328]\ttest-rmse:3.77029\n",
            "[329]\ttest-rmse:3.77011\n",
            "[330]\ttest-rmse:3.76994\n",
            "[331]\ttest-rmse:3.76962\n",
            "[332]\ttest-rmse:3.76938\n",
            "[333]\ttest-rmse:3.7696\n",
            "[334]\ttest-rmse:3.76942\n",
            "[335]\ttest-rmse:3.76919\n",
            "[336]\ttest-rmse:3.76922\n",
            "[337]\ttest-rmse:3.76916\n",
            "[338]\ttest-rmse:3.76926\n",
            "[339]\ttest-rmse:3.76885\n",
            "[340]\ttest-rmse:3.76818\n",
            "[341]\ttest-rmse:3.76805\n",
            "[342]\ttest-rmse:3.76778\n",
            "[343]\ttest-rmse:3.76777\n",
            "[344]\ttest-rmse:3.76767\n",
            "[345]\ttest-rmse:3.76797\n",
            "[346]\ttest-rmse:3.76784\n",
            "[347]\ttest-rmse:3.7675\n",
            "[348]\ttest-rmse:3.76743\n",
            "[349]\ttest-rmse:3.76722\n",
            "[350]\ttest-rmse:3.76723\n",
            "[351]\ttest-rmse:3.7667\n",
            "[352]\ttest-rmse:3.76671\n",
            "[353]\ttest-rmse:3.76627\n",
            "[354]\ttest-rmse:3.76622\n",
            "[355]\ttest-rmse:3.76667\n",
            "[356]\ttest-rmse:3.76574\n",
            "[357]\ttest-rmse:3.76543\n",
            "[358]\ttest-rmse:3.76521\n",
            "[359]\ttest-rmse:3.76489\n",
            "[360]\ttest-rmse:3.76487\n",
            "[361]\ttest-rmse:3.76464\n",
            "[362]\ttest-rmse:3.76423\n",
            "[363]\ttest-rmse:3.7642\n",
            "[364]\ttest-rmse:3.76377\n",
            "[365]\ttest-rmse:3.76339\n",
            "[366]\ttest-rmse:3.76341\n",
            "[367]\ttest-rmse:3.76316\n",
            "[368]\ttest-rmse:3.76308\n",
            "[369]\ttest-rmse:3.76272\n",
            "[370]\ttest-rmse:3.76323\n",
            "[371]\ttest-rmse:3.76321\n",
            "[372]\ttest-rmse:3.76336\n",
            "[373]\ttest-rmse:3.76353\n",
            "[374]\ttest-rmse:3.76283\n",
            "[375]\ttest-rmse:3.76236\n",
            "[376]\ttest-rmse:3.76246\n",
            "[377]\ttest-rmse:3.76165\n",
            "[378]\ttest-rmse:3.7616\n",
            "[379]\ttest-rmse:3.76112\n",
            "[380]\ttest-rmse:3.76102\n",
            "[381]\ttest-rmse:3.76065\n",
            "[382]\ttest-rmse:3.76084\n",
            "[383]\ttest-rmse:3.76061\n",
            "[384]\ttest-rmse:3.75986\n",
            "[385]\ttest-rmse:3.7595\n",
            "[386]\ttest-rmse:3.75917\n",
            "[387]\ttest-rmse:3.75887\n",
            "[388]\ttest-rmse:3.75919\n",
            "[389]\ttest-rmse:3.7593\n",
            "[390]\ttest-rmse:3.75956\n",
            "[391]\ttest-rmse:3.75914\n",
            "[392]\ttest-rmse:3.7591\n",
            "[393]\ttest-rmse:3.75927\n",
            "[394]\ttest-rmse:3.75898\n",
            "[395]\ttest-rmse:3.75879\n",
            "[396]\ttest-rmse:3.75891\n",
            "[397]\ttest-rmse:3.75949\n",
            "[398]\ttest-rmse:3.75952\n",
            "[399]\ttest-rmse:3.75937\n",
            "[400]\ttest-rmse:3.75945\n",
            "[401]\ttest-rmse:3.75958\n",
            "[402]\ttest-rmse:3.75969\n",
            "[403]\ttest-rmse:3.75954\n",
            "[404]\ttest-rmse:3.7594\n",
            "[405]\ttest-rmse:3.75936\n",
            "Stopping. Best iteration:\n",
            "[395]\ttest-rmse:3.75879\n",
            "\n"
          ],
          "name": "stdout"
        }
      ]
    },
    {
      "cell_type": "code",
      "metadata": {
        "_uuid": "a149850d2077c7bf6edcacccb1ea421a52fa1291",
        "collapsed": true,
        "jupyter": {
          "outputs_hidden": true
        },
        "trusted": true,
        "id": "WA1Tr0kpv20W"
      },
      "source": [
        "df_test = df_test.drop(columns=['fare_amount'])\n",
        "prediction = model.predict(xgb.DMatrix(df_test), ntree_limit = model.best_ntree_limit).tolist()"
      ],
      "execution_count": 41,
      "outputs": []
    },
    {
      "cell_type": "code",
      "metadata": {
        "id": "Oq7W61cZO0vk",
        "outputId": "d35583a5-0a4a-4773-cceb-0be357d28606",
        "colab": {
          "base_uri": "https://localhost:8080/"
        }
      },
      "source": [
        "df_test.columns"
      ],
      "execution_count": 42,
      "outputs": [
        {
          "output_type": "execute_result",
          "data": {
            "text/plain": [
              "Index(['pickup_longitude', 'pickup_latitude', 'dropoff_longitude',\n",
              "       'dropoff_latitude', 'passenger_count', 'hour_of_day', 'month', 'year',\n",
              "       'weekday', 'distance_miles', 'pickup_distance_to_jfk',\n",
              "       'dropoff_distance_to_jfk', 'pickup_distance_to_ewr',\n",
              "       'dropoff_distance_to_ewr', 'pickup_distance_to_lgr',\n",
              "       'dropoff_distance_to_lgr'],\n",
              "      dtype='object')"
            ]
          },
          "metadata": {
            "tags": []
          },
          "execution_count": 42
        }
      ]
    },
    {
      "cell_type": "code",
      "metadata": {
        "id": "ZKy9SL_zO46b",
        "outputId": "d3b48b99-cb2b-4970-d1d3-de31df7a55d9",
        "colab": {
          "base_uri": "https://localhost:8080/"
        }
      },
      "source": [
        "df_train.columns"
      ],
      "execution_count": 43,
      "outputs": [
        {
          "output_type": "execute_result",
          "data": {
            "text/plain": [
              "Index(['fare_amount', 'pickup_longitude', 'pickup_latitude',\n",
              "       'dropoff_longitude', 'dropoff_latitude', 'passenger_count',\n",
              "       'hour_of_day', 'month', 'year', 'weekday', 'distance_miles',\n",
              "       'pickup_distance_to_jfk', 'dropoff_distance_to_jfk',\n",
              "       'pickup_distance_to_ewr', 'dropoff_distance_to_ewr',\n",
              "       'pickup_distance_to_lgr', 'dropoff_distance_to_lgr'],\n",
              "      dtype='object')"
            ]
          },
          "metadata": {
            "tags": []
          },
          "execution_count": 43
        }
      ]
    },
    {
      "cell_type": "code",
      "metadata": {
        "_uuid": "487f35bae4521b3c626515e14eddf4a259b9372c",
        "collapsed": true,
        "jupyter": {
          "outputs_hidden": true
        },
        "trusted": true,
        "id": "N5TyE6LHv20W",
        "outputId": "29470259-cba7-4678-b209-b23c902744bc",
        "colab": {
          "base_uri": "https://localhost:8080/",
          "height": 392
        }
      },
      "source": [
        "import matplotlib.pyplot as plt\n",
        "fscores = pd.DataFrame({'X': list(model.get_fscore().keys()), 'Y': list(model.get_fscore().values())})\n",
        "fscores.sort_values(by='Y').plot.bar(x='X')"
      ],
      "execution_count": 44,
      "outputs": [
        {
          "output_type": "execute_result",
          "data": {
            "text/plain": [
              "<matplotlib.axes._subplots.AxesSubplot at 0x7f711d1b8390>"
            ]
          },
          "metadata": {
            "tags": []
          },
          "execution_count": 44
        },
        {
          "output_type": "display_data",
          "data": {
            "image/png": "[encoded data removed]",
            "text/plain": [
              "<Figure size 432x288 with 1 Axes>"
            ]
          },
          "metadata": {
            "tags": [],
            "needs_background": "light"
          }
        }
      ]
    },
    {
      "cell_type": "markdown",
      "metadata": {
        "_uuid": "fed210ee54d19cbdd181456b00e1b6ffbe2c2099",
        "id": "XVy4ZuUBv20W"
      },
      "source": [
        "## Stay Tuned,  Hyperparameter tuning coming soon"
      ]
    }
  ]
}