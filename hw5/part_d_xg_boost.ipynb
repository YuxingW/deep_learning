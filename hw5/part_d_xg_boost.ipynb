{
  "nbformat": 4,
  "nbformat_minor": 0,
  "metadata": {
    "kernelspec": {
      "display_name": "Python 3",
      "language": "python",
      "name": "python3"
    },
    "language_info": {
      "name": "python",
      "version": "3.6.4",
      "mimetype": "text/x-python",
      "codemirror_mode": {
        "name": "ipython",
        "version": 3
      },
      "pygments_lexer": "ipython3",
      "nbconvert_exporter": "python",
      "file_extension": ".py"
    },
    "colab": {
      "name": "eda-data-cleaning-xg-boost.ipynb",
      "provenance": [],
      "toc_visible": true,
      "include_colab_link": true
    }
  },
  "cells": [
    {
      "cell_type": "markdown",
      "metadata": {
        "id": "view-in-github",
        "colab_type": "text"
      },
      "source": [
        "<a href=\"https://colab.research.google.com/github/YuxingW/deep_learning/blob/main/hw5/e2e_xg_boost.ipynb\" target=\"_parent\"><img src=\"https://colab.research.google.com/assets/colab-badge.svg\" alt=\"Open In Colab\"/></a>"
      ]
    },
    {
      "cell_type": "markdown",
      "metadata": {
        "_uuid": "8d2fccc96b19a5367e64ad351ef6ae542cbcae68",
        "id": "vYWo3PsKv2z1"
      },
      "source": [
        "### Importing Data and Libraries"
      ]
    },
    {
      "cell_type": "code",
      "metadata": {
        "_uuid": "2383b308b415687ef5a2350a57b7a6f649584caf",
        "collapsed": true,
        "jupyter": {
          "outputs_hidden": true
        },
        "trusted": true,
        "id": "0bPM8Kkfv2z-"
      },
      "source": [
        "# load some default Python modules\n",
        "import numpy as np\n",
        "import pandas as pd\n",
        "\n",
        "import matplotlib.pyplot as plt\n",
        "import seaborn as sns\n",
        "% matplotlib inline\n",
        "\n",
        "plt.style.use('seaborn-whitegrid')\n",
        "\n",
        "import warnings\n",
        "warnings.filterwarnings('ignore')"
      ],
      "execution_count": 1,
      "outputs": []
    },
    {
      "cell_type": "code",
      "metadata": {
        "_uuid": "875fb3db355fc1b60cc198ad257b6cbed7173953",
        "collapsed": true,
        "jupyter": {
          "outputs_hidden": true
        },
        "trusted": true,
        "colab": {
          "base_uri": "https://localhost:8080/",
          "height": 424
        },
        "id": "O92anhuPv20A",
        "outputId": "18416c0c-13ba-4e04-e962-b861782376dc"
      },
      "source": [
        "train = pd.read_csv(\"../input/train.csv\", nrows = 5_000_000)\n",
        "print(\"shape of train data\", train.shape)\n",
        "train.head()"
      ],
      "execution_count": 2,
      "outputs": [
        {
          "output_type": "error",
          "ename": "FileNotFoundError",
          "evalue": "ignored",
          "traceback": [
            "\u001b[0;31m---------------------------------------------------------------------------\u001b[0m",
            "\u001b[0;31mFileNotFoundError\u001b[0m                         Traceback (most recent call last)",
            "\u001b[0;32m<ipython-input-2-9a2a9e0d1a2c>\u001b[0m in \u001b[0;36m<module>\u001b[0;34m()\u001b[0m\n\u001b[0;32m----> 1\u001b[0;31m \u001b[0mtrain\u001b[0m \u001b[0;34m=\u001b[0m \u001b[0mpd\u001b[0m\u001b[0;34m.\u001b[0m\u001b[0mread_csv\u001b[0m\u001b[0;34m(\u001b[0m\u001b[0;34m\"../input/train.csv\"\u001b[0m\u001b[0;34m,\u001b[0m \u001b[0mnrows\u001b[0m \u001b[0;34m=\u001b[0m \u001b[0;36m5_000_000\u001b[0m\u001b[0;34m)\u001b[0m\u001b[0;34m\u001b[0m\u001b[0;34m\u001b[0m\u001b[0m\n\u001b[0m\u001b[1;32m      2\u001b[0m \u001b[0mprint\u001b[0m\u001b[0;34m(\u001b[0m\u001b[0;34m\"shape of train data\"\u001b[0m\u001b[0;34m,\u001b[0m \u001b[0mtrain\u001b[0m\u001b[0;34m.\u001b[0m\u001b[0mshape\u001b[0m\u001b[0;34m)\u001b[0m\u001b[0;34m\u001b[0m\u001b[0;34m\u001b[0m\u001b[0m\n\u001b[1;32m      3\u001b[0m \u001b[0mtrain\u001b[0m\u001b[0;34m.\u001b[0m\u001b[0mhead\u001b[0m\u001b[0;34m(\u001b[0m\u001b[0;34m)\u001b[0m\u001b[0;34m\u001b[0m\u001b[0;34m\u001b[0m\u001b[0m\n",
            "\u001b[0;32m/usr/local/lib/python3.7/dist-packages/pandas/io/parsers.py\u001b[0m in \u001b[0;36mread_csv\u001b[0;34m(filepath_or_buffer, sep, delimiter, header, names, index_col, usecols, squeeze, prefix, mangle_dupe_cols, dtype, engine, converters, true_values, false_values, skipinitialspace, skiprows, skipfooter, nrows, na_values, keep_default_na, na_filter, verbose, skip_blank_lines, parse_dates, infer_datetime_format, keep_date_col, date_parser, dayfirst, cache_dates, iterator, chunksize, compression, thousands, decimal, lineterminator, quotechar, quoting, doublequote, escapechar, comment, encoding, dialect, error_bad_lines, warn_bad_lines, delim_whitespace, low_memory, memory_map, float_precision)\u001b[0m\n\u001b[1;32m    686\u001b[0m     )\n\u001b[1;32m    687\u001b[0m \u001b[0;34m\u001b[0m\u001b[0m\n\u001b[0;32m--> 688\u001b[0;31m     \u001b[0;32mreturn\u001b[0m \u001b[0m_read\u001b[0m\u001b[0;34m(\u001b[0m\u001b[0mfilepath_or_buffer\u001b[0m\u001b[0;34m,\u001b[0m \u001b[0mkwds\u001b[0m\u001b[0;34m)\u001b[0m\u001b[0;34m\u001b[0m\u001b[0;34m\u001b[0m\u001b[0m\n\u001b[0m\u001b[1;32m    689\u001b[0m \u001b[0;34m\u001b[0m\u001b[0m\n\u001b[1;32m    690\u001b[0m \u001b[0;34m\u001b[0m\u001b[0m\n",
            "\u001b[0;32m/usr/local/lib/python3.7/dist-packages/pandas/io/parsers.py\u001b[0m in \u001b[0;36m_read\u001b[0;34m(filepath_or_buffer, kwds)\u001b[0m\n\u001b[1;32m    452\u001b[0m \u001b[0;34m\u001b[0m\u001b[0m\n\u001b[1;32m    453\u001b[0m     \u001b[0;31m# Create the parser.\u001b[0m\u001b[0;34m\u001b[0m\u001b[0;34m\u001b[0m\u001b[0;34m\u001b[0m\u001b[0m\n\u001b[0;32m--> 454\u001b[0;31m     \u001b[0mparser\u001b[0m \u001b[0;34m=\u001b[0m \u001b[0mTextFileReader\u001b[0m\u001b[0;34m(\u001b[0m\u001b[0mfp_or_buf\u001b[0m\u001b[0;34m,\u001b[0m \u001b[0;34m**\u001b[0m\u001b[0mkwds\u001b[0m\u001b[0;34m)\u001b[0m\u001b[0;34m\u001b[0m\u001b[0;34m\u001b[0m\u001b[0m\n\u001b[0m\u001b[1;32m    455\u001b[0m \u001b[0;34m\u001b[0m\u001b[0m\n\u001b[1;32m    456\u001b[0m     \u001b[0;32mif\u001b[0m \u001b[0mchunksize\u001b[0m \u001b[0;32mor\u001b[0m \u001b[0miterator\u001b[0m\u001b[0;34m:\u001b[0m\u001b[0;34m\u001b[0m\u001b[0;34m\u001b[0m\u001b[0m\n",
            "\u001b[0;32m/usr/local/lib/python3.7/dist-packages/pandas/io/parsers.py\u001b[0m in \u001b[0;36m__init__\u001b[0;34m(self, f, engine, **kwds)\u001b[0m\n\u001b[1;32m    946\u001b[0m             \u001b[0mself\u001b[0m\u001b[0;34m.\u001b[0m\u001b[0moptions\u001b[0m\u001b[0;34m[\u001b[0m\u001b[0;34m\"has_index_names\"\u001b[0m\u001b[0;34m]\u001b[0m \u001b[0;34m=\u001b[0m \u001b[0mkwds\u001b[0m\u001b[0;34m[\u001b[0m\u001b[0;34m\"has_index_names\"\u001b[0m\u001b[0;34m]\u001b[0m\u001b[0;34m\u001b[0m\u001b[0;34m\u001b[0m\u001b[0m\n\u001b[1;32m    947\u001b[0m \u001b[0;34m\u001b[0m\u001b[0m\n\u001b[0;32m--> 948\u001b[0;31m         \u001b[0mself\u001b[0m\u001b[0;34m.\u001b[0m\u001b[0m_make_engine\u001b[0m\u001b[0;34m(\u001b[0m\u001b[0mself\u001b[0m\u001b[0;34m.\u001b[0m\u001b[0mengine\u001b[0m\u001b[0;34m)\u001b[0m\u001b[0;34m\u001b[0m\u001b[0;34m\u001b[0m\u001b[0m\n\u001b[0m\u001b[1;32m    949\u001b[0m \u001b[0;34m\u001b[0m\u001b[0m\n\u001b[1;32m    950\u001b[0m     \u001b[0;32mdef\u001b[0m \u001b[0mclose\u001b[0m\u001b[0;34m(\u001b[0m\u001b[0mself\u001b[0m\u001b[0;34m)\u001b[0m\u001b[0;34m:\u001b[0m\u001b[0;34m\u001b[0m\u001b[0;34m\u001b[0m\u001b[0m\n",
            "\u001b[0;32m/usr/local/lib/python3.7/dist-packages/pandas/io/parsers.py\u001b[0m in \u001b[0;36m_make_engine\u001b[0;34m(self, engine)\u001b[0m\n\u001b[1;32m   1178\u001b[0m     \u001b[0;32mdef\u001b[0m \u001b[0m_make_engine\u001b[0m\u001b[0;34m(\u001b[0m\u001b[0mself\u001b[0m\u001b[0;34m,\u001b[0m \u001b[0mengine\u001b[0m\u001b[0;34m=\u001b[0m\u001b[0;34m\"c\"\u001b[0m\u001b[0;34m)\u001b[0m\u001b[0;34m:\u001b[0m\u001b[0;34m\u001b[0m\u001b[0;34m\u001b[0m\u001b[0m\n\u001b[1;32m   1179\u001b[0m         \u001b[0;32mif\u001b[0m \u001b[0mengine\u001b[0m \u001b[0;34m==\u001b[0m \u001b[0;34m\"c\"\u001b[0m\u001b[0;34m:\u001b[0m\u001b[0;34m\u001b[0m\u001b[0;34m\u001b[0m\u001b[0m\n\u001b[0;32m-> 1180\u001b[0;31m             \u001b[0mself\u001b[0m\u001b[0;34m.\u001b[0m\u001b[0m_engine\u001b[0m \u001b[0;34m=\u001b[0m \u001b[0mCParserWrapper\u001b[0m\u001b[0;34m(\u001b[0m\u001b[0mself\u001b[0m\u001b[0;34m.\u001b[0m\u001b[0mf\u001b[0m\u001b[0;34m,\u001b[0m \u001b[0;34m**\u001b[0m\u001b[0mself\u001b[0m\u001b[0;34m.\u001b[0m\u001b[0moptions\u001b[0m\u001b[0;34m)\u001b[0m\u001b[0;34m\u001b[0m\u001b[0;34m\u001b[0m\u001b[0m\n\u001b[0m\u001b[1;32m   1181\u001b[0m         \u001b[0;32melse\u001b[0m\u001b[0;34m:\u001b[0m\u001b[0;34m\u001b[0m\u001b[0;34m\u001b[0m\u001b[0m\n\u001b[1;32m   1182\u001b[0m             \u001b[0;32mif\u001b[0m \u001b[0mengine\u001b[0m \u001b[0;34m==\u001b[0m \u001b[0;34m\"python\"\u001b[0m\u001b[0;34m:\u001b[0m\u001b[0;34m\u001b[0m\u001b[0;34m\u001b[0m\u001b[0m\n",
            "\u001b[0;32m/usr/local/lib/python3.7/dist-packages/pandas/io/parsers.py\u001b[0m in \u001b[0;36m__init__\u001b[0;34m(self, src, **kwds)\u001b[0m\n\u001b[1;32m   2008\u001b[0m         \u001b[0mkwds\u001b[0m\u001b[0;34m[\u001b[0m\u001b[0;34m\"usecols\"\u001b[0m\u001b[0;34m]\u001b[0m \u001b[0;34m=\u001b[0m \u001b[0mself\u001b[0m\u001b[0;34m.\u001b[0m\u001b[0musecols\u001b[0m\u001b[0;34m\u001b[0m\u001b[0;34m\u001b[0m\u001b[0m\n\u001b[1;32m   2009\u001b[0m \u001b[0;34m\u001b[0m\u001b[0m\n\u001b[0;32m-> 2010\u001b[0;31m         \u001b[0mself\u001b[0m\u001b[0;34m.\u001b[0m\u001b[0m_reader\u001b[0m \u001b[0;34m=\u001b[0m \u001b[0mparsers\u001b[0m\u001b[0;34m.\u001b[0m\u001b[0mTextReader\u001b[0m\u001b[0;34m(\u001b[0m\u001b[0msrc\u001b[0m\u001b[0;34m,\u001b[0m \u001b[0;34m**\u001b[0m\u001b[0mkwds\u001b[0m\u001b[0;34m)\u001b[0m\u001b[0;34m\u001b[0m\u001b[0;34m\u001b[0m\u001b[0m\n\u001b[0m\u001b[1;32m   2011\u001b[0m         \u001b[0mself\u001b[0m\u001b[0;34m.\u001b[0m\u001b[0munnamed_cols\u001b[0m \u001b[0;34m=\u001b[0m \u001b[0mself\u001b[0m\u001b[0;34m.\u001b[0m\u001b[0m_reader\u001b[0m\u001b[0;34m.\u001b[0m\u001b[0munnamed_cols\u001b[0m\u001b[0;34m\u001b[0m\u001b[0;34m\u001b[0m\u001b[0m\n\u001b[1;32m   2012\u001b[0m \u001b[0;34m\u001b[0m\u001b[0m\n",
            "\u001b[0;32mpandas/_libs/parsers.pyx\u001b[0m in \u001b[0;36mpandas._libs.parsers.TextReader.__cinit__\u001b[0;34m()\u001b[0m\n",
            "\u001b[0;32mpandas/_libs/parsers.pyx\u001b[0m in \u001b[0;36mpandas._libs.parsers.TextReader._setup_parser_source\u001b[0;34m()\u001b[0m\n",
            "\u001b[0;31mFileNotFoundError\u001b[0m: [Errno 2] No such file or directory: '../input/train.csv'"
          ]
        }
      ]
    },
    {
      "cell_type": "code",
      "metadata": {
        "_uuid": "55638f1a078cd4a96cfb2ca5a2d0d369697bc12d",
        "collapsed": true,
        "jupyter": {
          "outputs_hidden": true
        },
        "trusted": true,
        "id": "B5mGBla3v20A"
      },
      "source": [
        "# datatypes\n",
        "train.dtypes"
      ],
      "execution_count": null,
      "outputs": []
    },
    {
      "cell_type": "code",
      "metadata": {
        "_uuid": "d4cc178d6eece98b039ce5ce68a3ea7b1889b448",
        "collapsed": true,
        "jupyter": {
          "outputs_hidden": true
        },
        "trusted": true,
        "id": "gtXWe1Uyv20B"
      },
      "source": [
        "# Basic Stats of the data set\n",
        "train.describe()"
      ],
      "execution_count": null,
      "outputs": []
    },
    {
      "cell_type": "markdown",
      "metadata": {
        "_uuid": "4011e57815874707ef9f0d0a03eb5af7df4b61a1",
        "id": "tA5yEWldv20C"
      },
      "source": [
        "**following thing that i can notice**\n",
        "- Fare amount is negative and it doesn't seem to be realistic\n",
        "- few longitude and lattitude entries are off\n",
        "- maximum passanger count is 208 which looks odd\n"
      ]
    },
    {
      "cell_type": "code",
      "metadata": {
        "_uuid": "9183e2d40de1fa7a50216147d7b76017d4a66e74",
        "collapsed": true,
        "jupyter": {
          "outputs_hidden": true
        },
        "trusted": true,
        "id": "-gSbMr-kv20C"
      },
      "source": [
        "print(\"old size: %d\" % len(train))\n",
        "train = train[train.fare_amount >=0]\n",
        "print(\"New size: %d\" % len(train))"
      ],
      "execution_count": null,
      "outputs": []
    },
    {
      "cell_type": "code",
      "metadata": {
        "_uuid": "1aedc75415e8f5e0a5257dbae0f2af7cd44757f7",
        "collapsed": true,
        "jupyter": {
          "outputs_hidden": true
        },
        "trusted": true,
        "id": "gOFHJmjNv20D"
      },
      "source": [
        "# check missing data\n",
        "train.isnull().sum()"
      ],
      "execution_count": null,
      "outputs": []
    },
    {
      "cell_type": "markdown",
      "metadata": {
        "_uuid": "ba82662ea0c5a51e8e5af46c9357f098db58aeca",
        "id": "k740lTBBv20D"
      },
      "source": [
        "**There are 36 records where longitud and latitude are missing, we will drop them from the data**"
      ]
    },
    {
      "cell_type": "code",
      "metadata": {
        "_uuid": "4f85599c231b457eed3d2ee5f8215530a5e482e5",
        "collapsed": true,
        "jupyter": {
          "outputs_hidden": true
        },
        "trusted": true,
        "id": "Pw_VFDZOv20D"
      },
      "source": [
        "print(\"old size: %d\" % len(train))\n",
        "train = train.dropna(how='any', axis=0)\n",
        "print(\"New size after dropping missing value: %d\" % len(train))"
      ],
      "execution_count": null,
      "outputs": []
    },
    {
      "cell_type": "code",
      "metadata": {
        "_uuid": "fdabe1aabd080b7b47b82b3f88855cda2b155718",
        "collapsed": true,
        "jupyter": {
          "outputs_hidden": true
        },
        "trusted": true,
        "id": "r-OoBY_Tv20E"
      },
      "source": [
        "# Lets see the distribution of fare amount \n",
        "train.fare_amount.hist(bins=100, figsize = (16,8))\n",
        "plt.xlabel(\"Fare Amount\")\n",
        "plt.ylabel(\"Frequency\")"
      ],
      "execution_count": null,
      "outputs": []
    },
    {
      "cell_type": "markdown",
      "metadata": {
        "_uuid": "26ccd14a63d17a50c0cb5b5210dc5b978151bd54",
        "id": "hvCXFN-Dv20E"
      },
      "source": [
        "- Looks like the distribution is highly skewed and frequency above 100 is very less\n",
        "- we will plot below 100 and above 100 separately "
      ]
    },
    {
      "cell_type": "code",
      "metadata": {
        "_uuid": "495a91563c74d3edad2e8350d6bc070426113cf6",
        "collapsed": true,
        "jupyter": {
          "outputs_hidden": true
        },
        "trusted": true,
        "id": "Jl0jy9XEv20E"
      },
      "source": [
        "# Lets see the distribution of fare amount less than 100\n",
        "train[train.fare_amount <100 ].fare_amount.hist(bins=100, figsize = (16,8))\n",
        "plt.xlabel(\"Fare Amount\")\n",
        "plt.ylabel(\"Frequency\")"
      ],
      "execution_count": null,
      "outputs": []
    },
    {
      "cell_type": "markdown",
      "metadata": {
        "_uuid": "b8577fb46ffcb79fbcc85cc2ebea0a105fb17eba",
        "id": "YUY_RmZ6v20F"
      },
      "source": [
        "- There are few points between 40 and 60 dollars which has slightly high frequency and that could be airport trips"
      ]
    },
    {
      "cell_type": "code",
      "metadata": {
        "_uuid": "5b32edf1fc98cad5ca62ede2eb66ebc042d59e8c",
        "collapsed": true,
        "jupyter": {
          "outputs_hidden": true
        },
        "trusted": true,
        "id": "s2zRfQtNv20F"
      },
      "source": [
        "train[train.fare_amount >100 ].shape"
      ],
      "execution_count": null,
      "outputs": []
    },
    {
      "cell_type": "markdown",
      "metadata": {
        "_uuid": "71fca2b291d3103edada038b774247dcdcfa6a1d",
        "id": "dzAoxpSpv20F"
      },
      "source": [
        "- we can see here that there are total 1977 trips which are above 100 dollars\n",
        "- some of them might be outliers or few of them might be long distance trip from/to airport, we will see it in later sectionn"
      ]
    },
    {
      "cell_type": "code",
      "metadata": {
        "_uuid": "14910940a2d89dfb17b9519d5f9aac4ee7575008",
        "collapsed": true,
        "jupyter": {
          "outputs_hidden": true
        },
        "trusted": true,
        "id": "kB6y1UiIv20G"
      },
      "source": [
        "# Lets see the distribution of fare amount more than 100\n",
        "train[train.fare_amount >100 ].fare_amount.hist(bins=100, figsize = (16,8))\n",
        "plt.xlabel(\"Fare Amount\")\n",
        "plt.ylabel(\"Frequency\")"
      ],
      "execution_count": null,
      "outputs": []
    },
    {
      "cell_type": "markdown",
      "metadata": {
        "_uuid": "6cbc661b44258877a0304edccaf23e31097e9b36",
        "id": "vt-Vg_Qcv20G"
      },
      "source": [
        "#### Lets also check passanger count distribution"
      ]
    },
    {
      "cell_type": "code",
      "metadata": {
        "_uuid": "836267c4cc6204cfbc59390b353b01898c080378",
        "collapsed": true,
        "jupyter": {
          "outputs_hidden": true
        },
        "trusted": true,
        "id": "nrdp2oxfv20G"
      },
      "source": [
        "# checking for passanger count greater than 7\n",
        "train[train.passenger_count >7].passenger_count.hist(bins=10, figsize = (16,8))\n",
        "plt.xlabel(\"Passanger Count\")\n",
        "plt.ylabel(\"Frequency\")"
      ],
      "execution_count": null,
      "outputs": []
    },
    {
      "cell_type": "code",
      "metadata": {
        "_uuid": "205ac3c2e41bc193877c0049727a4f9c3cc57dd1",
        "collapsed": true,
        "jupyter": {
          "outputs_hidden": true
        },
        "trusted": true,
        "id": "26Y5PR8kv20H"
      },
      "source": [
        "# data for passanger count greater than 7\n",
        "train[train.passenger_count >7]"
      ],
      "execution_count": null,
      "outputs": []
    },
    {
      "cell_type": "markdown",
      "metadata": {
        "_uuid": "76af9fba401499bd4f45ec38b9f3668994eb6f21",
        "id": "VPOqAa3Av20H"
      },
      "source": [
        "- There is only 11  entry for  passanger count above 7 , rest are below 7\n",
        "- we will drop this record in data cleaning section"
      ]
    },
    {
      "cell_type": "code",
      "metadata": {
        "_uuid": "9b785db1469ef49da03d336a733393ae379742ba",
        "collapsed": true,
        "jupyter": {
          "outputs_hidden": true
        },
        "trusted": true,
        "id": "gcknck7Fv20H"
      },
      "source": [
        "# checking for passanger count less than 7\n",
        "train[train.passenger_count <7].passenger_count.hist(bins=10, figsize = (16,8))\n",
        "plt.xlabel(\"Passanger Count\")\n",
        "plt.ylabel(\"Frequency\")"
      ],
      "execution_count": null,
      "outputs": []
    },
    {
      "cell_type": "markdown",
      "metadata": {
        "_uuid": "9e0fed3fc6e8f49d2fff359e7922d965ffbbc109",
        "id": "BEkjyWEav20I"
      },
      "source": [
        "- Most of the trips are taken by single passanger\n",
        "- we will try to see if there is any relation between passanger count and fare amout"
      ]
    },
    {
      "cell_type": "code",
      "metadata": {
        "_uuid": "4f80ad0d1a42b6cfffe39c12cb1b8821eb5b4e15",
        "collapsed": true,
        "jupyter": {
          "outputs_hidden": true
        },
        "trusted": true,
        "id": "A-roCkgCv20I"
      },
      "source": [
        "# checking for records where passanger count is 0\n",
        "train[train.passenger_count ==0].shape"
      ],
      "execution_count": null,
      "outputs": []
    },
    {
      "cell_type": "markdown",
      "metadata": {
        "_uuid": "b5224771e2086408e21c3b6e8f2545ddd47e126a",
        "id": "ZhsLqWqAv20I"
      },
      "source": [
        "**We have 17K such cases where passanger count is zero, there can be two possibility**\n",
        "   - Passanger count is incorrectly populated\n",
        "   - Taxi was not carrying any passanger, may be taxi was used for goods\n",
        "\n",
        "**we will look into test data set and finalize whether we should drop these cases or not.**"
      ]
    },
    {
      "cell_type": "code",
      "metadata": {
        "_uuid": "69e9ad28c98984127e470b5b63f9b98e6dfcf0f2",
        "collapsed": true,
        "jupyter": {
          "outputs_hidden": true
        },
        "trusted": true,
        "id": "tRu6rP6Wv20I"
      },
      "source": [
        "plt.figure(figsize= (16,8))\n",
        "sns.boxplot(x = train[train.passenger_count< 7].passenger_count, y = train.fare_amount)"
      ],
      "execution_count": null,
      "outputs": []
    },
    {
      "cell_type": "markdown",
      "metadata": {
        "_uuid": "b375f2018073e0b9dc399406d9cf56f597d3dbf2",
        "id": "u4v-3gGSv20J"
      },
      "source": [
        "- As we can see from the box plot median price of each passanger counts looks similar except one record, There are few outliers we wil treat in cleaning section\n",
        "- we will try to see if there is any relationship between passanger count and fare amount using correlation factor"
      ]
    },
    {
      "cell_type": "code",
      "metadata": {
        "_uuid": "be796b5b54993a9ab02ea0c03978791888224eb2",
        "collapsed": true,
        "jupyter": {
          "outputs_hidden": true
        },
        "trusted": true,
        "id": "DZbPNZ4Sv20J"
      },
      "source": [
        "train[train.passenger_count <7][['fare_amount','passenger_count']].corr()"
      ],
      "execution_count": null,
      "outputs": []
    },
    {
      "cell_type": "markdown",
      "metadata": {
        "_uuid": "30cb8964de23e5dd04eb7befd3bedcb4ac61dc7b",
        "id": "eTEEfVI6v20J"
      },
      "source": [
        "**There is very weak correlation (0.013) between fare amount and passanger count**"
      ]
    },
    {
      "cell_type": "markdown",
      "metadata": {
        "_uuid": "654b9f31220387036eb70753eae8a6403e60c0e6",
        "id": "cyctByWEv20J"
      },
      "source": [
        "### Lets read the test data"
      ]
    },
    {
      "cell_type": "code",
      "metadata": {
        "_uuid": "2ca6079d722e50aa40dff1f3761c7b75d2b242d5",
        "collapsed": true,
        "jupyter": {
          "outputs_hidden": true
        },
        "trusted": true,
        "id": "rOke7jnwv20K"
      },
      "source": [
        "test = pd.read_csv(\"../input/test.csv\")\n",
        "print(\"shape of test data\", test.shape)\n",
        "test.head()"
      ],
      "execution_count": null,
      "outputs": []
    },
    {
      "cell_type": "code",
      "metadata": {
        "_uuid": "9d9977a491ad1c100cecee9625329d001c3f9a14",
        "collapsed": true,
        "jupyter": {
          "outputs_hidden": true
        },
        "trusted": true,
        "id": "logHvAwRv20K"
      },
      "source": [
        "#check for missing value\n",
        "test.isnull().sum()"
      ],
      "execution_count": null,
      "outputs": []
    },
    {
      "cell_type": "markdown",
      "metadata": {
        "_uuid": "44dcab3502844d81745aa0c0523d8627edd69872",
        "id": "J9Bqv9Thv20K"
      },
      "source": [
        "There are no missing value in test data set"
      ]
    },
    {
      "cell_type": "code",
      "metadata": {
        "_uuid": "93c013ffef17a98eaacdf55140c6528c1e63bf72",
        "collapsed": true,
        "jupyter": {
          "outputs_hidden": true
        },
        "trusted": true,
        "id": "SIjYgO57v20K"
      },
      "source": [
        "# checking for basic stats\n",
        "test.describe()"
      ],
      "execution_count": null,
      "outputs": []
    },
    {
      "cell_type": "markdown",
      "metadata": {
        "_uuid": "92c010fdd017bcc82df88a6f7385b9d51c07779d",
        "id": "o2O1bZyIv20L"
      },
      "source": [
        "We will store the minimum and maximum of the longitude and latitude from test data set and filter the train data set for those data points"
      ]
    },
    {
      "cell_type": "code",
      "metadata": {
        "_uuid": "8e4823c4af8cecbcba635335e9d34c81fc7542db",
        "collapsed": true,
        "jupyter": {
          "outputs_hidden": true
        },
        "trusted": true,
        "id": "XJxprEPev20L"
      },
      "source": [
        "min(test.pickup_longitude.min(),test.dropoff_longitude.min()), \\\n",
        "max(test.pickup_longitude.max(),test.dropoff_longitude.max())"
      ],
      "execution_count": null,
      "outputs": []
    },
    {
      "cell_type": "code",
      "metadata": {
        "_uuid": "310996bfa1bc4e8dc71b7d5f1441fb5d0beb8fa7",
        "collapsed": true,
        "jupyter": {
          "outputs_hidden": true
        },
        "trusted": true,
        "id": "DOE2nXF7v20L"
      },
      "source": [
        "min(test.pickup_latitude.min(),test.dropoff_latitude.min()), \\\n",
        "max(test.pickup_latitude.max(),test.dropoff_latitude.max())"
      ],
      "execution_count": null,
      "outputs": []
    },
    {
      "cell_type": "code",
      "metadata": {
        "_uuid": "b1c582c326ad8f335f795a06377d00680c953f32",
        "collapsed": true,
        "jupyter": {
          "outputs_hidden": true
        },
        "trusted": true,
        "id": "YD2DZxAQv20L"
      },
      "source": [
        "# this function will also be used with the test set below\n",
        "def select_within_test_boundary(df, BB):\n",
        "    return (df.pickup_longitude >= BB[0]) & (df.pickup_longitude <= BB[1]) & \\\n",
        "           (df.pickup_latitude >= BB[2]) & (df.pickup_latitude <= BB[3]) & \\\n",
        "           (df.dropoff_longitude >= BB[0]) & (df.dropoff_longitude <= BB[1]) & \\\n",
        "           (df.dropoff_latitude >= BB[2]) & (df.dropoff_latitude <= BB[3])"
      ],
      "execution_count": null,
      "outputs": []
    },
    {
      "cell_type": "code",
      "metadata": {
        "_uuid": "6910f6f76b87f7dc4a04cae29157a8951448874d",
        "collapsed": true,
        "jupyter": {
          "outputs_hidden": true
        },
        "trusted": true,
        "id": "BQ12KKRyv20M"
      },
      "source": [
        "BB = (-74.5, -72.8, 40.5, 41.8)\n",
        "print('Old size: %d' % len(train))\n",
        "train = train[select_within_test_boundary(train, BB)]\n",
        "print('New size: %d' % len(train))"
      ],
      "execution_count": null,
      "outputs": []
    },
    {
      "cell_type": "markdown",
      "metadata": {
        "_uuid": "1e6c6c89722d0e6acd41625207e0b74a11d3288b",
        "id": "RKzBBXTVv20M"
      },
      "source": [
        "- Now we have sliced the train data records as per the coordinates of the test data"
      ]
    },
    {
      "cell_type": "markdown",
      "metadata": {
        "_uuid": "30936e939633e6c2a3d8b038d9aa53e50b14f031",
        "id": "7pk0137zv20N"
      },
      "source": [
        "### Manual Feature Engineering\n",
        "- Adding distance metrics\n",
        "- few time based variables"
      ]
    },
    {
      "cell_type": "code",
      "metadata": {
        "_uuid": "4fe9c8dffc4d2ea7eec72072bac4186819b8da37",
        "collapsed": true,
        "jupyter": {
          "outputs_hidden": true
        },
        "trusted": true,
        "id": "By6cLfvmv20N"
      },
      "source": [
        "def prepare_time_features(df):\n",
        "    df['pickup_datetime'] = df['pickup_datetime'].str.slice(0, 16)\n",
        "    df['pickup_datetime'] = pd.to_datetime(df['pickup_datetime'], utc=True, format='%Y-%m-%d %H:%M')\n",
        "    df['hour_of_day'] = df.pickup_datetime.dt.hour\n",
        "#     df['week'] = df.pickup_datetime.dt.week\n",
        "    df['month'] = df.pickup_datetime.dt.month\n",
        "    df[\"year\"] = df.pickup_datetime.dt.year\n",
        "#     df['day_of_year'] = df.pickup_datetime.dt.dayofyear\n",
        "#     df['week_of_year'] = df.pickup_datetime.dt.weekofyear\n",
        "    df[\"weekday\"] = df.pickup_datetime.dt.weekday\n",
        "#     df[\"quarter\"] = df.pickup_datetime.dt.quarter\n",
        "#     df[\"day_of_month\"] = df.pickup_datetime.dt.day\n",
        "    \n",
        "    return df"
      ],
      "execution_count": null,
      "outputs": []
    },
    {
      "cell_type": "code",
      "metadata": {
        "_uuid": "62ce687f1cc677cd8c5fd854c65bc2f04330f3d0",
        "collapsed": true,
        "jupyter": {
          "outputs_hidden": true
        },
        "trusted": true,
        "id": "DSqYsQJSv20N"
      },
      "source": [
        "train = prepare_time_features(train)\n",
        "test = prepare_time_features(test)"
      ],
      "execution_count": null,
      "outputs": []
    },
    {
      "cell_type": "code",
      "metadata": {
        "_uuid": "13dce9a9724d2b3b586aafb24f7ce5dc30dc006a",
        "collapsed": true,
        "jupyter": {
          "outputs_hidden": true
        },
        "trusted": true,
        "id": "XPgJImx2v20O"
      },
      "source": [
        "# calculate-distance-between-two-latitude-longitude-points-haversine-formula \n",
        "# Returns distance in miles\n",
        "def distance(lat1, lon1, lat2, lon2):\n",
        "    p = 0.017453292519943295 # Pi/180\n",
        "    a = 0.5 - np.cos((lat2 - lat1) * p)/2 + np.cos(lat1 * p) * np.cos(lat2 * p) * (1 - np.cos((lon2 - lon1) * p)) / 2\n",
        "    return 0.6213712 * 12742 * np.arcsin(np.sqrt(a))   # 2*R*asin..."
      ],
      "execution_count": null,
      "outputs": []
    },
    {
      "cell_type": "code",
      "metadata": {
        "_uuid": "e649a776da67fb93daab8314dfbca7ce4f3efd1c",
        "collapsed": true,
        "jupyter": {
          "outputs_hidden": true
        },
        "trusted": true,
        "id": "J5KUtnsSv20O"
      },
      "source": [
        "train['distance_miles'] = distance(train.pickup_latitude, train.pickup_longitude, \\\n",
        "                                      train.dropoff_latitude, train.dropoff_longitude)"
      ],
      "execution_count": null,
      "outputs": []
    },
    {
      "cell_type": "code",
      "metadata": {
        "_uuid": "2a116e3d1af9a54781c04c03c5df02dbdb068c8d",
        "collapsed": true,
        "jupyter": {
          "outputs_hidden": true
        },
        "trusted": true,
        "id": "Fz4xV40xv20O"
      },
      "source": [
        "test['distance_miles'] = distance(test.pickup_latitude, test.pickup_longitude, \\\n",
        "                                      test.dropoff_latitude, test.dropoff_longitude)"
      ],
      "execution_count": null,
      "outputs": []
    },
    {
      "cell_type": "markdown",
      "metadata": {
        "_uuid": "d427e4a3251d79ea82d63cf7701c82e52655445c",
        "id": "ZMjD4Dbiv20O"
      },
      "source": [
        "#### Calculating pickup and drop distance from all 3 airports of Air Ports"
      ]
    },
    {
      "cell_type": "code",
      "metadata": {
        "_uuid": "b049d7cc0e28f95a3232f8d2770f544f268c2f7f",
        "collapsed": true,
        "jupyter": {
          "outputs_hidden": true
        },
        "trusted": true,
        "id": "UHRS0zYev20P"
      },
      "source": [
        "def transform(data):\n",
        "    # Distances to nearby airports, \n",
        "    jfk = (-73.7781, 40.6413)\n",
        "    ewr = (-74.1745, 40.6895)\n",
        "    lgr = (-73.8740, 40.7769)\n",
        "\n",
        "    data['pickup_distance_to_jfk'] = distance(jfk[1], jfk[0],\n",
        "                                         data['pickup_latitude'], data['pickup_longitude'])\n",
        "    data['dropoff_distance_to_jfk'] = distance(jfk[1], jfk[0],\n",
        "                                           data['dropoff_latitude'], data['dropoff_longitude'])\n",
        "    data['pickup_distance_to_ewr'] = distance(ewr[1], ewr[0], \n",
        "                                          data['pickup_latitude'], data['pickup_longitude'])\n",
        "    data['dropoff_distance_to_ewr'] = distance(ewr[1], ewr[0],\n",
        "                                           data['dropoff_latitude'], data['dropoff_longitude'])\n",
        "    data['pickup_distance_to_lgr'] = distance(lgr[1], lgr[0],\n",
        "                                          data['pickup_latitude'], data['pickup_longitude'])\n",
        "    data['dropoff_distance_to_lgr'] = distance(lgr[1], lgr[0],\n",
        "                                           data['dropoff_latitude'], data['dropoff_longitude'])\n",
        "    \n",
        "    return data\n",
        "\n",
        "train = transform(train)\n",
        "test = transform(test)"
      ],
      "execution_count": null,
      "outputs": []
    },
    {
      "cell_type": "markdown",
      "metadata": {
        "_uuid": "c0b1798aa4038e4399cc9e31a71249577809be24",
        "id": "EFEwgszuv20P"
      },
      "source": [
        "- Delete these 15 record where distance covered and fare amount are zero, which won't help our model"
      ]
    },
    {
      "cell_type": "code",
      "metadata": {
        "_uuid": "2e784797cf4c5acb9e427fb51694af5ea6cbc7bc",
        "collapsed": true,
        "jupyter": {
          "outputs_hidden": true
        },
        "trusted": true,
        "id": "-jz-JoFLv20P"
      },
      "source": [
        "train[(train['distance_miles']==0)&(train['fare_amount']==0)]"
      ],
      "execution_count": null,
      "outputs": []
    },
    {
      "cell_type": "code",
      "metadata": {
        "_uuid": "229d25b99222a0dbdf8bd6367a514a81fb1fda92",
        "collapsed": true,
        "jupyter": {
          "outputs_hidden": true
        },
        "trusted": true,
        "id": "1Q6QOPjfv20P"
      },
      "source": [
        "print(\"old size: %d\" % len(train))\n",
        "train = train.drop(index= train[(train['distance_miles']==0)&(train['fare_amount']==0)].index, axis=0)\n",
        "print(\"New size: %d\" % len(train))"
      ],
      "execution_count": null,
      "outputs": []
    },
    {
      "cell_type": "markdown",
      "metadata": {
        "_uuid": "b1fbea82957c288be9034c2dad635434cf607aa8",
        "id": "7u-Gvz32v20Q"
      },
      "source": [
        "- There are 24 records where fare amount is zero but distance travelled is greater than 0, we will drop such case"
      ]
    },
    {
      "cell_type": "code",
      "metadata": {
        "scrolled": true,
        "_uuid": "a99f6c9385dfa05ecf8dc0aa61b73c43b84c1053",
        "collapsed": true,
        "jupyter": {
          "outputs_hidden": true
        },
        "trusted": true,
        "id": "BE0QH9h4v20Q"
      },
      "source": [
        "train[train['fare_amount']==0].shape"
      ],
      "execution_count": null,
      "outputs": []
    },
    {
      "cell_type": "code",
      "metadata": {
        "_uuid": "3f41715a3d6c95c4590c4da710b663786f15ed9f",
        "collapsed": true,
        "jupyter": {
          "outputs_hidden": true
        },
        "trusted": true,
        "id": "T7qRIPMjv20Q"
      },
      "source": [
        "print(\"old size: %d\" % len(train))\n",
        "train = train.drop(index= train[train['fare_amount']==0].index, axis=0)\n",
        "print(\"New size: %d\" % len(train))"
      ],
      "execution_count": null,
      "outputs": []
    },
    {
      "cell_type": "markdown",
      "metadata": {
        "_uuid": "d3b9d59dadf093119f7b9078cef20512d92c73e8",
        "id": "wDLlJMLFv20R"
      },
      "source": [
        "- There are 53 record where fare amount is less than 2.5 dollars (most of them are 0.01 dollars except 3 cases of fare between 1 and 2 dollar ) which doesn't make sense as the base fare for any taxi in new york is 2.5 dollars, we will drop those cases"
      ]
    },
    {
      "cell_type": "code",
      "metadata": {
        "_uuid": "9ee78ad43645d0a267df05f6b04da186889a19fb",
        "collapsed": true,
        "jupyter": {
          "outputs_hidden": true
        },
        "trusted": true,
        "id": "IIBDpiEDv20R"
      },
      "source": [
        "train[train['fare_amount'] < 2.5].shape"
      ],
      "execution_count": null,
      "outputs": []
    },
    {
      "cell_type": "code",
      "metadata": {
        "_uuid": "4e59178416c71a4001ecb425db7e11b7a268df97",
        "collapsed": true,
        "jupyter": {
          "outputs_hidden": true
        },
        "trusted": true,
        "id": "0WKO57B1v20R"
      },
      "source": [
        "print(\"old size: %d\" % len(train))\n",
        "train = train.drop(index= train[train['fare_amount'] < 2.5].index, axis=0)\n",
        "print(\"New size: %d\" % len(train))"
      ],
      "execution_count": null,
      "outputs": []
    },
    {
      "cell_type": "markdown",
      "metadata": {
        "_uuid": "9aa2b3d0c2960ed9bfe3312db044964715149bf2",
        "id": "HSj_tXC_v20R"
      },
      "source": [
        "- There are stil 6 records left where passanger count is greater than 7\n",
        "- we will delete such cases because we don't  have passanger count greater than 7 in test record"
      ]
    },
    {
      "cell_type": "code",
      "metadata": {
        "_uuid": "9e62d5bd998ef0a7a033e3a3fa181f01a0231b44",
        "collapsed": true,
        "jupyter": {
          "outputs_hidden": true
        },
        "trusted": true,
        "id": "mfpLFckHv20S"
      },
      "source": [
        "train[train.passenger_count >= 7]"
      ],
      "execution_count": null,
      "outputs": []
    },
    {
      "cell_type": "code",
      "metadata": {
        "_uuid": "42e93e96244e9ba9e0cf58f8b8ff62d3e50ca5f2",
        "collapsed": true,
        "jupyter": {
          "outputs_hidden": true
        },
        "trusted": true,
        "id": "x9hrcEgSv20S"
      },
      "source": [
        "print(\"old size: %d\" % len(train))\n",
        "train = train.drop(index= train[train.passenger_count >= 7].index, axis=0)\n",
        "print(\"New size: %d\" % len(train))"
      ],
      "execution_count": null,
      "outputs": []
    },
    {
      "cell_type": "code",
      "metadata": {
        "_uuid": "3e46bc4180427d1a32f7a8fa57df7f6e75626418",
        "collapsed": true,
        "jupyter": {
          "outputs_hidden": true
        },
        "trusted": true,
        "id": "4hUXUsoMv20S"
      },
      "source": [
        "train.describe().T"
      ],
      "execution_count": null,
      "outputs": []
    },
    {
      "cell_type": "markdown",
      "metadata": {
        "_uuid": "5f16781ca94a2d92d4e2263e7fcadae86130e834",
        "trusted": true,
        "id": "2e77evrJv20S"
      },
      "source": [
        "### Lets check the distribution of distance in miles covered for train and test data set"
      ]
    },
    {
      "cell_type": "code",
      "metadata": {
        "_uuid": "623cc507017f44b5df8ea0525db2e7cf9b0fb075",
        "collapsed": true,
        "jupyter": {
          "outputs_hidden": true
        },
        "trusted": true,
        "id": "Bb-_DFliv20T"
      },
      "source": [
        "#train data set\n",
        "pd.cut(train['distance_miles'],np.linspace(0, 70, num = 8)).value_counts()"
      ],
      "execution_count": null,
      "outputs": []
    },
    {
      "cell_type": "code",
      "metadata": {
        "_uuid": "13ac5ae25839efb824a6fd4af3f656d34f35d4b2",
        "collapsed": true,
        "jupyter": {
          "outputs_hidden": true
        },
        "trusted": true,
        "id": "ks7Ofy1iv20T"
      },
      "source": [
        "# test data set\n",
        "pd.cut(test['distance_miles'],np.linspace(0, 70, num = 8)).value_counts()"
      ],
      "execution_count": null,
      "outputs": []
    },
    {
      "cell_type": "code",
      "metadata": {
        "_uuid": "88d9eca233a37cfcdbd4c92e181a7cee2b4acc73",
        "collapsed": true,
        "jupyter": {
          "outputs_hidden": true
        },
        "trusted": true,
        "id": "G7FSFT4bv20T"
      },
      "source": [
        "# we will deal with it later \n",
        "fare_100 = train[train.fare_amount > 100]\n",
        "fare_100.shape"
      ],
      "execution_count": null,
      "outputs": []
    },
    {
      "cell_type": "markdown",
      "metadata": {
        "_uuid": "c74621fadabefc4e0a3389cbfe53de4e10ecf12a",
        "id": "rGsklZkov20T"
      },
      "source": [
        "**There are 1669 records where fare amount is higher than 100 dollars**\n",
        "   - I also see than 527 records are such where distance covered  is even less than 1 miles\n",
        "   - While researching through few websites (https://www.introducingnewyork.com/taxis,  https://www.taxi-calculator.com/taxi-rate-new-york-city/259) i got to know that if taxi waits for passanger additional $30 dollars per hour will be charged depending on the location of the pickup.\n",
        "   - Since we don't have such variable where we can get to know the waiting time, we can drop such cases where distance is very less in copare to fare amount charged for the ride"
      ]
    },
    {
      "cell_type": "code",
      "metadata": {
        "_uuid": "2dea71bfa1dd4484fec77f99c682abcc601cb2ac",
        "collapsed": true,
        "jupyter": {
          "outputs_hidden": true
        },
        "trusted": true,
        "id": "_cck_UvEv20U"
      },
      "source": [
        "fare_100[fare_100.distance_miles <1].shape"
      ],
      "execution_count": null,
      "outputs": []
    },
    {
      "cell_type": "code",
      "metadata": {
        "_uuid": "27cea2824aa519aaa6adc448a13e84bbb2c5d9f8",
        "collapsed": true,
        "jupyter": {
          "outputs_hidden": true
        },
        "trusted": true,
        "id": "gZzGfIyBv20U"
      },
      "source": [
        "# #dropping cases where fare is above 100 dollars and distance is less than 1 miles\n",
        "# print(\"old size: %d\" % len(train))\n",
        "# train = train.drop(index= train[(train.distance_miles <1) & (train.fare_amount > 100)].index, axis=0)\n",
        "# print(\"New size: %d\" % len(train))"
      ],
      "execution_count": null,
      "outputs": []
    },
    {
      "cell_type": "code",
      "metadata": {
        "_uuid": "ca8138ee0a980e520807f04a29b252c619ba27f5",
        "collapsed": true,
        "jupyter": {
          "outputs_hidden": true
        },
        "trusted": true,
        "id": "PIb_0HXMv20U"
      },
      "source": [
        "train.columns"
      ],
      "execution_count": null,
      "outputs": []
    },
    {
      "cell_type": "code",
      "metadata": {
        "_uuid": "24705aae32ed9d27f52b44ad2c1f6da04ec78ff8",
        "collapsed": true,
        "jupyter": {
          "outputs_hidden": true
        },
        "trusted": true,
        "id": "VZ0BTByzv20U"
      },
      "source": [
        "# create copy of the data set\n",
        "df_train = train.drop(columns= ['key','pickup_datetime'], axis= 1).copy()\n",
        "df_test = test.drop(columns= ['key','pickup_datetime'], axis= 1).copy()\n",
        "print(df_train.shape)\n",
        "print(df_test.shape)"
      ],
      "execution_count": null,
      "outputs": []
    },
    {
      "cell_type": "markdown",
      "metadata": {
        "_uuid": "d04cbf2738a6037c9e3a70559a4f7c57ca49fbe3",
        "id": "9Wk24AS6v20V"
      },
      "source": [
        "### Train Test Split"
      ]
    },
    {
      "cell_type": "code",
      "metadata": {
        "_uuid": "a9df46bdc14971057fab6d4d5934e684150ba291",
        "collapsed": true,
        "jupyter": {
          "outputs_hidden": true
        },
        "trusted": true,
        "id": "kQym786yv20V"
      },
      "source": [
        "from sklearn.model_selection import train_test_split \n",
        "X_train, X_test, y_train, y_test = train_test_split(df_train.drop('fare_amount', axis=1),\n",
        "                                                    df_train['fare_amount'], test_size=0.2, random_state = 42)\n",
        "print(X_train.shape)\n",
        "print(X_test.shape)\n",
        "print(y_train.shape)\n",
        "print(y_test.shape)"
      ],
      "execution_count": null,
      "outputs": []
    },
    {
      "cell_type": "markdown",
      "metadata": {
        "_uuid": "e6c279d4608c872e5b117d36f2effea8cda13c91",
        "id": "9fZOl4fIv20V"
      },
      "source": [
        "## XG Boost Model"
      ]
    },
    {
      "cell_type": "code",
      "metadata": {
        "_uuid": "3c4e0591b54a2b81bf7f0796d51bf0d86e653275",
        "collapsed": true,
        "jupyter": {
          "outputs_hidden": true
        },
        "trusted": true,
        "id": "BkU5hrX3v20V"
      },
      "source": [
        "import xgboost as xgb"
      ],
      "execution_count": null,
      "outputs": []
    },
    {
      "cell_type": "code",
      "metadata": {
        "_uuid": "93c66fc57f1f79f893904c1ee91aed6d186231b2",
        "collapsed": true,
        "jupyter": {
          "outputs_hidden": true
        },
        "trusted": true,
        "id": "IE6cw6r7v20V"
      },
      "source": [
        "params = {\n",
        "   \n",
        "    'max_depth': 7,\n",
        "    'gamma' :0,\n",
        "    'eta':.03, \n",
        "    'subsample': 1,\n",
        "    'colsample_bytree': 0.9, \n",
        "    'objective':'reg:linear',\n",
        "    'eval_metric':'rmse',\n",
        "    'silent': 0\n",
        "}"
      ],
      "execution_count": null,
      "outputs": []
    },
    {
      "cell_type": "code",
      "metadata": {
        "_uuid": "c11240bb87cffedb48f1e9a8c484ab4d0a0181d6",
        "collapsed": true,
        "jupyter": {
          "outputs_hidden": true
        },
        "trusted": true,
        "id": "5T6gMlDGv20W"
      },
      "source": [
        "def XGBmodel(X_train,X_test,y_train,y_test,params):\n",
        "    matrix_train = xgb.DMatrix(X_train,label=y_train)\n",
        "    matrix_test = xgb.DMatrix(X_test,label=y_test)\n",
        "    model=xgb.train(params=params,\n",
        "                    dtrain=matrix_train,num_boost_round=5000, \n",
        "                    early_stopping_rounds=10,evals=[(matrix_test,'test')])\n",
        "    return model\n",
        "\n",
        "model = XGBmodel(X_train,X_test,y_train,y_test,params)"
      ],
      "execution_count": null,
      "outputs": []
    },
    {
      "cell_type": "code",
      "metadata": {
        "_uuid": "a149850d2077c7bf6edcacccb1ea421a52fa1291",
        "collapsed": true,
        "jupyter": {
          "outputs_hidden": true
        },
        "trusted": true,
        "id": "WA1Tr0kpv20W"
      },
      "source": [
        "prediction = model.predict(xgb.DMatrix(df_test), ntree_limit = model.best_ntree_limit).tolist()"
      ],
      "execution_count": null,
      "outputs": []
    },
    {
      "cell_type": "code",
      "metadata": {
        "_uuid": "cfd4f62775c6cd6add3185600f6ca566617b7cf4",
        "collapsed": true,
        "jupyter": {
          "outputs_hidden": true
        },
        "trusted": true,
        "id": "VWVFI9Szv20W"
      },
      "source": [
        "test = pd.read_csv(\"../input/test.csv\")\n",
        "holdout = pd.DataFrame({'key': test['key'], 'fare_amount': prediction})\n",
        "holdout.to_csv('xgb_4m_utc_with_cleaning.csv', index=False)"
      ],
      "execution_count": null,
      "outputs": []
    },
    {
      "cell_type": "code",
      "metadata": {
        "_uuid": "487f35bae4521b3c626515e14eddf4a259b9372c",
        "collapsed": true,
        "jupyter": {
          "outputs_hidden": true
        },
        "trusted": true,
        "id": "N5TyE6LHv20W"
      },
      "source": [
        "import matplotlib.pyplot as plt\n",
        "fscores = pd.DataFrame({'X': list(model.get_fscore().keys()), 'Y': list(model.get_fscore().values())})\n",
        "fscores.sort_values(by='Y').plot.bar(x='X')"
      ],
      "execution_count": null,
      "outputs": []
    },
    {
      "cell_type": "markdown",
      "metadata": {
        "_uuid": "fed210ee54d19cbdd181456b00e1b6ffbe2c2099",
        "id": "XVy4ZuUBv20W"
      },
      "source": [
        "## Stay Tuned,  Hyperparameter tuning coming soon"
      ]
    }
  ]
}