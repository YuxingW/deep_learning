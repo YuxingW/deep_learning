{
  "nbformat": 4,
  "nbformat_minor": 0,
  "metadata": {
    "colab": {
      "name": "Copy of numpy_nn_2.ipynb",
      "provenance": [],
      "toc_visible": true,
      "include_colab_link": true
    },
    "kernelspec": {
      "name": "python3",
      "display_name": "Python 3.9.0 64-bit",
      "metadata": {
        "interpreter": {
          "hash": "ac2eaa0ea0ebeafcc7822e65e46aa9d4f966f30b695406963e145ea4a91cd4fc"
        }
      }
    }
  },
  "cells": [
    {
      "cell_type": "markdown",
      "metadata": {
        "id": "view-in-github",
        "colab_type": "text"
      },
      "source": [
        "<a href=\"https://colab.research.google.com/github/YuxingW/deep_learning/blob/main/hw4/part_1_mnist_classifier_with_numpy.ipynb\" target=\"_parent\"><img src=\"https://colab.research.google.com/assets/colab-badge.svg\" alt=\"Open In Colab\"/></a>"
      ]
    },
    {
      "cell_type": "markdown",
      "metadata": {
        "id": "hFFJwg1h9H27"
      },
      "source": [
        "#Assignment\n",
        "The assignment is to implement MNIST classifier fully with all the things learnt in last class with many features in numpy in a colab."
      ]
    },
    {
      "cell_type": "markdown",
      "metadata": {
        "id": "BK_gmF-S-fvY"
      },
      "source": [
        "###Detail requirements"
      ]
    },
    {
      "cell_type": "markdown",
      "metadata": {
        "id": "U2gp7Lur9Ofr"
      },
      "source": [
        "(a) The code should do mini batch gradient descent along with appropriate learning rate and pick appropriate batch size for minibatch.\n",
        "<br />\n",
        "(b) The code should do dropout - try various dropout rates and pick the one which works well.\n",
        "<br />\n",
        "(c) The code should do basic image augmentations to supplement the training data (not testing data) using keras libraries.\n",
        "<br />\n",
        "(d) The code should use  3 or more layers for training (not 2 as in example ) - you have to tune and pick number of neurons in your layer and number of layers\n",
        "<br />\n",
        "(e) The code will continue to use relu activation layer in right places like python code\n",
        "<br />\n",
        "(f) The code should normalize the input as discussed in the class before training (scaling the input)\n",
        "<br />\n",
        "(g) The code should use appropriate learning rate (try out few to find out which one works) - you can use adaptive learning rates like different learning rates per epoch or per mini batch.\n",
        "<br />\n",
        "(h) The code should provide appropriate metrics, visualization,  testing and training accuracy etc.,. and plot the results and confusion matrix  (this is important)\n",
        "<br />\n",
        "(i) The code should display top common errors like in below link."
      ]
    },
    {
      "cell_type": "markdown",
      "metadata": {
        "id": "kGxBllyJhrUq"
      },
      "source": [
        "# Data preprocessing"
      ]
    },
    {
      "cell_type": "markdown",
      "metadata": {
        "id": "Nom5WmLlv23I"
      },
      "source": [
        "##Load and preprocessing mnist image dataset"
      ]
    },
    {
      "cell_type": "code",
      "metadata": {
        "id": "lk7wuooGv1KC"
      },
      "source": [
        "import sys, numpy as np\n",
        "from keras.datasets import mnist\n",
        "import matplotlib.pyplot as plt\n",
        "\n",
        "(x_train, y_train), (x_test, y_test) = mnist.load_data()"
      ],
      "execution_count": 1,
      "outputs": []
    },
    {
      "cell_type": "markdown",
      "metadata": {
        "id": "gl_3gDrRVTOZ"
      },
      "source": [
        "##Do image augmentations on the training data"
      ]
    },
    {
      "cell_type": "code",
      "metadata": {
        "id": "20_VIlO1T_2V"
      },
      "source": [
        "from keras.preprocessing.image import ImageDataGenerator\n",
        "\n",
        "# tmp = tmp_s.reshape(-1,28,28,1)\n",
        "# tmp.shape\n",
        "# plt.imshow(tmp[0][:,:,0])\n",
        "\n",
        "datagen = ImageDataGenerator(\n",
        "        featurewise_center=False,  # set input mean to 0 over the dataset\n",
        "        samplewise_center=False,  # set each sample mean to 0\n",
        "        featurewise_std_normalization=False,  # divide inputs by std of the dataset\n",
        "        samplewise_std_normalization=False,  # divide each input by its std\n",
        "        zca_whitening=False,  # apply ZCA whitening\n",
        "        rotation_range=20,  # randomly rotate images in the range (degrees, 0 to 180)\n",
        "        zoom_range = 0.15, # Randomly zoom image \n",
        "        width_shift_range=0.1,  # randomly shift images horizontally (fraction of total width)\n",
        "        height_shift_range=0.1,  # randomly shift images vertically (fraction of total height)\n",
        "        horizontal_flip=False,  # randomly flip images\n",
        "        vertical_flip=False,  # randomly flip images\n",
        "        rescale = 0)"
      ],
      "execution_count": 2,
      "outputs": []
    },
    {
      "cell_type": "code",
      "metadata": {
        "id": "Fo55qyuvAhtr"
      },
      "source": [
        "#datagen.fit(x_train.reshape(-1,28,28,1))\n",
        "train_augment = datagen.flow(x_train.reshape(-1,28,28, 1), y = y_train)"
      ],
      "execution_count": 3,
      "outputs": []
    },
    {
      "cell_type": "code",
      "metadata": {
        "id": "xJLQejPXZhHD"
      },
      "source": [
        "batch_index = 0\n",
        "x_list, y_list = [], []\n",
        "while batch_index <= train_augment.batch_index:\n",
        "    data = train_augment.next()\n",
        "    x_list.append(data[0])\n",
        "    y_list.append(data[1])\n",
        "    batch_index = batch_index + 1\n",
        "\n",
        "x_augment = np.asarray(x_list).reshape(-1,28, 28)\n",
        "y_augment = np.asarray(y_list).reshape(-1, )"
      ],
      "execution_count": 4,
      "outputs": []
    },
    {
      "cell_type": "code",
      "metadata": {
        "id": "n8AFFw2kL0gA"
      },
      "source": [
        "# x_train, y_train = x_augment, y_augment\n",
        "# y_train[0]"
      ],
      "execution_count": 5,
      "outputs": []
    },
    {
      "cell_type": "markdown",
      "metadata": {
        "id": "eCbs-P4EP2k5"
      },
      "source": [
        "##Normalize data and covert labels to one hot labels\n",
        "Reshape image in 3 dimensions (height = 28px, width = 28px , canal = 1)"
      ]
    },
    {
      "cell_type": "code",
      "metadata": {
        "id": "227JlLfPO5O1",
        "outputId": "1a1f63bb-b798-4034-e53c-4c6da1027da8",
        "colab": {
          "base_uri": "https://localhost:8080/"
        }
      },
      "source": [
        "def convert_labels(labels):\n",
        "  one_hot_labels = np.zeros((len(labels),10))\n",
        "  for i,l in enumerate(labels):\n",
        "      one_hot_labels[i][l] = 1\n",
        "  return one_hot_labels\n",
        "\n",
        "images, labels = (x_train[0:10000].reshape(10000,28*28) / 255, y_train[0:10000])\n",
        "labels = convert_labels(labels)\n",
        "x, y_true = images, labels\n",
        "\n",
        "images2, labels2 = (x_augment[10000:20000].reshape(10000,28*28) / 255, y_augment[10000:20000])\n",
        "labels2 = convert_labels(labels2)\n",
        "x2, y_true2 = images2, labels2\n",
        "\n",
        "test_images, test_labels = x_test.reshape(len(x_test),28*28) / 255, y_test\n",
        "test_labels = convert_labels(test_labels)\n",
        "x_test, y_test = test_images, test_labels\n",
        "\n",
        "print(f'images: {images.shape}, labels: {labels.shape}, test_images: {test_images.shape}, test_labels: {test_labels.shape}')"
      ],
      "execution_count": 6,
      "outputs": [
        {
          "output_type": "stream",
          "text": [
            "images: (10000, 784), labels: (10000, 10), test_images: (10000, 784), test_labels: (10000, 10)\n"
          ],
          "name": "stdout"
        }
      ]
    },
    {
      "cell_type": "markdown",
      "metadata": {
        "id": "cf3zmy-kh0zv"
      },
      "source": [
        "#Model construction"
      ]
    },
    {
      "cell_type": "markdown",
      "metadata": {
        "id": "1dnkJttUoQNm"
      },
      "source": [
        "##Construct neural network model with dropout rate\n",
        "The model is constructed with linear->relu->relu->linear, drop out rate can be set on relu layers. <br />\n",
        "Use MSE as loss function."
      ]
    },
    {
      "cell_type": "code",
      "metadata": {
        "id": "IVA2iu1koQkO"
      },
      "source": [
        "class Linear:\n",
        "  def __init__(self, input_dim: int, num_hidden: int = 1):\n",
        "    self.weights = np.random.randn(input_dim, num_hidden) * np.sqrt(2. / input_dim)\n",
        "    self.bias = np.zeros(num_hidden)\n",
        "  \n",
        "  def __call__(self, x):\n",
        "    self.x = x\n",
        "    output = x @ self.weights + self.bias\n",
        "    return output\n",
        "\n",
        "  def backward(self, gradient):\n",
        "    self.weights_gradient = self.x.T @ gradient\n",
        "    self.bias_gradient = gradient.sum(axis=0)\n",
        "    self.x_gradient = gradient @ self.weights.T\n",
        "    return self.x_gradient\n",
        "\n",
        "  def update(self, lr):\n",
        "    self.weights = self.weights - lr * self.weights_gradient\n",
        "    self.bias = self.bias - lr * self.bias_gradient"
      ],
      "execution_count": 7,
      "outputs": []
    },
    {
      "cell_type": "code",
      "metadata": {
        "id": "N_kfAg4u5rrg"
      },
      "source": [
        "class Relu:\n",
        "    def __call__(self, input_, dropout_rate=0):\n",
        "        if dropout_rate > 0:\n",
        "          dropout_mask = np.random.binomial(1, 1-dropout_rate, size=input_.shape)\n",
        "          input_ *= dropout_mask * 2\n",
        "        self.input_ = input_\n",
        "        self.output = np.clip(self.input_, 0, None)\n",
        "        return self.output\n",
        "    \n",
        "    def backward(self, output_gradient):\n",
        "      # import pdb; pdb.set_trace()\n",
        "      self.input_gradient = (self.input_ > 0) * output_gradient\n",
        "      return self.input_gradient\n",
        "\n",
        "class Model:\n",
        "  def __init__(self, input_dim, num_hidden, ouput_dim):\n",
        "    self.linear1 = Linear(input_dim, num_hidden)\n",
        "    self.relu1 = Relu()\n",
        "    self.relu2 = Relu()\n",
        "    self.linear2 = Linear(num_hidden, ouput_dim)\n",
        "  \n",
        "  def __call__(self, x):\n",
        "    l1 = self.linear1(x)\n",
        "    # Do the drop out on the first relu layer\n",
        "    r1 = self.relu1(l1, dropout_rate=0.01)\n",
        "    r2 = self.relu2(r1, dropout_rate=0)\n",
        "    l2 = self.linear2(r2)\n",
        "    return l2\n",
        "  \n",
        "  def backward(self, output_gradient):\n",
        "    linear2_gradient = self.linear2.backward(output_gradient)\n",
        "    relu2_gradient = self.relu2.backward(linear2_gradient)\n",
        "    relu1_gradient = self.relu1.backward(relu2_gradient)\n",
        "    linear1_gradient = self.linear1.backward(relu1_gradient)\n",
        "    # import pdb; pdb.set_trace()\n",
        "    return linear1_gradient\n",
        "\n",
        "  def update(self, lr):\n",
        "    self.linear2.update(lr)\n",
        "    self.linear1.update(lr)"
      ],
      "execution_count": 8,
      "outputs": []
    },
    {
      "cell_type": "code",
      "metadata": {
        "id": "rLE2kWrwBohl"
      },
      "source": [
        "class MSE:\n",
        "  def __call__(self, y_pred, y_true):\n",
        "    self.y_pred = y_pred\n",
        "    self.y_true = y_true\n",
        "    return ((y_pred - y_true) ** 2).mean()\n",
        "\n",
        "  def backward(self):\n",
        "    n = self.y_true.shape[0]\n",
        "    self.gradient = 2. * (self.y_pred - self.y_true) / n\n",
        "    #print('MSE backward', self.y_pred.shape, self.y_true.shape, self.gradient.shape)\n",
        "    return self.gradient"
      ],
      "execution_count": 9,
      "outputs": []
    },
    {
      "cell_type": "markdown",
      "metadata": {
        "id": "H_KResN2BSWL"
      },
      "source": [
        "## Tuning drop out rate result\n",
        "I have tried drop rate 0.1 0.05 0.01 on both relu layers, it appears 0.01 on the first relu layer performs the best."
      ]
    },
    {
      "cell_type": "markdown",
      "metadata": {
        "id": "57nZEGSHwt-Q"
      },
      "source": [
        "# Model training"
      ]
    },
    {
      "cell_type": "markdown",
      "metadata": {
        "id": "fAjQw-_1x4cI"
      },
      "source": [
        "##Initialize the model\n",
        "The model is with 784-d input and 10-d output, 200 neurons for 2 hidden layers"
      ]
    },
    {
      "cell_type": "code",
      "metadata": {
        "colab": {
          "base_uri": "https://localhost:8080/"
        },
        "id": "y-TBs0O2x4cS",
        "outputId": "14178f15-ed6d-4028-dfe0-69f9e4d2a34c"
      },
      "source": [
        "loss = MSE()\n",
        "nonlinear = Model(784, 200, 10)\n",
        "x = images\n",
        "y_true = labels\n",
        "\n",
        "# do one forward propagation and verify loss function\n",
        "y_pred = nonlinear(x)\n",
        "print(loss(y_pred, y_true))"
      ],
      "execution_count": 10,
      "outputs": [
        {
          "output_type": "stream",
          "text": [
            "1.1130260647370191\n"
          ],
          "name": "stdout"
        }
      ]
    },
    {
      "cell_type": "markdown",
      "metadata": {
        "id": "lLk9IANHpw-P"
      },
      "source": [
        "## Define mini batch fit fuction"
      ]
    },
    {
      "cell_type": "markdown",
      "metadata": {
        "id": "PaSGZFf16oHI"
      },
      "source": [
        "Do mini batch gradient descent along with the learning rate"
      ]
    },
    {
      "cell_type": "code",
      "metadata": {
        "id": "KbNQS_vyRuwu"
      },
      "source": [
        "from typing import Callable\n",
        "\n",
        "def fit_by_batch(x: np.ndarray, y: np.ndarray, x_test: np.ndarray, y_test: np.ndarray, model: Callable, loss: Callable, lr: float, num_epochs: int, batch_size: int):\n",
        "  for epoch in range(num_epochs):\n",
        "    correct_cnt = 0\n",
        "    for i in range(int(len(x) / batch_size)):\n",
        "      batch_start, batch_end = ((i * batch_size), ((i+1)*batch_size))\n",
        "      x_batch = x[batch_start: batch_end]\n",
        "      y_batch = y[batch_start: batch_end]\n",
        "      # forward propagation\n",
        "      y_pred_batch = model(x_batch)\n",
        "      loss_value = loss(y_pred_batch, y_batch)\n",
        "      # backward propagation\n",
        "      gradient_from_loss = loss.backward()\n",
        "      model.backward(gradient_from_loss)\n",
        "      # update parameters\n",
        "      model.update(lr)\n",
        "      for k in range(batch_size):\n",
        "        correct_cnt += int(np.argmax(y_pred_batch[k:k+1]) == np.argmax(y_batch[k:k+1]))\n",
        "\n",
        "    if epoch % 100 == 0:\n",
        "      test_correct_cnt = 0\n",
        "      y_pred_test = model(x_test)\n",
        "      for k in range(len(y_test)):\n",
        "        test_correct_cnt += int(np.argmax(y_pred_test[k:k+1]) == np.argmax(y_test[k:k+1]))\n",
        "      print(f'Epoch {epoch},loss {loss_value}, correct_rate {correct_cnt/float(len(y))}, test_correct_rate {test_correct_cnt/float(len(y_test))}')\n"
      ],
      "execution_count": 11,
      "outputs": []
    },
    {
      "cell_type": "markdown",
      "metadata": {
        "id": "l0RgGDBt5_5x"
      },
      "source": [
        "##Train the data with mini batch and learning rate\n",
        "Tuning learning rate and batch size results\n",
        "I have tried learning rate 0.1 0.05 0.01 and 0.001, in which 0.01 is the best in terms of converging speed and final test accuracy rate. <br />\n",
        "Also, tried batch size 32 100 200, in which 100 performs best in terms of the test accuracy."
      ]
    },
    {
      "cell_type": "code",
      "metadata": {
        "colab": {
          "base_uri": "https://localhost:8080/"
        },
        "id": "KXZ4a53-TLCP",
        "outputId": "ca0641cb-ca41-40c4-c276-4568d3a4f5f1"
      },
      "source": [
        "fit_by_batch(x, y_true, x_test, y_test, model=nonlinear, loss=loss, lr=0.01, num_epochs=500, batch_size=100)\n",
        "\n",
        "y_pred = nonlinear(x)"
      ],
      "execution_count": 12,
      "outputs": [
        {
          "output_type": "stream",
          "text": [
            "Epoch 0,loss 0.0790938954795561, correct_rate 0.4984, test_correct_rate 0.6478\n",
            "Epoch 100,loss 0.010856181700815365, correct_rate 0.9604, test_correct_rate 0.9339\n",
            "Epoch 200,loss 0.007510213345112332, correct_rate 0.9758, test_correct_rate 0.9422\n",
            "Epoch 300,loss 0.006545226123050028, correct_rate 0.9834, test_correct_rate 0.9468\n",
            "Epoch 400,loss 0.005724241212327652, correct_rate 0.9871, test_correct_rate 0.9479\n"
          ],
          "name": "stdout"
        }
      ]
    },
    {
      "cell_type": "code",
      "metadata": {
        "colab": {
          "base_uri": "https://localhost:8080/"
        },
        "id": "Z1U2v1gnF07P",
        "outputId": "601dabf5-4298-4b97-d0b7-177368abb786"
      },
      "source": [
        "fit_by_batch(x2, y_true2, x_test, y_test, model=nonlinear, loss=loss, lr=0.01, num_epochs=500, batch_size=100)\n",
        "\n",
        "y_pred = nonlinear(x)"
      ],
      "execution_count": 15,
      "outputs": [
        {
          "output_type": "stream",
          "text": [
            "Epoch 0,loss 0.03493561399069084, correct_rate 0.8535, test_correct_rate 0.9494\n"
          ],
          "name": "stdout"
        }
      ]
    },
    {
      "cell_type": "markdown",
      "metadata": {
        "id": "qAnQLmI6k26a"
      },
      "source": [
        "# Model evaluation"
      ]
    },
    {
      "cell_type": "markdown",
      "metadata": {
        "id": "r2DS-bnPoxUB"
      },
      "source": [
        "## Plot confusion matrix"
      ]
    },
    {
      "cell_type": "code",
      "metadata": {
        "id": "_rb7hnNNoxce",
        "outputId": "ef6a8d4e-f4f9-45a4-c5d4-fc700bd98e28",
        "colab": {
          "base_uri": "https://localhost:8080/",
          "height": 311
        }
      },
      "source": [
        "from sklearn.metrics import confusion_matrix\n",
        "import itertools\n",
        "\n",
        "def plot_confusion_matrix(cm, classes,\n",
        "                          normalize=False,\n",
        "                          title='Confusion matrix',\n",
        "                          cmap=plt.cm.Blues):\n",
        "    \"\"\"\n",
        "    This function prints and plots the confusion matrix.\n",
        "    Normalization can be applied by setting `normalize=True`.\n",
        "    \"\"\"\n",
        "    plt.imshow(cm, interpolation='nearest', cmap=cmap)\n",
        "    plt.title(title)\n",
        "    plt.colorbar()\n",
        "    tick_marks = np.arange(len(classes))\n",
        "    plt.xticks(tick_marks, classes, rotation=45)\n",
        "    plt.yticks(tick_marks, classes)\n",
        "\n",
        "    if normalize:\n",
        "        cm = cm.astype('float') / cm.sum(axis=1)[:, np.newaxis]\n",
        "\n",
        "    thresh = cm.max() / 2.\n",
        "    for i, j in itertools.product(range(cm.shape[0]), range(cm.shape[1])):\n",
        "        plt.text(j, i, cm[i, j],\n",
        "                 horizontalalignment=\"center\",\n",
        "                 color=\"white\" if cm[i, j] > thresh else \"black\")\n",
        "\n",
        "    plt.tight_layout()\n",
        "    plt.ylabel('True label')\n",
        "    plt.xlabel('Predicted label')\n",
        "\n",
        "Y_pred = nonlinear(x_test)\n",
        "# Convert predictions classes to one hot vectors \n",
        "Y_pred_classes = np.argmax(Y_pred,axis = 1) \n",
        "# Convert validation observations to one hot vectors\n",
        "Y_true = np.argmax(y_test,axis = 1) \n",
        "confusion_mtx = confusion_matrix(Y_true, Y_pred_classes) \n",
        "plot_confusion_matrix(confusion_mtx, classes = range(10)) "
      ],
      "execution_count": 17,
      "outputs": [
        {
          "output_type": "display_data",
          "data": {
            "image/png": "[encoded data removed]",
            "text/plain": [
              "<Figure size 432x288 with 2 Axes>"
            ]
          },
          "metadata": {
            "tags": [],
            "needs_background": "light"
          }
        }
      ]
    }
  ]
}